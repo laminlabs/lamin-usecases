{
 "cells": [
  {
   "cell_type": "markdown",
   "id": "0",
   "metadata": {},
   "source": [
    "[![hub](https://img.shields.io/badge/Source%20%26%20report%20-mediumseagreen)](https://lamin.ai/laminlabs/arc-virtual-cell-atlas/transform/l6GZa1J999W5)"
   ]
  },
  {
   "cell_type": "markdown",
   "id": "1",
   "metadata": {},
   "source": [
    "# Arc Virtual Cell Atlas: scRNA-seq"
   ]
  },
  {
   "cell_type": "markdown",
   "id": "2",
   "metadata": {},
   "source": [
    "The [Arc Virtual Cell Atlas](https://github.com/ArcInstitute/arc-virtual-cell-atlas) hosts one of the biggest collections of scRNA-seq datasets.\n",
    "\n",
    "Lamin mirrors the dataset for simplified access here: [laminlabs/arc-virtual-cell-atlas](https://lamin.ai/laminlabs/arc-virtual-cell-atlas).\n",
    "\n",
    "If you use the data academically, please cite the original publications, [Youngblut _et al._ (2025)](https://arcinstitute.org/manuscripts/scBaseCount) and [Zhang _et al._ (2025)](https://biorxiv.org/10.1101/2025.02.20.639398)."
   ]
  },
  {
   "cell_type": "markdown",
   "id": "3",
   "metadata": {},
   "source": [
    "Connect to the source instance."
   ]
  },
  {
   "cell_type": "code",
   "execution_count": null,
   "id": "4",
   "metadata": {
    "tags": [
     "hide-output"
    ]
   },
   "outputs": [],
   "source": [
    "# pip install 'lamindb[wetlab,gcp]'\n",
    "!lamin connect laminlabs/arc-virtual-cell-atlas"
   ]
  },
  {
   "cell_type": "markdown",
   "id": "5",
   "metadata": {},
   "source": [
    "```{note}\n",
    "\n",
    "If you want to transfer artifacts or metadata into your own instance, use `.using(\"laminlabs/arc-virtual-cell-atlas\")` when accessing registries and then `.save()` ({doc}`/transfer`).\n",
    "\n",
    "```"
   ]
  },
  {
   "cell_type": "code",
   "execution_count": null,
   "id": "6",
   "metadata": {
    "tags": [
     "hide-output"
    ]
   },
   "outputs": [],
   "source": [
    "import lamindb as ln\n",
    "import bionty as bt\n",
    "import wetlab as wl\n",
    "import pyarrow.compute as pc\n",
    "import anndata as ad"
   ]
  },
  {
   "cell_type": "markdown",
   "id": "7",
   "metadata": {},
   "source": [
    "## Tahoe-100M"
   ]
  },
  {
   "cell_type": "code",
   "execution_count": null,
   "id": "8",
   "metadata": {},
   "outputs": [],
   "source": [
    "project_tahoe = ln.Project.get(name=\"Tahoe-100M\")\n",
    "project_tahoe"
   ]
  },
  {
   "cell_type": "code",
   "execution_count": null,
   "id": "9",
   "metadata": {},
   "outputs": [],
   "source": [
    "# one collection in this project\n",
    "project_tahoe.collections.to_dataframe()"
   ]
  },
  {
   "cell_type": "markdown",
   "id": "10",
   "metadata": {},
   "source": [
    "Every individual dataset in the atlas is an `.h5ad` file that is registered as an artifact in LaminDB.\n",
    "\n",
    "Artifact level metadata are registered and can be explored as follows:"
   ]
  },
  {
   "cell_type": "code",
   "execution_count": null,
   "id": "11",
   "metadata": {
    "tags": [
     "hide-output"
    ]
   },
   "outputs": [],
   "source": [
    "# get the collection: https://lamin.ai/laminlabs/arc-virtual-cell-atlas/collection/BpavRL4ntRTzWEE5\n",
    "collection_tahoe = ln.Collection.get(key=\"tahoe100\")\n",
    "# 14 artifacts in this collection, each correspond to a plate\n",
    "artifacts_tahoe = collection_tahoe.artifacts.distinct()\n",
    "artifacts_tahoe.to_dataframe()"
   ]
  },
  {
   "cell_type": "markdown",
   "id": "12",
   "metadata": {},
   "source": [
    "50 cell lines."
   ]
  },
  {
   "cell_type": "code",
   "execution_count": null,
   "id": "13",
   "metadata": {},
   "outputs": [],
   "source": [
    "artifacts_tahoe.list(\"cell_lines__name\")[:5]"
   ]
  },
  {
   "cell_type": "markdown",
   "id": "14",
   "metadata": {},
   "source": [
    "380 compounds."
   ]
  },
  {
   "cell_type": "code",
   "execution_count": null,
   "id": "15",
   "metadata": {},
   "outputs": [],
   "source": [
    "artifacts_tahoe.list(\"compounds__name\")[:5]"
   ]
  },
  {
   "cell_type": "markdown",
   "id": "16",
   "metadata": {},
   "source": [
    "1,138 perturbations."
   ]
  },
  {
   "cell_type": "code",
   "execution_count": null,
   "id": "17",
   "metadata": {},
   "outputs": [],
   "source": [
    "artifacts_tahoe.list(\"compound_perturbations__name\")[:5]"
   ]
  },
  {
   "cell_type": "code",
   "execution_count": null,
   "id": "18",
   "metadata": {
    "tags": [
     "hide-output"
    ]
   },
   "outputs": [],
   "source": [
    "# check the curated metadata of the first artifact\n",
    "artifact1 = artifacts_tahoe[0]\n",
    "# artifact1.describe()"
   ]
  },
  {
   "cell_type": "markdown",
   "id": "19",
   "metadata": {},
   "source": [
    "16 obs metadata features."
   ]
  },
  {
   "cell_type": "code",
   "execution_count": null,
   "id": "20",
   "metadata": {
    "tags": [
     "hide-output"
    ]
   },
   "outputs": [],
   "source": [
    "artifact1.features[\"obs\"].to_dataframe()"
   ]
  },
  {
   "cell_type": "markdown",
   "id": "21",
   "metadata": {},
   "source": [
    "### Query artifacts of interest based on metadata\n",
    "\n",
    "Since all metadata are registered in the sql database, we can explore the datasets without accessing them.\n",
    "\n",
    "Let's find which datasets contain A549 cells perturbed with Piroxicam."
   ]
  },
  {
   "cell_type": "code",
   "execution_count": null,
   "id": "22",
   "metadata": {},
   "outputs": [],
   "source": [
    "# lookup objects give you pythonic access to the values\n",
    "cell_lines = bt.CellLine.lookup(\"ontology_id\")\n",
    "drugs = wl.Compound.lookup()\n",
    "\n",
    "artifacts_a549_piroxicam = artifacts_tahoe.filter(\n",
    "    cell_lines=cell_lines.cvcl_0023, compounds=drugs.piroxicam\n",
    ")\n",
    "artifacts_a549_piroxicam.to_dataframe()"
   ]
  },
  {
   "cell_type": "markdown",
   "id": "23",
   "metadata": {},
   "source": [
    "You can download an `.h5ad` into your local cache:\n",
    "\n",
    "```python\n",
    "artifact1.cache()\n",
    "```\n",
    "\n",
    "Or stream it:\n",
    "```python\n",
    "artifact1.open()\n",
    "```\n"
   ]
  },
  {
   "cell_type": "markdown",
   "id": "24",
   "metadata": {},
   "source": [
    "### Open the obs metadata parquet file as a PyArrow Dataset\n",
    "\n",
    "Open the obs metadata file (2.29G) with `PyArrow.Dataset`."
   ]
  },
  {
   "cell_type": "code",
   "execution_count": null,
   "id": "25",
   "metadata": {},
   "outputs": [],
   "source": [
    "obs_metadata = ln.Artifact.filter(\n",
    "    key__endswith=\"obs_metadata.parquet\", projects=project_tahoe\n",
    ").one()\n",
    "obs_metadata"
   ]
  },
  {
   "cell_type": "code",
   "execution_count": null,
   "id": "26",
   "metadata": {
    "tags": [
     "hide-output"
    ]
   },
   "outputs": [],
   "source": [
    "obs_metadata_ds = obs_metadata.open()\n",
    "obs_metadata_ds.schema"
   ]
  },
  {
   "cell_type": "markdown",
   "id": "27",
   "metadata": {},
   "source": [
    "Which A549 cells are perturbed with Piroxicam."
   ]
  },
  {
   "cell_type": "markdown",
   "id": "28",
   "metadata": {},
   "source": [
    "```python\n",
    "filter_expr = (pc.field(\"cell_name\") == cell_lines.cvcl_0023.name) & (\n",
    "    pc.field(\"drug\") == drugs.piroxicam.name\n",
    ")\n",
    "obs_metadata_df = obs_metadata_ds.scanner(filter=filter_expr).to_table().to_pandas()\n",
    "obs_metadata_df.value_counts(\"plate\")\n",
    "```"
   ]
  },
  {
   "cell_type": "markdown",
   "id": "29",
   "metadata": {},
   "source": [
    "Retrieve the corresponding cells from h5ad files.\n",
    "\n",
    "```python\n",
    "plate_cells = df.groupby(\"plate\")[\"BARCODE_SUB_LIB_ID\"].apply(list)\n",
    "\n",
    "adatas = []\n",
    "for artifact in artifacts_a549_piroxicam:\n",
    "    plate = artifact.features.get_values()[\"plate\"]\n",
    "    idxs = plate_cells.get(plate)\n",
    "    print(f\"Loading {len(idxs)} cells from plate {plate}\")\n",
    "    with artifact.open() as store:\n",
    "        adata = store[idxs].to_memory() # can also subst genes here\n",
    "        adatas.append(adata)\n",
    "```"
   ]
  },
  {
   "cell_type": "markdown",
   "id": "30",
   "metadata": {},
   "source": [
    "## scBaseCount"
   ]
  },
  {
   "cell_type": "code",
   "execution_count": null,
   "id": "31",
   "metadata": {},
   "outputs": [],
   "source": [
    "project_scbasecount = ln.Project.get(name=\"scBaseCount\")\n",
    "project_scbasecount"
   ]
  },
  {
   "cell_type": "markdown",
   "id": "32",
   "metadata": {},
   "source": [
    "This project has 105 collections (21 organisms x 5 count features):"
   ]
  },
  {
   "cell_type": "code",
   "execution_count": null,
   "id": "33",
   "metadata": {
    "tags": [
     "hide-output"
    ]
   },
   "outputs": [],
   "source": [
    "project_scbasecount.collections.to_dataframe()"
   ]
  },
  {
   "cell_type": "markdown",
   "id": "34",
   "metadata": {},
   "source": [
    "### Query artifacts of interest based on metadata\n",
    "\n",
    "Often you might not want to access all the h5ads in a collection, but rather filter them by metadata:"
   ]
  },
  {
   "cell_type": "code",
   "execution_count": null,
   "id": "35",
   "metadata": {},
   "outputs": [],
   "source": [
    "organisms = bt.Organism.lookup()\n",
    "tissues = bt.Tissue.lookup()\n",
    "efos = bt.ExperimentalFactor.lookup()\n",
    "feature_counts = ln.ULabel.filter(type__name=\"STARsolo count features\").lookup()"
   ]
  },
  {
   "cell_type": "code",
   "execution_count": null,
   "id": "36",
   "metadata": {
    "tags": [
     "hide-output"
    ]
   },
   "outputs": [],
   "source": [
    "h5ads_brain = ln.Artifact.filter(\n",
    "    suffix=\".h5ad\",\n",
    "    projects=project_scbasecount,\n",
    "    organisms=organisms.human,\n",
    "    ulabels=feature_counts.genefull_ex50pas,\n",
    "    tissues=tissues.brain,\n",
    "    experimental_factors=efos.single_cell,\n",
    "    experiments__name__contains=\"CRISPRi\",  # `perturbation` column is registered in `wetlab.Experiment`\n",
    ").distinct()\n",
    "\n",
    "h5ads_brain.to_dataframe()"
   ]
  },
  {
   "cell_type": "markdown",
   "id": "37",
   "metadata": {},
   "source": [
    "### Load the h5ad files with obs metadata"
   ]
  },
  {
   "cell_type": "markdown",
   "id": "38",
   "metadata": {},
   "source": [
    "Load the h5ads as a single AnnData:"
   ]
  },
  {
   "cell_type": "code",
   "execution_count": null,
   "id": "39",
   "metadata": {
    "tags": [
     "hide-output"
    ]
   },
   "outputs": [],
   "source": [
    "adatas = []\n",
    "for artifact in h5ads_brain[:5]:  # only load the first 5 artifacts to save CI time\n",
    "    adatas.append(artifact.load())\n",
    "\n",
    "# the obs metadatas are present in the parquet files\n",
    "adata_concat = ad.concat(adatas)\n",
    "adata_concat"
   ]
  },
  {
   "cell_type": "markdown",
   "id": "40",
   "metadata": {},
   "source": [
    "Open the sample metadata:"
   ]
  },
  {
   "cell_type": "code",
   "execution_count": null,
   "id": "41",
   "metadata": {},
   "outputs": [],
   "source": [
    "sample_meta = ln.Artifact.filter(\n",
    "    key__endswith=\"sample_metadata.parquet\",\n",
    "    projects=project_scbasecount,\n",
    "    organisms=organisms.human,\n",
    "    ulabels=feature_counts.genefull_ex50pas,\n",
    ").one()\n",
    "\n",
    "sample_meta"
   ]
  },
  {
   "cell_type": "code",
   "execution_count": null,
   "id": "42",
   "metadata": {
    "tags": [
     "hide-output"
    ]
   },
   "outputs": [],
   "source": [
    "sample_meta_dataset = sample_meta.open()\n",
    "sample_meta_dataset.schema"
   ]
  },
  {
   "cell_type": "markdown",
   "id": "43",
   "metadata": {},
   "source": [
    "Fetch corresponding sample metadata:"
   ]
  },
  {
   "cell_type": "code",
   "execution_count": null,
   "id": "44",
   "metadata": {},
   "outputs": [],
   "source": [
    "filter_expr = pc.field(\"srx_accession\").isin(\n",
    "    adata_concat.obs[\"SRX_accession\"].astype(str)\n",
    ")\n",
    "df = sample_meta_dataset.scanner(filter=filter_expr).to_table().to_pandas()"
   ]
  },
  {
   "cell_type": "markdown",
   "id": "45",
   "metadata": {},
   "source": [
    "Add the sample metadata to the AnnData:"
   ]
  },
  {
   "cell_type": "code",
   "execution_count": null,
   "id": "46",
   "metadata": {},
   "outputs": [],
   "source": [
    "adata_concat.obs = adata_concat.obs.merge(\n",
    "    df, left_on=\"SRX_accession\", right_on=\"srx_accession\"\n",
    ")\n",
    "adata_concat"
   ]
  },
  {
   "cell_type": "code",
   "execution_count": null,
   "id": "47",
   "metadata": {
    "tags": [
     "hide-output"
    ]
   },
   "outputs": [],
   "source": [
    "adata_concat.obs.head()"
   ]
  }
 ],
 "metadata": {
  "kernelspec": {
   "display_name": "py312",
   "language": "python",
   "name": "python3"
  },
  "language_info": {
   "codemirror_mode": {
    "name": "ipython",
    "version": 3
   },
   "file_extension": ".py",
   "mimetype": "text/x-python",
   "name": "python",
   "nbconvert_exporter": "python",
   "pygments_lexer": "ipython3",
   "version": "3.12.8"
  },
  "nbproject": {
   "id": "5FUyJ6RkVk0D",
   "parent": null,
   "pypackage": null,
   "time_init": "2023-09-05T14:45:21.919899+00:00",
   "user_handle": "sunnyosun",
   "user_id": "kmvZDIX9",
   "user_name": "Sunny Sun",
   "version": "0"
  }
 },
 "nbformat": 4,
 "nbformat_minor": 5
}
