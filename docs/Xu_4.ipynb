{
 "cells": [
  {
   "cell_type": "markdown",
   "id": "7994b685-1eb4-4bd2-a210-1bc1f518cf99",
   "metadata": {},
   "source": [
    "### Now we can also find other Breast Cancer Datasets from popular Atlases\n",
    "---\n",
    "Atlases provide centralized access to data with standardized metadata."
   ]
  },
  {
   "cell_type": "code",
   "execution_count": 2,
   "id": "66e73b0d-af63-436f-8199-4e39e2d7ae27",
   "metadata": {},
   "outputs": [
    {
     "name": "stdout",
     "output_type": "stream",
     "text": [
      "\u001b[92m→\u001b[0m connected lamindb: laminlabs/cellxgene\n"
     ]
    }
   ],
   "source": [
    "!lamin load laminlabs/cellxgene"
   ]
  },
  {
   "cell_type": "code",
   "execution_count": 1,
   "id": "0344178b-627d-4e03-9e6e-756899ece8c2",
   "metadata": {},
   "outputs": [
    {
     "name": "stdout",
     "output_type": "stream",
     "text": [
      "\u001b[92m→\u001b[0m connected lamindb: laminlabs/lamindata\n"
     ]
    }
   ],
   "source": [
    "import lamindb as ln\n",
    "import bionty as bt"
   ]
  },
  {
   "cell_type": "code",
   "execution_count": 3,
   "id": "a6eafc96-2236-4e55-9ced-c9a7f73af771",
   "metadata": {},
   "outputs": [],
   "source": [
    "import scanpy as sc\n",
    "import anndata as ad"
   ]
  },
  {
   "cell_type": "code",
   "execution_count": null,
   "id": "1a27813d",
   "metadata": {},
   "outputs": [],
   "source": [
    "!lamin info"
   ]
  },
  {
   "cell_type": "code",
   "execution_count": null,
   "id": "667f11a6-2c5a-476c-80ae-5d0c70ffcfd8",
   "metadata": {},
   "outputs": [],
   "source": [
    "disease = bt.Disease.lookup()\n",
    "# OperationalError: connection to server at \"database2.cmyfs24wugc3.us-east-1.rds.amazonaws.com\" (3.211.54.97), port 5432 failed: Operation timed out\n",
    "#\tIs the server running on that host and accepting TCP/IP connections?"
   ]
  },
  {
   "cell_type": "code",
   "execution_count": null,
   "id": "6e1fe1bb-0279-4869-956c-f97b8e985a35",
   "metadata": {},
   "outputs": [],
   "source": [
    "disease.breast_cancer"
   ]
  },
  {
   "cell_type": "code",
   "execution_count": null,
   "id": "39f34b73-0234-4a11-8253-c3d2f2f5d391",
   "metadata": {},
   "outputs": [],
   "source": [
    "ln.Artifact.filter(\n",
    "    suffix=\".h5ad\",  \n",
    "    diseases__in=[\n",
    "        disease.breast_cancer,\n",
    "        disease.breast_carcinoma\n",
    "    ],  \n",
    ").order_by(\"created_at\").df().head()"
   ]
  },
  {
   "cell_type": "code",
   "execution_count": null,
   "id": "f2eebb5e-4777-416f-acd3-18bdab584c5b",
   "metadata": {},
   "outputs": [],
   "source": [
    "breast_artifact = ln.Artifact.get(\"F9rOMRMmMBhxmtbNkf8o\")"
   ]
  },
  {
   "cell_type": "code",
   "execution_count": 21,
   "id": "a639f68e-b06a-4cd8-bb63-e548c1a647cd",
   "metadata": {},
   "outputs": [
    {
     "name": "stdout",
     "output_type": "stream",
     "text": [
      "\u001b[93m!\u001b[0m This is not the latest version of the Artifact.\n",
      "\u001b[93m!\u001b[0m This is not the latest version of the Artifact.\n"
     ]
    },
    {
     "data": {
      "text/html": [
       "<pre style=\"white-space:pre;overflow-x:auto;line-height:normal;font-family:Menlo,'DejaVu Sans Mono',consolas,'Courier New',monospace\"><span style=\"font-weight: bold\">Artifact</span><span style=\"color: #7f7f7f; text-decoration-color: #7f7f7f; font-weight: bold\"> .h5ad/AnnData</span>\n",
       "<span style=\"color: #7f7f7f; text-decoration-color: #7f7f7f\">├── </span><span style=\"color: #00ffff; text-decoration-color: #00ffff; font-weight: bold\">General</span>\n",
       "<span style=\"color: #7f7f7f; text-decoration-color: #7f7f7f\">│   ├── </span>.uid = 'F9rOMRMmMBhxmtbNkf8o'\n",
       "<span style=\"color: #7f7f7f; text-decoration-color: #7f7f7f\">│   ├── </span>.key = 'cell-census/2023-07-25/h5ads/396a9124-fb20-4822-bf9c-e93fdf7c999a.h5ad'\n",
       "<span style=\"color: #7f7f7f; text-decoration-color: #7f7f7f\">│   ├── </span>.size = 88629515\n",
       "<span style=\"color: #7f7f7f; text-decoration-color: #7f7f7f\">│   ├── </span>.hash = '_gx63eoVgdJp2hOSSKMM-w'\n",
       "<span style=\"color: #7f7f7f; text-decoration-color: #7f7f7f\">│   ├── </span>.n_observations = 12510\n",
       "<span style=\"color: #7f7f7f; text-decoration-color: #7f7f7f\">│   ├── </span>.version = '2023-07-25'\n",
       "<span style=\"color: #7f7f7f; text-decoration-color: #7f7f7f\">│   ├── </span>.path = <span style=\"color: #7f7f7f; text-decoration-color: #7f7f7f\">s3://cellxgene-data-public</span>/cell-census/2023-07-25/h5ads/396a9124-fb20-4822-bf9c-e93fdf7c999a.h5ad\n",
       "<span style=\"color: #7f7f7f; text-decoration-color: #7f7f7f\">│   ├── </span>.created_by = sunnyosun (Sunny Sun)\n",
       "<span style=\"color: #7f7f7f; text-decoration-color: #7f7f7f\">│   ├── </span>.created_at = <span style=\"color: #7f7f7f; text-decoration-color: #7f7f7f\">2023-11-28 21:46:00</span>\n",
       "<span style=\"color: #7f7f7f; text-decoration-color: #7f7f7f\">│   └── </span><span style=\"color: #00d7af; text-decoration-color: #00d7af\">.transform = 'Register files from Census release 2023-07-25'</span>\n",
       "<span style=\"color: #7f7f7f; text-decoration-color: #7f7f7f\">├── </span><span style=\"color: #ff00ff; text-decoration-color: #ff00ff; font-weight: bold\">Dataset features</span><span style=\"color: #7f7f7f; text-decoration-color: #7f7f7f\">/</span><span style=\"color: #7f7f7f; text-decoration-color: #7f7f7f; font-weight: bold\">.feature_sets</span>\n",
       "<span style=\"color: #7f7f7f; text-decoration-color: #7f7f7f\">│   ├── </span><span style=\"color: #d787ff; text-decoration-color: #d787ff; font-weight: bold\">var</span><span style=\"color: #7f7f7f; text-decoration-color: #7f7f7f; font-weight: bold\"> • </span><span style=\"color: #ffafd7; text-decoration-color: #ffafd7; font-weight: bold\">33234</span><span style=\"font-weight: bold\">                 </span><span style=\"color: #ffafd7; text-decoration-color: #ffafd7; font-weight: bold\">[bionty.Gene]</span><span style=\"font-weight: bold\">                                                       </span>\n",
       "<span style=\"color: #7f7f7f; text-decoration-color: #7f7f7f\">│   │   </span>EBF1                       <span style=\"color: #7f7f7f; text-decoration-color: #7f7f7f\"> num                       </span>                                          \n",
       "<span style=\"color: #7f7f7f; text-decoration-color: #7f7f7f\">│   │   </span>LINC02202                  <span style=\"color: #7f7f7f; text-decoration-color: #7f7f7f\"> num                       </span>                                          \n",
       "<span style=\"color: #7f7f7f; text-decoration-color: #7f7f7f\">│   │   </span>RNF145                     <span style=\"color: #7f7f7f; text-decoration-color: #7f7f7f\"> num                       </span>                                          \n",
       "<span style=\"color: #7f7f7f; text-decoration-color: #7f7f7f\">│   │   </span>LINC01932                  <span style=\"color: #7f7f7f; text-decoration-color: #7f7f7f\"> num                       </span>                                          \n",
       "<span style=\"color: #7f7f7f; text-decoration-color: #7f7f7f\">│   │   </span>UBLCP1                     <span style=\"color: #7f7f7f; text-decoration-color: #7f7f7f\"> num                       </span>                                          \n",
       "<span style=\"color: #7f7f7f; text-decoration-color: #7f7f7f\">│   │   </span>IL12B                      <span style=\"color: #7f7f7f; text-decoration-color: #7f7f7f\"> num                       </span>                                          \n",
       "<span style=\"color: #7f7f7f; text-decoration-color: #7f7f7f\">│   │   </span>LINC01845                  <span style=\"color: #7f7f7f; text-decoration-color: #7f7f7f\"> num                       </span>                                          \n",
       "<span style=\"color: #7f7f7f; text-decoration-color: #7f7f7f\">│   │   </span>LINC01847                  <span style=\"color: #7f7f7f; text-decoration-color: #7f7f7f\"> num                       </span>                                          \n",
       "<span style=\"color: #7f7f7f; text-decoration-color: #7f7f7f\">│   │   </span>ADRA1B                     <span style=\"color: #7f7f7f; text-decoration-color: #7f7f7f\"> num                       </span>                                          \n",
       "<span style=\"color: #7f7f7f; text-decoration-color: #7f7f7f\">│   │   </span>TTC1                       <span style=\"color: #7f7f7f; text-decoration-color: #7f7f7f\"> num                       </span>                                          \n",
       "<span style=\"color: #7f7f7f; text-decoration-color: #7f7f7f\">│   │   </span>PWWP2A                     <span style=\"color: #7f7f7f; text-decoration-color: #7f7f7f\"> num                       </span>                                          \n",
       "<span style=\"color: #7f7f7f; text-decoration-color: #7f7f7f\">│   │   </span>FABP6                      <span style=\"color: #7f7f7f; text-decoration-color: #7f7f7f\"> num                       </span>                                          \n",
       "<span style=\"color: #7f7f7f; text-decoration-color: #7f7f7f\">│   │   </span>FABP6-AS1                  <span style=\"color: #7f7f7f; text-decoration-color: #7f7f7f\"> num                       </span>                                          \n",
       "<span style=\"color: #7f7f7f; text-decoration-color: #7f7f7f\">│   │   </span>CCNJL                      <span style=\"color: #7f7f7f; text-decoration-color: #7f7f7f\"> num                       </span>                                          \n",
       "<span style=\"color: #7f7f7f; text-decoration-color: #7f7f7f\">│   └── </span><span style=\"color: #d787ff; text-decoration-color: #d787ff; font-weight: bold\">obs</span><span style=\"color: #7f7f7f; text-decoration-color: #7f7f7f; font-weight: bold\"> • </span><span style=\"color: #ffafd7; text-decoration-color: #ffafd7; font-weight: bold\">11</span><span style=\"font-weight: bold\">                    </span><span style=\"color: #ffafd7; text-decoration-color: #ffafd7; font-weight: bold\">[Feature]</span><span style=\"font-weight: bold\">                                                           </span>\n",
       "<span style=\"color: #7f7f7f; text-decoration-color: #7f7f7f\">│       </span>donor_id                   <span style=\"color: #7f7f7f; text-decoration-color: #7f7f7f\"> cat[ULabel]               </span> P01, P02, P03, P04, P05, P06, P07, P09, …\n",
       "<span style=\"color: #7f7f7f; text-decoration-color: #7f7f7f\">│       </span>suspension_type            <span style=\"color: #7f7f7f; text-decoration-color: #7f7f7f\"> cat[ULabel]               </span> cell                                     \n",
       "<span style=\"color: #7f7f7f; text-decoration-color: #7f7f7f\">│       </span>tissue_type                <span style=\"color: #7f7f7f; text-decoration-color: #7f7f7f\"> cat[ULabel]               </span> tissue                                   \n",
       "<span style=\"color: #7f7f7f; text-decoration-color: #7f7f7f\">│       </span>assay                      <span style=\"color: #7f7f7f; text-decoration-color: #7f7f7f\"> cat[bionty.ExperimentalF… </span>                                          \n",
       "<span style=\"color: #7f7f7f; text-decoration-color: #7f7f7f\">│       </span>cell_type                  <span style=\"color: #7f7f7f; text-decoration-color: #7f7f7f\"> cat[bionty.CellType]      </span>                                          \n",
       "<span style=\"color: #7f7f7f; text-decoration-color: #7f7f7f\">│       </span>development_stage          <span style=\"color: #7f7f7f; text-decoration-color: #7f7f7f\"> cat[bionty.Developmental… </span>                                          \n",
       "<span style=\"color: #7f7f7f; text-decoration-color: #7f7f7f\">│       </span>disease                    <span style=\"color: #7f7f7f; text-decoration-color: #7f7f7f\"> cat[bionty.Disease]       </span>                                          \n",
       "<span style=\"color: #7f7f7f; text-decoration-color: #7f7f7f\">│       </span>self_reported_ethnicity    <span style=\"color: #7f7f7f; text-decoration-color: #7f7f7f\"> cat[bionty.Ethnicity]     </span>                                          \n",
       "<span style=\"color: #7f7f7f; text-decoration-color: #7f7f7f\">│       </span>sex                        <span style=\"color: #7f7f7f; text-decoration-color: #7f7f7f\"> cat[bionty.Phenotype]     </span>                                          \n",
       "<span style=\"color: #7f7f7f; text-decoration-color: #7f7f7f\">│       </span>tissue                     <span style=\"color: #7f7f7f; text-decoration-color: #7f7f7f\"> cat[bionty.Tissue]        </span>                                          \n",
       "<span style=\"color: #7f7f7f; text-decoration-color: #7f7f7f\">│       </span>organism                   <span style=\"color: #7f7f7f; text-decoration-color: #7f7f7f\"> cat[bionty.Organism]      </span>                                          \n",
       "<span style=\"color: #7f7f7f; text-decoration-color: #7f7f7f\">└── </span><span style=\"color: #afff00; text-decoration-color: #afff00; font-weight: bold\">Labels</span>\n",
       "<span style=\"color: #7f7f7f; text-decoration-color: #7f7f7f\">    └── </span>.organisms                 <span style=\"color: #7f7f7f; text-decoration-color: #7f7f7f\"> bionty.Organism           </span> human                                    \n",
       "<span style=\"color: #7f7f7f; text-decoration-color: #7f7f7f\">        </span>.tissues                   <span style=\"color: #7f7f7f; text-decoration-color: #7f7f7f\"> bionty.Tissue             </span> breast                                   \n",
       "<span style=\"color: #7f7f7f; text-decoration-color: #7f7f7f\">        </span>.cell_types                <span style=\"color: #7f7f7f; text-decoration-color: #7f7f7f\"> bionty.CellType           </span> IgG plasma cell, IgA plasma cell, unswit…\n",
       "<span style=\"color: #7f7f7f; text-decoration-color: #7f7f7f\">        </span>.diseases                  <span style=\"color: #7f7f7f; text-decoration-color: #7f7f7f\"> bionty.Disease            </span> breast cancer, normal                    \n",
       "<span style=\"color: #7f7f7f; text-decoration-color: #7f7f7f\">        </span>.phenotypes                <span style=\"color: #7f7f7f; text-decoration-color: #7f7f7f\"> bionty.Phenotype          </span> female                                   \n",
       "<span style=\"color: #7f7f7f; text-decoration-color: #7f7f7f\">        </span>.experimental_factors      <span style=\"color: #7f7f7f; text-decoration-color: #7f7f7f\"> bionty.ExperimentalFactor </span> 10x 3' v3, 10x 3' v2                     \n",
       "<span style=\"color: #7f7f7f; text-decoration-color: #7f7f7f\">        </span>.developmental_stages      <span style=\"color: #7f7f7f; text-decoration-color: #7f7f7f\"> bionty.DevelopmentalStage </span> mature stage                             \n",
       "<span style=\"color: #7f7f7f; text-decoration-color: #7f7f7f\">        </span>.ethnicities               <span style=\"color: #7f7f7f; text-decoration-color: #7f7f7f\"> bionty.Ethnicity          </span> African American, Hispanic or Latin Amer…\n",
       "<span style=\"color: #7f7f7f; text-decoration-color: #7f7f7f\">        </span>.ulabels                   <span style=\"color: #7f7f7f; text-decoration-color: #7f7f7f\"> ULabel                    </span> P07, P92, P122, P11, P22, P10, P67, P41,…\n",
       "</pre>\n"
      ],
      "text/plain": [
       "\u001b[1mArtifact\u001b[0m\u001b[1;2m .h5ad/AnnData\u001b[0m\n",
       "\u001b[2m├── \u001b[0m\u001b[1;96mGeneral\u001b[0m\n",
       "\u001b[2m│   \u001b[0m\u001b[2m├── \u001b[0m.uid = 'F9rOMRMmMBhxmtbNkf8o'\n",
       "\u001b[2m│   \u001b[0m\u001b[2m├── \u001b[0m.key = 'cell-census/2023-07-25/h5ads/396a9124-fb20-4822-bf9c-e93fdf7c999a.h5ad'\n",
       "\u001b[2m│   \u001b[0m\u001b[2m├── \u001b[0m.size = 88629515\n",
       "\u001b[2m│   \u001b[0m\u001b[2m├── \u001b[0m.hash = '_gx63eoVgdJp2hOSSKMM-w'\n",
       "\u001b[2m│   \u001b[0m\u001b[2m├── \u001b[0m.n_observations = 12510\n",
       "\u001b[2m│   \u001b[0m\u001b[2m├── \u001b[0m.version = '2023-07-25'\n",
       "\u001b[2m│   \u001b[0m\u001b[2m├── \u001b[0m.path = \u001b[2ms3://cellxgene-data-public\u001b[0m/cell-census/2023-07-25/h5ads/396a9124-fb20-4822-bf9c-e93fdf7c999a.h5ad\n",
       "\u001b[2m│   \u001b[0m\u001b[2m├── \u001b[0m.created_by = sunnyosun (Sunny Sun)\n",
       "\u001b[2m│   \u001b[0m\u001b[2m├── \u001b[0m.created_at = \u001b[2m2023-11-28 21:46:00\u001b[0m\n",
       "\u001b[2m│   \u001b[0m\u001b[2m└── \u001b[0m\u001b[38;5;43m.transform = 'Register files from Census release 2023-07-25'\u001b[0m\n",
       "\u001b[2m├── \u001b[0m\u001b[1;95mDataset features\u001b[0m\u001b[2m/\u001b[0m\u001b[1;2m.feature_sets\u001b[0m\n",
       "\u001b[2m│   \u001b[0m\u001b[2m├── \u001b[0m\u001b[1;38;5;177mvar\u001b[0m\u001b[1;2m • \u001b[0m\u001b[1;38;5;218m33234\u001b[0m\u001b[1m               \u001b[0m\u001b[1m \u001b[0m\u001b[1m \u001b[0m\u001b[1;38;5;218m[bionty.Gene]\u001b[0m\u001b[1m            \u001b[0m\u001b[1m \u001b[0m\u001b[1m \u001b[0m\u001b[1m                                         \u001b[0m\n",
       "\u001b[2m│   \u001b[0m\u001b[2m│   \u001b[0mEBF1                       \u001b[2m \u001b[0m\u001b[2mnum                      \u001b[0m\u001b[2m \u001b[0m                                          \n",
       "\u001b[2m│   \u001b[0m\u001b[2m│   \u001b[0mLINC02202                  \u001b[2m \u001b[0m\u001b[2mnum                      \u001b[0m\u001b[2m \u001b[0m                                          \n",
       "\u001b[2m│   \u001b[0m\u001b[2m│   \u001b[0mRNF145                     \u001b[2m \u001b[0m\u001b[2mnum                      \u001b[0m\u001b[2m \u001b[0m                                          \n",
       "\u001b[2m│   \u001b[0m\u001b[2m│   \u001b[0mLINC01932                  \u001b[2m \u001b[0m\u001b[2mnum                      \u001b[0m\u001b[2m \u001b[0m                                          \n",
       "\u001b[2m│   \u001b[0m\u001b[2m│   \u001b[0mUBLCP1                     \u001b[2m \u001b[0m\u001b[2mnum                      \u001b[0m\u001b[2m \u001b[0m                                          \n",
       "\u001b[2m│   \u001b[0m\u001b[2m│   \u001b[0mIL12B                      \u001b[2m \u001b[0m\u001b[2mnum                      \u001b[0m\u001b[2m \u001b[0m                                          \n",
       "\u001b[2m│   \u001b[0m\u001b[2m│   \u001b[0mLINC01845                  \u001b[2m \u001b[0m\u001b[2mnum                      \u001b[0m\u001b[2m \u001b[0m                                          \n",
       "\u001b[2m│   \u001b[0m\u001b[2m│   \u001b[0mLINC01847                  \u001b[2m \u001b[0m\u001b[2mnum                      \u001b[0m\u001b[2m \u001b[0m                                          \n",
       "\u001b[2m│   \u001b[0m\u001b[2m│   \u001b[0mADRA1B                     \u001b[2m \u001b[0m\u001b[2mnum                      \u001b[0m\u001b[2m \u001b[0m                                          \n",
       "\u001b[2m│   \u001b[0m\u001b[2m│   \u001b[0mTTC1                       \u001b[2m \u001b[0m\u001b[2mnum                      \u001b[0m\u001b[2m \u001b[0m                                          \n",
       "\u001b[2m│   \u001b[0m\u001b[2m│   \u001b[0mPWWP2A                     \u001b[2m \u001b[0m\u001b[2mnum                      \u001b[0m\u001b[2m \u001b[0m                                          \n",
       "\u001b[2m│   \u001b[0m\u001b[2m│   \u001b[0mFABP6                      \u001b[2m \u001b[0m\u001b[2mnum                      \u001b[0m\u001b[2m \u001b[0m                                          \n",
       "\u001b[2m│   \u001b[0m\u001b[2m│   \u001b[0mFABP6-AS1                  \u001b[2m \u001b[0m\u001b[2mnum                      \u001b[0m\u001b[2m \u001b[0m                                          \n",
       "\u001b[2m│   \u001b[0m\u001b[2m│   \u001b[0mCCNJL                      \u001b[2m \u001b[0m\u001b[2mnum                      \u001b[0m\u001b[2m \u001b[0m                                          \n",
       "\u001b[2m│   \u001b[0m\u001b[2m└── \u001b[0m\u001b[1;38;5;177mobs\u001b[0m\u001b[1;2m • \u001b[0m\u001b[1;38;5;218m11\u001b[0m\u001b[1m                  \u001b[0m\u001b[1m \u001b[0m\u001b[1m \u001b[0m\u001b[1;38;5;218m[Feature]\u001b[0m\u001b[1m                \u001b[0m\u001b[1m \u001b[0m\u001b[1m \u001b[0m\u001b[1m                                         \u001b[0m\n",
       "\u001b[2m│   \u001b[0m\u001b[2m    \u001b[0mdonor_id                   \u001b[2m \u001b[0m\u001b[2mcat[ULabel]              \u001b[0m\u001b[2m \u001b[0m P01, P02, P03, P04, P05, P06, P07, P09, …\n",
       "\u001b[2m│   \u001b[0m\u001b[2m    \u001b[0msuspension_type            \u001b[2m \u001b[0m\u001b[2mcat[ULabel]              \u001b[0m\u001b[2m \u001b[0m cell                                     \n",
       "\u001b[2m│   \u001b[0m\u001b[2m    \u001b[0mtissue_type                \u001b[2m \u001b[0m\u001b[2mcat[ULabel]              \u001b[0m\u001b[2m \u001b[0m tissue                                   \n",
       "\u001b[2m│   \u001b[0m\u001b[2m    \u001b[0massay                      \u001b[2m \u001b[0m\u001b[2mcat[bionty.ExperimentalF…\u001b[0m\u001b[2m \u001b[0m                                          \n",
       "\u001b[2m│   \u001b[0m\u001b[2m    \u001b[0mcell_type                  \u001b[2m \u001b[0m\u001b[2mcat[bionty.CellType]     \u001b[0m\u001b[2m \u001b[0m                                          \n",
       "\u001b[2m│   \u001b[0m\u001b[2m    \u001b[0mdevelopment_stage          \u001b[2m \u001b[0m\u001b[2mcat[bionty.Developmental…\u001b[0m\u001b[2m \u001b[0m                                          \n",
       "\u001b[2m│   \u001b[0m\u001b[2m    \u001b[0mdisease                    \u001b[2m \u001b[0m\u001b[2mcat[bionty.Disease]      \u001b[0m\u001b[2m \u001b[0m                                          \n",
       "\u001b[2m│   \u001b[0m\u001b[2m    \u001b[0mself_reported_ethnicity    \u001b[2m \u001b[0m\u001b[2mcat[bionty.Ethnicity]    \u001b[0m\u001b[2m \u001b[0m                                          \n",
       "\u001b[2m│   \u001b[0m\u001b[2m    \u001b[0msex                        \u001b[2m \u001b[0m\u001b[2mcat[bionty.Phenotype]    \u001b[0m\u001b[2m \u001b[0m                                          \n",
       "\u001b[2m│   \u001b[0m\u001b[2m    \u001b[0mtissue                     \u001b[2m \u001b[0m\u001b[2mcat[bionty.Tissue]       \u001b[0m\u001b[2m \u001b[0m                                          \n",
       "\u001b[2m│   \u001b[0m\u001b[2m    \u001b[0morganism                   \u001b[2m \u001b[0m\u001b[2mcat[bionty.Organism]     \u001b[0m\u001b[2m \u001b[0m                                          \n",
       "\u001b[2m└── \u001b[0m\u001b[1;38;5;154mLabels\u001b[0m\n",
       "\u001b[2m    \u001b[0m\u001b[2m└── \u001b[0m.organisms                 \u001b[2m \u001b[0m\u001b[2mbionty.Organism          \u001b[0m\u001b[2m \u001b[0m human                                    \n",
       "\u001b[2m    \u001b[0m\u001b[2m    \u001b[0m.tissues                   \u001b[2m \u001b[0m\u001b[2mbionty.Tissue            \u001b[0m\u001b[2m \u001b[0m breast                                   \n",
       "\u001b[2m    \u001b[0m\u001b[2m    \u001b[0m.cell_types                \u001b[2m \u001b[0m\u001b[2mbionty.CellType          \u001b[0m\u001b[2m \u001b[0m IgG plasma cell, IgA plasma cell, unswit…\n",
       "\u001b[2m    \u001b[0m\u001b[2m    \u001b[0m.diseases                  \u001b[2m \u001b[0m\u001b[2mbionty.Disease           \u001b[0m\u001b[2m \u001b[0m breast cancer, normal                    \n",
       "\u001b[2m    \u001b[0m\u001b[2m    \u001b[0m.phenotypes                \u001b[2m \u001b[0m\u001b[2mbionty.Phenotype         \u001b[0m\u001b[2m \u001b[0m female                                   \n",
       "\u001b[2m    \u001b[0m\u001b[2m    \u001b[0m.experimental_factors      \u001b[2m \u001b[0m\u001b[2mbionty.ExperimentalFactor\u001b[0m\u001b[2m \u001b[0m 10x 3' v3, 10x 3' v2                     \n",
       "\u001b[2m    \u001b[0m\u001b[2m    \u001b[0m.developmental_stages      \u001b[2m \u001b[0m\u001b[2mbionty.DevelopmentalStage\u001b[0m\u001b[2m \u001b[0m mature stage                             \n",
       "\u001b[2m    \u001b[0m\u001b[2m    \u001b[0m.ethnicities               \u001b[2m \u001b[0m\u001b[2mbionty.Ethnicity         \u001b[0m\u001b[2m \u001b[0m African American, Hispanic or Latin Amer…\n",
       "\u001b[2m    \u001b[0m\u001b[2m    \u001b[0m.ulabels                   \u001b[2m \u001b[0m\u001b[2mULabel                   \u001b[0m\u001b[2m \u001b[0m P07, P92, P122, P11, P22, P10, P67, P41,…\n"
      ]
     },
     "metadata": {},
     "output_type": "display_data"
    }
   ],
   "source": [
    "breast_artifact.describe()"
   ]
  },
  {
   "cell_type": "code",
   "execution_count": null,
   "id": "0dbffc52-2ce8-41c5-b506-71599a29bb4a",
   "metadata": {},
   "outputs": [],
   "source": [
    "breast_artifact.cache()"
   ]
  },
  {
   "cell_type": "code",
   "execution_count": 23,
   "id": "89d81140-9e56-4080-b014-48057b6f6c6a",
   "metadata": {},
   "outputs": [],
   "source": [
    "adata = breast_artifact.load()"
   ]
  },
  {
   "cell_type": "code",
   "execution_count": 24,
   "id": "2ba8f200-bddf-47fd-9a23-fc85566e91be",
   "metadata": {},
   "outputs": [
    {
     "data": {
      "text/plain": [
       "AnnData object with n_obs × n_vars = 12510 × 33234\n",
       "    obs: 'mapped_reference_assembly', 'mapped_reference_annotation', 'alignment_software', 'donor_id', 'self_reported_ethnicity_ontology_term_id', 'donor_living_at_sample_collection', 'donor_menopausal_status', 'organism_ontology_term_id', 'sample_uuid', 'sample_preservation_method', 'tissue_ontology_term_id', 'development_stage_ontology_term_id', 'sample_derivation_process', 'sample_source', 'donor_BMI_at_collection', 'suspension_depleted_cell_types', 'suspension_derivation_process', 'suspension_dissociation_reagent', 'suspension_dissociation_time', 'suspension_percent_cell_viability', 'suspension_uuid', 'suspension_type', 'library_uuid', 'assay_ontology_term_id', 'sequencing_platform', 'is_primary_data', 'cell_type_ontology_term_id', 'author_cell_type', 'disease_ontology_term_id', 'sex_ontology_term_id', 'n_count_rna', 'n_feature_rna', 'percent_mito', 'percent_rb', 'tissue_location', 'bmi_group', 'procedure_group', 'age_group', 'sample_id', 'breast_density', 'cell_type', 'assay', 'disease', 'organism', 'sex', 'tissue', 'self_reported_ethnicity', 'development_stage'\n",
       "    var: 'feature_is_filtered', 'feature_name', 'feature_reference', 'feature_biotype'\n",
       "    uns: 'default_embedding', 'schema_version', 'title'\n",
       "    obsm: 'X_pca', 'X_umap'"
      ]
     },
     "execution_count": 24,
     "metadata": {},
     "output_type": "execute_result"
    }
   ],
   "source": [
    "adata"
   ]
  },
  {
   "cell_type": "code",
   "execution_count": 26,
   "id": "cb5fd227-8534-473d-b1c7-a2bbf6d0fe3d",
   "metadata": {},
   "outputs": [],
   "source": [
    "adata.write_h5ad(\"./adata.h5ad\")"
   ]
  },
  {
   "cell_type": "markdown",
   "id": "620b0dbd-656c-4931-8289-7c7a60f74035",
   "metadata": {},
   "source": [
    "### Now we can restart the kernel session and connect to our local instance\n",
    "---\n",
    "Once we are connected to our local instance we can register the newly downloaded adata file."
   ]
  },
  {
   "cell_type": "code",
   "execution_count": null,
   "id": "f9563220-6e58-4115-94c2-df29274efe7d",
   "metadata": {},
   "outputs": [
    {
     "name": "stdout",
     "output_type": "stream",
     "text": [
      "\u001b[92m→\u001b[0m connected lamindb: anonymous/postgres\n"
     ]
    }
   ],
   "source": [
    "!lamin connect laminlabs/lamindata"
   ]
  },
  {
   "cell_type": "code",
   "execution_count": 8,
   "id": "82c92fe5-702c-44a6-8090-6af41a3d64de",
   "metadata": {},
   "outputs": [],
   "source": [
    "import lamindb as ln\n",
    "import bionty as bt\n",
    "import scanpy as sc"
   ]
  },
  {
   "cell_type": "code",
   "execution_count": null,
   "id": "f69c5751-7d57-4037-ae2a-3ee5d4febb05",
   "metadata": {},
   "outputs": [],
   "source": [
    "ln.Project.df()"
   ]
  },
  {
   "cell_type": "code",
   "execution_count": null,
   "id": "a30f9509-9f07-418d-b2d9-c75212458a70",
   "metadata": {},
   "outputs": [],
   "source": [
    "ln.track(project=\"9M7iVOgQ8VAQ\")"
   ]
  },
  {
   "cell_type": "code",
   "execution_count": null,
   "id": "25a0673c-71cf-4336-9bb1-fe2013061f83",
   "metadata": {},
   "outputs": [],
   "source": [
    "ln.Artifact.df()"
   ]
  },
  {
   "cell_type": "code",
   "execution_count": 9,
   "id": "4023263c-f2ce-47ed-89ef-3eca70cd8149",
   "metadata": {},
   "outputs": [
    {
     "data": {
      "text/plain": [
       "AnnData object with n_obs × n_vars = 12510 × 33234\n",
       "    obs: 'mapped_reference_assembly', 'mapped_reference_annotation', 'alignment_software', 'donor_id', 'self_reported_ethnicity_ontology_term_id', 'donor_living_at_sample_collection', 'donor_menopausal_status', 'organism_ontology_term_id', 'sample_uuid', 'sample_preservation_method', 'tissue_ontology_term_id', 'development_stage_ontology_term_id', 'sample_derivation_process', 'sample_source', 'donor_BMI_at_collection', 'suspension_depleted_cell_types', 'suspension_derivation_process', 'suspension_dissociation_reagent', 'suspension_dissociation_time', 'suspension_percent_cell_viability', 'suspension_uuid', 'suspension_type', 'library_uuid', 'assay_ontology_term_id', 'sequencing_platform', 'is_primary_data', 'cell_type_ontology_term_id', 'author_cell_type', 'disease_ontology_term_id', 'sex_ontology_term_id', 'n_count_rna', 'n_feature_rna', 'percent_mito', 'percent_rb', 'tissue_location', 'bmi_group', 'procedure_group', 'age_group', 'sample_id', 'breast_density', 'cell_type', 'assay', 'disease', 'organism', 'sex', 'tissue', 'self_reported_ethnicity', 'development_stage'\n",
       "    var: 'feature_is_filtered', 'feature_name', 'feature_reference', 'feature_biotype'\n",
       "    uns: 'default_embedding', 'schema_version', 'title'\n",
       "    obsm: 'X_pca', 'X_umap'"
      ]
     },
     "execution_count": 9,
     "metadata": {},
     "output_type": "execute_result"
    }
   ],
   "source": [
    "adata = sc.read_h5ad(\"./adata.h5ad\")\n",
    "adata"
   ]
  },
  {
   "cell_type": "markdown",
   "id": "fd3b216d-784f-4bf8-a92b-544178be6a0c",
   "metadata": {},
   "source": [
    "#### We can add columns site and patient in the obs "
   ]
  },
  {
   "cell_type": "code",
   "execution_count": 10,
   "id": "657fa002-7f8c-4658-8c56-abac429c7f9c",
   "metadata": {},
   "outputs": [],
   "source": [
    "adata.obs[\"site\"] = adata.obs[\"disease\"].apply(lambda x: \"primary\" if x == \"breast cancer\" else \"normal\")\n",
    "adata.obs[\"patient\"] = adata.obs[\"donor_id\"]"
   ]
  },
  {
   "cell_type": "code",
   "execution_count": 12,
   "id": "55c8d257-78c4-4d13-895d-e084d4b35103",
   "metadata": {},
   "outputs": [],
   "source": [
    "adata.write_h5ad(\"./adata.h5ad\")"
   ]
  },
  {
   "cell_type": "markdown",
   "id": "309b3cb2-7258-46ff-b28a-19fcaf0f72c9",
   "metadata": {},
   "source": [
    "#### We can create an artifact now"
   ]
  },
  {
   "cell_type": "code",
   "execution_count": 13,
   "id": "ed5087ad-e438-497d-afbc-e135338e08f1",
   "metadata": {},
   "outputs": [],
   "source": [
    "file_path = \"./adata.h5ad\"\n",
    "artifact = ln.Artifact(file_path, description=\"Breast Cancer data download from public CellxGene Atlas\")"
   ]
  },
  {
   "cell_type": "code",
   "execution_count": null,
   "id": "6a9248ff-2a38-4679-af3f-06539f924ed1",
   "metadata": {},
   "outputs": [],
   "source": [
    "artifact.describe()"
   ]
  },
  {
   "cell_type": "markdown",
   "id": "6458c839-405c-4e6d-aaf3-f5ba84f15c41",
   "metadata": {},
   "source": [
    "#### We can add similar labels to our newly added dataset as we did for GEO GSE180286 Breast Cancer dataset"
   ]
  },
  {
   "cell_type": "code",
   "execution_count": null,
   "id": "d490d861-4b16-4cf9-b359-178fa1883473",
   "metadata": {},
   "outputs": [],
   "source": [
    "## Add Filtered as ULabel\n",
    "ulable_lookup = ln.ULabel.lookup()"
   ]
  },
  {
   "cell_type": "code",
   "execution_count": null,
   "id": "7819aebe-087f-4bb3-b912-ca79f5bdbfa8",
   "metadata": {},
   "outputs": [],
   "source": [
    "ulable_lookup.filtered"
   ]
  },
  {
   "cell_type": "code",
   "execution_count": null,
   "id": "22338e9a-6ab5-4324-a130-2382da7d55bb",
   "metadata": {},
   "outputs": [],
   "source": [
    "# We can now add this filtered Label to the artifact\n",
    "artifact.ulabels.add(ulable_lookup.filtered)"
   ]
  },
  {
   "cell_type": "code",
   "execution_count": null,
   "id": "0c9980ac-1d84-4a2d-8ef5-fc7d84fa45c4",
   "metadata": {},
   "outputs": [],
   "source": [
    "artifact.describe()"
   ]
  },
  {
   "cell_type": "code",
   "execution_count": null,
   "id": "a0e2b1aa-ed30-4ccb-a595-d2588b3ce77d",
   "metadata": {},
   "outputs": [],
   "source": [
    "artifact.save()"
   ]
  },
  {
   "cell_type": "markdown",
   "id": "7f4fd3d2-fe2d-472b-8b3d-da3af2ce35d0",
   "metadata": {},
   "source": [
    "### Similarly, we can add features:"
   ]
  },
  {
   "cell_type": "code",
   "execution_count": 20,
   "id": "08216eaa-1b70-4543-968a-5e143bf3c244",
   "metadata": {},
   "outputs": [],
   "source": [
    "disease_lookup = bt.Disease.lookup()"
   ]
  },
  {
   "cell_type": "code",
   "execution_count": null,
   "id": "536e442e-84c2-4716-b360-9cd704a7586d",
   "metadata": {},
   "outputs": [],
   "source": [
    "disease_lookup.breast_cancer"
   ]
  },
  {
   "cell_type": "code",
   "execution_count": null,
   "id": "81f577ed-93aa-4dae-97ab-986e65c08bc0",
   "metadata": {},
   "outputs": [],
   "source": [
    "# we can now annotate our artifact\n",
    "artifact.features.add_values(\n",
    "    {\n",
    "        \"experiment\": \"Breast Cancer scRNA-seq Experiment 2 from Cell X Gene Atlas\",\n",
    "        \"disease\": disease_lookup.breast_cancer,\n",
    "        \"author\": \"Sunny Sun\"\n",
    "    }\n",
    ")"
   ]
  },
  {
   "cell_type": "code",
   "execution_count": null,
   "id": "c97a6536-b865-4c6f-b88f-c1271681a4f3",
   "metadata": {},
   "outputs": [],
   "source": [
    "artifact.describe()"
   ]
  },
  {
   "cell_type": "markdown",
   "id": "0878529e-fe06-4db5-9aab-aa1fd78f0d55",
   "metadata": {},
   "source": [
    "#### Now we have both our artifacts ingest and we can create our collection "
   ]
  },
  {
   "cell_type": "code",
   "execution_count": null,
   "id": "5489457a-95bc-49b0-a392-d6f4853847d9",
   "metadata": {},
   "outputs": [],
   "source": [
    "# create new collection\n",
    "artifact1 = ln.Artifact.get(\"\")\n",
    "artifact2 = ln.Artifact.get(\"\")\n",
    "collection = ln.Collection(artifacts=[artifact1, artifact2], key=\"Breast Cancer Collection\")\n",
    "collection.save()"
   ]
  },
  {
   "cell_type": "code",
   "execution_count": 26,
   "id": "65e26f16-6647-4543-8dad-367b8dfada42",
   "metadata": {},
   "outputs": [],
   "source": [
    "adata1 = artifact1.load()"
   ]
  },
  {
   "cell_type": "code",
   "execution_count": null,
   "id": "a557973d-481f-4746-b4d0-7caa4b06b8c4",
   "metadata": {},
   "outputs": [],
   "source": [
    "adata1.obs.head()"
   ]
  },
  {
   "cell_type": "code",
   "execution_count": null,
   "id": "f9edc56b-1973-42b9-8277-026b5b04729f",
   "metadata": {},
   "outputs": [],
   "source": [
    "adata2 = artifact2.load()\n",
    "adata2.obs.head()"
   ]
  },
  {
   "cell_type": "markdown",
   "id": "58e05491-a4b0-439e-b263-b2ce65963d52",
   "metadata": {},
   "source": [
    "#### Using this collection we can create a mapped collection which virtually joins the two `adata`s "
   ]
  },
  {
   "cell_type": "code",
   "execution_count": null,
   "id": "db182de5-0ed1-4d96-aa01-185f0367d74e",
   "metadata": {},
   "outputs": [],
   "source": [
    "# create mapped collection with specific observation keys\n",
    "mapped_collection = collection.mapped(obs_keys=[\"site\"], join=\"outer\")"
   ]
  },
  {
   "cell_type": "code",
   "execution_count": 30,
   "id": "564ae88f-a9f9-41eb-a582-9334cc99c279",
   "metadata": {},
   "outputs": [
    {
     "data": {
      "text/plain": [
       "(np.int64(54559), 35234)"
      ]
     },
     "execution_count": 30,
     "metadata": {},
     "output_type": "execute_result"
    }
   ],
   "source": [
    "mapped_collection.shape"
   ]
  },
  {
   "cell_type": "markdown",
   "id": "39716bcd-8264-446e-a761-f45fe809da0d",
   "metadata": {},
   "source": [
    "#### Now we can integrate it with PyTorch DataLoader:\n",
    "---\n",
    "The MappedCollection can be used directly with PyTorch's DataLoader for efficient data loading during model training.​"
   ]
  },
  {
   "cell_type": "code",
   "execution_count": null,
   "id": "68b2ea09-c07b-48e8-b1fd-dcef0e604c22",
   "metadata": {},
   "outputs": [],
   "source": [
    "from torch.utils.data import DataLoader, WeightedRandomSampler\n",
    "\n",
    "# convert MappedCollection to PyTorch-compatible dataset\n",
    "dataset = mapped_collection\n",
    "\n",
    "dataloader = DataLoader(dataset, batch_size=10000, shuffle=True)\n",
    "\n",
    "# iterate through  DataLoader\n",
    "for batch in dataloader:\n",
    "    print(batch)  # each batch contains data from mapped collection"
   ]
  },
  {
   "cell_type": "code",
   "execution_count": null,
   "id": "79c8e896",
   "metadata": {},
   "outputs": [],
   "source": [
    "ln.finish()"
   ]
  }
 ],
 "metadata": {
  "kernelspec": {
   "display_name": "lamin",
   "language": "python",
   "name": "python3"
  },
  "language_info": {
   "codemirror_mode": {
    "name": "ipython",
    "version": 3
   },
   "file_extension": ".py",
   "mimetype": "text/x-python",
   "name": "python",
   "nbconvert_exporter": "python",
   "pygments_lexer": "ipython3",
   "version": "3.12.9"
  }
 },
 "nbformat": 4,
 "nbformat_minor": 5
}
