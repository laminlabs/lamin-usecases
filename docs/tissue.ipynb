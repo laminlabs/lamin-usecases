{
 "cells": [
  {
   "cell_type": "markdown",
   "id": "819892d2",
   "metadata": {},
   "source": [
    "# Tissue"
   ]
  },
  {
   "cell_type": "markdown",
   "id": "82115482",
   "metadata": {},
   "source": [
    "lamindb provides access to the following public protein ontologies through [bionty](https://lamin.ai/docs/bionty):\n",
    "\n",
    "1. [Uberon](http://obophenotype.github.io/uberon)\n",
    "\n",
    "Here we show how to access and search Tissue ontologies to standardize new data."
   ]
  },
  {
   "cell_type": "code",
   "execution_count": null,
   "id": "c26b5907",
   "metadata": {},
   "outputs": [],
   "source": [
    "import bionty as bt\n",
    "import pandas as pd"
   ]
  },
  {
   "cell_type": "markdown",
   "id": "f38f3924",
   "metadata": {},
   "source": [
    "## PublicOntology objects"
   ]
  },
  {
   "cell_type": "markdown",
   "id": "d6702f3e",
   "metadata": {},
   "source": [
    "Let us create a public ontology accessor with `.public` method, which chooses a default public ontology source from {class}`~docs:bionty.PublicSource`.\n",
    "It's a [PublicOntology](https://lamin.ai/docs/bionty.dev.publicontology) object, which you can think about as a public registry:"
   ]
  },
  {
   "cell_type": "code",
   "execution_count": null,
   "id": "7edc7e97",
   "metadata": {},
   "outputs": [],
   "source": [
    "tissues = bt.Tissue.public(organism=\"all\")\n",
    "tissues"
   ]
  },
  {
   "cell_type": "markdown",
   "id": "78f22c6f",
   "metadata": {},
   "source": [
    "As for registries, you can export the ontology as a `DataFrame`:"
   ]
  },
  {
   "cell_type": "code",
   "execution_count": null,
   "id": "e85c166d",
   "metadata": {},
   "outputs": [],
   "source": [
    "df = tissues.df()\n",
    "df.head()"
   ]
  },
  {
   "cell_type": "markdown",
   "id": "d5817717",
   "metadata": {},
   "source": [
    "Unlike registries, you can also export it as a Pronto object via `public.ontology`."
   ]
  },
  {
   "cell_type": "markdown",
   "id": "78715492",
   "metadata": {},
   "source": [
    "## Look up terms"
   ]
  },
  {
   "cell_type": "markdown",
   "id": "29e6a7b2",
   "metadata": {},
   "source": [
    "As for registries, terms can be looked up with auto-complete:"
   ]
  },
  {
   "cell_type": "code",
   "execution_count": null,
   "id": "5f404113",
   "metadata": {},
   "outputs": [],
   "source": [
    "lookup = tissues.lookup()"
   ]
  },
  {
   "cell_type": "markdown",
   "id": "4c46bfc2",
   "metadata": {},
   "source": [
    "The `.` accessor provides normalized terms (lower case, only contains alphanumeric characters and underscores):"
   ]
  },
  {
   "cell_type": "code",
   "execution_count": null,
   "id": "b562eec5",
   "metadata": {},
   "outputs": [],
   "source": [
    "lookup.alveolus_of_lung"
   ]
  },
  {
   "cell_type": "markdown",
   "id": "469a0494",
   "metadata": {},
   "source": [
    "To look up the exact original strings, convert the lookup object to dict and use the `[]` accessor:"
   ]
  },
  {
   "cell_type": "code",
   "execution_count": null,
   "id": "bdf9df40",
   "metadata": {},
   "outputs": [],
   "source": [
    "lookup_dict = lookup.dict()\n",
    "lookup_dict[\"alveolus of lung\"]"
   ]
  },
  {
   "cell_type": "markdown",
   "id": "74790b0b",
   "metadata": {},
   "source": [
    "By default, the `name` field is used to generate lookup keys. You can specify another field to look up:"
   ]
  },
  {
   "cell_type": "code",
   "execution_count": null,
   "id": "943646de",
   "metadata": {},
   "outputs": [],
   "source": [
    "lookup = tissues.lookup(tissues.ontology_id)"
   ]
  },
  {
   "cell_type": "code",
   "execution_count": null,
   "id": "30375ed7",
   "metadata": {},
   "outputs": [],
   "source": [
    "lookup.uberon_0000031"
   ]
  },
  {
   "cell_type": "markdown",
   "id": "4843c8d8",
   "metadata": {},
   "source": [
    "## Search terms"
   ]
  },
  {
   "cell_type": "markdown",
   "id": "1ac4bee2",
   "metadata": {},
   "source": [
    "Search behaves in the same way as it does for registries:"
   ]
  },
  {
   "cell_type": "code",
   "execution_count": null,
   "id": "d239aa1b",
   "metadata": {},
   "outputs": [],
   "source": [
    "tissues.search(\"alveolus lung\").head(3)"
   ]
  },
  {
   "cell_type": "markdown",
   "id": "5ca4d7d7",
   "metadata": {},
   "source": [
    "By default, search also covers synonyms:"
   ]
  },
  {
   "cell_type": "code",
   "execution_count": null,
   "id": "da42b976",
   "metadata": {},
   "outputs": [],
   "source": [
    "tissues.search(\"nasal sac\").head(3)"
   ]
  },
  {
   "cell_type": "markdown",
   "id": "c4492518",
   "metadata": {},
   "source": [
    "You can turn this off synonym by passing `synonyms_field=None`:"
   ]
  },
  {
   "cell_type": "code",
   "execution_count": null,
   "id": "e7d1bf2c",
   "metadata": {},
   "outputs": [],
   "source": [
    "tissues.search(\"nasal sac\", synonyms_field=None).head(3)"
   ]
  },
  {
   "cell_type": "markdown",
   "id": "73e3dcbb",
   "metadata": {},
   "source": [
    "Search another field (default is `.name`):"
   ]
  },
  {
   "cell_type": "code",
   "execution_count": null,
   "id": "8e2b1529",
   "metadata": {},
   "outputs": [],
   "source": [
    "tissues.search(\n",
    "    \"alveolus in the lung\",\n",
    "    field=tissues.definition,\n",
    ").head()"
   ]
  },
  {
   "cell_type": "markdown",
   "id": "9a18dad9",
   "metadata": {},
   "source": [
    "## Standardize Tissue identifiers"
   ]
  },
  {
   "cell_type": "markdown",
   "id": "f544f186",
   "metadata": {},
   "source": [
    "Let us generate a `DataFrame` that stores a number of Tissue identifiers, some of which corrupted:"
   ]
  },
  {
   "cell_type": "code",
   "execution_count": null,
   "id": "62fa7ea7",
   "metadata": {},
   "outputs": [],
   "source": [
    "df_orig = pd.DataFrame(\n",
    "    index=[\n",
    "        \"UBERON:0000000\",\n",
    "        \"UBERON:0000005\",\n",
    "        \"UBERON:0000001\",\n",
    "        \"UBERON:0000002\",\n",
    "        \"This tissue does not exist\",\n",
    "    ]\n",
    ")\n",
    "df_orig"
   ]
  },
  {
   "cell_type": "markdown",
   "id": "d28ef5cd",
   "metadata": {},
   "source": [
    "We can check whether any of our values are validated against the ontology reference:"
   ]
  },
  {
   "cell_type": "code",
   "execution_count": null,
   "id": "a7365bfa",
   "metadata": {},
   "outputs": [],
   "source": [
    "validated = tissues.validate(df_orig.index, tissues.name)\n",
    "df_orig.index[~validated]"
   ]
  },
  {
   "cell_type": "markdown",
   "id": "47ecd495",
   "metadata": {},
   "source": [
    "## Ontology source versions"
   ]
  },
  {
   "cell_type": "markdown",
   "id": "5a404d2d",
   "metadata": {},
   "source": [
    "For any given entity, we can choose from a number of versions:"
   ]
  },
  {
   "cell_type": "code",
   "execution_count": null,
   "id": "96b90fc3",
   "metadata": {},
   "outputs": [],
   "source": [
    "bt.PublicSource.filter(entity=\"Tissue\").df()"
   ]
  },
  {
   "cell_type": "markdown",
   "id": "57b7e66c",
   "metadata": {},
   "source": [
    "When instantiating a Bionty object, we can choose a source or version:"
   ]
  },
  {
   "cell_type": "code",
   "execution_count": null,
   "id": "7ccae221",
   "metadata": {
    "lines_to_next_cell": 0
   },
   "outputs": [],
   "source": [
    "public_source = bt.PublicSource.filter(\n",
    "    source=\"uberon\", version=\"2023-04-19\", organism=\"all\"\n",
    ").one()\n",
    "tissues= bt.Tissue.public(public_source=public_source)\n",
    "tissues"
   ]
  },
  {
   "cell_type": "markdown",
   "id": "d464b72a",
   "metadata": {},
   "source": [
    "The currently used ontologies can be displayed using:"
   ]
  },
  {
   "cell_type": "code",
   "execution_count": null,
   "id": "1013c850",
   "metadata": {
    "tags": [
     "hide-output"
    ]
   },
   "outputs": [],
   "source": [
    "bt.PublicSource.filter(currently_used=True).df()"
   ]
  }
 ],
 "metadata": {
  "kernelspec": {
   "display_name": "lamindb",
   "language": "python",
   "name": "python3"
  }
 },
 "nbformat": 4,
 "nbformat_minor": 5
}
