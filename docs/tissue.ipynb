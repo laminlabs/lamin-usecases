{
 "cells": [
  {
   "cell_type": "markdown",
   "id": "179465cc",
   "metadata": {},
   "source": [
    "# Tissue"
   ]
  },
  {
   "cell_type": "markdown",
   "id": "9858d26e",
   "metadata": {},
   "source": [
    "lamindb provides access to the following public protein ontologies through [lnschema-bionty](https://github.com/laminlabs/lnschema-bionty):\n",
    "\n",
    "1. [Uberon](http://obophenotype.github.io/uberon)\n",
    "\n",
    "Here we show how to access and search Tissue ontologies to standardize new data."
   ]
  },
  {
   "cell_type": "markdown",
   "id": "22c2f744",
   "metadata": {},
   "source": [
    "## Setup"
   ]
  },
  {
   "cell_type": "code",
   "execution_count": null,
   "id": "6e2f4392",
   "metadata": {},
   "outputs": [],
   "source": [
    "!lamin init --storage ./test-tissue --schema bionty"
   ]
  },
  {
   "cell_type": "code",
   "execution_count": null,
   "id": "fe65778d",
   "metadata": {},
   "outputs": [],
   "source": [
    "import lnschema_bionty as lb\n",
    "import pandas as pd"
   ]
  },
  {
   "cell_type": "markdown",
   "id": "9aa6f9a7",
   "metadata": {},
   "source": [
    "## PublicOntology objects"
   ]
  },
  {
   "cell_type": "markdown",
   "id": "1c97f503",
   "metadata": {},
   "source": [
    "Let us create a public ontology accessor with {meth}`~docs:lnschema_bionty.dev.BioRegistry.public`, which chooses a default public ontology source from {class}`~docs:lnschema_bionty.PublicSource`.\n",
    "It's a [PublicOntology](https://lamin.ai/docs/lnschema_bionty.dev.publicontology) object, which you can think about as a public registry:"
   ]
  },
  {
   "cell_type": "code",
   "execution_count": null,
   "id": "cf45f1a4",
   "metadata": {},
   "outputs": [],
   "source": [
    "tissues = lb.Tissue.public(organism=\"all\")\n",
    "tissues"
   ]
  },
  {
   "cell_type": "markdown",
   "id": "59c7cc34",
   "metadata": {},
   "source": [
    "As for registries, you can export the ontology as a `DataFrame`:"
   ]
  },
  {
   "cell_type": "code",
   "execution_count": null,
   "id": "d11f242b",
   "metadata": {},
   "outputs": [],
   "source": [
    "df = tissues.df()\n",
    "df.head()"
   ]
  },
  {
   "cell_type": "markdown",
   "id": "e9159c6a",
   "metadata": {},
   "source": [
    "Unlike registries, you can also export it as a Pronto object via `public.ontology`."
   ]
  },
  {
   "cell_type": "markdown",
   "id": "329d6a3d",
   "metadata": {},
   "source": [
    "## Look up terms"
   ]
  },
  {
   "cell_type": "markdown",
   "id": "7de9b9c1",
   "metadata": {},
   "source": [
    "As for registries, terms can be looked up with auto-complete:"
   ]
  },
  {
   "cell_type": "code",
   "execution_count": null,
   "id": "c4aa8221",
   "metadata": {},
   "outputs": [],
   "source": [
    "lookup = tissues.lookup()"
   ]
  },
  {
   "cell_type": "markdown",
   "id": "47a0e93d",
   "metadata": {},
   "source": [
    "The `.` accessor provides normalized terms (lower case, only contains alphanumeric characters and underscores):"
   ]
  },
  {
   "cell_type": "code",
   "execution_count": null,
   "id": "1fc393be",
   "metadata": {},
   "outputs": [],
   "source": [
    "lookup.alveolus_of_lung"
   ]
  },
  {
   "cell_type": "markdown",
   "id": "684063a6",
   "metadata": {},
   "source": [
    "To look up the exact original strings, convert the lookup object to dict and use the `[]` accessor:"
   ]
  },
  {
   "cell_type": "code",
   "execution_count": null,
   "id": "39a25be6",
   "metadata": {},
   "outputs": [],
   "source": [
    "lookup_dict = lookup.dict()\n",
    "lookup_dict[\"alveolus of lung\"]"
   ]
  },
  {
   "cell_type": "markdown",
   "id": "eca5ccbe",
   "metadata": {},
   "source": [
    "By default, the `name` field is used to generate lookup keys. You can specify another field to look up:"
   ]
  },
  {
   "cell_type": "code",
   "execution_count": null,
   "id": "b66d4232",
   "metadata": {},
   "outputs": [],
   "source": [
    "lookup = tissues.lookup(tissues.ontology_id)"
   ]
  },
  {
   "cell_type": "code",
   "execution_count": null,
   "id": "cb95e085",
   "metadata": {},
   "outputs": [],
   "source": [
    "lookup.uberon_0000031"
   ]
  },
  {
   "cell_type": "markdown",
   "id": "3440f5d5",
   "metadata": {},
   "source": [
    "## Search terms"
   ]
  },
  {
   "cell_type": "markdown",
   "id": "64261a42",
   "metadata": {},
   "source": [
    "Search behaves in the same way as it does for registries:"
   ]
  },
  {
   "cell_type": "code",
   "execution_count": null,
   "id": "dfdcd625",
   "metadata": {},
   "outputs": [],
   "source": [
    "tissues.search(\"alveolus lung\").head(3)"
   ]
  },
  {
   "cell_type": "markdown",
   "id": "cb45d005",
   "metadata": {},
   "source": [
    "By default, search also covers synonyms:"
   ]
  },
  {
   "cell_type": "code",
   "execution_count": null,
   "id": "e46d9761",
   "metadata": {},
   "outputs": [],
   "source": [
    "tissues.search(\"nasal sac\").head(3)"
   ]
  },
  {
   "cell_type": "markdown",
   "id": "d53c6286",
   "metadata": {},
   "source": [
    "You can turn this off synonym by passing `synonyms_field=None`:"
   ]
  },
  {
   "cell_type": "code",
   "execution_count": null,
   "id": "d4490fd7",
   "metadata": {},
   "outputs": [],
   "source": [
    "tissues.search(\"nasal sac\", synonyms_field=None).head(3)"
   ]
  },
  {
   "cell_type": "markdown",
   "id": "90340b70",
   "metadata": {},
   "source": [
    "Search another field (default is `.name`):"
   ]
  },
  {
   "cell_type": "code",
   "execution_count": null,
   "id": "073e4be3",
   "metadata": {},
   "outputs": [],
   "source": [
    "tissues.search(\n",
    "    \"alveolus in the lung\",\n",
    "    field=tissues.definition,\n",
    ").head()"
   ]
  },
  {
   "cell_type": "markdown",
   "id": "7f48bd02",
   "metadata": {},
   "source": [
    "## Standardize Tissue identifiers"
   ]
  },
  {
   "cell_type": "markdown",
   "id": "c9b0f133",
   "metadata": {},
   "source": [
    "Let us generate a `DataFrame` that stores a number of Tissue identifiers, some of which corrupted:"
   ]
  },
  {
   "cell_type": "code",
   "execution_count": null,
   "id": "94165290",
   "metadata": {},
   "outputs": [],
   "source": [
    "df_orig = pd.DataFrame(\n",
    "    index=[\n",
    "        \"UBERON:0000000\"\n",
    "        \"UBERON:0000005\"\n",
    "        \"UBERON:0000001\"\n",
    "        \"UBERON:0000002\"\n",
    "        \"This tissue does not exist\",\n",
    "    ]\n",
    ")\n",
    "df_orig"
   ]
  },
  {
   "cell_type": "markdown",
   "id": "ca68c310",
   "metadata": {},
   "source": [
    "We can check whether any of our values are validated against the ontology reference:"
   ]
  },
  {
   "cell_type": "code",
   "execution_count": null,
   "id": "28630d71",
   "metadata": {},
   "outputs": [],
   "source": [
    "validated = tissues.validate(df_orig.index, tissues.name)\n",
    "df_orig.index[~validated]"
   ]
  },
  {
   "cell_type": "markdown",
   "id": "4dc76580",
   "metadata": {},
   "source": [
    "## Ontology source versions"
   ]
  },
  {
   "cell_type": "markdown",
   "id": "db408b48",
   "metadata": {},
   "source": [
    "For any given entity, we can choose from a number of versions:"
   ]
  },
  {
   "cell_type": "code",
   "execution_count": null,
   "id": "4191d90e",
   "metadata": {},
   "outputs": [],
   "source": [
    "lb.PublicSource.filter(entity=\"Tissue\").df()"
   ]
  },
  {
   "cell_type": "markdown",
   "id": "2bd3cb76",
   "metadata": {},
   "source": [
    "When instantiating a Bionty object, we can choose a source or version:"
   ]
  },
  {
   "cell_type": "code",
   "execution_count": null,
   "id": "62ea0b49",
   "metadata": {
    "lines_to_next_cell": 0
   },
   "outputs": [],
   "source": [
    "public_source = lb.PublicSource.filter(\n",
    "    source=\"uberon\", version=\"2023-04-19\", organism=\"all\"\n",
    ").one()\n",
    "tissues= lb.Tissue.public(public_source=public_source)\n",
    "tissues"
   ]
  },
  {
   "cell_type": "markdown",
   "id": "92315186",
   "metadata": {},
   "source": [
    "The currently used ontologies can be displayed using:"
   ]
  },
  {
   "cell_type": "code",
   "execution_count": null,
   "id": "3ba1e63a",
   "metadata": {
    "tags": [
     "hide-output"
    ]
   },
   "outputs": [],
   "source": [
    "lb.PublicSource.filter(currently_used=True).df()"
   ]
  },
  {
   "cell_type": "code",
   "execution_count": null,
   "id": "58b7ac7f",
   "metadata": {
    "tags": [
     "hide-cell"
    ]
   },
   "outputs": [],
   "source": [
    "!lamin delete --force test-tissue\n",
    "!rm -r test-tissue"
   ]
  }
 ],
 "metadata": {
  "kernelspec": {
   "display_name": "lamindb",
   "language": "python",
   "name": "python3"
  }
 },
 "nbformat": 4,
 "nbformat_minor": 5
}
