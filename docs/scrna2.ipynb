{
 "cells": [
  {
   "cell_type": "markdown",
   "metadata": {},
   "source": [
    "![scrna2/6](https://img.shields.io/badge/scrna2/6-lightgrey)\n",
    "[![Jupyter Notebook](https://img.shields.io/badge/Source%20on%20GitHub-orange)](https://github.com/laminlabs/lamin-usecases/blob/main/docs/scrna2.ipynb)\n",
    "[![lamindata](https://img.shields.io/badge/Source%20%26%20report%20on%20LaminHub-mediumseagreen)](https://lamin.ai/laminlabs/lamindata/record/core/Transform?uid=ManDYgmftZ8Cz8)"
   ]
  },
  {
   "cell_type": "markdown",
   "metadata": {},
   "source": [
    "# Standardize and append a batch of data"
   ]
  },
  {
   "cell_type": "markdown",
   "metadata": {},
   "source": [
    "Here, we'll learn \n",
    "- how to standardize a less well curated dataset\n",
    "- how to append it as a new batch of data to the growing versioned dataset"
   ]
  },
  {
   "cell_type": "code",
   "execution_count": null,
   "metadata": {},
   "outputs": [],
   "source": [
    "import lamindb as ln\n",
    "import lnschema_bionty as lb\n",
    "\n",
    "ln.track()"
   ]
  },
  {
   "cell_type": "markdown",
   "metadata": {},
   "source": [
    "## Standardize a data batch"
   ]
  },
  {
   "cell_type": "markdown",
   "metadata": {},
   "source": [
    "Let's now consider a dataset with less-well curated features:"
   ]
  },
  {
   "cell_type": "code",
   "execution_count": null,
   "metadata": {
    "tags": [
     "hide-output"
    ]
   },
   "outputs": [],
   "source": [
    "adata = ln.dev.datasets.anndata_pbmc68k_reduced()\n",
    "adata"
   ]
  },
  {
   "cell_type": "markdown",
   "metadata": {},
   "source": [
    "We are still working with human data, and can globally instruct `bionty` to assume human:"
   ]
  },
  {
   "cell_type": "code",
   "execution_count": null,
   "metadata": {},
   "outputs": [],
   "source": [
    "lb.settings.organism = \"human\""
   ]
  },
  {
   "cell_type": "markdown",
   "metadata": {},
   "source": [
    "### Standardize & validate genes ![](https://img.shields.io/badge/Validate-10b981) "
   ]
  },
  {
   "cell_type": "markdown",
   "metadata": {},
   "source": [
    "This data batch is indexed by gene symbols which we'll want to map on Ensemble ids:"
   ]
  },
  {
   "cell_type": "code",
   "execution_count": null,
   "metadata": {
    "tags": [
     "hide-output"
    ]
   },
   "outputs": [],
   "source": [
    "adata.var.head()"
   ]
  },
  {
   "cell_type": "markdown",
   "metadata": {},
   "source": [
    "Let's inspect the identifiers:"
   ]
  },
  {
   "cell_type": "code",
   "execution_count": null,
   "metadata": {
    "tags": [
     "hide-output"
    ]
   },
   "outputs": [],
   "source": [
    "lb.Gene.inspect(adata.var.index, lb.Gene.symbol)"
   ]
  },
  {
   "cell_type": "markdown",
   "metadata": {},
   "source": [
    "Let's first standardize the gene symbols from synonyms:"
   ]
  },
  {
   "cell_type": "code",
   "execution_count": null,
   "metadata": {},
   "outputs": [],
   "source": [
    "adata.var.index = lb.Gene.standardize(adata.var.index, lb.Gene.symbol)\n",
    "validated = lb.Gene.validate(adata.var.index, lb.Gene.symbol)"
   ]
  },
  {
   "cell_type": "markdown",
   "metadata": {},
   "source": [
    "We only want to register data with validated genes:"
   ]
  },
  {
   "cell_type": "code",
   "execution_count": null,
   "metadata": {},
   "outputs": [],
   "source": [
    "adata_validated = adata[:, validated].copy()"
   ]
  },
  {
   "cell_type": "markdown",
   "metadata": {},
   "source": [
    "Now that all symbols are validated, let's convert them to Ensembl ids via {meth}`~docs:lamindb.dev.CanValidate.standardize`. Note that this is an ambiguous mapping and the first match is kept because the `keep` arg of `.standardize()` defaults to `\"first\"`:"
   ]
  },
  {
   "cell_type": "code",
   "execution_count": null,
   "metadata": {},
   "outputs": [],
   "source": [
    "adata_validated.var[\"ensembl_gene_id\"] = lb.Gene.standardize(\n",
    "    adata_validated.var.index,\n",
    "    field=lb.Gene.symbol,\n",
    "    return_field=lb.Gene.ensembl_gene_id,\n",
    ")\n",
    "adata_validated.var.index.name = \"symbol\"\n",
    "adata_validated.var = adata_validated.var.reset_index().set_index(\"ensembl_gene_id\")\n",
    "adata_validated.var.head()"
   ]
  },
  {
   "cell_type": "markdown",
   "metadata": {},
   "source": [
    "Here, we'll use `.raw`:"
   ]
  },
  {
   "cell_type": "code",
   "execution_count": null,
   "metadata": {},
   "outputs": [],
   "source": [
    "adata_validated.raw = adata.raw[:, validated].to_adata()\n",
    "adata_validated.raw.var.index = adata_validated.var.index"
   ]
  },
  {
   "cell_type": "markdown",
   "metadata": {},
   "source": [
    "### Standardize & validate cell types ![](https://img.shields.io/badge/Validate-10b981) "
   ]
  },
  {
   "cell_type": "markdown",
   "metadata": {},
   "source": [
    "Inspection shows none of the terms are validated:"
   ]
  },
  {
   "cell_type": "code",
   "execution_count": null,
   "metadata": {},
   "outputs": [],
   "source": [
    "inspector = lb.CellType.inspect(adata_validated.obs.cell_type)"
   ]
  },
  {
   "cell_type": "markdown",
   "metadata": {},
   "source": [
    "Let us search the cell type names from the public ontology, and add the name value found in the `AnnData` object as a synonym to the top match found in the public ontology."
   ]
  },
  {
   "cell_type": "code",
   "execution_count": null,
   "metadata": {},
   "outputs": [],
   "source": [
    "bionty = lb.CellType.bionty()  # access the public ontology through bionty\n",
    "name_mapper = {}\n",
    "for name in adata_validated.obs.cell_type.unique():\n",
    "    # search the public ontology and use the ontology id of the top match\n",
    "    ontology_id = bionty.search(name).iloc[0].ontology_id\n",
    "    # create a record by loading the top match from bionty\n",
    "    record = lb.CellType.from_bionty(ontology_id=ontology_id)\n",
    "    name_mapper[name] = record.name  # map the original name to standardized name\n",
    "    record.save()  # save the record\n",
    "    # add the original name as a synonym, so that next time, we can just run .standardize()\n",
    "    record.add_synonym(name)"
   ]
  },
  {
   "cell_type": "markdown",
   "metadata": {},
   "source": [
    "We can now standardize cell type names using the search-based mapper:"
   ]
  },
  {
   "cell_type": "code",
   "execution_count": null,
   "metadata": {},
   "outputs": [],
   "source": [
    "adata_validated.obs.cell_type = adata_validated.obs.cell_type.map(name_mapper)"
   ]
  },
  {
   "cell_type": "markdown",
   "metadata": {},
   "source": [
    "Now, all cell types are validated:"
   ]
  },
  {
   "cell_type": "code",
   "execution_count": null,
   "metadata": {},
   "outputs": [],
   "source": [
    "validated = lb.CellType.validate(adata_validated.obs.cell_type)\n",
    "assert all(validated)"
   ]
  },
  {
   "cell_type": "markdown",
   "metadata": {},
   "source": [
    "We don't want to store any of the other metadata columns:"
   ]
  },
  {
   "cell_type": "code",
   "execution_count": null,
   "metadata": {},
   "outputs": [],
   "source": [
    "for column in [\"n_genes\", \"percent_mito\", \"louvain\"]:\n",
    "    adata.obs.drop(column, axis=1)"
   ]
  },
  {
   "cell_type": "markdown",
   "metadata": {},
   "source": [
    "### Register ![](https://img.shields.io/badge/Register-10b981) "
   ]
  },
  {
   "cell_type": "code",
   "execution_count": null,
   "metadata": {},
   "outputs": [],
   "source": [
    "experimental_factors = lb.ExperimentalFactor.lookup()\n",
    "organism = lb.Organism.lookup()\n",
    "features = ln.Feature.lookup()"
   ]
  },
  {
   "cell_type": "code",
   "execution_count": null,
   "metadata": {},
   "outputs": [],
   "source": [
    "file = ln.File.from_anndata(\n",
    "    adata_validated,\n",
    "    description=\"10x reference adata\",\n",
    "    field=lb.Gene.ensembl_gene_id,\n",
    ")"
   ]
  },
  {
   "cell_type": "markdown",
   "metadata": {},
   "source": [
    "As we do not want to manage the remaining unvalidated terms in registries, we can save the file."
   ]
  },
  {
   "cell_type": "code",
   "execution_count": null,
   "metadata": {},
   "outputs": [],
   "source": [
    "file.save()"
   ]
  },
  {
   "cell_type": "code",
   "execution_count": null,
   "metadata": {},
   "outputs": [],
   "source": [
    "file.labels.add(adata_validated.obs.cell_type, features.cell_type)\n",
    "file.labels.add(organism.human, feature=features.organism)\n",
    "file.labels.add(experimental_factors.single_cell_rna_sequencing, feature=features.assay)"
   ]
  },
  {
   "cell_type": "code",
   "execution_count": null,
   "metadata": {},
   "outputs": [],
   "source": [
    "file.describe()"
   ]
  },
  {
   "cell_type": "code",
   "execution_count": null,
   "metadata": {},
   "outputs": [],
   "source": [
    "file.view_flow()"
   ]
  },
  {
   "cell_type": "markdown",
   "metadata": {},
   "source": [
    "## Append the batch to the dataset"
   ]
  },
  {
   "cell_type": "markdown",
   "metadata": {},
   "source": [
    "Query the previous dataset:"
   ]
  },
  {
   "cell_type": "code",
   "execution_count": null,
   "metadata": {},
   "outputs": [],
   "source": [
    "dataset_v1 = ln.Dataset.filter(name=\"My versioned scRNA-seq dataset\", version=\"1\").one()"
   ]
  },
  {
   "cell_type": "markdown",
   "metadata": {},
   "source": [
    "Create a new version of the dataset by sharding it across the new `file` and the file underlying version 1 of the dataset:"
   ]
  },
  {
   "cell_type": "code",
   "execution_count": null,
   "metadata": {},
   "outputs": [],
   "source": [
    "dataset_v2 = ln.Dataset(\n",
    "    [file, dataset_v1.file],\n",
    "    is_new_version_of=dataset_v1,\n",
    ")\n",
    "dataset_v2.save()\n",
    "\n",
    "# annotate the dataset\n",
    "dataset_v2.labels.add_from(file)\n",
    "dataset_v2.labels.add_from(dataset_v1)"
   ]
  },
  {
   "cell_type": "markdown",
   "metadata": {},
   "source": [
    "Version 2 of the dataset covers significantly more conditions."
   ]
  },
  {
   "cell_type": "code",
   "execution_count": null,
   "metadata": {},
   "outputs": [],
   "source": [
    "dataset_v2.describe()"
   ]
  },
  {
   "cell_type": "markdown",
   "metadata": {},
   "source": [
    "View the flow:"
   ]
  },
  {
   "cell_type": "code",
   "execution_count": null,
   "metadata": {},
   "outputs": [],
   "source": [
    "dataset_v2.view_flow()"
   ]
  }
 ],
 "metadata": {
  "kernelspec": {
   "display_name": "Python 3 (ipykernel)",
   "language": "python",
   "name": "python3"
  },
  "language_info": {
   "codemirror_mode": {
    "name": "ipython",
    "version": 3
   },
   "file_extension": ".py",
   "mimetype": "text/x-python",
   "name": "python",
   "nbconvert_exporter": "python",
   "pygments_lexer": "ipython3",
   "version": "3.9.16"
  },
  "nbproject": {
   "id": "ManDYgmftZ8C",
   "parent": null,
   "pypackage": null,
   "time_init": "2023-09-29T09:45:47.585425+00:00",
   "user_handle": null,
   "user_id": null,
   "user_name": null,
   "version": "0"
  }
 },
 "nbformat": 4,
 "nbformat_minor": 2
}
