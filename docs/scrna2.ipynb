{
 "cells": [
  {
   "cell_type": "markdown",
   "metadata": {},
   "source": [
    "![scrna2/6](https://img.shields.io/badge/scrna2/6-lightgrey)\n",
    "[![Jupyter Notebook](https://img.shields.io/badge/Source%20on%20GitHub-orange)](https://github.com/laminlabs/lamin-usecases/blob/main/docs/scrna2.ipynb)\n",
    "[![lamindata](https://img.shields.io/badge/Source%20%26%20report%20on%20LaminHub-mediumseagreen)](https://lamin.ai/laminlabs/transform/ManDYgmftZ8Cz8)"
   ]
  },
  {
   "cell_type": "markdown",
   "metadata": {},
   "source": [
    "# Standardize and append a batch of data"
   ]
  },
  {
   "cell_type": "markdown",
   "metadata": {},
   "source": [
    "Here, we'll learn \n",
    "- how to standardize a less well curated collection\n",
    "- how to append it to the growing versioned collection"
   ]
  },
  {
   "cell_type": "code",
   "execution_count": null,
   "metadata": {},
   "outputs": [],
   "source": [
    "import lamindb as ln\n",
    "import bionty as bt\n",
    "\n",
    "ln.settings.verbosity = \"hint\"\n",
    "bt.settings.auto_save_parents = False\n",
    "ln.settings.transform.stem_uid = \"ManDYgmftZ8C\"\n",
    "ln.settings.transform.version = \"1\"\n",
    "ln.track()"
   ]
  },
  {
   "cell_type": "markdown",
   "metadata": {},
   "source": [
    "Let's now consider a less-well curated dataset:"
   ]
  },
  {
   "cell_type": "code",
   "execution_count": null,
   "metadata": {
    "tags": [
     "hide-output"
    ]
   },
   "outputs": [],
   "source": [
    "adata = ln.core.datasets.anndata_pbmc68k_reduced()\n",
    "adata"
   ]
  },
  {
   "cell_type": "markdown",
   "metadata": {},
   "source": [
    "We are still working with human data, and can globally set an organism:"
   ]
  },
  {
   "cell_type": "code",
   "execution_count": null,
   "metadata": {},
   "outputs": [],
   "source": [
    "bt.settings.organism = \"human\""
   ]
  },
  {
   "cell_type": "code",
   "execution_count": null,
   "metadata": {},
   "outputs": [],
   "source": [
    "annotate = ln.Annotate.from_anndata(adata, var_index=bt.Gene.symbol, categoricals={\"cell_type\": bt.CellType.name})"
   ]
  },
  {
   "cell_type": "markdown",
   "metadata": {},
   "source": [
    "## Standardize & validate genes ![](https://img.shields.io/badge/Validate-10b981) "
   ]
  },
  {
   "cell_type": "markdown",
   "metadata": {},
   "source": [
    "Let's convert Gene symbols to Ensembl ids via {meth}`~docs:lamindb.core.CanValidate.standardize`. Note that this is a non-unique mapping and the first match is kept because the `keep` parameter in `.standardize()` defaults to `\"first\"`:"
   ]
  },
  {
   "cell_type": "code",
   "execution_count": null,
   "metadata": {},
   "outputs": [],
   "source": [
    "adata.var[\"ensembl_gene_id\"] = bt.Gene.standardize(\n",
    "    adata.var.index,\n",
    "    field=bt.Gene.symbol,\n",
    "    return_field=bt.Gene.ensembl_gene_id,\n",
    ")\n",
    "# use ensembl_gene_id as the index\n",
    "adata.var.index.name = \"symbol\"\n",
    "adata.var = adata.var.reset_index().set_index(\"ensembl_gene_id\")\n",
    "\n",
    "# we only want to save data with validated genes\n",
    "validated = bt.Gene.validate(adata.var.index, bt.Gene.ensembl_gene_id, mute=True)\n",
    "adata_validated = adata[:, validated].copy()"
   ]
  },
  {
   "cell_type": "markdown",
   "metadata": {},
   "source": [
    "Here, we'll use `.raw`:"
   ]
  },
  {
   "cell_type": "code",
   "execution_count": null,
   "metadata": {},
   "outputs": [],
   "source": [
    "adata_validated.raw = adata.raw[:, validated].to_adata()\n",
    "adata_validated.raw.var.index = adata_validated.var.index"
   ]
  },
  {
   "cell_type": "code",
   "execution_count": null,
   "metadata": {},
   "outputs": [],
   "source": [
    "annotate = ln.Annotate.from_anndata(adata_validated, var_index=bt.Gene.ensembl_gene_id, categoricals={\"cell_type\": bt.CellType.name})"
   ]
  },
  {
   "cell_type": "code",
   "execution_count": null,
   "metadata": {},
   "outputs": [],
   "source": [
    "annotate.validate()"
   ]
  },
  {
   "cell_type": "markdown",
   "metadata": {},
   "source": [
    "## Standardize & validate cell types ![](https://img.shields.io/badge/Validate-10b981) "
   ]
  },
  {
   "cell_type": "markdown",
   "metadata": {},
   "source": [
    "Since none of the cell types are validate, let us search the cell type names from the public ontology, and add the name found in the `AnnData` object as a synonym to the top match found in the public ontology."
   ]
  },
  {
   "cell_type": "code",
   "execution_count": null,
   "metadata": {
    "tags": [
     "hide-output"
    ]
   },
   "outputs": [],
   "source": [
    "bionty = bt.CellType.public()  # access the public ontology through bionty\n",
    "name_mapper = {}\n",
    "for name in adata_validated.obs.cell_type.unique():\n",
    "    # search the public ontology and use the ontology id of the top match\n",
    "    ontology_id = bionty.search(name).iloc[0].ontology_id\n",
    "    # create a record by loading the top match from bionty\n",
    "    record = bt.CellType.from_public(ontology_id=ontology_id)\n",
    "    name_mapper[name] = record.name  # map the original name to standardized name\n",
    "    record.save()\n",
    "    record.add_synonym(name)"
   ]
  },
  {
   "cell_type": "markdown",
   "metadata": {},
   "source": [
    "We can now standardize cell type names using the search-based mapper:"
   ]
  },
  {
   "cell_type": "code",
   "execution_count": null,
   "metadata": {},
   "outputs": [],
   "source": [
    "adata_validated.obs.cell_type = adata_validated.obs.cell_type.map(name_mapper)"
   ]
  },
  {
   "cell_type": "markdown",
   "metadata": {},
   "source": [
    "Now, all cell types are validated:"
   ]
  },
  {
   "cell_type": "code",
   "execution_count": null,
   "metadata": {},
   "outputs": [],
   "source": [
    "annotate.validate()"
   ]
  },
  {
   "cell_type": "markdown",
   "metadata": {},
   "source": [
    "### Register ![](https://img.shields.io/badge/Register-10b981) "
   ]
  },
  {
   "cell_type": "code",
   "execution_count": null,
   "metadata": {},
   "outputs": [],
   "source": [
    "artifact = annotate.save_artifact(description=\"10x reference adata\")"
   ]
  },
  {
   "cell_type": "code",
   "execution_count": null,
   "metadata": {},
   "outputs": [],
   "source": [
    "artifact.view_lineage()"
   ]
  },
  {
   "cell_type": "markdown",
   "metadata": {},
   "source": [
    "## Append the shard to the collection"
   ]
  },
  {
   "cell_type": "markdown",
   "metadata": {},
   "source": [
    "Query the previous collection:"
   ]
  },
  {
   "cell_type": "code",
   "execution_count": null,
   "metadata": {},
   "outputs": [],
   "source": [
    "collection_v1 = ln.Collection.filter(\n",
    "    name=\"My versioned scRNA-seq collection\", version=\"1\"\n",
    ").one()"
   ]
  },
  {
   "cell_type": "markdown",
   "metadata": {},
   "source": [
    "Create a new version of the collection by sharding it across the new `artifact` and the artifact underlying version 1 of the collection:"
   ]
  },
  {
   "cell_type": "code",
   "execution_count": null,
   "metadata": {
    "tags": [
     "hide-output"
    ]
   },
   "outputs": [],
   "source": [
    "collection_v2 = ln.Collection(\n",
    "    [artifact, collection_v1.artifacts[0]],\n",
    "    is_new_version_of=collection_v1,\n",
    ")\n",
    "collection_v2.save()\n",
    "collection_v2.labels.add_from(artifact)\n",
    "collection_v2.labels.add_from(collection_v1)"
   ]
  },
  {
   "cell_type": "markdown",
   "metadata": {},
   "source": [
    "Version 2 of the collection covers significantly more conditions."
   ]
  },
  {
   "cell_type": "code",
   "execution_count": null,
   "metadata": {},
   "outputs": [],
   "source": [
    "collection_v2.describe()"
   ]
  },
  {
   "cell_type": "markdown",
   "metadata": {},
   "source": [
    "View data lineage:"
   ]
  },
  {
   "cell_type": "code",
   "execution_count": null,
   "metadata": {},
   "outputs": [],
   "source": [
    "collection_v2.view_lineage()"
   ]
  }
 ],
 "metadata": {
  "kernelspec": {
   "display_name": "Python 3 (ipykernel)",
   "language": "python",
   "name": "python3"
  },
  "language_info": {
   "codemirror_mode": {
    "name": "ipython",
    "version": 3
   },
   "file_extension": ".py",
   "mimetype": "text/x-python",
   "name": "python",
   "nbconvert_exporter": "python",
   "pygments_lexer": "ipython3",
   "version": "3.10.13"
  },
  "nbproject": {
   "id": "ManDYgmftZ8C",
   "parent": null,
   "pypackage": null,
   "time_init": "2023-09-29T09:45:47.585425+00:00",
   "user_handle": null,
   "user_id": null,
   "user_name": null,
   "version": "1"
  }
 },
 "nbformat": 4,
 "nbformat_minor": 2
}
