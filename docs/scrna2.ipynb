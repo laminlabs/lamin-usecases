{
 "cells": [
  {
   "cell_type": "markdown",
   "metadata": {},
   "source": [
    "![scrna2/6](https://img.shields.io/badge/scrna2/6-lightgrey)\n",
    "[![Jupyter Notebook](https://img.shields.io/badge/Source%20on%20GitHub-orange)](https://github.com/laminlabs/lamin-usecases/blob/main/docs/scrna2.ipynb)\n",
    "[![lamindata](https://img.shields.io/badge/Source%20%26%20report%20on%20LaminHub-mediumseagreen)](https://lamin.ai/laminlabs/lamindata/transform/ManDYgmftZ8C65cN/D7mKQfDEiaoZl8mhdHYX)"
   ]
  },
  {
   "cell_type": "markdown",
   "metadata": {},
   "source": [
    "# Standardize and append a dataset"
   ]
  },
  {
   "cell_type": "markdown",
   "metadata": {},
   "source": [
    "Here, we'll learn \n",
    "- how to standardize a less well curated dataset\n",
    "- how to append it to the growing versioned collection"
   ]
  },
  {
   "cell_type": "code",
   "execution_count": null,
   "metadata": {
    "tags": [
     "hide-output"
    ]
   },
   "outputs": [],
   "source": [
    "import lamindb as ln\n",
    "import bionty as bt\n",
    "\n",
    "ln.track(\"ManDYgmftZ8C0003\")"
   ]
  },
  {
   "cell_type": "markdown",
   "metadata": {},
   "source": [
    "Let's now consider a less-well curated dataset:"
   ]
  },
  {
   "cell_type": "code",
   "execution_count": null,
   "metadata": {
    "tags": [
     "hide-output"
    ]
   },
   "outputs": [],
   "source": [
    "adata = ln.core.datasets.anndata_pbmc68k_reduced()\n",
    "# we don't trust the cell type annotation in this dataset\n",
    "adata.obs.rename(columns={\"cell_type\": \"cell_type_untrusted\"}, inplace=True)\n",
    "adata"
   ]
  },
  {
   "cell_type": "markdown",
   "metadata": {},
   "source": [
    "Create a curator:"
   ]
  },
  {
   "cell_type": "code",
   "execution_count": null,
   "metadata": {
    "tags": [
     "hide-output"
    ]
   },
   "outputs": [],
   "source": [
    "curate = ln.Curator.from_anndata(\n",
    "    adata,\n",
    "    var_index=bt.Gene.symbol,\n",
    "    categoricals={\"cell_type_untrusted\": bt.CellType.name},\n",
    "    organism=\"human\",\n",
    ")"
   ]
  },
  {
   "cell_type": "markdown",
   "metadata": {},
   "source": [
    "## Standardize & validate genes ![](https://img.shields.io/badge/Validate-10b981) "
   ]
  },
  {
   "cell_type": "markdown",
   "metadata": {},
   "source": [
    "Let's convert Gene symbols to Ensembl ids via {meth}`~docs:lamindb.core.CanValidate.standardize`. Note that this is a non-unique mapping and the first match is kept because the `keep` parameter in `.standardize()` defaults to `\"first\"`:"
   ]
  },
  {
   "cell_type": "code",
   "execution_count": null,
   "metadata": {
    "tags": [
     "hide-output"
    ]
   },
   "outputs": [],
   "source": [
    "adata.var[\"ensembl_gene_id\"] = bt.Gene.standardize(\n",
    "    adata.var.index,\n",
    "    field=bt.Gene.symbol,\n",
    "    return_field=bt.Gene.ensembl_gene_id,\n",
    "    organism=\"human\",\n",
    ")\n",
    "# use ensembl_gene_id as the index\n",
    "adata.var.index.name = \"symbol\"\n",
    "adata.var = adata.var.reset_index().set_index(\"ensembl_gene_id\")\n",
    "\n",
    "# we only want to save data with validated genes\n",
    "validated = bt.Gene.validate(adata.var.index, bt.Gene.ensembl_gene_id, mute=True)\n",
    "adata_validated = adata[:, validated].copy()"
   ]
  },
  {
   "cell_type": "markdown",
   "metadata": {},
   "source": [
    "Here, we'll use `.raw`:"
   ]
  },
  {
   "cell_type": "code",
   "execution_count": null,
   "metadata": {
    "tags": [
     "hide-output"
    ]
   },
   "outputs": [],
   "source": [
    "adata_validated.raw = adata.raw[:, validated].to_adata()\n",
    "adata_validated.raw.var.index = adata_validated.var.index"
   ]
  },
  {
   "cell_type": "code",
   "execution_count": null,
   "metadata": {
    "tags": [
     "hide-output"
    ]
   },
   "outputs": [],
   "source": [
    "curate = ln.Curator.from_anndata(\n",
    "    adata_validated,\n",
    "    var_index=bt.Gene.ensembl_gene_id,\n",
    "    categoricals={\"cell_type_untrusted\": bt.CellType.name},\n",
    "    organism=\"human\",\n",
    ")"
   ]
  },
  {
   "cell_type": "code",
   "execution_count": null,
   "metadata": {
    "tags": [
     "hide-output"
    ]
   },
   "outputs": [],
   "source": [
    "curate.validate()"
   ]
  },
  {
   "cell_type": "code",
   "execution_count": null,
   "metadata": {
    "tags": [
     "hide-output"
    ]
   },
   "outputs": [],
   "source": [
    "curate.add_validated_from_var_index()"
   ]
  },
  {
   "cell_type": "markdown",
   "metadata": {},
   "source": [
    "## Standardize & validate cell types ![](https://img.shields.io/badge/Validate-10b981) "
   ]
  },
  {
   "cell_type": "markdown",
   "metadata": {},
   "source": [
    "None of the cell type names are valid.\n",
    "\n",
    "We'll now search the public ontology and add the name found in the dataset as a synonym to the top match found in the public ontology."
   ]
  },
  {
   "cell_type": "code",
   "execution_count": null,
   "metadata": {
    "tags": [
     "hide-output"
    ]
   },
   "outputs": [],
   "source": [
    "bionty = bt.CellType.public()  # access the public ontology through bionty\n",
    "name_mapping = {}\n",
    "for invalid_name in adata_validated.obs[\"cell_type_untrusted\"].unique():\n",
    "    ontology_id = bionty.search(invalid_name).iloc[0].ontology_id  # top search hit through iloc[0]\n",
    "    record = bt.CellType.from_source(ontology_id=ontology_id)\n",
    "    name_mapping[invalid_name] = record.name  # map the original name to standardized name\n",
    "    record.save()\n",
    "    # record.add_synonym(name)  # optionally save the invalid name as synonym so that it becomes searchable\n",
    "# print the mapping\n",
    "print(name_mapping)"
   ]
  },
  {
   "cell_type": "markdown",
   "metadata": {},
   "source": [
    "We can now standardize cell type names using the search-based mapper:"
   ]
  },
  {
   "cell_type": "code",
   "execution_count": null,
   "metadata": {
    "tags": [
     "hide-output"
    ]
   },
   "outputs": [],
   "source": [
    "adata_validated.obs[\"cell_type_untrusted_original\"] = adata_validated.obs[\"cell_type_untrusted\"]  # copy the original annotations\n",
    "adata_validated.obs[\"cell_type_untrusted\"] = adata_validated.obs[\"cell_type_untrusted_original\"].map(name_mapping)"
   ]
  },
  {
   "cell_type": "markdown",
   "metadata": {},
   "source": [
    "Now, all cell types are validated:"
   ]
  },
  {
   "cell_type": "code",
   "execution_count": null,
   "metadata": {
    "tags": [
     "hide-output"
    ]
   },
   "outputs": [],
   "source": [
    "curate.validate()"
   ]
  },
  {
   "cell_type": "markdown",
   "metadata": {},
   "source": [
    "### Register ![](https://img.shields.io/badge/Register-10b981) "
   ]
  },
  {
   "cell_type": "code",
   "execution_count": null,
   "metadata": {
    "tags": [
     "hide-output"
    ]
   },
   "outputs": [],
   "source": [
    "artifact = curate.save_artifact(description=\"10x reference adata\")"
   ]
  },
  {
   "cell_type": "code",
   "execution_count": null,
   "metadata": {
    "tags": [
     "hide-output"
    ]
   },
   "outputs": [],
   "source": [
    "artifact.view_lineage()"
   ]
  },
  {
   "cell_type": "code",
   "execution_count": null,
   "metadata": {},
   "outputs": [],
   "source": [
    "artifact.describe()"
   ]
  },
  {
   "cell_type": "markdown",
   "metadata": {},
   "source": [
    "## Re-curate"
   ]
  },
  {
   "cell_type": "markdown",
   "metadata": {},
   "source": [
    "We review the dataset and find all annotations trustworthy up there being a `'CD38-positive naive B cell'`.\n",
    "\n",
    "Inspecting the `name_mapping` in detail tells us `'CD8+/CD45RA+ Naive Cytotoxic'` was erroneously mapped on a B cell.\n",
    "\n",
    "Let us correct this and create a `'cell_type'` feature that we can now trust."
   ]
  },
  {
   "cell_type": "code",
   "execution_count": null,
   "metadata": {},
   "outputs": [],
   "source": [
    "name_mapping['CD38-positive naive B cell'] = 'cytotoxic T cell'"
   ]
  },
  {
   "cell_type": "code",
   "execution_count": null,
   "metadata": {},
   "outputs": [],
   "source": [
    "adata_validated.obs[\"cell_type\"] = adata_validated.obs[\"cell_type_untrusted_original\"].map(name_mapping)\n",
    "adata_validated.obs[\"cell_type\"].unique()"
   ]
  },
  {
   "cell_type": "code",
   "execution_count": null,
   "metadata": {},
   "outputs": [],
   "source": [
    "artifact_trusted = ln.Curator.from_anndata(\n",
    "    adata_validated,\n",
    "    var_index=bt.Gene.ensembl_gene_id,\n",
    "    categoricals={\"cell_type\": bt.CellType.name, \"cell_type_untrusted\": bt.CellType.name},\n",
    "    organism=\"human\",\n",
    ").save_artifact(\n",
    "    description=\"10x reference adata, trusted cell type annotation\",\n",
    "    revises=artifact,\n",
    ")"
   ]
  },
  {
   "cell_type": "code",
   "execution_count": null,
   "metadata": {
    "tags": [
     "hide-output"
    ]
   },
   "outputs": [],
   "source": [
    "artifact_trusted.describe()"
   ]
  },
  {
   "cell_type": "markdown",
   "metadata": {},
   "source": [
    "## Append the dataset to the collection"
   ]
  },
  {
   "cell_type": "markdown",
   "metadata": {},
   "source": [
    "Query the previous collection:"
   ]
  },
  {
   "cell_type": "code",
   "execution_count": null,
   "metadata": {
    "tags": [
     "hide-output"
    ]
   },
   "outputs": [],
   "source": [
    "collection_v1 = ln.Collection.get(name=\"My versioned scRNA-seq collection\", is_latest=True)"
   ]
  },
  {
   "cell_type": "markdown",
   "metadata": {},
   "source": [
    "Create a new version of the collection by sharding it across the new `artifact` and the artifact underlying version 1 of the collection:"
   ]
  },
  {
   "cell_type": "code",
   "execution_count": null,
   "metadata": {
    "tags": [
     "hide-output"
    ]
   },
   "outputs": [],
   "source": [
    "collection_v2 = collection_v1.append(artifact_trusted).save()"
   ]
  },
  {
   "cell_type": "markdown",
   "metadata": {},
   "source": [
    "If you want, you can label the collection's version by setting `.version`."
   ]
  },
  {
   "cell_type": "code",
   "execution_count": null,
   "metadata": {
    "tags": [
     "hide-output"
    ]
   },
   "outputs": [],
   "source": [
    "collection_v2.version = \"2\"\n",
    "collection_v2.save()"
   ]
  },
  {
   "cell_type": "markdown",
   "metadata": {},
   "source": [
    "Version 2 of the collection covers significantly more conditions."
   ]
  },
  {
   "cell_type": "code",
   "execution_count": null,
   "metadata": {
    "tags": [
     "hide-output"
    ]
   },
   "outputs": [],
   "source": [
    "collection_v2.describe()"
   ]
  },
  {
   "cell_type": "markdown",
   "metadata": {},
   "source": [
    "View data lineage:"
   ]
  },
  {
   "cell_type": "code",
   "execution_count": null,
   "metadata": {
    "tags": [
     "hide-output"
    ]
   },
   "outputs": [],
   "source": [
    "collection_v2.view_lineage()"
   ]
  }
 ],
 "metadata": {
  "kernelspec": {
   "display_name": "Python 3 (ipykernel)",
   "language": "python",
   "name": "python3"
  },
  "language_info": {
   "codemirror_mode": {
    "name": "ipython",
    "version": 3
   },
   "file_extension": ".py",
   "mimetype": "text/x-python",
   "name": "python",
   "nbconvert_exporter": "python",
   "pygments_lexer": "ipython3",
   "version": "3.10.13"
  },
  "nbproject": {
   "id": "ManDYgmftZ8C",
   "parent": null,
   "pypackage": null,
   "time_init": "2023-09-29T09:45:47.585425+00:00",
   "user_handle": null,
   "user_id": null,
   "user_name": null,
   "version": "1"
  }
 },
 "nbformat": 4,
 "nbformat_minor": 2
}
