{
 "cells": [
  {
   "cell_type": "markdown",
   "metadata": {},
   "source": [
    "![scrna1/6](https://img.shields.io/badge/scrna1/6-lightgrey)\n",
    "[![Jupyter Notebook](https://img.shields.io/badge/Jupyter%20Notebook-orange)](https://github.com/laminlabs/lamin-usecases/blob/main/docs/scrna.ipynb)\n",
    "[![lamindata](https://img.shields.io/badge/laminlabs/lamindata-mediumseagreen)](https://lamin.ai/laminlabs/lamindata/record/core/Transform?uid=Nv48yAceNSh8z8)\n",
    "[![Binder](https://mybinder.org/badge_logo.svg)](https://mybinder.org/v2/gh/laminlabs/lamin-usecases/main?labpath=lamin-usecases%2Fdocs%2Fscrna.ipynb)"
   ]
  },
  {
   "cell_type": "markdown",
   "metadata": {},
   "source": [
    "# scRNA-seq"
   ]
  },
  {
   "cell_type": "markdown",
   "metadata": {},
   "source": [
    "You'll learn how to manage a growing number of scRNA-seq data batches as a single queryable dataset.\n",
    "\n",
    "Along the way, you'll see how to create reports, leverage data lineage, and query individual data batches stored as files.\n",
    "\n",
    "If you're interested in directly using the type of large curated atlas of scRNA-seq datasets that arises from the present guide, see the [CELLxGENE Census guide](/cellxgene-census).\n",
    "\n",
    "Here, you will:\n",
    "\n",
    "1. read a single `.h5ad` file as an `AnnData` object and seed a growing dataset with it (![scrna1/6](https://img.shields.io/badge/scrna1/6-lightgrey), current page)\n",
    "2. append a new data batch (a new `.h5ad` file) and create a new version of this dataset ([![scrna2/6](https://img.shields.io/badge/scrna2/6-lightgrey)](/scrna2))\n",
    "3. query & inspect files by metadata individually ([![scrna3/6](https://img.shields.io/badge/scrna3/6-lightgrey)](/scrna3))\n",
    "4. load the dataset into memory and save analytical results ([![scrna4/6](https://img.shields.io/badge/scrna4/6-lightgrey)](/scrna4))\n",
    "5. iterate over the dataset, train a model, store a derived representation ([![scrna5/6](https://img.shields.io/badge/scrna5/6-lightgrey)](/scrna5))\n",
    "6. discuss converting a number of files to a single TileDB SOMA store of the same data ([![scrna6/6](https://img.shields.io/badge/scrna6/6-lightgrey)](/scrna6))\n",
    "\n",
    "```{toctree}\n",
    ":maxdepth: 1\n",
    ":hidden:\n",
    "\n",
    "scrna2\n",
    "scrna3\n",
    "scrna4\n",
    "scrna5\n",
    "scrna6\n",
    "```"
   ]
  },
  {
   "cell_type": "markdown",
   "metadata": {},
   "source": [
    "## Setup"
   ]
  },
  {
   "cell_type": "code",
   "execution_count": null,
   "metadata": {
    "tags": [
     "hide-output"
    ]
   },
   "outputs": [],
   "source": [
    "!lamin init --storage ./test-scrna --schema bionty"
   ]
  },
  {
   "cell_type": "code",
   "execution_count": null,
   "metadata": {},
   "outputs": [],
   "source": [
    "import lamindb as ln\n",
    "import lnschema_bionty as lb\n",
    "import pandas as pd\n",
    "\n",
    "ln.track()"
   ]
  },
  {
   "cell_type": "markdown",
   "metadata": {},
   "source": [
    "## Access ![](https://img.shields.io/badge/Access-10b981)"
   ]
  },
  {
   "cell_type": "markdown",
   "metadata": {},
   "source": [
    "Let us look at the data of [Conde _et al._, Science (2022)](https://doi.org/10.1126/science.abl5197).\n",
    "\n",
    "These data are available in standardized form from the [CellxGene data portal](https://cellxgene.cziscience.com/).\n",
    "\n",
    "Here, we'll use it to seed a growing in-house store of scRNA-seq data managed with the corresponding metadata in LaminDB registries.\n",
    "\n",
    "```{note}\n",
    "\n",
    "If you're not interested in managing large collections of in-house data and you'd just like to query public data, please take a look at [CellxGene census](docs:cellxgene-census), which exposes all datasets hosted in the data portal as a concatenated TileDB SOMA store.\n",
    "\n",
    "```"
   ]
  },
  {
   "cell_type": "code",
   "execution_count": null,
   "metadata": {
    "tags": [
     "hide-output"
    ]
   },
   "outputs": [],
   "source": [
    "lb.settings.organism = \"human\""
   ]
  },
  {
   "cell_type": "markdown",
   "metadata": {},
   "source": [
    "By calling {func}`~lamindb.dev.datasets.anndata_human_immune_cells`, we load a subsampled version of a [dataset from CZ CELLxGENE](https://cellxgene.cziscience.com/collections/62ef75e4-cbea-454e-a0ce-998ec40223d3) and pre-populate the corresponding LaminDB registries: {class}`lnschema_bionty.Feature`, {class}`lnschema_bionty.ULabel`, {class}`lnschema_bionty.Gene`, {class}`lnschema_bionty.CellType`, {class}`lnschema_bionty.CellLine`, {class}`lnschema_bionty.ExperimentalFactor`."
   ]
  },
  {
   "cell_type": "code",
   "execution_count": null,
   "metadata": {
    "tags": [
     "hide-output"
    ]
   },
   "outputs": [],
   "source": [
    "adata = ln.dev.datasets.anndata_human_immune_cells(populate_registries=True)"
   ]
  },
  {
   "cell_type": "code",
   "execution_count": null,
   "metadata": {},
   "outputs": [],
   "source": [
    "adata"
   ]
  },
  {
   "cell_type": "markdown",
   "metadata": {},
   "source": [
    "This `AnnData` is standardized using the [CZI single-cell-curation validator](https://github.com/chanzuckerberg/single-cell-curation) the same public ontologies underlying [lnschema-bionty](docs:lnschema-bionty). Because registries are populated, validation passes.\n",
    "\n",
    "```{note}\n",
    "\n",
    "In the [this guide](/scrna2), we'll curate a non-standardized dataset as you might get from an external partner.\n",
    "\n",
    "```"
   ]
  },
  {
   "cell_type": "markdown",
   "metadata": {},
   "source": [
    "The gene registry provides metadata for each of the 36k gene measured in the `AnnData`:"
   ]
  },
  {
   "cell_type": "code",
   "execution_count": null,
   "metadata": {},
   "outputs": [],
   "source": [
    "lb.Gene.filter().df().head()"
   ]
  },
  {
   "cell_type": "markdown",
   "metadata": {},
   "source": [
    "When we create a `File` object from an `AnnData`, we automatically link its features:"
   ]
  },
  {
   "cell_type": "code",
   "execution_count": null,
   "metadata": {},
   "outputs": [],
   "source": [
    "modalities = ln.Modality.lookup()  # optional: label by data modality\n",
    "file = ln.File.from_anndata(\n",
    "    adata, description=\"Conde22\", field=lb.Gene.ensembl_gene_id, modality=modalities.rna\n",
    ")"
   ]
  },
  {
   "cell_type": "code",
   "execution_count": null,
   "metadata": {},
   "outputs": [],
   "source": [
    "file.save()"
   ]
  },
  {
   "cell_type": "markdown",
   "metadata": {},
   "source": [
    "The file has 2 linked feature sets, one for measured genes and one for measured metadata:"
   ]
  },
  {
   "cell_type": "code",
   "execution_count": null,
   "metadata": {},
   "outputs": [],
   "source": [
    "file.features"
   ]
  },
  {
   "cell_type": "markdown",
   "metadata": {},
   "source": [
    "Let's now validate the corresponding label slots in the `AnnData` and annotate the file with labels:"
   ]
  },
  {
   "cell_type": "code",
   "execution_count": null,
   "metadata": {
    "tags": [
     "hide-output"
    ]
   },
   "outputs": [],
   "source": [
    "experimental_factors = lb.ExperimentalFactor.lookup()\n",
    "organism = lb.Organism.lookup()\n",
    "features = ln.Feature.lookup()\n",
    "\n",
    "file.labels.add(organism.human, feature=features.organism)\n",
    "file.labels.add(experimental_factors.single_cell_rna_sequencing, feature=features.assay)\n",
    "file.labels.add(adata.obs.cell_type, feature=features.cell_type)\n",
    "file.labels.add(adata.obs.assay, feature=features.assay)\n",
    "file.labels.add(adata.obs.tissue, feature=features.tissue)\n",
    "file.labels.add(adata.obs.donor, feature=features.donor)"
   ]
  },
  {
   "cell_type": "markdown",
   "metadata": {},
   "source": [
    "The file is now queryable by everything we linked:"
   ]
  },
  {
   "cell_type": "code",
   "execution_count": null,
   "metadata": {},
   "outputs": [],
   "source": [
    "file.describe()"
   ]
  },
  {
   "cell_type": "markdown",
   "metadata": {},
   "source": [
    "## Seed a dataset"
   ]
  },
  {
   "cell_type": "markdown",
   "metadata": {},
   "source": [
    "Let's create a first version of a dataset that will encompass many `h5ad` files when more data is ingested.\n",
    "\n",
    "```{note}\n",
    "\n",
    "To see the result of the incremental growth, take a look at the [CELLxGENE Census guide](/cellxgene-census) for an instance with ~1k h5ads and ~50 million cells.\n",
    "\n",
    "```"
   ]
  },
  {
   "cell_type": "code",
   "execution_count": null,
   "metadata": {},
   "outputs": [],
   "source": [
    "dataset = ln.Dataset(file, name=\"My versioned scRNA-seq dataset\", version=\"1\")\n",
    "dataset.save()\n",
    "dataset.labels.add_from(file)  # seed the initial labels of the dataset"
   ]
  },
  {
   "cell_type": "markdown",
   "metadata": {},
   "source": [
    "For this version 1 of the dataset, dataset and file match each other. But they're independently tracked and queryable through their registries:"
   ]
  },
  {
   "cell_type": "code",
   "execution_count": null,
   "metadata": {},
   "outputs": [],
   "source": [
    "dataset.describe()"
   ]
  },
  {
   "cell_type": "markdown",
   "metadata": {},
   "source": [
    "Access the file like so:"
   ]
  },
  {
   "cell_type": "code",
   "execution_count": null,
   "metadata": {},
   "outputs": [],
   "source": [
    "dataset.file"
   ]
  },
  {
   "cell_type": "markdown",
   "metadata": {},
   "source": [
    "See data flow:"
   ]
  },
  {
   "cell_type": "code",
   "execution_count": null,
   "metadata": {},
   "outputs": [],
   "source": [
    "dataset.view_flow()"
   ]
  }
 ],
 "metadata": {
  "kernelspec": {
   "display_name": "Python 3",
   "language": "python",
   "name": "python3"
  },
  "language_info": {
   "codemirror_mode": {
    "name": "ipython",
    "version": 3
   },
   "file_extension": ".py",
   "mimetype": "text/x-python",
   "name": "python",
   "nbconvert_exporter": "python",
   "pygments_lexer": "ipython3",
   "version": "3.9.16"
  },
  "nbproject": {
   "id": "Nv48yAceNSh8",
   "parent": null,
   "time_init": "2022-11-11T08:26:30.848866+00:00",
   "user_handle": "testuser2",
   "user_id": "bKeW4T6E",
   "user_name": "Test User2",
   "version": "0"
  },
  "vscode": {
   "interpreter": {
    "hash": "ae1fefc8646a06dd2e75004cd934adda7c5727b046986a772e3b44b0ffba9754"
   }
  }
 },
 "nbformat": 4,
 "nbformat_minor": 4
}
