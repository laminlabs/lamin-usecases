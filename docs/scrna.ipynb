{
 "cells": [
  {
   "cell_type": "markdown",
   "metadata": {},
   "source": [
    "[![Jupyter Notebook](https://img.shields.io/badge/Jupyter%20Notebook-orange)](https://github.com/laminlabs/lamin-usecases/blob/main/docs/scrna.ipynb)"
   ]
  },
  {
   "attachments": {},
   "cell_type": "markdown",
   "metadata": {},
   "source": [
    "# Validate & register scRNA-seq datasets"
   ]
  },
  {
   "cell_type": "markdown",
   "metadata": {},
   "source": [
    "This illustrates how to manage scRNA-seq datasets in absence of a custom schema.\n",
    "\n",
    "```{toctree}\n",
    ":maxdepth: 1\n",
    ":hidden:\n",
    "\n",
    "scrna2\n",
    "```"
   ]
  },
  {
   "cell_type": "code",
   "execution_count": null,
   "metadata": {
    "tags": [
     "hide-output"
    ]
   },
   "outputs": [],
   "source": [
    "!lamin init --storage ./test-scrna --schema bionty"
   ]
  },
  {
   "cell_type": "code",
   "execution_count": null,
   "metadata": {},
   "outputs": [],
   "source": [
    "import lamindb as ln\n",
    "import lnschema_bionty as lb"
   ]
  },
  {
   "attachments": {},
   "cell_type": "markdown",
   "metadata": {},
   "source": [
    "## Mouse lymph node cells: Detmar22"
   ]
  },
  {
   "cell_type": "code",
   "execution_count": null,
   "metadata": {},
   "outputs": [],
   "source": [
    "ln.track()"
   ]
  },
  {
   "attachments": {},
   "cell_type": "markdown",
   "metadata": {},
   "source": [
    "We're working with mouse data:"
   ]
  },
  {
   "cell_type": "code",
   "execution_count": null,
   "metadata": {
    "tags": [
     "hide-output"
    ]
   },
   "outputs": [],
   "source": [
    "lb.settings.species = \"mouse\""
   ]
  },
  {
   "cell_type": "markdown",
   "metadata": {},
   "source": [
    "### Transform ![](https://img.shields.io/badge/Transform-10b981)\n",
    "\n",
    "(Here we skip steps of data transformations, which often includes filtering, normalizing, or formatting data.)"
   ]
  },
  {
   "attachments": {},
   "cell_type": "markdown",
   "metadata": {},
   "source": [
    "Let's look at a scRNA-seq count matrix in form of an `AnnData` object:"
   ]
  },
  {
   "cell_type": "code",
   "execution_count": null,
   "metadata": {
    "tags": [
     "hide-output"
    ]
   },
   "outputs": [],
   "source": [
    "adata = ln.dev.datasets.anndata_mouse_sc_lymph_node(\n",
    "    populate_registries=True  # pre-populate registries to simulate an used instance\n",
    ")"
   ]
  },
  {
   "cell_type": "code",
   "execution_count": null,
   "metadata": {},
   "outputs": [],
   "source": [
    "adata"
   ]
  },
  {
   "cell_type": "markdown",
   "metadata": {},
   "source": [
    "### Validate ![](https://img.shields.io/badge/Validate-10b981) "
   ]
  },
  {
   "cell_type": "markdown",
   "metadata": {},
   "source": [
    "#### Validate genes in `.var`"
   ]
  },
  {
   "cell_type": "code",
   "execution_count": null,
   "metadata": {},
   "outputs": [],
   "source": [
    "validated = lb.Gene.validate(adata.var.index, lb.Gene.ensembl_gene_id)"
   ]
  },
  {
   "cell_type": "markdown",
   "metadata": {},
   "source": [
    "We're seeing that 43 gene identifiers can't be validated (not currently in the Gene registry). We'd like to validate all features in this dataset, hence, let's inspect them to see what to do:"
   ]
  },
  {
   "cell_type": "code",
   "execution_count": null,
   "metadata": {},
   "outputs": [],
   "source": [
    "lb.Gene.inspect(adata.var.index, lb.Gene.ensembl_gene_id);"
   ]
  },
  {
   "cell_type": "markdown",
   "metadata": {},
   "source": [
    "Inspect logging says 19 of the non-validated ensembl_gene_ids can be found in Bionty reference."
   ]
  },
  {
   "cell_type": "markdown",
   "metadata": {},
   "source": [
    "```{note}\n",
    "\n",
    "ensembl_gene_ids that are present in Bionty public ontology will create ontology-coupled records via `.from_values()`.\n",
    "\n",
    "In this example:\n",
    "- 19 records are created from Bionty with additional metadata and source tracking\n",
    "- while the rest 24 record are created with a single ensembl_gene_id field\n",
    "```"
   ]
  },
  {
   "cell_type": "code",
   "execution_count": null,
   "metadata": {},
   "outputs": [],
   "source": [
    "non_validated = adata.var.index[~validated]\n",
    "non_validated_records = lb.Gene.from_values(non_validated, lb.Gene.ensembl_gene_id)\n",
    "ln.save(non_validated_records)"
   ]
  },
  {
   "cell_type": "markdown",
   "metadata": {},
   "source": [
    "Now all genes pass validation:"
   ]
  },
  {
   "cell_type": "code",
   "execution_count": null,
   "metadata": {},
   "outputs": [],
   "source": [
    "lb.Gene.validate(adata.var.index, lb.Gene.ensembl_gene_id);"
   ]
  },
  {
   "cell_type": "markdown",
   "metadata": {},
   "source": [
    "#### Validate metadata in `.obs`"
   ]
  },
  {
   "cell_type": "markdown",
   "metadata": {},
   "source": [
    "Similarly, for the metadata, we'd like to validate them as features:"
   ]
  },
  {
   "cell_type": "code",
   "execution_count": null,
   "metadata": {},
   "outputs": [],
   "source": [
    "ln.Feature.validate(adata.obs.columns);"
   ]
  },
  {
   "cell_type": "markdown",
   "metadata": {},
   "source": [
    "None of them exist, so let's register them:"
   ]
  },
  {
   "cell_type": "code",
   "execution_count": null,
   "metadata": {},
   "outputs": [],
   "source": [
    "features = ln.Feature.from_df(\n",
    "    adata.obs\n",
    ")  # Feature.from_df create feature records with type auto-populated"
   ]
  },
  {
   "cell_type": "code",
   "execution_count": null,
   "metadata": {},
   "outputs": [],
   "source": [
    "ln.save(features)"
   ]
  },
  {
   "cell_type": "markdown",
   "metadata": {},
   "source": [
    "Now they are all validated:"
   ]
  },
  {
   "cell_type": "code",
   "execution_count": null,
   "metadata": {},
   "outputs": [],
   "source": [
    "ln.Feature.validate(adata.obs.columns);"
   ]
  },
  {
   "cell_type": "markdown",
   "metadata": {},
   "source": [
    "Some of the metadata labels can be typed using dedicated registries:"
   ]
  },
  {
   "cell_type": "code",
   "execution_count": null,
   "metadata": {},
   "outputs": [],
   "source": [
    "lb.ExperimentalFactor.validate(adata.obs[\"developmental_stage\"])\n",
    "lb.CellType.validate(adata.obs[\"cell_type\"])\n",
    "lb.Tissue.validate(adata.obs[\"tissue\"]);"
   ]
  },
  {
   "cell_type": "markdown",
   "metadata": {},
   "source": [
    "Metadata that can't be typed with dedicated registries, we use the {class}`~lamindb.Label` registry:"
   ]
  },
  {
   "cell_type": "code",
   "execution_count": null,
   "metadata": {},
   "outputs": [],
   "source": [
    "for col in [\"sex\", \"age\", \"genotype\", \"immunophenotype\"]:\n",
    "    ln.Label.validate(adata.obs[col])"
   ]
  },
  {
   "cell_type": "markdown",
   "metadata": {},
   "source": [
    "#### Validate external metadata"
   ]
  },
  {
   "cell_type": "markdown",
   "metadata": {},
   "source": [
    "In addition to what's already in the file, we'd like to link this file with external features:"
   ]
  },
  {
   "cell_type": "code",
   "execution_count": null,
   "metadata": {},
   "outputs": [],
   "source": [
    "ln.Feature.validate(\"species\")\n",
    "lb.Species.validate(\"mouse\");"
   ]
  },
  {
   "cell_type": "code",
   "execution_count": null,
   "metadata": {},
   "outputs": [],
   "source": [
    "ln.Modality.validate(\"rna\");"
   ]
  },
  {
   "cell_type": "markdown",
   "metadata": {},
   "source": [
    "Let's try standardizing synonyms that can't be validated:"
   ]
  },
  {
   "cell_type": "code",
   "execution_count": null,
   "metadata": {},
   "outputs": [],
   "source": [
    "ln.Feature.validate(\"assay\")\n",
    "lb.ExperimentalFactor.validate(\"scRNA-seq\");"
   ]
  },
  {
   "cell_type": "code",
   "execution_count": null,
   "metadata": {},
   "outputs": [],
   "source": [
    "scrna_name = lb.ExperimentalFactor.standardize(\"scRNA-seq\")\n",
    "scrna_name"
   ]
  },
  {
   "cell_type": "code",
   "execution_count": null,
   "metadata": {},
   "outputs": [],
   "source": [
    "lb.ExperimentalFactor.validate(scrna_name);"
   ]
  },
  {
   "cell_type": "markdown",
   "metadata": {},
   "source": [
    "### Register ![](https://img.shields.io/badge/Register-10b981) "
   ]
  },
  {
   "cell_type": "markdown",
   "metadata": {},
   "source": [
    "#### Register data"
   ]
  },
  {
   "attachments": {},
   "cell_type": "markdown",
   "metadata": {},
   "source": [
    "When we create a `File` object from an `AnnData`, we'll automatically link its feature sets and get information about unmapped categories:"
   ]
  },
  {
   "cell_type": "code",
   "execution_count": null,
   "metadata": {},
   "outputs": [],
   "source": [
    "file = ln.File.from_anndata(\n",
    "    adata, description=\"Detmar22\", var_ref=lb.Gene.ensembl_gene_id\n",
    ")"
   ]
  },
  {
   "cell_type": "code",
   "execution_count": null,
   "metadata": {},
   "outputs": [],
   "source": [
    "file.save()"
   ]
  },
  {
   "cell_type": "markdown",
   "metadata": {},
   "source": [
    "The file now has two linked feature sets:"
   ]
  },
  {
   "cell_type": "code",
   "execution_count": null,
   "metadata": {},
   "outputs": [],
   "source": [
    "file.features"
   ]
  },
  {
   "cell_type": "markdown",
   "metadata": {},
   "source": [
    "Warning message suggests to assign modality:"
   ]
  },
  {
   "cell_type": "code",
   "execution_count": null,
   "metadata": {},
   "outputs": [],
   "source": [
    "var_feature_set = file.features.get_feature_set(\"var\")"
   ]
  },
  {
   "cell_type": "code",
   "execution_count": null,
   "metadata": {},
   "outputs": [],
   "source": [
    "var_feature_set"
   ]
  },
  {
   "cell_type": "code",
   "execution_count": null,
   "metadata": {},
   "outputs": [],
   "source": [
    "modality = ln.Modality.filter(name=\"rna\").one()\n",
    "var_feature_set.modality = modality\n",
    "var_feature_set.save()"
   ]
  },
  {
   "cell_type": "code",
   "execution_count": null,
   "metadata": {},
   "outputs": [],
   "source": [
    "file.features"
   ]
  },
  {
   "cell_type": "markdown",
   "metadata": {},
   "source": [
    "#### Link metadata"
   ]
  },
  {
   "cell_type": "markdown",
   "metadata": {},
   "source": [
    "Let's add labels to corresponding features:"
   ]
  },
  {
   "cell_type": "code",
   "execution_count": null,
   "metadata": {},
   "outputs": [],
   "source": [
    "file.add_labels(lb.settings.species, feature=\"species\")\n",
    "file.add_labels(lb.ExperimentalFactor.filter(name=scrna_name).one(), feature=\"assay\")"
   ]
  },
  {
   "cell_type": "code",
   "execution_count": null,
   "metadata": {},
   "outputs": [],
   "source": [
    "dev_stages = lb.ExperimentalFactor.from_values(adata.obs[\"developmental_stage\"], \"name\")\n",
    "cell_types = lb.CellType.from_values(adata.obs[\"cell_type\"], \"name\")\n",
    "tissues = lb.Tissue.from_values(adata.obs[\"tissue\"], \"name\")\n",
    "\n",
    "file.add_labels(dev_stages, feature=\"developmental_stage\")\n",
    "file.add_labels(cell_types, feature=\"cell_type\")\n",
    "file.add_labels(tissues, feature=\"tissue\")"
   ]
  },
  {
   "cell_type": "code",
   "execution_count": null,
   "metadata": {},
   "outputs": [],
   "source": [
    "for col in [\"sex\", \"age\", \"genotype\", \"immunophenotype\"]:\n",
    "    labels += ln.Label.from_values(adata.obs[col], field=\"name\")\n",
    "    file.add_labels(labels, feature=col)"
   ]
  },
  {
   "cell_type": "markdown",
   "metadata": {},
   "source": [
    "The file is now queryable by everything we linked:"
   ]
  },
  {
   "cell_type": "code",
   "execution_count": null,
   "metadata": {},
   "outputs": [],
   "source": [
    "file.describe()"
   ]
  },
  {
   "cell_type": "markdown",
   "metadata": {},
   "source": [
    "## Human immune cells: Conde22"
   ]
  },
  {
   "cell_type": "code",
   "execution_count": null,
   "metadata": {
    "tags": []
   },
   "outputs": [],
   "source": [
    "lb.settings.species = \"human\""
   ]
  },
  {
   "cell_type": "markdown",
   "metadata": {},
   "source": [
    "### Transform ![](https://img.shields.io/badge/Transform-10b981)"
   ]
  },
  {
   "cell_type": "code",
   "execution_count": null,
   "metadata": {
    "tags": [
     "hide-output"
    ]
   },
   "outputs": [],
   "source": [
    "conde22 = ln.dev.datasets.anndata_human_immune_cells(\n",
    "    populate_registries=True  # pre-populate registries to simulate an used instance\n",
    ")"
   ]
  },
  {
   "cell_type": "code",
   "execution_count": null,
   "metadata": {},
   "outputs": [],
   "source": [
    "conde22"
   ]
  },
  {
   "cell_type": "markdown",
   "metadata": {},
   "source": [
    "### Validate ![](https://img.shields.io/badge/Validate-10b981) "
   ]
  },
  {
   "cell_type": "code",
   "execution_count": null,
   "metadata": {},
   "outputs": [],
   "source": [
    "lb.Gene.validate(conde22.var.index, lb.Gene.ensembl_gene_id);"
   ]
  },
  {
   "cell_type": "code",
   "execution_count": null,
   "metadata": {},
   "outputs": [],
   "source": [
    "validated = ln.Feature.validate(conde22.obs.columns)"
   ]
  },
  {
   "cell_type": "markdown",
   "metadata": {},
   "source": [
    "1 feature is not validated: donor"
   ]
  },
  {
   "cell_type": "code",
   "execution_count": null,
   "metadata": {},
   "outputs": [],
   "source": [
    "conde22.obs.loc[:, ~validated].head()"
   ]
  },
  {
   "cell_type": "markdown",
   "metadata": {},
   "source": [
    "Let's register it:"
   ]
  },
  {
   "cell_type": "code",
   "execution_count": null,
   "metadata": {},
   "outputs": [],
   "source": [
    "features = ln.Feature.from_df(conde22.obs)"
   ]
  },
  {
   "cell_type": "code",
   "execution_count": null,
   "metadata": {},
   "outputs": [],
   "source": [
    "ln.save(features)"
   ]
  },
  {
   "cell_type": "markdown",
   "metadata": {},
   "source": [
    "All metadata columns are now validated:"
   ]
  },
  {
   "cell_type": "code",
   "execution_count": null,
   "metadata": {},
   "outputs": [],
   "source": [
    "ln.Feature.validate(conde22.obs.columns);"
   ]
  },
  {
   "cell_type": "code",
   "execution_count": null,
   "metadata": {},
   "outputs": [],
   "source": [
    "lb.CellType.validate(conde22.obs.cell_type)\n",
    "lb.ExperimentalFactor.validate(conde22.obs.assay)\n",
    "lb.Tissue.validate(conde22.obs.tissue);"
   ]
  },
  {
   "cell_type": "markdown",
   "metadata": {},
   "source": [
    "As neither the core schema nor `lnschema_bionty` have a `Donor` table, we're using `Label` to track donor ids.\n",
    "\n",
    "Donor labels are not validated, so we register them:"
   ]
  },
  {
   "cell_type": "code",
   "execution_count": null,
   "metadata": {},
   "outputs": [],
   "source": [
    "ln.Label.validate(conde22.obs[\"donor\"]);"
   ]
  },
  {
   "cell_type": "code",
   "execution_count": null,
   "metadata": {},
   "outputs": [],
   "source": [
    "donors = ln.Label.from_values(conde22.obs[\"donor\"])\n",
    "ln.save(donors)"
   ]
  },
  {
   "cell_type": "code",
   "execution_count": null,
   "metadata": {},
   "outputs": [],
   "source": [
    "ln.Label.validate(conde22.obs[\"donor\"]);"
   ]
  },
  {
   "cell_type": "markdown",
   "metadata": {},
   "source": [
    "### Register ![](https://img.shields.io/badge/Register-10b981) "
   ]
  },
  {
   "cell_type": "code",
   "execution_count": null,
   "metadata": {
    "tags": []
   },
   "outputs": [],
   "source": [
    "file = ln.File.from_anndata(\n",
    "    conde22, description=\"Conde22\", var_ref=lb.Gene.ensembl_gene_id\n",
    ")"
   ]
  },
  {
   "cell_type": "code",
   "execution_count": null,
   "metadata": {},
   "outputs": [],
   "source": [
    "file.save()"
   ]
  },
  {
   "cell_type": "markdown",
   "metadata": {},
   "source": [
    "The file has the following linked feature sets:"
   ]
  },
  {
   "cell_type": "code",
   "execution_count": null,
   "metadata": {},
   "outputs": [],
   "source": [
    "var_feature_set = file.features.get_feature_set(\"var\")\n",
    "var_feature_set.modality = modality\n",
    "var_feature_set.save()"
   ]
  },
  {
   "cell_type": "code",
   "execution_count": null,
   "metadata": {},
   "outputs": [],
   "source": [
    "file.features"
   ]
  },
  {
   "cell_type": "markdown",
   "metadata": {},
   "source": [
    "Let's now link observational metadata."
   ]
  },
  {
   "cell_type": "code",
   "execution_count": null,
   "metadata": {},
   "outputs": [],
   "source": [
    "file.add_labels(lb.settings.species, feature=\"species\")\n",
    "file.add_labels(lb.ExperimentalFactor.filter(name=scrna_name).one(), feature=\"assay\")"
   ]
  },
  {
   "cell_type": "code",
   "execution_count": null,
   "metadata": {
    "tags": []
   },
   "outputs": [],
   "source": [
    "cell_types = lb.CellType.from_values(conde22.obs.cell_type, field=\"name\")\n",
    "efs = lb.ExperimentalFactor.from_values(conde22.obs.assay, field=\"name\")\n",
    "tissues = lb.Tissue.from_values(conde22.obs.tissue, field=\"name\")"
   ]
  },
  {
   "cell_type": "code",
   "execution_count": null,
   "metadata": {
    "tags": []
   },
   "outputs": [],
   "source": [
    "file.add_labels(cell_types, \"cell_type\")\n",
    "file.add_labels(efs, \"assay\")\n",
    "file.add_labels(tissues, \"tissue\")"
   ]
  },
  {
   "cell_type": "code",
   "execution_count": null,
   "metadata": {},
   "outputs": [],
   "source": [
    "donors = ln.Label.from_values(conde22.obs[\"donor\"])\n",
    "file.add_labels(donors, feature=\"donor\")"
   ]
  },
  {
   "cell_type": "code",
   "execution_count": null,
   "metadata": {},
   "outputs": [],
   "source": [
    "file.describe()"
   ]
  },
  {
   "attachments": {},
   "cell_type": "markdown",
   "metadata": {},
   "source": [
    "## A less well curated dataset"
   ]
  },
  {
   "cell_type": "markdown",
   "metadata": {},
   "source": [
    "### Transform ![](https://img.shields.io/badge/Transform-10b981)"
   ]
  },
  {
   "attachments": {},
   "cell_type": "markdown",
   "metadata": {},
   "source": [
    "Let's now consider a dataset with less-well curated features:"
   ]
  },
  {
   "cell_type": "code",
   "execution_count": null,
   "metadata": {},
   "outputs": [],
   "source": [
    "pbcm68k = ln.dev.datasets.anndata_pbmc68k_reduced()"
   ]
  },
  {
   "attachments": {},
   "cell_type": "markdown",
   "metadata": {},
   "source": [
    "We see that this dataset is indexed by gene symbols: "
   ]
  },
  {
   "cell_type": "code",
   "execution_count": null,
   "metadata": {},
   "outputs": [],
   "source": [
    "pbcm68k.var.index"
   ]
  },
  {
   "cell_type": "markdown",
   "metadata": {},
   "source": [
    "### Validate ![](https://img.shields.io/badge/Validate-10b981) "
   ]
  },
  {
   "cell_type": "code",
   "execution_count": null,
   "metadata": {},
   "outputs": [],
   "source": [
    "validated = lb.Gene.validate(pbcm68k.var.index, lb.Gene.symbol)"
   ]
  },
  {
   "cell_type": "markdown",
   "metadata": {},
   "source": [
    "In this case, we only want to register data with validated genes:"
   ]
  },
  {
   "cell_type": "code",
   "execution_count": null,
   "metadata": {},
   "outputs": [],
   "source": [
    "pbcm68k_validated = pbcm68k[:, validated].copy()"
   ]
  },
  {
   "cell_type": "markdown",
   "metadata": {},
   "source": [
    "Validate cell types:"
   ]
  },
  {
   "cell_type": "code",
   "execution_count": null,
   "metadata": {
    "tags": [
     "hide-cell"
    ]
   },
   "outputs": [],
   "source": [
    "# don't recurse through ontology hierarchies to speed up CI\n",
    "# recommend to set to True\n",
    "lb.settings.auto_save_parents = False\n",
    "\n",
    "# inspect shows none of the terms are mappable\n",
    "lb.CellType.inspect(pbcm68k_validated.obs[\"cell_type\"])\n",
    "\n",
    "# here we search the cell type names from the public ontology and grab the top match\n",
    "# then add the cell type names from the pbcm68k as synonyms\n",
    "celltype_bt = lb.CellType.bionty()\n",
    "ontology_ids = []\n",
    "mapper = {}\n",
    "for ct in pbcm68k_validated.obs[\"cell_type\"].unique():\n",
    "    ontology_id = celltype_bt.search(ct).iloc[0].ontology_id\n",
    "    record = lb.CellType.from_bionty(ontology_id=ontology_id)\n",
    "    mapper[ct] = record.name\n",
    "    record.save()\n",
    "    record.add_synonym(ct)\n",
    "\n",
    "pbcm68k_validated.obs[\"cell_type\"] = pbcm68k_validated.obs[\"cell_type\"].map(mapper)"
   ]
  },
  {
   "cell_type": "markdown",
   "metadata": {},
   "source": [
    "Now, all cell types should be validated:"
   ]
  },
  {
   "cell_type": "code",
   "execution_count": null,
   "metadata": {},
   "outputs": [],
   "source": [
    "lb.CellType.validate(pbcm68k_validated.obs[\"cell_type\"]);"
   ]
  },
  {
   "cell_type": "markdown",
   "metadata": {},
   "source": [
    "### Register ![](https://img.shields.io/badge/Register-10b981) "
   ]
  },
  {
   "cell_type": "code",
   "execution_count": null,
   "metadata": {
    "tags": []
   },
   "outputs": [],
   "source": [
    "file = ln.File.from_anndata(\n",
    "    pbcm68k_validated, description=\"10x reference pbmc68k\", var_ref=lb.Gene.symbol\n",
    ")"
   ]
  },
  {
   "cell_type": "code",
   "execution_count": null,
   "metadata": {},
   "outputs": [],
   "source": [
    "file.save()"
   ]
  },
  {
   "cell_type": "code",
   "execution_count": null,
   "metadata": {
    "tags": []
   },
   "outputs": [],
   "source": [
    "cell_types = lb.CellType.from_values(pbcm68k_validated.obs[\"cell_type\"], \"name\")\n",
    "file.add_labels(cell_types)"
   ]
  },
  {
   "cell_type": "code",
   "execution_count": null,
   "metadata": {},
   "outputs": [],
   "source": [
    "file.add_labels(lb.settings.species, feature=\"species\")\n",
    "file.add_labels(lb.ExperimentalFactor.filter(name=scrna_name).one(), feature=\"assay\")"
   ]
  },
  {
   "cell_type": "code",
   "execution_count": null,
   "metadata": {},
   "outputs": [],
   "source": [
    "var_feature_set = file.features.get_feature_set(\"var\")\n",
    "var_feature_set.modality = modality\n",
    "var_feature_set.save()"
   ]
  },
  {
   "cell_type": "code",
   "execution_count": null,
   "metadata": {},
   "outputs": [],
   "source": [
    "file.features"
   ]
  },
  {
   "cell_type": "code",
   "execution_count": null,
   "metadata": {},
   "outputs": [],
   "source": [
    "file.describe()"
   ]
  },
  {
   "cell_type": "code",
   "execution_count": null,
   "metadata": {},
   "outputs": [],
   "source": [
    "file.view_lineage()"
   ]
  },
  {
   "cell_type": "markdown",
   "metadata": {},
   "source": [
    "🎉 Now let's continue with data integration: {doc}`./scrna2`"
   ]
  }
 ],
 "metadata": {
  "kernelspec": {
   "display_name": "Python 3 (ipykernel)",
   "language": "python",
   "name": "python3"
  },
  "language_info": {
   "codemirror_mode": {
    "name": "ipython",
    "version": 3
   },
   "file_extension": ".py",
   "mimetype": "text/x-python",
   "name": "python",
   "nbconvert_exporter": "python",
   "pygments_lexer": "ipython3",
   "version": "3.9.16"
  },
  "nbproject": {
   "id": "Nv48yAceNSh8",
   "parent": null,
   "time_init": "2022-11-11T08:26:30.848866+00:00",
   "user_handle": "testuser2",
   "user_id": "bKeW4T6E",
   "user_name": "Test User2",
   "version": "0"
  },
  "vscode": {
   "interpreter": {
    "hash": "ae1fefc8646a06dd2e75004cd934adda7c5727b046986a772e3b44b0ffba9754"
   }
  }
 },
 "nbformat": 4,
 "nbformat_minor": 4
}
