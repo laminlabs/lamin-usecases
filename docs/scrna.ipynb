{
 "cells": [
  {
   "cell_type": "markdown",
   "metadata": {},
   "source": [
    "![scrna1/6](https://img.shields.io/badge/scrna1/6-lightgrey)\n",
    "[![Jupyter Notebook](https://img.shields.io/badge/Jupyter%20Notebook-orange)](https://github.com/laminlabs/lamin-usecases/blob/main/docs/scrna.ipynb)\n",
    "[![Binder](https://mybinder.org/badge_logo.svg)](https://mybinder.org/v2/gh/laminlabs/lamin-usecases/main?labpath=lamin-usecases%2Fdocs%2Fscrna.ipynb)"
   ]
  },
  {
   "cell_type": "markdown",
   "metadata": {},
   "source": [
    "# scRNA-seq"
   ]
  },
  {
   "cell_type": "markdown",
   "metadata": {},
   "source": [
    "You'll learn how to manage a growing number of scRNA-seq data batches as a single queryable dataset.\n",
    "\n",
    "Along the way, you'll see how to create reports, leverage data lineage, and query statistics of individual data batches stored as files.\n",
    "\n",
    "Specifically, you will:\n",
    "\n",
    "1. read a single `.h5ad` file as an `AnnData` and seed a growing dataset with it (![scrna1/6](https://img.shields.io/badge/scrna1/6-lightgrey), currently page)\n",
    "2. append a new data batch (a new `.h5ad` file) and create a new version of this dataset ([![scrna2/6](https://img.shields.io/badge/scrna2/6-lightgrey)](/scrna1))\n",
    "3. query & inspect files by metadata individually ([![scrna3/6](https://img.shields.io/badge/scrna3/6-lightgrey)](/scrna2))\n",
    "4. load the dataset into memory and save analytical results as plots ([![scrna4/6](https://img.shields.io/badge/scrna4/6-lightgrey)](/scrna3))\n",
    "5. iterate over the dataset, train a model, store a derived representation ([![scrna5/6](https://img.shields.io/badge/scrna5/6-lightgrey)](/scrna4))\n",
    "6. discuss converting a number of files to a single TileDB SOMA store of the same data ([![scrna6/6](https://img.shields.io/badge/scrna6/6-lightgrey)](/scrna5))\n",
    "\n",
    "```{toctree}\n",
    ":maxdepth: 1\n",
    ":hidden:\n",
    "\n",
    "scrna1\n",
    "scrna2\n",
    "scrna3\n",
    "scrna4\n",
    "scrna5\n",
    "```"
   ]
  },
  {
   "cell_type": "markdown",
   "metadata": {},
   "source": [
    "## Setup"
   ]
  },
  {
   "cell_type": "code",
   "execution_count": null,
   "metadata": {
    "tags": [
     "hide-output"
    ]
   },
   "outputs": [],
   "source": [
    "!lamin init --storage ./test-scrna --schema bionty"
   ]
  },
  {
   "cell_type": "code",
   "execution_count": null,
   "metadata": {},
   "outputs": [],
   "source": [
    "import lamindb as ln\n",
    "import lnschema_bionty as lb\n",
    "import pandas as pd\n",
    "\n",
    "ln.track()"
   ]
  },
  {
   "cell_type": "markdown",
   "metadata": {},
   "source": [
    "## Access ![](https://img.shields.io/badge/Access-10b981)"
   ]
  },
  {
   "cell_type": "markdown",
   "metadata": {},
   "source": [
    "Let us look at the data of [Conde _et al._, Science (2022)](https://doi.org/10.1126/science.abl5197).\n",
    "\n",
    "These data are available in standardized form from the [CellxGene data portal](https://cellxgene.cziscience.com/).\n",
    "\n",
    "Here, we'll use it to seed a growing in-house store of scRNA-seq data managed with the corresponding metadata in LaminDB registries.\n",
    "\n",
    "```{note}\n",
    "\n",
    "If you're not interested in managing large collections of in-house data and you'd just like to query public data, please take a look at [CellxGene census](docs:cellxgene-census), which exposes all datasets hosted in the data portal as a concatenated TileDB SOMA store.\n",
    "\n",
    "```"
   ]
  },
  {
   "cell_type": "code",
   "execution_count": null,
   "metadata": {
    "tags": [
     "hide-output"
    ]
   },
   "outputs": [],
   "source": [
    "lb.settings.species = \"human\""
   ]
  },
  {
   "cell_type": "markdown",
   "metadata": {},
   "source": [
    "By calling `ln.dev.datasets.anndata_human_immune_cells` below, we download the dataset from the CellxGene portal [here](https://cellxgene.cziscience.com/collections/62ef75e4-cbea-454e-a0ce-998ec40223d3) and pre-populate some LaminDB registries."
   ]
  },
  {
   "cell_type": "code",
   "execution_count": null,
   "metadata": {
    "tags": [
     "hide-output"
    ]
   },
   "outputs": [],
   "source": [
    "adata = ln.dev.datasets.anndata_human_immune_cells(\n",
    "    populate_registries=True  # this pre-populates registries\n",
    ")"
   ]
  },
  {
   "cell_type": "code",
   "execution_count": null,
   "metadata": {},
   "outputs": [],
   "source": [
    "adata"
   ]
  },
  {
   "cell_type": "markdown",
   "metadata": {},
   "source": [
    "This `AnnData` is already standardized using the same public ontologies underlying [lnschema-bionty](docs:lnschema-bionty), hence, we expect validation to be simple.\n",
    "\n",
    "Nonetheless, LaminDB focuses on building clean in-house registries \n",
    "\n",
    "```{note}\n",
    "\n",
    "In the next notebook, we'll look at the more difficult case of a non-standardized dataset that requires curation.\n",
    "\n",
    "```"
   ]
  },
  {
   "cell_type": "markdown",
   "metadata": {},
   "source": [
    "### Validate ![](https://img.shields.io/badge/Validate-10b981)"
   ]
  },
  {
   "cell_type": "markdown",
   "metadata": {},
   "source": [
    "#### Validate genes in `.var`"
   ]
  },
  {
   "cell_type": "code",
   "execution_count": null,
   "metadata": {},
   "outputs": [],
   "source": [
    "lb.Gene.validate(adata.var.index, lb.Gene.ensembl_gene_id);"
   ]
  },
  {
   "cell_type": "markdown",
   "metadata": {},
   "source": [
    "148 gene identifiers can’t be validated (not currently in the `Gene` registry). Let’s inspect them to see what to do:"
   ]
  },
  {
   "cell_type": "code",
   "execution_count": null,
   "metadata": {
    "tags": []
   },
   "outputs": [],
   "source": [
    "inspector = lb.Gene.inspect(adata.var.index, lb.Gene.ensembl_gene_id)"
   ]
  },
  {
   "cell_type": "markdown",
   "metadata": {},
   "source": [
    "Logging says 35 of the non-validated ids can be found in the Bionty reference. Let's register them:"
   ]
  },
  {
   "cell_type": "code",
   "execution_count": null,
   "metadata": {
    "tags": []
   },
   "outputs": [],
   "source": [
    "records = lb.Gene.from_values(inspector.non_validated, lb.Gene.ensembl_gene_id)\n",
    "ln.save(records)"
   ]
  },
  {
   "cell_type": "markdown",
   "metadata": {},
   "source": [
    "The remaining 113 are legacy IDs, not present in the current Ensembl assembly (e.g. [ENSG00000112096](https://www.ensembl.org/Homo_sapiens/Gene/Idhistory?g=ENSG00000112096)).\n",
    "\n",
    "We'd still like to register them, but won't dive into the details of converting them from an old Ensembl version to the current one."
   ]
  },
  {
   "cell_type": "code",
   "execution_count": null,
   "metadata": {
    "tags": []
   },
   "outputs": [],
   "source": [
    "validated = lb.Gene.validate(adata.var.index, lb.Gene.ensembl_gene_id)\n",
    "records = [lb.Gene(ensembl_gene_id=id) for id in adata.var.index[~validated]]\n",
    "ln.save(records)"
   ]
  },
  {
   "cell_type": "markdown",
   "metadata": {},
   "source": [
    "Now all genes pass validation:"
   ]
  },
  {
   "cell_type": "code",
   "execution_count": null,
   "metadata": {},
   "outputs": [],
   "source": [
    "lb.Gene.validate(adata.var.index, lb.Gene.ensembl_gene_id);"
   ]
  },
  {
   "cell_type": "markdown",
   "metadata": {},
   "source": [
    "Our in-house Gene registry provides rich metadata for each gene measured in the `AnnData`:"
   ]
  },
  {
   "cell_type": "code",
   "execution_count": null,
   "metadata": {},
   "outputs": [],
   "source": [
    "lb.Gene.filter().df().head(10)"
   ]
  },
  {
   "cell_type": "markdown",
   "metadata": {},
   "source": [
    "There are about 36k genes in the registry, all for species \"human\"."
   ]
  },
  {
   "cell_type": "code",
   "execution_count": null,
   "metadata": {},
   "outputs": [],
   "source": [
    "lb.Gene.filter().df().shape"
   ]
  },
  {
   "cell_type": "markdown",
   "metadata": {},
   "source": [
    "#### Validate metadata in `.obs`"
   ]
  },
  {
   "cell_type": "code",
   "execution_count": null,
   "metadata": {},
   "outputs": [],
   "source": [
    "adata.obs.columns"
   ]
  },
  {
   "cell_type": "code",
   "execution_count": null,
   "metadata": {},
   "outputs": [],
   "source": [
    "ln.Feature.validate(adata.obs.columns)"
   ]
  },
  {
   "cell_type": "markdown",
   "metadata": {},
   "source": [
    "1 feature is not validated: `\"donor\"`. Let's register it:"
   ]
  },
  {
   "cell_type": "code",
   "execution_count": null,
   "metadata": {},
   "outputs": [],
   "source": [
    "feature = ln.Feature(name=\"donor\", type=\"category\", registries=[ln.ULabel])\n",
    "ln.save(feature)"
   ]
  },
  {
   "cell_type": "markdown",
   "metadata": {},
   "source": [
    "```{tip}\n",
    "\n",
    "You can also use `features = ln.Feature.from_df(df)` to bulk create features with types.\n",
    "```"
   ]
  },
  {
   "cell_type": "markdown",
   "metadata": {},
   "source": [
    "All metadata columns are now validated:"
   ]
  },
  {
   "cell_type": "code",
   "execution_count": null,
   "metadata": {},
   "outputs": [],
   "source": [
    "ln.Feature.validate(adata.obs.columns)"
   ]
  },
  {
   "cell_type": "markdown",
   "metadata": {},
   "source": [
    "Next, let's validate the corresponding labels of each feature.\n",
    "\n",
    "Some of the metadata labels can be typed using dedicated registries like {class}`~docs:lnschema_bionty.CellType`:"
   ]
  },
  {
   "cell_type": "code",
   "execution_count": null,
   "metadata": {},
   "outputs": [],
   "source": [
    "validated = lb.CellType.validate(adata.obs.cell_type)"
   ]
  },
  {
   "cell_type": "markdown",
   "metadata": {},
   "source": [
    "Register non-validated cell types - they can all be loaded from a public ontology through Bionty:"
   ]
  },
  {
   "cell_type": "code",
   "execution_count": null,
   "metadata": {
    "tags": []
   },
   "outputs": [],
   "source": [
    "records = lb.CellType.from_values(adata.obs.cell_type[~validated], \"name\")\n",
    "ln.save(records)"
   ]
  },
  {
   "cell_type": "code",
   "execution_count": null,
   "metadata": {},
   "outputs": [],
   "source": [
    "lb.ExperimentalFactor.validate(adata.obs.assay)\n",
    "lb.Tissue.validate(adata.obs.tissue);"
   ]
  },
  {
   "cell_type": "markdown",
   "metadata": {},
   "source": [
    "Because we didn't mount a [custom schema](https://lamin.ai/docs/schemas) that contains a `Donor` registry, we use the {class}`~lamindb.ULabel` registry to track donor ids:"
   ]
  },
  {
   "cell_type": "code",
   "execution_count": null,
   "metadata": {},
   "outputs": [],
   "source": [
    "ln.ULabel.validate(adata.obs.donor);"
   ]
  },
  {
   "cell_type": "markdown",
   "metadata": {},
   "source": [
    "Donor labels are not validated, so let's register them:"
   ]
  },
  {
   "cell_type": "code",
   "execution_count": null,
   "metadata": {},
   "outputs": [],
   "source": [
    "donors = [ln.ULabel(name=name) for name in adata.obs.donor.unique()]\n",
    "ln.save(donors)"
   ]
  },
  {
   "cell_type": "code",
   "execution_count": null,
   "metadata": {},
   "outputs": [],
   "source": [
    "ln.ULabel.validate(adata.obs.donor);"
   ]
  },
  {
   "cell_type": "markdown",
   "metadata": {},
   "source": [
    "### Register ![](https://img.shields.io/badge/Register-10b981) "
   ]
  },
  {
   "cell_type": "code",
   "execution_count": null,
   "metadata": {},
   "outputs": [],
   "source": [
    "modalities = ln.Modality.lookup()\n",
    "experimental_factors = lb.ExperimentalFactor.lookup()\n",
    "species = lb.Species.lookup()\n",
    "features = ln.Feature.lookup()"
   ]
  },
  {
   "cell_type": "markdown",
   "metadata": {},
   "source": [
    "#### Register data"
   ]
  },
  {
   "cell_type": "markdown",
   "metadata": {},
   "source": [
    "When we create a `File` object from an `AnnData`, we’ll automatically link its feature sets and get information about unmapped categories:"
   ]
  },
  {
   "cell_type": "code",
   "execution_count": null,
   "metadata": {
    "tags": []
   },
   "outputs": [],
   "source": [
    "file = ln.File.from_anndata(\n",
    "    adata, description=\"Conde22\", field=lb.Gene.ensembl_gene_id, modality=modalities.rna\n",
    ")"
   ]
  },
  {
   "cell_type": "code",
   "execution_count": null,
   "metadata": {
    "tags": []
   },
   "outputs": [],
   "source": [
    "file.save()"
   ]
  },
  {
   "cell_type": "markdown",
   "metadata": {},
   "source": [
    "The file has the following 2 linked feature sets:"
   ]
  },
  {
   "cell_type": "code",
   "execution_count": null,
   "metadata": {},
   "outputs": [],
   "source": [
    "file.features"
   ]
  },
  {
   "cell_type": "markdown",
   "metadata": {},
   "source": [
    "#### Register metadata links"
   ]
  },
  {
   "cell_type": "markdown",
   "metadata": {},
   "source": [
    "Let us first link external labels for the entire file:"
   ]
  },
  {
   "cell_type": "code",
   "execution_count": null,
   "metadata": {
    "tags": [
     "hide-output"
    ]
   },
   "outputs": [],
   "source": [
    "file.labels.add(species.human, feature=features.species)\n",
    "file.labels.add(experimental_factors.single_cell_rna_sequencing, feature=features.assay)"
   ]
  },
  {
   "cell_type": "markdown",
   "metadata": {},
   "source": [
    "Next, we parse the columns of `adata.obs` for additional metadata:"
   ]
  },
  {
   "cell_type": "code",
   "execution_count": null,
   "metadata": {
    "tags": [
     "hide-output"
    ]
   },
   "outputs": [],
   "source": [
    "file.labels.add(adata.obs.cell_type, feature=features.cell_type)\n",
    "file.labels.add(adata.obs.assay, feature=features.assay)\n",
    "file.labels.add(adata.obs.tissue, feature=features.tissue)\n",
    "file.labels.add(adata.obs.donor, feature=features.donor)"
   ]
  },
  {
   "cell_type": "code",
   "execution_count": null,
   "metadata": {},
   "outputs": [],
   "source": [
    "file.features"
   ]
  },
  {
   "cell_type": "markdown",
   "metadata": {},
   "source": [
    "The file is now queryable by everything we linked:"
   ]
  },
  {
   "cell_type": "code",
   "execution_count": null,
   "metadata": {},
   "outputs": [],
   "source": [
    "file.describe()"
   ]
  },
  {
   "cell_type": "markdown",
   "metadata": {},
   "source": [
    "## Create a dataset from the file"
   ]
  },
  {
   "cell_type": "code",
   "execution_count": null,
   "metadata": {},
   "outputs": [],
   "source": [
    "dataset = ln.Dataset(file, name=\"My versioned scRNA-seq dataset\", version=\"1\")\n",
    "\n",
    "dataset"
   ]
  },
  {
   "cell_type": "markdown",
   "metadata": {},
   "source": [
    "Let's inspect the features measured in this dataset which were inherited from the file:"
   ]
  },
  {
   "cell_type": "code",
   "execution_count": null,
   "metadata": {},
   "outputs": [],
   "source": [
    "dataset.features"
   ]
  },
  {
   "cell_type": "markdown",
   "metadata": {},
   "source": [
    "This looks all good, hence, let's save it:"
   ]
  },
  {
   "cell_type": "code",
   "execution_count": null,
   "metadata": {},
   "outputs": [],
   "source": [
    "dataset.save()"
   ]
  },
  {
   "cell_type": "markdown",
   "metadata": {},
   "source": [
    "Annotate by linking labels:"
   ]
  },
  {
   "cell_type": "code",
   "execution_count": null,
   "metadata": {},
   "outputs": [],
   "source": [
    "dataset.labels.add(experimental_factors.single_cell_rna_sequencing, features.assay)\n",
    "dataset.labels.add(species.human, features.species)\n",
    "dataset.labels.add(adata.obs.cell_type, feature=features.cell_type)\n",
    "dataset.labels.add(adata.obs.assay, feature=features.assay)\n",
    "dataset.labels.add(adata.obs.tissue, feature=features.tissue)\n",
    "dataset.labels.add(adata.obs.donor, feature=features.donor)"
   ]
  },
  {
   "cell_type": "markdown",
   "metadata": {},
   "source": [
    "For this version 1 of the dataset, dataset and file match each other. But they're independently tracked and queryable through their registries."
   ]
  },
  {
   "cell_type": "code",
   "execution_count": null,
   "metadata": {},
   "outputs": [],
   "source": [
    "dataset.describe()"
   ]
  },
  {
   "cell_type": "markdown",
   "metadata": {},
   "source": [
    "And we can access the file like so:"
   ]
  },
  {
   "cell_type": "code",
   "execution_count": null,
   "metadata": {},
   "outputs": [],
   "source": [
    "dataset.file"
   ]
  },
  {
   "cell_type": "code",
   "execution_count": null,
   "metadata": {},
   "outputs": [],
   "source": [
    "dataset.view_flow()"
   ]
  }
 ],
 "metadata": {
  "kernelspec": {
   "display_name": "Python 3",
   "language": "python",
   "name": "python3"
  },
  "language_info": {
   "codemirror_mode": {
    "name": "ipython",
    "version": 3
   },
   "file_extension": ".py",
   "mimetype": "text/x-python",
   "name": "python",
   "nbconvert_exporter": "python",
   "pygments_lexer": "ipython3",
   "version": "3.9.16"
  },
  "nbproject": {
   "id": "Nv48yAceNSh8",
   "parent": null,
   "time_init": "2022-11-11T08:26:30.848866+00:00",
   "user_handle": "testuser2",
   "user_id": "bKeW4T6E",
   "user_name": "Test User2",
   "version": "0"
  },
  "vscode": {
   "interpreter": {
    "hash": "ae1fefc8646a06dd2e75004cd934adda7c5727b046986a772e3b44b0ffba9754"
   }
  }
 },
 "nbformat": 4,
 "nbformat_minor": 4
}
