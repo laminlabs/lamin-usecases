{
 "cells": [
  {
   "cell_type": "markdown",
   "id": "76462252",
   "metadata": {},
   "source": [
    "# DevelopmentalStage"
   ]
  },
  {
   "cell_type": "markdown",
   "id": "a9dc8f9d",
   "metadata": {},
   "source": [
    "lamindb provides access to the following public protein ontologies through [lnschema-bionty](https://github.com/laminlabs/lnschema-bionty):\n",
    "\n",
    "1. [Human Developmental Stages](https://github.com/obophenotype/developmental-stage-ontologies/wiki/HsapDv)\n",
    "2. [Mouse Developmental Stages](https://github.com/obophenotype/developmental-stage-ontologies/wiki/MmusDv)\n",
    "\n",
    "Here we show how to access and search DevelopmentalStage ontologies to standardize new data."
   ]
  },
  {
   "cell_type": "markdown",
   "id": "008f5fea",
   "metadata": {},
   "source": [
    "## Setup"
   ]
  },
  {
   "cell_type": "code",
   "execution_count": null,
   "id": "97cf8fa0",
   "metadata": {},
   "outputs": [],
   "source": [
    "!lamin init --storage ./test-developmentalstage --schema bionty"
   ]
  },
  {
   "cell_type": "code",
   "execution_count": null,
   "id": "04f415fb",
   "metadata": {},
   "outputs": [],
   "source": [
    "import lnschema_bionty as lb\n",
    "import pandas as pd"
   ]
  },
  {
   "cell_type": "markdown",
   "id": "858d4304",
   "metadata": {},
   "source": [
    "## PublicOntology objects"
   ]
  },
  {
   "cell_type": "markdown",
   "id": "760b4887",
   "metadata": {},
   "source": [
    "Let us create a public ontology accessor with {meth}`~docs:lnschema_bionty.dev.BioRegistry.public`, which chooses a default public ontology source from {class}`~docs:lnschema_bionty.PublicSource`.\n",
    "It's a [PublicOntology](https://lamin.ai/docs/lnschema_bionty.dev.publicontology) object, which you can think about as a public registry:"
   ]
  },
  {
   "cell_type": "code",
   "execution_count": null,
   "id": "747f7eca",
   "metadata": {},
   "outputs": [],
   "source": [
    "developmentalstages = lb.DevelopmentalStage.public(organism=\"human\")\n",
    "developmentalstages"
   ]
  },
  {
   "cell_type": "markdown",
   "id": "9b9bc8fa",
   "metadata": {},
   "source": [
    "As for registries, you can export the ontology as a `DataFrame`:"
   ]
  },
  {
   "cell_type": "code",
   "execution_count": null,
   "id": "53148476",
   "metadata": {},
   "outputs": [],
   "source": [
    "df = developmentalstages.df()\n",
    "df.head()"
   ]
  },
  {
   "cell_type": "markdown",
   "id": "895652ac",
   "metadata": {},
   "source": [
    "Unlike registries, you can also export it as a Pronto object via `public.ontology`."
   ]
  },
  {
   "cell_type": "markdown",
   "id": "bb651cbe",
   "metadata": {},
   "source": [
    "## Look up terms"
   ]
  },
  {
   "cell_type": "markdown",
   "id": "66579582",
   "metadata": {},
   "source": [
    "As for registries, terms can be looked up with auto-complete:"
   ]
  },
  {
   "cell_type": "code",
   "execution_count": null,
   "id": "16bf1ec5",
   "metadata": {},
   "outputs": [],
   "source": [
    "lookup = developmentalstages.lookup()"
   ]
  },
  {
   "cell_type": "markdown",
   "id": "365e9e57",
   "metadata": {},
   "source": [
    "The `.` accessor provides normalized terms (lower case, only contains alphanumeric characters and underscores):"
   ]
  },
  {
   "cell_type": "code",
   "execution_count": null,
   "id": "3179cbeb",
   "metadata": {},
   "outputs": [],
   "source": [
    "lookup.organogenesis_stage"
   ]
  },
  {
   "cell_type": "markdown",
   "id": "59b6c143",
   "metadata": {},
   "source": [
    "To look up the exact original strings, convert the lookup object to dict and use the `[]` accessor:"
   ]
  },
  {
   "cell_type": "code",
   "execution_count": null,
   "id": "81c58a31",
   "metadata": {},
   "outputs": [],
   "source": [
    "lookup_dict = lookup.dict()\n",
    "lookup_dict[\"organogenesis stage\"]"
   ]
  },
  {
   "cell_type": "markdown",
   "id": "abab90d2",
   "metadata": {},
   "source": [
    "By default, the `name` field is used to generate lookup keys. You can specify another field to look up:"
   ]
  },
  {
   "cell_type": "code",
   "execution_count": null,
   "id": "36a53cb7",
   "metadata": {},
   "outputs": [],
   "source": [
    "lookup = developmentalstages.lookup(developmentalstages.ontology_id)"
   ]
  },
  {
   "cell_type": "code",
   "execution_count": null,
   "id": "93a8a943",
   "metadata": {},
   "outputs": [],
   "source": [
    "lookup.hsapdv_0000015"
   ]
  },
  {
   "cell_type": "markdown",
   "id": "bd431435",
   "metadata": {},
   "source": [
    "## Search terms"
   ]
  },
  {
   "cell_type": "markdown",
   "id": "3b358bf2",
   "metadata": {},
   "source": [
    "Search behaves in the same way as it does for registries:"
   ]
  },
  {
   "cell_type": "code",
   "execution_count": null,
   "id": "cdeaede4",
   "metadata": {},
   "outputs": [],
   "source": [
    "developmentalstages.search(\"organogenesis\").head(3)"
   ]
  },
  {
   "cell_type": "markdown",
   "id": "d179d8b3",
   "metadata": {},
   "source": [
    "By default, search also covers synonyms:"
   ]
  },
  {
   "cell_type": "code",
   "execution_count": null,
   "id": "8759d971",
   "metadata": {},
   "outputs": [],
   "source": [
    "developmentalstages.search(\"developmental stage\").head(3)"
   ]
  },
  {
   "cell_type": "markdown",
   "id": "6a3b6206",
   "metadata": {},
   "source": [
    "You can turn this off synonym by passing `synonyms_field=None`:"
   ]
  },
  {
   "cell_type": "code",
   "execution_count": null,
   "id": "f869c2ac",
   "metadata": {},
   "outputs": [],
   "source": [
    "developmentalstages.search(\"developmental stage\", synonyms_field=None).head(3)"
   ]
  },
  {
   "cell_type": "markdown",
   "id": "d67a3d4c",
   "metadata": {},
   "source": [
    "Search another field (default is `.name`):"
   ]
  },
  {
   "cell_type": "code",
   "execution_count": null,
   "id": "0dc0db23",
   "metadata": {},
   "outputs": [],
   "source": [
    "developmentalstages.search(\n",
    "    \"Prenatal Stage That Starts With Fertilization\",\n",
    "    field=developmentalstages.definition,\n",
    ").head()"
   ]
  },
  {
   "cell_type": "markdown",
   "id": "73878b0a",
   "metadata": {},
   "source": [
    "## Standardize DevelopmentalStage identifiers"
   ]
  },
  {
   "cell_type": "markdown",
   "id": "fd01a539",
   "metadata": {},
   "source": [
    "Let us generate a `DataFrame` that stores a number of DevelopmentalStage identifiers, some of which corrupted:"
   ]
  },
  {
   "cell_type": "code",
   "execution_count": null,
   "id": "a18b01ca",
   "metadata": {},
   "outputs": [],
   "source": [
    "df_orig = pd.DataFrame(\n",
    "    index=[\n",
    "        \"blastula stage\"\n",
    "        \"Carnegie stage 03\"\n",
    "        \"neurula stage\"\n",
    "        \"organogenesis stage\"\n",
    "        \"This developmentalstage does not exist\",\n",
    "    ]\n",
    ")\n",
    "df_orig"
   ]
  },
  {
   "cell_type": "markdown",
   "id": "443c9676",
   "metadata": {},
   "source": [
    "We can check whether any of our values are validated against the ontology reference:"
   ]
  },
  {
   "cell_type": "code",
   "execution_count": null,
   "id": "5a949525",
   "metadata": {},
   "outputs": [],
   "source": [
    "validated = developmentalstages.validate(df_orig.index, developmentalstages.name)\n",
    "df_orig.index[~validated]"
   ]
  },
  {
   "cell_type": "markdown",
   "id": "50f2f3ff",
   "metadata": {},
   "source": [
    "## Ontology source versions"
   ]
  },
  {
   "cell_type": "markdown",
   "id": "d494f06f",
   "metadata": {},
   "source": [
    "For any given entity, we can choose from a number of versions:"
   ]
  },
  {
   "cell_type": "code",
   "execution_count": null,
   "id": "e02d5d87",
   "metadata": {},
   "outputs": [],
   "source": [
    "lb.PublicSource.filter(entity=\"DevelopmentalStage\").df()"
   ]
  },
  {
   "cell_type": "markdown",
   "id": "24814fd9",
   "metadata": {},
   "source": [
    "When instantiating a Bionty object, we can choose a source or version:"
   ]
  },
  {
   "cell_type": "code",
   "execution_count": null,
   "id": "43c8d5e9",
   "metadata": {
    "lines_to_next_cell": 0
   },
   "outputs": [],
   "source": [
    "public_source = lb.PublicSource.filter(\n",
    "    source=\"hsapdv\", version=\"2020-03-10\", organism=\"human\"\n",
    ").one()\n",
    "developmentalstages= lb.DevelopmentalStage.public(public_source=public_source)\n",
    "developmentalstages"
   ]
  },
  {
   "cell_type": "markdown",
   "id": "5d3e2cef",
   "metadata": {},
   "source": [
    "The currently used ontologies can be displayed using:"
   ]
  },
  {
   "cell_type": "code",
   "execution_count": null,
   "id": "5f4e5ce9",
   "metadata": {
    "tags": [
     "hide-output"
    ]
   },
   "outputs": [],
   "source": [
    "lb.PublicSource.filter(currently_used=True).df()"
   ]
  },
  {
   "cell_type": "code",
   "execution_count": null,
   "id": "02a2e95b",
   "metadata": {
    "tags": [
     "hide-cell"
    ]
   },
   "outputs": [],
   "source": [
    "!lamin delete --force test-developmentalstage\n",
    "!rm -r test-developmentalstage"
   ]
  }
 ],
 "metadata": {
  "kernelspec": {
   "display_name": "lamindb",
   "language": "python",
   "name": "python3"
  }
 },
 "nbformat": 4,
 "nbformat_minor": 5
}
