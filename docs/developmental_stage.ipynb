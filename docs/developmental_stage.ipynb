{
 "cells": [
  {
   "cell_type": "markdown",
   "id": "506b9397",
   "metadata": {},
   "source": [
    "# DevelopmentalStage"
   ]
  },
  {
   "cell_type": "markdown",
   "id": "8dd099d8",
   "metadata": {},
   "source": [
    "lamindb provides access to the following public protein ontologies through [bionty](https://lamin.ai/docs/bionty):\n",
    "\n",
    "1. [Human Developmental Stages](https://github.com/obophenotype/developmental-stage-ontologies/wiki/HsapDv)\n",
    "2. [Mouse Developmental Stages](https://github.com/obophenotype/developmental-stage-ontologies/wiki/MmusDv)\n",
    "\n",
    "Here we show how to access and search DevelopmentalStage ontologies to standardize new data."
   ]
  },
  {
   "cell_type": "code",
   "execution_count": null,
   "id": "afc2e306",
   "metadata": {},
   "outputs": [],
   "source": [
    "import bionty as bt\n",
    "import pandas as pd"
   ]
  },
  {
   "cell_type": "markdown",
   "id": "b5b24c3a",
   "metadata": {},
   "source": [
    "## PublicOntology objects"
   ]
  },
  {
   "cell_type": "markdown",
   "id": "619ab068",
   "metadata": {},
   "source": [
    "Let us create a public ontology accessor with `.public` method, which chooses a default public ontology source from {class}`~docs:bionty.PublicSource`.\n",
    "It's a [PublicOntology](https://lamin.ai/docs/bionty.dev.publicontology) object, which you can think about as a public registry:"
   ]
  },
  {
   "cell_type": "code",
   "execution_count": null,
   "id": "5d451fcb",
   "metadata": {},
   "outputs": [],
   "source": [
    "developmentalstages = bt.DevelopmentalStage.public(organism=\"human\")\n",
    "developmentalstages"
   ]
  },
  {
   "cell_type": "markdown",
   "id": "190238a3",
   "metadata": {},
   "source": [
    "As for registries, you can export the ontology as a `DataFrame`:"
   ]
  },
  {
   "cell_type": "code",
   "execution_count": null,
   "id": "de4925ca",
   "metadata": {},
   "outputs": [],
   "source": [
    "df = developmentalstages.df()\n",
    "df.head()"
   ]
  },
  {
   "cell_type": "markdown",
   "id": "88613a28",
   "metadata": {},
   "source": [
    "Unlike registries, you can also export it as a Pronto object via `public.ontology`."
   ]
  },
  {
   "cell_type": "markdown",
   "id": "b9dd8129",
   "metadata": {},
   "source": [
    "## Look up terms"
   ]
  },
  {
   "cell_type": "markdown",
   "id": "fa66fd82",
   "metadata": {},
   "source": [
    "As for registries, terms can be looked up with auto-complete:"
   ]
  },
  {
   "cell_type": "code",
   "execution_count": null,
   "id": "bdac8cbd",
   "metadata": {},
   "outputs": [],
   "source": [
    "lookup = developmentalstages.lookup()"
   ]
  },
  {
   "cell_type": "markdown",
   "id": "9c8334cb",
   "metadata": {},
   "source": [
    "The `.` accessor provides normalized terms (lower case, only contains alphanumeric characters and underscores):"
   ]
  },
  {
   "cell_type": "code",
   "execution_count": null,
   "id": "e4f62519",
   "metadata": {},
   "outputs": [],
   "source": [
    "lookup.organogenesis_stage"
   ]
  },
  {
   "cell_type": "markdown",
   "id": "52b199ef",
   "metadata": {},
   "source": [
    "To look up the exact original strings, convert the lookup object to dict and use the `[]` accessor:"
   ]
  },
  {
   "cell_type": "code",
   "execution_count": null,
   "id": "d37a44cf",
   "metadata": {},
   "outputs": [],
   "source": [
    "lookup_dict = lookup.dict()\n",
    "lookup_dict[\"organogenesis stage\"]"
   ]
  },
  {
   "cell_type": "markdown",
   "id": "60c47b2d",
   "metadata": {},
   "source": [
    "By default, the `name` field is used to generate lookup keys. You can specify another field to look up:"
   ]
  },
  {
   "cell_type": "code",
   "execution_count": null,
   "id": "6d01680f",
   "metadata": {},
   "outputs": [],
   "source": [
    "lookup = developmentalstages.lookup(developmentalstages.ontology_id)"
   ]
  },
  {
   "cell_type": "code",
   "execution_count": null,
   "id": "e09da2d8",
   "metadata": {},
   "outputs": [],
   "source": [
    "lookup.hsapdv_0000015"
   ]
  },
  {
   "cell_type": "markdown",
   "id": "15e58443",
   "metadata": {},
   "source": [
    "## Search terms"
   ]
  },
  {
   "cell_type": "markdown",
   "id": "8dbb6038",
   "metadata": {},
   "source": [
    "Search behaves in the same way as it does for registries:"
   ]
  },
  {
   "cell_type": "code",
   "execution_count": null,
   "id": "0e17abc3",
   "metadata": {},
   "outputs": [],
   "source": [
    "developmentalstages.search(\"organogenesis\").head(3)"
   ]
  },
  {
   "cell_type": "markdown",
   "id": "1de79bd9",
   "metadata": {},
   "source": [
    "By default, search also covers synonyms:"
   ]
  },
  {
   "cell_type": "code",
   "execution_count": null,
   "id": "342b7f06",
   "metadata": {},
   "outputs": [],
   "source": [
    "developmentalstages.search(\"developmental stage\").head(3)"
   ]
  },
  {
   "cell_type": "markdown",
   "id": "2b9eb53b",
   "metadata": {},
   "source": [
    "You can turn this off synonym by passing `synonyms_field=None`:"
   ]
  },
  {
   "cell_type": "code",
   "execution_count": null,
   "id": "7b21ea7b",
   "metadata": {},
   "outputs": [],
   "source": [
    "developmentalstages.search(\"developmental stage\", synonyms_field=None).head(3)"
   ]
  },
  {
   "cell_type": "markdown",
   "id": "178d437a",
   "metadata": {},
   "source": [
    "Search another field (default is `.name`):"
   ]
  },
  {
   "cell_type": "code",
   "execution_count": null,
   "id": "e99d20f9",
   "metadata": {},
   "outputs": [],
   "source": [
    "developmentalstages.search(\n",
    "    \"Prenatal Stage That Starts With Fertilization\",\n",
    "    field=developmentalstages.definition,\n",
    ").head()"
   ]
  },
  {
   "cell_type": "markdown",
   "id": "a80b1e7a",
   "metadata": {},
   "source": [
    "## Standardize DevelopmentalStage identifiers"
   ]
  },
  {
   "cell_type": "markdown",
   "id": "a44ec443",
   "metadata": {},
   "source": [
    "Let us generate a `DataFrame` that stores a number of DevelopmentalStage identifiers, some of which corrupted:"
   ]
  },
  {
   "cell_type": "code",
   "execution_count": null,
   "id": "50b9a715",
   "metadata": {},
   "outputs": [],
   "source": [
    "df_orig = pd.DataFrame(\n",
    "    index=[\n",
    "        \"blastula stage\",\n",
    "        \"Carnegie stage 03\",\n",
    "        \"neurula stage\",\n",
    "        \"organogenesis stage\",\n",
    "        \"This developmentalstage does not exist\",\n",
    "    ]\n",
    ")\n",
    "df_orig"
   ]
  },
  {
   "cell_type": "markdown",
   "id": "b0613c25",
   "metadata": {},
   "source": [
    "We can check whether any of our values are validated against the ontology reference:"
   ]
  },
  {
   "cell_type": "code",
   "execution_count": null,
   "id": "a5874958",
   "metadata": {},
   "outputs": [],
   "source": [
    "validated = developmentalstages.validate(df_orig.index, developmentalstages.name)\n",
    "df_orig.index[~validated]"
   ]
  },
  {
   "cell_type": "markdown",
   "id": "53df6df4",
   "metadata": {},
   "source": [
    "## Ontology source versions"
   ]
  },
  {
   "cell_type": "markdown",
   "id": "b8152eb3",
   "metadata": {},
   "source": [
    "For any given entity, we can choose from a number of versions:"
   ]
  },
  {
   "cell_type": "code",
   "execution_count": null,
   "id": "7bcbdd1c",
   "metadata": {},
   "outputs": [],
   "source": [
    "bt.PublicSource.filter(entity=\"DevelopmentalStage\").df()"
   ]
  },
  {
   "cell_type": "markdown",
   "id": "a6d424c8",
   "metadata": {},
   "source": [
    "When instantiating a Bionty object, we can choose a source or version:"
   ]
  },
  {
   "cell_type": "code",
   "execution_count": null,
   "id": "7809762e",
   "metadata": {
    "lines_to_next_cell": 0
   },
   "outputs": [],
   "source": [
    "public_source = bt.PublicSource.filter(\n",
    "    source=\"hsapdv\", version=\"2020-03-10\", organism=\"human\"\n",
    ").one()\n",
    "developmentalstages= bt.DevelopmentalStage.public(public_source=public_source)\n",
    "developmentalstages"
   ]
  },
  {
   "cell_type": "markdown",
   "id": "1b351bc2",
   "metadata": {},
   "source": [
    "The currently used ontologies can be displayed using:"
   ]
  },
  {
   "cell_type": "code",
   "execution_count": null,
   "id": "f98ba526",
   "metadata": {
    "tags": [
     "hide-output"
    ]
   },
   "outputs": [],
   "source": [
    "bt.PublicSource.filter(currently_used=True).df()"
   ]
  }
 ],
 "metadata": {
  "kernelspec": {
   "display_name": "lamindb",
   "language": "python",
   "name": "python3"
  }
 },
 "nbformat": 4,
 "nbformat_minor": 5
}
