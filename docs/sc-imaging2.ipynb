{
 "cells": [
  {
   "cell_type": "markdown",
   "id": "0",
   "metadata": {},
   "source": [
    "![imaging2/4](https://img.shields.io/badge/imaging2/4-lightgrey)\n",
    "[![Jupyter Notebook](https://img.shields.io/badge/Source%20on%20GitHub-orange)](https://github.com/laminlabs/lamin-usecases/blob/main/docs/imaging2.ipynb)"
   ]
  },
  {
   "cell_type": "markdown",
   "id": "1",
   "metadata": {},
   "source": [
    "# Generate single-cell images"
   ]
  },
  {
   "cell_type": "markdown",
   "id": "2",
   "metadata": {},
   "source": [
    "Here, we are going to process the previously ingested microscopy images with the [scPortrait](https://github.com/MannLabs/scPortrait) pipeline to generate single-cell images that we can use to asses autophagosome formation at a single-cell level."
   ]
  },
  {
   "cell_type": "code",
   "execution_count": null,
   "id": "3",
   "metadata": {
    "tags": [
     "hide-output"
    ]
   },
   "outputs": [],
   "source": [
    "import lamindb as ln\n",
    "from collections.abc import Iterable\n",
    "\n",
    "from pathlib import Path\n",
    "from scportrait.pipeline.extraction import HDF5CellExtraction\n",
    "from scportrait.pipeline.project import Project\n",
    "from scportrait.pipeline.segmentation.workflows import CytosolSegmentationCellpose\n",
    "\n",
    "ln.track()"
   ]
  },
  {
   "cell_type": "markdown",
   "id": "4",
   "metadata": {},
   "source": [
    "First, we query for the raw and annotated microscopy images."
   ]
  },
  {
   "cell_type": "code",
   "execution_count": null,
   "id": "5",
   "metadata": {
    "tags": [
     "hide-output"
    ]
   },
   "outputs": [],
   "source": [
    "input_images = (\n",
    "    ln.Artifact.filter(ulabels__name=\"autophagy imaging\")\n",
    "    .filter(description__icontains=\"raw image\")\n",
    "    .filter(suffix=\".tif\")\n",
    ")"
   ]
  },
  {
   "cell_type": "markdown",
   "id": "6",
   "metadata": {},
   "source": [
    "The experiment contains different genotypes (`WT` and `EI24KO`) that were treated differently (`unstimulated` vs `14h Torin-1`).\n",
    "For each condition, multiple clonal cell lines were imaged across multiple fields of view in all imaging channels.\n",
    "We need to get single-cell images from each FOV indivdually and tag them with all of the appropriate metadata to identify genotype, treatment condition, clonal cell line and imaging experiment."
   ]
  },
  {
   "cell_type": "code",
   "execution_count": null,
   "id": "7",
   "metadata": {
    "tags": [
     "hide-output"
    ]
   },
   "outputs": [],
   "source": [
    "select_artifacts_df = (\n",
    "    ln.Artifact.filter(ulabels__name=\"autophagy imaging\")\n",
    "    .filter(description__icontains=\"raw image\")\n",
    "    .df(features=True)\n",
    ")\n",
    "display(select_artifacts_df.head())\n",
    "\n",
    "conditions = list(set.union(*select_artifacts_df[\"stimulation\"].values))\n",
    "cell_line_clones = list(set.union(*select_artifacts_df[\"cell_line_clone\"].values))\n",
    "FOVs = list(set.union(*select_artifacts_df[\"FOV\"].values))"
   ]
  },
  {
   "cell_type": "markdown",
   "id": "8",
   "metadata": {},
   "source": [
    "Alternatively, query for the {class}`~lamindb.ULabel` directly:"
   ]
  },
  {
   "cell_type": "code",
   "execution_count": null,
   "id": "9",
   "metadata": {
    "tags": [
     "hide-output"
    ]
   },
   "outputs": [],
   "source": [
    "conditions = ln.ULabel.filter(\n",
    "    links_artifact__feature__name=\"stimulation\", artifacts__in=input_images\n",
    ").distinct()\n",
    "cell_line_clones = ln.ULabel.filter(\n",
    "    links_artifact__feature__name=\"cell_line_clone\", artifacts__in=input_images\n",
    ").distinct()\n",
    "FOVs = ln.ULabel.filter(\n",
    "    links_artifact__feature__name=\"FOV\", artifacts__in=input_images\n",
    ").distinct()"
   ]
  },
  {
   "cell_type": "markdown",
   "id": "10",
   "metadata": {},
   "source": [
    "By iterating through conditions, celllines and FOVs, we should only have the 3 images showing a single FOV to enable processing using ScPortrait."
   ]
  },
  {
   "cell_type": "code",
   "execution_count": null,
   "id": "11",
   "metadata": {
    "tags": [
     "hide-output"
    ]
   },
   "outputs": [],
   "source": [
    "# load config file for processing all datasets\n",
    "config_file_af = ln.Artifact.using(\"scportrait/examples\").get(\n",
    "    key=\"input_data_imaging_usecase/config.yml\"\n",
    ")\n",
    "config_file_af.description = (\n",
    "    \"config for scportrait for processing of cells stained for autophagy markers\"\n",
    ")\n",
    "config_file_af.save()\n",
    "\n",
    "# annotate the config file with the metadata relevant to the study\n",
    "config_file_af.features.add_values(\n",
    "    {\"study\": \"autophagy imaging\", \"artifact type\": \"scportrait config\"}\n",
    ")"
   ]
  },
  {
   "cell_type": "markdown",
   "id": "12",
   "metadata": {},
   "source": [
    "Let's take a look at the processing of one example FOV."
   ]
  },
  {
   "cell_type": "code",
   "execution_count": null,
   "id": "13",
   "metadata": {
    "tags": [
     "hide-output"
    ]
   },
   "outputs": [],
   "source": [
    "# get input images for one example FOV\n",
    "condition = conditions[0]\n",
    "cellline = cell_line_clones[0]\n",
    "FOV = FOVs[0]\n",
    "\n",
    "images = (\n",
    "    input_images.filter(ulabels=condition)\n",
    "    .filter(ulabels=cellline)\n",
    "    .filter(ulabels=FOV)\n",
    "    .distinct()\n",
    ")\n",
    "\n",
    "# Perform quick sanity check that we only have images which share all of their attributed except channel and imaged structure\n",
    "_features = []\n",
    "values_to_ignore = [\"channel\", \"imaged structure\"]\n",
    "\n",
    "for af in images:\n",
    "    features = af.features.get_values()\n",
    "    features = {\n",
    "        key: features[key] for key in features.keys() if key not in values_to_ignore\n",
    "    }\n",
    "    _features.append(features)\n",
    "assert all(_features[0] == f for f in _features)\n",
    "shared_features = _features[0]\n",
    "\n",
    "# bring image paths into the correct order for processing\n",
    "input_image_paths = [\n",
    "    images.filter(ulabels__name=channel_name).one().cache()\n",
    "    for channel_name in [\"DAPI\", \"Alexa488\", \"mCherry\"]\n",
    "]"
   ]
  },
  {
   "cell_type": "code",
   "execution_count": null,
   "id": "14",
   "metadata": {
    "tags": [
     "hide-output"
    ]
   },
   "outputs": [],
   "source": [
    "# define and create an output location for the processed data\n",
    "output_directory = \"processed_data\"\n",
    "Path(output_directory).mkdir(parents=True, exist_ok=True)\n",
    "\n",
    "# initialize our scportrait project with a unique ID\n",
    "unique_project_id = f\"{shared_features['cell_line_clone']}/{shared_features['stimulation']}/{shared_features['FOV']}\".replace(\n",
    "    \" \", \"_\"\n",
    ")\n",
    "\n",
    "# create the project location\n",
    "project_location = f\"{output_directory}/{unique_project_id}/scportrait_project\"\n",
    "Path(project_location).mkdir(parents=True, exist_ok=True)\n",
    "\n",
    "# initialize the project\n",
    "project = Project(\n",
    "    project_location=project_location,\n",
    "    config_path=config_file_af.cache(),\n",
    "    segmentation_f=CytosolSegmentationCellpose,\n",
    "    extraction_f=HDF5CellExtraction,\n",
    "    overwrite=True,\n",
    ")\n",
    "\n",
    "# load our input images\n",
    "project.load_input_from_tif_files(\n",
    "    input_image_paths, overwrite=True, channel_names=[\"DAPI\", \"Alexa488\", \"mCherry\"]\n",
    ")\n",
    "\n",
    "# process the project\n",
    "project.segment()\n",
    "project.extract()"
   ]
  },
  {
   "cell_type": "markdown",
   "id": "15",
   "metadata": {},
   "source": [
    "First, lets look at the input images we processed."
   ]
  },
  {
   "cell_type": "code",
   "execution_count": null,
   "id": "16",
   "metadata": {},
   "outputs": [],
   "source": [
    "project.plot_input_image()"
   ]
  },
  {
   "cell_type": "markdown",
   "id": "17",
   "metadata": {},
   "source": [
    "Now we can look at the results generated by scPortrait. First the segmentation masks."
   ]
  },
  {
   "cell_type": "code",
   "execution_count": null,
   "id": "18",
   "metadata": {},
   "outputs": [],
   "source": [
    "project.plot_segmentation_masks()"
   ]
  },
  {
   "cell_type": "markdown",
   "id": "19",
   "metadata": {},
   "source": [
    "And then extraction results consisting of individual single-cell images over all of the channels."
   ]
  },
  {
   "cell_type": "code",
   "execution_count": null,
   "id": "20",
   "metadata": {},
   "outputs": [],
   "source": [
    "project.plot_single_cell_images()"
   ]
  },
  {
   "cell_type": "markdown",
   "id": "21",
   "metadata": {},
   "source": [
    "Now we also want to save these results to our instance. "
   ]
  },
  {
   "cell_type": "code",
   "execution_count": null,
   "id": "22",
   "metadata": {
    "tags": [
     "hide-output"
    ]
   },
   "outputs": [],
   "source": [
    "ln.Artifact.from_spatialdata(\n",
    "    sdata=project.filehandler.get_sdata(),\n",
    "    description=\"scportrait spatialdata object containing results of cells stained for autophagy markers\",\n",
    "    key=f\"processed_data_imaging_use_case/{unique_project_id}/spatialdata.zarr\",\n",
    ").save()"
   ]
  },
  {
   "cell_type": "code",
   "execution_count": null,
   "id": "23",
   "metadata": {
    "tags": [
     "hide-output"
    ]
   },
   "outputs": [],
   "source": [
    "# define var schema\n",
    "var_schema = ln.Schema(\n",
    "    name=\"single-cell image dataset schema var\",\n",
    "    description=\"column schema for data measured in obsm[single_cell_images]\",\n",
    "    itype=ln.Feature,\n",
    "    dtype=float,\n",
    ").save()\n",
    "\n",
    "# define obs schema\n",
    "obs_schema = ln.Schema(\n",
    "    name=\"single-cell image dataset schema obs\",\n",
    "    features=[\n",
    "        ln.Feature(name=\"scportrait_cell_id\", dtype=\"int\", coerce_dtype=True).save(),\n",
    "    ],\n",
    ").save()\n",
    "\n",
    "# define uns schema\n",
    "uns_schema = ln.Schema(\n",
    "    name=\"single-cell image dataset schema uns\",\n",
    "    itype=ln.Feature,\n",
    "    dtype=dict,\n",
    ").save()\n",
    "\n",
    "# define composite schema\n",
    "h5sc_schema = ln.Schema(\n",
    "    name=\"single-cell image dataset\",\n",
    "    otype=\"AnnData\",\n",
    "    slots={\"var\": var_schema, \"obs\": obs_schema, \"uns\": uns_schema},\n",
    ").save()\n",
    "\n",
    "# curate an AnnData\n",
    "curator = ln.curators.AnnDataCurator(project.h5sc, h5sc_schema)\n",
    "curator.validate()\n",
    "artifact = curator.save_artifact(\n",
    "    key=f\"processed_data_imaging_use_case/{unique_project_id}/single_cell_data.h5ad\"\n",
    ")\n",
    "\n",
    "# add shared annotation\n",
    "annotation = shared_features.copy()\n",
    "annotation[\"imaged structure\"] = [\n",
    "    ln.ULabel.using(\"scportrait/examples\").get(name=structure_name)\n",
    "    for structure_name in [\"LckLip-mNeon\", \"DNA\", \"mCherry-LC3B\"]\n",
    "]\n",
    "\n",
    "artifact.features.add_values(annotation)\n",
    "artifact.labels.add(ln.ULabel(name=\"scportrait single-cell images\").save())"
   ]
  },
  {
   "cell_type": "markdown",
   "id": "24",
   "metadata": {},
   "source": [
    "To make our lives easier so that we can process all of the files in our dataset we are going to write a custom image processing function.\n",
    "We decorate this function with :func:`~lamindb.tracked` to track data lineage of the input and output Artifacts. To improve processing time we will only recompute datasets that have not been previously processed and uploaded to our instance."
   ]
  },
  {
   "cell_type": "code",
   "execution_count": null,
   "id": "25",
   "metadata": {
    "tags": [
     "hide-output"
    ]
   },
   "outputs": [],
   "source": [
    "@ln.tracked()\n",
    "def _process_images(\n",
    "    config_file_af: ln.Artifact,\n",
    "    input_artifacts: Iterable[ln.Artifact],\n",
    "    h5sc_schema: ln.Schema,\n",
    "    output_directory: str,\n",
    ") -> None:\n",
    "    # Perform quick sanity check that we only have images which share all of their attributes except channel and imaged structure\n",
    "    _features = []\n",
    "    values_to_ignore = [\"channel\", \"imaged structure\"]\n",
    "\n",
    "    for af in input_artifacts:\n",
    "        features = af.features.get_values()\n",
    "        features = {\n",
    "            key: features[key] for key in features.keys() if key not in values_to_ignore\n",
    "        }\n",
    "        _features.append(features)\n",
    "    assert all(_features[0] == f for f in _features)\n",
    "    shared_features = _features[0]\n",
    "\n",
    "    # create a unique identifier for the project based on the annotated features\n",
    "    unique_project_id = f\"{shared_features['cell_line_clone']}/{shared_features['stimulation']}/{shared_features['FOV']}\".replace(\n",
    "        \" \", \"_\"\n",
    "    )\n",
    "\n",
    "    # check if processed results already exist and if so skip processing\n",
    "    try:\n",
    "        # check for single-cell images\n",
    "        (\n",
    "            ln.Artifact.using(\"scportrait/examples\").get(\n",
    "                key=f\"processed_data_imaging_use_case/{unique_project_id}/single_cell_data.h5ad\"\n",
    "            )\n",
    "        )\n",
    "\n",
    "        # check for SpatialData object\n",
    "        (\n",
    "            ln.Artifact.using(\"scportrait/examples\").get(\n",
    "                key=f\"processed_data_imaging_use_case/{unique_project_id}/spatialdata.zarr\"\n",
    "            )\n",
    "        )\n",
    "        print(\n",
    "            \"Dataset already processed and results uploaded to instance. Skipping processing.\"\n",
    "        )\n",
    "    except ln.Artifact.DoesNotExist:\n",
    "        input_image_paths = [\n",
    "            input_artifacts.filter(ulabels__name=channel_name).one().cache()\n",
    "            for channel_name in [\"DAPI\", \"Alexa488\", \"mCherry\"]\n",
    "        ]\n",
    "\n",
    "        # create the project location\n",
    "        project_location = f\"{output_directory}/{unique_project_id}/scportrait_project\"\n",
    "        Path(project_location).mkdir(parents=True, exist_ok=True)\n",
    "\n",
    "        project = Project(\n",
    "            project_location=project_location,\n",
    "            config_path=config_file_af.cache(),\n",
    "            segmentation_f=CytosolSegmentationCellpose,\n",
    "            extraction_f=HDF5CellExtraction,\n",
    "            overwrite=True,\n",
    "        )\n",
    "\n",
    "        # process the project\n",
    "        project.load_input_from_tif_files(\n",
    "            input_image_paths,\n",
    "            overwrite=True,\n",
    "            channel_names=[\"DAPI\", \"Alexa488\", \"mCherry\"],\n",
    "        )\n",
    "        project.segment()\n",
    "        project.extract()\n",
    "\n",
    "        # ingest results to instance\n",
    "        # single-cell images\n",
    "        curator = ln.curators.AnnDataCurator(project.h5sc, h5sc_schema)\n",
    "        artifact = curator.save_artifact(\n",
    "            key=f\"processed_data_imaging_use_case/{unique_project_id}/single_cell_data.h5ad\"\n",
    "        )\n",
    "        annotation = shared_features.copy()\n",
    "        annotation[\"imaged structure\"] = [\n",
    "            ln.ULabel.using(\"scportrait/examples\").get(name=structure_name)\n",
    "            for structure_name in [\"LckLip-mNeon\", \"DNA\", \"mCherry-LC3B\"]\n",
    "        ]\n",
    "        artifact.features.add_values(annotation)\n",
    "        artifact.labels.add(ln.ULabel.get(name=\"scportrait single-cell images\"))\n",
    "\n",
    "        # SpatialData object\n",
    "        ln.Artifact.from_spatialdata(\n",
    "            sdata=project.filehandler.get_sdata(),\n",
    "            description=\"scportrait spatialdata object containing results of cells stained for autophagy markers\",\n",
    "            key=f\"processed_data_imaging_use_case/{unique_project_id}/spatialdata.zarr\",\n",
    "        ).save()\n",
    "\n",
    "    return None"
   ]
  },
  {
   "cell_type": "code",
   "execution_count": null,
   "id": "26",
   "metadata": {
    "tags": [
     "hide-output"
    ]
   },
   "outputs": [],
   "source": [
    "ln.Param(name=\"output_directory\", dtype=\"str\").save()"
   ]
  },
  {
   "cell_type": "markdown",
   "id": "27",
   "metadata": {},
   "source": [
    "Now we are ready to process all of our input images and upload the generated single-cell image datasets back to our instance."
   ]
  },
  {
   "cell_type": "code",
   "execution_count": null,
   "id": "28",
   "metadata": {
    "tags": [
     "hide-output"
    ]
   },
   "outputs": [],
   "source": [
    "for condition in conditions:\n",
    "    for cellline in cell_line_clones:\n",
    "        for FOV in FOVs:\n",
    "            images = (\n",
    "                input_images.filter(ulabels=condition)\n",
    "                .filter(ulabels=cellline)\n",
    "                .filter(ulabels=FOV)\n",
    "                .distinct()\n",
    "            )\n",
    "\n",
    "            if images:\n",
    "                _process_images(\n",
    "                    config_file_af,\n",
    "                    input_artifacts=images,\n",
    "                    h5sc_schema=h5sc_schema,\n",
    "                    output_directory=output_directory,\n",
    "                )"
   ]
  },
  {
   "cell_type": "code",
   "execution_count": null,
   "id": "29",
   "metadata": {},
   "outputs": [],
   "source": [
    "example_artifact = ln.Artifact.filter(\n",
    "    ulabels=ln.ULabel.get(name=\"scportrait single-cell images\")\n",
    ")[0]\n",
    "example_artifact.view_lineage()"
   ]
  },
  {
   "cell_type": "code",
   "execution_count": null,
   "id": "30",
   "metadata": {
    "tags": [
     "hide-output"
    ]
   },
   "outputs": [],
   "source": [
    "ln.finish()"
   ]
  }
 ],
 "metadata": {
  "jupytext": {
   "cell_metadata_filter": "-all",
   "main_language": "python",
   "notebook_metadata_filter": "-all"
  },
  "kernelspec": {
   "display_name": "py312",
   "language": "python",
   "name": "python3"
  },
  "language_info": {
   "codemirror_mode": {
    "name": "ipython",
    "version": 3
   },
   "file_extension": ".py",
   "mimetype": "text/x-python",
   "name": "python",
   "nbconvert_exporter": "python",
   "pygments_lexer": "ipython3",
   "version": "3.12.8"
  }
 },
 "nbformat": 4,
 "nbformat_minor": 5
}
