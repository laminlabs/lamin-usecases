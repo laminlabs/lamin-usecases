{
 "cells": [
  {
   "cell_type": "markdown",
   "id": "0",
   "metadata": {},
   "source": [
    "![imaging2/4](https://img.shields.io/badge/imaging2/4-lightgrey)\n",
    "[![Jupyter Notebook](https://img.shields.io/badge/Source%20on%20GitHub-orange)](https://github.com/laminlabs/lamin-usecases/blob/main/docs/sc-imaging2.ipynb)"
   ]
  },
  {
   "cell_type": "markdown",
   "id": "1",
   "metadata": {},
   "source": [
    "# Generate single-cell images"
   ]
  },
  {
   "cell_type": "markdown",
   "id": "2",
   "metadata": {},
   "source": [
    "Here, we are going to process the previously ingested microscopy images with the [scPortrait](https://github.com/MannLabs/scPortrait) pipeline to generate single-cell images that we can use to assess autophagosome formation at a single-cell level."
   ]
  },
  {
   "cell_type": "code",
   "execution_count": null,
   "id": "3",
   "metadata": {
    "tags": [
     "hide-output"
    ]
   },
   "outputs": [],
   "source": [
    "# Fix anndata>=0.12.0 forward slash restriction\n",
    "import anndata._io.specs.registry as registry\n",
    "\n",
    "original_write = registry.Writer.write_elem\n",
    "registry.Writer.write_elem = (\n",
    "    lambda self, store, k, elem, dataset_kwargs=None: original_write(\n",
    "        self, store, str(k).replace(\"/\", \"|\"), elem, dataset_kwargs=dataset_kwargs\n",
    "    )\n",
    ")\n",
    "\n",
    "import lamindb as ln\n",
    "from collections.abc import Iterable\n",
    "\n",
    "from pathlib import Path\n",
    "from scportrait.pipeline.extraction import HDF5CellExtraction\n",
    "from scportrait.pipeline.project import Project\n",
    "from scportrait.pipeline.segmentation.workflows import CytosolSegmentationCellpose\n",
    "\n",
    "ln.track()"
   ]
  },
  {
   "cell_type": "markdown",
   "id": "4",
   "metadata": {},
   "source": [
    "## Query microscopy images"
   ]
  },
  {
   "cell_type": "markdown",
   "id": "5",
   "metadata": {},
   "source": [
    "First, we query for the raw and annotated microscopy images."
   ]
  },
  {
   "cell_type": "code",
   "execution_count": null,
   "id": "6",
   "metadata": {
    "tags": [
     "hide-output"
    ]
   },
   "outputs": [],
   "source": [
    "input_images = ln.Artifact.filter(\n",
    "    ulabels__name=\"autophagy imaging\", description__icontains=\"raw image\", suffix=\".tif\"\n",
    ")"
   ]
  },
  {
   "cell_type": "markdown",
   "id": "7",
   "metadata": {},
   "source": [
    "The experiment includes two genotypes (`WT` and `EI24KO`) under two treatment conditions (`unstimulated` vs. `14h Torin-1`). \n",
    "Multiple clonal cell lines were imaged for each condition across several fields of view (FOVs) and imaging channels.\n",
    "\n",
    "We'll extract single-cell images from each FOV and annotate them with metadata including genotype, treatment condition, clonal cell line, and imaging experiment."
   ]
  },
  {
   "cell_type": "code",
   "execution_count": null,
   "id": "8",
   "metadata": {
    "tags": [
     "hide-output"
    ]
   },
   "outputs": [],
   "source": [
    "input_images_df = input_images.df(features=True)\n",
    "\n",
    "display(input_images_df.head())\n",
    "\n",
    "conditions = input_images_df[\"stimulation\"].unique().tolist()\n",
    "cell_line_clones = input_images_df[\"cell_line_clone\"].unique().tolist()\n",
    "FOVs = input_images_df[\"FOV\"].unique().tolist()"
   ]
  },
  {
   "cell_type": "markdown",
   "id": "9",
   "metadata": {},
   "source": [
    "Alternatively, we can query for the {class}`~lamindb.ULabel` directly:"
   ]
  },
  {
   "cell_type": "code",
   "execution_count": null,
   "id": "10",
   "metadata": {
    "tags": [
     "hide-output"
    ]
   },
   "outputs": [],
   "source": [
    "conditions = ln.ULabel.filter(\n",
    "    links_artifact__feature__name=\"stimulation\", artifacts__in=input_images\n",
    ").distinct()\n",
    "\n",
    "cell_line_clones = ln.ULabel.filter(\n",
    "    links_artifact__feature__name=\"cell_line_clone\", artifacts__in=input_images\n",
    ").distinct()\n",
    "\n",
    "FOVs = ln.ULabel.filter(\n",
    "    links_artifact__feature__name=\"FOV\", artifacts__in=input_images\n",
    ").distinct()"
   ]
  },
  {
   "cell_type": "markdown",
   "id": "11",
   "metadata": {},
   "source": [
    "By iterating through conditions, cell lines and FOVs, we should only have 3 images showing a single FOV to enable processing using scPortrait."
   ]
  },
  {
   "cell_type": "code",
   "execution_count": null,
   "id": "12",
   "metadata": {
    "tags": [
     "hide-output"
    ]
   },
   "outputs": [],
   "source": [
    "# Create artifact type feature and associated label\n",
    "ln.Feature(name=\"artifact type\", dtype=ln.ULabel).save()\n",
    "ln.ULabel(name=\"scportrait config\").save()\n",
    "\n",
    "# Load config file for processing all datasets\n",
    "config_file_af = ln.Artifact.using(\"scportrait/examples\").get(\n",
    "    key=\"input_data_imaging_usecase/config.yml\"\n",
    ")\n",
    "\n",
    "config_file_af.description = (\n",
    "    \"config for scportrait for processing of cells stained for autophagy markers\"\n",
    ")\n",
    "config_file_af.save()\n",
    "\n",
    "# Annotate the config file with the metadata relevant to the study\n",
    "config_file_af.features.add_values(\n",
    "    {\"study\": \"autophagy imaging\", \"artifact type\": \"scportrait config\"}\n",
    ")"
   ]
  },
  {
   "cell_type": "markdown",
   "id": "13",
   "metadata": {},
   "source": [
    "## Process images with scPortrait"
   ]
  },
  {
   "cell_type": "markdown",
   "id": "14",
   "metadata": {},
   "source": [
    "Let's take a look at the processing of one example FOV."
   ]
  },
  {
   "cell_type": "code",
   "execution_count": null,
   "id": "15",
   "metadata": {
    "tags": [
     "hide-output"
    ]
   },
   "outputs": [],
   "source": [
    "# Get input images for one example FOV\n",
    "condition, cellline, FOV = conditions[0], cell_line_clones[0], FOVs[0]\n",
    "\n",
    "images = (\n",
    "    input_images.filter(ulabels=condition)\n",
    "    .filter(ulabels=cellline)\n",
    "    .filter(ulabels=FOV)\n",
    "    .distinct()\n",
    ")\n",
    "\n",
    "# Quick sanity check - all images should share metadata except channel/structure\n",
    "values_to_ignore = [\"channel\", \"imaged structure\"]\n",
    "features = images.first().features.get_values()\n",
    "shared_features = {k: v for k, v in features.items() if k not in values_to_ignore}\n",
    "\n",
    "for image in images:\n",
    "    image_features = image.features.get_values()\n",
    "    filtered_features = {\n",
    "        k: v for k, v in image_features.items() if k not in values_to_ignore\n",
    "    }\n",
    "    assert shared_features == filtered_features\n",
    "\n",
    "# Get image paths in correct channel order\n",
    "input_image_paths = [\n",
    "    images.filter(ulabels__name=channel).one().cache()\n",
    "    for channel in [\"DAPI\", \"Alexa488\", \"mCherry\"]\n",
    "]"
   ]
  },
  {
   "cell_type": "code",
   "execution_count": null,
   "id": "16",
   "metadata": {
    "tags": [
     "hide-output"
    ]
   },
   "outputs": [],
   "source": [
    "# Create output directory and unique project ID\n",
    "output_directory = \"processed_data\"\n",
    "unique_project_id = f\"{shared_features['cell_line_clone']}/{shared_features['stimulation']}/{shared_features['FOV']}\".replace(\n",
    "    \" \", \"_\"\n",
    ")\n",
    "project_location = f\"{output_directory}/{unique_project_id}/scportrait_project\"\n",
    "\n",
    "# Create directories\n",
    "Path(project_location).mkdir(parents=True, exist_ok=True)\n",
    "\n",
    "# Initialize the scPortrait project\n",
    "project = Project(\n",
    "    project_location=project_location,\n",
    "    config_path=config_file_af.cache(),\n",
    "    segmentation_f=CytosolSegmentationCellpose,\n",
    "    extraction_f=HDF5CellExtraction,\n",
    "    overwrite=True,\n",
    ")\n",
    "\n",
    "# Load images and process\n",
    "project.load_input_from_tif_files(\n",
    "    input_image_paths, overwrite=True, channel_names=[\"DAPI\", \"Alexa488\", \"mCherry\"]\n",
    ")\n",
    "project.segment()\n",
    "project.extract()"
   ]
  },
  {
   "cell_type": "markdown",
   "id": "17",
   "metadata": {},
   "source": [
    "Let's look at the input images we processed."
   ]
  },
  {
   "cell_type": "code",
   "execution_count": null,
   "id": "18",
   "metadata": {},
   "outputs": [],
   "source": [
    "project.plot_input_image()"
   ]
  },
  {
   "cell_type": "markdown",
   "id": "19",
   "metadata": {},
   "source": [
    "Now we can look at the results generated by scPortrait. First, the segmentation masks."
   ]
  },
  {
   "cell_type": "code",
   "execution_count": null,
   "id": "20",
   "metadata": {},
   "outputs": [],
   "source": [
    "project.plot_segmentation_masks()"
   ]
  },
  {
   "cell_type": "markdown",
   "id": "21",
   "metadata": {},
   "source": [
    "And then extraction results consisting of individual single-cell images over all of the channels."
   ]
  },
  {
   "cell_type": "code",
   "execution_count": null,
   "id": "22",
   "metadata": {},
   "outputs": [],
   "source": [
    "# Fix anndata>=0.12.0 forward slash restriction\n",
    "# The original code was: project.plot_single_cell_images()\n",
    "\n",
    "from scportrait.plotting.h5sc import cell_grid\n",
    "\n",
    "adata = project.h5sc\n",
    "adata.uns[\"single_cell_images\"] = {\n",
    "    k.split(\"|\")[1]: v\n",
    "    for k, v in adata.uns.items()\n",
    "    if k.startswith(\"single_cell_images|\")\n",
    "}\n",
    "cell_grid(adata, n_cells=5)"
   ]
  },
  {
   "cell_type": "markdown",
   "id": "23",
   "metadata": {},
   "source": [
    "##  Save and annotate results"
   ]
  },
  {
   "cell_type": "markdown",
   "id": "24",
   "metadata": {},
   "source": [
    "Now we also want to save these results to the instance. "
   ]
  },
  {
   "cell_type": "code",
   "execution_count": null,
   "id": "25",
   "metadata": {
    "tags": [
     "hide-output"
    ]
   },
   "outputs": [],
   "source": [
    "ln.Artifact.from_spatialdata(\n",
    "    sdata=project.filehandler.get_sdata(),\n",
    "    description=\"scportrait spatialdata object containing results of cells stained for autophagy markers\",\n",
    "    key=f\"processed_data_imaging_use_case/{unique_project_id}/spatialdata.zarr\",\n",
    ").save()"
   ]
  },
  {
   "cell_type": "code",
   "execution_count": null,
   "id": "26",
   "metadata": {
    "tags": [
     "hide-output"
    ]
   },
   "outputs": [],
   "source": [
    "# Define schemas for single-cell image dataset\n",
    "schemas = {\n",
    "    \"var.T\": ln.Schema(\n",
    "        name=\"single-cell image dataset schema var\",\n",
    "        description=\"column schema for data measured in obsm[single_cell_images]\",\n",
    "        itype=ln.Feature,\n",
    "    ).save(),\n",
    "    \"obs\": ln.Schema(\n",
    "        name=\"single-cell image dataset schema obs\",\n",
    "        features=[\n",
    "            ln.Feature(name=\"scportrait_cell_id\", dtype=\"int\", coerce_dtype=True).save()\n",
    "        ],\n",
    "    ).save(),\n",
    "    \"uns\": ln.Schema(\n",
    "        name=\"single-cell image dataset schema uns\",\n",
    "        itype=ln.Feature,\n",
    "        dtype=dict,\n",
    "    ).save(),\n",
    "}\n",
    "\n",
    "# Create composite schema\n",
    "h5sc_schema = ln.Schema(\n",
    "    name=\"single-cell image dataset\",\n",
    "    otype=\"AnnData\",\n",
    "    slots=schemas,\n",
    ").save()"
   ]
  },
  {
   "cell_type": "code",
   "execution_count": null,
   "id": "27",
   "metadata": {},
   "outputs": [],
   "source": [
    "# Curate the AnnData object\n",
    "curator = ln.curators.AnnDataCurator(project.h5sc, h5sc_schema)\n",
    "curator.validate()\n",
    "\n",
    "# Save artifact with annotations\n",
    "artifact = curator.save_artifact(\n",
    "    key=f\"processed_data_imaging_use_case/{unique_project_id}/single_cell_data.h5ad\"\n",
    ")\n",
    "\n",
    "# Add metadata and labels\n",
    "annotation = shared_features.copy()\n",
    "annotation[\"imaged structure\"] = [\n",
    "    ln.ULabel.using(\"scportrait/examples\").get(name=name)\n",
    "    for name in [\"LckLip-mNeon\", \"DNA\", \"mCherry-LC3B\"]\n",
    "]\n",
    "\n",
    "artifact.features.add_values(annotation)\n",
    "artifact.labels.add(ln.ULabel(name=\"scportrait single-cell images\").save())"
   ]
  },
  {
   "cell_type": "markdown",
   "id": "28",
   "metadata": {},
   "source": [
    "To process all files in our dataset efficiently, we'll create a custom image processing function. \n",
    "We decorate this function with :func:`~lamindb.tracked` to track data lineage of the input and output artifacts. \n",
    "\n",
    "The function will skip files that have already been processed and uploaded, improving processing time by avoiding redundant computations."
   ]
  },
  {
   "cell_type": "code",
   "execution_count": null,
   "id": "29",
   "metadata": {
    "tags": [
     "hide-output"
    ]
   },
   "outputs": [],
   "source": [
    "@ln.tracked()\n",
    "def process_images(\n",
    "    config_file_af: ln.Artifact,\n",
    "    input_artifacts: Iterable[ln.Artifact],\n",
    "    h5sc_schema: ln.Schema,\n",
    "    output_directory: str,\n",
    ") -> None:\n",
    "    # Quick sanity check - all images should share metadata except channel/structure\n",
    "    values_to_ignore = [\"channel\", \"imaged structure\"]\n",
    "    first_features = input_artifacts.first().features.get_values()\n",
    "    shared_features = {\n",
    "        k: v for k, v in first_features.items() if k not in values_to_ignore\n",
    "    }\n",
    "\n",
    "    for artifact in input_artifacts:\n",
    "        artifact_features = artifact.features.get_values()\n",
    "        filtered_features = {\n",
    "            k: v for k, v in artifact_features.items() if k not in values_to_ignore\n",
    "        }\n",
    "        assert shared_features == filtered_features\n",
    "\n",
    "    # Create a unique project ID\n",
    "    unique_project_id = f\"{shared_features['cell_line_clone']}/{shared_features['stimulation']}/{shared_features['FOV']}\".replace(\n",
    "        \" \", \"_\"\n",
    "    )\n",
    "\n",
    "    # Check if already processed\n",
    "    base_key = f\"processed_data_imaging_use_case/{unique_project_id}\"\n",
    "    try:\n",
    "        ln.Artifact.using(\"scportrait/examples\").get(\n",
    "            key=f\"{base_key}/single_cell_data.h5ad\"\n",
    "        )\n",
    "        ln.Artifact.using(\"scportrait/examples\").get(key=f\"{base_key}/spatialdata.zarr\")\n",
    "        print(\"Dataset already processed. Skipping.\")\n",
    "        return\n",
    "    except ln.Artifact.DoesNotExist:\n",
    "        pass\n",
    "\n",
    "    # Get image paths in channel order\n",
    "    input_image_paths = [\n",
    "        input_artifacts.filter(ulabels__name=channel).one().cache()\n",
    "        for channel in [\"DAPI\", \"Alexa488\", \"mCherry\"]\n",
    "    ]\n",
    "\n",
    "    # Setup and process project\n",
    "    project_location = f\"{output_directory}/{unique_project_id}/scportrait_project\"\n",
    "    Path(project_location).mkdir(parents=True, exist_ok=True)\n",
    "\n",
    "    project = Project(\n",
    "        project_location=project_location,\n",
    "        config_path=config_file_af.cache(),\n",
    "        segmentation_f=CytosolSegmentationCellpose,\n",
    "        extraction_f=HDF5CellExtraction,\n",
    "        overwrite=True,\n",
    "    )\n",
    "\n",
    "    project.load_input_from_tif_files(\n",
    "        input_image_paths, overwrite=True, channel_names=[\"DAPI\", \"Alexa488\", \"mCherry\"]\n",
    "    )\n",
    "    project.segment()\n",
    "    project.extract()\n",
    "\n",
    "    # Save single-cell images\n",
    "    curator = ln.curators.AnnDataCurator(project.h5sc, h5sc_schema)\n",
    "    artifact = curator.save_artifact(key=f\"{base_key}/single_cell_data.h5ad\")\n",
    "\n",
    "    annotation = shared_features.copy()\n",
    "    annotation[\"imaged structure\"] = [\n",
    "        ln.ULabel.using(\"scportrait/examples\").get(name=name)\n",
    "        for name in [\"LckLip-mNeon\", \"DNA\", \"mCherry-LC3B\"]\n",
    "    ]\n",
    "\n",
    "    artifact.features.add_values(annotation)\n",
    "    artifact.labels.add(ln.ULabel.get(name=\"scportrait single-cell images\"))\n",
    "\n",
    "    # Save SpatialData object\n",
    "    ln.Artifact.from_spatialdata(\n",
    "        sdata=project.filehandler.get_sdata(),\n",
    "        description=\"scportrait spatialdata object containing results of cells stained for autophagy markers\",\n",
    "        key=f\"{base_key}/spatialdata.zarr\",\n",
    "    ).save()"
   ]
  },
  {
   "cell_type": "code",
   "execution_count": null,
   "id": "30",
   "metadata": {
    "tags": [
     "hide-output"
    ]
   },
   "outputs": [],
   "source": [
    "ln.Param(name=\"output_directory\", dtype=\"str\").save()"
   ]
  },
  {
   "cell_type": "markdown",
   "id": "31",
   "metadata": {},
   "source": [
    "Now we are ready to process all of our input images and upload the generated single-cell image datasets back to our instance."
   ]
  },
  {
   "cell_type": "code",
   "execution_count": null,
   "id": "32",
   "metadata": {
    "tags": [
     "hide-output"
    ]
   },
   "outputs": [],
   "source": [
    "for condition in conditions:\n",
    "    for cellline in cell_line_clones:\n",
    "        for FOV in FOVs:\n",
    "            images = (\n",
    "                input_images.filter(ulabels=condition)\n",
    "                .filter(ulabels=cellline)\n",
    "                .filter(ulabels=FOV)\n",
    "                .distinct()\n",
    "            )\n",
    "\n",
    "            if images:\n",
    "                process_images(\n",
    "                    config_file_af,\n",
    "                    input_artifacts=images,\n",
    "                    h5sc_schema=h5sc_schema,\n",
    "                    output_directory=output_directory,\n",
    "                )"
   ]
  },
  {
   "cell_type": "code",
   "execution_count": null,
   "id": "33",
   "metadata": {},
   "outputs": [],
   "source": [
    "example_artifact = ln.Artifact.filter(\n",
    "    ulabels=ln.ULabel.get(name=\"scportrait single-cell images\")\n",
    ").first()\n",
    "\n",
    "example_artifact.view_lineage()"
   ]
  },
  {
   "cell_type": "code",
   "execution_count": null,
   "id": "34",
   "metadata": {
    "tags": [
     "hide-output"
    ]
   },
   "outputs": [],
   "source": [
    "ln.finish()"
   ]
  }
 ],
 "metadata": {
  "jupytext": {
   "cell_metadata_filter": "-all",
   "main_language": "python",
   "notebook_metadata_filter": "-all"
  },
  "kernelspec": {
   "display_name": "lamindb",
   "language": "python",
   "name": "python3"
  },
  "language_info": {
   "codemirror_mode": {
    "name": "ipython",
    "version": 3
   },
   "file_extension": ".py",
   "mimetype": "text/x-python",
   "name": "python",
   "nbconvert_exporter": "python",
   "pygments_lexer": "ipython3",
   "version": "3.12.8"
  }
 },
 "nbformat": 4,
 "nbformat_minor": 5
}
