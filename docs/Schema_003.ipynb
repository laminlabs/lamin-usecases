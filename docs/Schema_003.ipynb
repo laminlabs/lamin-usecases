{
 "cells": [
  {
   "cell_type": "markdown",
   "id": "7a7fd893-1ba8-4850-ae27-3872fa361a04",
   "metadata": {},
   "source": [
    "### We're now ready to explore our research question: What are key transcriptomic features that drive the transition from primary tumor to lymph node metastasis in breast cancer?\n",
    "---"
   ]
  },
  {
   "cell_type": "markdown",
   "id": "8119b5b7-cbc3-4100-ba4e-c369f71881bb",
   "metadata": {},
   "source": [
    "### Starting Analysis from Validated Data\n",
    "\n",
    "After preprocessing, all analyses begin with a validated dataset, ensuring consistency and reproducibility. From this point, we can explore various analytical paths, such as dimensionality reduction, clustering, differential expression analysis, or graph-based modeling, depending on the research objectives. By working with a well-structured and schema-compliant dataset, we streamline the analysis process and increase the robustness of our analysis."
   ]
  },
  {
   "cell_type": "code",
   "execution_count": 1,
   "id": "0344178b-627d-4e03-9e6e-756899ece8c2",
   "metadata": {},
   "outputs": [
    {
     "name": "stdout",
     "output_type": "stream",
     "text": [
      "\u001b[92m→\u001b[0m connected lamindb: paupaiz/data\n"
     ]
    }
   ],
   "source": [
    "import lamindb as ln\n",
    "import bionty as bt"
   ]
  },
  {
   "cell_type": "code",
   "execution_count": 2,
   "id": "ff36804f-5248-47f4-bca0-cc2141a1bb1c",
   "metadata": {},
   "outputs": [
    {
     "name": "stdout",
     "output_type": "stream",
     "text": [
      "\u001b[92m→\u001b[0m updated transform description, loaded Transform('scVKRrxDYWG60000'), re-started Run('lxytpVhs...') at 2025-03-09 21:50:19 UTC\n",
      "\u001b[92m→\u001b[0m notebook imports: anndata==0.11.3 bionty==1.1.0 captum==0.7.0 lamindb==1.1a1 matplotlib==3.10.0 numpy==2.1.0 pandas==2.2.3 scanpy==1.11.0 scipy==1.14.1 scvi-tools==1.2.2.post2 seaborn==0.13.2 torch-geometric==2.6.1 torch==2.6.0 tqdm==4.67.1\n"
     ]
    }
   ],
   "source": [
    "ln.track()"
   ]
  },
  {
   "cell_type": "code",
   "execution_count": 3,
   "id": "76b539c1-9189-4069-9dcb-75b01d9bf195",
   "metadata": {},
   "outputs": [],
   "source": [
    "import os\n",
    "from pathlib import Path\n",
    "import pandas as pd\n",
    "import scanpy as sc\n",
    "import anndata\n",
    "import scipy.sparse as sp\n",
    "from tqdm import tqdm"
   ]
  },
  {
   "cell_type": "markdown",
   "id": "9b1579a4-c815-4cd3-a059-bf0f9b5ca8ac",
   "metadata": {},
   "source": [
    "Anyone looking to start the analysis from (filtered) data can search the artifacts registry and retrieve the .h5ad file containing the filtered matrix."
   ]
  },
  {
   "cell_type": "code",
   "execution_count": 4,
   "id": "1f035fda-70dd-4c01-917f-90e4ca4e34ff",
   "metadata": {},
   "outputs": [
    {
     "data": {
      "text/html": [
       "<div>\n",
       "<style scoped>\n",
       "    .dataframe tbody tr th:only-of-type {\n",
       "        vertical-align: middle;\n",
       "    }\n",
       "\n",
       "    .dataframe tbody tr th {\n",
       "        vertical-align: top;\n",
       "    }\n",
       "\n",
       "    .dataframe thead th {\n",
       "        text-align: right;\n",
       "    }\n",
       "</style>\n",
       "<table border=\"1\" class=\"dataframe\">\n",
       "  <thead>\n",
       "    <tr style=\"text-align: right;\">\n",
       "      <th></th>\n",
       "      <th>uid</th>\n",
       "      <th>key</th>\n",
       "      <th>description</th>\n",
       "      <th>suffix</th>\n",
       "      <th>kind</th>\n",
       "      <th>otype</th>\n",
       "      <th>size</th>\n",
       "      <th>hash</th>\n",
       "      <th>n_files</th>\n",
       "      <th>n_observations</th>\n",
       "      <th>_hash_type</th>\n",
       "      <th>_key_is_virtual</th>\n",
       "      <th>_overwrite_versions</th>\n",
       "      <th>space_id</th>\n",
       "      <th>storage_id</th>\n",
       "      <th>schema_id</th>\n",
       "      <th>version</th>\n",
       "      <th>is_latest</th>\n",
       "      <th>run_id</th>\n",
       "      <th>created_at</th>\n",
       "      <th>created_by_id</th>\n",
       "      <th>_aux</th>\n",
       "      <th>_branch_code</th>\n",
       "    </tr>\n",
       "    <tr>\n",
       "      <th>id</th>\n",
       "      <th></th>\n",
       "      <th></th>\n",
       "      <th></th>\n",
       "      <th></th>\n",
       "      <th></th>\n",
       "      <th></th>\n",
       "      <th></th>\n",
       "      <th></th>\n",
       "      <th></th>\n",
       "      <th></th>\n",
       "      <th></th>\n",
       "      <th></th>\n",
       "      <th></th>\n",
       "      <th></th>\n",
       "      <th></th>\n",
       "      <th></th>\n",
       "      <th></th>\n",
       "      <th></th>\n",
       "      <th></th>\n",
       "      <th></th>\n",
       "      <th></th>\n",
       "      <th></th>\n",
       "      <th></th>\n",
       "    </tr>\n",
       "  </thead>\n",
       "  <tbody>\n",
       "    <tr>\n",
       "      <th>1</th>\n",
       "      <td>fqDEKvRwg55UfKxG0000</td>\n",
       "      <td>None</td>\n",
       "      <td>breast metastasis</td>\n",
       "      <td>.h5ad</td>\n",
       "      <td>dataset</td>\n",
       "      <td>AnnData</td>\n",
       "      <td>124511524</td>\n",
       "      <td>AFTJoMzP5ERzpiMqjr1qR3</td>\n",
       "      <td>None</td>\n",
       "      <td>108038</td>\n",
       "      <td>sha1-fl</td>\n",
       "      <td>True</td>\n",
       "      <td>False</td>\n",
       "      <td>1</td>\n",
       "      <td>1</td>\n",
       "      <td>None</td>\n",
       "      <td>None</td>\n",
       "      <td>True</td>\n",
       "      <td>2</td>\n",
       "      <td>2025-03-05 21:28:29.211000+00:00</td>\n",
       "      <td>1</td>\n",
       "      <td>None</td>\n",
       "      <td>1</td>\n",
       "    </tr>\n",
       "    <tr>\n",
       "      <th>2</th>\n",
       "      <td>NfPayTupzUQ5YEem0000</td>\n",
       "      <td>None</td>\n",
       "      <td>breast metastasis</td>\n",
       "      <td>.h5ad</td>\n",
       "      <td>dataset</td>\n",
       "      <td>AnnData</td>\n",
       "      <td>982219738</td>\n",
       "      <td>q4mdUBZZH_DE65t29RY5UG</td>\n",
       "      <td>None</td>\n",
       "      <td>117481</td>\n",
       "      <td>sha1-fl</td>\n",
       "      <td>True</td>\n",
       "      <td>False</td>\n",
       "      <td>1</td>\n",
       "      <td>1</td>\n",
       "      <td>None</td>\n",
       "      <td>None</td>\n",
       "      <td>True</td>\n",
       "      <td>2</td>\n",
       "      <td>2025-03-06 13:44:05.173000+00:00</td>\n",
       "      <td>1</td>\n",
       "      <td>None</td>\n",
       "      <td>1</td>\n",
       "    </tr>\n",
       "    <tr>\n",
       "      <th>3</th>\n",
       "      <td>RBne2GLn0c2Kie4m0000</td>\n",
       "      <td>None</td>\n",
       "      <td>Single Cell RNA-seq dataset from GEO [GSE18028...</td>\n",
       "      <td>.h5ad</td>\n",
       "      <td>dataset</td>\n",
       "      <td>AnnData</td>\n",
       "      <td>88714646</td>\n",
       "      <td>I1T5VMQKYd8saSGwJQaBbF</td>\n",
       "      <td>None</td>\n",
       "      <td>42049</td>\n",
       "      <td>sha1-fl</td>\n",
       "      <td>True</td>\n",
       "      <td>False</td>\n",
       "      <td>1</td>\n",
       "      <td>1</td>\n",
       "      <td>None</td>\n",
       "      <td>None</td>\n",
       "      <td>True</td>\n",
       "      <td>4</td>\n",
       "      <td>2025-03-06 13:54:32.873000+00:00</td>\n",
       "      <td>1</td>\n",
       "      <td>None</td>\n",
       "      <td>1</td>\n",
       "    </tr>\n",
       "  </tbody>\n",
       "</table>\n",
       "</div>"
      ],
      "text/plain": [
       "                     uid   key  \\\n",
       "id                               \n",
       "1   fqDEKvRwg55UfKxG0000  None   \n",
       "2   NfPayTupzUQ5YEem0000  None   \n",
       "3   RBne2GLn0c2Kie4m0000  None   \n",
       "\n",
       "                                          description suffix     kind  \\\n",
       "id                                                                      \n",
       "1                                   breast metastasis  .h5ad  dataset   \n",
       "2                                   breast metastasis  .h5ad  dataset   \n",
       "3   Single Cell RNA-seq dataset from GEO [GSE18028...  .h5ad  dataset   \n",
       "\n",
       "      otype       size                    hash n_files  n_observations  \\\n",
       "id                                                                       \n",
       "1   AnnData  124511524  AFTJoMzP5ERzpiMqjr1qR3    None          108038   \n",
       "2   AnnData  982219738  q4mdUBZZH_DE65t29RY5UG    None          117481   \n",
       "3   AnnData   88714646  I1T5VMQKYd8saSGwJQaBbF    None           42049   \n",
       "\n",
       "   _hash_type  _key_is_virtual  _overwrite_versions  space_id  storage_id  \\\n",
       "id                                                                          \n",
       "1     sha1-fl             True                False         1           1   \n",
       "2     sha1-fl             True                False         1           1   \n",
       "3     sha1-fl             True                False         1           1   \n",
       "\n",
       "   schema_id version  is_latest  run_id                       created_at  \\\n",
       "id                                                                         \n",
       "1       None    None       True       2 2025-03-05 21:28:29.211000+00:00   \n",
       "2       None    None       True       2 2025-03-06 13:44:05.173000+00:00   \n",
       "3       None    None       True       4 2025-03-06 13:54:32.873000+00:00   \n",
       "\n",
       "    created_by_id  _aux  _branch_code  \n",
       "id                                     \n",
       "1               1  None             1  \n",
       "2               1  None             1  \n",
       "3               1  None             1  "
      ]
     },
     "execution_count": 4,
     "metadata": {},
     "output_type": "execute_result"
    }
   ],
   "source": [
    "#search\n",
    "ln.Artifact.features.filter(experiment__icontains=\"Breast Cancer\").df()"
   ]
  },
  {
   "cell_type": "code",
   "execution_count": 5,
   "id": "6603245b-3408-4ca5-bcef-13109149e8c7",
   "metadata": {},
   "outputs": [],
   "source": [
    "adata_artifact = ln.Artifact.get(\"RBne2GLn0c2Kie4m0000\")"
   ]
  },
  {
   "cell_type": "code",
   "execution_count": 16,
   "id": "d2f3fdc4-520c-4d32-b2d1-46479d43dee3",
   "metadata": {},
   "outputs": [
    {
     "data": {
      "text/html": [
       "<pre style=\"white-space:pre;overflow-x:auto;line-height:normal;font-family:Menlo,'DejaVu Sans Mono',consolas,'Courier New',monospace\"><span style=\"font-weight: bold\">Artifact</span><span style=\"color: #7f7f7f; text-decoration-color: #7f7f7f; font-weight: bold\"> .h5ad/AnnData</span>\n",
       "<span style=\"color: #7f7f7f; text-decoration-color: #7f7f7f\">├── </span><span style=\"color: #00ffff; text-decoration-color: #00ffff; font-weight: bold\">General</span>\n",
       "<span style=\"color: #7f7f7f; text-decoration-color: #7f7f7f\">│   ├── </span>.uid = 'RBne2GLn0c2Kie4m0000'\n",
       "<span style=\"color: #7f7f7f; text-decoration-color: #7f7f7f\">│   ├── </span>.size = 88714646\n",
       "<span style=\"color: #7f7f7f; text-decoration-color: #7f7f7f\">│   ├── </span>.hash = 'I1T5VMQKYd8saSGwJQaBbF'\n",
       "<span style=\"color: #7f7f7f; text-decoration-color: #7f7f7f\">│   ├── </span>.n_observations = 42049\n",
       "<span style=\"color: #7f7f7f; text-decoration-color: #7f7f7f\">│   ├── </span>.path = <span style=\"color: #7f7f7f; text-decoration-color: #7f7f7f\">/Users/paulinampaiz/Desktop/myLamin_local/data</span>/.lamindb/RBne2GLn0c2Kie4m0000.h5ad\n",
       "<span style=\"color: #7f7f7f; text-decoration-color: #7f7f7f\">│   ├── </span>.created_by = paupaiz\n",
       "<span style=\"color: #7f7f7f; text-decoration-color: #7f7f7f\">│   ├── </span>.created_at = <span style=\"color: #7f7f7f; text-decoration-color: #7f7f7f\">2025-03-06 07:54:32</span>\n",
       "<span style=\"color: #7f7f7f; text-decoration-color: #7f7f7f\">│   └── </span><span style=\"color: #00d7af; text-decoration-color: #00d7af\">.transform = 'Preprocessing Raw data and some EDA'</span>\n",
       "<span style=\"color: #7f7f7f; text-decoration-color: #7f7f7f\">├── </span><span style=\"color: #ff8700; text-decoration-color: #ff8700; font-weight: bold\">Linked features</span>\n",
       "<span style=\"color: #7f7f7f; text-decoration-color: #7f7f7f\">│   └── </span>disease                    <span style=\"color: #7f7f7f; text-decoration-color: #7f7f7f\"> cat[bionty.Disease]       </span> breast cancer                            \n",
       "<span style=\"color: #7f7f7f; text-decoration-color: #7f7f7f\">│       </span>author                     <span style=\"color: #7f7f7f; text-decoration-color: #7f7f7f\"> str                       </span> Xu K                                     \n",
       "<span style=\"color: #7f7f7f; text-decoration-color: #7f7f7f\">│       </span>experiment                 <span style=\"color: #7f7f7f; text-decoration-color: #7f7f7f\"> str                       </span> Breast Cancer scRNA-seq Experiment       \n",
       "<span style=\"color: #7f7f7f; text-decoration-color: #7f7f7f\">│       </span>n_cells                    <span style=\"color: #7f7f7f; text-decoration-color: #7f7f7f\"> int                       </span> 42049                                    \n",
       "<span style=\"color: #7f7f7f; text-decoration-color: #7f7f7f\">│       </span>n_genes                    <span style=\"color: #7f7f7f; text-decoration-color: #7f7f7f\"> int                       </span> 2000                                     \n",
       "<span style=\"color: #7f7f7f; text-decoration-color: #7f7f7f\">└── </span><span style=\"color: #afff00; text-decoration-color: #afff00; font-weight: bold\">Labels</span>\n",
       "<span style=\"color: #7f7f7f; text-decoration-color: #7f7f7f\">    └── </span>.tissues                   <span style=\"color: #7f7f7f; text-decoration-color: #7f7f7f\"> bionty.Tissue             </span> breast, lymph node                       \n",
       "<span style=\"color: #7f7f7f; text-decoration-color: #7f7f7f\">        </span>.diseases                  <span style=\"color: #7f7f7f; text-decoration-color: #7f7f7f\"> bionty.Disease            </span> breast cancer                            \n",
       "<span style=\"color: #7f7f7f; text-decoration-color: #7f7f7f\">        </span>.ulabels                   <span style=\"color: #7f7f7f; text-decoration-color: #7f7f7f\"> ULabel                    </span> Filtered                                 \n",
       "</pre>\n"
      ],
      "text/plain": [
       "\u001b[1mArtifact\u001b[0m\u001b[1;2m .h5ad/AnnData\u001b[0m\n",
       "\u001b[2m├── \u001b[0m\u001b[1;96mGeneral\u001b[0m\n",
       "\u001b[2m│   \u001b[0m\u001b[2m├── \u001b[0m.uid = 'RBne2GLn0c2Kie4m0000'\n",
       "\u001b[2m│   \u001b[0m\u001b[2m├── \u001b[0m.size = 88714646\n",
       "\u001b[2m│   \u001b[0m\u001b[2m├── \u001b[0m.hash = 'I1T5VMQKYd8saSGwJQaBbF'\n",
       "\u001b[2m│   \u001b[0m\u001b[2m├── \u001b[0m.n_observations = 42049\n",
       "\u001b[2m│   \u001b[0m\u001b[2m├── \u001b[0m.path = \u001b[2m/Users/paulinampaiz/Desktop/myLamin_local/data\u001b[0m/.lamindb/RBne2GLn0c2Kie4m0000.h5ad\n",
       "\u001b[2m│   \u001b[0m\u001b[2m├── \u001b[0m.created_by = paupaiz\n",
       "\u001b[2m│   \u001b[0m\u001b[2m├── \u001b[0m.created_at = \u001b[2m2025-03-06 07:54:32\u001b[0m\n",
       "\u001b[2m│   \u001b[0m\u001b[2m└── \u001b[0m\u001b[38;5;43m.transform = 'Preprocessing Raw data and some EDA'\u001b[0m\n",
       "\u001b[2m├── \u001b[0m\u001b[1;38;5;208mLinked features\u001b[0m\n",
       "\u001b[2m│   \u001b[0m\u001b[2m└── \u001b[0mdisease                    \u001b[2m \u001b[0m\u001b[2mcat[bionty.Disease]      \u001b[0m\u001b[2m \u001b[0m breast cancer                            \n",
       "\u001b[2m│   \u001b[0m\u001b[2m    \u001b[0mauthor                     \u001b[2m \u001b[0m\u001b[2mstr                      \u001b[0m\u001b[2m \u001b[0m Xu K                                     \n",
       "\u001b[2m│   \u001b[0m\u001b[2m    \u001b[0mexperiment                 \u001b[2m \u001b[0m\u001b[2mstr                      \u001b[0m\u001b[2m \u001b[0m Breast Cancer scRNA-seq Experiment       \n",
       "\u001b[2m│   \u001b[0m\u001b[2m    \u001b[0mn_cells                    \u001b[2m \u001b[0m\u001b[2mint                      \u001b[0m\u001b[2m \u001b[0m 42049                                    \n",
       "\u001b[2m│   \u001b[0m\u001b[2m    \u001b[0mn_genes                    \u001b[2m \u001b[0m\u001b[2mint                      \u001b[0m\u001b[2m \u001b[0m 2000                                     \n",
       "\u001b[2m└── \u001b[0m\u001b[1;38;5;154mLabels\u001b[0m\n",
       "\u001b[2m    \u001b[0m\u001b[2m└── \u001b[0m.tissues                   \u001b[2m \u001b[0m\u001b[2mbionty.Tissue            \u001b[0m\u001b[2m \u001b[0m breast, lymph node                       \n",
       "\u001b[2m    \u001b[0m\u001b[2m    \u001b[0m.diseases                  \u001b[2m \u001b[0m\u001b[2mbionty.Disease           \u001b[0m\u001b[2m \u001b[0m breast cancer                            \n",
       "\u001b[2m    \u001b[0m\u001b[2m    \u001b[0m.ulabels                   \u001b[2m \u001b[0m\u001b[2mULabel                   \u001b[0m\u001b[2m \u001b[0m Filtered                                 \n"
      ]
     },
     "metadata": {},
     "output_type": "display_data"
    }
   ],
   "source": [
    "adata_artifact.describe()"
   ]
  },
  {
   "cell_type": "code",
   "execution_count": 6,
   "id": "bf3ae59e",
   "metadata": {},
   "outputs": [
    {
     "data": {
      "text/plain": [
       "AnnData object with n_obs × n_vars = 42049 × 2000\n",
       "    obs: 'patient', 'site', 'n_genes_by_counts', 'log1p_n_genes_by_counts', 'total_counts', 'log1p_total_counts', 'pct_counts_in_top_50_genes', 'pct_counts_in_top_100_genes', 'pct_counts_in_top_200_genes', 'pct_counts_in_top_500_genes', 'total_counts_mt', 'log1p_total_counts_mt', 'pct_counts_mt', 'total_counts_ribo', 'log1p_total_counts_ribo', 'pct_counts_ribo', 'total_counts_hb', 'log1p_total_counts_hb', 'pct_counts_hb', 'n_genes'\n",
       "    var: 'mt', 'ribo', 'hb', 'n_cells_by_counts', 'mean_counts', 'log1p_mean_counts', 'pct_dropout_by_counts', 'total_counts', 'log1p_total_counts', 'n_cells', 'highly_variable', 'means', 'dispersions', 'dispersions_norm'\n",
       "    uns: 'hvg', 'log1p'\n",
       "    layers: 'counts'"
      ]
     },
     "execution_count": 6,
     "metadata": {},
     "output_type": "execute_result"
    }
   ],
   "source": [
    "adata = adata_artifact.load()\n",
    "adata"
   ]
  },
  {
   "cell_type": "markdown",
   "id": "ee902102-5bbc-4852-be8b-bef21bc13105",
   "metadata": {},
   "source": [
    "### Starting the ML Workflow & Saving Model Artifacts\n",
    "\n",
    "From this point, we initiate a machine learning (ML) workflow for single-cell analysis, ensuring that all model artifacts are saved with annotations.\n",
    "\n",
    "Our example workflow follows these key steps:\n",
    "\n",
    "- Extract latent representations from scRNA-seq data using scVI. [This can be compute intensive and we save these in our data]\n",
    "- Construct a bipartite cell-gene graph, capturing relationships between cells and genes.\n",
    "- Train a Heterogeneous Graph Neural Network (GNN) for cell classification, leveraging structured graph information.\n",
    "- Interpret model predictions using Integrated Gradients (IG) to gain insights into feature importance.\n",
    "\n",
    "By saving trained models and artifacts with metadata, we ensure that future analyses can easily reuse, validate, or extend the workflow without retraining from scratch."
   ]
  },
  {
   "cell_type": "code",
   "execution_count": 11,
   "id": "5639e80a-93b1-4a38-bb3c-f0447c260d40",
   "metadata": {},
   "outputs": [
    {
     "name": "stderr",
     "output_type": "stream",
     "text": [
      "/Users/paulinampaiz/.local/share/mamba/envs/lamin/lib/python3.12/site-packages/tqdm/auto.py:21: TqdmWarning: IProgress not found. Please update jupyter and ipywidgets. See https://ipywidgets.readthedocs.io/en/stable/user_install.html\n",
      "  from .autonotebook import tqdm as notebook_tqdm\n"
     ]
    }
   ],
   "source": [
    "import numpy as np\n",
    "import pandas as pd\n",
    "import torch\n",
    "import torch.nn as nn\n",
    "import torch.optim as optim\n",
    "import torch.nn.functional as F\n",
    "import scvi\n",
    "import matplotlib.pyplot as plt\n",
    "import seaborn as sns\n",
    "from torch_geometric.data import HeteroData\n",
    "from torch_geometric.nn import HeteroConv, SAGEConv\n",
    "from captum.attr import IntegratedGradients\n",
    "import copy"
   ]
  },
  {
   "cell_type": "markdown",
   "id": "8d42ffc9-2d87-451e-ac20-6ee224643197",
   "metadata": {},
   "source": [
    "#### Preprocess and Extract Latent Representation Using scVI\n",
    "---\n",
    "Prepare scVI Model and Train to extract Latent representations"
   ]
  },
  {
   "cell_type": "code",
   "execution_count": 12,
   "id": "555e26a5-f6c0-437f-bd7c-fceb9c0b416e",
   "metadata": {},
   "outputs": [],
   "source": [
    "def train_scvi_model(adata, batch_key=\"patient\", layer=\"counts\", epochs=5):\n",
    "    \"\"\"Prepares and trains an scVI model to extract latent representations.\"\"\"\n",
    "    scvi.model.SCVI.setup_anndata(adata, batch_key=batch_key, layer=layer)\n",
    "    model = scvi.model.SCVI(adata, gene_likelihood='nb', dispersion=\"gene\")\n",
    "    model.train(max_epochs=epochs)\n",
    "    return model"
   ]
  },
  {
   "cell_type": "code",
   "execution_count": 13,
   "id": "97a37693-42c4-4586-a470-a7c84accea12",
   "metadata": {},
   "outputs": [
    {
     "name": "stderr",
     "output_type": "stream",
     "text": [
      "/Users/paulinampaiz/.local/share/mamba/envs/lamin/lib/python3.12/site-packages/scvi/train/_trainrunner.py:69: UserWarning: `accelerator` has been automatically set to `cpu` although 'mps' exists. If you wish to run on mps backend, use explicitly accelerator=='mps' in train function.In future releases it will become default for mps supported machines.\n",
      "  accelerator, lightning_devices, device = parse_device_args(\n",
      "GPU available: True (mps), used: False\n",
      "TPU available: False, using: 0 TPU cores\n",
      "HPU available: False, using: 0 HPUs\n",
      "/Users/paulinampaiz/.local/share/mamba/envs/lamin/lib/python3.12/site-packages/lightning/pytorch/trainer/setup.py:177: GPU available but not used. You can set it by doing `Trainer(accelerator='gpu')`.\n",
      "/Users/paulinampaiz/.local/share/mamba/envs/lamin/lib/python3.12/site-packages/lightning/pytorch/trainer/connectors/data_connector.py:425: The 'train_dataloader' does not have many workers which may be a bottleneck. Consider increasing the value of the `num_workers` argument` to `num_workers=7` in the `DataLoader` to improve performance.\n"
     ]
    },
    {
     "name": "stdout",
     "output_type": "stream",
     "text": [
      "Epoch 5/5: 100%|██████████| 5/5 [00:28<00:00,  5.66s/it, v_num=1, train_loss_step=284, train_loss_epoch=290]"
     ]
    },
    {
     "name": "stderr",
     "output_type": "stream",
     "text": [
      "`Trainer.fit` stopped: `max_epochs=5` reached.\n"
     ]
    },
    {
     "name": "stdout",
     "output_type": "stream",
     "text": [
      "Epoch 5/5: 100%|██████████| 5/5 [00:28<00:00,  5.65s/it, v_num=1, train_loss_step=284, train_loss_epoch=290]\n",
      "Latent representation shape: (42049, 10)\n"
     ]
    }
   ],
   "source": [
    "# Train scVI and extract latent representation\n",
    "model = train_scvi_model(adata)\n",
    "latent = model.get_latent_representation()\n",
    "adata.obsm[\"X_scVI\"] = latent  # Store in AnnData\n",
    "print(\"Latent representation shape:\", latent.shape)"
   ]
  },
  {
   "cell_type": "markdown",
   "id": "48b7c1e5-a296-42dd-8e17-04a43948f0a0",
   "metadata": {},
   "source": [
    "#### Construct Cell-Gene Bipartite Graph:\n",
    "---"
   ]
  },
  {
   "cell_type": "code",
   "execution_count": 14,
   "id": "311ed07a",
   "metadata": {},
   "outputs": [
    {
     "data": {
      "text/plain": [
       "array([[ 3.1537259 ,  5.854181  , -0.778856  , ...,  2.4124615 ,\n",
       "         0.9397507 ,  0.86563987],\n",
       "       [ 1.5417994 , -0.20409662,  0.96372217, ...,  0.7945022 ,\n",
       "         3.2612739 , -0.5416088 ],\n",
       "       [ 2.4917774 ,  2.375364  , -0.00714274, ...,  1.4657606 ,\n",
       "         0.8023967 ,  0.17984655],\n",
       "       ...,\n",
       "       [-1.001453  ,  0.28889433, -1.1243713 , ..., -0.01106025,\n",
       "        -1.2411878 ,  0.7859103 ],\n",
       "       [-0.16168976,  0.360212  , -0.75356585, ...,  0.28841877,\n",
       "        -1.5853416 ,  0.32247823],\n",
       "       [ 0.09095922,  1.580621  , -2.260701  , ...,  0.1477848 ,\n",
       "         0.25300094,  1.583194  ]], dtype=float32)"
      ]
     },
     "execution_count": 14,
     "metadata": {},
     "output_type": "execute_result"
    }
   ],
   "source": [
    "adata.obsm[\"X_scVI\"]"
   ]
  },
  {
   "cell_type": "code",
   "execution_count": 25,
   "id": "2e8a05e4-f214-47c5-a302-396f88bfc128",
   "metadata": {},
   "outputs": [],
   "source": [
    "# Convert Data to Tensors for GNN\n",
    "def prepare_tensors(adata):\n",
    "    \"\"\"Converts scVI embeddings and cell labels into PyTorch tensors.\"\"\"\n",
    "    X_latent = torch.tensor(adata.obsm[\"X_scVI\"], dtype=torch.float)\n",
    "    binary_labels = np.where(adata.obs[\"site\"].values == \"primary\", 0, 1)\n",
    "    cell_tensor = torch.tensor(binary_labels, dtype=torch.long)\n",
    "    return X_latent, cell_tensor"
   ]
  },
  {
   "cell_type": "code",
   "execution_count": 26,
   "id": "ff850842-ea7b-40b5-a72d-7c86f24ef261",
   "metadata": {},
   "outputs": [],
   "source": [
    "cell_features, cell_labels = prepare_tensors(adata)\n",
    "n_cells, latent_dim = cell_features.shape"
   ]
  },
  {
   "cell_type": "markdown",
   "id": "681c9c5d",
   "metadata": {},
   "source": [
    "Choose a reasonable threshold:"
   ]
  },
  {
   "cell_type": "code",
   "execution_count": null,
   "id": "9450629a",
   "metadata": {},
   "outputs": [
    {
     "data": {
      "image/png": "[encoded data removed]",
      "text/plain": [
       "<Figure size 800x500 with 1 Axes>"
      ]
     },
     "metadata": {},
     "output_type": "display_data"
    },
    {
     "name": "stdout",
     "output_type": "stream",
     "text": [
      "Min: 1\n",
      "Max: 7451\n",
      "Mean: 6.897566693802721\n",
      "Median: 1.0\n",
      "25th Percentile: 1.0\n",
      "75th Percentile: 3.0\n"
     ]
    }
   ],
   "source": [
    "X_raw = adata.layers[\"counts\"].toarray()\n",
    "\n",
    "# Extract nonzero expression values because zeros can dominate the distribution\n",
    "nonzero_expr = X_raw[X_raw > 0]\n",
    "\n",
    "# histogram\n",
    "plt.figure(figsize=(8, 5))\n",
    "plt.hist(nonzero_expr, bins=50, range=(0, 90), color='skyblue', edgecolor='black')\n",
    "plt.xlabel(\"Expression level\")\n",
    "plt.ylabel(\"Frequency\")\n",
    "plt.title(\"Histogram of nonzero gene expression counts (limited range)\")\n",
    "plt.show()\n",
    "\n",
    "# basic stats\n",
    "print(\"Min:\", np.min(nonzero_expr))\n",
    "print(\"Max:\", np.max(nonzero_expr))\n",
    "print(\"Mean:\", np.mean(nonzero_expr))\n",
    "print(\"Median:\", np.median(nonzero_expr))\n",
    "print(\"25th Percentile:\", np.percentile(nonzero_expr, 25))\n",
    "print(\"75th Percentile:\", np.percentile(nonzero_expr, 75))"
   ]
  },
  {
   "cell_type": "code",
   "execution_count": null,
   "id": "d87c2e3f-60ee-4bae-846d-05cf713a53ed",
   "metadata": {},
   "outputs": [],
   "source": [
    "def create_graph(adata, cell_features, expr_threshold=2):\n",
    "    \"\"\"Constructs a bipartite graph where nodes are cells and genes and edges are based on gene expression levels.\"\"\"\n",
    "    data = HeteroData()\n",
    "    data['cell'].x = cell_features\n",
    "\n",
    "    # Create random learnable embeddings for gene nodes\n",
    "    gene_features = torch.randn(len(adata.var_names), 32, requires_grad=True)\n",
    "    data['gene'].x = gene_features\n",
    "    \n",
    "    # Create edges where expression > threshold\n",
    "    edge_index = [[], []]\n",
    "    for i in range(n_cells):\n",
    "        expressed_genes = np.where(X_raw[i, :] > expr_threshold)[0]\n",
    "        edge_index[0].extend([i] * len(expressed_genes))\n",
    "        edge_index[1].extend(expressed_genes)\n",
    "\n",
    "    edge_index = torch.tensor(edge_index, dtype=torch.long)\n",
    "    data['cell', 'expresses', 'gene'].edge_index = edge_index\n",
    "    data['gene', 'expressed_by', 'cell'].edge_index = edge_index[[1, 0]]\n",
    "\n",
    "    # Store cell labels\n",
    "    data['cell'].y = cell_labels\n",
    "    return data"
   ]
  },
  {
   "cell_type": "code",
   "execution_count": 27,
   "id": "6fcb5c7b-e6b5-4973-be31-a96204db6972",
   "metadata": {},
   "outputs": [
    {
     "name": "stdout",
     "output_type": "stream",
     "text": [
      "HeteroData(\n",
      "  cell={\n",
      "    x=[42049, 10],\n",
      "    y=[42049],\n",
      "  },\n",
      "  gene={ x=[2000, 32] },\n",
      "  (cell, expresses, gene)={ edge_index=[2, 1050749] },\n",
      "  (gene, expressed_by, cell)={ edge_index=[2, 1050749] }\n",
      ")\n"
     ]
    }
   ],
   "source": [
    "# Construct the graph\n",
    "graph_data = create_graph(adata, cell_features)\n",
    "print(graph_data)"
   ]
  },
  {
   "cell_type": "markdown",
   "id": "a6b58e7e-502b-403b-b671-d3600cb6e855",
   "metadata": {},
   "source": [
    "### Define and Train GNN "
   ]
  },
  {
   "cell_type": "code",
   "execution_count": 26,
   "id": "c7572680-3280-4db5-8a99-ec0fad74ae63",
   "metadata": {},
   "outputs": [],
   "source": [
    "class HeteroGNN(nn.Module):\n",
    "    def __init__(self, cell_in_dim, gene_in_dim, hidden_dim, out_dim):\n",
    "        super(HeteroGNN, self).__init__()\n",
    "        self.conv1 = HeteroConv({\n",
    "            ('cell', 'expresses', 'gene'): SAGEConv((cell_in_dim, gene_in_dim), hidden_dim),\n",
    "            ('gene', 'expressed_by', 'cell'): SAGEConv((gene_in_dim, cell_in_dim), hidden_dim),\n",
    "        }, aggr='mean')\n",
    "\n",
    "        self.conv2 = HeteroConv({\n",
    "            ('cell', 'expresses', 'gene'): SAGEConv((hidden_dim, hidden_dim), hidden_dim),\n",
    "            ('gene', 'expressed_by', 'cell'): SAGEConv((hidden_dim, hidden_dim), hidden_dim),\n",
    "        }, aggr='mean')\n",
    "\n",
    "        self.lin = nn.Linear(hidden_dim, out_dim)\n",
    "    \n",
    "    def forward(self, data):\n",
    "        x_dict = {node_type: data[node_type].x for node_type in data.node_types}\n",
    "        edge_index_dict = {etype: data[etype].edge_index for etype in data.edge_types}\n",
    "        x_dict = self.conv1(x_dict, edge_index_dict)\n",
    "        x_dict = {key: F.relu(val) for key, val in x_dict.items()}\n",
    "        x_dict = self.conv2(x_dict, edge_index_dict)\n",
    "        x_dict = {key: F.relu(val) for key, val in x_dict.items()}\n",
    "        return self.lin(x_dict['cell']), x_dict"
   ]
  },
  {
   "cell_type": "code",
   "execution_count": null,
   "id": "adb71293-09ae-48c1-ac85-dea89f85be73",
   "metadata": {},
   "outputs": [],
   "source": [
    "GNN_model = HeteroGNN(cell_in_dim=latent_dim, gene_in_dim=32, hidden_dim=64, out_dim=2)\n",
    "optimizer = optim.Adam(GNN_model.parameters(), lr=1e-3)\n",
    "criterion = nn.CrossEntropyLoss()"
   ]
  },
  {
   "cell_type": "code",
   "execution_count": 28,
   "id": "79a6ff77-7528-41e9-bad3-e16c0e053e48",
   "metadata": {},
   "outputs": [],
   "source": [
    "# Training loop\n",
    "def train():\n",
    "    GNN_model.train()\n",
    "    optimizer.zero_grad()\n",
    "    out, _ = GNN_model(graph_data)\n",
    "    loss = criterion(out, graph_data['cell'].y)\n",
    "    loss.backward()\n",
    "    optimizer.step()\n",
    "    return loss.item()\n",
    "\n",
    "def test():\n",
    "    GNN_model.eval()\n",
    "    with torch.no_grad():\n",
    "        out, _ = GNN_model(graph_data)\n",
    "        pred = out.argmax(dim=1)\n",
    "        accuracy = (pred == graph_data['cell'].y).sum().item() / graph_data['cell'].num_nodes\n",
    "    return accuracy"
   ]
  },
  {
   "cell_type": "code",
   "execution_count": 29,
   "id": "8af1e92f-f9ea-4543-bf3c-e30de284efd3",
   "metadata": {},
   "outputs": [
    {
     "name": "stdout",
     "output_type": "stream",
     "text": [
      "Epoch 0, Loss: 0.6845, Accuracy: 0.5809\n",
      "Epoch 10, Loss: 0.4260, Accuracy: 0.8609\n",
      "Epoch 20, Loss: 0.3040, Accuracy: 0.8726\n",
      "Epoch 30, Loss: 0.2728, Accuracy: 0.8874\n",
      "Epoch 40, Loss: 0.2490, Accuracy: 0.8961\n"
     ]
    }
   ],
   "source": [
    "# Train and evaluate\n",
    "for epoch in range(50):\n",
    "    loss = train()\n",
    "    if epoch % 10 == 0:\n",
    "        print(f\"Epoch {epoch}, Loss: {loss:.4f}, Accuracy: {test():.4f}\")"
   ]
  },
  {
   "cell_type": "markdown",
   "id": "8ec4e81f-ea40-45f8-8ffa-65ed54dbeb5c",
   "metadata": {},
   "source": [
    "### Interpret Model Using Integrated Gradients\n",
    "---"
   ]
  },
  {
   "cell_type": "markdown",
   "id": "9acfc27c",
   "metadata": {},
   "source": [
    "Integrated gradients is an attribution method that will help us dissect what cell features are most important for the classification of the GNN. To read more about integrated gradients, visit [this page](https://towardsdatascience.com/interpreting-deep-neural-networks-using-integrated-gradients-f9b8ecdd3c57/). "
   ]
  },
  {
   "cell_type": "code",
   "execution_count": 37,
   "id": "8da98197-4dc6-401a-bfd3-61645154ba17",
   "metadata": {},
   "outputs": [],
   "source": [
    "def interpret_cell(cell_idx):\n",
    "    def model_forward_for_cell(interpolated_features):\n",
    "        \"\"\"Custom forward function for computing gradients.\"\"\"\n",
    "        target_logits = []\n",
    "        # Loop over each interpolated feature vector (each step along the integration path)\n",
    "        for step in range(interpolated_features.shape[0]):\n",
    "            modified_graph = copy.deepcopy(graph_data)\n",
    "\n",
    "            # Get interpolated feature vector for this step and flatten it to 1D\n",
    "            current_feature = interpolated_features[step].squeeze()\n",
    "            \n",
    "            # Replace target cell's feature vector in the graph data with current feature\n",
    "            modified_graph['cell'].x[cell_idx] = current_feature\n",
    "\n",
    "            # Run modified graph through GNN\n",
    "            model_output, _ = GNN_model(modified_graph)\n",
    "            \n",
    "            # Extract the logit for class 1 (normally the second element) of the target cell\n",
    "            logit_for_class1 = model_output[cell_idx, 1]\n",
    "\n",
    "                # Add an extra dimension so that all outputs have the same shape and store it\n",
    "            target_logits.append(logit_for_class1.unsqueeze(0))\n",
    "        \n",
    "        # Concatenate outputs from each interpolation step\n",
    "        return torch.cat(target_logits, dim=0)  # Final shape: (n_steps,)\n",
    "\n",
    "    ig = IntegratedGradients(model_forward_for_cell)\n",
    "    # Get original features & ensure baseline has the correct shape\n",
    "    original_features = graph_data['cell'].x[cell_idx].unsqueeze(0)  # Shape: (1, feature_dim)\n",
    "    baseline = torch.zeros_like(original_features)  # Same shape as original_features\n",
    "\n",
    "    attributions, _ = ig.attribute(\n",
    "        inputs=original_features,\n",
    "        baselines=baseline,\n",
    "        n_steps=50,\n",
    "        internal_batch_size=1,\n",
    "        return_convergence_delta=True\n",
    "    )\n",
    "\n",
    "    return attributions"
   ]
  },
  {
   "cell_type": "markdown",
   "id": "033f795a",
   "metadata": {},
   "source": [
    "We can now interpret a sample cell. In practice, you would run this across all cells.\n"
   ]
  },
  {
   "cell_type": "code",
   "execution_count": 38,
   "id": "18c8492c-03b6-43b4-a618-30d2b5e71531",
   "metadata": {},
   "outputs": [
    {
     "name": "stdout",
     "output_type": "stream",
     "text": [
      "Attributions for Cell 0: tensor([[-0.1024, -0.0779,  0.1756, -0.1589, -0.3500, -0.2631,  0.2669,  0.0307,\n",
      "          0.0163, -0.7895]], dtype=torch.float64)\n"
     ]
    }
   ],
   "source": [
    "cell_idx = 0\n",
    "original_cell_features = graph_data['cell'].x[cell_idx].unsqueeze(0)  # shape: [1, feature_dim]\n",
    "\n",
    "attr = interpret_cell(cell_idx)\n",
    "print(f\"Attributions for Cell {cell_idx}:\", attr)"
   ]
  },
  {
   "cell_type": "markdown",
   "id": "78de3488-814d-4854-b02b-8684ec7735b6",
   "metadata": {},
   "source": [
    "### Finally, Compute Gene Gradients with Respect to Latent Representation\n",
    "\n",
    "By seeing how small changes in the latent vector (which encodes key biological signals) affect the predicted expression of each gene, you can determine which genes are most sensitive to (or influenced by) the latent features."
   ]
  },
  {
   "cell_type": "code",
   "execution_count": null,
   "id": "a38e13b1",
   "metadata": {},
   "outputs": [],
   "source": [
    "# scVI requires normalization information (library size) to accurately decode individual \n",
    "# cell latent features back into realistic gene expression values\n",
    "counts_cell0 = adata.layers[\"counts\"][cell_idx].toarray()\n",
    "library = torch.tensor(counts_cell0.sum(), dtype=torch.float32).unsqueeze(0)"
   ]
  },
  {
   "cell_type": "code",
   "execution_count": 42,
   "id": "26c931ff",
   "metadata": {},
   "outputs": [
    {
     "data": {
      "text/plain": [
       "<bound method AnnData.obs_keys of AnnData object with n_obs × n_vars = 42049 × 2000\n",
       "    obs: 'patient', 'site', 'n_genes_by_counts', 'log1p_n_genes_by_counts', 'total_counts', 'log1p_total_counts', 'pct_counts_in_top_50_genes', 'pct_counts_in_top_100_genes', 'pct_counts_in_top_200_genes', 'pct_counts_in_top_500_genes', 'total_counts_mt', 'log1p_total_counts_mt', 'pct_counts_mt', 'total_counts_ribo', 'log1p_total_counts_ribo', 'pct_counts_ribo', 'total_counts_hb', 'log1p_total_counts_hb', 'pct_counts_hb', 'n_genes', '_scvi_batch', '_scvi_labels'\n",
       "    var: 'mt', 'ribo', 'hb', 'n_cells_by_counts', 'mean_counts', 'log1p_mean_counts', 'pct_dropout_by_counts', 'total_counts', 'log1p_total_counts', 'n_cells', 'highly_variable', 'means', 'dispersions', 'dispersions_norm'\n",
       "    uns: 'hvg', 'log1p', '_scvi_uuid', '_scvi_manager_uuid'\n",
       "    obsm: 'X_scVI'\n",
       "    layers: 'counts'>"
      ]
     },
     "execution_count": 42,
     "metadata": {},
     "output_type": "execute_result"
    }
   ],
   "source": [
    "adata.obs_keys\n"
   ]
  },
  {
   "cell_type": "code",
   "execution_count": null,
   "id": "24c5bc14-ffd0-4819-b4bc-f2a18d2fe541",
   "metadata": {},
   "outputs": [
    {
     "name": "stderr",
     "output_type": "stream",
     "text": [
      "/var/folders/2v/kmz2k14x3ggg34rwshstlx480000gn/T/ipykernel_24693/3014170809.py:7: FutureWarning: Series.__getitem__ treating keys as positions is deprecated. In a future version, integer keys will always be treated as labels (consistent with DataFrame behavior). To access a value by position, use `ser.iloc[pos]`\n",
      "  cell_batch = adata.obs['_scvi_batch'][cell_idx]\n"
     ]
    }
   ],
   "source": [
    "# --- Compute gradients for each gene ---\n",
    "# Prepare latent features with gradient tracking\n",
    "original_cell_features_with_grad = original_cell_features.detach().clone()\n",
    "original_cell_features_with_grad.requires_grad_(True)\n",
    "\n",
    "# Get predicted gene expression using scVI's decoder\n",
    "cell_batch = adata.obs['_scvi_batch'][cell_idx]\n",
    "batch_cats = torch.zeros(1, model.module.n_batch)\n",
    "batch_cats[0, int(cell_batch)] = 1.0\n",
    "pred_expr = model.module.decoder(\"gene\", original_cell_features_with_grad, library, batch_cats)\n",
    "expression = pred_expr[0]  # Shape: [1, n_genes]\n",
    "n_genes = expression.shape[1]\n",
    "\n",
    "# Compute gradients for each gene\n",
    "grad_list = [\n",
    "    torch.autograd.grad(\n",
    "        outputs=expression[0, gene_idx],\n",
    "        inputs=original_cell_features_with_grad,\n",
    "        retain_graph=True\n",
    "    )[0].detach().cpu() if expression[0, gene_idx] > 1e-10 \n",
    "    else torch.zeros_like(original_cell_features_with_grad[0]).cpu()\n",
    "    for gene_idx in range(n_genes)\n",
    "]\n",
    "\n",
    "# Stack gradients into a matrix and remove any extra dimension.\n",
    "grad_matrix = torch.stack(grad_list).squeeze(1)  # Shape: [n_genes, latent_dim]\n",
    "# Compute the gradient magnitude for each gene.\n",
    "grad_magnitude = torch.norm(grad_matrix, dim=1)"
   ]
  },
  {
   "cell_type": "markdown",
   "id": "167a34e3",
   "metadata": {},
   "source": [
    "# Interpret results"
   ]
  },
  {
   "cell_type": "code",
   "execution_count": 47,
   "id": "70b140ff",
   "metadata": {},
   "outputs": [
    {
     "name": "stdout",
     "output_type": "stream",
     "text": [
      "Top 10 genes with highest gradient magnitude:\n",
      "1. IGLC2: 0.2636\n",
      "2. IGHG4: 0.1553\n",
      "3. IGLC3: 0.0872\n",
      "4. IGKC: 0.0726\n",
      "5. IGHG1: 0.0673\n",
      "6. CPM: 0.0663\n",
      "7. MALAT1: 0.0449\n",
      "8. IGHG3: 0.0271\n",
      "9. MT-RNR2: 0.0212\n",
      "10. IGHM: 0.0140\n"
     ]
    }
   ],
   "source": [
    "# Get top 10 genes with highest gradient magnitude\n",
    "top10_indices = torch.argsort(grad_magnitude, descending=True)[:10]\n",
    "top10_genes = [adata.var_names[int(i)] for i in top10_indices]\n",
    "print(\"Top 10 genes with highest gradient magnitude:\")\n",
    "for i, gene in enumerate(top10_genes):\n",
    "    print(f\"{i+1}. {gene}: {grad_magnitude[top10_indices[i]].item():.4f}\")"
   ]
  },
  {
   "cell_type": "code",
   "execution_count": null,
   "id": "a5d236f0",
   "metadata": {},
   "outputs": [
    {
     "data": {
      "image/png": "[encoded data removed]",
      "text/plain": [
       "<Figure size 600x600 with 2 Axes>"
      ]
     },
     "metadata": {},
     "output_type": "display_data"
    },
    {
     "data": {
      "image/png": "[encoded data removed]",
      "text/plain": [
       "<Figure size 900x800 with 2 Axes>"
      ]
     },
     "metadata": {},
     "output_type": "display_data"
    },
    {
     "name": "stdout",
     "output_type": "stream",
     "text": [
      "\n",
      "Latent dimension 0 most influences genes:\n",
      "  1. IGLC2: 0.0358\n",
      "  2. MALAT1: 0.0106\n",
      "  3. CPM: 0.0105\n",
      "  4. IGLC3: 0.0094\n",
      "  5. IGKC: 0.0071\n",
      "\n",
      "Latent dimension 1 most influences genes:\n",
      "  1. IGHG4: 0.0394\n",
      "  2. IGHG1: 0.0378\n",
      "  3. IGLC2: 0.0243\n",
      "  4. IGHM: 0.0067\n",
      "  5. IGKC: 0.0067\n",
      "\n",
      "Latent dimension 2 most influences genes:\n",
      "  1. IGKC: 0.0144\n",
      "  2. IGHG1: 0.0120\n",
      "  3. IGHM: 0.0079\n",
      "  4. IGHG4: 0.0074\n",
      "  5. JCHAIN: 0.0063\n",
      "\n",
      "Latent dimension 3 most influences genes:\n",
      "  1. IGLC2: 0.0679\n",
      "  2. IGLC3: 0.0208\n",
      "  3. IGHG1: 0.0159\n",
      "  4. IGHG4: 0.0086\n",
      "  5. JCHAIN: 0.0050\n",
      "\n",
      "Latent dimension 4 most influences genes:\n",
      "  1. IGLC2: 0.1183\n",
      "  2. CPM: 0.0479\n",
      "  3. IGLC3: 0.0456\n",
      "  4. MALAT1: 0.0411\n",
      "  5. IGKC: 0.0406\n",
      "\n",
      "Latent dimension 5 most influences genes:\n",
      "  1. IGLC2: 0.1508\n",
      "  2. IGHG4: 0.0739\n",
      "  3. IGLC3: 0.0493\n",
      "  4. IGKC: 0.0454\n",
      "  5. IGHG1: 0.0383\n",
      "\n",
      "Latent dimension 6 most influences genes:\n",
      "  1. IGHG4: 0.0434\n",
      "  2. IGLC3: 0.0330\n",
      "  3. CPM: 0.0122\n",
      "  4. IGKC: 0.0092\n",
      "  5. JCHAIN: 0.0070\n",
      "\n",
      "Latent dimension 7 most influences genes:\n",
      "  1. IGLC2: 0.1052\n",
      "  2. IGHG4: 0.0634\n",
      "  3. CPM: 0.0339\n",
      "  4. IGHG1: 0.0270\n",
      "  5. IGLC3: 0.0243\n",
      "\n",
      "Latent dimension 8 most influences genes:\n",
      "  1. IGLC2: 0.1103\n",
      "  2. IGHG4: 0.1025\n",
      "  3. IGLC3: 0.0224\n",
      "  4. IGKC: 0.0223\n",
      "  5. IGHG1: 0.0158\n",
      "\n",
      "Latent dimension 9 most influences genes:\n",
      "  1. IGLC2: 0.0543\n",
      "  2. IGKC: 0.0237\n",
      "  3. IGHG4: 0.0200\n",
      "  4. IGLC3: 0.0196\n",
      "  5. IGHG1: 0.0131\n"
     ]
    }
   ],
   "source": [
    "# Visualize gradients\n",
    "import matplotlib.pyplot as plt\n",
    "import seaborn as sns\n",
    "\n",
    "plt.figure(figsize=(6, 6))\n",
    "\n",
    "# Distribution of gradient magnitudes\n",
    "plt.subplot(1, 2, 1)\n",
    "plt.hist(grad_magnitude.numpy(), bins=50)\n",
    "plt.title(\"Distribution of Gradient Magnitudes\")\n",
    "plt.xlabel(\"Gradient Magnitude\")\n",
    "plt.ylabel(\"Frequency\")\n",
    "plt.yscale('log')  # Log scale for better visibility\n",
    "\n",
    "# Top genes by magnitude\n",
    "plt.subplot(1, 2, 2)\n",
    "# Convert tensor to numpy array for plotting\n",
    "top10_values = grad_magnitude[top10_indices].numpy()\n",
    "plt.bar(range(10), top10_values)\n",
    "plt.xticks(range(10), top10_genes, rotation=45, ha='right')\n",
    "plt.title(\"Top 10 Genes by Gradient Magnitude\")\n",
    "plt.tight_layout()\n",
    "plt.show()\n",
    "\n",
    "# heatmap \n",
    "plt.figure(figsize=(9, 8))\n",
    "top_gene_gradients = grad_matrix[top10_indices].numpy()\n",
    "sns.heatmap(top_gene_gradients, cmap=\"RdBu_r\", center=0,\n",
    "            xticklabels=[f\"Dim {i}\" for i in range(latent_dim)],\n",
    "            yticklabels=top10_genes)\n",
    "plt.title(\"Gradients of Top Genes Across Latent Dimensions\")\n",
    "plt.tight_layout()\n",
    "plt.show()\n",
    "\n",
    "# For each latent dimension, find which genes are most influenced\n",
    "for dim in range(latent_dim):\n",
    "    dim_influence = abs(grad_matrix[:, dim])\n",
    "    top5_idx = torch.argsort(dim_influence, descending=True)[:5]\n",
    "    top5_genes = [adata.var_names[int(i)] for i in top5_idx]\n",
    "    print(f\"\\nLatent dimension {dim} most influences genes:\")\n",
    "    for i, gene in enumerate(top5_genes):\n",
    "        print(f\"  {i+1}. {gene}: {dim_influence[top5_idx[i]].item():.4f}\")"
   ]
  },
  {
   "cell_type": "markdown",
   "id": "eb3e034e-bfc3-45ef-aabb-28caf8b57847",
   "metadata": {},
   "source": [
    "#### Key Takeaways:\n",
    "---\n",
    "- **Immune System Dominance:** Immunoglobulin genes appear across multiple dimensions, indicating that immune-related processes are a major source of variation. This could be due to the presence of different immune cell types, states, or responses.\n",
    "- **Regulatory Networks:** MALAT1 suggests that the latent space captures regulatory networks, which could be related to gene expression regulation and cancer progression.\n",
    "- **Metabolic Processes:** The influence of CPM suggests that metabolic processes and immune function are also significant sources of variation.\n",
    "\n",
    "These insights can guide further analysis, such as functional enrichment or pathway analysis, to better understand the biological processes captured by the latent space.\n"
   ]
  },
  {
   "cell_type": "markdown",
   "id": "2b400aaf-88da-4e08-9639-ee1b2f638997",
   "metadata": {},
   "source": [
    "#### We complete the analysis here and save the artifacts, we may want define a new schema here\n",
    "---"
   ]
  },
  {
   "cell_type": "markdown",
   "id": "dd95a3e3-412b-46d8-8fdb-d420b0b0745f",
   "metadata": {},
   "source": [
    "#### A. Saving the scVI Model:"
   ]
  },
  {
   "cell_type": "code",
   "execution_count": 48,
   "id": "86ca17fe-1047-42a3-b8c0-71bba560fbce",
   "metadata": {},
   "outputs": [
    {
     "name": "stdout",
     "output_type": "stream",
     "text": [
      "scVI model saved to ./data/GSE180286_scvi_model.pth\n"
     ]
    }
   ],
   "source": [
    "# Save scVI model\n",
    "scvi_model_path = \"./data/GSE180286_scvi_model.pth\"\n",
    "model.save(scvi_model_path, overwrite=True)\n",
    "print(f\"scVI model saved to {scvi_model_path}\")"
   ]
  },
  {
   "cell_type": "code",
   "execution_count": 49,
   "id": "3622db32-320f-46c7-aa8c-28f1cb6eafa9",
   "metadata": {},
   "outputs": [],
   "source": [
    "scvi_model_artifact = ln.Artifact(\n",
    "    scvi_model_path,\n",
    "    description=\"Single Cell RNA-seq scVI Model trained [GSE180286], preprocessed and filtered data\"\n",
    ").save()"
   ]
  },
  {
   "cell_type": "code",
   "execution_count": 50,
   "id": "dea84355-d1f8-4121-b76f-e6e25afa239d",
   "metadata": {},
   "outputs": [
    {
     "data": {
      "image/svg+xml": [
       "<?xml version=\"1.0\" encoding=\"UTF-8\" standalone=\"no\"?>\n",
       "<!DOCTYPE svg PUBLIC \"-//W3C//DTD SVG 1.1//EN\"\n",
       " \"http://www.w3.org/Graphics/SVG/1.1/DTD/svg11.dtd\">\n",
       "<!-- Generated by graphviz version 12.2.1 (20241206.2353)\n",
       " -->\n",
       "<!-- Title: artifact_XwxfRo2X1ErP8ck70000 Pages: 1 -->\n",
       "<svg width=\"411pt\" height=\"446pt\"\n",
       " viewBox=\"0.00 0.00 411.00 446.00\" xmlns=\"http://www.w3.org/2000/svg\" xmlns:xlink=\"http://www.w3.org/1999/xlink\">\n",
       "<g id=\"graph0\" class=\"graph\" transform=\"scale(1 1) rotate(0) translate(4 442)\">\n",
       "<title>artifact_XwxfRo2X1ErP8ck70000</title>\n",
       "<polygon fill=\"white\" stroke=\"none\" points=\"-4,4 -4,-442 407,-442 407,4 -4,4\"/>\n",
       "<!-- artifact_RBne2GLn0c2Kie4m0000 -->\n",
       "<g id=\"node1\" class=\"node\">\n",
       "<title>artifact_RBne2GLn0c2Kie4m0000</title>\n",
       "<path fill=\"honeydew\" stroke=\"#065f46\" d=\"M389.88,-196C389.88,-196 13.13,-196 13.13,-196 7.13,-196 1.12,-190 1.12,-184 1.12,-184 1.12,-170 1.12,-170 1.12,-164 7.12,-158 13.12,-158 13.12,-158 389.88,-158 389.88,-158 395.88,-158 401.88,-164 401.88,-170 401.88,-170 401.88,-184 401.88,-184 401.88,-190 395.88,-196 389.88,-196\"/>\n",
       "<text text-anchor=\"start\" x=\"9.12\" y=\"-183.5\" font-family=\"Helvetica,sans-Serif\" font-size=\"10.00\">📄 Single Cell RNA&#45;seq dataset from GEO [GSE180286], preprocessed and filtered data</text>\n",
       "<text text-anchor=\"start\" x=\"129.5\" y=\"-173.5\" font-family=\"Monospace\" font-size=\"10.00\" fill=\"GREY\">uid=RBne2GLn0c2Kie4m0000</text>\n",
       "<text text-anchor=\"start\" x=\"165.5\" y=\"-163.5\" font-family=\"Monospace\" font-size=\"10.00\" fill=\"GREY\">suffix=.h5ad</text>\n",
       "</g>\n",
       "<!-- run_lxytpVhsPFOOas6zmDxw -->\n",
       "<g id=\"node2\" class=\"node\">\n",
       "<title>run_lxytpVhsPFOOas6zmDxw</title>\n",
       "<path fill=\"gainsboro\" stroke=\"#065f46\" d=\"M278.5,-122C278.5,-122 124.5,-122 124.5,-122 118.5,-122 112.5,-116 112.5,-110 112.5,-110 112.5,-86 112.5,-86 112.5,-80 118.5,-74 124.5,-74 124.5,-74 278.5,-74 278.5,-74 284.5,-74 290.5,-80 290.5,-86 290.5,-86 290.5,-110 290.5,-110 290.5,-116 284.5,-122 278.5,-122\"/>\n",
       "<text text-anchor=\"start\" x=\"153.5\" y=\"-109.5\" font-family=\"Helvetica,sans-Serif\" font-size=\"10.00\">📔 Schema_003.ipynb</text>\n",
       "<text text-anchor=\"start\" x=\"141.5\" y=\"-99.5\" font-family=\"Monospace\" font-size=\"10.00\" fill=\"GREY\">uid=scVKRrxDYWG60000</text>\n",
       "<text text-anchor=\"start\" x=\"120.5\" y=\"-89.5\" font-family=\"Monospace\" font-size=\"10.00\" fill=\"GREY\">type=notebook, user=paupaiz</text>\n",
       "<text text-anchor=\"start\" x=\"120.5\" y=\"-79.5\" font-family=\"Monospace\" font-size=\"10.00\" fill=\"GREY\">run=2025&#45;03&#45;06 14:00:25 UTC</text>\n",
       "</g>\n",
       "<!-- artifact_RBne2GLn0c2Kie4m0000&#45;&gt;run_lxytpVhsPFOOas6zmDxw -->\n",
       "<g id=\"edge1\" class=\"edge\">\n",
       "<title>artifact_RBne2GLn0c2Kie4m0000&#45;&gt;run_lxytpVhsPFOOas6zmDxw</title>\n",
       "<path fill=\"none\" stroke=\"dimgrey\" d=\"M201.5,-157.75C201.5,-149.07 201.5,-138.47 201.5,-128.67\"/>\n",
       "<polygon fill=\"dimgrey\" stroke=\"dimgrey\" points=\"203.25,-128.89 201.5,-123.89 199.75,-128.89 203.25,-128.89\"/>\n",
       "</g>\n",
       "<!-- artifact_XwxfRo2X1ErP8ck70000 -->\n",
       "<g id=\"node3\" class=\"node\">\n",
       "<title>artifact_XwxfRo2X1ErP8ck70000</title>\n",
       "<path fill=\"#10b981\" stroke=\"#065f46\" d=\"M391,-38C391,-38 12,-38 12,-38 6,-38 0,-32 0,-26 0,-26 0,-12 0,-12 0,-6 6,0 12,0 12,0 391,0 391,0 397,0 403,-6 403,-12 403,-12 403,-26 403,-26 403,-32 397,-38 391,-38\"/>\n",
       "<text text-anchor=\"start\" x=\"8\" y=\"-25.5\" font-family=\"Helvetica,sans-Serif\" font-size=\"10.00\">📄 Single Cell RNA&#45;seq scVI Model trained [GSE180286], preprocessed and filtered data</text>\n",
       "<text text-anchor=\"start\" x=\"129.5\" y=\"-15.5\" font-family=\"Monospace\" font-size=\"10.00\" fill=\"GREY\">uid=XwxfRo2X1ErP8ck70000</text>\n",
       "<text text-anchor=\"start\" x=\"168.5\" y=\"-5.5\" font-family=\"Monospace\" font-size=\"10.00\" fill=\"GREY\">suffix=.pth</text>\n",
       "</g>\n",
       "<!-- run_lxytpVhsPFOOas6zmDxw&#45;&gt;artifact_XwxfRo2X1ErP8ck70000 -->\n",
       "<g id=\"edge2\" class=\"edge\">\n",
       "<title>run_lxytpVhsPFOOas6zmDxw&#45;&gt;artifact_XwxfRo2X1ErP8ck70000</title>\n",
       "<path fill=\"none\" stroke=\"dimgrey\" d=\"M201.5,-73.9C201.5,-64.68 201.5,-54.06 201.5,-44.69\"/>\n",
       "<polygon fill=\"dimgrey\" stroke=\"dimgrey\" points=\"203.25,-44.96 201.5,-39.96 199.75,-44.96 203.25,-44.96\"/>\n",
       "</g>\n",
       "<!-- artifact_fqDEKvRwg55UfKxG0000 -->\n",
       "<g id=\"node4\" class=\"node\">\n",
       "<title>artifact_fqDEKvRwg55UfKxG0000</title>\n",
       "<path fill=\"honeydew\" stroke=\"#065f46\" d=\"M180.5,-354C180.5,-354 44.5,-354 44.5,-354 38.5,-354 32.5,-348 32.5,-342 32.5,-342 32.5,-328 32.5,-328 32.5,-322 38.5,-316 44.5,-316 44.5,-316 180.5,-316 180.5,-316 186.5,-316 192.5,-322 192.5,-328 192.5,-328 192.5,-342 192.5,-342 192.5,-348 186.5,-354 180.5,-354\"/>\n",
       "<text text-anchor=\"start\" x=\"67.12\" y=\"-341.5\" font-family=\"Helvetica,sans-Serif\" font-size=\"10.00\">📄 breast metastasis</text>\n",
       "<text text-anchor=\"start\" x=\"40.5\" y=\"-331.5\" font-family=\"Monospace\" font-size=\"10.00\" fill=\"GREY\">uid=fqDEKvRwg55UfKxG0000</text>\n",
       "<text text-anchor=\"start\" x=\"76.5\" y=\"-321.5\" font-family=\"Monospace\" font-size=\"10.00\" fill=\"GREY\">suffix=.h5ad</text>\n",
       "</g>\n",
       "<!-- run_QzqBH3QAFo1rfDngEvrt -->\n",
       "<g id=\"node5\" class=\"node\">\n",
       "<title>run_QzqBH3QAFo1rfDngEvrt</title>\n",
       "<path fill=\"gainsboro\" stroke=\"#065f46\" d=\"M292.38,-280C292.38,-280 110.63,-280 110.63,-280 104.62,-280 98.62,-274 98.62,-268 98.62,-268 98.62,-244 98.62,-244 98.62,-238 104.62,-232 110.62,-232 110.62,-232 292.38,-232 292.38,-232 298.38,-232 304.38,-238 304.38,-244 304.38,-244 304.38,-268 304.38,-268 304.38,-274 298.38,-280 292.38,-280\"/>\n",
       "<text text-anchor=\"start\" x=\"106.62\" y=\"-267.5\" font-family=\"Helvetica,sans-Serif\" font-size=\"10.00\">📔 Preprocessing Raw data and some EDA</text>\n",
       "<text text-anchor=\"start\" x=\"141.5\" y=\"-257.5\" font-family=\"Monospace\" font-size=\"10.00\" fill=\"GREY\">uid=s1mQjeFWxjJI0000</text>\n",
       "<text text-anchor=\"start\" x=\"120.5\" y=\"-247.5\" font-family=\"Monospace\" font-size=\"10.00\" fill=\"GREY\">type=notebook, user=paupaiz</text>\n",
       "<text text-anchor=\"start\" x=\"120.5\" y=\"-237.5\" font-family=\"Monospace\" font-size=\"10.00\" fill=\"GREY\">run=2025&#45;03&#45;06 13:46:19 UTC</text>\n",
       "</g>\n",
       "<!-- artifact_fqDEKvRwg55UfKxG0000&#45;&gt;run_QzqBH3QAFo1rfDngEvrt -->\n",
       "<g id=\"edge3\" class=\"edge\">\n",
       "<title>artifact_fqDEKvRwg55UfKxG0000&#45;&gt;run_QzqBH3QAFo1rfDngEvrt</title>\n",
       "<path fill=\"none\" stroke=\"dimgrey\" d=\"M133.59,-315.75C144.39,-306.41 157.76,-294.84 169.78,-284.44\"/>\n",
       "<polygon fill=\"dimgrey\" stroke=\"dimgrey\" points=\"170.7,-285.96 173.34,-281.37 168.41,-283.31 170.7,-285.96\"/>\n",
       "</g>\n",
       "<!-- run_QzqBH3QAFo1rfDngEvrt&#45;&gt;artifact_RBne2GLn0c2Kie4m0000 -->\n",
       "<g id=\"edge5\" class=\"edge\">\n",
       "<title>run_QzqBH3QAFo1rfDngEvrt&#45;&gt;artifact_RBne2GLn0c2Kie4m0000</title>\n",
       "<path fill=\"none\" stroke=\"dimgrey\" d=\"M201.5,-231.9C201.5,-222.68 201.5,-212.06 201.5,-202.69\"/>\n",
       "<polygon fill=\"dimgrey\" stroke=\"dimgrey\" points=\"203.25,-202.96 201.5,-197.96 199.75,-202.96 203.25,-202.96\"/>\n",
       "</g>\n",
       "<!-- artifact_NfPayTupzUQ5YEem0000 -->\n",
       "<g id=\"node6\" class=\"node\">\n",
       "<title>artifact_NfPayTupzUQ5YEem0000</title>\n",
       "<path fill=\"honeydew\" stroke=\"#065f46\" d=\"M358.5,-354C358.5,-354 222.5,-354 222.5,-354 216.5,-354 210.5,-348 210.5,-342 210.5,-342 210.5,-328 210.5,-328 210.5,-322 216.5,-316 222.5,-316 222.5,-316 358.5,-316 358.5,-316 364.5,-316 370.5,-322 370.5,-328 370.5,-328 370.5,-342 370.5,-342 370.5,-348 364.5,-354 358.5,-354\"/>\n",
       "<text text-anchor=\"start\" x=\"245.12\" y=\"-341.5\" font-family=\"Helvetica,sans-Serif\" font-size=\"10.00\">📄 breast metastasis</text>\n",
       "<text text-anchor=\"start\" x=\"218.5\" y=\"-331.5\" font-family=\"Monospace\" font-size=\"10.00\" fill=\"GREY\">uid=NfPayTupzUQ5YEem0000</text>\n",
       "<text text-anchor=\"start\" x=\"254.5\" y=\"-321.5\" font-family=\"Monospace\" font-size=\"10.00\" fill=\"GREY\">suffix=.h5ad</text>\n",
       "</g>\n",
       "<!-- artifact_NfPayTupzUQ5YEem0000&#45;&gt;run_QzqBH3QAFo1rfDngEvrt -->\n",
       "<g id=\"edge4\" class=\"edge\">\n",
       "<title>artifact_NfPayTupzUQ5YEem0000&#45;&gt;run_QzqBH3QAFo1rfDngEvrt</title>\n",
       "<path fill=\"none\" stroke=\"dimgrey\" d=\"M269.41,-315.75C258.61,-306.41 245.24,-294.84 233.22,-284.44\"/>\n",
       "<polygon fill=\"dimgrey\" stroke=\"dimgrey\" points=\"234.59,-283.31 229.66,-281.37 232.3,-285.96 234.59,-283.31\"/>\n",
       "</g>\n",
       "<!-- run_6WZyqNus4hVpiXaF1bac -->\n",
       "<g id=\"node7\" class=\"node\">\n",
       "<title>run_6WZyqNus4hVpiXaF1bac</title>\n",
       "<path fill=\"gainsboro\" stroke=\"#065f46\" d=\"M278.5,-438C278.5,-438 124.5,-438 124.5,-438 118.5,-438 112.5,-432 112.5,-426 112.5,-426 112.5,-402 112.5,-402 112.5,-396 118.5,-390 124.5,-390 124.5,-390 278.5,-390 278.5,-390 284.5,-390 290.5,-396 290.5,-402 290.5,-402 290.5,-426 290.5,-426 290.5,-432 284.5,-438 278.5,-438\"/>\n",
       "<text text-anchor=\"start\" x=\"153.5\" y=\"-425.5\" font-family=\"Helvetica,sans-Serif\" font-size=\"10.00\">📔 Schema_001.ipynb</text>\n",
       "<text text-anchor=\"start\" x=\"141.5\" y=\"-415.5\" font-family=\"Monospace\" font-size=\"10.00\" fill=\"GREY\">uid=mI70CDrdZK310000</text>\n",
       "<text text-anchor=\"start\" x=\"120.5\" y=\"-405.5\" font-family=\"Monospace\" font-size=\"10.00\" fill=\"GREY\">type=notebook, user=paupaiz</text>\n",
       "<text text-anchor=\"start\" x=\"120.5\" y=\"-395.5\" font-family=\"Monospace\" font-size=\"10.00\" fill=\"GREY\">run=2025&#45;03&#45;06 13:22:30 UTC</text>\n",
       "</g>\n",
       "<!-- run_6WZyqNus4hVpiXaF1bac&#45;&gt;artifact_fqDEKvRwg55UfKxG0000 -->\n",
       "<g id=\"edge6\" class=\"edge\">\n",
       "<title>run_6WZyqNus4hVpiXaF1bac&#45;&gt;artifact_fqDEKvRwg55UfKxG0000</title>\n",
       "<path fill=\"none\" stroke=\"dimgrey\" d=\"M174.8,-389.9C163.33,-379.97 149.97,-368.42 138.57,-358.56\"/>\n",
       "<polygon fill=\"dimgrey\" stroke=\"dimgrey\" points=\"139.89,-357.38 134.96,-355.43 137.6,-360.03 139.89,-357.38\"/>\n",
       "</g>\n",
       "<!-- run_6WZyqNus4hVpiXaF1bac&#45;&gt;artifact_NfPayTupzUQ5YEem0000 -->\n",
       "<g id=\"edge7\" class=\"edge\">\n",
       "<title>run_6WZyqNus4hVpiXaF1bac&#45;&gt;artifact_NfPayTupzUQ5YEem0000</title>\n",
       "<path fill=\"none\" stroke=\"dimgrey\" d=\"M228.2,-389.9C239.67,-379.97 253.03,-368.42 264.43,-358.56\"/>\n",
       "<polygon fill=\"dimgrey\" stroke=\"dimgrey\" points=\"265.4,-360.03 268.04,-355.43 263.11,-357.38 265.4,-360.03\"/>\n",
       "</g>\n",
       "</g>\n",
       "</svg>\n"
      ]
     },
     "metadata": {},
     "output_type": "display_data"
    }
   ],
   "source": [
    "scvi_model_artifact.view_lineage()"
   ]
  },
  {
   "cell_type": "markdown",
   "id": "9c94f9cb-42a4-41da-aae0-84c292280774",
   "metadata": {},
   "source": [
    "#### B. Save GNN Model"
   ]
  },
  {
   "cell_type": "code",
   "execution_count": null,
   "id": "13b73ef3-c4bd-48e9-8c10-39e588c6fd86",
   "metadata": {},
   "outputs": [
    {
     "name": "stdout",
     "output_type": "stream",
     "text": [
      "GNN model saved to ./data/GSE180286_gnn_model.pth\n"
     ]
    }
   ],
   "source": [
    "\n",
    "gnn_model_path = \"./data/GSE180286_gnn_model.pth\"\n",
    "# Save model state\n",
    "torch.save(GNN_model.state_dict(), gnn_model_path)\n",
    "print(f\"GNN model saved to {gnn_model_path}\")"
   ]
  },
  {
   "cell_type": "code",
   "execution_count": 52,
   "id": "77ad6733-c330-4c84-9df0-13646a8ac79d",
   "metadata": {},
   "outputs": [],
   "source": [
    "gnn_model_artifact = ln.Artifact(\n",
    "    gnn_model_path,\n",
    "    description=\"Single Cell RNA-seq GNN Model trained [GSE180286], preprocessed and filtered data\"\n",
    ").save()"
   ]
  },
  {
   "cell_type": "markdown",
   "id": "43761647-eb6a-454b-822d-b5ad08641580",
   "metadata": {},
   "source": [
    "#### C. Save AnnData"
   ]
  },
  {
   "cell_type": "code",
   "execution_count": 53,
   "id": "06185d6d-72d4-43d8-921f-13b72cbbf50f",
   "metadata": {},
   "outputs": [
    {
     "data": {
      "text/plain": [
       "AnnData object with n_obs × n_vars = 42049 × 2000\n",
       "    obs: 'patient', 'site', 'n_genes_by_counts', 'log1p_n_genes_by_counts', 'total_counts', 'log1p_total_counts', 'pct_counts_in_top_50_genes', 'pct_counts_in_top_100_genes', 'pct_counts_in_top_200_genes', 'pct_counts_in_top_500_genes', 'total_counts_mt', 'log1p_total_counts_mt', 'pct_counts_mt', 'total_counts_ribo', 'log1p_total_counts_ribo', 'pct_counts_ribo', 'total_counts_hb', 'log1p_total_counts_hb', 'pct_counts_hb', 'n_genes', '_scvi_batch', '_scvi_labels'\n",
       "    var: 'mt', 'ribo', 'hb', 'n_cells_by_counts', 'mean_counts', 'log1p_mean_counts', 'pct_dropout_by_counts', 'total_counts', 'log1p_total_counts', 'n_cells', 'highly_variable', 'means', 'dispersions', 'dispersions_norm'\n",
       "    uns: 'hvg', 'log1p', '_scvi_uuid', '_scvi_manager_uuid'\n",
       "    obsm: 'X_scVI'\n",
       "    layers: 'counts'"
      ]
     },
     "execution_count": 53,
     "metadata": {},
     "output_type": "execute_result"
    }
   ],
   "source": [
    "adata"
   ]
  },
  {
   "cell_type": "code",
   "execution_count": 54,
   "id": "b487e147-0cec-48a1-a06e-d82dc60f7321",
   "metadata": {},
   "outputs": [],
   "source": [
    "adata_with_latent_artifact = ln.Artifact.from_anndata(\n",
    "    adata,\n",
    "    description=\"Single Cell RNA-seq data from GEO [GSE180286], preprocessed and filtered data with Latent Representations\"\n",
    ").save()"
   ]
  },
  {
   "cell_type": "code",
   "execution_count": 55,
   "id": "7f34c5c5-c792-411b-89c1-3cedfa898cc1",
   "metadata": {},
   "outputs": [
    {
     "data": {
      "image/svg+xml": [
       "<?xml version=\"1.0\" encoding=\"UTF-8\" standalone=\"no\"?>\n",
       "<!DOCTYPE svg PUBLIC \"-//W3C//DTD SVG 1.1//EN\"\n",
       " \"http://www.w3.org/Graphics/SVG/1.1/DTD/svg11.dtd\">\n",
       "<!-- Generated by graphviz version 12.2.1 (20241206.2353)\n",
       " -->\n",
       "<!-- Title: artifact_scEaRR7fNv27Yogp0000 Pages: 1 -->\n",
       "<svg width=\"1365pt\" height=\"446pt\"\n",
       " viewBox=\"0.00 0.00 1364.75 446.00\" xmlns=\"http://www.w3.org/2000/svg\" xmlns:xlink=\"http://www.w3.org/1999/xlink\">\n",
       "<g id=\"graph0\" class=\"graph\" transform=\"scale(1 1) rotate(0) translate(4 442)\">\n",
       "<title>artifact_scEaRR7fNv27Yogp0000</title>\n",
       "<polygon fill=\"white\" stroke=\"none\" points=\"-4,4 -4,-442 1360.75,-442 1360.75,4 -4,4\"/>\n",
       "<!-- artifact_RBne2GLn0c2Kie4m0000 -->\n",
       "<g id=\"node1\" class=\"node\">\n",
       "<title>artifact_RBne2GLn0c2Kie4m0000</title>\n",
       "<path fill=\"honeydew\" stroke=\"#065f46\" d=\"M811.88,-196C811.88,-196 435.12,-196 435.12,-196 429.12,-196 423.12,-190 423.12,-184 423.12,-184 423.12,-170 423.12,-170 423.12,-164 429.12,-158 435.12,-158 435.12,-158 811.88,-158 811.88,-158 817.88,-158 823.88,-164 823.88,-170 823.88,-170 823.88,-184 823.88,-184 823.88,-190 817.88,-196 811.88,-196\"/>\n",
       "<text text-anchor=\"start\" x=\"431.12\" y=\"-183.5\" font-family=\"Helvetica,sans-Serif\" font-size=\"10.00\">📄 Single Cell RNA&#45;seq dataset from GEO [GSE180286], preprocessed and filtered data</text>\n",
       "<text text-anchor=\"start\" x=\"551.5\" y=\"-173.5\" font-family=\"Monospace\" font-size=\"10.00\" fill=\"GREY\">uid=RBne2GLn0c2Kie4m0000</text>\n",
       "<text text-anchor=\"start\" x=\"587.5\" y=\"-163.5\" font-family=\"Monospace\" font-size=\"10.00\" fill=\"GREY\">suffix=.h5ad</text>\n",
       "</g>\n",
       "<!-- run_lxytpVhsPFOOas6zmDxw -->\n",
       "<g id=\"node2\" class=\"node\">\n",
       "<title>run_lxytpVhsPFOOas6zmDxw</title>\n",
       "<path fill=\"gainsboro\" stroke=\"#065f46\" d=\"M700.5,-122C700.5,-122 546.5,-122 546.5,-122 540.5,-122 534.5,-116 534.5,-110 534.5,-110 534.5,-86 534.5,-86 534.5,-80 540.5,-74 546.5,-74 546.5,-74 700.5,-74 700.5,-74 706.5,-74 712.5,-80 712.5,-86 712.5,-86 712.5,-110 712.5,-110 712.5,-116 706.5,-122 700.5,-122\"/>\n",
       "<text text-anchor=\"start\" x=\"575.5\" y=\"-109.5\" font-family=\"Helvetica,sans-Serif\" font-size=\"10.00\">📔 Schema_003.ipynb</text>\n",
       "<text text-anchor=\"start\" x=\"563.5\" y=\"-99.5\" font-family=\"Monospace\" font-size=\"10.00\" fill=\"GREY\">uid=scVKRrxDYWG60000</text>\n",
       "<text text-anchor=\"start\" x=\"542.5\" y=\"-89.5\" font-family=\"Monospace\" font-size=\"10.00\" fill=\"GREY\">type=notebook, user=paupaiz</text>\n",
       "<text text-anchor=\"start\" x=\"542.5\" y=\"-79.5\" font-family=\"Monospace\" font-size=\"10.00\" fill=\"GREY\">run=2025&#45;03&#45;06 14:00:25 UTC</text>\n",
       "</g>\n",
       "<!-- artifact_RBne2GLn0c2Kie4m0000&#45;&gt;run_lxytpVhsPFOOas6zmDxw -->\n",
       "<g id=\"edge1\" class=\"edge\">\n",
       "<title>artifact_RBne2GLn0c2Kie4m0000&#45;&gt;run_lxytpVhsPFOOas6zmDxw</title>\n",
       "<path fill=\"none\" stroke=\"dimgrey\" d=\"M623.5,-157.75C623.5,-149.07 623.5,-138.47 623.5,-128.67\"/>\n",
       "<polygon fill=\"dimgrey\" stroke=\"dimgrey\" points=\"625.25,-128.89 623.5,-123.89 621.75,-128.89 625.25,-128.89\"/>\n",
       "</g>\n",
       "<!-- artifact_XwxfRo2X1ErP8ck70000 -->\n",
       "<g id=\"node3\" class=\"node\">\n",
       "<title>artifact_XwxfRo2X1ErP8ck70000</title>\n",
       "<path fill=\"honeydew\" stroke=\"#065f46\" d=\"M391,-38C391,-38 12,-38 12,-38 6,-38 0,-32 0,-26 0,-26 0,-12 0,-12 0,-6 6,0 12,0 12,0 391,0 391,0 397,0 403,-6 403,-12 403,-12 403,-26 403,-26 403,-32 397,-38 391,-38\"/>\n",
       "<text text-anchor=\"start\" x=\"8\" y=\"-25.5\" font-family=\"Helvetica,sans-Serif\" font-size=\"10.00\">📄 Single Cell RNA&#45;seq scVI Model trained [GSE180286], preprocessed and filtered data</text>\n",
       "<text text-anchor=\"start\" x=\"129.5\" y=\"-15.5\" font-family=\"Monospace\" font-size=\"10.00\" fill=\"GREY\">uid=XwxfRo2X1ErP8ck70000</text>\n",
       "<text text-anchor=\"start\" x=\"168.5\" y=\"-5.5\" font-family=\"Monospace\" font-size=\"10.00\" fill=\"GREY\">suffix=.pth</text>\n",
       "</g>\n",
       "<!-- run_lxytpVhsPFOOas6zmDxw&#45;&gt;artifact_XwxfRo2X1ErP8ck70000 -->\n",
       "<g id=\"edge2\" class=\"edge\">\n",
       "<title>run_lxytpVhsPFOOas6zmDxw&#45;&gt;artifact_XwxfRo2X1ErP8ck70000</title>\n",
       "<path fill=\"none\" stroke=\"dimgrey\" d=\"M534,-80.67C468.25,-68.67 378.6,-52.31 308.96,-39.61\"/>\n",
       "<polygon fill=\"dimgrey\" stroke=\"dimgrey\" points=\"309.44,-37.92 304.2,-38.74 308.81,-41.36 309.44,-37.92\"/>\n",
       "</g>\n",
       "<!-- artifact_7Y6DwF1olthcbFao0000 -->\n",
       "<g id=\"node4\" class=\"node\">\n",
       "<title>artifact_7Y6DwF1olthcbFao0000</title>\n",
       "<path fill=\"honeydew\" stroke=\"#065f46\" d=\"M814.12,-38C814.12,-38 432.88,-38 432.88,-38 426.88,-38 420.88,-32 420.88,-26 420.88,-26 420.88,-12 420.88,-12 420.88,-6 426.88,0 432.88,0 432.88,0 814.12,0 814.12,0 820.12,0 826.12,-6 826.12,-12 826.12,-12 826.12,-26 826.12,-26 826.12,-32 820.12,-38 814.12,-38\"/>\n",
       "<text text-anchor=\"start\" x=\"428.88\" y=\"-25.5\" font-family=\"Helvetica,sans-Serif\" font-size=\"10.00\">📄 Single Cell RNA&#45;seq GNN Model trained [GSE180286], preprocessed and filtered data</text>\n",
       "<text text-anchor=\"start\" x=\"551.5\" y=\"-15.5\" font-family=\"Monospace\" font-size=\"10.00\" fill=\"GREY\">uid=7Y6DwF1olthcbFao0000</text>\n",
       "<text text-anchor=\"start\" x=\"590.5\" y=\"-5.5\" font-family=\"Monospace\" font-size=\"10.00\" fill=\"GREY\">suffix=.pth</text>\n",
       "</g>\n",
       "<!-- run_lxytpVhsPFOOas6zmDxw&#45;&gt;artifact_7Y6DwF1olthcbFao0000 -->\n",
       "<g id=\"edge3\" class=\"edge\">\n",
       "<title>run_lxytpVhsPFOOas6zmDxw&#45;&gt;artifact_7Y6DwF1olthcbFao0000</title>\n",
       "<path fill=\"none\" stroke=\"dimgrey\" d=\"M623.5,-73.9C623.5,-64.68 623.5,-54.06 623.5,-44.69\"/>\n",
       "<polygon fill=\"dimgrey\" stroke=\"dimgrey\" points=\"625.25,-44.96 623.5,-39.96 621.75,-44.96 625.25,-44.96\"/>\n",
       "</g>\n",
       "<!-- artifact_scEaRR7fNv27Yogp0000 -->\n",
       "<g id=\"node5\" class=\"node\">\n",
       "<title>artifact_scEaRR7fNv27Yogp0000</title>\n",
       "<path fill=\"#10b981\" stroke=\"#065f46\" d=\"M1344.75,-38C1344.75,-38 856.25,-38 856.25,-38 850.25,-38 844.25,-32 844.25,-26 844.25,-26 844.25,-12 844.25,-12 844.25,-6 850.25,0 856.25,0 856.25,0 1344.75,0 1344.75,0 1350.75,0 1356.75,-6 1356.75,-12 1356.75,-12 1356.75,-26 1356.75,-26 1356.75,-32 1350.75,-38 1344.75,-38\"/>\n",
       "<text text-anchor=\"start\" x=\"852.25\" y=\"-25.5\" font-family=\"Helvetica,sans-Serif\" font-size=\"10.00\">📄 Single Cell RNA&#45;seq data from GEO [GSE180286], preprocessed and filtered data with Latent Representations</text>\n",
       "<text text-anchor=\"start\" x=\"1028.5\" y=\"-15.5\" font-family=\"Monospace\" font-size=\"10.00\" fill=\"GREY\">uid=scEaRR7fNv27Yogp0000</text>\n",
       "<text text-anchor=\"start\" x=\"1064.5\" y=\"-5.5\" font-family=\"Monospace\" font-size=\"10.00\" fill=\"GREY\">suffix=.h5ad</text>\n",
       "</g>\n",
       "<!-- run_lxytpVhsPFOOas6zmDxw&#45;&gt;artifact_scEaRR7fNv27Yogp0000 -->\n",
       "<g id=\"edge4\" class=\"edge\">\n",
       "<title>run_lxytpVhsPFOOas6zmDxw&#45;&gt;artifact_scEaRR7fNv27Yogp0000</title>\n",
       "<path fill=\"none\" stroke=\"dimgrey\" d=\"M712.94,-82.56C788.42,-70.38 897.13,-52.83 980.23,-39.42\"/>\n",
       "<polygon fill=\"dimgrey\" stroke=\"dimgrey\" points=\"980.01,-41.22 984.67,-38.7 979.45,-37.77 980.01,-41.22\"/>\n",
       "</g>\n",
       "<!-- artifact_fqDEKvRwg55UfKxG0000 -->\n",
       "<g id=\"node6\" class=\"node\">\n",
       "<title>artifact_fqDEKvRwg55UfKxG0000</title>\n",
       "<path fill=\"honeydew\" stroke=\"#065f46\" d=\"M602.5,-354C602.5,-354 466.5,-354 466.5,-354 460.5,-354 454.5,-348 454.5,-342 454.5,-342 454.5,-328 454.5,-328 454.5,-322 460.5,-316 466.5,-316 466.5,-316 602.5,-316 602.5,-316 608.5,-316 614.5,-322 614.5,-328 614.5,-328 614.5,-342 614.5,-342 614.5,-348 608.5,-354 602.5,-354\"/>\n",
       "<text text-anchor=\"start\" x=\"489.12\" y=\"-341.5\" font-family=\"Helvetica,sans-Serif\" font-size=\"10.00\">📄 breast metastasis</text>\n",
       "<text text-anchor=\"start\" x=\"462.5\" y=\"-331.5\" font-family=\"Monospace\" font-size=\"10.00\" fill=\"GREY\">uid=fqDEKvRwg55UfKxG0000</text>\n",
       "<text text-anchor=\"start\" x=\"498.5\" y=\"-321.5\" font-family=\"Monospace\" font-size=\"10.00\" fill=\"GREY\">suffix=.h5ad</text>\n",
       "</g>\n",
       "<!-- run_QzqBH3QAFo1rfDngEvrt -->\n",
       "<g id=\"node7\" class=\"node\">\n",
       "<title>run_QzqBH3QAFo1rfDngEvrt</title>\n",
       "<path fill=\"gainsboro\" stroke=\"#065f46\" d=\"M714.38,-280C714.38,-280 532.62,-280 532.62,-280 526.62,-280 520.62,-274 520.62,-268 520.62,-268 520.62,-244 520.62,-244 520.62,-238 526.62,-232 532.62,-232 532.62,-232 714.38,-232 714.38,-232 720.38,-232 726.38,-238 726.38,-244 726.38,-244 726.38,-268 726.38,-268 726.38,-274 720.38,-280 714.38,-280\"/>\n",
       "<text text-anchor=\"start\" x=\"528.62\" y=\"-267.5\" font-family=\"Helvetica,sans-Serif\" font-size=\"10.00\">📔 Preprocessing Raw data and some EDA</text>\n",
       "<text text-anchor=\"start\" x=\"563.5\" y=\"-257.5\" font-family=\"Monospace\" font-size=\"10.00\" fill=\"GREY\">uid=s1mQjeFWxjJI0000</text>\n",
       "<text text-anchor=\"start\" x=\"542.5\" y=\"-247.5\" font-family=\"Monospace\" font-size=\"10.00\" fill=\"GREY\">type=notebook, user=paupaiz</text>\n",
       "<text text-anchor=\"start\" x=\"542.5\" y=\"-237.5\" font-family=\"Monospace\" font-size=\"10.00\" fill=\"GREY\">run=2025&#45;03&#45;06 13:46:19 UTC</text>\n",
       "</g>\n",
       "<!-- artifact_fqDEKvRwg55UfKxG0000&#45;&gt;run_QzqBH3QAFo1rfDngEvrt -->\n",
       "<g id=\"edge5\" class=\"edge\">\n",
       "<title>artifact_fqDEKvRwg55UfKxG0000&#45;&gt;run_QzqBH3QAFo1rfDngEvrt</title>\n",
       "<path fill=\"none\" stroke=\"dimgrey\" d=\"M555.59,-315.75C566.39,-306.41 579.76,-294.84 591.78,-284.44\"/>\n",
       "<polygon fill=\"dimgrey\" stroke=\"dimgrey\" points=\"592.7,-285.96 595.34,-281.37 590.41,-283.31 592.7,-285.96\"/>\n",
       "</g>\n",
       "<!-- run_QzqBH3QAFo1rfDngEvrt&#45;&gt;artifact_RBne2GLn0c2Kie4m0000 -->\n",
       "<g id=\"edge7\" class=\"edge\">\n",
       "<title>run_QzqBH3QAFo1rfDngEvrt&#45;&gt;artifact_RBne2GLn0c2Kie4m0000</title>\n",
       "<path fill=\"none\" stroke=\"dimgrey\" d=\"M623.5,-231.9C623.5,-222.68 623.5,-212.06 623.5,-202.69\"/>\n",
       "<polygon fill=\"dimgrey\" stroke=\"dimgrey\" points=\"625.25,-202.96 623.5,-197.96 621.75,-202.96 625.25,-202.96\"/>\n",
       "</g>\n",
       "<!-- artifact_NfPayTupzUQ5YEem0000 -->\n",
       "<g id=\"node8\" class=\"node\">\n",
       "<title>artifact_NfPayTupzUQ5YEem0000</title>\n",
       "<path fill=\"honeydew\" stroke=\"#065f46\" d=\"M780.5,-354C780.5,-354 644.5,-354 644.5,-354 638.5,-354 632.5,-348 632.5,-342 632.5,-342 632.5,-328 632.5,-328 632.5,-322 638.5,-316 644.5,-316 644.5,-316 780.5,-316 780.5,-316 786.5,-316 792.5,-322 792.5,-328 792.5,-328 792.5,-342 792.5,-342 792.5,-348 786.5,-354 780.5,-354\"/>\n",
       "<text text-anchor=\"start\" x=\"667.12\" y=\"-341.5\" font-family=\"Helvetica,sans-Serif\" font-size=\"10.00\">📄 breast metastasis</text>\n",
       "<text text-anchor=\"start\" x=\"640.5\" y=\"-331.5\" font-family=\"Monospace\" font-size=\"10.00\" fill=\"GREY\">uid=NfPayTupzUQ5YEem0000</text>\n",
       "<text text-anchor=\"start\" x=\"676.5\" y=\"-321.5\" font-family=\"Monospace\" font-size=\"10.00\" fill=\"GREY\">suffix=.h5ad</text>\n",
       "</g>\n",
       "<!-- artifact_NfPayTupzUQ5YEem0000&#45;&gt;run_QzqBH3QAFo1rfDngEvrt -->\n",
       "<g id=\"edge6\" class=\"edge\">\n",
       "<title>artifact_NfPayTupzUQ5YEem0000&#45;&gt;run_QzqBH3QAFo1rfDngEvrt</title>\n",
       "<path fill=\"none\" stroke=\"dimgrey\" d=\"M691.41,-315.75C680.61,-306.41 667.24,-294.84 655.22,-284.44\"/>\n",
       "<polygon fill=\"dimgrey\" stroke=\"dimgrey\" points=\"656.59,-283.31 651.66,-281.37 654.3,-285.96 656.59,-283.31\"/>\n",
       "</g>\n",
       "<!-- run_6WZyqNus4hVpiXaF1bac -->\n",
       "<g id=\"node9\" class=\"node\">\n",
       "<title>run_6WZyqNus4hVpiXaF1bac</title>\n",
       "<path fill=\"gainsboro\" stroke=\"#065f46\" d=\"M700.5,-438C700.5,-438 546.5,-438 546.5,-438 540.5,-438 534.5,-432 534.5,-426 534.5,-426 534.5,-402 534.5,-402 534.5,-396 540.5,-390 546.5,-390 546.5,-390 700.5,-390 700.5,-390 706.5,-390 712.5,-396 712.5,-402 712.5,-402 712.5,-426 712.5,-426 712.5,-432 706.5,-438 700.5,-438\"/>\n",
       "<text text-anchor=\"start\" x=\"575.5\" y=\"-425.5\" font-family=\"Helvetica,sans-Serif\" font-size=\"10.00\">📔 Schema_001.ipynb</text>\n",
       "<text text-anchor=\"start\" x=\"563.5\" y=\"-415.5\" font-family=\"Monospace\" font-size=\"10.00\" fill=\"GREY\">uid=mI70CDrdZK310000</text>\n",
       "<text text-anchor=\"start\" x=\"542.5\" y=\"-405.5\" font-family=\"Monospace\" font-size=\"10.00\" fill=\"GREY\">type=notebook, user=paupaiz</text>\n",
       "<text text-anchor=\"start\" x=\"542.5\" y=\"-395.5\" font-family=\"Monospace\" font-size=\"10.00\" fill=\"GREY\">run=2025&#45;03&#45;06 13:22:30 UTC</text>\n",
       "</g>\n",
       "<!-- run_6WZyqNus4hVpiXaF1bac&#45;&gt;artifact_fqDEKvRwg55UfKxG0000 -->\n",
       "<g id=\"edge8\" class=\"edge\">\n",
       "<title>run_6WZyqNus4hVpiXaF1bac&#45;&gt;artifact_fqDEKvRwg55UfKxG0000</title>\n",
       "<path fill=\"none\" stroke=\"dimgrey\" d=\"M596.8,-389.9C585.33,-379.97 571.97,-368.42 560.57,-358.56\"/>\n",
       "<polygon fill=\"dimgrey\" stroke=\"dimgrey\" points=\"561.89,-357.38 556.96,-355.43 559.6,-360.03 561.89,-357.38\"/>\n",
       "</g>\n",
       "<!-- run_6WZyqNus4hVpiXaF1bac&#45;&gt;artifact_NfPayTupzUQ5YEem0000 -->\n",
       "<g id=\"edge9\" class=\"edge\">\n",
       "<title>run_6WZyqNus4hVpiXaF1bac&#45;&gt;artifact_NfPayTupzUQ5YEem0000</title>\n",
       "<path fill=\"none\" stroke=\"dimgrey\" d=\"M650.2,-389.9C661.67,-379.97 675.03,-368.42 686.43,-358.56\"/>\n",
       "<polygon fill=\"dimgrey\" stroke=\"dimgrey\" points=\"687.4,-360.03 690.04,-355.43 685.11,-357.38 687.4,-360.03\"/>\n",
       "</g>\n",
       "</g>\n",
       "</svg>\n"
      ]
     },
     "metadata": {},
     "output_type": "display_data"
    }
   ],
   "source": [
    "adata_with_latent_artifact.view_lineage()"
   ]
  },
  {
   "cell_type": "markdown",
   "id": "7992f025",
   "metadata": {},
   "source": [
    "To summarize, we learned how to leverage Lamin schemas and additional entities for reproducible biomedical data analysis. "
   ]
  }
 ],
 "metadata": {
  "kernelspec": {
   "display_name": "lamin",
   "language": "python",
   "name": "python3"
  },
  "language_info": {
   "codemirror_mode": {
    "name": "ipython",
    "version": 3
   },
   "file_extension": ".py",
   "mimetype": "text/x-python",
   "name": "python",
   "nbconvert_exporter": "python",
   "pygments_lexer": "ipython3",
   "version": "3.12.9"
  }
 },
 "nbformat": 4,
 "nbformat_minor": 5
}
