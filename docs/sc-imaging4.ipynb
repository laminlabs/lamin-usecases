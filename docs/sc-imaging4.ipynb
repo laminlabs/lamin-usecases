{
 "cells": [
  {
   "cell_type": "markdown",
   "id": "0",
   "metadata": {},
   "source": [
    "![imaging4/4](https://img.shields.io/badge/imaging4/4-lightgrey)\n",
    "[![Jupyter Notebook](https://img.shields.io/badge/Source%20on%20GitHub-orange)](https://github.com/laminlabs/lamin-usecases/blob/main/docs/sc-imaging4.ipynb)"
   ]
  },
  {
   "cell_type": "markdown",
   "id": "1",
   "metadata": {},
   "source": [
    "# Identify autophagy-positive cells"
   ]
  },
  {
   "cell_type": "markdown",
   "id": "2",
   "metadata": {},
   "source": [
    "This notebook demonstrates how to train a machine learning model to distinguish between autophagy-positive and autophagy-negative cells using pre-calculated image features.\n",
    "\n",
    "We define two classes based on autophagy induction in wild-type (WT) cells:\n",
    "- `Class 0`: Unstimulated WT cells\n",
    "- `Class 1`: 14h Torin-1 stimulated WT cells  \n",
    "\n",
    "After training and evaluating our model, we want to compare cells without a functional *EI24* gene (`EI24KO` cells) to `WT` cells."
   ]
  },
  {
   "cell_type": "code",
   "execution_count": null,
   "id": "3",
   "metadata": {
    "tags": [
     "hide-output"
    ]
   },
   "outputs": [],
   "source": [
    "import numpy as np\n",
    "import matplotlib.pyplot as plt\n",
    "import seaborn as sns\n",
    "\n",
    "import lamindb as ln\n",
    "from anndata import concat\n",
    "\n",
    "import scportrait\n",
    "from sklearn.model_selection import train_test_split\n",
    "from sklearn.ensemble import RandomForestClassifier\n",
    "from sklearn.metrics import confusion_matrix, roc_curve, auc\n",
    "\n",
    "ln.track()"
   ]
  },
  {
   "cell_type": "markdown",
   "id": "4",
   "metadata": {},
   "source": [
    "## Prepare ML model and data"
   ]
  },
  {
   "cell_type": "code",
   "execution_count": null,
   "id": "5",
   "metadata": {
    "tags": [
     "hide-output"
    ]
   },
   "outputs": [],
   "source": [
    "def get_cells(dataframe):\n",
    "    \"\"\"Extract and concatenate single-cell data for cells specified in the input dataframe.\"\"\"\n",
    "    sc_data_list = []\n",
    "\n",
    "    for uid in dataframe.dataset.unique():\n",
    "        # Get cells for this dataset\n",
    "        selected_cells = dataframe[dataframe.dataset == uid].copy()\n",
    "\n",
    "        # Load single-cell data\n",
    "        artifact_path = ln.Artifact.using(\"scportrait/examples\").get(uid).cache()\n",
    "        dataset = scportrait.io.read_h5sc(artifact_path)\n",
    "\n",
    "        # Filter to selected cells\n",
    "        dataset = dataset[\n",
    "            dataset.obs.scportrait_cell_id.isin(\n",
    "                selected_cells.scportrait_cell_id.values\n",
    "            )\n",
    "        ].copy()\n",
    "\n",
    "        # Add prediction scores\n",
    "        dataset.obs[\"score\"] = selected_cells.prob_class1.values\n",
    "        sc_data_list.append(dataset)\n",
    "\n",
    "    sc_data = concat(sc_data_list, uns_merge=\"first\", index_unique=\"-\")\n",
    "    sc_data.obs.reset_index(inplace=True, drop=True)\n",
    "    sc_data.obs.index = sc_data.obs.index.values.astype(str)\n",
    "\n",
    "    return sc_data"
   ]
  },
  {
   "cell_type": "code",
   "execution_count": null,
   "id": "6",
   "metadata": {
    "tags": [
     "hide-output"
    ]
   },
   "outputs": [],
   "source": [
    "# Define RandomForest parameters\n",
    "param_definitions = [\n",
    "    (\"random_state\", \"int\"),\n",
    "    (\"n_estimators\", \"int\"),\n",
    "    (\"max_depth\", \"int\"),\n",
    "    (\"min_samples_split\", \"int\"),\n",
    "    (\"min_samples_leaf\", \"int\"),\n",
    "    (\"max_features\", \"str\"),\n",
    "    (\"criterion\", \"str\"),\n",
    "    (\"bootstrap\", \"bool\"),\n",
    "]\n",
    "\n",
    "# Create parameter objects\n",
    "for name, dtype in param_definitions:\n",
    "    ln.Param(name=name, dtype=dtype).save()\n",
    "\n",
    "rfc_params = {\n",
    "    \"random_state\": 42,\n",
    "    \"n_estimators\": 100,\n",
    "    \"max_depth\": 10,\n",
    "    \"min_samples_split\": 2,\n",
    "    \"min_samples_leaf\": 1,\n",
    "    \"max_features\": \"sqrt\",\n",
    "    \"criterion\": \"gini\",\n",
    "    \"bootstrap\": True,\n",
    "}\n",
    "\n",
    "ln.track(params=rfc_params)"
   ]
  },
  {
   "cell_type": "code",
   "execution_count": null,
   "id": "7",
   "metadata": {
    "tags": [
     "hide-output"
    ]
   },
   "outputs": [],
   "source": [
    "study = ln.ULabel.using(\"scportrait/examples\").get(name=\"autophagy imaging\")\n",
    "\n",
    "sc_datasets = (\n",
    "    ln.Artifact.using(\"scportrait/examples\")\n",
    "    .filter(ulabels=study, is_latest=True)\n",
    "    .filter(ulabels__name=\"scportrait single-cell images\")\n",
    ")\n",
    "\n",
    "featurized_datasets = (\n",
    "    ln.Artifact.using(\"scportrait/examples\")\n",
    "    .filter(ulabels=study, is_latest=True)\n",
    "    .filter(description=\"featurized single-cell images\")\n",
    ")\n",
    "\n",
    "class_lookup = {0: \"untreated\", 1: \"14h Torin-1\"}\n",
    "label_lookup = {v: k for k, v in class_lookup.items()}"
   ]
  },
  {
   "cell_type": "markdown",
   "id": "8",
   "metadata": {},
   "source": [
    "Let's examine example images from both classes. \n",
    "As we can see, the cells look very distinct to one another. \n",
    "Hopefully our ML model will be able to separate them as well."
   ]
  },
  {
   "cell_type": "code",
   "execution_count": null,
   "id": "9",
   "metadata": {
    "tags": [
     "hide-output"
    ]
   },
   "outputs": [],
   "source": [
    "# Load example images for positive and negative autophagy\n",
    "wt_cells = sc_datasets.filter(ulabels__name=\"WT\")\n",
    "\n",
    "autophagy_positive = scportrait.io.read_h5sc(\n",
    "    wt_cells.filter(ulabels__name=\"14h Torin-1\")[0].cache()\n",
    ")\n",
    "autophagy_negative = scportrait.io.read_h5sc(\n",
    "    wt_cells.filter(ulabels__name=\"untreated\")[0].cache()\n",
    ")\n",
    "\n",
    "# Plot negative and positive autophagy examples\n",
    "channel_of_interest = 4  # LC3B channel: key autophagosome marker\n",
    "num_rows, num_cols = 4, 4\n",
    "n_cells = num_rows * num_cols\n",
    "\n",
    "fig, axes = plt.subplots(1, 2, figsize=(15, 7))\n",
    "examples = [\n",
    "    (autophagy_negative, \"Autophagy negative cells (LC3B distribution)\", 0),\n",
    "    (autophagy_positive, \"Autophagy positive cells (LC3B distribution)\", 1),\n",
    "]\n",
    "\n",
    "for data, title, ax_idx in examples:\n",
    "    scportrait.pl.cell_grid_single_channel(\n",
    "        data,\n",
    "        select_channel=channel_of_interest,\n",
    "        ax=axes[ax_idx],\n",
    "        title=title,\n",
    "        show_fig=False,\n",
    "    )"
   ]
  },
  {
   "cell_type": "markdown",
   "id": "10",
   "metadata": {},
   "source": [
    "## Train ML model"
   ]
  },
  {
   "cell_type": "markdown",
   "id": "11",
   "metadata": {},
   "source": [
    "We load the featurized datasets for both `WT` and `EI24KO` cells, then train a Random Forest model to distinguish between autophagy-positive and autophagy-negative states."
   ]
  },
  {
   "cell_type": "code",
   "execution_count": null,
   "id": "12",
   "metadata": {
    "tags": [
     "hide-output"
    ]
   },
   "outputs": [],
   "source": [
    "wt_cells_afs = (\n",
    "    featurized_datasets.filter(ulabels__name=\"WT\", is_latest=True).distinct().one()\n",
    ")\n",
    "features_wt = wt_cells_afs.load()\n",
    "\n",
    "ko_cells_afs = (\n",
    "    featurized_datasets.filter(ulabels__name=\"EI24KO\", is_latest=True).distinct().one()\n",
    ")\n",
    "features_ko = ko_cells_afs.load()"
   ]
  },
  {
   "cell_type": "code",
   "execution_count": null,
   "id": "13",
   "metadata": {
    "tags": [
     "hide-output"
    ]
   },
   "outputs": [],
   "source": [
    "# Split data\n",
    "data_train, data_test = train_test_split(features_wt, test_size=0.4, random_state=42)\n",
    "\n",
    "# Remove metadata and mCherry features, we will not use them for training\n",
    "columns_to_drop = [\"dataset\", \"scportrait_cell_id\"] + [\n",
    "    col for col in data_train.columns if \"mCherry\" in col\n",
    "]\n",
    "\n",
    "data_train_clean = data_train.drop(columns=columns_to_drop)\n",
    "data_test_clean = data_test.drop(columns=columns_to_drop)\n",
    "\n",
    "# Separate features and target variables\n",
    "X_train = data_train_clean.drop(\"class\", axis=1)\n",
    "y_train = data_train_clean[\"class\"]\n",
    "X_test = data_test_clean.drop(\"class\", axis=1)\n",
    "y_test = data_test_clean[\"class\"]\n",
    "\n",
    "# Train model\n",
    "clf = RandomForestClassifier(**rfc_params)\n",
    "clf.fit(X_train, y_train)\n",
    "\n",
    "# Make predictions\n",
    "y_pred = clf.predict(X_test)\n",
    "y_scores = clf.predict_proba(X_test)\n",
    "\n",
    "data_test[\"predicted_class\"] = y_pred\n",
    "data_test[\"prob_class1\"] = y_scores[:, 1]"
   ]
  },
  {
   "cell_type": "markdown",
   "id": "14",
   "metadata": {},
   "source": [
    "We evaluate model performance using confusion matrices and ROC curves."
   ]
  },
  {
   "cell_type": "code",
   "execution_count": null,
   "id": "15",
   "metadata": {},
   "outputs": [],
   "source": [
    "# Compute confusion matrix and ROC curve\n",
    "cm = confusion_matrix(y_test, y_pred)\n",
    "cm_normalized = cm.astype(\"float\") / cm.sum(axis=1)[:, np.newaxis]\n",
    "fpr, tpr, _ = roc_curve(y_test, y_scores[:, 1])\n",
    "roc_auc = auc(fpr, tpr)\n",
    "\n",
    "# Get class labels for display\n",
    "class_labels = [class_lookup[label] for label in np.unique(y_test)]\n",
    "\n",
    "fig, (ax_roc, ax_cm) = plt.subplots(1, 2, figsize=(12, 4))\n",
    "\n",
    "# ROC\n",
    "ax_roc.plot(fpr, tpr, color=\"blue\", lw=2, label=f\"ROC curve (AUC = {roc_auc:.2f})\")\n",
    "ax_roc.plot([0, 1], [0, 1], color=\"gray\", linestyle=\"--\")\n",
    "ax_roc.set_xlim([0.0, 1.0])\n",
    "ax_roc.set_ylim([0.0, 1.0])\n",
    "ax_roc.set_xlabel(\"False Positive Rate\")\n",
    "ax_roc.set_ylabel(\"True Positive Rate\")\n",
    "ax_roc.set_title(\"ROC Curve\")\n",
    "ax_roc.legend(loc=\"lower right\", frameon=False)\n",
    "\n",
    "# Confusion matrix\n",
    "sns.heatmap(\n",
    "    cm_normalized,\n",
    "    annot=True,\n",
    "    fmt=\".2f\",\n",
    "    cmap=\"Blues\",\n",
    "    xticklabels=class_labels,\n",
    "    yticklabels=class_labels,\n",
    "    ax=ax_cm,\n",
    "    cbar=False,\n",
    ")\n",
    "ax_cm.set_xlabel(\"Predicted Label\")\n",
    "ax_cm.set_ylabel(\"True Label\")\n",
    "ax_cm.set_title(\"Confusion Matrix [% of true label]\")\n",
    "\n",
    "fig.tight_layout()"
   ]
  },
  {
   "cell_type": "markdown",
   "id": "16",
   "metadata": {},
   "source": [
    "Despite being trained on a small dataset, our model performs reasonably well with an AUC of 0.7. \n",
    "The confusion matrix reveals that the classifier performs well at identifying autophagy-negative cells (86% accuracy) but struggles with autophagy-positive cells (less than 50% accuracy).\n",
    "\n",
    "Let's visualize example cells from each class to understand what patterns the model might be detecting."
   ]
  },
  {
   "cell_type": "code",
   "execution_count": null,
   "id": "17",
   "metadata": {
    "tags": [
     "hide-output"
    ]
   },
   "outputs": [],
   "source": [
    "# Visualize example cells from each prediction category\n",
    "channel_of_interest = 4  # LC3B channel: key autophagosome marker\n",
    "n_cells = 9\n",
    "\n",
    "# Annotate dataset with prediction categories\n",
    "data_test[\"TP\"] = (data_test[\"class\"] == 1) & (data_test[\"predicted_class\"] == 1)\n",
    "data_test[\"TN\"] = (data_test[\"class\"] == 0) & (data_test[\"predicted_class\"] == 0)\n",
    "data_test[\"FP\"] = (data_test[\"class\"] == 0) & (data_test[\"predicted_class\"] == 1)\n",
    "data_test[\"FN\"] = (data_test[\"class\"] == 1) & (data_test[\"predicted_class\"] == 0)\n",
    "\n",
    "# Get example cells for each category\n",
    "cells_TP = (\n",
    "    data_test[data_test.TP].sort_values(\"prob_class1\", ascending=False).head(n_cells)\n",
    ")\n",
    "cells_TN = (\n",
    "    data_test[data_test.TN].sort_values(\"prob_class1\", ascending=False).tail(n_cells)\n",
    ")\n",
    "cells_FN = (\n",
    "    data_test[data_test.FN].sort_values(\"prob_class1\", ascending=False).tail(n_cells)\n",
    ")\n",
    "cells_FP = (\n",
    "    data_test[data_test.FP].sort_values(\"prob_class1\", ascending=False).head(n_cells)\n",
    ")\n",
    "\n",
    "cell_sets = {\n",
    "    \"TP\": get_cells(cells_TP),\n",
    "    \"TN\": get_cells(cells_TN),\n",
    "    \"FN\": get_cells(cells_FN),\n",
    "    \"FP\": get_cells(cells_FP),\n",
    "}\n",
    "\n",
    "fig, axes = plt.subplots(2, 2, figsize=(13, 13))\n",
    "axes = axes.flatten()\n",
    "\n",
    "for idx, (category, cells) in enumerate(cell_sets.items()):\n",
    "    scportrait.pl.cell_grid_single_channel(\n",
    "        cells,\n",
    "        cell_ids=cells.obs.scportrait_cell_id,\n",
    "        cell_labels=cells.obs.score.round(2).values,\n",
    "        select_channel=channel_of_interest,\n",
    "        ax=axes[idx],\n",
    "        title=f\"{category} with Prob(stimulated)\",\n",
    "        show_fig=False,\n",
    "    )"
   ]
  },
  {
   "cell_type": "markdown",
   "id": "18",
   "metadata": {},
   "source": [
    "**Analyzing model predictions**\n",
    "\n",
    "**False Positives (FPs)** - cells predicted as stimulated but actually unstimulated.\n",
    "We observe two distinct cell types:\n",
    "\n",
    "1. Very small cells with no visible autophagosomes - likely genuine model errors\n",
    "2. Larger cells with clear autophagosomes - these resemble TP cells more than TNs\n",
    "\n",
    "The second type suggests our model may have discovered mislabeled data rather than making mistakes: cells can undergo spontaneous autophagy without Torin-1 treatment due to nutrient scarcity. Since our class labelling is based on cells having not been treated with Torin-1, we would be annotating these cells incorrectly.\n",
    "\n",
    "**False Negatives (FNs)** - cells predicted as unstimulated but actually stimulated.\n",
    "These cells appear homogeneous and similar to TP cells, indicating model classification errors.\n",
    "\n",
    "Before applying this model in a biological context, we should consider:\n",
    "\n",
    "1. Expand training data to improve model robustness\n",
    "2. Perform a pre-screening of our training data to ensure we remove any incorrectly labelled cells\n",
    "3. Engineer better features that capture the biological processes of interest\n",
    "\n",
    "For comparison, the [original study](https://www.biorxiv.org/content/10.1101/2023.06.01.542416v1) achieved much higher accuracy using deep learning approaches on this same dataset."
   ]
  },
  {
   "cell_type": "markdown",
   "id": "19",
   "metadata": {},
   "source": [
    "## Investigate the *EI24* KO cells\n",
    "\n",
    "Now let's take a look at the *EI24*-deficient cells. *EI24* deficiency is expected to disrupt autophagy induction, preventing normal responses to stimulation."
   ]
  },
  {
   "cell_type": "code",
   "execution_count": null,
   "id": "20",
   "metadata": {
    "tags": [
     "hide-output"
    ]
   },
   "outputs": [],
   "source": [
    "# Prepare KO data using same preprocessing as training data\n",
    "columns_to_drop = [\"dataset\", \"scportrait_cell_id\"] + [\n",
    "    col for col in features_ko.columns if \"mCherry\" in col\n",
    "]\n",
    "data_ko_clean = features_ko.drop(columns=columns_to_drop)\n",
    "\n",
    "X_ko = data_ko_clean.drop(\"class\", axis=1)\n",
    "y_ko_true = data_ko_clean[\"class\"]\n",
    "\n",
    "# Make predictions on KO data\n",
    "predictions_ko = clf.predict(X_ko)"
   ]
  },
  {
   "cell_type": "code",
   "execution_count": null,
   "id": "21",
   "metadata": {},
   "outputs": [],
   "source": [
    "# Compute and plot confusion matrix for KO cells\n",
    "cm = confusion_matrix(y_ko_true, predictions_ko)\n",
    "cm_normalized = cm.astype(\"float\") / cm.sum(axis=1)[:, np.newaxis]\n",
    "\n",
    "# Get class labels\n",
    "class_labels = [class_lookup[label] for label in np.unique(y_ko_true)]\n",
    "\n",
    "fig, ax = plt.subplots(1, 1, figsize=(4, 2))\n",
    "\n",
    "sns.heatmap(\n",
    "    cm_normalized,\n",
    "    annot=True,\n",
    "    fmt=\".2f\",\n",
    "    cmap=\"Blues\",\n",
    "    xticklabels=class_labels,\n",
    "    yticklabels=class_labels,\n",
    "    ax=ax,\n",
    "    cbar=False,\n",
    ")\n",
    "ax.set_xlabel(\"Predicted Label\")\n",
    "ax.set_ylabel(\"True Label\")\n",
    "ax.set_title(\"Confusion matrix [% of true label]\")\n",
    "fig.tight_layout()"
   ]
  },
  {
   "cell_type": "markdown",
   "id": "22",
   "metadata": {},
   "source": [
    "Interestingly, our model classifies a high percentage of stimulated *EI24*-KO cells as being unstimulated.\n",
    "Lets take a look at the images again."
   ]
  },
  {
   "cell_type": "code",
   "execution_count": null,
   "id": "23",
   "metadata": {},
   "outputs": [],
   "source": [
    "# Compare WT and EI24KO cells\n",
    "channel_of_interest = 4  # LC3B channel: key autophagosome marker\n",
    "\n",
    "# Load EI24KO datasets\n",
    "EI24_KO_unstimulated = scportrait.io.read_h5sc(\n",
    "    sc_datasets.filter(ulabels__name=\"EI24KO\")\n",
    "    .filter(ulabels__name=\"untreated\")[0]\n",
    "    .cache()\n",
    ")\n",
    "\n",
    "EI24_KO_stimulated = scportrait.io.read_h5sc(\n",
    "    sc_datasets.filter(ulabels__name=\"EI24KO\")\n",
    "    .filter(ulabels__name=\"14h Torin-1\")[0]\n",
    "    .cache()\n",
    ")\n",
    "\n",
    "fig, axes = plt.subplots(2, 2, figsize=(12, 12))\n",
    "\n",
    "plot_data = [\n",
    "    (autophagy_negative, \"WT autophagy negative cells\", (0, 0)),\n",
    "    (autophagy_positive, \"WT autophagy positive cells\", (0, 1)),\n",
    "    (EI24_KO_unstimulated, \"EI24KO unstimulated cells\", (1, 0)),\n",
    "    (EI24_KO_stimulated, \"EI24KO stimulated cells\", (1, 1)),\n",
    "]\n",
    "\n",
    "for data, title, (row, col) in plot_data:\n",
    "    scportrait.pl.cell_grid_single_channel(\n",
    "        data,\n",
    "        select_channel=channel_of_interest,\n",
    "        ax=axes[row, col],\n",
    "        title=title,\n",
    "        show_fig=False,\n",
    "    )\n",
    "\n",
    "fig.tight_layout()"
   ]
  },
  {
   "cell_type": "markdown",
   "id": "24",
   "metadata": {},
   "source": [
    "The `EI24 KO` cells show fewer LC3 puncta and appear defective in autophagosome formation. \n",
    "Even after Torin-1 stimulation, `EI24 KO` cells look comparable to unstimulated cells.\n",
    "\n",
    "This suggests our model correctly identifies the biological effect of *EI24* deficiency - impaired autophagy induction even under stimulating conditions."
   ]
  },
  {
   "cell_type": "markdown",
   "id": "25",
   "metadata": {},
   "source": [
    "## Visualize cells in their spatial context"
   ]
  },
  {
   "cell_type": "markdown",
   "id": "26",
   "metadata": {},
   "source": [
    "As image analysis advances, obtaining the full context of a small section of the original image is often essential."
   ]
  },
  {
   "cell_type": "code",
   "execution_count": null,
   "id": "27",
   "metadata": {},
   "outputs": [],
   "source": [
    "# Select a random cell from the WT dataset\n",
    "cell = features_wt.sample(1, random_state=42)\n",
    "dataset = cell[\"dataset\"].values[0]\n",
    "cell_id = cell[\"scportrait_cell_id\"].values[0]\n",
    "\n",
    "# Get SpatialData object and single-cell image dataset\n",
    "sdata = (\n",
    "    ln.Artifact.using(\"scportrait/examples\")\n",
    "    .get(\n",
    "        key=ln.Artifact.using(\"scportrait/examples\")\n",
    "        .get(dataset)\n",
    "        .key.replace(\"single_cell_data.h5ad\", \"spatialdata.zarr\")\n",
    "    )\n",
    "    .load()\n",
    ")\n",
    "single_cell_images = scportrait.io.read_h5sc(ln.Artifact.get(dataset).cache())\n",
    "\n",
    "# Get cell location coordinates\n",
    "x, y = sdata[\"centers_seg_all_nucleus\"].compute().loc[cell_id, :]\n",
    "\n",
    "# Create comparison plot: single-cell view vs. spatial context\n",
    "fig, (ax_cell, ax_spatial) = plt.subplots(1, 2, figsize=(12, 3.5))\n",
    "\n",
    "# Plot single-cell images\n",
    "scportrait.pl.cell_grid_multi_channel(\n",
    "    single_cell_images, cell_ids=cell_id, ax=ax_cell, show_fig=False\n",
    ")\n",
    "\n",
    "# Plot spatial context with cell location highlighted\n",
    "sdata_cropped = scportrait.tl.sdata.pp.get_bounding_box_sdata(\n",
    "    sdata, center_x=x, center_y=y, max_width=100\n",
    ")\n",
    "scportrait.pl.plot_segmentation_mask(\n",
    "    sdata_cropped,\n",
    "    masks=[\"seg_all_nucleus\", \"seg_all_cytosol\"],\n",
    "    ax=ax_spatial,\n",
    "    show_fig=False,\n",
    ")\n",
    "ax_spatial.scatter(x, y, color=\"red\", s=200)\n",
    "\n",
    "fig.tight_layout()"
   ]
  },
  {
   "cell_type": "code",
   "execution_count": null,
   "id": "28",
   "metadata": {
    "tags": [
     "hide-output"
    ]
   },
   "outputs": [],
   "source": [
    "ln.finish()"
   ]
  },
  {
   "cell_type": "code",
   "execution_count": null,
   "id": "29",
   "metadata": {
    "tags": [
     "hide-cell"
    ]
   },
   "outputs": [],
   "source": [
    "!rm -rf test-imaging\n",
    "!lamin delete --force test-imaging"
   ]
  }
 ],
 "metadata": {
  "jupytext": {
   "cell_metadata_filter": "-all",
   "main_language": "python",
   "notebook_metadata_filter": "-all"
  },
  "kernelspec": {
   "display_name": "lamin",
   "language": "python",
   "name": "python3"
  },
  "language_info": {
   "codemirror_mode": {
    "name": "ipython",
    "version": 3
   },
   "file_extension": ".py",
   "mimetype": "text/x-python",
   "name": "python",
   "nbconvert_exporter": "python",
   "pygments_lexer": "ipython3",
   "version": "3.12.0"
  }
 },
 "nbformat": 4,
 "nbformat_minor": 5
}
