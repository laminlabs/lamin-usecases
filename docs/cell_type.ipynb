{
 "cells": [
  {
   "cell_type": "markdown",
   "id": "abc70379",
   "metadata": {},
   "source": [
    "# CellType"
   ]
  },
  {
   "cell_type": "markdown",
   "id": "098f0d36",
   "metadata": {},
   "source": [
    "lamindb provides access to the following public protein ontologies through [bionty](https://lamin.ai/docs/bionty):\n",
    "\n",
    "1. [Cell Ontology](https://obophenotype.github.io/cell-ontology)\n",
    "\n",
    "Here we show how to access and search CellType ontologies to standardize new data."
   ]
  },
  {
   "cell_type": "code",
   "execution_count": null,
   "id": "870405dc",
   "metadata": {},
   "outputs": [],
   "source": [
    "import bionty as bt\n",
    "import pandas as pd"
   ]
  },
  {
   "cell_type": "markdown",
   "id": "accb6bd0",
   "metadata": {},
   "source": [
    "## PublicOntology objects"
   ]
  },
  {
   "cell_type": "markdown",
   "id": "7b8aaa99",
   "metadata": {},
   "source": [
    "Let us create a public ontology accessor with `.public` method, which chooses a default public ontology source from {class}`~docs:bionty.PublicSource`.\n",
    "It's a [PublicOntology](https://lamin.ai/docs/bionty.dev.publicontology) object, which you can think about as a public registry:"
   ]
  },
  {
   "cell_type": "code",
   "execution_count": null,
   "id": "58efaa46",
   "metadata": {},
   "outputs": [],
   "source": [
    "celltypes = bt.CellType.public(organism=\"all\")\n",
    "celltypes"
   ]
  },
  {
   "cell_type": "markdown",
   "id": "d05b83f8",
   "metadata": {},
   "source": [
    "As for registries, you can export the ontology as a `DataFrame`:"
   ]
  },
  {
   "cell_type": "code",
   "execution_count": null,
   "id": "dabcafcc",
   "metadata": {},
   "outputs": [],
   "source": [
    "df = celltypes.df()\n",
    "df.head()"
   ]
  },
  {
   "cell_type": "markdown",
   "id": "204f3ce1",
   "metadata": {},
   "source": [
    "Unlike registries, you can also export it as a Pronto object via `public.ontology`."
   ]
  },
  {
   "cell_type": "markdown",
   "id": "d9565506",
   "metadata": {},
   "source": [
    "## Look up terms"
   ]
  },
  {
   "cell_type": "markdown",
   "id": "b8a2d097",
   "metadata": {},
   "source": [
    "As for registries, terms can be looked up with auto-complete:"
   ]
  },
  {
   "cell_type": "code",
   "execution_count": null,
   "id": "4d4419f8",
   "metadata": {},
   "outputs": [],
   "source": [
    "lookup = celltypes.lookup()"
   ]
  },
  {
   "cell_type": "markdown",
   "id": "350aa5d2",
   "metadata": {},
   "source": [
    "The `.` accessor provides normalized terms (lower case, only contains alphanumeric characters and underscores):"
   ]
  },
  {
   "cell_type": "code",
   "execution_count": null,
   "id": "1b273aff",
   "metadata": {},
   "outputs": [],
   "source": [
    "lookup.cd8_positive_alpha_beta_t_cell"
   ]
  },
  {
   "cell_type": "markdown",
   "id": "1dba0166",
   "metadata": {},
   "source": [
    "To look up the exact original strings, convert the lookup object to dict and use the `[]` accessor:"
   ]
  },
  {
   "cell_type": "code",
   "execution_count": null,
   "id": "f3b21e12",
   "metadata": {},
   "outputs": [],
   "source": [
    "lookup_dict = lookup.dict()\n",
    "lookup_dict[\"CD8-positive, alpha-beta T cell\"]"
   ]
  },
  {
   "cell_type": "markdown",
   "id": "3a44508e",
   "metadata": {},
   "source": [
    "By default, the `name` field is used to generate lookup keys. You can specify another field to look up:"
   ]
  },
  {
   "cell_type": "code",
   "execution_count": null,
   "id": "7ff33215",
   "metadata": {},
   "outputs": [],
   "source": [
    "lookup = celltypes.lookup(celltypes.ontology_id)"
   ]
  },
  {
   "cell_type": "code",
   "execution_count": null,
   "id": "380b8f45",
   "metadata": {},
   "outputs": [],
   "source": [
    "lookup.cl_0000625"
   ]
  },
  {
   "cell_type": "markdown",
   "id": "fa5d85e9",
   "metadata": {},
   "source": [
    "## Search terms"
   ]
  },
  {
   "cell_type": "markdown",
   "id": "780814c9",
   "metadata": {},
   "source": [
    "Search behaves in the same way as it does for registries:"
   ]
  },
  {
   "cell_type": "code",
   "execution_count": null,
   "id": "0c9b0b48",
   "metadata": {},
   "outputs": [],
   "source": [
    "celltypes.search(\"CD8 positive T cell\").head(3)"
   ]
  },
  {
   "cell_type": "markdown",
   "id": "143a78d8",
   "metadata": {},
   "source": [
    "By default, search also covers synonyms:"
   ]
  },
  {
   "cell_type": "code",
   "execution_count": null,
   "id": "6223a258",
   "metadata": {},
   "outputs": [],
   "source": [
    "celltypes.search(\"Tc1 T lymphocyte\").head(3)"
   ]
  },
  {
   "cell_type": "markdown",
   "id": "ab93dcb8",
   "metadata": {},
   "source": [
    "You can turn this off synonym by passing `synonyms_field=None`:"
   ]
  },
  {
   "cell_type": "code",
   "execution_count": null,
   "id": "55a50613",
   "metadata": {},
   "outputs": [],
   "source": [
    "celltypes.search(\"Tc1 T lymphocyte\", synonyms_field=None).head(3)"
   ]
  },
  {
   "cell_type": "markdown",
   "id": "b0422452",
   "metadata": {},
   "source": [
    "Search another field (default is `.name`):"
   ]
  },
  {
   "cell_type": "code",
   "execution_count": null,
   "id": "a387881b",
   "metadata": {},
   "outputs": [],
   "source": [
    "celltypes.search(\n",
    "    \"CD8 positive alpha beta T cell\",\n",
    "    field=celltypes.definition,\n",
    ").head()"
   ]
  },
  {
   "cell_type": "markdown",
   "id": "090f36ce",
   "metadata": {},
   "source": [
    "## Standardize CellType identifiers"
   ]
  },
  {
   "cell_type": "markdown",
   "id": "987b0386",
   "metadata": {},
   "source": [
    "Let us generate a `DataFrame` that stores a number of CellType identifiers, some of which corrupted:"
   ]
  },
  {
   "cell_type": "code",
   "execution_count": null,
   "id": "59f82329",
   "metadata": {},
   "outputs": [],
   "source": [
    "df_orig = pd.DataFrame(\n",
    "    index=[\n",
    "        \"Boettcher cell\",\n",
    "        \"bone marrow cell\",\n",
    "        \"interstitial cell of ovary\",\n",
    "        \"pancreatic ductal cell\",\n",
    "        \"This celltype does not exist\",\n",
    "    ]\n",
    ")\n",
    "df_orig"
   ]
  },
  {
   "cell_type": "markdown",
   "id": "6cadea02",
   "metadata": {},
   "source": [
    "We can check whether any of our values are validated against the ontology reference:"
   ]
  },
  {
   "cell_type": "code",
   "execution_count": null,
   "id": "4c5454aa",
   "metadata": {},
   "outputs": [],
   "source": [
    "validated = celltypes.validate(df_orig.index, celltypes.name)\n",
    "df_orig.index[~validated]"
   ]
  },
  {
   "cell_type": "markdown",
   "id": "64d06227",
   "metadata": {},
   "source": [
    "## Ontology source versions"
   ]
  },
  {
   "cell_type": "markdown",
   "id": "41e7590c",
   "metadata": {},
   "source": [
    "For any given entity, we can choose from a number of versions:"
   ]
  },
  {
   "cell_type": "code",
   "execution_count": null,
   "id": "f9d3a073",
   "metadata": {},
   "outputs": [],
   "source": [
    "bt.PublicSource.filter(entity=\"CellType\").df()"
   ]
  },
  {
   "cell_type": "markdown",
   "id": "6535b32e",
   "metadata": {},
   "source": [
    "When instantiating a Bionty object, we can choose a source or version:"
   ]
  },
  {
   "cell_type": "code",
   "execution_count": null,
   "id": "6bfab7ff",
   "metadata": {
    "lines_to_next_cell": 0
   },
   "outputs": [],
   "source": [
    "public_source = bt.PublicSource.filter(\n",
    "    source=\"cl\", version=\"2023-04-20\", organism=\"all\"\n",
    ").one()\n",
    "celltypes= bt.CellType.public(public_source=public_source)\n",
    "celltypes"
   ]
  },
  {
   "cell_type": "markdown",
   "id": "1fa02a40",
   "metadata": {},
   "source": [
    "The currently used ontologies can be displayed using:"
   ]
  },
  {
   "cell_type": "code",
   "execution_count": null,
   "id": "55d1e295",
   "metadata": {
    "tags": [
     "hide-output"
    ]
   },
   "outputs": [],
   "source": [
    "bt.PublicSource.filter(currently_used=True).df()"
   ]
  }
 ],
 "metadata": {
  "kernelspec": {
   "display_name": "lamindb",
   "language": "python",
   "name": "python3"
  }
 },
 "nbformat": 4,
 "nbformat_minor": 5
}
