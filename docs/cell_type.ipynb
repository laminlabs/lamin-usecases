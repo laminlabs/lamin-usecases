{
 "cells": [
  {
   "cell_type": "markdown",
   "id": "d3ba36dc",
   "metadata": {},
   "source": [
    "# CellType"
   ]
  },
  {
   "cell_type": "markdown",
   "id": "55a2f3c3",
   "metadata": {},
   "source": [
    "lamindb provides access to the following public protein ontologies through [lnschema-bionty](https://github.com/laminlabs/lnschema-bionty):\n",
    "\n",
    "1. [Cell Ontology](https://obophenotype.github.io/cell-ontology)\n",
    "\n",
    "Here we show how to access and search CellType ontologies to standardize new data."
   ]
  },
  {
   "cell_type": "markdown",
   "id": "39640800",
   "metadata": {},
   "source": [
    "## Setup"
   ]
  },
  {
   "cell_type": "code",
   "execution_count": null,
   "id": "6a6c02a6",
   "metadata": {},
   "outputs": [],
   "source": [
    "!lamin init --storage ./test-celltype --schema bionty"
   ]
  },
  {
   "cell_type": "code",
   "execution_count": null,
   "id": "29f0d58a",
   "metadata": {},
   "outputs": [],
   "source": [
    "import lnschema_bionty as lb\n",
    "import pandas as pd"
   ]
  },
  {
   "cell_type": "markdown",
   "id": "8ca55b89",
   "metadata": {},
   "source": [
    "## PublicOntology objects"
   ]
  },
  {
   "cell_type": "markdown",
   "id": "efa25898",
   "metadata": {},
   "source": [
    "Let us create a public ontology accessor with {meth}`~docs:lnschema_bionty.dev.BioRegistry.public`, which chooses a default public ontology source from {class}`~docs:lnschema_bionty.PublicSource`.\n",
    "It's a [PublicOntology](https://lamin.ai/docs/lnschema_bionty.dev.publicontology) object, which you can think about as a public registry:"
   ]
  },
  {
   "cell_type": "code",
   "execution_count": null,
   "id": "e2e68e64",
   "metadata": {},
   "outputs": [],
   "source": [
    "celltypes = lb.CellType.public(organism=\"all\")\n",
    "celltypes"
   ]
  },
  {
   "cell_type": "markdown",
   "id": "36946278",
   "metadata": {},
   "source": [
    "As for registries, you can export the ontology as a `DataFrame`:"
   ]
  },
  {
   "cell_type": "code",
   "execution_count": null,
   "id": "775f2053",
   "metadata": {},
   "outputs": [],
   "source": [
    "df = celltypes.df()\n",
    "df.head()"
   ]
  },
  {
   "cell_type": "markdown",
   "id": "afdd2275",
   "metadata": {},
   "source": [
    "Unlike registries, you can also export it as a Pronto object via `public.ontology`."
   ]
  },
  {
   "cell_type": "markdown",
   "id": "29dd0727",
   "metadata": {},
   "source": [
    "## Look up terms"
   ]
  },
  {
   "cell_type": "markdown",
   "id": "e23e91a0",
   "metadata": {},
   "source": [
    "As for registries, terms can be looked up with auto-complete:"
   ]
  },
  {
   "cell_type": "code",
   "execution_count": null,
   "id": "2c97c491",
   "metadata": {},
   "outputs": [],
   "source": [
    "lookup = celltypes.lookup()"
   ]
  },
  {
   "cell_type": "markdown",
   "id": "c17ef2a5",
   "metadata": {},
   "source": [
    "The `.` accessor provides normalized terms (lower case, only contains alphanumeric characters and underscores):"
   ]
  },
  {
   "cell_type": "code",
   "execution_count": null,
   "id": "fdb203c4",
   "metadata": {},
   "outputs": [],
   "source": [
    "lookup.cd8_positive_alpha_beta_t_cell"
   ]
  },
  {
   "cell_type": "markdown",
   "id": "4bce32e8",
   "metadata": {},
   "source": [
    "To look up the exact original strings, convert the lookup object to dict and use the `[]` accessor:"
   ]
  },
  {
   "cell_type": "code",
   "execution_count": null,
   "id": "3c5c5ef1",
   "metadata": {},
   "outputs": [],
   "source": [
    "lookup_dict = lookup.dict()\n",
    "lookup_dict[\"CD8-positive, alpha-beta T cell\"]"
   ]
  },
  {
   "cell_type": "markdown",
   "id": "d92bf4db",
   "metadata": {},
   "source": [
    "By default, the `name` field is used to generate lookup keys. You can specify another field to look up:"
   ]
  },
  {
   "cell_type": "code",
   "execution_count": null,
   "id": "bdb0f2b4",
   "metadata": {},
   "outputs": [],
   "source": [
    "lookup = celltypes.lookup(celltypes.ontology_id)"
   ]
  },
  {
   "cell_type": "code",
   "execution_count": null,
   "id": "911397cf",
   "metadata": {},
   "outputs": [],
   "source": [
    "lookup.cl_0000625"
   ]
  },
  {
   "cell_type": "markdown",
   "id": "fa105c33",
   "metadata": {},
   "source": [
    "## Search terms"
   ]
  },
  {
   "cell_type": "markdown",
   "id": "b7a0ad0d",
   "metadata": {},
   "source": [
    "Search behaves in the same way as it does for registries:"
   ]
  },
  {
   "cell_type": "code",
   "execution_count": null,
   "id": "85f604e7",
   "metadata": {},
   "outputs": [],
   "source": [
    "celltypes.search(\"CD8 positive T cell\").head(3)"
   ]
  },
  {
   "cell_type": "markdown",
   "id": "832bca80",
   "metadata": {},
   "source": [
    "By default, search also covers synonyms:"
   ]
  },
  {
   "cell_type": "code",
   "execution_count": null,
   "id": "0f3d2bcd",
   "metadata": {},
   "outputs": [],
   "source": [
    "celltypes.search(\"Tc1 T lymphocyte\").head(3)"
   ]
  },
  {
   "cell_type": "markdown",
   "id": "7dc9e78f",
   "metadata": {},
   "source": [
    "You can turn this off synonym by passing `synonyms_field=None`:"
   ]
  },
  {
   "cell_type": "code",
   "execution_count": null,
   "id": "935e652b",
   "metadata": {},
   "outputs": [],
   "source": [
    "celltypes.search(\"Tc1 T lymphocyte\", synonyms_field=None).head(3)"
   ]
  },
  {
   "cell_type": "markdown",
   "id": "9bafeaef",
   "metadata": {},
   "source": [
    "Search another field (default is `.name`):"
   ]
  },
  {
   "cell_type": "code",
   "execution_count": null,
   "id": "6ed5970b",
   "metadata": {},
   "outputs": [],
   "source": [
    "celltypes.search(\n",
    "    \"CD8 positive alpha beta T cell\",\n",
    "    field=celltypes.definition,\n",
    ").head()"
   ]
  },
  {
   "cell_type": "markdown",
   "id": "c1a7ab72",
   "metadata": {},
   "source": [
    "## Standardize CellType identifiers"
   ]
  },
  {
   "cell_type": "markdown",
   "id": "35735b06",
   "metadata": {},
   "source": [
    "Let us generate a `DataFrame` that stores a number of CellType identifiers, some of which corrupted:"
   ]
  },
  {
   "cell_type": "code",
   "execution_count": null,
   "id": "5eda9b87",
   "metadata": {},
   "outputs": [],
   "source": [
    "df_orig = pd.DataFrame(\n",
    "    index=[\n",
    "        \"Boettcher cell\"\n",
    "        \"bone marrow cell\"\n",
    "        \"interstitial cell of ovary\"\n",
    "        \"pancreatic ductal cell\"\n",
    "        \"This celltype does not exist\",\n",
    "    ]\n",
    ")\n",
    "df_orig"
   ]
  },
  {
   "cell_type": "markdown",
   "id": "389fb634",
   "metadata": {},
   "source": [
    "We can check whether any of our values are validated against the ontology reference:"
   ]
  },
  {
   "cell_type": "code",
   "execution_count": null,
   "id": "b32896b0",
   "metadata": {},
   "outputs": [],
   "source": [
    "validated = celltypes.validate(df_orig.index, celltypes.name)\n",
    "df_orig.index[~validated]"
   ]
  },
  {
   "cell_type": "markdown",
   "id": "d1e84f79",
   "metadata": {},
   "source": [
    "## Ontology source versions"
   ]
  },
  {
   "cell_type": "markdown",
   "id": "9b3322f0",
   "metadata": {},
   "source": [
    "For any given entity, we can choose from a number of versions:"
   ]
  },
  {
   "cell_type": "code",
   "execution_count": null,
   "id": "fac7f0df",
   "metadata": {},
   "outputs": [],
   "source": [
    "lb.PublicSource.filter(entity=\"CellType\").df()"
   ]
  },
  {
   "cell_type": "markdown",
   "id": "bfa81eb4",
   "metadata": {},
   "source": [
    "When instantiating a Bionty object, we can choose a source or version:"
   ]
  },
  {
   "cell_type": "code",
   "execution_count": null,
   "id": "20dc9b24",
   "metadata": {
    "lines_to_next_cell": 0
   },
   "outputs": [],
   "source": [
    "public_source = lb.PublicSource.filter(\n",
    "    source=\"cl\", version=\"2023-04-20\", organism=\"all\"\n",
    ").one()\n",
    "celltypes= lb.CellType.public(public_source=public_source)\n",
    "celltypes"
   ]
  },
  {
   "cell_type": "markdown",
   "id": "ea4f33dd",
   "metadata": {},
   "source": [
    "The currently used ontologies can be displayed using:"
   ]
  },
  {
   "cell_type": "code",
   "execution_count": null,
   "id": "da9cf360",
   "metadata": {
    "tags": [
     "hide-output"
    ]
   },
   "outputs": [],
   "source": [
    "lb.PublicSource.filter(currently_used=True).df()"
   ]
  },
  {
   "cell_type": "code",
   "execution_count": null,
   "id": "0d02f689",
   "metadata": {
    "tags": [
     "hide-cell"
    ]
   },
   "outputs": [],
   "source": [
    "!lamin delete --force test-celltype\n",
    "!rm -r test-celltype"
   ]
  }
 ],
 "metadata": {
  "kernelspec": {
   "display_name": "lamindb",
   "language": "python",
   "name": "python3"
  }
 },
 "nbformat": 4,
 "nbformat_minor": 5
}
