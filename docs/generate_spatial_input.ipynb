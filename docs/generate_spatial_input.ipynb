{
 "cells": [
  {
   "cell_type": "markdown",
   "metadata": {},
   "source": [
    "# Generate spatial guides datasets"
   ]
  },
  {
   "cell_type": "markdown",
   "metadata": {},
   "source": [
    "Here, we generate a small crop of a 10X Xenium and a 10X Visium H&E image dataset for our spatial guides.\n",
    "Both datasets are spatially aligned via an affine transformation.\n",
    "\n",
    "The datasets were originally obtained via:\n",
    "1. Visium: https://s3.embl.de/spatialdata/spatialdata-sandbox/visium_associated_xenium_io_aligned.zip\n",
    "2. Xenium 1: https://s3.embl.de/spatialdata/spatialdata-sandbox/xenium_rep1_io_aligned.zip\n",
    "3. Xenium 2: https://s3.embl.de/spatialdata/spatialdata-sandbox/xenium_rep2_io_aligned.zip\n",
    "\n",
    "They can also be found at https://spatialdata.scverse.org/en/latest/tutorials/notebooks/datasets/README.html.\n",
    "\n",
    "The original associated publication is Janesick, A., Shelansky, R., Gottscho, A.D. et al. High resolution mapping of the tumor microenvironment using integrated single-cell, spatial and in situ analysis. Nat Commun 14, 8353 (2023). [https://doi.org/10.1038/s41467-023-43458-x](https://doi.org/10.1038/s41467-023-43458-x)."
   ]
  },
  {
   "cell_type": "markdown",
   "metadata": {},
   "source": [
    "The authors explored tissue heterogeneity in FFPE human breast cancer sections, identifying distinct tumor regions and rare boundary cells at the myoepithelial border confining malignant cells by generating Visium and Xenium spatial omics data.\n",
    "This approach revealed molecular differences between tumor regions and identified biomarkers involved in progression toward invasive carcinoma.\n",
    "\n",
    "Visium provided whole transcriptome spatial data with spot-based resolution, allowing researchers to identify the general territories of different cell types and delineate three distinct tumor domains including two molecularly distinct DCIS types and invasive tumor.\n",
    "Xenium delivered subcellular spatial resolution for 313 targeted genes, enabling precise mapping of transcripts to individual cells and revealing rare cell populations at tumor boundaries that would be undetectable with lower-resolution technologies."
   ]
  },
  {
   "cell_type": "code",
   "execution_count": null,
   "metadata": {},
   "outputs": [],
   "source": [
    "!lamin connect laminlabs/lamindata"
   ]
  },
  {
   "cell_type": "code",
   "execution_count": null,
   "metadata": {},
   "outputs": [],
   "source": [
    "import lamindb as ln\n",
    "import spatialdata as sd\n",
    "\n",
    "import warnings\n",
    "\n",
    "warnings.filterwarnings(\"ignore\")\n",
    "\n",
    "ln.track()"
   ]
  },
  {
   "cell_type": "code",
   "execution_count": null,
   "metadata": {},
   "outputs": [],
   "source": [
    "visium_sd = sd.read_zarr(\"visium_aligned.zarr\")\n",
    "xenium_1_sd = sd.read_zarr(\"xenium_1_aligned.zarr\")\n",
    "xenium_2_sd = sd.read_zarr(\"xenium_2_aligned.zarr\")\n",
    "\n",
    "merged_sd = merged = sd.SpatialData(\n",
    "    images={\n",
    "        \"CytAssist_FFPE_Human_Breast_Cancer_full_image\": visium_sd.images[\n",
    "            \"CytAssist_FFPE_Human_Breast_Cancer_full_image\"\n",
    "        ],\n",
    "    },\n",
    "    shapes={\n",
    "        \"cell_circles\": xenium_1_sd.shapes[\"cell_circles\"],\n",
    "        \"cell_boundaries\": xenium_1_sd.shapes[\"cell_boundaries\"],\n",
    "    },\n",
    "    tables={\"table\": xenium_1_sd[\"table\"]},\n",
    ")"
   ]
  },
  {
   "cell_type": "code",
   "execution_count": null,
   "metadata": {},
   "outputs": [],
   "source": [
    "# Add sample level metadata\n",
    "sdata_to_assay = {\n",
    "    visium_sd: \"Visium Spatial Gene Expression\",\n",
    "    xenium_1_sd: \"10x Xenium\",\n",
    "    xenium_2_sd: \"10x Xenium\",\n",
    "    merged_sd: \"spatial transcriptomics\",\n",
    "}\n",
    "for sdata, assay in sdata_to_assay.items():\n",
    "    sdata.attrs[\"sample\"] = {\n",
    "        \"assay\": assay,\n",
    "        \"disease\": \"ductal breast carcinoma in situ\",\n",
    "        \"tissue\": \"breast\",\n",
    "        \"organism\": \"human\",\n",
    "    }\n",
    "    if \"Xenium\" in assay:\n",
    "        sdata.attrs[\"sample\"][\"panel\"] = \"Xenium Human Breast Panel\"\n",
    "\n",
    "    sdata.table.var = sdata.table.var.reset_index().set_index(\"gene_ids\")\n",
    "    sdata.table.var = sdata.table.var.rename(columns={\"index\": \"symbols\"})"
   ]
  },
  {
   "cell_type": "code",
   "execution_count": null,
   "metadata": {},
   "outputs": [],
   "source": [
    "visium_sd_af = ln.Artifact.from_spatialdata(\n",
    "    visium_sd, key=\"full_visium_guide.zarr\"\n",
    ").save(store_kwargs={\"batch_size\": 64})\n",
    "xenium_1_sd_af = ln.Artifact.from_spatialdata(\n",
    "    xenium_1_sd, key=\"full_xenium_1_guide.zarr\"\n",
    ").save(store_kwargs={\"batch_size\": 64})\n",
    "xenium_2_sd_af = ln.Artifact.from_spatialdata(\n",
    "    xenium_2_sd, key=\"full_xenium_2_guide.zarr\"\n",
    ").save(store_kwargs={\"batch_size\": 64})\n",
    "merged_af = ln.Artifact.from_spatialdata(merged_sd, key=\"merged_guide.zarr\").save(\n",
    "    store_kwargs={\"batch_size\": 64}\n",
    ")"
   ]
  },
  {
   "cell_type": "code",
   "execution_count": null,
   "metadata": {},
   "outputs": [],
   "source": [
    "# write explicitly to disk to ensure that the SpatialData is self contained\n",
    "# ignore the warning which is misleading\n",
    "sdata_to_name = {\n",
    "    visium_sd: \"visium_aligned_guide_min.zarr\",\n",
    "    xenium_1_sd: \"xenium_aligned_1_guide_min.zarr\",\n",
    "    xenium_2_sd: \"xenium_aligned_2_guide_min.zarr\",\n",
    "    merged_sd: \"merged_guide_min.zarr\",\n",
    "}\n",
    "\n",
    "min_coordinate = [12790, 12194]\n",
    "max_coordinate = [15100, 15221]\n",
    "for sdata, path in sdata_to_name.items():\n",
    "    min_sdata = sdata.query.bounding_box(\n",
    "        min_coordinate=min_coordinate,\n",
    "        max_coordinate=max_coordinate,\n",
    "        axes=[\"y\", \"x\"],\n",
    "        target_coordinate_system=\"aligned\",\n",
    "    )\n",
    "    min_sdata.write(path, overwrite=True)"
   ]
  },
  {
   "cell_type": "code",
   "execution_count": null,
   "metadata": {},
   "outputs": [],
   "source": [
    "for path in sdata_to_name.values():\n",
    "    af = ln.Artifact.from_spatialdata(path, key=path).save()"
   ]
  },
  {
   "cell_type": "code",
   "execution_count": null,
   "metadata": {},
   "outputs": [],
   "source": [
    "ln.finish()"
   ]
  }
 ],
 "metadata": {
  "kernelspec": {
   "display_name": "lamindb",
   "language": "python",
   "name": "python3"
  },
  "language_info": {
   "codemirror_mode": {
    "name": "ipython",
    "version": 3
   },
   "file_extension": ".py",
   "mimetype": "text/x-python",
   "name": "python",
   "nbconvert_exporter": "python",
   "pygments_lexer": "ipython3",
   "version": "3.12.8"
  }
 },
 "nbformat": 4,
 "nbformat_minor": 2
}
