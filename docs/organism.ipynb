{
 "cells": [
  {
   "cell_type": "markdown",
   "id": "1fa4c49f",
   "metadata": {},
   "source": [
    "# Organism"
   ]
  },
  {
   "cell_type": "markdown",
   "id": "0b8c82d8",
   "metadata": {},
   "source": [
    "lamindb provides access to the following public protein ontologies through [lnschema-bionty](https://github.com/laminlabs/lnschema-bionty):\n",
    "\n",
    "1. [Ensembl Species](https://useast.ensembl.org/info/about/species.html)\n",
    "2. [NCBI Taxonomy](https://www.ncbi.nlm.nih.gov/taxonomy)\n",
    "\n",
    "Here we show how to access and search Organism ontologies to standardize new data."
   ]
  },
  {
   "cell_type": "markdown",
   "id": "ba81584f",
   "metadata": {},
   "source": [
    "## Setup"
   ]
  },
  {
   "cell_type": "code",
   "execution_count": null,
   "id": "72f57027",
   "metadata": {},
   "outputs": [],
   "source": [
    "!lamin init --storage ./test-organism --schema bionty"
   ]
  },
  {
   "cell_type": "code",
   "execution_count": null,
   "id": "90a309e8",
   "metadata": {},
   "outputs": [],
   "source": [
    "import lnschema_bionty as lb\n",
    "import pandas as pd"
   ]
  },
  {
   "cell_type": "markdown",
   "id": "1b07b3e5",
   "metadata": {},
   "source": [
    "## PublicOntology objects"
   ]
  },
  {
   "cell_type": "markdown",
   "id": "2c752389",
   "metadata": {},
   "source": [
    "Let us create a public ontology accessor with {meth}`~docs:lnschema_bionty.dev.BioRegistry.public`, which chooses a default public ontology source from {class}`~docs:lnschema_bionty.PublicSource`.\n",
    "It's a [PublicOntology](https://lamin.ai/docs/lnschema_bionty.dev.publicontology) object, which you can think about as a public registry:"
   ]
  },
  {
   "cell_type": "code",
   "execution_count": null,
   "id": "9e4440a5",
   "metadata": {},
   "outputs": [],
   "source": [
    "organisms = lb.Organism.public(organism=\"vertebrates\")\n",
    "organisms"
   ]
  },
  {
   "cell_type": "markdown",
   "id": "dfcad40d",
   "metadata": {},
   "source": [
    "As for registries, you can export the ontology as a `DataFrame`:"
   ]
  },
  {
   "cell_type": "code",
   "execution_count": null,
   "id": "403cd78a",
   "metadata": {},
   "outputs": [],
   "source": [
    "df = organisms.df()\n",
    "df.head()"
   ]
  },
  {
   "cell_type": "markdown",
   "id": "1ca52ef9",
   "metadata": {},
   "source": [
    "Unlike registries, you can also export it as a Pronto object via `public.ontology`."
   ]
  },
  {
   "cell_type": "markdown",
   "id": "f883151f",
   "metadata": {},
   "source": [
    "## Look up terms"
   ]
  },
  {
   "cell_type": "markdown",
   "id": "404df35a",
   "metadata": {},
   "source": [
    "As for registries, terms can be looked up with auto-complete:"
   ]
  },
  {
   "cell_type": "code",
   "execution_count": null,
   "id": "e3b4f1d9",
   "metadata": {},
   "outputs": [],
   "source": [
    "lookup = organisms.lookup()"
   ]
  },
  {
   "cell_type": "markdown",
   "id": "8a6ccf73",
   "metadata": {},
   "source": [
    "The `.` accessor provides normalized terms (lower case, only contains alphanumeric characters and underscores):"
   ]
  },
  {
   "cell_type": "code",
   "execution_count": null,
   "id": "76ef55cd",
   "metadata": {},
   "outputs": [],
   "source": [
    "lookup.giant_panda"
   ]
  },
  {
   "cell_type": "markdown",
   "id": "24aa31e7",
   "metadata": {},
   "source": [
    "To look up the exact original strings, convert the lookup object to dict and use the `[]` accessor:"
   ]
  },
  {
   "cell_type": "code",
   "execution_count": null,
   "id": "1e49d81a",
   "metadata": {},
   "outputs": [],
   "source": [
    "lookup_dict = lookup.dict()\n",
    "lookup_dict[\"giant panda\"]"
   ]
  },
  {
   "cell_type": "markdown",
   "id": "670f2261",
   "metadata": {},
   "source": [
    "By default, the `name` field is used to generate lookup keys. You can specify another field to look up:"
   ]
  },
  {
   "cell_type": "code",
   "execution_count": null,
   "id": "d6d7d0b9",
   "metadata": {},
   "outputs": [],
   "source": [
    "lookup = organisms.lookup(organisms.scientific_name)"
   ]
  },
  {
   "cell_type": "code",
   "execution_count": null,
   "id": "b2ea0b9b",
   "metadata": {},
   "outputs": [],
   "source": [
    "lookup.ailuropoda_melanoleuca"
   ]
  },
  {
   "cell_type": "markdown",
   "id": "9c83fae8",
   "metadata": {},
   "source": [
    "## Search terms"
   ]
  },
  {
   "cell_type": "markdown",
   "id": "bd3f7c1d",
   "metadata": {},
   "source": [
    "Search behaves in the same way as it does for registries:"
   ]
  },
  {
   "cell_type": "code",
   "execution_count": null,
   "id": "f3ee777b",
   "metadata": {},
   "outputs": [],
   "source": [
    "organisms.search(\"rabbit\").head(3)"
   ]
  },
  {
   "cell_type": "markdown",
   "id": "8243e40e",
   "metadata": {},
   "source": [
    "By default, search also covers synonyms:"
   ]
  },
  {
   "cell_type": "code",
   "execution_count": null,
   "id": "95d7dcd7",
   "metadata": {},
   "outputs": [],
   "source": [
    "organisms.search(\"sapiens\").head(3)"
   ]
  },
  {
   "cell_type": "markdown",
   "id": "a8f5e8b5",
   "metadata": {},
   "source": [
    "You can turn this off synonym by passing `synonyms_field=None`:"
   ]
  },
  {
   "cell_type": "code",
   "execution_count": null,
   "id": "30f8e64c",
   "metadata": {},
   "outputs": [],
   "source": [
    "organisms.search(\"sapiens\", synonyms_field=None).head(3)"
   ]
  },
  {
   "cell_type": "markdown",
   "id": "94111dbc",
   "metadata": {},
   "source": [
    "Search another field (default is `.name`):"
   ]
  },
  {
   "cell_type": "code",
   "execution_count": null,
   "id": "2884b366",
   "metadata": {},
   "outputs": [],
   "source": [
    "organisms.search(\n",
    "    \"oryctolagus_cuniculus\",\n",
    "    field=organisms.scientific_name,\n",
    ").head()"
   ]
  },
  {
   "cell_type": "markdown",
   "id": "ba3ae08d",
   "metadata": {},
   "source": [
    "## Standardize Organism identifiers"
   ]
  },
  {
   "cell_type": "markdown",
   "id": "9cb3259e",
   "metadata": {},
   "source": [
    "Let us generate a `DataFrame` that stores a number of Organism identifiers, some of which corrupted:"
   ]
  },
  {
   "cell_type": "code",
   "execution_count": null,
   "id": "a3d76f5f",
   "metadata": {},
   "outputs": [],
   "source": [
    "df_orig = pd.DataFrame(\n",
    "    index=[\n",
    "        \"spiny chromis\"\n",
    "        \"silver-eye\"\n",
    "        \"platyfish\"\n",
    "        \"california sea lion\"\n",
    "        \"This organism does not exist\",\n",
    "    ]\n",
    ")\n",
    "df_orig"
   ]
  },
  {
   "cell_type": "markdown",
   "id": "e34e8477",
   "metadata": {},
   "source": [
    "We can check whether any of our values are validated against the ontology reference:"
   ]
  },
  {
   "cell_type": "code",
   "execution_count": null,
   "id": "0503f586",
   "metadata": {},
   "outputs": [],
   "source": [
    "validated = organisms.validate(df_orig.index, organisms.name)\n",
    "df_orig.index[~validated]"
   ]
  },
  {
   "cell_type": "markdown",
   "id": "76917a02",
   "metadata": {},
   "source": [
    "## Ontology source versions"
   ]
  },
  {
   "cell_type": "markdown",
   "id": "83f9a35b",
   "metadata": {},
   "source": [
    "For any given entity, we can choose from a number of versions:"
   ]
  },
  {
   "cell_type": "code",
   "execution_count": null,
   "id": "ec025ee5",
   "metadata": {},
   "outputs": [],
   "source": [
    "lb.PublicSource.filter(entity=\"Organism\").df()"
   ]
  },
  {
   "cell_type": "markdown",
   "id": "4eb5e886",
   "metadata": {},
   "source": [
    "When instantiating a Bionty object, we can choose a source or version:"
   ]
  },
  {
   "cell_type": "code",
   "execution_count": null,
   "id": "d1d6b8cc",
   "metadata": {
    "lines_to_next_cell": 0
   },
   "outputs": [],
   "source": [
    "public_source = lb.PublicSource.filter(\n",
    "    source=\"ensembl\", version=\"release-110\", organism=\"vertebrates\"\n",
    ").one()\n",
    "organisms= lb.Organism.public(public_source=public_source)\n",
    "organisms"
   ]
  },
  {
   "cell_type": "markdown",
   "id": "e254cc05",
   "metadata": {},
   "source": [
    "The currently used ontologies can be displayed using:"
   ]
  },
  {
   "cell_type": "code",
   "execution_count": null,
   "id": "6da5c590",
   "metadata": {
    "tags": [
     "hide-output"
    ]
   },
   "outputs": [],
   "source": [
    "lb.PublicSource.filter(currently_used=True).df()"
   ]
  },
  {
   "cell_type": "code",
   "execution_count": null,
   "id": "8e04001f",
   "metadata": {
    "tags": [
     "hide-cell"
    ]
   },
   "outputs": [],
   "source": [
    "!lamin delete --force test-organism\n",
    "!rm -r test-organism"
   ]
  }
 ],
 "metadata": {
  "kernelspec": {
   "display_name": "lamindb",
   "language": "python",
   "name": "python3"
  }
 },
 "nbformat": 4,
 "nbformat_minor": 5
}
