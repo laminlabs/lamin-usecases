{
 "cells": [
  {
   "cell_type": "markdown",
   "id": "1242ebba",
   "metadata": {},
   "source": [
    "# Organism"
   ]
  },
  {
   "cell_type": "markdown",
   "id": "a8d9cfe8",
   "metadata": {},
   "source": [
    "lamindb provides access to the following public protein ontologies through [bionty](https://lamin.ai/docs/bionty):\n",
    "\n",
    "1. [Ensembl Species](https://useast.ensembl.org/info/about/species.html)\n",
    "2. [NCBI Taxonomy](https://www.ncbi.nlm.nih.gov/taxonomy)\n",
    "\n",
    "Here we show how to access and search Organism ontologies to standardize new data."
   ]
  },
  {
   "cell_type": "code",
   "execution_count": null,
   "id": "861ad9ef",
   "metadata": {},
   "outputs": [],
   "source": [
    "import bionty as bt\n",
    "import pandas as pd"
   ]
  },
  {
   "cell_type": "markdown",
   "id": "82ff126c",
   "metadata": {},
   "source": [
    "## PublicOntology objects"
   ]
  },
  {
   "cell_type": "markdown",
   "id": "88d9bf4f",
   "metadata": {},
   "source": [
    "Let us create a public ontology accessor with `.public` method, which chooses a default public ontology source from {class}`~docs:bionty.PublicSource`.\n",
    "It's a [PublicOntology](https://lamin.ai/docs/bionty.dev.publicontology) object, which you can think about as a public registry:"
   ]
  },
  {
   "cell_type": "code",
   "execution_count": null,
   "id": "38c24678",
   "metadata": {},
   "outputs": [],
   "source": [
    "organisms = bt.Organism.public(organism=\"vertebrates\")\n",
    "organisms"
   ]
  },
  {
   "cell_type": "markdown",
   "id": "cbccf2cc",
   "metadata": {},
   "source": [
    "As for registries, you can export the ontology as a `DataFrame`:"
   ]
  },
  {
   "cell_type": "code",
   "execution_count": null,
   "id": "46a2ceaf",
   "metadata": {},
   "outputs": [],
   "source": [
    "df = organisms.df()\n",
    "df.head()"
   ]
  },
  {
   "cell_type": "markdown",
   "id": "2d3b9583",
   "metadata": {},
   "source": [
    "Unlike registries, you can also export it as a Pronto object via `public.ontology`."
   ]
  },
  {
   "cell_type": "markdown",
   "id": "8a592500",
   "metadata": {},
   "source": [
    "## Look up terms"
   ]
  },
  {
   "cell_type": "markdown",
   "id": "e550f9ce",
   "metadata": {},
   "source": [
    "As for registries, terms can be looked up with auto-complete:"
   ]
  },
  {
   "cell_type": "code",
   "execution_count": null,
   "id": "7e3706e1",
   "metadata": {},
   "outputs": [],
   "source": [
    "lookup = organisms.lookup()"
   ]
  },
  {
   "cell_type": "markdown",
   "id": "f3e376cd",
   "metadata": {},
   "source": [
    "The `.` accessor provides normalized terms (lower case, only contains alphanumeric characters and underscores):"
   ]
  },
  {
   "cell_type": "code",
   "execution_count": null,
   "id": "5c894e44",
   "metadata": {},
   "outputs": [],
   "source": [
    "lookup.giant_panda"
   ]
  },
  {
   "cell_type": "markdown",
   "id": "5b46abe1",
   "metadata": {},
   "source": [
    "To look up the exact original strings, convert the lookup object to dict and use the `[]` accessor:"
   ]
  },
  {
   "cell_type": "code",
   "execution_count": null,
   "id": "4a399bb9",
   "metadata": {},
   "outputs": [],
   "source": [
    "lookup_dict = lookup.dict()\n",
    "lookup_dict[\"giant panda\"]"
   ]
  },
  {
   "cell_type": "markdown",
   "id": "0f63a4d2",
   "metadata": {},
   "source": [
    "By default, the `name` field is used to generate lookup keys. You can specify another field to look up:"
   ]
  },
  {
   "cell_type": "code",
   "execution_count": null,
   "id": "102d8791",
   "metadata": {},
   "outputs": [],
   "source": [
    "lookup = organisms.lookup(organisms.scientific_name)"
   ]
  },
  {
   "cell_type": "code",
   "execution_count": null,
   "id": "8bfdf632",
   "metadata": {},
   "outputs": [],
   "source": [
    "lookup.ailuropoda_melanoleuca"
   ]
  },
  {
   "cell_type": "markdown",
   "id": "5cc5da12",
   "metadata": {},
   "source": [
    "## Search terms"
   ]
  },
  {
   "cell_type": "markdown",
   "id": "ffa7de6e",
   "metadata": {},
   "source": [
    "Search behaves in the same way as it does for registries:"
   ]
  },
  {
   "cell_type": "code",
   "execution_count": null,
   "id": "eeca7774",
   "metadata": {},
   "outputs": [],
   "source": [
    "organisms.search(\"rabbit\").head(3)"
   ]
  },
  {
   "cell_type": "markdown",
   "id": "6f76435d",
   "metadata": {},
   "source": [
    "By default, search also covers synonyms:"
   ]
  },
  {
   "cell_type": "code",
   "execution_count": null,
   "id": "86f44ce7",
   "metadata": {},
   "outputs": [],
   "source": [
    "organisms.search(\"sapiens\").head(3)"
   ]
  },
  {
   "cell_type": "markdown",
   "id": "eb783d2e",
   "metadata": {},
   "source": [
    "You can turn this off synonym by passing `synonyms_field=None`:"
   ]
  },
  {
   "cell_type": "code",
   "execution_count": null,
   "id": "c1908e05",
   "metadata": {},
   "outputs": [],
   "source": [
    "organisms.search(\"sapiens\", synonyms_field=None).head(3)"
   ]
  },
  {
   "cell_type": "markdown",
   "id": "1d7f2864",
   "metadata": {},
   "source": [
    "Search another field (default is `.name`):"
   ]
  },
  {
   "cell_type": "code",
   "execution_count": null,
   "id": "dafcbfa4",
   "metadata": {},
   "outputs": [],
   "source": [
    "organisms.search(\n",
    "    \"oryctolagus_cuniculus\",\n",
    "    field=organisms.scientific_name,\n",
    ").head()"
   ]
  },
  {
   "cell_type": "markdown",
   "id": "ef3957b4",
   "metadata": {},
   "source": [
    "## Standardize Organism identifiers"
   ]
  },
  {
   "cell_type": "markdown",
   "id": "b194d8f8",
   "metadata": {},
   "source": [
    "Let us generate a `DataFrame` that stores a number of Organism identifiers, some of which corrupted:"
   ]
  },
  {
   "cell_type": "code",
   "execution_count": null,
   "id": "4a818199",
   "metadata": {},
   "outputs": [],
   "source": [
    "df_orig = pd.DataFrame(\n",
    "    index=[\n",
    "        \"spiny chromis\",\n",
    "        \"silver-eye\",\n",
    "        \"platyfish\",\n",
    "        \"california sea lion\",\n",
    "        \"This organism does not exist\",\n",
    "    ]\n",
    ")\n",
    "df_orig"
   ]
  },
  {
   "cell_type": "markdown",
   "id": "2f3e89a0",
   "metadata": {},
   "source": [
    "We can check whether any of our values are validated against the ontology reference:"
   ]
  },
  {
   "cell_type": "code",
   "execution_count": null,
   "id": "861a94e5",
   "metadata": {},
   "outputs": [],
   "source": [
    "validated = organisms.validate(df_orig.index, organisms.name)\n",
    "df_orig.index[~validated]"
   ]
  },
  {
   "cell_type": "markdown",
   "id": "abdaeef1",
   "metadata": {},
   "source": [
    "## Ontology source versions"
   ]
  },
  {
   "cell_type": "markdown",
   "id": "18111a6a",
   "metadata": {},
   "source": [
    "For any given entity, we can choose from a number of versions:"
   ]
  },
  {
   "cell_type": "code",
   "execution_count": null,
   "id": "4829637e",
   "metadata": {},
   "outputs": [],
   "source": [
    "bt.PublicSource.filter(entity=\"Organism\").df()"
   ]
  },
  {
   "cell_type": "markdown",
   "id": "f636f5f4",
   "metadata": {},
   "source": [
    "When instantiating a Bionty object, we can choose a source or version:"
   ]
  },
  {
   "cell_type": "code",
   "execution_count": null,
   "id": "d1fcf22f",
   "metadata": {
    "lines_to_next_cell": 0
   },
   "outputs": [],
   "source": [
    "public_source = bt.PublicSource.filter(\n",
    "    source=\"ensembl\", version=\"release-110\", organism=\"vertebrates\"\n",
    ").one()\n",
    "organisms= bt.Organism.public(public_source=public_source)\n",
    "organisms"
   ]
  },
  {
   "cell_type": "markdown",
   "id": "f27acdd3",
   "metadata": {},
   "source": [
    "The currently used ontologies can be displayed using:"
   ]
  },
  {
   "cell_type": "code",
   "execution_count": null,
   "id": "7bbe37bc",
   "metadata": {
    "tags": [
     "hide-output"
    ]
   },
   "outputs": [],
   "source": [
    "bt.PublicSource.filter(currently_used=True).df()"
   ]
  }
 ],
 "metadata": {
  "kernelspec": {
   "display_name": "lamindb",
   "language": "python",
   "name": "python3"
  }
 },
 "nbformat": 4,
 "nbformat_minor": 5
}
