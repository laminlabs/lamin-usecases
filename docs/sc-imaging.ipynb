{
 "cells": [
  {
   "cell_type": "markdown",
   "id": "0",
   "metadata": {},
   "source": [
    "![imaging1/4](https://img.shields.io/badge/imaging1/4-lightgrey)\n",
    "[![Jupyter Notebook](https://img.shields.io/badge/Source%20on%20GitHub-orange)](https://github.com/laminlabs/lamin-usecases/blob/main/docs/imaging.ipynb)"
   ]
  },
  {
   "cell_type": "markdown",
   "id": "1",
   "metadata": {},
   "source": [
    "# sc-imaging"
   ]
  },
  {
   "cell_type": "markdown",
   "id": "2",
   "metadata": {},
   "source": [
    "Here, you will learn how to structure, featurize, and make a large imaging collection queryable for large-scale machine learning:\n",
    "\n",
    "1. Load and annotate a {class}`~lamindb.Collection` of microscopy images (![sc-imaging/4](https://img.shields.io/badge/imaging1/4-lightgrey))\n",
    "2. Generate single-cell images ([![sc-imaging2/4](https://img.shields.io/badge/imaging2/4-lightgrey)](/sc-imaging4))\n",
    "3. Featurize single-cell images ([![sc-imaging3/4](https://img.shields.io/badge/imaging3/6-lightgrey)](/sc-imaging4))\n",
    "4. Train model to identify autophagy positive cells ([![sc-imaging4/4](https://img.shields.io/badge/imaging4/4-lightgrey)](/sc-imaging4))\n",
    "\n",
    "\n",
    "```{toctree}\n",
    ":maxdepth: 1\n",
    ":hidden:\n",
    "\n",
    "sc-imaging2\n",
    "sc-imaging3\n",
    "sc-imaging4\n",
    "```"
   ]
  },
  {
   "cell_type": "markdown",
   "id": "3",
   "metadata": {},
   "source": [
    "First, we load and annotate a collection of microscopy images in TIFF format that [was previously uploaded](https://lamin.ai/scportrait/examples/transform/asoq6WyPequ8?).\n",
    "\n",
    "The images used here were acquired as part of a [study](https://www.google.com/url?sa=t&source=web&rct=j&opi=89978449&url=https://www.biorxiv.org/content/10.1101/2023.06.01.542416v1&ved=2ahUKEwj3m56hs52LAxWxRfEDHQZwKZ8QFnoECBIQAQ&usg=AOvVaw04HsGDIPcIPr1ldblXuh0Z) on autophagy, a cellular process during which cells recycle their components in autophagosomes. The study tracked genetic determinants of autophagy through fluorescence microscopy of human U2OS cells."
   ]
  },
  {
   "cell_type": "code",
   "execution_count": null,
   "id": "4",
   "metadata": {
    "tags": [
     "hide-output"
    ]
   },
   "outputs": [],
   "source": [
    "# pip install 'lamindb[jupyter,bionty]'\n",
    "!lamin init --storage ./test-sc-imaging --modules bionty"
   ]
  },
  {
   "cell_type": "code",
   "execution_count": null,
   "id": "5",
   "metadata": {
    "tags": [
     "hide-output"
    ]
   },
   "outputs": [],
   "source": [
    "import lamindb as ln\n",
    "import bionty as bt\n",
    "from tifffile import imread\n",
    "import matplotlib.pyplot as plt\n",
    "\n",
    "ln.track()"
   ]
  },
  {
   "cell_type": "markdown",
   "id": "6",
   "metadata": {},
   "source": [
    "All image metadata is stored in an already ingested `.csv` file on the `scportrait/examples` instance."
   ]
  },
  {
   "cell_type": "code",
   "execution_count": null,
   "id": "7",
   "metadata": {
    "tags": [
     "hide-output"
    ]
   },
   "outputs": [],
   "source": [
    "metadata_files = (\n",
    "    ln.Artifact.using(\"scportrait/examples\")\n",
    "    .get(key=\"input_data_imaging_usecase/metadata_files.csv\")\n",
    "    .load()\n",
    ")\n",
    "\n",
    "metadata_files.head(2)"
   ]
  },
  {
   "cell_type": "code",
   "execution_count": null,
   "id": "8",
   "metadata": {
    "tags": [
     "hide-output"
    ]
   },
   "outputs": [],
   "source": [
    "metadata_files.apply(lambda col: col.unique())"
   ]
  },
  {
   "cell_type": "markdown",
   "id": "9",
   "metadata": {},
   "source": [
    "All images are of the same cell line (U2OS), which have been imaged on an Opera Phenix microscope at 20X magnification.\n",
    "To induce autophagy, the cells have either been treated with `Torin-1`, a small molecule that mimics starvation, for 14 hours, or left untreated as a control.\n",
    "\n",
    "To visualize the process of autophagosome formation, the U2OS cells have been genetically engineered to express fluorescently tagged proteins.\n",
    "`LC3B` is a  marker of autophagosomes, allowing us to visualize their formation in the mCherry channel.\n",
    "`LckLip` is a membrane-targeted fluorescent protein, which helps outline the cellular boundaries of individual cells in the `Alexa488` channel.\n",
    "Furthermore, the cells’ DNA was stained using `Hoechst`, which we can visualize in the `DAPI` channel to identify the nuclei of individual cells.\n",
    "\n",
    "These three structures are visualized in three separate image channels:\n",
    "\n",
    "| Channel | Imaged Structure   |\n",
    "|---------|--------------------|\n",
    "| 1       | DNA                |\n",
    "| 2       | Autophagosomes     |\n",
    "| 3       | Plasma Membrane    |\n",
    "\n",
    "In addition to expressing fluorescently tagged proteins, some of the cells have had the `EI24` gene knocked out, leading to two different genotypes: `WT` (wild-type) cells and `EI24KO` (knockout) cells.\n",
    "For each genotype, two different clonal cell lines were analyzed, with multiple fields of view (FOVs) captured per condition.\n",
    "\n",
    "To enable queries on our images, we annotate them with the corresponding metadata."
   ]
  },
  {
   "cell_type": "code",
   "execution_count": null,
   "id": "10",
   "metadata": {
    "tags": [
     "hide-output"
    ]
   },
   "outputs": [],
   "source": [
    "autophagy_imaging_schema = ln.Schema(\n",
    "    name=\"Autophagy imaging schema\",\n",
    "    features=[\n",
    "        ln.Feature(name=\"genotype\", dtype=ln.ULabel.name).save(),\n",
    "        ln.Feature(name=\"stimulation\", dtype=ln.ULabel.name).save(),\n",
    "        ln.Feature(name=\"cell_line\", dtype=bt.CellLine.name).save(),\n",
    "        ln.Feature(name=\"cell_line_clone\", dtype=ln.ULabel.name).save(),\n",
    "        ln.Feature(name=\"channel\", dtype=ln.ULabel.name).save(),\n",
    "        ln.Feature(name=\"FOV\", dtype=ln.ULabel.name).save(),\n",
    "        ln.Feature(name=\"magnification\", dtype=ln.ULabel.name).save(),\n",
    "        ln.Feature(name=\"microscope\", dtype=ln.ULabel.name).save(),\n",
    "        ln.Feature(name=\"imaged structure\", dtype=ln.ULabel.name).save(),\n",
    "        ln.Feature(\n",
    "            name=\"resolution\", dtype=float, description=\"conversion factor for px to µm\"\n",
    "        ).save(),\n",
    "    ],\n",
    "    coerce_dtype=True,\n",
    ").save()"
   ]
  },
  {
   "cell_type": "code",
   "execution_count": null,
   "id": "11",
   "metadata": {
    "lines_to_next_cell": 2,
    "tags": [
     "hide-output"
    ]
   },
   "outputs": [],
   "source": [
    "curator = ln.curators.DataFrameCurator(metadata_files, autophagy_imaging_schema)\n",
    "try:\n",
    "    curator.validate()\n",
    "except ln.core.exceptions.ValidationError as e:\n",
    "    print(e)"
   ]
  },
  {
   "cell_type": "markdown",
   "id": "12",
   "metadata": {},
   "source": [
    "Add and standardize missing terms:"
   ]
  },
  {
   "cell_type": "code",
   "execution_count": null,
   "id": "13",
   "metadata": {
    "tags": [
     "hide-output"
    ]
   },
   "outputs": [],
   "source": [
    "curator.cat.standardize(\"cell_line\")\n",
    "curator.cat.add_new_from(\"all\")\n",
    "curator.validate()"
   ]
  },
  {
   "cell_type": "markdown",
   "id": "14",
   "metadata": {},
   "source": [
    "Add all images to our lamindb instance to annotate all relevant metadata."
   ]
  },
  {
   "cell_type": "code",
   "execution_count": null,
   "id": "15",
   "metadata": {
    "tags": [
     "hide-output"
    ]
   },
   "outputs": [],
   "source": [
    "# Create study feature and associated label\n",
    "ln.Feature(name=\"study\", dtype=ln.ULabel).save()\n",
    "ln.ULabel(name=\"autophagy imaging\").save()\n",
    "\n",
    "# loop through all Artifacts and add feature values\n",
    "artifacts = []\n",
    "for _, row in metadata_files.iterrows():\n",
    "    artifact = (\n",
    "        ln.Artifact.using(\"scportrait/examples\")\n",
    "        .filter(key__icontains=row[\"image_path\"])\n",
    "        .one()\n",
    "    )\n",
    "    artifact.save()\n",
    "    artifact.cell_lines.add(bt.CellLine.filter(name=row.cell_line).one())\n",
    "\n",
    "    artifact.features.add_values(\n",
    "        {\n",
    "            \"genotype\": row.genotype,\n",
    "            \"stimulation\": row.stimulation,\n",
    "            \"cell_line_clone\": row.cell_line_clone,\n",
    "            \"channel\": row.channel,\n",
    "            \"imaged structure\": row[\"imaged structure\"],\n",
    "            \"study\": \"autophagy imaging\",\n",
    "            \"FOV\": row.FOV,\n",
    "            \"magnification\": row.magnification,\n",
    "            \"microscope\": row.microscope,\n",
    "            \"resolution\": row.resolution,\n",
    "        }\n",
    "    )\n",
    "\n",
    "    artifacts.append(artifact)"
   ]
  },
  {
   "cell_type": "code",
   "execution_count": null,
   "id": "16",
   "metadata": {},
   "outputs": [],
   "source": [
    "artifacts[0].describe()"
   ]
  },
  {
   "cell_type": "markdown",
   "id": "17",
   "metadata": {},
   "source": [
    "In addition, we create a {class}`~lamindb.Collection` to hold all {class}`~lamindb.Artifact` that belong to this specific imaging study."
   ]
  },
  {
   "cell_type": "code",
   "execution_count": null,
   "id": "18",
   "metadata": {
    "tags": [
     "hide-output"
    ]
   },
   "outputs": [],
   "source": [
    "collection = ln.Collection(\n",
    "    artifacts,\n",
    "    key=\"Annotated autophagy imaging raw images\",\n",
    "    description=\"annotated microscopy images of cells stained for autophagy markers\",\n",
    ").save()"
   ]
  },
  {
   "cell_type": "markdown",
   "id": "19",
   "metadata": {},
   "source": [
    "Let's look at some example images where we match images from the same clone, stimulation condition, and FOV to ensure correct channel alignment."
   ]
  },
  {
   "cell_type": "code",
   "execution_count": null,
   "id": "20",
   "metadata": {},
   "outputs": [],
   "source": [
    "FOV_example_images = (\n",
    "    metadata_files.sort_values(by=[\"cell_line_clone\", \"stimulation\", \"FOV\"])\n",
    "    .head(3)\n",
    "    .reset_index(drop=True)\n",
    ")\n",
    "\n",
    "fig, axs = plt.subplots(1, 3, figsize=(15, 5))\n",
    "for idx, row in FOV_example_images.iterrows():\n",
    "    path = ln.Artifact.using(\"scportrait/examples\").get(key=row[\"image_path\"]).cache()\n",
    "    image = imread(path)\n",
    "    axs[idx].imshow(image)\n",
    "    axs[idx].set_title(f\"{row['imaged structure']}\")\n",
    "    axs[idx].axis(\"off\")\n",
    "\n",
    "FOV_example_images = (\n",
    "    metadata_files.sort_values(by=[\"cell_line_clone\", \"stimulation\", \"FOV\"])\n",
    "    .tail(3)\n",
    "    .reset_index(drop=True)\n",
    ")\n",
    "\n",
    "fig, axs = plt.subplots(1, 3, figsize=(15, 5))\n",
    "for idx, row in FOV_example_images.iterrows():\n",
    "    path = ln.Artifact.using(\"scportrait/examples\").get(key=row[\"image_path\"]).cache()\n",
    "    image = imread(path)\n",
    "    axs[idx].imshow(image)\n",
    "    axs[idx].set_title(f\"{row['imaged structure']}\")\n",
    "    axs[idx].axis(\"off\")"
   ]
  },
  {
   "cell_type": "code",
   "execution_count": null,
   "id": "21",
   "metadata": {
    "tags": [
     "hide-output"
    ]
   },
   "outputs": [],
   "source": [
    "ln.finish()"
   ]
  }
 ],
 "metadata": {
  "jupytext": {
   "cell_metadata_filter": "tags,-all",
   "main_language": "python",
   "notebook_metadata_filter": "-all"
  },
  "kernelspec": {
   "display_name": "lamindb",
   "language": "python",
   "name": "python3"
  },
  "language_info": {
   "codemirror_mode": {
    "name": "ipython",
    "version": 3
   },
   "file_extension": ".py",
   "mimetype": "text/x-python",
   "name": "python",
   "nbconvert_exporter": "python",
   "pygments_lexer": "ipython3",
   "version": "3.12.8"
  }
 },
 "nbformat": 4,
 "nbformat_minor": 5
}
