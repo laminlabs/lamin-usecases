{
 "cells": [
  {
   "cell_type": "markdown",
   "id": "0",
   "metadata": {},
   "source": [
    "![imaging1/4](https://img.shields.io/badge/imaging1/4-lightgrey)\n",
    "[![Jupyter Notebook](https://img.shields.io/badge/Source%20on%20GitHub-orange)](https://github.com/laminlabs/lamin-usecases/blob/main/docs/sc-imaging.ipynb)"
   ]
  },
  {
   "cell_type": "markdown",
   "id": "1",
   "metadata": {},
   "source": [
    "# sc-imaging"
   ]
  },
  {
   "cell_type": "markdown",
   "id": "2",
   "metadata": {},
   "source": [
    "Here, you will learn how to structure, featurize, and make a large imaging collection queryable for large-scale machine learning:\n",
    "\n",
    "1. Load and annotate a {class}`~lamindb.Collection` of microscopy images ([![sc-imaging1/4](https://img.shields.io/badge/imaging1/4-lightgrey)](/sc-imaging))\n",
    "2. Generate single-cell images ([![sc-imaging2/4](https://img.shields.io/badge/imaging2/4-lightgrey)](/sc-imaging2))\n",
    "3. Featurize single-cell images ([![sc-imaging3/4](https://img.shields.io/badge/imaging3/4-lightgrey)](/sc-imaging3))\n",
    "4. Train model to identify autophagy positive cells ([![sc-imaging4/4](https://img.shields.io/badge/imaging4/4-lightgrey)](/sc-imaging4))\n",
    "\n",
    "\n",
    "```{toctree}\n",
    ":maxdepth: 1\n",
    ":hidden:\n",
    "\n",
    "sc-imaging2\n",
    "sc-imaging3\n",
    "sc-imaging4\n",
    "```"
   ]
  },
  {
   "cell_type": "markdown",
   "id": "3",
   "metadata": {},
   "source": [
    "First, we load and annotate a collection of microscopy images in TIFF format that [was previously uploaded](https://lamin.ai/scportrait/examples/transform/fl9HcsEgLIr70000).\n",
    "\n",
    "The images used here were acquired as part of a [study](https://www.biorxiv.org/content/10.1101/2023.06.01.542416v1) on autophagy, a cellular process during which cells recycle their components in autophagosomes. \n",
    "The study tracked genetic determinants of autophagy through fluorescence microscopy of human U2OS cells."
   ]
  },
  {
   "cell_type": "code",
   "execution_count": null,
   "id": "4",
   "metadata": {
    "tags": [
     "hide-output"
    ]
   },
   "outputs": [],
   "source": [
    "# pip install 'lamindb[jupyter,bionty]'\n",
    "!lamin init --storage ./test-sc-imaging --modules bionty"
   ]
  },
  {
   "cell_type": "code",
   "execution_count": null,
   "id": "5",
   "metadata": {
    "tags": [
     "hide-output"
    ]
   },
   "outputs": [],
   "source": [
    "import lamindb as ln\n",
    "import bionty as bt\n",
    "from tifffile import imread\n",
    "import matplotlib.pyplot as plt\n",
    "\n",
    "ln.track()"
   ]
  },
  {
   "cell_type": "markdown",
   "id": "6",
   "metadata": {},
   "source": [
    "All image metadata is stored in an already ingested `.csv` file on the `scportrait/examples` instance."
   ]
  },
  {
   "cell_type": "code",
   "execution_count": null,
   "id": "7",
   "metadata": {
    "tags": [
     "hide-output"
    ]
   },
   "outputs": [],
   "source": [
    "metadata_files = (\n",
    "    ln.Artifact.using(\"scportrait/examples\")\n",
    "    .get(key=\"input_data_imaging_usecase/metadata_files.csv\")\n",
    "    .load()\n",
    ")\n",
    "\n",
    "metadata_files.head(2)"
   ]
  },
  {
   "cell_type": "code",
   "execution_count": null,
   "id": "8",
   "metadata": {
    "tags": [
     "hide-output"
    ]
   },
   "outputs": [],
   "source": [
    "metadata_files.apply(lambda col: col.unique())"
   ]
  },
  {
   "cell_type": "markdown",
   "id": "9",
   "metadata": {},
   "source": [
    "## Curating artifacts"
   ]
  },
  {
   "cell_type": "markdown",
   "id": "8074b756",
   "metadata": {},
   "source": [
    "All images feature the U2OS cell line, captured using an Opera Phenix microscope at 20X magnification.\n",
    "\n",
    "To induce autophagy, cells were treated under two conditions:\n",
    "- Treated: Exposed to `Torin-1` (a starvation-mimicking small molecule) for 14 hours\n",
    "- Control: Left untreated\n",
    "\n",
    "The U2OS cells were genetically engineered with fluorescently tagged proteins to visualize the process of autophagosome formation:\n",
    "\n",
    "- `LC3B` -> Autophagosome marker (visible in mCherry channel)\n",
    "- `LckLip` -> Membrane-targeted fluorescence protein for cell boundary visualization (visible in Alexa488 channel)\n",
    "- `Hoechst` -> DNA stain for nucleus identification (visible in DAPI channel)\n",
    "\n",
    "Each image contains three separate channels:\n",
    "\n",
    "| Channel | Imaged Structure | Fluorescent Marker |\n",
    "|---------|------------------|-------------------|\n",
    "| 1       | DNA             | `Hoechst` (DAPI)    |\n",
    "| 2       | Autophagosomes  | `LC3B` (mCherry)    |\n",
    "| 3       | Plasma Membrane | `LckLip` (Alexa488) |\n",
    "\n",
    "\n",
    "Two genotypes were analyzed:\n",
    "- WT (Wild-type cells)\n",
    "- EI24KO (`EI24` gene knockout cells)\n",
    "\n",
    "For each genotype, two different clonal cell lines were studied, with multiple fields of view (FOVs) captured per experimental condition.\n",
    "\n",
    "All images are annotated with corresponding metadata to enable efficient querying and analysis."
   ]
  },
  {
   "cell_type": "markdown",
   "id": "f1ec24b1",
   "metadata": {},
   "source": [
    "### Define a schema"
   ]
  },
  {
   "cell_type": "markdown",
   "id": "6577f759",
   "metadata": {},
   "source": [
    "We define a {class}`~lamindb.Schema` to curate metadata."
   ]
  },
  {
   "cell_type": "code",
   "execution_count": null,
   "id": "10",
   "metadata": {
    "tags": [
     "hide-output"
    ]
   },
   "outputs": [],
   "source": [
    "ulabel_names = [\"genotype\", \"stimulation\", \"cell_line_clone\", \"channel\", \n",
    "                \"FOV\", \"magnification\", \"microscope\", \"imaged structure\"]\n",
    "\n",
    "autophagy_imaging_schema = ln.Schema(\n",
    "    name=\"Autophagy imaging schema\",\n",
    "    features=[\n",
    "        *[ln.Feature(name=name, dtype=ln.ULabel.name).save() for name in ulabel_names],\n",
    "        ln.Feature(name=\"cell_line\", dtype=bt.CellLine.name).save(),\n",
    "        ln.Feature(name=\"resolution\", dtype=float, description=\"conversion factor for px to µm\").save(),\n",
    "    ],\n",
    "    coerce_dtype=True,\n",
    ").save()"
   ]
  },
  {
   "cell_type": "markdown",
   "id": "47f485d6",
   "metadata": {},
   "source": [
    "### Curate the dataset"
   ]
  },
  {
   "cell_type": "code",
   "execution_count": null,
   "id": "11",
   "metadata": {
    "lines_to_next_cell": 2,
    "tags": [
     "hide-output"
    ]
   },
   "outputs": [],
   "source": [
    "curator = ln.curators.DataFrameCurator(metadata_files, autophagy_imaging_schema)\n",
    "\n",
    "try:\n",
    "    curator.validate()\n",
    "except ln.core.exceptions.ValidationError as e:\n",
    "    print(e)"
   ]
  },
  {
   "cell_type": "markdown",
   "id": "12",
   "metadata": {},
   "source": [
    "Add and standardize missing terms:"
   ]
  },
  {
   "cell_type": "code",
   "execution_count": null,
   "id": "13",
   "metadata": {
    "tags": [
     "hide-output"
    ]
   },
   "outputs": [],
   "source": [
    "curator.cat.standardize(\"cell_line\")\n",
    "\n",
    "for key in curator.cat.non_validated.keys():\n",
    "    curator.cat.add_new_from(key)\n",
    "\n",
    "curator.validate()"
   ]
  },
  {
   "cell_type": "markdown",
   "id": "d9583edd",
   "metadata": {},
   "source": [
    "### Annotate images with metadata"
   ]
  },
  {
   "cell_type": "markdown",
   "id": "14",
   "metadata": {},
   "source": [
    "We add images to our `lamindb` instance and annotate them with their metadata."
   ]
  },
  {
   "cell_type": "code",
   "execution_count": null,
   "id": "15",
   "metadata": {
    "tags": [
     "hide-output"
    ]
   },
   "outputs": [],
   "source": [
    "# Create study feature and associated label\n",
    "ln.Feature(name=\"study\", dtype=ln.ULabel).save()\n",
    "ln.ULabel(name=\"autophagy imaging\").save()\n",
    "\n",
    "artifacts = []\n",
    "\n",
    "for _, row in metadata_files.iterrows():\n",
    "    artifact = ln.Artifact.using(\"scportrait/examples\").filter(key__icontains=row[\"image_path\"]).one()\n",
    "    artifact.save()\n",
    "    artifact.cell_lines.add(bt.CellLine.filter(name=row.cell_line).one())\n",
    "    \n",
    "    artifact.features.add_values({\n",
    "        col: row[col] for col in [\"genotype\", \"stimulation\", \"cell_line_clone\", \n",
    "                                  \"channel\", \"FOV\", \"magnification\", \"microscope\", \"resolution\"]\n",
    "    } | {\n",
    "        \"imaged structure\": row[\"imaged structure\"],\n",
    "        \"study\": \"autophagy imaging\"\n",
    "    })\n",
    "    \n",
    "    artifacts.append(artifact)"
   ]
  },
  {
   "cell_type": "code",
   "execution_count": null,
   "id": "16",
   "metadata": {},
   "outputs": [],
   "source": [
    "artifacts[0].describe()"
   ]
  },
  {
   "cell_type": "markdown",
   "id": "17",
   "metadata": {},
   "source": [
    "In addition, we create a {class}`~lamindb.Collection` to hold all {class}`~lamindb.Artifact` that belong to this specific imaging study."
   ]
  },
  {
   "cell_type": "code",
   "execution_count": null,
   "id": "18",
   "metadata": {
    "tags": [
     "hide-output"
    ]
   },
   "outputs": [],
   "source": [
    "collection = ln.Collection(\n",
    "    artifacts,\n",
    "    key=\"Annotated autophagy imaging raw images\",\n",
    "    description=\"annotated microscopy images of cells stained for autophagy markers\",\n",
    ").save()"
   ]
  },
  {
   "cell_type": "markdown",
   "id": "19",
   "metadata": {},
   "source": [
    "Let's look at some example images where we match images from the same clone, stimulation condition, and FOV to ensure correct channel alignment."
   ]
  },
  {
   "cell_type": "code",
   "execution_count": null,
   "id": "20",
   "metadata": {},
   "outputs": [],
   "source": [
    "def plot_example_images(df, n_images=3, title_prefix=\"\"):\n",
    "    \"\"\"Plot example images from dataframe\"\"\"\n",
    "    fig, axs = plt.subplots(1, n_images, figsize=(15, 5))\n",
    "    if n_images == 1:\n",
    "        axs = [axs]\n",
    "    for idx, row in df.iterrows():\n",
    "        path = ln.Artifact.using(\"scportrait/examples\").get(key=row[\"image_path\"]).cache()\n",
    "        image = imread(path)\n",
    "        axs[idx].imshow(image)\n",
    "        axs[idx].set_title(f\"{title_prefix}{row['imaged structure']}\")\n",
    "        axs[idx].axis(\"off\")\n",
    "    return fig, axs\n",
    "\n",
    "sorted_metadata = metadata_files.sort_values(by=[\"cell_line_clone\", \"stimulation\", \"FOV\"])\n",
    "\n",
    "# Plot first 3 and last 3\n",
    "plot_example_images(sorted_metadata.head(3).reset_index(drop=True));\n",
    "plot_example_images(sorted_metadata.tail(3).reset_index(drop=True));"
   ]
  },
  {
   "cell_type": "code",
   "execution_count": null,
   "id": "21",
   "metadata": {
    "tags": [
     "hide-output"
    ]
   },
   "outputs": [],
   "source": [
    "ln.finish()"
   ]
  }
 ],
 "metadata": {
  "jupytext": {
   "cell_metadata_filter": "tags,-all",
   "main_language": "python",
   "notebook_metadata_filter": "-all"
  },
  "kernelspec": {
   "display_name": "lamindb",
   "language": "python",
   "name": "python3"
  },
  "language_info": {
   "codemirror_mode": {
    "name": "ipython",
    "version": 3
   },
   "file_extension": ".py",
   "mimetype": "text/x-python",
   "name": "python",
   "nbconvert_exporter": "python",
   "pygments_lexer": "ipython3",
   "version": "3.12.8"
  }
 },
 "nbformat": 4,
 "nbformat_minor": 5
}
