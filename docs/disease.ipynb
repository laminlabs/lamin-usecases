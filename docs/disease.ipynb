{
 "cells": [
  {
   "cell_type": "markdown",
   "id": "f8621480",
   "metadata": {},
   "source": [
    "# Disease"
   ]
  },
  {
   "cell_type": "markdown",
   "id": "79adf8d4",
   "metadata": {},
   "source": [
    "lamindb provides access to the following public protein ontologies through [lnschema-bionty](https://github.com/laminlabs/lnschema-bionty):\n",
    "\n",
    "1. [Mondo](https://mondo.monarchinitiative.org/)\n",
    "2. [Human Disease](https://disease-ontology.org/)\n",
    "\n",
    "Here we show how to access and search Disease ontologies to standardize new data."
   ]
  },
  {
   "cell_type": "markdown",
   "id": "9063c567",
   "metadata": {},
   "source": [
    "## Setup"
   ]
  },
  {
   "cell_type": "code",
   "execution_count": null,
   "id": "802c5dc9",
   "metadata": {},
   "outputs": [],
   "source": [
    "!lamin init --storage ./test-disease --schema bionty"
   ]
  },
  {
   "cell_type": "code",
   "execution_count": null,
   "id": "3a8e627f",
   "metadata": {},
   "outputs": [],
   "source": [
    "import lnschema_bionty as lb\n",
    "import pandas as pd"
   ]
  },
  {
   "cell_type": "markdown",
   "id": "f85f5c43",
   "metadata": {},
   "source": [
    "## PublicOntology objects"
   ]
  },
  {
   "cell_type": "markdown",
   "id": "95bae0d4",
   "metadata": {},
   "source": [
    "Let us create a public ontology accessor with {meth}`~docs:lnschema_bionty.dev.BioRegistry.public`, which chooses a default public ontology source from {class}`~docs:lnschema_bionty.PublicSource`.\n",
    "It's a [PublicOntology](https://lamin.ai/docs/lnschema_bionty.dev.publicontology) object, which you can think about as a public registry:"
   ]
  },
  {
   "cell_type": "code",
   "execution_count": null,
   "id": "49025933",
   "metadata": {},
   "outputs": [],
   "source": [
    "diseases = lb.Disease.public(organism=\"all\")\n",
    "diseases"
   ]
  },
  {
   "cell_type": "markdown",
   "id": "eaf0ff7c",
   "metadata": {},
   "source": [
    "As for registries, you can export the ontology as a `DataFrame`:"
   ]
  },
  {
   "cell_type": "code",
   "execution_count": null,
   "id": "78f36278",
   "metadata": {},
   "outputs": [],
   "source": [
    "df = diseases.df()\n",
    "df.head()"
   ]
  },
  {
   "cell_type": "markdown",
   "id": "860846ac",
   "metadata": {},
   "source": [
    "Unlike registries, you can also export it as a Pronto object via `public.ontology`."
   ]
  },
  {
   "cell_type": "markdown",
   "id": "2560cd65",
   "metadata": {},
   "source": [
    "## Look up terms"
   ]
  },
  {
   "cell_type": "markdown",
   "id": "6377285a",
   "metadata": {},
   "source": [
    "As for registries, terms can be looked up with auto-complete:"
   ]
  },
  {
   "cell_type": "code",
   "execution_count": null,
   "id": "d7183e2b",
   "metadata": {},
   "outputs": [],
   "source": [
    "lookup = diseases.lookup()"
   ]
  },
  {
   "cell_type": "markdown",
   "id": "b50b03a5",
   "metadata": {},
   "source": [
    "The `.` accessor provides normalized terms (lower case, only contains alphanumeric characters and underscores):"
   ]
  },
  {
   "cell_type": "code",
   "execution_count": null,
   "id": "0ea631a2",
   "metadata": {},
   "outputs": [],
   "source": [
    "lookup.alzheimer_disease"
   ]
  },
  {
   "cell_type": "markdown",
   "id": "809cadfc",
   "metadata": {},
   "source": [
    "To look up the exact original strings, convert the lookup object to dict and use the `[]` accessor:"
   ]
  },
  {
   "cell_type": "code",
   "execution_count": null,
   "id": "3bbf3b5c",
   "metadata": {},
   "outputs": [],
   "source": [
    "lookup_dict = lookup.dict()\n",
    "lookup_dict[\"Alzheimer disease\"]"
   ]
  },
  {
   "cell_type": "markdown",
   "id": "ab030dd5",
   "metadata": {},
   "source": [
    "By default, the `name` field is used to generate lookup keys. You can specify another field to look up:"
   ]
  },
  {
   "cell_type": "code",
   "execution_count": null,
   "id": "086b9723",
   "metadata": {},
   "outputs": [],
   "source": [
    "lookup = diseases.lookup(diseases.ontology_id)"
   ]
  },
  {
   "cell_type": "code",
   "execution_count": null,
   "id": "e62ef26f",
   "metadata": {},
   "outputs": [],
   "source": [
    "lookup.mondo_0004975"
   ]
  },
  {
   "cell_type": "markdown",
   "id": "43aac4da",
   "metadata": {},
   "source": [
    "## Search terms"
   ]
  },
  {
   "cell_type": "markdown",
   "id": "af5a79fc",
   "metadata": {},
   "source": [
    "Search behaves in the same way as it does for registries:"
   ]
  },
  {
   "cell_type": "code",
   "execution_count": null,
   "id": "fe8ea0ca",
   "metadata": {},
   "outputs": [],
   "source": [
    "diseases.search(\"parkinsons disease\").head(3)"
   ]
  },
  {
   "cell_type": "markdown",
   "id": "8feecbea",
   "metadata": {},
   "source": [
    "By default, search also covers synonyms:"
   ]
  },
  {
   "cell_type": "code",
   "execution_count": null,
   "id": "cd8c0f91",
   "metadata": {},
   "outputs": [],
   "source": [
    "diseases.search(\"paralysis agitans\").head(3)"
   ]
  },
  {
   "cell_type": "markdown",
   "id": "d4622324",
   "metadata": {},
   "source": [
    "You can turn this off synonym by passing `synonyms_field=None`:"
   ]
  },
  {
   "cell_type": "code",
   "execution_count": null,
   "id": "848e6a16",
   "metadata": {},
   "outputs": [],
   "source": [
    "diseases.search(\"paralysis agitans\", synonyms_field=None).head(3)"
   ]
  },
  {
   "cell_type": "markdown",
   "id": "e2256d3e",
   "metadata": {},
   "source": [
    "Search another field (default is `.name`):"
   ]
  },
  {
   "cell_type": "code",
   "execution_count": null,
   "id": "d3240da0",
   "metadata": {},
   "outputs": [],
   "source": [
    "diseases.search(\n",
    "    \"progressive degenerative disorder of the central nervous system\",\n",
    "    field=diseases.definition,\n",
    ").head()"
   ]
  },
  {
   "cell_type": "markdown",
   "id": "e02bcab4",
   "metadata": {},
   "source": [
    "## Standardize Disease identifiers"
   ]
  },
  {
   "cell_type": "markdown",
   "id": "e99c09d3",
   "metadata": {},
   "source": [
    "Let us generate a `DataFrame` that stores a number of Disease identifiers, some of which corrupted:"
   ]
  },
  {
   "cell_type": "code",
   "execution_count": null,
   "id": "51b6f71b",
   "metadata": {},
   "outputs": [],
   "source": [
    "df_orig = pd.DataFrame(\n",
    "    index=[\n",
    "        \"supraglottis cancer\"\n",
    "        \"alexia\"\n",
    "        \"trigonitis\"\n",
    "        \"paranasal sinus disorder\"\n",
    "        \"This disease does not exist\",\n",
    "    ]\n",
    ")\n",
    "df_orig"
   ]
  },
  {
   "cell_type": "markdown",
   "id": "7fb5978f",
   "metadata": {},
   "source": [
    "We can check whether any of our values are validated against the ontology reference:"
   ]
  },
  {
   "cell_type": "code",
   "execution_count": null,
   "id": "fd000c97",
   "metadata": {},
   "outputs": [],
   "source": [
    "validated = diseases.validate(df_orig.index, diseases.name)\n",
    "df_orig.index[~validated]"
   ]
  },
  {
   "cell_type": "markdown",
   "id": "ce3b39de",
   "metadata": {},
   "source": [
    "## Ontology source versions"
   ]
  },
  {
   "cell_type": "markdown",
   "id": "65323d71",
   "metadata": {},
   "source": [
    "For any given entity, we can choose from a number of versions:"
   ]
  },
  {
   "cell_type": "code",
   "execution_count": null,
   "id": "462d9788",
   "metadata": {},
   "outputs": [],
   "source": [
    "lb.PublicSource.filter(entity=\"Disease\").df()"
   ]
  },
  {
   "cell_type": "markdown",
   "id": "9543c7ce",
   "metadata": {},
   "source": [
    "When instantiating a Bionty object, we can choose a source or version:"
   ]
  },
  {
   "cell_type": "code",
   "execution_count": null,
   "id": "c4a9c3be",
   "metadata": {
    "lines_to_next_cell": 0
   },
   "outputs": [],
   "source": [
    "public_source = lb.PublicSource.filter(\n",
    "    source=\"mondo\", version=\"2023-04-04\", organism=\"all\"\n",
    ").one()\n",
    "diseases= lb.Disease.public(public_source=public_source)\n",
    "diseases"
   ]
  },
  {
   "cell_type": "markdown",
   "id": "77996d3f",
   "metadata": {},
   "source": [
    "The currently used ontologies can be displayed using:"
   ]
  },
  {
   "cell_type": "code",
   "execution_count": null,
   "id": "ea723ef3",
   "metadata": {
    "tags": [
     "hide-output"
    ]
   },
   "outputs": [],
   "source": [
    "lb.PublicSource.filter(currently_used=True).df()"
   ]
  },
  {
   "cell_type": "code",
   "execution_count": null,
   "id": "f6faaec2",
   "metadata": {
    "tags": [
     "hide-cell"
    ]
   },
   "outputs": [],
   "source": [
    "!lamin delete --force test-disease\n",
    "!rm -r test-disease"
   ]
  }
 ],
 "metadata": {
  "kernelspec": {
   "display_name": "lamindb",
   "language": "python",
   "name": "python3"
  }
 },
 "nbformat": 4,
 "nbformat_minor": 5
}
