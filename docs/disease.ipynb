{
 "cells": [
  {
   "cell_type": "markdown",
   "id": "a77a5601",
   "metadata": {},
   "source": [
    "# Disease"
   ]
  },
  {
   "cell_type": "markdown",
   "id": "dc64a352",
   "metadata": {},
   "source": [
    "lamindb provides access to the following public protein ontologies through [bionty](https://lamin.ai/docs/bionty):\n",
    "\n",
    "1. [Mondo](https://mondo.monarchinitiative.org/)\n",
    "2. [Human Disease](https://disease-ontology.org/)\n",
    "\n",
    "Here we show how to access and search Disease ontologies to standardize new data."
   ]
  },
  {
   "cell_type": "code",
   "execution_count": null,
   "id": "6452bc96",
   "metadata": {},
   "outputs": [],
   "source": [
    "import bionty as bt\n",
    "import pandas as pd"
   ]
  },
  {
   "cell_type": "markdown",
   "id": "0831a426",
   "metadata": {},
   "source": [
    "## PublicOntology objects"
   ]
  },
  {
   "cell_type": "markdown",
   "id": "f6774118",
   "metadata": {},
   "source": [
    "Let us create a public ontology accessor with `.public` method, which chooses a default public ontology source from {class}`~docs:bionty.PublicSource`.\n",
    "It's a [PublicOntology](https://lamin.ai/docs/bionty.dev.publicontology) object, which you can think about as a public registry:"
   ]
  },
  {
   "cell_type": "code",
   "execution_count": null,
   "id": "ca5926e0",
   "metadata": {},
   "outputs": [],
   "source": [
    "diseases = bt.Disease.public(organism=\"all\")\n",
    "diseases"
   ]
  },
  {
   "cell_type": "markdown",
   "id": "4f76b28e",
   "metadata": {},
   "source": [
    "As for registries, you can export the ontology as a `DataFrame`:"
   ]
  },
  {
   "cell_type": "code",
   "execution_count": null,
   "id": "6a4e7dd9",
   "metadata": {},
   "outputs": [],
   "source": [
    "df = diseases.df()\n",
    "df.head()"
   ]
  },
  {
   "cell_type": "markdown",
   "id": "d0e1f2ac",
   "metadata": {},
   "source": [
    "Unlike registries, you can also export it as a Pronto object via `public.ontology`."
   ]
  },
  {
   "cell_type": "markdown",
   "id": "a3439421",
   "metadata": {},
   "source": [
    "## Look up terms"
   ]
  },
  {
   "cell_type": "markdown",
   "id": "b4218feb",
   "metadata": {},
   "source": [
    "As for registries, terms can be looked up with auto-complete:"
   ]
  },
  {
   "cell_type": "code",
   "execution_count": null,
   "id": "151a8203",
   "metadata": {},
   "outputs": [],
   "source": [
    "lookup = diseases.lookup()"
   ]
  },
  {
   "cell_type": "markdown",
   "id": "8b867313",
   "metadata": {},
   "source": [
    "The `.` accessor provides normalized terms (lower case, only contains alphanumeric characters and underscores):"
   ]
  },
  {
   "cell_type": "code",
   "execution_count": null,
   "id": "e33c1c0b",
   "metadata": {},
   "outputs": [],
   "source": [
    "lookup.alzheimer_disease"
   ]
  },
  {
   "cell_type": "markdown",
   "id": "67ca750c",
   "metadata": {},
   "source": [
    "To look up the exact original strings, convert the lookup object to dict and use the `[]` accessor:"
   ]
  },
  {
   "cell_type": "code",
   "execution_count": null,
   "id": "268efef6",
   "metadata": {},
   "outputs": [],
   "source": [
    "lookup_dict = lookup.dict()\n",
    "lookup_dict[\"Alzheimer disease\"]"
   ]
  },
  {
   "cell_type": "markdown",
   "id": "d29d85f6",
   "metadata": {},
   "source": [
    "By default, the `name` field is used to generate lookup keys. You can specify another field to look up:"
   ]
  },
  {
   "cell_type": "code",
   "execution_count": null,
   "id": "06513a5e",
   "metadata": {},
   "outputs": [],
   "source": [
    "lookup = diseases.lookup(diseases.ontology_id)"
   ]
  },
  {
   "cell_type": "code",
   "execution_count": null,
   "id": "35889fe0",
   "metadata": {},
   "outputs": [],
   "source": [
    "lookup.mondo_0004975"
   ]
  },
  {
   "cell_type": "markdown",
   "id": "6a4fdf82",
   "metadata": {},
   "source": [
    "## Search terms"
   ]
  },
  {
   "cell_type": "markdown",
   "id": "ef59da66",
   "metadata": {},
   "source": [
    "Search behaves in the same way as it does for registries:"
   ]
  },
  {
   "cell_type": "code",
   "execution_count": null,
   "id": "cdd05bdd",
   "metadata": {},
   "outputs": [],
   "source": [
    "diseases.search(\"parkinsons disease\").head(3)"
   ]
  },
  {
   "cell_type": "markdown",
   "id": "bbf5a8b7",
   "metadata": {},
   "source": [
    "By default, search also covers synonyms:"
   ]
  },
  {
   "cell_type": "code",
   "execution_count": null,
   "id": "9497b14a",
   "metadata": {},
   "outputs": [],
   "source": [
    "diseases.search(\"paralysis agitans\").head(3)"
   ]
  },
  {
   "cell_type": "markdown",
   "id": "ee49e339",
   "metadata": {},
   "source": [
    "You can turn this off synonym by passing `synonyms_field=None`:"
   ]
  },
  {
   "cell_type": "code",
   "execution_count": null,
   "id": "61ea9d12",
   "metadata": {},
   "outputs": [],
   "source": [
    "diseases.search(\"paralysis agitans\", synonyms_field=None).head(3)"
   ]
  },
  {
   "cell_type": "markdown",
   "id": "2877f3be",
   "metadata": {},
   "source": [
    "Search another field (default is `.name`):"
   ]
  },
  {
   "cell_type": "code",
   "execution_count": null,
   "id": "f50b0f1e",
   "metadata": {},
   "outputs": [],
   "source": [
    "diseases.search(\n",
    "    \"progressive degenerative disorder of the central nervous system\",\n",
    "    field=diseases.definition,\n",
    ").head()"
   ]
  },
  {
   "cell_type": "markdown",
   "id": "e69190ef",
   "metadata": {},
   "source": [
    "## Standardize Disease identifiers"
   ]
  },
  {
   "cell_type": "markdown",
   "id": "4329178b",
   "metadata": {},
   "source": [
    "Let us generate a `DataFrame` that stores a number of Disease identifiers, some of which corrupted:"
   ]
  },
  {
   "cell_type": "code",
   "execution_count": null,
   "id": "d573341b",
   "metadata": {},
   "outputs": [],
   "source": [
    "df_orig = pd.DataFrame(\n",
    "    index=[\n",
    "        \"supraglottis cancer\",\n",
    "        \"alexia\",\n",
    "        \"trigonitis\",\n",
    "        \"paranasal sinus disorder\",\n",
    "        \"This disease does not exist\",\n",
    "    ]\n",
    ")\n",
    "df_orig"
   ]
  },
  {
   "cell_type": "markdown",
   "id": "915c77b1",
   "metadata": {},
   "source": [
    "We can check whether any of our values are validated against the ontology reference:"
   ]
  },
  {
   "cell_type": "code",
   "execution_count": null,
   "id": "c58e5f70",
   "metadata": {},
   "outputs": [],
   "source": [
    "validated = diseases.validate(df_orig.index, diseases.name)\n",
    "df_orig.index[~validated]"
   ]
  },
  {
   "cell_type": "markdown",
   "id": "bf870379",
   "metadata": {},
   "source": [
    "## Ontology source versions"
   ]
  },
  {
   "cell_type": "markdown",
   "id": "6ec0552e",
   "metadata": {},
   "source": [
    "For any given entity, we can choose from a number of versions:"
   ]
  },
  {
   "cell_type": "code",
   "execution_count": null,
   "id": "865519f0",
   "metadata": {},
   "outputs": [],
   "source": [
    "bt.PublicSource.filter(entity=\"Disease\").df()"
   ]
  },
  {
   "cell_type": "markdown",
   "id": "edf06fce",
   "metadata": {},
   "source": [
    "When instantiating a Bionty object, we can choose a source or version:"
   ]
  },
  {
   "cell_type": "code",
   "execution_count": null,
   "id": "7349bcc7",
   "metadata": {
    "lines_to_next_cell": 0
   },
   "outputs": [],
   "source": [
    "public_source = bt.PublicSource.filter(\n",
    "    source=\"mondo\", version=\"2023-04-04\", organism=\"all\"\n",
    ").one()\n",
    "diseases= bt.Disease.public(public_source=public_source)\n",
    "diseases"
   ]
  },
  {
   "cell_type": "markdown",
   "id": "f4766102",
   "metadata": {},
   "source": [
    "The currently used ontologies can be displayed using:"
   ]
  },
  {
   "cell_type": "code",
   "execution_count": null,
   "id": "2d30932d",
   "metadata": {
    "tags": [
     "hide-output"
    ]
   },
   "outputs": [],
   "source": [
    "bt.PublicSource.filter(currently_used=True).df()"
   ]
  }
 ],
 "metadata": {
  "kernelspec": {
   "display_name": "lamindb",
   "language": "python",
   "name": "python3"
  }
 },
 "nbformat": 4,
 "nbformat_minor": 5
}
