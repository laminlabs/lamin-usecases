{
 "cells": [
  {
   "cell_type": "markdown",
   "id": "98c84a13",
   "metadata": {},
   "source": [
    "# Ethnicity"
   ]
  },
  {
   "cell_type": "markdown",
   "id": "801e7157",
   "metadata": {},
   "source": [
    "lamindb provides access to the following public protein ontologies through [bionty](https://lamin.ai/docs/bionty):\n",
    "\n",
    "1. [Human Ancestry Ontology](https://github.com/EBISPOT/hancestro)\n",
    "\n",
    "Here we show how to access and search Ethnicity ontologies to standardize new data."
   ]
  },
  {
   "cell_type": "code",
   "execution_count": null,
   "id": "e66a0f06",
   "metadata": {},
   "outputs": [],
   "source": [
    "import bionty as bt\n",
    "import pandas as pd"
   ]
  },
  {
   "cell_type": "markdown",
   "id": "4723b6b4",
   "metadata": {},
   "source": [
    "## PublicOntology objects"
   ]
  },
  {
   "cell_type": "markdown",
   "id": "b681fd15",
   "metadata": {},
   "source": [
    "Let us create a public ontology accessor with `.public` method, which chooses a default public ontology source from {class}`~docs:bionty.PublicSource`.\n",
    "It's a [PublicOntology](https://lamin.ai/docs/bionty.dev.publicontology) object, which you can think about as a public registry:"
   ]
  },
  {
   "cell_type": "code",
   "execution_count": null,
   "id": "0447b4d5",
   "metadata": {},
   "outputs": [],
   "source": [
    "ethnicitys = bt.Ethnicity.public(organism=\"human\")\n",
    "ethnicitys"
   ]
  },
  {
   "cell_type": "markdown",
   "id": "b8ccfff8",
   "metadata": {},
   "source": [
    "As for registries, you can export the ontology as a `DataFrame`:"
   ]
  },
  {
   "cell_type": "code",
   "execution_count": null,
   "id": "54630937",
   "metadata": {},
   "outputs": [],
   "source": [
    "df = ethnicitys.df()\n",
    "df.head()"
   ]
  },
  {
   "cell_type": "markdown",
   "id": "37b89d94",
   "metadata": {},
   "source": [
    "Unlike registries, you can also export it as a Pronto object via `public.ontology`."
   ]
  },
  {
   "cell_type": "markdown",
   "id": "7cde5f33",
   "metadata": {},
   "source": [
    "## Look up terms"
   ]
  },
  {
   "cell_type": "markdown",
   "id": "4012fd8a",
   "metadata": {},
   "source": [
    "As for registries, terms can be looked up with auto-complete:"
   ]
  },
  {
   "cell_type": "code",
   "execution_count": null,
   "id": "64329a67",
   "metadata": {},
   "outputs": [],
   "source": [
    "lookup = ethnicitys.lookup()"
   ]
  },
  {
   "cell_type": "markdown",
   "id": "b65f5161",
   "metadata": {},
   "source": [
    "The `.` accessor provides normalized terms (lower case, only contains alphanumeric characters and underscores):"
   ]
  },
  {
   "cell_type": "code",
   "execution_count": null,
   "id": "84738237",
   "metadata": {},
   "outputs": [],
   "source": [
    "lookup.american"
   ]
  },
  {
   "cell_type": "markdown",
   "id": "5fb6aa59",
   "metadata": {},
   "source": [
    "To look up the exact original strings, convert the lookup object to dict and use the `[]` accessor:"
   ]
  },
  {
   "cell_type": "code",
   "execution_count": null,
   "id": "09ea25a2",
   "metadata": {},
   "outputs": [],
   "source": [
    "lookup_dict = lookup.dict()\n",
    "lookup_dict[\"American\"]"
   ]
  },
  {
   "cell_type": "markdown",
   "id": "922b14c3",
   "metadata": {},
   "source": [
    "By default, the `name` field is used to generate lookup keys. You can specify another field to look up:"
   ]
  },
  {
   "cell_type": "code",
   "execution_count": null,
   "id": "d1f10602",
   "metadata": {},
   "outputs": [],
   "source": [
    "lookup = ethnicitys.lookup(ethnicitys.ontology_id)"
   ]
  },
  {
   "cell_type": "code",
   "execution_count": null,
   "id": "42dc8ad3",
   "metadata": {},
   "outputs": [],
   "source": [
    "lookup.hancestro_0463"
   ]
  },
  {
   "cell_type": "markdown",
   "id": "5fdd4917",
   "metadata": {},
   "source": [
    "## Search terms"
   ]
  },
  {
   "cell_type": "markdown",
   "id": "400a33bf",
   "metadata": {},
   "source": [
    "Search behaves in the same way as it does for registries:"
   ]
  },
  {
   "cell_type": "code",
   "execution_count": null,
   "id": "c8c8a65b",
   "metadata": {},
   "outputs": [],
   "source": [
    "ethnicitys.search(\"American\").head(3)"
   ]
  },
  {
   "cell_type": "markdown",
   "id": "7710a307",
   "metadata": {},
   "source": [
    "By default, search also covers synonyms:"
   ]
  },
  {
   "cell_type": "code",
   "execution_count": null,
   "id": "3e1f6499",
   "metadata": {},
   "outputs": [],
   "source": [
    "ethnicitys.search(\"Caucasian\").head(3)"
   ]
  },
  {
   "cell_type": "markdown",
   "id": "02cf7e0f",
   "metadata": {},
   "source": [
    "You can turn this off synonym by passing `synonyms_field=None`:"
   ]
  },
  {
   "cell_type": "code",
   "execution_count": null,
   "id": "c763925a",
   "metadata": {},
   "outputs": [],
   "source": [
    "ethnicitys.search(\"Caucasian\", synonyms_field=None).head(3)"
   ]
  },
  {
   "cell_type": "markdown",
   "id": "f2381c8b",
   "metadata": {},
   "source": [
    "Search another field (default is `.name`):"
   ]
  },
  {
   "cell_type": "code",
   "execution_count": null,
   "id": "0c070da4",
   "metadata": {},
   "outputs": [],
   "source": [
    "ethnicitys.search(\n",
    "    \"General characterisation of Ancestry of a population\",\n",
    "    field=ethnicitys.definition,\n",
    ").head()"
   ]
  },
  {
   "cell_type": "markdown",
   "id": "97554c0f",
   "metadata": {},
   "source": [
    "## Standardize Ethnicity identifiers"
   ]
  },
  {
   "cell_type": "markdown",
   "id": "8fa0e79c",
   "metadata": {},
   "source": [
    "Let us generate a `DataFrame` that stores a number of Ethnicity identifiers, some of which corrupted:"
   ]
  },
  {
   "cell_type": "code",
   "execution_count": null,
   "id": "fb0a29d5",
   "metadata": {},
   "outputs": [],
   "source": [
    "df_orig = pd.DataFrame(\n",
    "    index=[\n",
    "        \"Mende\",\n",
    "        \"European\",\n",
    "        \"South Asian\",\n",
    "        \"Arab\",\n",
    "        \"This ethnicity does not exist\",\n",
    "    ]\n",
    ")\n",
    "df_orig"
   ]
  },
  {
   "cell_type": "markdown",
   "id": "8e247a64",
   "metadata": {},
   "source": [
    "We can check whether any of our values are validated against the ontology reference:"
   ]
  },
  {
   "cell_type": "code",
   "execution_count": null,
   "id": "67cf32c4",
   "metadata": {},
   "outputs": [],
   "source": [
    "validated = ethnicitys.validate(df_orig.index, ethnicitys.name)\n",
    "df_orig.index[~validated]"
   ]
  },
  {
   "cell_type": "markdown",
   "id": "97f69811",
   "metadata": {},
   "source": [
    "## Ontology source versions"
   ]
  },
  {
   "cell_type": "markdown",
   "id": "8722d558",
   "metadata": {},
   "source": [
    "For any given entity, we can choose from a number of versions:"
   ]
  },
  {
   "cell_type": "code",
   "execution_count": null,
   "id": "54b48076",
   "metadata": {},
   "outputs": [],
   "source": [
    "bt.PublicSource.filter(entity=\"Ethnicity\").df()"
   ]
  },
  {
   "cell_type": "markdown",
   "id": "b1987384",
   "metadata": {},
   "source": [
    "When instantiating a Bionty object, we can choose a source or version:"
   ]
  },
  {
   "cell_type": "code",
   "execution_count": null,
   "id": "0db542ac",
   "metadata": {
    "lines_to_next_cell": 0
   },
   "outputs": [],
   "source": [
    "public_source = bt.PublicSource.filter(\n",
    "    source=\"hancestro\", version=\"3.0\", organism=\"human\"\n",
    ").one()\n",
    "ethnicitys= bt.Ethnicity.public(public_source=public_source)\n",
    "ethnicitys"
   ]
  },
  {
   "cell_type": "markdown",
   "id": "87138fed",
   "metadata": {},
   "source": [
    "The currently used ontologies can be displayed using:"
   ]
  },
  {
   "cell_type": "code",
   "execution_count": null,
   "id": "c1265c3c",
   "metadata": {
    "tags": [
     "hide-output"
    ]
   },
   "outputs": [],
   "source": [
    "bt.PublicSource.filter(currently_used=True).df()"
   ]
  }
 ],
 "metadata": {
  "kernelspec": {
   "display_name": "lamindb",
   "language": "python",
   "name": "python3"
  }
 },
 "nbformat": 4,
 "nbformat_minor": 5
}
