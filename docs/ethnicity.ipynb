{
 "cells": [
  {
   "cell_type": "markdown",
   "id": "adf4c529",
   "metadata": {},
   "source": [
    "# Ethnicity"
   ]
  },
  {
   "cell_type": "markdown",
   "id": "0b381364",
   "metadata": {},
   "source": [
    "lamindb provides access to the following public protein ontologies through [lnschema-bionty](https://github.com/laminlabs/lnschema-bionty):\n",
    "\n",
    "1. [Human Ancestry Ontology](https://github.com/EBISPOT/hancestro)\n",
    "\n",
    "Here we show how to access and search Ethnicity ontologies to standardize new data."
   ]
  },
  {
   "cell_type": "markdown",
   "id": "0798a742",
   "metadata": {},
   "source": [
    "## Setup"
   ]
  },
  {
   "cell_type": "code",
   "execution_count": null,
   "id": "8955a15d",
   "metadata": {},
   "outputs": [],
   "source": [
    "!lamin init --storage ./test-ethnicity --schema bionty"
   ]
  },
  {
   "cell_type": "code",
   "execution_count": null,
   "id": "6d18a759",
   "metadata": {},
   "outputs": [],
   "source": [
    "import lnschema_bionty as lb\n",
    "import pandas as pd"
   ]
  },
  {
   "cell_type": "markdown",
   "id": "b6a3ac43",
   "metadata": {},
   "source": [
    "## PublicOntology objects"
   ]
  },
  {
   "cell_type": "markdown",
   "id": "42b25796",
   "metadata": {},
   "source": [
    "Let us create a public ontology accessor with {meth}`~docs:lnschema_bionty.dev.BioRegistry.public`, which chooses a default public ontology source from {class}`~docs:lnschema_bionty.PublicSource`.\n",
    "It's a [PublicOntology](https://lamin.ai/docs/lnschema_bionty.dev.publicontology) object, which you can think about as a public registry:"
   ]
  },
  {
   "cell_type": "code",
   "execution_count": null,
   "id": "22d0d280",
   "metadata": {},
   "outputs": [],
   "source": [
    "ethnicitys = lb.Ethnicity.public(organism=\"human\")\n",
    "ethnicitys"
   ]
  },
  {
   "cell_type": "markdown",
   "id": "b69a7337",
   "metadata": {},
   "source": [
    "As for registries, you can export the ontology as a `DataFrame`:"
   ]
  },
  {
   "cell_type": "code",
   "execution_count": null,
   "id": "0b735f4a",
   "metadata": {},
   "outputs": [],
   "source": [
    "df = ethnicitys.df()\n",
    "df.head()"
   ]
  },
  {
   "cell_type": "markdown",
   "id": "6161a9f1",
   "metadata": {},
   "source": [
    "Unlike registries, you can also export it as a Pronto object via `public.ontology`."
   ]
  },
  {
   "cell_type": "markdown",
   "id": "2c7ab7fb",
   "metadata": {},
   "source": [
    "## Look up terms"
   ]
  },
  {
   "cell_type": "markdown",
   "id": "37f567f2",
   "metadata": {},
   "source": [
    "As for registries, terms can be looked up with auto-complete:"
   ]
  },
  {
   "cell_type": "code",
   "execution_count": null,
   "id": "9545702b",
   "metadata": {},
   "outputs": [],
   "source": [
    "lookup = ethnicitys.lookup()"
   ]
  },
  {
   "cell_type": "markdown",
   "id": "4982fd55",
   "metadata": {},
   "source": [
    "The `.` accessor provides normalized terms (lower case, only contains alphanumeric characters and underscores):"
   ]
  },
  {
   "cell_type": "code",
   "execution_count": null,
   "id": "9c43a282",
   "metadata": {},
   "outputs": [],
   "source": [
    "lookup.american"
   ]
  },
  {
   "cell_type": "markdown",
   "id": "414d55fc",
   "metadata": {},
   "source": [
    "To look up the exact original strings, convert the lookup object to dict and use the `[]` accessor:"
   ]
  },
  {
   "cell_type": "code",
   "execution_count": null,
   "id": "c9871f57",
   "metadata": {},
   "outputs": [],
   "source": [
    "lookup_dict = lookup.dict()\n",
    "lookup_dict[\"American\"]"
   ]
  },
  {
   "cell_type": "markdown",
   "id": "83ffafd4",
   "metadata": {},
   "source": [
    "By default, the `name` field is used to generate lookup keys. You can specify another field to look up:"
   ]
  },
  {
   "cell_type": "code",
   "execution_count": null,
   "id": "3bffa16e",
   "metadata": {},
   "outputs": [],
   "source": [
    "lookup = ethnicitys.lookup(ethnicitys.ontology_id)"
   ]
  },
  {
   "cell_type": "code",
   "execution_count": null,
   "id": "4bb70799",
   "metadata": {},
   "outputs": [],
   "source": [
    "lookup.hancestro_0463"
   ]
  },
  {
   "cell_type": "markdown",
   "id": "3c040c19",
   "metadata": {},
   "source": [
    "## Search terms"
   ]
  },
  {
   "cell_type": "markdown",
   "id": "337c496d",
   "metadata": {},
   "source": [
    "Search behaves in the same way as it does for registries:"
   ]
  },
  {
   "cell_type": "code",
   "execution_count": null,
   "id": "bd150387",
   "metadata": {},
   "outputs": [],
   "source": [
    "ethnicitys.search(\"American\").head(3)"
   ]
  },
  {
   "cell_type": "markdown",
   "id": "8b7a5e75",
   "metadata": {},
   "source": [
    "By default, search also covers synonyms:"
   ]
  },
  {
   "cell_type": "code",
   "execution_count": null,
   "id": "86d9ac2d",
   "metadata": {},
   "outputs": [],
   "source": [
    "ethnicitys.search(\"Caucasian\").head(3)"
   ]
  },
  {
   "cell_type": "markdown",
   "id": "584cf6e5",
   "metadata": {},
   "source": [
    "You can turn this off synonym by passing `synonyms_field=None`:"
   ]
  },
  {
   "cell_type": "code",
   "execution_count": null,
   "id": "3ec1d5ed",
   "metadata": {},
   "outputs": [],
   "source": [
    "ethnicitys.search(\"Caucasian\", synonyms_field=None).head(3)"
   ]
  },
  {
   "cell_type": "markdown",
   "id": "909af961",
   "metadata": {},
   "source": [
    "Search another field (default is `.name`):"
   ]
  },
  {
   "cell_type": "code",
   "execution_count": null,
   "id": "ae9080e2",
   "metadata": {},
   "outputs": [],
   "source": [
    "ethnicitys.search(\n",
    "    \"General characterisation of Ancestry of a population\",\n",
    "    field=ethnicitys.definition,\n",
    ").head()"
   ]
  },
  {
   "cell_type": "markdown",
   "id": "b32be319",
   "metadata": {},
   "source": [
    "## Standardize Ethnicity identifiers"
   ]
  },
  {
   "cell_type": "markdown",
   "id": "997cae63",
   "metadata": {},
   "source": [
    "Let us generate a `DataFrame` that stores a number of Ethnicity identifiers, some of which corrupted:"
   ]
  },
  {
   "cell_type": "code",
   "execution_count": null,
   "id": "2bffd04a",
   "metadata": {},
   "outputs": [],
   "source": [
    "df_orig = pd.DataFrame(\n",
    "    index=[\n",
    "        \"Mende\"\n",
    "        \"European\"\n",
    "        \"South Asian\"\n",
    "        \"Arab\"\n",
    "        \"This ethnicity does not exist\",\n",
    "    ]\n",
    ")\n",
    "df_orig"
   ]
  },
  {
   "cell_type": "markdown",
   "id": "56d1f642",
   "metadata": {},
   "source": [
    "We can check whether any of our values are validated against the ontology reference:"
   ]
  },
  {
   "cell_type": "code",
   "execution_count": null,
   "id": "91c59ab6",
   "metadata": {},
   "outputs": [],
   "source": [
    "validated = ethnicitys.validate(df_orig.index, ethnicitys.name)\n",
    "df_orig.index[~validated]"
   ]
  },
  {
   "cell_type": "markdown",
   "id": "55de817f",
   "metadata": {},
   "source": [
    "## Ontology source versions"
   ]
  },
  {
   "cell_type": "markdown",
   "id": "061b6b56",
   "metadata": {},
   "source": [
    "For any given entity, we can choose from a number of versions:"
   ]
  },
  {
   "cell_type": "code",
   "execution_count": null,
   "id": "fc2ed562",
   "metadata": {},
   "outputs": [],
   "source": [
    "lb.PublicSource.filter(entity=\"Ethnicity\").df()"
   ]
  },
  {
   "cell_type": "markdown",
   "id": "3ea02889",
   "metadata": {},
   "source": [
    "When instantiating a Bionty object, we can choose a source or version:"
   ]
  },
  {
   "cell_type": "code",
   "execution_count": null,
   "id": "6635f6f4",
   "metadata": {
    "lines_to_next_cell": 0
   },
   "outputs": [],
   "source": [
    "public_source = lb.PublicSource.filter(\n",
    "    source=\"hancestro\", version=\"3.0\", organism=\"human\"\n",
    ").one()\n",
    "ethnicitys= lb.Ethnicity.public(public_source=public_source)\n",
    "ethnicitys"
   ]
  },
  {
   "cell_type": "markdown",
   "id": "0a9c2b78",
   "metadata": {},
   "source": [
    "The currently used ontologies can be displayed using:"
   ]
  },
  {
   "cell_type": "code",
   "execution_count": null,
   "id": "fec25de6",
   "metadata": {
    "tags": [
     "hide-output"
    ]
   },
   "outputs": [],
   "source": [
    "lb.PublicSource.filter(currently_used=True).df()"
   ]
  },
  {
   "cell_type": "code",
   "execution_count": null,
   "id": "3276b156",
   "metadata": {
    "tags": [
     "hide-cell"
    ]
   },
   "outputs": [],
   "source": [
    "!lamin delete --force test-ethnicity\n",
    "!rm -r test-ethnicity"
   ]
  }
 ],
 "metadata": {
  "kernelspec": {
   "display_name": "lamindb",
   "language": "python",
   "name": "python3"
  }
 },
 "nbformat": 4,
 "nbformat_minor": 5
}
