{
 "cells": [
  {
   "cell_type": "markdown",
   "metadata": {},
   "source": [
    "![scrna6/6](https://img.shields.io/badge/scrna6/6-lightgrey)"
   ]
  },
  {
   "cell_type": "markdown",
   "metadata": {},
   "source": [
    "# Transform a number of array shards to a single array store"
   ]
  },
  {
   "cell_type": "markdown",
   "metadata": {},
   "source": [
    "In the previous notebooks, we've seen how to incrementally create a collection of datasets and train models on it.\n",
    "\n",
    "In some situations we want to concatenate all datasets to one big array store to speed up ad-hoc queries for slices for arbitrary metadata from the cloud.\n",
    "\n",
    "This is what CELLxGENE does to create Census: a number of `.h5ad` files are concatenated to give rise to a single TileDB-SOMA array store. See how this looks for `cellxgene` here: {doc}`docs:cellxgene`."
   ]
  },
  {
   "cell_type": "code",
   "execution_count": null,
   "metadata": {},
   "outputs": [],
   "source": [
    "import lamindb as ln\n",
    "import anndata as ad\n",
    "import pandas as pd\n",
    "\n",
    "import tiledbsoma\n",
    "import tiledbsoma.io\n",
    "\n",
    "from functools import reduce"
   ]
  },
  {
   "cell_type": "code",
   "execution_count": null,
   "metadata": {},
   "outputs": [],
   "source": [
    "ln.settings.transform.stem_uid = \"oJN8WmVrxI8m\"\n",
    "ln.settings.transform.version = \"1\"\n",
    "ln.track()"
   ]
  },
  {
   "cell_type": "markdown",
   "metadata": {},
   "source": [
    "Retrieve the collection of `h5ad` files to be concatenated into a SOMA Experiment."
   ]
  },
  {
   "cell_type": "code",
   "execution_count": null,
   "metadata": {},
   "outputs": [],
   "source": [
    "collection = ln.Collection.filter(\n",
    "    name=\"My versioned scRNA-seq collection\", version=\"2\"\n",
    ").one()"
   ]
  },
  {
   "cell_type": "code",
   "execution_count": null,
   "metadata": {},
   "outputs": [],
   "source": [
    "collection.describe()"
   ]
  },
  {
   "cell_type": "markdown",
   "metadata": {},
   "source": [
    "Prepare a path and a context for a new `tiledbsoma.Experiment`."
   ]
  },
  {
   "cell_type": "code",
   "execution_count": null,
   "metadata": {},
   "outputs": [],
   "source": [
    "soma_path = (ln.settings.storage / \"scrna.tiledbsoma\").as_posix()"
   ]
  },
  {
   "cell_type": "markdown",
   "metadata": {},
   "source": [
    "We need to create a context with region information for the instance storage if the storage is an `s3` bucket and is not on `us-east-1`."
   ]
  },
  {
   "cell_type": "code",
   "execution_count": null,
   "metadata": {},
   "outputs": [],
   "source": [
    "storage_settings = ln.settings._storage_settings\n",
    "if storage_settings.type == \"s3\":\n",
    "    storage_region = storage_settings.region\n",
    "    ctx = tiledbsoma.SOMATileDBContext(tiledb_config={\"vfs.s3.region\": storage_region})\n",
    "else:\n",
    "    ctx = None"
   ]
  },
  {
   "cell_type": "markdown",
   "metadata": {},
   "source": [
    "We need to prepare the`AnnData` objects in the collection to be concatenated into one `tiledbsoma.Experiment`. They need to have the same `.var` and `.obs` columns, `.uns` and `.obsp` should be removed."
   ]
  },
  {
   "cell_type": "code",
   "execution_count": null,
   "metadata": {},
   "outputs": [],
   "source": [
    "adatas = [ad.read_h5ad(artifact.cache()) for artifact in collection.artifacts]"
   ]
  },
  {
   "cell_type": "markdown",
   "metadata": {},
   "source": [
    "Compute the intercetion of all columns."
   ]
  },
  {
   "cell_type": "code",
   "execution_count": null,
   "metadata": {},
   "outputs": [],
   "source": [
    "obs_columns = reduce(pd.Index.intersection, [adata.obs.columns for adata in adatas])\n",
    "var_columns = reduce(pd.Index.intersection, [adata.var.columns for adata in adatas])\n",
    "var_raw_columns = reduce(pd.Index.intersection, [adata.raw.var.columns for adata in adatas])"
   ]
  },
  {
   "cell_type": "markdown",
   "metadata": {},
   "source": [
    "Prepare the `AnnData` objects for concatenation. Prepare id fields, sanitize `index` names, intersect columns, drop slots."
   ]
  },
  {
   "cell_type": "code",
   "execution_count": null,
   "metadata": {},
   "outputs": [],
   "source": [
    "for i, adata in enumerate(adatas):\n",
    "    del adata.obsp\n",
    "    del adata.uns\n",
    "    \n",
    "    adata.obs = adata.obs.filter(obs_columns)\n",
    "    adata.obs[\"obs_id\"] = adata.obs.index\n",
    "    adata.obs[\"dataset\"] = i\n",
    "    adata.obs.index.name = None\n",
    "    \n",
    "    adata.var = adata.var.filter(var_columns)\n",
    "    adata.var[\"var_id\"] = adata.var.index\n",
    "    adata.var.index.name = None\n",
    "    \n",
    "    drop_raw_var_columns = adata.raw.var.columns.difference(var_raw_columns)\n",
    "    adata.raw.var.drop(columns=drop_raw_var_columns, inplace=True)\n",
    "    adata.raw.var[\"var_id\"] = adata.raw.var.index\n",
    "    adata.raw.var.index.name = None"
   ]
  },
  {
   "cell_type": "markdown",
   "metadata": {},
   "source": [
    "Register all the AnnData objects. Pass `experiment_uri=None` because `tiledbsoma.Experiment` doesn't exist yet"
   ]
  },
  {
   "cell_type": "code",
   "execution_count": null,
   "metadata": {},
   "outputs": [],
   "source": [
    "registration_mapping = tiledbsoma.io.register_anndatas(\n",
    "    experiment_uri=None,\n",
    "    adatas=adatas,\n",
    "    measurement_name=\"RNA\",\n",
    "    obs_field_name=\"obs_id\",\n",
    "    var_field_name=\"var_id\",\n",
    "    append_obsm_varm=True\n",
    ")"
   ]
  },
  {
   "cell_type": "markdown",
   "metadata": {},
   "source": [
    "Ingest the `AnnData` objects sequentially, providing the context."
   ]
  },
  {
   "cell_type": "code",
   "execution_count": null,
   "metadata": {},
   "outputs": [],
   "source": [
    "for adata in adatas:\n",
    "    tiledbsoma.io.from_anndata(\n",
    "        experiment_uri=soma_path,\n",
    "        anndata=adata,\n",
    "        measurement_name=\"RNA\",\n",
    "        registration_mapping=registration_mapping,\n",
    "        context=ctx\n",
    "    )"
   ]
  },
  {
   "cell_type": "markdown",
   "metadata": {},
   "source": [
    "Register the created `tiledbsoma.Experiment` storage in `lamindb`."
   ]
  },
  {
   "cell_type": "code",
   "execution_count": null,
   "metadata": {},
   "outputs": [],
   "source": [
    "artifact_soma = ln.Artifact(soma_path, description=\"My scRNA-seq SOMA Experiment\")\n",
    "artifact_soma.save()"
   ]
  },
  {
   "cell_type": "markdown",
   "metadata": {},
   "source": [
    "Open and query the experiment."
   ]
  },
  {
   "cell_type": "code",
   "execution_count": null,
   "metadata": {},
   "outputs": [],
   "source": [
    "experiment = tiledbsoma.Experiment.open(artifact_soma.path.as_posix(), context=ctx)"
   ]
  },
  {
   "cell_type": "code",
   "execution_count": null,
   "metadata": {},
   "outputs": [],
   "source": [
    "experiment"
   ]
  },
  {
   "cell_type": "code",
   "execution_count": null,
   "metadata": {},
   "outputs": [],
   "source": [
    "experiment[\"obs\"].read().concat().to_pandas()"
   ]
  },
  {
   "cell_type": "code",
   "execution_count": null,
   "metadata": {},
   "outputs": [],
   "source": [
    "experiment.close()"
   ]
  }
 ],
 "metadata": {
  "kernelspec": {
   "display_name": "Python 3 (ipykernel)",
   "language": "python",
   "name": "python3"
  },
  "language_info": {
   "codemirror_mode": {
    "name": "ipython",
    "version": 3
   },
   "file_extension": ".py",
   "mimetype": "text/x-python",
   "name": "python",
   "nbconvert_exporter": "python",
   "pygments_lexer": "ipython3",
   "version": "3.9.17"
  }
 },
 "nbformat": 4,
 "nbformat_minor": 2
}
