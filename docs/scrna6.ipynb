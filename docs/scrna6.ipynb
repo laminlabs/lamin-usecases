{
 "cells": [
  {
   "cell_type": "markdown",
   "metadata": {},
   "source": [
    "![scrna6/6](https://img.shields.io/badge/scrna6/6-lightgrey)"
   ]
  },
  {
   "cell_type": "markdown",
   "metadata": {},
   "source": [
    "# Concatenate datasets to a single array store"
   ]
  },
  {
   "cell_type": "markdown",
   "metadata": {},
   "source": [
    "In the previous notebooks, we've seen how to incrementally create a collection of scRNA-seq datasets and train models on it.\n",
    "\n",
    "Sometimes we want to concatenate all datasets into one big array to speed up ad-hoc queries for slices for arbitrary metadata (see this [blog post](https://lamin.ai/blog/arrayloader-benchmarks)). This is what CELLxGENE does to create Census: a number of `.h5ad` files are concatenated to give rise to a single `tiledbsoma` array store ({doc}`docs:cellxgene`).\n",
    "\n",
    ":::{note}\n",
    "\n",
    "This notebook is based on [the tiledbsoma documentation](https://tiledbsoma.readthedocs.io/en/latest/notebooks/tutorial_soma_append_mode.html).\n",
    "\n",
    ":::"
   ]
  },
  {
   "cell_type": "code",
   "execution_count": null,
   "metadata": {},
   "outputs": [],
   "source": [
    "import lamindb as ln\n",
    "import pandas as pd\n",
    "import scanpy as sc\n",
    "import tiledbsoma\n",
    "import tiledbsoma.io\n",
    "from functools import reduce"
   ]
  },
  {
   "cell_type": "code",
   "execution_count": null,
   "metadata": {
    "tags": [
     "hide-output"
    ]
   },
   "outputs": [],
   "source": [
    "ln.settings.transform.stem_uid = \"oJN8WmVrxI8m\"\n",
    "ln.settings.transform.version = \"1\"\n",
    "ln.track()"
   ]
  },
  {
   "cell_type": "markdown",
   "metadata": {},
   "source": [
    "Query the collection of `h5ad` files that we'd like to convert into a single array."
   ]
  },
  {
   "cell_type": "code",
   "execution_count": null,
   "metadata": {
    "tags": [
     "hide-output"
    ]
   },
   "outputs": [],
   "source": [
    "collection = ln.Collection.filter(\n",
    "    name=\"My versioned scRNA-seq collection\", version=\"2\"\n",
    ").one()\n",
    "collection.describe()"
   ]
  },
  {
   "cell_type": "markdown",
   "metadata": {},
   "source": [
    "## Prepare the array store"
   ]
  },
  {
   "cell_type": "markdown",
   "metadata": {},
   "source": [
    "Prepare a path and a context for a new `tiledbsoma.Experiment`.\n",
    "\n",
    "We will create our array store at the LaminDB instance root with folder name `\"scrna.tiledbsoma\"`."
   ]
  },
  {
   "cell_type": "code",
   "execution_count": null,
   "metadata": {},
   "outputs": [],
   "source": [
    "storage_settings = ln.setup.settings.storage\n",
    "soma_path = (storage_settings.root / \"scrna.tiledbsoma\").as_posix()  # we could take any AWS S3 path, here"
   ]
  },
  {
   "cell_type": "markdown",
   "metadata": {},
   "source": [
    "**If our path is on `AWS S3`,** we need to create a context with region information (exception: `us-east-1`). You can find more about `tiledb` configuration parameters in the `tiledb` [documentation](https://docs.tiledb.com/main/how-to/configuration). "
   ]
  },
  {
   "cell_type": "code",
   "execution_count": null,
   "metadata": {},
   "outputs": [],
   "source": [
    "if storage_settings.type == \"s3\":  # if the storage location is on AWS S3\n",
    "    storage_region = storage_settings.region\n",
    "    ctx = tiledbsoma.SOMATileDBContext(tiledb_config={\"vfs.s3.region\": storage_region})\n",
    "else:\n",
    "    ctx = None"
   ]
  },
  {
   "cell_type": "markdown",
   "metadata": {},
   "source": [
    "## Prepare the AnnData objects"
   ]
  },
  {
   "cell_type": "markdown",
   "metadata": {},
   "source": [
    "We need to prepare the`AnnData` objects in the collection to be concatenated into one `tiledbsoma.Experiment`. They need to have the same `.var` and `.obs` columns, `.uns` and `.obsp` should be removed."
   ]
  },
  {
   "cell_type": "code",
   "execution_count": null,
   "metadata": {},
   "outputs": [],
   "source": [
    "adatas = [artifact.load() for artifact in collection.ordered_artifacts]"
   ]
  },
  {
   "cell_type": "markdown",
   "metadata": {},
   "source": [
    "Compute the intersetion of all columns. All `AnnData` objects should have the same columns in their `.obs`, `.var`, `.raw.var` to be ingested into one `tiledbsoma.Experiment`."
   ]
  },
  {
   "cell_type": "code",
   "execution_count": null,
   "metadata": {},
   "outputs": [],
   "source": [
    "obs_columns = reduce(pd.Index.intersection, [adata.obs.columns for adata in adatas])\n",
    "var_columns = reduce(pd.Index.intersection, [adata.var.columns for adata in adatas])\n",
    "var_raw_columns = reduce(pd.Index.intersection, [adata.raw.var.columns for adata in adatas])"
   ]
  },
  {
   "cell_type": "markdown",
   "metadata": {},
   "source": [
    "Prepare the `AnnData` objects for concatenation. Prepare id fields, sanitize `index` names, intersect columns, drop slots. Here we have to drop `.obsp`, `.uns` and also columns from the dataframes that are not in the intersections obtained above, otherwise the ingestion will fail. We will need to provide `obs` and `var` names in `tiledbsoma.io.register_anndatas`, so we create these fileds (`obs_id`, `var_id`) from the dataframe indices."
   ]
  },
  {
   "cell_type": "code",
   "execution_count": null,
   "metadata": {},
   "outputs": [],
   "source": [
    "for i, adata in enumerate(adatas):\n",
    "    del adata.obsp\n",
    "    del adata.uns\n",
    "    \n",
    "    adata.obs = adata.obs.filter(obs_columns)\n",
    "    adata.obs[\"obs_id\"] = adata.obs.index\n",
    "    adata.obs[\"dataset\"] = i\n",
    "    adata.obs.index.name = None\n",
    "    \n",
    "    adata.var = adata.var.filter(var_columns)\n",
    "    adata.var[\"var_id\"] = adata.var.index\n",
    "    adata.var.index.name = None\n",
    "    \n",
    "    drop_raw_var_columns = adata.raw.var.columns.difference(var_raw_columns)\n",
    "    adata.raw.var.drop(columns=drop_raw_var_columns, inplace=True)\n",
    "    adata.raw.var[\"var_id\"] = adata.raw.var.index\n",
    "    adata.raw.var.index.name = None"
   ]
  },
  {
   "cell_type": "markdown",
   "metadata": {},
   "source": [
    "## Create the array store"
   ]
  },
  {
   "cell_type": "markdown",
   "metadata": {},
   "source": [
    "Register all the AnnData objects. Pass `experiment_uri=None` because `tiledbsoma.Experiment` doesn't exist yet:"
   ]
  },
  {
   "cell_type": "code",
   "execution_count": null,
   "metadata": {},
   "outputs": [],
   "source": [
    "registration_mapping = tiledbsoma.io.register_anndatas(\n",
    "    experiment_uri=None,\n",
    "    adatas=adatas,\n",
    "    measurement_name=\"RNA\",\n",
    "    obs_field_name=\"obs_id\",\n",
    "    var_field_name=\"var_id\",\n",
    "    append_obsm_varm=True\n",
    ")"
   ]
  },
  {
   "cell_type": "markdown",
   "metadata": {},
   "source": [
    "Ingest the `AnnData` objects sequentially, providing the context. This saves the `AnnData` objects in one array store."
   ]
  },
  {
   "cell_type": "code",
   "execution_count": null,
   "metadata": {
    "tags": [
     "hide-output"
    ]
   },
   "outputs": [],
   "source": [
    "for adata in adatas:\n",
    "    tiledbsoma.io.from_anndata(\n",
    "        experiment_uri=soma_path,\n",
    "        anndata=adata,\n",
    "        measurement_name=\"RNA\",\n",
    "        registration_mapping=registration_mapping,\n",
    "        context=ctx\n",
    "    )"
   ]
  },
  {
   "cell_type": "markdown",
   "metadata": {},
   "source": [
    "## Register the array store"
   ]
  },
  {
   "cell_type": "markdown",
   "metadata": {},
   "source": [
    "Register the created `tiledbsoma.Experiment` store in `lamindb`:"
   ]
  },
  {
   "cell_type": "code",
   "execution_count": null,
   "metadata": {
    "tags": [
     "hide-output"
    ]
   },
   "outputs": [],
   "source": [
    "soma_artifact = ln.Artifact(soma_path, description=\"My scRNA-seq SOMA Experiment\").save()\n",
    "soma_artifact.describe()"
   ]
  },
  {
   "cell_type": "markdown",
   "metadata": {},
   "source": [
    "## Query the array store"
   ]
  },
  {
   "cell_type": "markdown",
   "metadata": {},
   "source": [
    "Open and query the experiment. We can use the registered `Artifact`. We query `X` and `obs` from the array store."
   ]
  },
  {
   "cell_type": "code",
   "execution_count": null,
   "metadata": {
    "tags": [
     "hide-output"
    ]
   },
   "outputs": [],
   "source": [
    "with soma_artifact.open() as soma_store:\n",
    "    obs = soma_store[\"obs\"]\n",
    "    mas_rna = soma_store[\"ms\"][\"RNA\"]\n",
    "    \n",
    "    n_obs = len(obs)\n",
    "    n_var = len(ms_rna[\"var\"])\n",
    "    X = ms_rna[\"X\"][\"data\"].read().coos((n_obs, n_var)).concat().to_scipy()\n",
    "    \n",
    "    print(obs.read().concat().to_pandas())"
   ]
  },
  {
   "cell_type": "markdown",
   "metadata": {},
   "source": [
    "## Update the array store"
   ]
  },
  {
   "cell_type": "code",
   "execution_count": null,
   "metadata": {},
   "outputs": [],
   "source": [
    "pca_array = sc.pp.pca(X, n_comps=2)"
   ]
  },
  {
   "cell_type": "code",
   "execution_count": null,
   "metadata": {},
   "outputs": [],
   "source": [
    "with soma_artifact.open(mode=\"w\") as soma_store:\n",
    "    tiledbsoma.io.add_matrix_to_collection(\n",
    "        exp=soma_store,\n",
    "        measurement_name=\"RNA\",\n",
    "        collection_name=\"obsm\",\n",
    "        matrix_name=\"pca\",\n",
    "        matrix_data=pca_array\n",
    "    )"
   ]
  }
 ],
 "metadata": {
  "kernelspec": {
   "display_name": "Python 3 (ipykernel)",
   "language": "python",
   "name": "python3"
  },
  "language_info": {
   "codemirror_mode": {
    "name": "ipython",
    "version": 3
   },
   "file_extension": ".py",
   "mimetype": "text/x-python",
   "name": "python",
   "nbconvert_exporter": "python",
   "pygments_lexer": "ipython3",
   "version": "3.9.17"
  }
 },
 "nbformat": 4,
 "nbformat_minor": 2
}
