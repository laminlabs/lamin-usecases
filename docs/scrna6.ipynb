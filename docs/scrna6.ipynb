{
 "cells": [
  {
   "cell_type": "markdown",
   "metadata": {},
   "source": [
    "![scrna6/6](https://img.shields.io/badge/scrna6/6-lightgrey)"
   ]
  },
  {
   "cell_type": "markdown",
   "metadata": {},
   "source": [
    "# Transform a number of array shards to a single array store"
   ]
  },
  {
   "cell_type": "markdown",
   "metadata": {},
   "source": [
    "In the previous notebooks, we've seen how to incrementally create a collection of datasets and train models on it.\n",
    "\n",
    "In some situations we want to concatenate all datasets to one big array store to speed up ad-hoc queries for slices for arbitrary metadata from the cloud.\n",
    "\n",
    "This is what CELLxGENE does to create Census: a number of `.h5ad` files are concatenated to give rise to a single TileDB-SOMA array store. See how this looks for `cellxgene` here: {doc}`docs:cellxgene`."
   ]
  }
 ],
 "metadata": {
  "language_info": {
   "name": "python"
  }
 },
 "nbformat": 4,
 "nbformat_minor": 2
}
