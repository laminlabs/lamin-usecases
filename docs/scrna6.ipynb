{
 "cells": [
  {
   "cell_type": "markdown",
   "metadata": {},
   "source": [
    "![scrna6/6](https://img.shields.io/badge/scrna6/6-lightgrey)"
   ]
  },
  {
   "cell_type": "markdown",
   "metadata": {},
   "source": [
    "# Convert a number of array shards to a single array store"
   ]
  },
  {
   "cell_type": "markdown",
   "metadata": {},
   "source": [
    "In the previous notebooks, we've seen how to incrementally create a dataset and train models on it.\n",
    "\n",
    "Once we have a dataset of validated array shards, we might want to concatenate them to one big array store.\n",
    "\n",
    "This is what the CELLxGENE team does to create Census: a high number of `.h5ad` files are concatenated to give rise to a single TileDB-SOMA array store.\n",
    "\n",
    "This requires duplicating the data that's present in a collection of `.h5ad` files, but speeds up ad-hoc queries for slices for arbitrary metadata.\n",
    "\n",
    "See how this looks for `cellxgene` here: {doc}`docs:cellxgene`."
   ]
  }
 ],
 "metadata": {
  "language_info": {
   "name": "python"
  }
 },
 "nbformat": 4,
 "nbformat_minor": 2
}
