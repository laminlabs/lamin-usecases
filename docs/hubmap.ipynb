{
 "cells": [
  {
   "cell_type": "markdown",
   "metadata": {},
   "source": [
    "# Hubmap"
   ]
  },
  {
   "cell_type": "markdown",
   "metadata": {},
   "source": [
    "The [HubMAP (Human BioMolecular Atlas Program) consortium](https://hubmapconsortium.org/) is an initiative mapping human cells to create a comprehensive atlas, with its [Data Portal](https://portal.hubmapconsortium.org/) serving as the platform where researchers can access, visualize, and download (single-cell) tissue data.\n",
    "\n",
    "Lamin mirrors most of the datasets for simplified access here: [laminlabs/hubmap](https://lamin.ai/laminlabs/hubmap).\n",
    "\n",
    "If you use the data academically, please cite the original publication [Jain et al. 2023](https://www.nature.com/articles/s41556-023-01194-w).\n",
    "\n",
    "Here, we show how the HubMAP instance is structured and how datasets and be queried and accessed."
   ]
  },
  {
   "cell_type": "markdown",
   "metadata": {},
   "source": [
    "Connect to the source instance:"
   ]
  },
  {
   "cell_type": "code",
   "execution_count": null,
   "metadata": {
    "tags": [
     "hide-output"
    ]
   },
   "outputs": [],
   "source": [
    "# pip install lamindb\n",
    "!lamin connect laminlabs/hubmap"
   ]
  },
  {
   "cell_type": "markdown",
   "metadata": {},
   "source": [
    "```{note}\n",
    "\n",
    "If you want to transfer artifacts or metadata into your own instance, use `.using(\"laminlabs/hubmap\")` when accessing registries and then `.save()` ({doc}`/transfer`).\n",
    "\n",
    "```"
   ]
  },
  {
   "cell_type": "code",
   "execution_count": null,
   "metadata": {
    "tags": [
     "hide-output"
    ]
   },
   "outputs": [],
   "source": [
    "import lamindb as ln\n",
    "import h5py\n",
    "import anndata as ad\n",
    "import pandas as pd"
   ]
  },
  {
   "cell_type": "markdown",
   "metadata": {},
   "source": [
    "## Getting HubMAP datasets and data products"
   ]
  },
  {
   "cell_type": "markdown",
   "metadata": {},
   "source": [
    "HubMAP associates several data products, which are the single raw datasets, into higher level datasets.\n",
    "For example, the dataset [HBM983.LKMP.544](https://portal.hubmapconsortium.org/browse/dataset/20ee458e5ee361717b68ca72caf6044e) has four data products:\n",
    "\n",
    "1. [raw_expr.h5ad](https://assets.hubmapconsortium.org/f6eb890063d13698feb11d39fa61e45a/raw_expr.h5ad)\n",
    "1. [expr.h5ad](https://assets.hubmapconsortium.org/f6eb890063d13698feb11d39fa61e45a/expr.h5ad)\n",
    "2. [secondary_analysis.h5ad](https://assets.hubmapconsortium.org/f6eb890063d13698feb11d39fa61e45a/secondary_analysis.h5ad)\n",
    "3. [scvelo_annotated.h5ad](https://assets.hubmapconsortium.org/f6eb890063d13698feb11d39fa61e45a/scvelo_annotated.h5ad)\n",
    "\n",
    "The [laminlabs/hubmap](https://lamin.ai/laminlabs/hubmap) instance registers these data products as {class}`~lamindb.Artifact` that jointly form a {class}`~lamindb.Collection`."
   ]
  },
  {
   "cell_type": "markdown",
   "metadata": {},
   "source": [
    "The `key` attribute of `ln.Artifact` and `ln.Collection` corresponds to the IDs of the URLs.\n",
    "For example, the id in the URL [https://portal.hubmapconsortium.org/browse/dataset/20ee458e5ee361717b68ca72caf6044e](https://portal.hubmapconsortium.org/browse/dataset/20ee458e5ee361717b68ca72caf6044e) is the `key` of the corresponding collection:"
   ]
  },
  {
   "cell_type": "code",
   "execution_count": null,
   "metadata": {
    "tags": [
     "hide-output"
    ]
   },
   "outputs": [],
   "source": [
    "small_intenstine_collection = ln.Collection.get(key=\"20ee458e5ee361717b68ca72caf6044e\")\n",
    "small_intenstine_collection"
   ]
  },
  {
   "cell_type": "markdown",
   "metadata": {},
   "source": [
    "We can get all associated data products like:"
   ]
  },
  {
   "cell_type": "code",
   "execution_count": null,
   "metadata": {
    "tags": [
     "hide-output"
    ]
   },
   "outputs": [],
   "source": [
    "small_intenstine_collection.artifacts.all().to_dataframe()"
   ]
  },
  {
   "cell_type": "markdown",
   "metadata": {},
   "source": [
    "Note the key of these three `Artifacts` which corresponds to the assets URL.\n",
    "For example, [https://assets.hubmapconsortium.org/f6eb890063d13698feb11d39fa61e45a/expr.h5ad](https://assets.hubmapconsortium.org/f6eb890063d13698feb11d39fa61e45a/expr.h5ad) is the direct URL to the `expr.h5ad` data product.\n",
    "\n",
    "Artifacts can be directly loaded:"
   ]
  },
  {
   "cell_type": "code",
   "execution_count": null,
   "metadata": {},
   "outputs": [],
   "source": [
    "small_intenstine_artifact = small_intenstine_collection.artifacts.get(\n",
    "    key__icontains=\"raw_expr.h5ad\"\n",
    ")"
   ]
  },
  {
   "cell_type": "markdown",
   "metadata": {},
   "source": [
    "```python\n",
    "adata = small_intenstine_artifact.load()\n",
    "adata\n",
    "```"
   ]
  },
  {
   "cell_type": "markdown",
   "metadata": {},
   "source": [
    "## Querying single-cell RNA sequencing datasets"
   ]
  },
  {
   "cell_type": "markdown",
   "metadata": {},
   "source": [
    "The artifacts corresponding to the `raw_expr.h5ad` data products are labeled with metadata.\n",
    "The available metadata includes `ln.Reference`, `bt.Tissue`, `bt.Disease`, `bt.ExperimentalFactor`, and many more.\n",
    "Please have a look at [the instance](https://lamin.ai/laminlabs/hubmap) for more details."
   ]
  },
  {
   "cell_type": "code",
   "execution_count": null,
   "metadata": {
    "tags": [
     "hide-output"
    ]
   },
   "outputs": [],
   "source": [
    "# Get one dataset with a specific type of heart failure\n",
    "heart_failure_artifact = ln.Artifact.filter(\n",
    "    diseases__name=\"heart failure with reduced ejection fraction\"\n",
    ").first()\n",
    "heart_failure_artifact"
   ]
  },
  {
   "cell_type": "markdown",
   "metadata": {},
   "source": [
    "## Querying bulk RNA sequencing datasets"
   ]
  },
  {
   "cell_type": "markdown",
   "metadata": {},
   "source": [
    "Bulk datasets contain a single file: `expression_matrices.h5`, which is a `hdf5` file containing transcript by sample matrices of TPM and number of reads. \n",
    "These files are labeled with metadata, including `ln.Reference`, `bt.Tissue`, `bt.Disease`, `bt.ExperimentalFactor`, and many more. \n",
    "To make the expression data usable with standard analysis workflows, we first read the TPM and raw count matrices from the file and then convert them into a single AnnData object. \n",
    "In this object, raw read counts are stored in `.X`, and TPM values are added as a separate layer under `.layers[\"tpm\"]`."
   ]
  },
  {
   "cell_type": "markdown",
   "metadata": {},
   "source": [
    "```python\n",
    "# Get one placenta tissue dataset:\n",
    "placenta_data = ln.Artifact.filter(tissues__name=\"placenta\").first().cache()\n",
    "\n",
    "def load_matrix(group):\n",
    "    values = group[\"block0_values\"][:]\n",
    "    columns = group[\"block0_items\"][:].astype(str)\n",
    "    index = group[\"axis1\"][:].astype(str)\n",
    "\n",
    "    return pd.DataFrame(values, index=index, columns=columns)\n",
    "\n",
    "\n",
    "with h5py.File(placenta_data, \"r\") as f:\n",
    "    tpm_df = load_matrix(f[\"tpm\"])\n",
    "    reads_df = load_matrix(f[\"num_reads\"])\n",
    "\n",
    "# Use raw read counts as the main matrix\n",
    "placenta_adata = ad.AnnData(X=reads_df.values)\n",
    "placenta_adata.obs_names = reads_df.index\n",
    "placenta_adata.var_names = reads_df.columns\n",
    "\n",
    "# Store TPM normalized values in a layer\n",
    "placenta_adata.layers[\"tpm\"] = tpm_df.values\n",
    "\n",
    "placenta_adata\n",
    "```"
   ]
  }
 ],
 "metadata": {
  "kernelspec": {
   "display_name": "py312",
   "language": "python",
   "name": "python3"
  },
  "language_info": {
   "codemirror_mode": {
    "name": "ipython",
    "version": 3
   },
   "file_extension": ".py",
   "mimetype": "text/x-python",
   "name": "python",
   "nbconvert_exporter": "python",
   "pygments_lexer": "ipython3",
   "version": "3.12.8"
  }
 },
 "nbformat": 4,
 "nbformat_minor": 2
}
