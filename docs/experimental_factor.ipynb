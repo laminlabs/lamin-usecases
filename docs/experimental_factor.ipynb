{
 "cells": [
  {
   "cell_type": "markdown",
   "id": "d1f4a420",
   "metadata": {},
   "source": [
    "# ExperimentalFactor"
   ]
  },
  {
   "cell_type": "markdown",
   "id": "420903d3",
   "metadata": {},
   "source": [
    "lamindb provides access to the following public protein ontologies through [lnschema-bionty](https://github.com/laminlabs/lnschema-bionty):\n",
    "\n",
    "1. [Experimental Factor Ontology](https://www.ebi.ac.uk/ols/ontologies/efo)\n",
    "\n",
    "Here we show how to access and search ExperimentalFactor ontologies to standardize new data."
   ]
  },
  {
   "cell_type": "markdown",
   "id": "719478be",
   "metadata": {},
   "source": [
    "## Setup"
   ]
  },
  {
   "cell_type": "code",
   "execution_count": null,
   "id": "2bdef861",
   "metadata": {},
   "outputs": [],
   "source": [
    "!lamin init --storage ./test-experimentalfactor --schema bionty"
   ]
  },
  {
   "cell_type": "code",
   "execution_count": null,
   "id": "478d5f35",
   "metadata": {},
   "outputs": [],
   "source": [
    "import lnschema_bionty as lb\n",
    "import pandas as pd"
   ]
  },
  {
   "cell_type": "markdown",
   "id": "c41ba2a3",
   "metadata": {},
   "source": [
    "## PublicOntology objects"
   ]
  },
  {
   "cell_type": "markdown",
   "id": "f2227f60",
   "metadata": {},
   "source": [
    "Let us create a public ontology accessor with {meth}`~docs:lnschema_bionty.dev.BioRegistry.public`, which chooses a default public ontology source from {class}`~docs:lnschema_bionty.PublicSource`.\n",
    "It's a [PublicOntology](https://lamin.ai/docs/lnschema_bionty.dev.publicontology) object, which you can think about as a public registry:"
   ]
  },
  {
   "cell_type": "code",
   "execution_count": null,
   "id": "75778c8a",
   "metadata": {},
   "outputs": [],
   "source": [
    "experimentalfactors = lb.ExperimentalFactor.public(organism=\"all\")\n",
    "experimentalfactors"
   ]
  },
  {
   "cell_type": "markdown",
   "id": "589cb1aa",
   "metadata": {},
   "source": [
    "As for registries, you can export the ontology as a `DataFrame`:"
   ]
  },
  {
   "cell_type": "code",
   "execution_count": null,
   "id": "1a300f5d",
   "metadata": {},
   "outputs": [],
   "source": [
    "df = experimentalfactors.df()\n",
    "df.head()"
   ]
  },
  {
   "cell_type": "markdown",
   "id": "fa82506c",
   "metadata": {},
   "source": [
    "Unlike registries, you can also export it as a Pronto object via `public.ontology`."
   ]
  },
  {
   "cell_type": "markdown",
   "id": "d4da4d20",
   "metadata": {},
   "source": [
    "## Look up terms"
   ]
  },
  {
   "cell_type": "markdown",
   "id": "87e071ee",
   "metadata": {},
   "source": [
    "As for registries, terms can be looked up with auto-complete:"
   ]
  },
  {
   "cell_type": "code",
   "execution_count": null,
   "id": "d65be07e",
   "metadata": {},
   "outputs": [],
   "source": [
    "lookup = experimentalfactors.lookup()"
   ]
  },
  {
   "cell_type": "markdown",
   "id": "71f61ba5",
   "metadata": {},
   "source": [
    "The `.` accessor provides normalized terms (lower case, only contains alphanumeric characters and underscores):"
   ]
  },
  {
   "cell_type": "code",
   "execution_count": null,
   "id": "996b3513",
   "metadata": {},
   "outputs": [],
   "source": [
    "lookup.sequencer"
   ]
  },
  {
   "cell_type": "markdown",
   "id": "b4eec918",
   "metadata": {},
   "source": [
    "To look up the exact original strings, convert the lookup object to dict and use the `[]` accessor:"
   ]
  },
  {
   "cell_type": "code",
   "execution_count": null,
   "id": "35fe32df",
   "metadata": {},
   "outputs": [],
   "source": [
    "lookup_dict = lookup.dict()\n",
    "lookup_dict[\"sequencer\"]"
   ]
  },
  {
   "cell_type": "markdown",
   "id": "85d8987b",
   "metadata": {},
   "source": [
    "By default, the `name` field is used to generate lookup keys. You can specify another field to look up:"
   ]
  },
  {
   "cell_type": "code",
   "execution_count": null,
   "id": "92798f6b",
   "metadata": {},
   "outputs": [],
   "source": [
    "lookup = experimentalfactors.lookup(experimentalfactors.ontology_id)"
   ]
  },
  {
   "cell_type": "code",
   "execution_count": null,
   "id": "06200062",
   "metadata": {},
   "outputs": [],
   "source": [
    "lookup.efo_0003739"
   ]
  },
  {
   "cell_type": "markdown",
   "id": "37645f42",
   "metadata": {},
   "source": [
    "## Search terms"
   ]
  },
  {
   "cell_type": "markdown",
   "id": "ef829184",
   "metadata": {},
   "source": [
    "Search behaves in the same way as it does for registries:"
   ]
  },
  {
   "cell_type": "code",
   "execution_count": null,
   "id": "8d8bcdc2",
   "metadata": {},
   "outputs": [],
   "source": [
    "experimentalfactors.search(\"single-cell rna seq\").head(3)"
   ]
  },
  {
   "cell_type": "markdown",
   "id": "8fb26b92",
   "metadata": {},
   "source": [
    "By default, search also covers synonyms:"
   ]
  },
  {
   "cell_type": "code",
   "execution_count": null,
   "id": "59231a84",
   "metadata": {},
   "outputs": [],
   "source": [
    "experimentalfactors.search(\"single-cell RNA-seq\").head(3)"
   ]
  },
  {
   "cell_type": "markdown",
   "id": "66909e3c",
   "metadata": {},
   "source": [
    "You can turn this off synonym by passing `synonyms_field=None`:"
   ]
  },
  {
   "cell_type": "code",
   "execution_count": null,
   "id": "34be5e8f",
   "metadata": {},
   "outputs": [],
   "source": [
    "experimentalfactors.search(\"single-cell RNA-seq\", synonyms_field=None).head(3)"
   ]
  },
  {
   "cell_type": "markdown",
   "id": "f9a9ab75",
   "metadata": {},
   "source": [
    "Search another field (default is `.name`):"
   ]
  },
  {
   "cell_type": "code",
   "execution_count": null,
   "id": "3c3c5dae",
   "metadata": {},
   "outputs": [],
   "source": [
    "experimentalfactors.search(\n",
    "    \"assay which analysis the transcriptome of a biological sample\",\n",
    "    field=experimentalfactors.definition,\n",
    ").head()"
   ]
  },
  {
   "cell_type": "markdown",
   "id": "e4547027",
   "metadata": {},
   "source": [
    "## Standardize ExperimentalFactor identifiers"
   ]
  },
  {
   "cell_type": "markdown",
   "id": "3b819b48",
   "metadata": {},
   "source": [
    "Let us generate a `DataFrame` that stores a number of ExperimentalFactor identifiers, some of which corrupted:"
   ]
  },
  {
   "cell_type": "code",
   "execution_count": null,
   "id": "be27d24d",
   "metadata": {},
   "outputs": [],
   "source": [
    "df_orig = pd.DataFrame(\n",
    "    index=[\n",
    "        \"EFO:0011021\"\n",
    "        \"EFO:1002050\"\n",
    "        \"EFO:1002047\"\n",
    "        \"EFO:1002049\"\n",
    "        \"This experimentalfactor does not exist\",\n",
    "    ]\n",
    ")\n",
    "df_orig"
   ]
  },
  {
   "cell_type": "markdown",
   "id": "3336bbb2",
   "metadata": {},
   "source": [
    "We can check whether any of our values are validated against the ontology reference:"
   ]
  },
  {
   "cell_type": "code",
   "execution_count": null,
   "id": "659baba7",
   "metadata": {},
   "outputs": [],
   "source": [
    "validated = experimentalfactors.validate(df_orig.index, experimentalfactors.name)\n",
    "df_orig.index[~validated]"
   ]
  },
  {
   "cell_type": "markdown",
   "id": "df30d3af",
   "metadata": {},
   "source": [
    "## Ontology source versions"
   ]
  },
  {
   "cell_type": "markdown",
   "id": "e53a0f3b",
   "metadata": {},
   "source": [
    "For any given entity, we can choose from a number of versions:"
   ]
  },
  {
   "cell_type": "code",
   "execution_count": null,
   "id": "2f89d169",
   "metadata": {},
   "outputs": [],
   "source": [
    "lb.PublicSource.filter(entity=\"ExperimentalFactor\").df()"
   ]
  },
  {
   "cell_type": "markdown",
   "id": "9e992d6d",
   "metadata": {},
   "source": [
    "When instantiating a Bionty object, we can choose a source or version:"
   ]
  },
  {
   "cell_type": "code",
   "execution_count": null,
   "id": "59756836",
   "metadata": {
    "lines_to_next_cell": 0
   },
   "outputs": [],
   "source": [
    "public_source = lb.PublicSource.filter(\n",
    "    source=\"efo\", version=\"3.48.0\", organism=\"all\"\n",
    ").one()\n",
    "experimentalfactors= lb.ExperimentalFactor.public(public_source=public_source)\n",
    "experimentalfactors"
   ]
  },
  {
   "cell_type": "markdown",
   "id": "edd7aa55",
   "metadata": {},
   "source": [
    "The currently used ontologies can be displayed using:"
   ]
  },
  {
   "cell_type": "code",
   "execution_count": null,
   "id": "1d871625",
   "metadata": {
    "tags": [
     "hide-output"
    ]
   },
   "outputs": [],
   "source": [
    "lb.PublicSource.filter(currently_used=True).df()"
   ]
  },
  {
   "cell_type": "code",
   "execution_count": null,
   "id": "6985ca6c",
   "metadata": {
    "tags": [
     "hide-cell"
    ]
   },
   "outputs": [],
   "source": [
    "!lamin delete --force test-experimentalfactor\n",
    "!rm -r test-experimentalfactor"
   ]
  }
 ],
 "metadata": {
  "kernelspec": {
   "display_name": "lamindb",
   "language": "python",
   "name": "python3"
  }
 },
 "nbformat": 4,
 "nbformat_minor": 5
}
