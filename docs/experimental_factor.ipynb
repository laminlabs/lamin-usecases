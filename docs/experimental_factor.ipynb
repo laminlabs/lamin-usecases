{
 "cells": [
  {
   "cell_type": "markdown",
   "id": "3e4f784d",
   "metadata": {},
   "source": [
    "# ExperimentalFactor"
   ]
  },
  {
   "cell_type": "markdown",
   "id": "11139d38",
   "metadata": {},
   "source": [
    "lamindb provides access to the following public protein ontologies through [bionty](https://lamin.ai/docs/bionty):\n",
    "\n",
    "1. [Experimental Factor Ontology](https://www.ebi.ac.uk/ols/ontologies/efo)\n",
    "\n",
    "Here we show how to access and search ExperimentalFactor ontologies to standardize new data."
   ]
  },
  {
   "cell_type": "code",
   "execution_count": null,
   "id": "2fbdde65",
   "metadata": {},
   "outputs": [],
   "source": [
    "import bionty as bt\n",
    "import pandas as pd"
   ]
  },
  {
   "cell_type": "markdown",
   "id": "2def56fc",
   "metadata": {},
   "source": [
    "## PublicOntology objects"
   ]
  },
  {
   "cell_type": "markdown",
   "id": "7efa8384",
   "metadata": {},
   "source": [
    "Let us create a public ontology accessor with `.public` method, which chooses a default public ontology source from {class}`~docs:bionty.PublicSource`.\n",
    "It's a [PublicOntology](https://lamin.ai/docs/bionty.dev.publicontology) object, which you can think about as a public registry:"
   ]
  },
  {
   "cell_type": "code",
   "execution_count": null,
   "id": "aaee7ddb",
   "metadata": {},
   "outputs": [],
   "source": [
    "experimentalfactors = bt.ExperimentalFactor.public(organism=\"all\")\n",
    "experimentalfactors"
   ]
  },
  {
   "cell_type": "markdown",
   "id": "4e7b9dfc",
   "metadata": {},
   "source": [
    "As for registries, you can export the ontology as a `DataFrame`:"
   ]
  },
  {
   "cell_type": "code",
   "execution_count": null,
   "id": "5fcd9906",
   "metadata": {},
   "outputs": [],
   "source": [
    "df = experimentalfactors.df()\n",
    "df.head()"
   ]
  },
  {
   "cell_type": "markdown",
   "id": "069451d6",
   "metadata": {},
   "source": [
    "Unlike registries, you can also export it as a Pronto object via `public.ontology`."
   ]
  },
  {
   "cell_type": "markdown",
   "id": "15e70309",
   "metadata": {},
   "source": [
    "## Look up terms"
   ]
  },
  {
   "cell_type": "markdown",
   "id": "f6afe51a",
   "metadata": {},
   "source": [
    "As for registries, terms can be looked up with auto-complete:"
   ]
  },
  {
   "cell_type": "code",
   "execution_count": null,
   "id": "6f1bdfcc",
   "metadata": {},
   "outputs": [],
   "source": [
    "lookup = experimentalfactors.lookup()"
   ]
  },
  {
   "cell_type": "markdown",
   "id": "ce27cc1e",
   "metadata": {},
   "source": [
    "The `.` accessor provides normalized terms (lower case, only contains alphanumeric characters and underscores):"
   ]
  },
  {
   "cell_type": "code",
   "execution_count": null,
   "id": "cb2db5cf",
   "metadata": {},
   "outputs": [],
   "source": [
    "lookup.sequencer"
   ]
  },
  {
   "cell_type": "markdown",
   "id": "e6144469",
   "metadata": {},
   "source": [
    "To look up the exact original strings, convert the lookup object to dict and use the `[]` accessor:"
   ]
  },
  {
   "cell_type": "code",
   "execution_count": null,
   "id": "5b7ac10c",
   "metadata": {},
   "outputs": [],
   "source": [
    "lookup_dict = lookup.dict()\n",
    "lookup_dict[\"sequencer\"]"
   ]
  },
  {
   "cell_type": "markdown",
   "id": "3e432272",
   "metadata": {},
   "source": [
    "By default, the `name` field is used to generate lookup keys. You can specify another field to look up:"
   ]
  },
  {
   "cell_type": "code",
   "execution_count": null,
   "id": "65ff5471",
   "metadata": {},
   "outputs": [],
   "source": [
    "lookup = experimentalfactors.lookup(experimentalfactors.ontology_id)"
   ]
  },
  {
   "cell_type": "code",
   "execution_count": null,
   "id": "3ae8ae4c",
   "metadata": {},
   "outputs": [],
   "source": [
    "lookup.efo_0003739"
   ]
  },
  {
   "cell_type": "markdown",
   "id": "151b2fc9",
   "metadata": {},
   "source": [
    "## Search terms"
   ]
  },
  {
   "cell_type": "markdown",
   "id": "55094c1a",
   "metadata": {},
   "source": [
    "Search behaves in the same way as it does for registries:"
   ]
  },
  {
   "cell_type": "code",
   "execution_count": null,
   "id": "755d5589",
   "metadata": {},
   "outputs": [],
   "source": [
    "experimentalfactors.search(\"single-cell rna seq\").head(3)"
   ]
  },
  {
   "cell_type": "markdown",
   "id": "61d5d925",
   "metadata": {},
   "source": [
    "By default, search also covers synonyms:"
   ]
  },
  {
   "cell_type": "code",
   "execution_count": null,
   "id": "b708a6dd",
   "metadata": {},
   "outputs": [],
   "source": [
    "experimentalfactors.search(\"single-cell RNA-seq\").head(3)"
   ]
  },
  {
   "cell_type": "markdown",
   "id": "06dc2ed6",
   "metadata": {},
   "source": [
    "You can turn this off synonym by passing `synonyms_field=None`:"
   ]
  },
  {
   "cell_type": "code",
   "execution_count": null,
   "id": "669678d8",
   "metadata": {},
   "outputs": [],
   "source": [
    "experimentalfactors.search(\"single-cell RNA-seq\", synonyms_field=None).head(3)"
   ]
  },
  {
   "cell_type": "markdown",
   "id": "031b9661",
   "metadata": {},
   "source": [
    "Search another field (default is `.name`):"
   ]
  },
  {
   "cell_type": "code",
   "execution_count": null,
   "id": "d7f2dd7a",
   "metadata": {},
   "outputs": [],
   "source": [
    "experimentalfactors.search(\n",
    "    \"assay which analysis the transcriptome of a biological sample\",\n",
    "    field=experimentalfactors.definition,\n",
    ").head()"
   ]
  },
  {
   "cell_type": "markdown",
   "id": "d63915a9",
   "metadata": {},
   "source": [
    "## Standardize ExperimentalFactor identifiers"
   ]
  },
  {
   "cell_type": "markdown",
   "id": "1f489d5a",
   "metadata": {},
   "source": [
    "Let us generate a `DataFrame` that stores a number of ExperimentalFactor identifiers, some of which corrupted:"
   ]
  },
  {
   "cell_type": "code",
   "execution_count": null,
   "id": "b9509d2c",
   "metadata": {},
   "outputs": [],
   "source": [
    "df_orig = pd.DataFrame(\n",
    "    index=[\n",
    "        \"EFO:0011021\",\n",
    "        \"EFO:1002050\",\n",
    "        \"EFO:1002047\",\n",
    "        \"EFO:1002049\",\n",
    "        \"This experimentalfactor does not exist\",\n",
    "    ]\n",
    ")\n",
    "df_orig"
   ]
  },
  {
   "cell_type": "markdown",
   "id": "3546b061",
   "metadata": {},
   "source": [
    "We can check whether any of our values are validated against the ontology reference:"
   ]
  },
  {
   "cell_type": "code",
   "execution_count": null,
   "id": "8af36dfb",
   "metadata": {},
   "outputs": [],
   "source": [
    "validated = experimentalfactors.validate(df_orig.index, experimentalfactors.name)\n",
    "df_orig.index[~validated]"
   ]
  },
  {
   "cell_type": "markdown",
   "id": "589dbd09",
   "metadata": {},
   "source": [
    "## Ontology source versions"
   ]
  },
  {
   "cell_type": "markdown",
   "id": "baba1a54",
   "metadata": {},
   "source": [
    "For any given entity, we can choose from a number of versions:"
   ]
  },
  {
   "cell_type": "code",
   "execution_count": null,
   "id": "0889f1bb",
   "metadata": {},
   "outputs": [],
   "source": [
    "bt.PublicSource.filter(entity=\"ExperimentalFactor\").df()"
   ]
  },
  {
   "cell_type": "markdown",
   "id": "b76736ee",
   "metadata": {},
   "source": [
    "When instantiating a Bionty object, we can choose a source or version:"
   ]
  },
  {
   "cell_type": "code",
   "execution_count": null,
   "id": "6bcab2d2",
   "metadata": {
    "lines_to_next_cell": 0
   },
   "outputs": [],
   "source": [
    "public_source = bt.PublicSource.filter(\n",
    "    source=\"efo\", version=\"3.48.0\", organism=\"all\"\n",
    ").one()\n",
    "experimentalfactors= bt.ExperimentalFactor.public(public_source=public_source)\n",
    "experimentalfactors"
   ]
  },
  {
   "cell_type": "markdown",
   "id": "a1a3d8de",
   "metadata": {},
   "source": [
    "The currently used ontologies can be displayed using:"
   ]
  },
  {
   "cell_type": "code",
   "execution_count": null,
   "id": "1b0ec957",
   "metadata": {
    "tags": [
     "hide-output"
    ]
   },
   "outputs": [],
   "source": [
    "bt.PublicSource.filter(currently_used=True).df()"
   ]
  }
 ],
 "metadata": {
  "kernelspec": {
   "display_name": "lamindb",
   "language": "python",
   "name": "python3"
  }
 },
 "nbformat": 4,
 "nbformat_minor": 5
}
