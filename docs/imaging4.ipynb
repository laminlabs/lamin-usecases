{
 "cells": [
  {
   "cell_type": "markdown",
   "id": "f9cda35d",
   "metadata": {},
   "source": [
    "# Train machine learning model to identify autophagy positive cells"
   ]
  },
  {
   "cell_type": "markdown",
   "id": "3723ab7b",
   "metadata": {},
   "source": [
    "Now that we extracted features for all single-cell images, we can train a machine learning model to identify autophagy positive cells."
   ]
  },
  {
   "cell_type": "code",
   "execution_count": 21,
   "id": "e1bebafe",
   "metadata": {},
   "outputs": [
    {
     "name": "stdout",
     "output_type": "stream",
     "text": [
      "\u001b[92m→\u001b[0m returning existing Param record with same name: 'random_state'\n",
      "\u001b[92m→\u001b[0m returning existing Param record with same name: 'n_estimators'\n",
      "\u001b[92m→\u001b[0m returning existing Param record with same name: 'max_depth'\n",
      "\u001b[92m→\u001b[0m returning existing Param record with same name: 'min_samples_split'\n",
      "\u001b[92m→\u001b[0m returning existing Param record with same name: 'min_samples_leaf'\n",
      "\u001b[92m→\u001b[0m returning existing Param record with same name: 'max_features'\n",
      "\u001b[92m→\u001b[0m returning existing Param record with same name: 'criterion'\n",
      "\u001b[92m→\u001b[0m returning existing Param record with same name: 'bootstrap'\n",
      "\u001b[92m→\u001b[0m loaded Transform('siQQy6o49VMq0000'), re-started Run('R84WQb7D...') at 2025-02-24 17:33:40 UTC\n",
      "→ params: random_state=42, n_estimators=100, max_depth=10, min_samples_split=2, min_samples_leaf=1, max_features=sqrt, criterion=gini, bootstrap=True\n",
      "\u001b[92m→\u001b[0m notebook imports: lamindb==1.1.0 pandas==2.2.3 scikit-learn==1.6.1\n"
     ]
    }
   ],
   "source": [
    "import lamindb as ln\n",
    "import pandas as pd\n",
    "from sklearn.model_selection import train_test_split\n",
    "from sklearn.ensemble import RandomForestClassifier\n",
    "from sklearn.metrics import classification_report, accuracy_score\n",
    "\n",
    "# Define parameters for our RandomForest Classifier\n",
    "ln.Param(name=\"random_state\", dtype=\"int\").save()\n",
    "ln.Param(name=\"n_estimators\", dtype=\"int\").save()\n",
    "ln.Param(name=\"max_depth\", dtype=\"int\").save()\n",
    "ln.Param(name=\"min_samples_split\", dtype=\"int\").save()\n",
    "ln.Param(name=\"min_samples_leaf\", dtype=\"int\").save()\n",
    "ln.Param(name=\"max_features\", dtype=\"str\").save()\n",
    "ln.Param(name=\"criterion\", dtype=\"str\").save()\n",
    "ln.Param(name=\"bootstrap\", dtype=\"bool\").save()\n",
    "\n",
    "# Define parameter values\n",
    "rfc_params = {\n",
    "    'random_state': 42,\n",
    "    'n_estimators': 100,\n",
    "    'max_depth': 10,\n",
    "    'min_samples_split': 2,\n",
    "    'min_samples_leaf': 1,\n",
    "    'max_features': 'sqrt',\n",
    "    'criterion': 'gini',\n",
    "    'bootstrap': True\n",
    "}\n",
    "\n",
    "ln.track(params=rfc_params)"
   ]
  },
  {
   "cell_type": "markdown",
   "id": "3c2a27d7",
   "metadata": {},
   "source": [
    "Get the `wildtype` and `EI24KO` KO features:"
   ]
  },
  {
   "cell_type": "code",
   "execution_count": 22,
   "id": "be0cb8c8",
   "metadata": {},
   "outputs": [],
   "source": [
    "study = ln.ULabel.get(name=\"autophagy imaging\")\n",
    "\n",
    "sc_datasets = ln.Artifact.filter(ulabels=study).filter(ulabels__name=\"scportrait single-cell images\")\n",
    "featurized_datasets = ln.Artifact.filter(ulabels=study).filter(ulabels__name=\"single-cell image featurization results\")"
   ]
  },
  {
   "cell_type": "code",
   "execution_count": 23,
   "id": "e5d55a9c",
   "metadata": {},
   "outputs": [],
   "source": [
    "# load data\n",
    "wt_cells_afs = featurized_datasets.filter(ulabels__name=\"WT\").distinct().one()\n",
    "features_wt = wt_cells_afs.load()\n",
    "\n",
    "ko_cells_afs = featurized_datasets.filter(ulabels__name=\"EI24KO\").distinct().one()\n",
    "features_ko = ko_cells_afs.load()"
   ]
  },
  {
   "cell_type": "code",
   "execution_count": 24,
   "id": "18b8975d",
   "metadata": {},
   "outputs": [
    {
     "name": "stdout",
     "output_type": "stream",
     "text": [
      "Accuracy: 0.7\n",
      "Classification Report:\n",
      "              precision    recall  f1-score   support\n",
      "\n",
      "           0       0.70      0.95      0.81        20\n",
      "           1       0.67      0.20      0.31        10\n",
      "\n",
      "    accuracy                           0.70        30\n",
      "   macro avg       0.69      0.57      0.56        30\n",
      "weighted avg       0.69      0.70      0.64        30\n",
      "\n"
     ]
    }
   ],
   "source": [
    "# Remove columns we don't want to train on\n",
    "data = features_wt.drop(columns=[\"label\", \"cell_id\"])\n",
    "data = data.drop(columns=[col for col in data.columns if \"mCherry\" in col])\n",
    "\n",
    "# Separate features and target\n",
    "X = data.drop(\"class\", axis=1)\n",
    "y = data[\"class\"]\n",
    "\n",
    "# Split data into training and testing sets\n",
    "X_train, X_test, y_train, y_test = train_test_split(\n",
    "    X, y, test_size=0.2, random_state=42\n",
    ")\n",
    "\n",
    "# TODO can or should we use https://docs.lamin.ai/lamindb.core.mappedcollection (https://docs.lamin.ai/scrna-mappedcollection)\n",
    "\n",
    "# Train model\n",
    "clf = RandomForestClassifier(**rfc_params)\n",
    "clf.fit(X_train, y_train)\n",
    "\n",
    "# Make predictions\n",
    "y_pred = clf.predict(X_test)\n",
    "\n",
    "# Evaluate the model\n",
    "print(f\"Accuracy: {accuracy_score(y_test, y_pred)}\")\n",
    "print(f\"Classification Report:\\n{classification_report(y_test, y_pred)}\")"
   ]
  },
  {
   "cell_type": "markdown",
   "id": "dbf2e68b",
   "metadata": {},
   "source": [
    "TODO 1-3 takeaway sentences"
   ]
  },
  {
   "cell_type": "code",
   "execution_count": 25,
   "id": "503efed9",
   "metadata": {},
   "outputs": [],
   "source": [
    "# add ML parameters\n",
    "# https://docs.lamin.ai/track#track-parameters"
   ]
  },
  {
   "cell_type": "code",
   "execution_count": 26,
   "id": "57b5b44b",
   "metadata": {},
   "outputs": [],
   "source": [
    "data_ko = features_ko.drop(columns=[\"label\", \"cell_id\"])\n",
    "data_ko = data_ko.drop(columns=[x for x in data_ko.columns if \"mCherry\" in x])\n",
    "X_ko = data_ko.drop(\"class\", axis=1)\n",
    "y_true = data_ko[\"class\"]\n",
    "predictions_ko = clf.predict(X_ko)"
   ]
  },
  {
   "cell_type": "code",
   "execution_count": 27,
   "id": "aadcfa91",
   "metadata": {},
   "outputs": [],
   "source": [
    "pred_results = pd.DataFrame({\"prediction\": predictions_ko, \"label\": y_true})"
   ]
  },
  {
   "cell_type": "code",
   "execution_count": 28,
   "id": "adc552f6",
   "metadata": {},
   "outputs": [
    {
     "data": {
      "text/plain": [
       "prediction    0.133758\n",
       "label         0.000000\n",
       "dtype: float64"
      ]
     },
     "execution_count": 28,
     "metadata": {},
     "output_type": "execute_result"
    }
   ],
   "source": [
    "pred_results[pred_results.label == 0].sum() / pred_results[\n",
    "    pred_results.label == 0\n",
    "].count()"
   ]
  },
  {
   "cell_type": "markdown",
   "id": "b05fbc2b",
   "metadata": {},
   "source": [
    "TODO add 1-3 takeaway sentences"
   ]
  },
  {
   "cell_type": "code",
   "execution_count": 29,
   "id": "ba941d44",
   "metadata": {},
   "outputs": [
    {
     "name": "stdout",
     "output_type": "stream",
     "text": [
      "\u001b[94m•\u001b[0m please hit CTRL + s to save the notebook in your editor .... still waiting .... \u001b[92m✓\u001b[0m\n",
      "\u001b[93m!\u001b[0m cells [(0, 21)] were not run consecutively\n",
      "\u001b[92m→\u001b[0m finished Run('R84WQb7D') after 22s at 2025-02-24 17:34:03 UTC\n",
      "\u001b[92m→\u001b[0m go to: https://lamin.ai/scportrait/examples/transform/siQQy6o49VMq0000\n",
      "\u001b[92m→\u001b[0m to update your notebook from the CLI, run: lamin save /home/lukas/code/lamin-usecases/docs/imaging4.ipynb\n"
     ]
    }
   ],
   "source": [
    "ln.finish()"
   ]
  }
 ],
 "metadata": {
  "jupytext": {
   "cell_metadata_filter": "-all",
   "main_language": "python",
   "notebook_metadata_filter": "-all"
  },
  "kernelspec": {
   "display_name": "lamindb",
   "language": "python",
   "name": "python3"
  },
  "language_info": {
   "codemirror_mode": {
    "name": "ipython",
    "version": 3
   },
   "file_extension": ".py",
   "mimetype": "text/x-python",
   "name": "python",
   "nbconvert_exporter": "python",
   "pygments_lexer": "ipython3",
   "version": "3.12.8"
  }
 },
 "nbformat": 4,
 "nbformat_minor": 5
}
