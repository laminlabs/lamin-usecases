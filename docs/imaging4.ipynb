{
 "cells": [
  {
   "cell_type": "markdown",
   "id": "c5ebbf68",
   "metadata": {},
   "source": [
    "# Train Random Forest Classifier to identify autophagy positive cells"
   ]
  },
  {
   "cell_type": "code",
   "execution_count": null,
   "id": "adb9fd5e",
   "metadata": {},
   "outputs": [],
   "source": [
    "import lamindb as ln\n",
    "ln.track()"
   ]
  },
  {
   "cell_type": "code",
   "execution_count": null,
   "id": "589e7b19",
   "metadata": {},
   "outputs": [],
   "source": [
    "from scportrait.pipeline.featurization import CellFeaturizer, MLClusterClassifier\n",
    "import pandas as pd\n",
    "import numpy as np"
   ]
  },
  {
   "cell_type": "code",
   "execution_count": null,
   "id": "952ab3e4",
   "metadata": {},
   "outputs": [],
   "source": [
    "study = ln.ULabel.get(name=\"autophagy imaging\")\n",
    "sc_image_dataset = ln.ULabel.get(name=\"scportrait single-cell images\")\n",
    "featurized_cells = ln.ULabel.get(name = \"single-cell image featurization results\")\n",
    "WT = ln.ULabel.get(name = \"WT\")\n",
    "KO = ln.ULabel.get(name = \"EI24KO\")\n",
    "\n",
    "sc_datasets = ln.Artifact.filter(ulabels=study).filter(ulabels=sc_image_dataset)\n",
    "featurized_datasets = ln.Artifact.filter(ulabels=study).filter(ulabels=featurized_cells)"
   ]
  },
  {
   "cell_type": "code",
   "execution_count": null,
   "id": "686e0231",
   "metadata": {},
   "outputs": [],
   "source": [
    "#load data from lamindb_instance\n",
    "wt_cells = featurized_datasets.filter(ulabels = WT).one()\n",
    "features = wt_cells.load()\n",
    "\n",
    "#load data from lamindb_instance\n",
    "ko_cells = featurized_datasets.filter(ulabels = KO).one()\n",
    "features_ko = ko_cells.load()"
   ]
  },
  {
   "cell_type": "code",
   "execution_count": null,
   "id": "8430efe7",
   "metadata": {},
   "outputs": [],
   "source": [
    "import pandas as pd\n",
    "from sklearn.model_selection import train_test_split\n",
    "from sklearn.ensemble import RandomForestClassifier\n",
    "from sklearn.metrics import classification_report, accuracy_score\n",
    "\n",
    "#lets remove columns we don't want to train on\n",
    "data = features.drop(columns = [\"label\", \"cell_id\"])\n",
    "data = data.drop(columns = [x for x in data.columns if \"mCherry\" in x])\n",
    "\n",
    "# Separate features and target\n",
    "X = data.drop('class', axis=1)\n",
    "y = data['class']\n",
    "\n",
    "# Split data into training and testing sets\n",
    "X_train, X_test, y_train, y_test = train_test_split(X, y, test_size=0.2, random_state=42)\n",
    "\n",
    "# Train RandomForest Classifier\n",
    "clf = RandomForestClassifier(random_state=42)\n",
    "clf.fit(X_train, y_train)\n",
    "\n",
    "# Make predictions\n",
    "y_pred = clf.predict(X_test)\n",
    "\n",
    "# Evaluate the model\n",
    "print(\"Accuracy:\", accuracy_score(y_test, y_pred))\n",
    "print(\"Classification Report:\\n\", classification_report(y_test, y_pred))"
   ]
  },
  {
   "cell_type": "code",
   "execution_count": null,
   "id": "8b36f33d",
   "metadata": {},
   "outputs": [],
   "source": [
    "# add ML parameters\n",
    "# https://docs.lamin.ai/track#track-parameters"
   ]
  },
  {
   "cell_type": "code",
   "execution_count": null,
   "id": "fb77f496",
   "metadata": {},
   "outputs": [],
   "source": [
    "data_ko = features_ko.drop(columns = [\"label\", \"cell_id\"])\n",
    "data_ko = data_ko.drop(columns = [x for x in data_ko.columns if \"mCherry\" in x])\n",
    "X_ko = data_ko.drop('class', axis=1)\n",
    "y_true = data_ko['class']\n",
    "predictions_ko = clf.predict(X_ko)"
   ]
  },
  {
   "cell_type": "code",
   "execution_count": null,
   "id": "f7b6d7ea",
   "metadata": {},
   "outputs": [],
   "source": [
    "pred_results = pd.DataFrame({\"prediction\":predictions_ko,\"label\":y_true})"
   ]
  },
  {
   "cell_type": "code",
   "execution_count": null,
   "id": "c5eff7c6",
   "metadata": {},
   "outputs": [],
   "source": [
    "pred_results[pred_results.label == 0].sum()/pred_results[pred_results.label == 0].count()"
   ]
  },
  {
   "cell_type": "code",
   "execution_count": null,
   "id": "b3e2360f",
   "metadata": {},
   "outputs": [],
   "source": [
    "ln.finish()"
   ]
  },
  {
   "cell_type": "code",
   "execution_count": null,
   "id": "47c84646",
   "metadata": {},
   "outputs": [],
   "source": []
  }
 ],
 "metadata": {
  "jupytext": {
   "cell_metadata_filter": "-all",
   "main_language": "python",
   "notebook_metadata_filter": "-all"
  }
 },
 "nbformat": 4,
 "nbformat_minor": 5
}
