{
 "cells": [
  {
   "cell_type": "markdown",
   "id": "6a0da8a5",
   "metadata": {},
   "source": [
    "# Train an autoencoder to get a low-dimensional representation"
   ]
  },
  {
   "cell_type": "code",
   "execution_count": null,
   "id": "c03d51f8",
   "metadata": {},
   "outputs": [],
   "source": [
    "import lamindb as ln\n",
    "import anndata as ad\n",
    "import numpy as np\n",
    "import scgen"
   ]
  },
  {
   "cell_type": "code",
   "execution_count": null,
   "id": "626c2cef",
   "metadata": {},
   "outputs": [],
   "source": [
    "ln.track()"
   ]
  },
  {
   "cell_type": "code",
   "execution_count": null,
   "id": "f232d65e",
   "metadata": {},
   "outputs": [],
   "source": [
    "dataset = ln.Dataset.filter(name=\"My versioned scRNA-seq dataset\", version=\"2\").one()"
   ]
  },
  {
   "cell_type": "markdown",
   "id": "cd564b74",
   "metadata": {},
   "source": [
    "## Train scgen model on the concatenated dataset"
   ]
  },
  {
   "cell_type": "code",
   "execution_count": null,
   "id": "dd446227",
   "metadata": {},
   "outputs": [],
   "source": [
    "data_train = dataset.load(join=\"inner\")"
   ]
  },
  {
   "cell_type": "code",
   "execution_count": null,
   "id": "6bdb4982",
   "metadata": {},
   "outputs": [],
   "source": [
    "data_train"
   ]
  },
  {
   "cell_type": "code",
   "execution_count": null,
   "id": "b1c7e31a",
   "metadata": {},
   "outputs": [],
   "source": [
    "data_train.obs.file_id.value_counts()"
   ]
  },
  {
   "cell_type": "markdown",
   "id": "29bd1d9c",
   "metadata": {},
   "source": [
    "We use `SCGEN` here instead of `SCVI` or `SCANVI` because we have access only to normalized exression data."
   ]
  },
  {
   "cell_type": "code",
   "execution_count": null,
   "id": "f9b124a0",
   "metadata": {},
   "outputs": [],
   "source": [
    "scgen.SCGEN.setup_anndata(data_train)"
   ]
  },
  {
   "cell_type": "code",
   "execution_count": null,
   "id": "05da62d6",
   "metadata": {},
   "outputs": [],
   "source": [
    "vae = scgen.SCGEN(data_train)"
   ]
  },
  {
   "cell_type": "code",
   "execution_count": null,
   "id": "4e7b5cb4",
   "metadata": {},
   "outputs": [],
   "source": [
    "vae.train(max_epochs=1)  # we use max_epochs=1 to be able to run it on CI"
   ]
  },
  {
   "cell_type": "markdown",
   "id": "f6832304",
   "metadata": {},
   "source": [
    "## Train on the files iteratively"
   ]
  },
  {
   "cell_type": "markdown",
   "id": "2b2cb297",
   "metadata": {},
   "source": [
    "For a large number of huge files it might be better to train the model iteratively."
   ]
  },
  {
   "cell_type": "code",
   "execution_count": null,
   "id": "addaa4cf",
   "metadata": {},
   "outputs": [],
   "source": [
    "file1, file2 = dataset.files.list()"
   ]
  },
  {
   "cell_type": "code",
   "execution_count": null,
   "id": "b1bd6fc6",
   "metadata": {},
   "outputs": [],
   "source": [
    "shared_genes = file1.features[\"var\"] & file2.features[\"var\"]\n",
    "shred_genes_ensembl = shared_genes.list(\"ensembl_gene_id\")"
   ]
  },
  {
   "cell_type": "code",
   "execution_count": null,
   "id": "ecdfac83",
   "metadata": {},
   "outputs": [],
   "source": [
    "data_train1 = file1.load()[:, shred_genes_ensembl].copy()"
   ]
  },
  {
   "cell_type": "code",
   "execution_count": null,
   "id": "e5dcb5ab",
   "metadata": {},
   "outputs": [],
   "source": [
    "data_train1"
   ]
  },
  {
   "cell_type": "code",
   "execution_count": null,
   "id": "0ec5a6cf",
   "metadata": {},
   "outputs": [],
   "source": [
    "scgen.SCGEN.setup_anndata(data_train1)"
   ]
  },
  {
   "cell_type": "code",
   "execution_count": null,
   "id": "d1c7d991",
   "metadata": {},
   "outputs": [],
   "source": [
    "vae = scgen.SCGEN(data_train1)"
   ]
  },
  {
   "cell_type": "code",
   "execution_count": null,
   "id": "1ac8a69e",
   "metadata": {},
   "outputs": [],
   "source": [
    "vae.train(max_epochs=1)  # we use max_epochs=1 to be able to run it on CI"
   ]
  },
  {
   "cell_type": "code",
   "execution_count": null,
   "id": "d42318ec",
   "metadata": {},
   "outputs": [],
   "source": [
    "vae.save(\"saved_models/scgen\")"
   ]
  },
  {
   "cell_type": "code",
   "execution_count": null,
   "id": "aba80e62",
   "metadata": {},
   "outputs": [],
   "source": [
    "data_train2 = file2.load()[:, shred_genes_ensembl].copy()"
   ]
  },
  {
   "cell_type": "code",
   "execution_count": null,
   "id": "e113974a",
   "metadata": {},
   "outputs": [],
   "source": [
    "data_train2"
   ]
  },
  {
   "cell_type": "code",
   "execution_count": null,
   "id": "2dbc3bb3",
   "metadata": {},
   "outputs": [],
   "source": [
    "vae = scgen.SCGEN.load(\"saved_models/scgen\", data_train2)"
   ]
  },
  {
   "cell_type": "code",
   "execution_count": null,
   "id": "f912d6fa",
   "metadata": {},
   "outputs": [],
   "source": [
    "vae.train(max_epochs=1)  # we use max_epochs=1 to be able to run it on CI"
   ]
  },
  {
   "cell_type": "code",
   "execution_count": null,
   "id": "45a8ba83",
   "metadata": {},
   "outputs": [],
   "source": [
    "vae.save(\"saved_models/scgen\", overwrite=True)"
   ]
  },
  {
   "cell_type": "markdown",
   "id": "43770f7a",
   "metadata": {},
   "source": [
    "## Save the model weights"
   ]
  },
  {
   "cell_type": "code",
   "execution_count": null,
   "id": "ccfdc59a",
   "metadata": {},
   "outputs": [],
   "source": [
    "weights = ln.File(\"saved_models/scgen/model.pt\", key=\"models/scgen/model.pt\")"
   ]
  },
  {
   "cell_type": "code",
   "execution_count": null,
   "id": "6588bcb3",
   "metadata": {},
   "outputs": [],
   "source": [
    "weights.save()"
   ]
  },
  {
   "cell_type": "markdown",
   "id": "296c67a4",
   "metadata": {},
   "source": [
    "## Get and store the low-dimensional representation"
   ]
  },
  {
   "cell_type": "code",
   "execution_count": null,
   "id": "0f482b26",
   "metadata": {},
   "outputs": [],
   "source": [
    "latent1 = vae.get_latent_representation(data_train1)\n",
    "latent2 = vae.get_latent_representation(data_train2)\n",
    "\n",
    "latent = np.vstack((latent1, latent2))"
   ]
  },
  {
   "cell_type": "code",
   "execution_count": null,
   "id": "7bc8cb93",
   "metadata": {},
   "outputs": [],
   "source": [
    "adata_latent = ad.AnnData(X=latent)"
   ]
  },
  {
   "cell_type": "markdown",
   "id": "8ad45276",
   "metadata": {},
   "source": [
    "Set file id."
   ]
  },
  {
   "cell_type": "code",
   "execution_count": null,
   "id": "5511a225",
   "metadata": {},
   "outputs": [],
   "source": [
    "adata_latent.obs[\"file_id\"] = np.concatenate(\n",
    "    (np.full(len(data_train1), file1.id), np.full(len(data_train2), file2.id))\n",
    ")"
   ]
  },
  {
   "cell_type": "code",
   "execution_count": null,
   "id": "b5536eb1",
   "metadata": {},
   "outputs": [],
   "source": [
    "file_latent = ln.File(adata_latent, key=\"adata_latent.h5ad\")"
   ]
  },
  {
   "cell_type": "code",
   "execution_count": null,
   "id": "67ad2d22",
   "metadata": {},
   "outputs": [],
   "source": [
    "file_latent.save()"
   ]
  },
  {
   "cell_type": "code",
   "execution_count": null,
   "id": "39f1326c",
   "metadata": {},
   "outputs": [],
   "source": [
    "file_latent.genes.set(shared_genes)"
   ]
  },
  {
   "cell_type": "code",
   "execution_count": null,
   "id": "5caa3643",
   "metadata": {},
   "outputs": [],
   "source": [
    "file_latent.describe()"
   ]
  },
  {
   "cell_type": "markdown",
   "id": "07f33746",
   "metadata": {},
   "source": [
    "## Append the low-dimensional representation to the dataset"
   ]
  },
  {
   "cell_type": "code",
   "execution_count": null,
   "id": "01fd5a49",
   "metadata": {},
   "outputs": [],
   "source": [
    "dataset_v3 = ln.Dataset(\n",
    "    dataset.files.list() + [file_latent],\n",
    "    is_new_version_of=dataset,\n",
    ")"
   ]
  },
  {
   "cell_type": "code",
   "execution_count": null,
   "id": "0364f1ea",
   "metadata": {},
   "outputs": [],
   "source": [
    "dataset_v3"
   ]
  },
  {
   "cell_type": "code",
   "execution_count": null,
   "id": "99142f30",
   "metadata": {},
   "outputs": [],
   "source": [
    "dataset_v3.save()"
   ]
  },
  {
   "cell_type": "code",
   "execution_count": null,
   "id": "74753e31",
   "metadata": {},
   "outputs": [],
   "source": [
    "# clean up test instance\n",
    "!lamin delete --force test-scrna\n",
    "!rm -r ./test-scrna"
   ]
  }
 ],
 "metadata": {
  "kernelspec": {
   "display_name": "Python 3",
   "language": "python",
   "name": "python3"
  },
  "language_info": {
   "codemirror_mode": {
    "name": "ipython",
    "version": 3
   },
   "file_extension": ".py",
   "mimetype": "text/x-python",
   "name": "python",
   "nbconvert_exporter": "python",
   "pygments_lexer": "ipython3",
   "version": "3.8.8"
  },
  "nbproject": {
   "id": "Qr1kIHvK506r",
   "parent": null,
   "pypackage": null,
   "time_init": "2023-10-01T13:49:05.628463+00:00",
   "user_handle": null,
   "user_id": null,
   "user_name": null,
   "version": "0"
  }
 },
 "nbformat": 4,
 "nbformat_minor": 5
}
