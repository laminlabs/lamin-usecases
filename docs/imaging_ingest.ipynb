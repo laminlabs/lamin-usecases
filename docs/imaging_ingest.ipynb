{
 "cells": [
  {
   "cell_type": "markdown",
   "id": "0",
   "metadata": {},
   "source": [
    "# Ingest autophagy imaging data"
   ]
  },
  {
   "cell_type": "markdown",
   "id": "1",
   "metadata": {},
   "source": [
    "The images used here were acquired as part of a study ([Publication](https://www.google.com/url?sa=t&source=web&rct=j&opi=89978449&url=https://www.biorxiv.org/content/10.1101/2023.06.01.542416v1&ved=2ahUKEwj3m56hs52LAxWxRfEDHQZwKZ8QFnoECBIQAQ&usg=AOvVaw04HsGDIPcIPr1ldblXuh0Z)) on autophagy, a cellular process during which cells recycle their components in autophagosomes.\n",
    "To identify genetic determinants of autophagy, the study tracked the formation of autophagosomes through microscopy of the fluorescent autophagosome marker mCherry-LC3B following treatment of cells with the autophagy inducer *Torin-1*.\n",
    "\n",
    "Here, we ingest the microscopy data, consisting of TIFF image stacks and the corresponding metadata file - a standard format for such imaging experiments."
   ]
  },
  {
   "cell_type": "code",
   "execution_count": null,
   "id": "2",
   "metadata": {
    "tags": [
     "hide-output"
    ]
   },
   "outputs": [],
   "source": [
    "import lamindb as ln\n",
    "import pandas as pd\n",
    "import tifffile\n",
    "import matplotlib.pyplot as plt\n",
    "\n",
    "ln.track()\n",
    "\n",
    "assert ln.setup.settings.instance.slug == \"scportrait/examples\""
   ]
  },
  {
   "cell_type": "code",
   "execution_count": null,
   "id": "3",
   "metadata": {},
   "outputs": [],
   "source": [
    "# The metadata file contains the file paths of the images and all associated metadata\n",
    "# We can load it later to annotate the imaging data\n",
    "metadata = pd.read_csv(\"input_data_imaging_usecase/metadata_files.csv\")\n",
    "metadata.head(3)"
   ]
  },
  {
   "cell_type": "code",
   "execution_count": null,
   "id": "4",
   "metadata": {},
   "outputs": [],
   "source": [
    "# An example image\n",
    "img = tifffile.imread(metadata.iloc[0][\"image_path\"])\n",
    "plt.imshow(img)\n",
    "plt.axis(\"off\")\n",
    "plt.show()"
   ]
  },
  {
   "cell_type": "code",
   "execution_count": null,
   "id": "5",
   "metadata": {},
   "outputs": [],
   "source": [
    "# Ingest the imaging data directory, using the image_path prefix as the key\n",
    "# This ensures that the image_path and loaded Artifact paths still align\n",
    "artifacts = ln.Artifact.from_dir(\n",
    "    \"./input_data_imaging_usecase\", key=\"input_data_imaging_usecase\"\n",
    ")\n",
    "ln.save(artifacts)"
   ]
  },
  {
   "cell_type": "code",
   "execution_count": null,
   "id": "6",
   "metadata": {},
   "outputs": [],
   "source": [
    "ln.Collection(\n",
    "    artifacts,\n",
    "    key=\"input_data_imaging_usecase\",\n",
    "    description=\"TIFF stacks and metadata of mCherry-LC3B microscopy.\",\n",
    ").save()"
   ]
  },
  {
   "cell_type": "code",
   "execution_count": null,
   "id": "7",
   "metadata": {},
   "outputs": [],
   "source": [
    "ln.finish()"
   ]
  }
 ],
 "metadata": {
  "jupytext": {
   "cell_metadata_filter": "tags,-all",
   "main_language": "python",
   "notebook_metadata_filter": "-all"
  },
  "kernelspec": {
   "display_name": "lamindb",
   "language": "python",
   "name": "python3"
  },
  "language_info": {
   "codemirror_mode": {
    "name": "ipython",
    "version": 3
   },
   "file_extension": ".py",
   "mimetype": "text/x-python",
   "name": "python",
   "nbconvert_exporter": "python",
   "pygments_lexer": "ipython3",
   "version": "3.12.8"
  }
 },
 "nbformat": 4,
 "nbformat_minor": 5
}
