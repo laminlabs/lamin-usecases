{
 "cells": [
  {
   "cell_type": "markdown",
   "id": "8fcdd494-e6be-4673-a6bb-a8ab912d37cb",
   "metadata": {},
   "source": [
    "## Leveraging schemas for reproducible biomedical data analysis \n",
    "---\n",
    "\n",
    "In this tutorial, we will use LaminDB to enhance the organization and reproducibility of an ML analysis. Specifically, we will explore:\n",
    "\n",
    "- The role of schemas in maintaining dataset consistency.\n",
    "- The importance of features and labels in structuring biological data.\n",
    "- How to create and register features and labels in LaminDB.\n",
    "- Enforcing schema adherence to improve findability and interoperability.\n",
    "- How structured data management streamlines the analysis workflow.\n",
    "\n",
    "It is split into multiple notebooks which can resemble multiple stages a dataset is processed in. \n",
    "\n",
    "- Introduction and querying raw data\n",
    "- Preprocessing Raw data and some EDA\n",
    "- ML Analysis and biological interpretation\n",
    "\n",
    "By the end of this tutorial, you'll learn how to curate and structure biological datasets using LaminDB, enabling seamless integration of multiple experiments, improving dataset discoverability, and maintaining an efficient, reproducible data analysis pipeline."
   ]
  },
  {
   "cell_type": "markdown",
   "id": "1cfacc74-e8d2-4653-828e-29463dbb71a7",
   "metadata": {},
   "source": [
    "### Our dataset: Single-cell RNA sequencing reveals the mechanism of human breast cancer metastasis\n",
    "---\n",
    "\n",
    "`Objective`: This dataset investigates the molecular changes associated with lymph node metastasis in breast cancer using single-cell RNA sequencing (scRNA-seq). By analyzing matched primary breast cancer (PC) tumors and lymph node (LN) metastases from five patients, the study aims to identify key transcriptional differences between primary and metastatic sites. The analysis seeks to uncover potential biomarkers, pathways, and cellular programs that drive the transition from primary tumors to metastatic disease in the lymph nodes.\n",
    "\n",
    "`Reference`: [Xu K, Wang R, Chen Q, Liu Y et al. Microenvironment components and spatially resolved single-cell transcriptome atlas of breast cancer metastatic axillary lymph nodes.](https://www.sciengine.com/ABBS/doi/10.3724/abbs.2022131) \n",
    "\n",
    "\n"
   ]
  },
  {
   "cell_type": "markdown",
   "id": "9a880d79-18f7-4f1a-9afb-59753bbceed9",
   "metadata": {},
   "source": [
    "We're interested in figuring out: What are the key transcriptomic features that drive the transition from primary tumor to lymph node metastasis in breast cancer?\n",
    "\n",
    "To that end, we will walk-through the following steps:\n",
    "\n",
    "- Extract latent representations from scRNA-seq data using scVI.\n",
    "- Construct a bipartite cell-gene graph.\n",
    "- Train a heterogeneous GNN for cell classification.\n",
    "- Interpret results using Integrated Gradients (IG)."
   ]
  },
  {
   "cell_type": "markdown",
   "id": "e47c1df1-e152-4ad1-b9bf-33cfd4b3df0e",
   "metadata": {},
   "source": [
    "### Getting Raw Data"
   ]
  },
  {
   "cell_type": "markdown",
   "id": "65bcaa80-3b73-4680-bbc3-415113c3576d",
   "metadata": {},
   "source": [
    "Regardless of the data source—whether a Nextflow, Snakemake, or Redun pipeline—we first register and ingest the raw data. This step ensures that anyone starting the analysis can easily access and use the raw data without redundancy. Instead of manually retrieving files, users can simply search for the raw artifact in the LaminDB Artifacts Registry and load the data seamlessly, ensuring consistency and reproducibility in the workflow.\n",
    "\n",
    "Here, we will create an AnnData object from the raw data and register it as an artifact, making it easily accessible for downstream analysis. "
   ]
  },
  {
   "cell_type": "code",
   "execution_count": 27,
   "id": "0344178b-627d-4e03-9e6e-756899ece8c2",
   "metadata": {},
   "outputs": [],
   "source": [
    "import lamindb as ln\n",
    "import bionty as bt"
   ]
  },
  {
   "cell_type": "code",
   "execution_count": 28,
   "id": "ff36804f-5248-47f4-bca0-cc2141a1bb1c",
   "metadata": {},
   "outputs": [
    {
     "name": "stdout",
     "output_type": "stream",
     "text": [
      "\u001b[92m→\u001b[0m loaded Transform('mI70CDrdZK310000'), re-started Run('6WZyqNus...') at 2025-03-06 13:22:30 UTC\n",
      "\u001b[92m→\u001b[0m notebook imports: anndata==0.11.3 bionty==1.1.0 lamindb==1.1a1 pandas==2.2.3 scanpy==1.11.0 scipy==1.14.1 tqdm==4.67.1\n"
     ]
    }
   ],
   "source": [
    "ln.track()"
   ]
  },
  {
   "cell_type": "code",
   "execution_count": null,
   "id": "76b539c1-9189-4069-9dcb-75b01d9bf195",
   "metadata": {},
   "outputs": [],
   "source": [
    "import os\n",
    "from pathlib import Path\n",
    "import pandas as pd\n",
    "import scanpy as sc\n",
    "import anndata\n",
    "import scipy.sparse as sp\n",
    "from tqdm import tqdm"
   ]
  },
  {
   "cell_type": "code",
   "execution_count": null,
   "id": "a1b9758a",
   "metadata": {},
   "outputs": [],
   "source": [
    "adata = ln.Artifact.get(\"9KD0HE9lVveLpvuI0000\")"
   ]
  },
  {
   "cell_type": "code",
   "execution_count": 12,
   "id": "b979a738-2634-426f-9d42-b0d48f153ca4",
   "metadata": {},
   "outputs": [
    {
     "data": {
      "text/html": [
       "<pre style=\"white-space:pre;overflow-x:auto;line-height:normal;font-family:Menlo,'DejaVu Sans Mono',consolas,'Courier New',monospace\"><span style=\"font-weight: bold\">Artifact</span><span style=\"color: #7f7f7f; text-decoration-color: #7f7f7f; font-weight: bold\"> .h5ad/AnnData</span>\n",
       "<span style=\"color: #7f7f7f; text-decoration-color: #7f7f7f\">└── </span><span style=\"color: #00ffff; text-decoration-color: #00ffff; font-weight: bold\">General</span>\n",
       "<span style=\"color: #7f7f7f; text-decoration-color: #7f7f7f\">    ├── </span>.uid = '9KD0HE9lVveLpvuI0000'\n",
       "<span style=\"color: #7f7f7f; text-decoration-color: #7f7f7f\">    ├── </span>.key = 'data/prep_adata'\n",
       "<span style=\"color: #7f7f7f; text-decoration-color: #7f7f7f\">    ├── </span>.size = 124511524\n",
       "<span style=\"color: #7f7f7f; text-decoration-color: #7f7f7f\">    ├── </span>.hash = 'gnwU_GFFN_xIhtncrxu-tv'\n",
       "<span style=\"color: #7f7f7f; text-decoration-color: #7f7f7f\">    ├── </span>.path = <span style=\"color: #7f7f7f; text-decoration-color: #7f7f7f\">s3://lamindata</span>/.lamindb/9KD0HE9lVveLpvuI0000.h5ad\n",
       "<span style=\"color: #7f7f7f; text-decoration-color: #7f7f7f\">    ├── </span>.created_by = paupaiz\n",
       "<span style=\"color: #7f7f7f; text-decoration-color: #7f7f7f\">    └── </span>.created_at = <span style=\"color: #7f7f7f; text-decoration-color: #7f7f7f\">2025-03-03 17:24:56</span>\n",
       "</pre>\n"
      ],
      "text/plain": [
       "\u001b[1mArtifact\u001b[0m\u001b[1;2m .h5ad/AnnData\u001b[0m\n",
       "\u001b[2m└── \u001b[0m\u001b[1;96mGeneral\u001b[0m\n",
       "\u001b[2m    \u001b[0m\u001b[2m├── \u001b[0m.uid = '9KD0HE9lVveLpvuI0000'\n",
       "\u001b[2m    \u001b[0m\u001b[2m├── \u001b[0m.key = 'data/prep_adata'\n",
       "\u001b[2m    \u001b[0m\u001b[2m├── \u001b[0m.size = 124511524\n",
       "\u001b[2m    \u001b[0m\u001b[2m├── \u001b[0m.hash = 'gnwU_GFFN_xIhtncrxu-tv'\n",
       "\u001b[2m    \u001b[0m\u001b[2m├── \u001b[0m.path = \u001b[2ms3://lamindata\u001b[0m/.lamindb/9KD0HE9lVveLpvuI0000.h5ad\n",
       "\u001b[2m    \u001b[0m\u001b[2m├── \u001b[0m.created_by = paupaiz\n",
       "\u001b[2m    \u001b[0m\u001b[2m└── \u001b[0m.created_at = \u001b[2m2025-03-03 17:24:56\u001b[0m\n"
      ]
     },
     "metadata": {},
     "output_type": "display_data"
    }
   ],
   "source": [
    "adata.describe()"
   ]
  },
  {
   "cell_type": "code",
   "execution_count": 33,
   "id": "bb8ee357",
   "metadata": {},
   "outputs": [
    {
     "data": {
      "text/plain": [
       "AnnData object with n_obs × n_vars = 117481 × 17872\n",
       "    obs: 'patient', 'site'"
      ]
     },
     "execution_count": 33,
     "metadata": {},
     "output_type": "execute_result"
    }
   ],
   "source": [
    "# read adata\n",
    "adata = sc.read(\"/Users/paulinampaiz/Desktop/myLamin_local/data/adata_raw.h5ad\")\n",
    "adata"
   ]
  },
  {
   "cell_type": "code",
   "execution_count": 6,
   "id": "3fbe3338-f8a7-43c1-a075-a669aadee125",
   "metadata": {},
   "outputs": [
    {
     "data": {
      "text/html": [
       "<div>\n",
       "<style scoped>\n",
       "    .dataframe tbody tr th:only-of-type {\n",
       "        vertical-align: middle;\n",
       "    }\n",
       "\n",
       "    .dataframe tbody tr th {\n",
       "        vertical-align: top;\n",
       "    }\n",
       "\n",
       "    .dataframe thead th {\n",
       "        text-align: right;\n",
       "    }\n",
       "</style>\n",
       "<table border=\"1\" class=\"dataframe\">\n",
       "  <thead>\n",
       "    <tr style=\"text-align: right;\">\n",
       "      <th></th>\n",
       "      <th>n_cells_by_counts</th>\n",
       "      <th>mean_counts</th>\n",
       "      <th>log1p_mean_counts</th>\n",
       "      <th>pct_dropout_by_counts</th>\n",
       "      <th>total_counts</th>\n",
       "      <th>log1p_total_counts</th>\n",
       "      <th>n_cells</th>\n",
       "      <th>highly_variable</th>\n",
       "      <th>means</th>\n",
       "      <th>dispersions</th>\n",
       "      <th>dispersions_norm</th>\n",
       "    </tr>\n",
       "  </thead>\n",
       "  <tbody>\n",
       "    <tr>\n",
       "      <th>SPP1</th>\n",
       "      <td>2923</td>\n",
       "      <td>0.430912</td>\n",
       "      <td>0.358312</td>\n",
       "      <td>97.511938</td>\n",
       "      <td>50624</td>\n",
       "      <td>10.832201</td>\n",
       "      <td>2907</td>\n",
       "      <td>True</td>\n",
       "      <td>1.060332</td>\n",
       "      <td>6.013085</td>\n",
       "      <td>7.134072</td>\n",
       "    </tr>\n",
       "    <tr>\n",
       "      <th>B2M</th>\n",
       "      <td>114032</td>\n",
       "      <td>13.144142</td>\n",
       "      <td>2.649301</td>\n",
       "      <td>2.935794</td>\n",
       "      <td>1544187</td>\n",
       "      <td>14.250009</td>\n",
       "      <td>106029</td>\n",
       "      <td>True</td>\n",
       "      <td>4.639525</td>\n",
       "      <td>3.853987</td>\n",
       "      <td>1.000000</td>\n",
       "    </tr>\n",
       "    <tr>\n",
       "      <th>IGLC2</th>\n",
       "      <td>27936</td>\n",
       "      <td>7.435526</td>\n",
       "      <td>2.132452</td>\n",
       "      <td>76.220836</td>\n",
       "      <td>873533</td>\n",
       "      <td>13.680302</td>\n",
       "      <td>27072</td>\n",
       "      <td>True</td>\n",
       "      <td>3.361647</td>\n",
       "      <td>7.955990</td>\n",
       "      <td>4.061160</td>\n",
       "    </tr>\n",
       "    <tr>\n",
       "      <th>IGLC3</th>\n",
       "      <td>12000</td>\n",
       "      <td>2.112044</td>\n",
       "      <td>1.135280</td>\n",
       "      <td>89.785582</td>\n",
       "      <td>248125</td>\n",
       "      <td>12.421692</td>\n",
       "      <td>11517</td>\n",
       "      <td>True</td>\n",
       "      <td>2.195756</td>\n",
       "      <td>7.512773</td>\n",
       "      <td>3.253199</td>\n",
       "    </tr>\n",
       "    <tr>\n",
       "      <th>CMC1</th>\n",
       "      <td>7777</td>\n",
       "      <td>0.083971</td>\n",
       "      <td>0.080631</td>\n",
       "      <td>93.380206</td>\n",
       "      <td>9865</td>\n",
       "      <td>9.196850</td>\n",
       "      <td>7676</td>\n",
       "      <td>True</td>\n",
       "      <td>0.437156</td>\n",
       "      <td>2.875771</td>\n",
       "      <td>0.787998</td>\n",
       "    </tr>\n",
       "  </tbody>\n",
       "</table>\n",
       "</div>"
      ],
      "text/plain": [
       "       n_cells_by_counts  mean_counts  log1p_mean_counts  \\\n",
       "SPP1                2923     0.430912           0.358312   \n",
       "B2M               114032    13.144142           2.649301   \n",
       "IGLC2              27936     7.435526           2.132452   \n",
       "IGLC3              12000     2.112044           1.135280   \n",
       "CMC1                7777     0.083971           0.080631   \n",
       "\n",
       "       pct_dropout_by_counts  total_counts  log1p_total_counts  n_cells  \\\n",
       "SPP1               97.511938         50624           10.832201     2907   \n",
       "B2M                 2.935794       1544187           14.250009   106029   \n",
       "IGLC2              76.220836        873533           13.680302    27072   \n",
       "IGLC3              89.785582        248125           12.421692    11517   \n",
       "CMC1               93.380206          9865            9.196850     7676   \n",
       "\n",
       "       highly_variable     means  dispersions  dispersions_norm  \n",
       "SPP1              True  1.060332     6.013085          7.134072  \n",
       "B2M               True  4.639525     3.853987          1.000000  \n",
       "IGLC2             True  3.361647     7.955990          4.061160  \n",
       "IGLC3             True  2.195756     7.512773          3.253199  \n",
       "CMC1              True  0.437156     2.875771          0.787998  "
      ]
     },
     "execution_count": 6,
     "metadata": {},
     "output_type": "execute_result"
    }
   ],
   "source": [
    "adata.var.head()"
   ]
  },
  {
   "cell_type": "code",
   "execution_count": 7,
   "id": "886c9254-5857-4af4-852c-eb77c2cee59c",
   "metadata": {},
   "outputs": [
    {
     "data": {
      "text/html": [
       "<div>\n",
       "<style scoped>\n",
       "    .dataframe tbody tr th:only-of-type {\n",
       "        vertical-align: middle;\n",
       "    }\n",
       "\n",
       "    .dataframe tbody tr th {\n",
       "        vertical-align: top;\n",
       "    }\n",
       "\n",
       "    .dataframe thead th {\n",
       "        text-align: right;\n",
       "    }\n",
       "</style>\n",
       "<table border=\"1\" class=\"dataframe\">\n",
       "  <thead>\n",
       "    <tr style=\"text-align: right;\">\n",
       "      <th></th>\n",
       "      <th>patient</th>\n",
       "      <th>site</th>\n",
       "      <th>n_genes_by_counts</th>\n",
       "      <th>log1p_n_genes_by_counts</th>\n",
       "      <th>total_counts</th>\n",
       "      <th>log1p_total_counts</th>\n",
       "      <th>pct_counts_in_top_50_genes</th>\n",
       "      <th>pct_counts_in_top_100_genes</th>\n",
       "      <th>pct_counts_in_top_200_genes</th>\n",
       "      <th>pct_counts_in_top_500_genes</th>\n",
       "      <th>n_genes</th>\n",
       "    </tr>\n",
       "  </thead>\n",
       "  <tbody>\n",
       "    <tr>\n",
       "      <th>GGATAAGGGTCA-0</th>\n",
       "      <td>P1</td>\n",
       "      <td>primary</td>\n",
       "      <td>6931</td>\n",
       "      <td>8.843904</td>\n",
       "      <td>61662</td>\n",
       "      <td>11.029439</td>\n",
       "      <td>35.125361</td>\n",
       "      <td>43.456262</td>\n",
       "      <td>52.221790</td>\n",
       "      <td>64.303785</td>\n",
       "      <td>6931</td>\n",
       "    </tr>\n",
       "    <tr>\n",
       "      <th>CCGTGCGTACTG-0</th>\n",
       "      <td>P1</td>\n",
       "      <td>primary</td>\n",
       "      <td>5618</td>\n",
       "      <td>8.633909</td>\n",
       "      <td>39183</td>\n",
       "      <td>10.576024</td>\n",
       "      <td>33.233800</td>\n",
       "      <td>41.745145</td>\n",
       "      <td>51.570834</td>\n",
       "      <td>65.099661</td>\n",
       "      <td>5618</td>\n",
       "    </tr>\n",
       "    <tr>\n",
       "      <th>AGGTAACCTACG-0</th>\n",
       "      <td>P1</td>\n",
       "      <td>primary</td>\n",
       "      <td>5122</td>\n",
       "      <td>8.541495</td>\n",
       "      <td>29445</td>\n",
       "      <td>10.290313</td>\n",
       "      <td>31.991849</td>\n",
       "      <td>39.592461</td>\n",
       "      <td>48.972661</td>\n",
       "      <td>62.947869</td>\n",
       "      <td>5122</td>\n",
       "    </tr>\n",
       "    <tr>\n",
       "      <th>CTGTATAACCTA-0</th>\n",
       "      <td>P1</td>\n",
       "      <td>primary</td>\n",
       "      <td>4799</td>\n",
       "      <td>8.476371</td>\n",
       "      <td>25420</td>\n",
       "      <td>10.143331</td>\n",
       "      <td>33.674272</td>\n",
       "      <td>42.053501</td>\n",
       "      <td>50.955940</td>\n",
       "      <td>64.394178</td>\n",
       "      <td>4799</td>\n",
       "    </tr>\n",
       "    <tr>\n",
       "      <th>AAACAGGTTTGA-0</th>\n",
       "      <td>P1</td>\n",
       "      <td>primary</td>\n",
       "      <td>4634</td>\n",
       "      <td>8.441391</td>\n",
       "      <td>23312</td>\n",
       "      <td>10.056766</td>\n",
       "      <td>36.577728</td>\n",
       "      <td>44.753775</td>\n",
       "      <td>53.307310</td>\n",
       "      <td>66.090426</td>\n",
       "      <td>4634</td>\n",
       "    </tr>\n",
       "  </tbody>\n",
       "</table>\n",
       "</div>"
      ],
      "text/plain": [
       "               patient     site  n_genes_by_counts  log1p_n_genes_by_counts  \\\n",
       "GGATAAGGGTCA-0      P1  primary               6931                 8.843904   \n",
       "CCGTGCGTACTG-0      P1  primary               5618                 8.633909   \n",
       "AGGTAACCTACG-0      P1  primary               5122                 8.541495   \n",
       "CTGTATAACCTA-0      P1  primary               4799                 8.476371   \n",
       "AAACAGGTTTGA-0      P1  primary               4634                 8.441391   \n",
       "\n",
       "                total_counts  log1p_total_counts  pct_counts_in_top_50_genes  \\\n",
       "GGATAAGGGTCA-0         61662           11.029439                   35.125361   \n",
       "CCGTGCGTACTG-0         39183           10.576024                   33.233800   \n",
       "AGGTAACCTACG-0         29445           10.290313                   31.991849   \n",
       "CTGTATAACCTA-0         25420           10.143331                   33.674272   \n",
       "AAACAGGTTTGA-0         23312           10.056766                   36.577728   \n",
       "\n",
       "                pct_counts_in_top_100_genes  pct_counts_in_top_200_genes  \\\n",
       "GGATAAGGGTCA-0                    43.456262                    52.221790   \n",
       "CCGTGCGTACTG-0                    41.745145                    51.570834   \n",
       "AGGTAACCTACG-0                    39.592461                    48.972661   \n",
       "CTGTATAACCTA-0                    42.053501                    50.955940   \n",
       "AAACAGGTTTGA-0                    44.753775                    53.307310   \n",
       "\n",
       "                pct_counts_in_top_500_genes  n_genes  \n",
       "GGATAAGGGTCA-0                    64.303785     6931  \n",
       "CCGTGCGTACTG-0                    65.099661     5618  \n",
       "AGGTAACCTACG-0                    62.947869     5122  \n",
       "CTGTATAACCTA-0                    64.394178     4799  \n",
       "AAACAGGTTTGA-0                    66.090426     4634  "
      ]
     },
     "execution_count": 7,
     "metadata": {},
     "output_type": "execute_result"
    }
   ],
   "source": [
    "adata.obs.head()"
   ]
  },
  {
   "cell_type": "code",
   "execution_count": 34,
   "id": "ecb57cf8-1458-4824-b6cd-ca4009d1ce32",
   "metadata": {},
   "outputs": [],
   "source": [
    "adata_artifact = ln.Artifact.from_anndata(\n",
    "    adata,\n",
    "    description=\"breast metastasis\"\n",
    ").save()"
   ]
  },
  {
   "cell_type": "code",
   "execution_count": 35,
   "id": "4079b837-1642-4a61-b971-f3dd1c19d777",
   "metadata": {},
   "outputs": [
    {
     "data": {
      "text/html": [
       "<div>\n",
       "<style scoped>\n",
       "    .dataframe tbody tr th:only-of-type {\n",
       "        vertical-align: middle;\n",
       "    }\n",
       "\n",
       "    .dataframe tbody tr th {\n",
       "        vertical-align: top;\n",
       "    }\n",
       "\n",
       "    .dataframe thead th {\n",
       "        text-align: right;\n",
       "    }\n",
       "</style>\n",
       "<table border=\"1\" class=\"dataframe\">\n",
       "  <thead>\n",
       "    <tr style=\"text-align: right;\">\n",
       "      <th></th>\n",
       "      <th>uid</th>\n",
       "      <th>key</th>\n",
       "      <th>description</th>\n",
       "      <th>suffix</th>\n",
       "      <th>kind</th>\n",
       "      <th>otype</th>\n",
       "      <th>size</th>\n",
       "      <th>hash</th>\n",
       "      <th>n_files</th>\n",
       "      <th>n_observations</th>\n",
       "      <th>_hash_type</th>\n",
       "      <th>_key_is_virtual</th>\n",
       "      <th>_overwrite_versions</th>\n",
       "      <th>space_id</th>\n",
       "      <th>storage_id</th>\n",
       "      <th>schema_id</th>\n",
       "      <th>version</th>\n",
       "      <th>is_latest</th>\n",
       "      <th>run_id</th>\n",
       "      <th>created_at</th>\n",
       "      <th>created_by_id</th>\n",
       "      <th>_aux</th>\n",
       "      <th>_branch_code</th>\n",
       "    </tr>\n",
       "    <tr>\n",
       "      <th>id</th>\n",
       "      <th></th>\n",
       "      <th></th>\n",
       "      <th></th>\n",
       "      <th></th>\n",
       "      <th></th>\n",
       "      <th></th>\n",
       "      <th></th>\n",
       "      <th></th>\n",
       "      <th></th>\n",
       "      <th></th>\n",
       "      <th></th>\n",
       "      <th></th>\n",
       "      <th></th>\n",
       "      <th></th>\n",
       "      <th></th>\n",
       "      <th></th>\n",
       "      <th></th>\n",
       "      <th></th>\n",
       "      <th></th>\n",
       "      <th></th>\n",
       "      <th></th>\n",
       "      <th></th>\n",
       "      <th></th>\n",
       "    </tr>\n",
       "  </thead>\n",
       "  <tbody>\n",
       "    <tr>\n",
       "      <th>2</th>\n",
       "      <td>NfPayTupzUQ5YEem0000</td>\n",
       "      <td>None</td>\n",
       "      <td>breast metastasis</td>\n",
       "      <td>.h5ad</td>\n",
       "      <td>dataset</td>\n",
       "      <td>AnnData</td>\n",
       "      <td>982219738</td>\n",
       "      <td>q4mdUBZZH_DE65t29RY5UG</td>\n",
       "      <td>None</td>\n",
       "      <td>117481</td>\n",
       "      <td>sha1-fl</td>\n",
       "      <td>True</td>\n",
       "      <td>False</td>\n",
       "      <td>1</td>\n",
       "      <td>1</td>\n",
       "      <td>None</td>\n",
       "      <td>None</td>\n",
       "      <td>True</td>\n",
       "      <td>2</td>\n",
       "      <td>2025-03-06 13:44:05.173000+00:00</td>\n",
       "      <td>1</td>\n",
       "      <td>None</td>\n",
       "      <td>1</td>\n",
       "    </tr>\n",
       "    <tr>\n",
       "      <th>1</th>\n",
       "      <td>fqDEKvRwg55UfKxG0000</td>\n",
       "      <td>None</td>\n",
       "      <td>breast metastasis</td>\n",
       "      <td>.h5ad</td>\n",
       "      <td>dataset</td>\n",
       "      <td>AnnData</td>\n",
       "      <td>124511524</td>\n",
       "      <td>AFTJoMzP5ERzpiMqjr1qR3</td>\n",
       "      <td>None</td>\n",
       "      <td>108038</td>\n",
       "      <td>sha1-fl</td>\n",
       "      <td>True</td>\n",
       "      <td>False</td>\n",
       "      <td>1</td>\n",
       "      <td>1</td>\n",
       "      <td>None</td>\n",
       "      <td>None</td>\n",
       "      <td>True</td>\n",
       "      <td>2</td>\n",
       "      <td>2025-03-05 21:28:29.211000+00:00</td>\n",
       "      <td>1</td>\n",
       "      <td>None</td>\n",
       "      <td>1</td>\n",
       "    </tr>\n",
       "  </tbody>\n",
       "</table>\n",
       "</div>"
      ],
      "text/plain": [
       "                     uid   key        description suffix     kind    otype  \\\n",
       "id                                                                           \n",
       "2   NfPayTupzUQ5YEem0000  None  breast metastasis  .h5ad  dataset  AnnData   \n",
       "1   fqDEKvRwg55UfKxG0000  None  breast metastasis  .h5ad  dataset  AnnData   \n",
       "\n",
       "         size                    hash n_files  n_observations _hash_type  \\\n",
       "id                                                                         \n",
       "2   982219738  q4mdUBZZH_DE65t29RY5UG    None          117481    sha1-fl   \n",
       "1   124511524  AFTJoMzP5ERzpiMqjr1qR3    None          108038    sha1-fl   \n",
       "\n",
       "    _key_is_virtual  _overwrite_versions  space_id  storage_id schema_id  \\\n",
       "id                                                                         \n",
       "2              True                False         1           1      None   \n",
       "1              True                False         1           1      None   \n",
       "\n",
       "   version  is_latest  run_id                       created_at  created_by_id  \\\n",
       "id                                                                              \n",
       "2     None       True       2 2025-03-06 13:44:05.173000+00:00              1   \n",
       "1     None       True       2 2025-03-05 21:28:29.211000+00:00              1   \n",
       "\n",
       "    _aux  _branch_code  \n",
       "id                      \n",
       "2   None             1  \n",
       "1   None             1  "
      ]
     },
     "execution_count": 35,
     "metadata": {},
     "output_type": "execute_result"
    }
   ],
   "source": [
    "ln.Artifact.df().head()"
   ]
  },
  {
   "cell_type": "code",
   "execution_count": 36,
   "id": "7c18ca8c-2fed-41cd-a4f7-371d0829ddbf",
   "metadata": {},
   "outputs": [
    {
     "data": {
      "text/html": [
       "<pre style=\"white-space:pre;overflow-x:auto;line-height:normal;font-family:Menlo,'DejaVu Sans Mono',consolas,'Courier New',monospace\"><span style=\"font-weight: bold\">Artifact</span><span style=\"color: #7f7f7f; text-decoration-color: #7f7f7f; font-weight: bold\"> .h5ad/AnnData</span>\n",
       "<span style=\"color: #7f7f7f; text-decoration-color: #7f7f7f\">└── </span><span style=\"color: #00ffff; text-decoration-color: #00ffff; font-weight: bold\">General</span>\n",
       "<span style=\"color: #7f7f7f; text-decoration-color: #7f7f7f\">    ├── </span>.uid = 'NfPayTupzUQ5YEem0000'\n",
       "<span style=\"color: #7f7f7f; text-decoration-color: #7f7f7f\">    ├── </span>.size = 982219738\n",
       "<span style=\"color: #7f7f7f; text-decoration-color: #7f7f7f\">    ├── </span>.hash = 'q4mdUBZZH_DE65t29RY5UG'\n",
       "<span style=\"color: #7f7f7f; text-decoration-color: #7f7f7f\">    ├── </span>.n_observations = 117481\n",
       "<span style=\"color: #7f7f7f; text-decoration-color: #7f7f7f\">    ├── </span>.path = <span style=\"color: #7f7f7f; text-decoration-color: #7f7f7f\">/Users/paulinampaiz/Desktop/myLamin_local/data</span>/.lamindb/NfPayTupzUQ5YEem0000.h5ad\n",
       "<span style=\"color: #7f7f7f; text-decoration-color: #7f7f7f\">    ├── </span>.created_by = paupaiz\n",
       "<span style=\"color: #7f7f7f; text-decoration-color: #7f7f7f\">    ├── </span>.created_at = <span style=\"color: #7f7f7f; text-decoration-color: #7f7f7f\">2025-03-06 07:44:05</span>\n",
       "<span style=\"color: #7f7f7f; text-decoration-color: #7f7f7f\">    └── </span><span style=\"color: #00d7af; text-decoration-color: #00d7af\">.transform = 'Schema_001.ipynb'</span>\n",
       "</pre>\n"
      ],
      "text/plain": [
       "\u001b[1mArtifact\u001b[0m\u001b[1;2m .h5ad/AnnData\u001b[0m\n",
       "\u001b[2m└── \u001b[0m\u001b[1;96mGeneral\u001b[0m\n",
       "\u001b[2m    \u001b[0m\u001b[2m├── \u001b[0m.uid = 'NfPayTupzUQ5YEem0000'\n",
       "\u001b[2m    \u001b[0m\u001b[2m├── \u001b[0m.size = 982219738\n",
       "\u001b[2m    \u001b[0m\u001b[2m├── \u001b[0m.hash = 'q4mdUBZZH_DE65t29RY5UG'\n",
       "\u001b[2m    \u001b[0m\u001b[2m├── \u001b[0m.n_observations = 117481\n",
       "\u001b[2m    \u001b[0m\u001b[2m├── \u001b[0m.path = \u001b[2m/Users/paulinampaiz/Desktop/myLamin_local/data\u001b[0m/.lamindb/NfPayTupzUQ5YEem0000.h5ad\n",
       "\u001b[2m    \u001b[0m\u001b[2m├── \u001b[0m.created_by = paupaiz\n",
       "\u001b[2m    \u001b[0m\u001b[2m├── \u001b[0m.created_at = \u001b[2m2025-03-06 07:44:05\u001b[0m\n",
       "\u001b[2m    \u001b[0m\u001b[2m└── \u001b[0m\u001b[38;5;43m.transform = 'Schema_001.ipynb'\u001b[0m\n"
      ]
     },
     "metadata": {},
     "output_type": "display_data"
    }
   ],
   "source": [
    "adata_artifact.describe()"
   ]
  },
  {
   "cell_type": "markdown",
   "id": "87207d30-0eb8-49ab-92bd-20ea4e00a7ae",
   "metadata": {},
   "source": [
    "### We can annotate our Artifact with Labels and Features\n",
    "---"
   ]
  },
  {
   "cell_type": "markdown",
   "id": "1e2ddece-8b87-41fb-86d6-1f581945c57e",
   "metadata": {},
   "source": [
    "#### Labels"
   ]
  },
  {
   "cell_type": "code",
   "execution_count": 37,
   "id": "7df5463e-6067-4588-bf6b-7a5cb12e5170",
   "metadata": {},
   "outputs": [
    {
     "name": "stdout",
     "output_type": "stream",
     "text": [
      "\u001b[92m→\u001b[0m returning existing ULabel record with same name: 'Processing Stage'\n"
     ]
    }
   ],
   "source": [
    "## Data status represents Raw or Filtered Data\n",
    "processing_stage = ln.ULabel(name=\"Processing Stage\", is_type=True).save()"
   ]
  },
  {
   "cell_type": "code",
   "execution_count": 38,
   "id": "2f9964c1-5ebe-46a9-abdc-a41e7eacc2f4",
   "metadata": {},
   "outputs": [
    {
     "name": "stdout",
     "output_type": "stream",
     "text": [
      "\u001b[92m→\u001b[0m returning existing ULabel record with same name: 'Raw'\n",
      "\u001b[92m→\u001b[0m returning existing ULabel record with same name: 'Filtered'\n"
     ]
    }
   ],
   "source": [
    "## Add Raw as ULabel\n",
    "raw_status = ln.ULabel(\n",
    "    name=\"Raw\", type=processing_stage\n",
    ").save()\n",
    "\n",
    "## Add Filetred as ULabel\n",
    "filtered_status = ln.ULabel(\n",
    "    name=\"Filtered\", type=processing_stage\n",
    ").save()"
   ]
  },
  {
   "cell_type": "code",
   "execution_count": 39,
   "id": "4bcfdcd2-f67b-482a-ac89-222f70c5c501",
   "metadata": {},
   "outputs": [],
   "source": [
    "# We can now add this raw Label to the artifact\n",
    "adata_artifact.ulabels.add(raw_status)"
   ]
  },
  {
   "cell_type": "code",
   "execution_count": 40,
   "id": "fb2a88cb-1173-432e-858b-a01ba5e486c3",
   "metadata": {},
   "outputs": [
    {
     "data": {
      "text/html": [
       "<pre style=\"white-space:pre;overflow-x:auto;line-height:normal;font-family:Menlo,'DejaVu Sans Mono',consolas,'Courier New',monospace\"><span style=\"font-weight: bold\">Artifact</span><span style=\"color: #7f7f7f; text-decoration-color: #7f7f7f; font-weight: bold\"> .h5ad/AnnData</span>\n",
       "<span style=\"color: #7f7f7f; text-decoration-color: #7f7f7f\">├── </span><span style=\"color: #00ffff; text-decoration-color: #00ffff; font-weight: bold\">General</span>\n",
       "<span style=\"color: #7f7f7f; text-decoration-color: #7f7f7f\">│   ├── </span>.uid = 'NfPayTupzUQ5YEem0000'\n",
       "<span style=\"color: #7f7f7f; text-decoration-color: #7f7f7f\">│   ├── </span>.size = 982219738\n",
       "<span style=\"color: #7f7f7f; text-decoration-color: #7f7f7f\">│   ├── </span>.hash = 'q4mdUBZZH_DE65t29RY5UG'\n",
       "<span style=\"color: #7f7f7f; text-decoration-color: #7f7f7f\">│   ├── </span>.n_observations = 117481\n",
       "<span style=\"color: #7f7f7f; text-decoration-color: #7f7f7f\">│   ├── </span>.path = <span style=\"color: #7f7f7f; text-decoration-color: #7f7f7f\">/Users/paulinampaiz/Desktop/myLamin_local/data</span>/.lamindb/NfPayTupzUQ5YEem0000.h5ad\n",
       "<span style=\"color: #7f7f7f; text-decoration-color: #7f7f7f\">│   ├── </span>.created_by = paupaiz\n",
       "<span style=\"color: #7f7f7f; text-decoration-color: #7f7f7f\">│   ├── </span>.created_at = <span style=\"color: #7f7f7f; text-decoration-color: #7f7f7f\">2025-03-06 07:44:05</span>\n",
       "<span style=\"color: #7f7f7f; text-decoration-color: #7f7f7f\">│   └── </span><span style=\"color: #00d7af; text-decoration-color: #00d7af\">.transform = 'Schema_001.ipynb'</span>\n",
       "<span style=\"color: #7f7f7f; text-decoration-color: #7f7f7f\">└── </span><span style=\"color: #afff00; text-decoration-color: #afff00; font-weight: bold\">Labels</span>\n",
       "<span style=\"color: #7f7f7f; text-decoration-color: #7f7f7f\">    └── </span>.ulabels                   <span style=\"color: #7f7f7f; text-decoration-color: #7f7f7f\"> ULabel                    </span> Raw                                      \n",
       "</pre>\n"
      ],
      "text/plain": [
       "\u001b[1mArtifact\u001b[0m\u001b[1;2m .h5ad/AnnData\u001b[0m\n",
       "\u001b[2m├── \u001b[0m\u001b[1;96mGeneral\u001b[0m\n",
       "\u001b[2m│   \u001b[0m\u001b[2m├── \u001b[0m.uid = 'NfPayTupzUQ5YEem0000'\n",
       "\u001b[2m│   \u001b[0m\u001b[2m├── \u001b[0m.size = 982219738\n",
       "\u001b[2m│   \u001b[0m\u001b[2m├── \u001b[0m.hash = 'q4mdUBZZH_DE65t29RY5UG'\n",
       "\u001b[2m│   \u001b[0m\u001b[2m├── \u001b[0m.n_observations = 117481\n",
       "\u001b[2m│   \u001b[0m\u001b[2m├── \u001b[0m.path = \u001b[2m/Users/paulinampaiz/Desktop/myLamin_local/data\u001b[0m/.lamindb/NfPayTupzUQ5YEem0000.h5ad\n",
       "\u001b[2m│   \u001b[0m\u001b[2m├── \u001b[0m.created_by = paupaiz\n",
       "\u001b[2m│   \u001b[0m\u001b[2m├── \u001b[0m.created_at = \u001b[2m2025-03-06 07:44:05\u001b[0m\n",
       "\u001b[2m│   \u001b[0m\u001b[2m└── \u001b[0m\u001b[38;5;43m.transform = 'Schema_001.ipynb'\u001b[0m\n",
       "\u001b[2m└── \u001b[0m\u001b[1;38;5;154mLabels\u001b[0m\n",
       "\u001b[2m    \u001b[0m\u001b[2m└── \u001b[0m.ulabels                   \u001b[2m \u001b[0m\u001b[2mULabel                   \u001b[0m\u001b[2m \u001b[0m Raw                                      \n"
      ]
     },
     "metadata": {},
     "output_type": "display_data"
    }
   ],
   "source": [
    "adata_artifact.describe()"
   ]
  },
  {
   "cell_type": "markdown",
   "id": "bd679e24-4713-450f-8450-3c046d73e74c",
   "metadata": {},
   "source": [
    "Similary we can add ULabels from bionty registry"
   ]
  },
  {
   "cell_type": "code",
   "execution_count": 41,
   "id": "95b057d6-2a20-49cd-ae1b-7b8427762f42",
   "metadata": {},
   "outputs": [],
   "source": [
    "# Tissue\n",
    "tissue_breast = bt.Tissue.from_source(name=\"breast\").save()\n",
    "tissue_lymph = bt.Tissue.from_source(name=\"lymph node\").save()\n",
    "\n",
    "adata_artifact.tissues.add(tissue_breast)\n",
    "adata_artifact.tissues.add(tissue_lymph)\n",
    "\n",
    "# Disease \n",
    "disease = bt.Disease.from_source(name=\"breast cancer\").save()\n",
    "adata_artifact.diseases.add(disease)"
   ]
  },
  {
   "cell_type": "code",
   "execution_count": 42,
   "id": "ba81660e-fa2a-4317-882e-d0d811d2015f",
   "metadata": {},
   "outputs": [
    {
     "data": {
      "text/html": [
       "<pre style=\"white-space:pre;overflow-x:auto;line-height:normal;font-family:Menlo,'DejaVu Sans Mono',consolas,'Courier New',monospace\"><span style=\"font-weight: bold\">Artifact</span><span style=\"color: #7f7f7f; text-decoration-color: #7f7f7f; font-weight: bold\"> .h5ad/AnnData</span>\n",
       "<span style=\"color: #7f7f7f; text-decoration-color: #7f7f7f\">├── </span><span style=\"color: #00ffff; text-decoration-color: #00ffff; font-weight: bold\">General</span>\n",
       "<span style=\"color: #7f7f7f; text-decoration-color: #7f7f7f\">│   ├── </span>.uid = 'NfPayTupzUQ5YEem0000'\n",
       "<span style=\"color: #7f7f7f; text-decoration-color: #7f7f7f\">│   ├── </span>.size = 982219738\n",
       "<span style=\"color: #7f7f7f; text-decoration-color: #7f7f7f\">│   ├── </span>.hash = 'q4mdUBZZH_DE65t29RY5UG'\n",
       "<span style=\"color: #7f7f7f; text-decoration-color: #7f7f7f\">│   ├── </span>.n_observations = 117481\n",
       "<span style=\"color: #7f7f7f; text-decoration-color: #7f7f7f\">│   ├── </span>.path = <span style=\"color: #7f7f7f; text-decoration-color: #7f7f7f\">/Users/paulinampaiz/Desktop/myLamin_local/data</span>/.lamindb/NfPayTupzUQ5YEem0000.h5ad\n",
       "<span style=\"color: #7f7f7f; text-decoration-color: #7f7f7f\">│   ├── </span>.created_by = paupaiz\n",
       "<span style=\"color: #7f7f7f; text-decoration-color: #7f7f7f\">│   ├── </span>.created_at = <span style=\"color: #7f7f7f; text-decoration-color: #7f7f7f\">2025-03-06 07:44:05</span>\n",
       "<span style=\"color: #7f7f7f; text-decoration-color: #7f7f7f\">│   └── </span><span style=\"color: #00d7af; text-decoration-color: #00d7af\">.transform = 'Schema_001.ipynb'</span>\n",
       "<span style=\"color: #7f7f7f; text-decoration-color: #7f7f7f\">└── </span><span style=\"color: #afff00; text-decoration-color: #afff00; font-weight: bold\">Labels</span>\n",
       "<span style=\"color: #7f7f7f; text-decoration-color: #7f7f7f\">    └── </span>.tissues                   <span style=\"color: #7f7f7f; text-decoration-color: #7f7f7f\"> bionty.Tissue             </span> breast, lymph node                       \n",
       "<span style=\"color: #7f7f7f; text-decoration-color: #7f7f7f\">        </span>.diseases                  <span style=\"color: #7f7f7f; text-decoration-color: #7f7f7f\"> bionty.Disease            </span> breast cancer                            \n",
       "<span style=\"color: #7f7f7f; text-decoration-color: #7f7f7f\">        </span>.ulabels                   <span style=\"color: #7f7f7f; text-decoration-color: #7f7f7f\"> ULabel                    </span> Raw                                      \n",
       "</pre>\n"
      ],
      "text/plain": [
       "\u001b[1mArtifact\u001b[0m\u001b[1;2m .h5ad/AnnData\u001b[0m\n",
       "\u001b[2m├── \u001b[0m\u001b[1;96mGeneral\u001b[0m\n",
       "\u001b[2m│   \u001b[0m\u001b[2m├── \u001b[0m.uid = 'NfPayTupzUQ5YEem0000'\n",
       "\u001b[2m│   \u001b[0m\u001b[2m├── \u001b[0m.size = 982219738\n",
       "\u001b[2m│   \u001b[0m\u001b[2m├── \u001b[0m.hash = 'q4mdUBZZH_DE65t29RY5UG'\n",
       "\u001b[2m│   \u001b[0m\u001b[2m├── \u001b[0m.n_observations = 117481\n",
       "\u001b[2m│   \u001b[0m\u001b[2m├── \u001b[0m.path = \u001b[2m/Users/paulinampaiz/Desktop/myLamin_local/data\u001b[0m/.lamindb/NfPayTupzUQ5YEem0000.h5ad\n",
       "\u001b[2m│   \u001b[0m\u001b[2m├── \u001b[0m.created_by = paupaiz\n",
       "\u001b[2m│   \u001b[0m\u001b[2m├── \u001b[0m.created_at = \u001b[2m2025-03-06 07:44:05\u001b[0m\n",
       "\u001b[2m│   \u001b[0m\u001b[2m└── \u001b[0m\u001b[38;5;43m.transform = 'Schema_001.ipynb'\u001b[0m\n",
       "\u001b[2m└── \u001b[0m\u001b[1;38;5;154mLabels\u001b[0m\n",
       "\u001b[2m    \u001b[0m\u001b[2m└── \u001b[0m.tissues                   \u001b[2m \u001b[0m\u001b[2mbionty.Tissue            \u001b[0m\u001b[2m \u001b[0m breast, lymph node                       \n",
       "\u001b[2m    \u001b[0m\u001b[2m    \u001b[0m.diseases                  \u001b[2m \u001b[0m\u001b[2mbionty.Disease           \u001b[0m\u001b[2m \u001b[0m breast cancer                            \n",
       "\u001b[2m    \u001b[0m\u001b[2m    \u001b[0m.ulabels                   \u001b[2m \u001b[0m\u001b[2mULabel                   \u001b[0m\u001b[2m \u001b[0m Raw                                      \n"
      ]
     },
     "metadata": {},
     "output_type": "display_data"
    }
   ],
   "source": [
    "adata_artifact.describe()"
   ]
  },
  {
   "cell_type": "markdown",
   "id": "b61e6dd3-ae0e-4de0-92a8-de0383e62f9d",
   "metadata": {},
   "source": [
    "#### Features"
   ]
  },
  {
   "cell_type": "markdown",
   "id": "f7e5080b-e26b-43ce-8f7c-6d7beef116d5",
   "metadata": {},
   "source": [
    "We can also annotate datasets by features."
   ]
  },
  {
   "cell_type": "code",
   "execution_count": 43,
   "id": "94534e36-6ef9-4f10-ba27-dee2401a9081",
   "metadata": {},
   "outputs": [
    {
     "name": "stdout",
     "output_type": "stream",
     "text": [
      "\u001b[92m→\u001b[0m returning existing Feature record with same name: 'experiment'\n",
      "\u001b[92m→\u001b[0m returning existing Feature record with same name: 'disease'\n",
      "\u001b[92m→\u001b[0m returning existing Feature record with same name: 'author'\n"
     ]
    },
    {
     "data": {
      "text/plain": [
       "Feature(uid='knv7wRW1vWML', name='author', dtype='str', array_rank=0, array_size=0, created_by_id=1, run_id=2, space_id=1, created_at=2025-03-05 21:29:23 UTC)"
      ]
     },
     "execution_count": 43,
     "metadata": {},
     "output_type": "execute_result"
    }
   ],
   "source": [
    "ln.Feature(name=\"experiment\", dtype=str).save()\n",
    "ln.Feature(name=\"disease\", dtype=bt.Disease).save()\n",
    "ln.Feature(name=\"author\", dtype=str).save()"
   ]
  },
  {
   "cell_type": "code",
   "execution_count": 44,
   "id": "c7eec8e1-6dd8-4580-b24e-d796013fb1a8",
   "metadata": {},
   "outputs": [],
   "source": [
    "# we can now annotate our artifact\n",
    "adata_artifact.features.add_values(\n",
    "    {\n",
    "        \"experiment\": \"Breast Cancer scRNA-seq Experiment\",\n",
    "        \"disease\": disease,\n",
    "        \"author\": \"Xu K\"\n",
    "    }\n",
    ")"
   ]
  },
  {
   "cell_type": "code",
   "execution_count": 45,
   "id": "e8b318d0-0e17-4f9f-bea2-910d7cb16c7c",
   "metadata": {},
   "outputs": [
    {
     "data": {
      "text/html": [
       "<pre style=\"white-space:pre;overflow-x:auto;line-height:normal;font-family:Menlo,'DejaVu Sans Mono',consolas,'Courier New',monospace\"><span style=\"font-weight: bold\">Artifact</span><span style=\"color: #7f7f7f; text-decoration-color: #7f7f7f; font-weight: bold\"> .h5ad/AnnData</span>\n",
       "<span style=\"color: #7f7f7f; text-decoration-color: #7f7f7f\">├── </span><span style=\"color: #00ffff; text-decoration-color: #00ffff; font-weight: bold\">General</span>\n",
       "<span style=\"color: #7f7f7f; text-decoration-color: #7f7f7f\">│   ├── </span>.uid = 'NfPayTupzUQ5YEem0000'\n",
       "<span style=\"color: #7f7f7f; text-decoration-color: #7f7f7f\">│   ├── </span>.size = 982219738\n",
       "<span style=\"color: #7f7f7f; text-decoration-color: #7f7f7f\">│   ├── </span>.hash = 'q4mdUBZZH_DE65t29RY5UG'\n",
       "<span style=\"color: #7f7f7f; text-decoration-color: #7f7f7f\">│   ├── </span>.n_observations = 117481\n",
       "<span style=\"color: #7f7f7f; text-decoration-color: #7f7f7f\">│   ├── </span>.path = <span style=\"color: #7f7f7f; text-decoration-color: #7f7f7f\">/Users/paulinampaiz/Desktop/myLamin_local/data</span>/.lamindb/NfPayTupzUQ5YEem0000.h5ad\n",
       "<span style=\"color: #7f7f7f; text-decoration-color: #7f7f7f\">│   ├── </span>.created_by = paupaiz\n",
       "<span style=\"color: #7f7f7f; text-decoration-color: #7f7f7f\">│   ├── </span>.created_at = <span style=\"color: #7f7f7f; text-decoration-color: #7f7f7f\">2025-03-06 07:44:05</span>\n",
       "<span style=\"color: #7f7f7f; text-decoration-color: #7f7f7f\">│   └── </span><span style=\"color: #00d7af; text-decoration-color: #00d7af\">.transform = 'Schema_001.ipynb'</span>\n",
       "<span style=\"color: #7f7f7f; text-decoration-color: #7f7f7f\">├── </span><span style=\"color: #ff8700; text-decoration-color: #ff8700; font-weight: bold\">Linked features</span>\n",
       "<span style=\"color: #7f7f7f; text-decoration-color: #7f7f7f\">│   └── </span>disease                    <span style=\"color: #7f7f7f; text-decoration-color: #7f7f7f\"> cat[bionty.Disease]       </span> breast cancer                            \n",
       "<span style=\"color: #7f7f7f; text-decoration-color: #7f7f7f\">│       </span>author                     <span style=\"color: #7f7f7f; text-decoration-color: #7f7f7f\"> str                       </span> Xu K                                     \n",
       "<span style=\"color: #7f7f7f; text-decoration-color: #7f7f7f\">│       </span>experiment                 <span style=\"color: #7f7f7f; text-decoration-color: #7f7f7f\"> str                       </span> Breast Cancer scRNA-seq Experiment       \n",
       "<span style=\"color: #7f7f7f; text-decoration-color: #7f7f7f\">└── </span><span style=\"color: #afff00; text-decoration-color: #afff00; font-weight: bold\">Labels</span>\n",
       "<span style=\"color: #7f7f7f; text-decoration-color: #7f7f7f\">    └── </span>.tissues                   <span style=\"color: #7f7f7f; text-decoration-color: #7f7f7f\"> bionty.Tissue             </span> breast, lymph node                       \n",
       "<span style=\"color: #7f7f7f; text-decoration-color: #7f7f7f\">        </span>.diseases                  <span style=\"color: #7f7f7f; text-decoration-color: #7f7f7f\"> bionty.Disease            </span> breast cancer                            \n",
       "<span style=\"color: #7f7f7f; text-decoration-color: #7f7f7f\">        </span>.ulabels                   <span style=\"color: #7f7f7f; text-decoration-color: #7f7f7f\"> ULabel                    </span> Raw                                      \n",
       "</pre>\n"
      ],
      "text/plain": [
       "\u001b[1mArtifact\u001b[0m\u001b[1;2m .h5ad/AnnData\u001b[0m\n",
       "\u001b[2m├── \u001b[0m\u001b[1;96mGeneral\u001b[0m\n",
       "\u001b[2m│   \u001b[0m\u001b[2m├── \u001b[0m.uid = 'NfPayTupzUQ5YEem0000'\n",
       "\u001b[2m│   \u001b[0m\u001b[2m├── \u001b[0m.size = 982219738\n",
       "\u001b[2m│   \u001b[0m\u001b[2m├── \u001b[0m.hash = 'q4mdUBZZH_DE65t29RY5UG'\n",
       "\u001b[2m│   \u001b[0m\u001b[2m├── \u001b[0m.n_observations = 117481\n",
       "\u001b[2m│   \u001b[0m\u001b[2m├── \u001b[0m.path = \u001b[2m/Users/paulinampaiz/Desktop/myLamin_local/data\u001b[0m/.lamindb/NfPayTupzUQ5YEem0000.h5ad\n",
       "\u001b[2m│   \u001b[0m\u001b[2m├── \u001b[0m.created_by = paupaiz\n",
       "\u001b[2m│   \u001b[0m\u001b[2m├── \u001b[0m.created_at = \u001b[2m2025-03-06 07:44:05\u001b[0m\n",
       "\u001b[2m│   \u001b[0m\u001b[2m└── \u001b[0m\u001b[38;5;43m.transform = 'Schema_001.ipynb'\u001b[0m\n",
       "\u001b[2m├── \u001b[0m\u001b[1;38;5;208mLinked features\u001b[0m\n",
       "\u001b[2m│   \u001b[0m\u001b[2m└── \u001b[0mdisease                    \u001b[2m \u001b[0m\u001b[2mcat[bionty.Disease]      \u001b[0m\u001b[2m \u001b[0m breast cancer                            \n",
       "\u001b[2m│   \u001b[0m\u001b[2m    \u001b[0mauthor                     \u001b[2m \u001b[0m\u001b[2mstr                      \u001b[0m\u001b[2m \u001b[0m Xu K                                     \n",
       "\u001b[2m│   \u001b[0m\u001b[2m    \u001b[0mexperiment                 \u001b[2m \u001b[0m\u001b[2mstr                      \u001b[0m\u001b[2m \u001b[0m Breast Cancer scRNA-seq Experiment       \n",
       "\u001b[2m└── \u001b[0m\u001b[1;38;5;154mLabels\u001b[0m\n",
       "\u001b[2m    \u001b[0m\u001b[2m└── \u001b[0m.tissues                   \u001b[2m \u001b[0m\u001b[2mbionty.Tissue            \u001b[0m\u001b[2m \u001b[0m breast, lymph node                       \n",
       "\u001b[2m    \u001b[0m\u001b[2m    \u001b[0m.diseases                  \u001b[2m \u001b[0m\u001b[2mbionty.Disease           \u001b[0m\u001b[2m \u001b[0m breast cancer                            \n",
       "\u001b[2m    \u001b[0m\u001b[2m    \u001b[0m.ulabels                   \u001b[2m \u001b[0m\u001b[2mULabel                   \u001b[0m\u001b[2m \u001b[0m Raw                                      \n"
      ]
     },
     "metadata": {},
     "output_type": "display_data"
    }
   ],
   "source": [
    "adata_artifact.describe()"
   ]
  },
  {
   "cell_type": "code",
   "execution_count": 46,
   "id": "aa65465e-f250-4095-84e3-abef72a4bc45",
   "metadata": {},
   "outputs": [
    {
     "data": {
      "image/svg+xml": [
       "<?xml version=\"1.0\" encoding=\"UTF-8\" standalone=\"no\"?>\n",
       "<!DOCTYPE svg PUBLIC \"-//W3C//DTD SVG 1.1//EN\"\n",
       " \"http://www.w3.org/Graphics/SVG/1.1/DTD/svg11.dtd\">\n",
       "<!-- Generated by graphviz version 12.2.1 (20241206.2353)\n",
       " -->\n",
       "<!-- Title: artifact_NfPayTupzUQ5YEem0000 Pages: 1 -->\n",
       "<svg width=\"355pt\" height=\"214pt\"\n",
       " viewBox=\"0.00 0.00 355.00 214.00\" xmlns=\"http://www.w3.org/2000/svg\" xmlns:xlink=\"http://www.w3.org/1999/xlink\">\n",
       "<g id=\"graph0\" class=\"graph\" transform=\"scale(1 1) rotate(0) translate(4 210)\">\n",
       "<title>artifact_NfPayTupzUQ5YEem0000</title>\n",
       "<polygon fill=\"white\" stroke=\"none\" points=\"-4,4 -4,-210 351,-210 351,4 -4,4\"/>\n",
       "<!-- run_6WZyqNus4hVpiXaF1bac -->\n",
       "<g id=\"node1\" class=\"node\">\n",
       "<title>run_6WZyqNus4hVpiXaF1bac</title>\n",
       "<path fill=\"gainsboro\" stroke=\"#065f46\" d=\"M255,-206C255,-206 101,-206 101,-206 95,-206 89,-200 89,-194 89,-194 89,-170 89,-170 89,-164 95,-158 101,-158 101,-158 255,-158 255,-158 261,-158 267,-164 267,-170 267,-170 267,-194 267,-194 267,-200 261,-206 255,-206\"/>\n",
       "<text text-anchor=\"start\" x=\"130\" y=\"-193.5\" font-family=\"Helvetica,sans-Serif\" font-size=\"10.00\">📔 Schema_001.ipynb</text>\n",
       "<text text-anchor=\"start\" x=\"118\" y=\"-183.5\" font-family=\"Monospace\" font-size=\"10.00\" fill=\"GREY\">uid=mI70CDrdZK310000</text>\n",
       "<text text-anchor=\"start\" x=\"97\" y=\"-173.5\" font-family=\"Monospace\" font-size=\"10.00\" fill=\"GREY\">type=notebook, user=paupaiz</text>\n",
       "<text text-anchor=\"start\" x=\"97\" y=\"-163.5\" font-family=\"Monospace\" font-size=\"10.00\" fill=\"GREY\">run=2025&#45;03&#45;06 13:22:30 UTC</text>\n",
       "</g>\n",
       "<!-- artifact_fqDEKvRwg55UfKxG0000 -->\n",
       "<g id=\"node2\" class=\"node\">\n",
       "<title>artifact_fqDEKvRwg55UfKxG0000</title>\n",
       "<path fill=\"honeydew\" stroke=\"#065f46\" d=\"M157,-122C157,-122 21,-122 21,-122 15,-122 9,-116 9,-110 9,-110 9,-96 9,-96 9,-90 15,-84 21,-84 21,-84 157,-84 157,-84 163,-84 169,-90 169,-96 169,-96 169,-110 169,-110 169,-116 163,-122 157,-122\"/>\n",
       "<text text-anchor=\"start\" x=\"43.62\" y=\"-109.5\" font-family=\"Helvetica,sans-Serif\" font-size=\"10.00\">📄 breast metastasis</text>\n",
       "<text text-anchor=\"start\" x=\"17\" y=\"-99.5\" font-family=\"Monospace\" font-size=\"10.00\" fill=\"GREY\">uid=fqDEKvRwg55UfKxG0000</text>\n",
       "<text text-anchor=\"start\" x=\"53\" y=\"-89.5\" font-family=\"Monospace\" font-size=\"10.00\" fill=\"GREY\">suffix=.h5ad</text>\n",
       "</g>\n",
       "<!-- run_6WZyqNus4hVpiXaF1bac&#45;&gt;artifact_fqDEKvRwg55UfKxG0000 -->\n",
       "<g id=\"edge1\" class=\"edge\">\n",
       "<title>run_6WZyqNus4hVpiXaF1bac&#45;&gt;artifact_fqDEKvRwg55UfKxG0000</title>\n",
       "<path fill=\"none\" stroke=\"dimgrey\" d=\"M151.3,-157.9C139.83,-147.97 126.47,-136.42 115.07,-126.56\"/>\n",
       "<polygon fill=\"dimgrey\" stroke=\"dimgrey\" points=\"116.39,-125.38 111.46,-123.43 114.1,-128.03 116.39,-125.38\"/>\n",
       "</g>\n",
       "<!-- artifact_NfPayTupzUQ5YEem0000 -->\n",
       "<g id=\"node3\" class=\"node\">\n",
       "<title>artifact_NfPayTupzUQ5YEem0000</title>\n",
       "<path fill=\"#10b981\" stroke=\"#065f46\" d=\"M335,-122C335,-122 199,-122 199,-122 193,-122 187,-116 187,-110 187,-110 187,-96 187,-96 187,-90 193,-84 199,-84 199,-84 335,-84 335,-84 341,-84 347,-90 347,-96 347,-96 347,-110 347,-110 347,-116 341,-122 335,-122\"/>\n",
       "<text text-anchor=\"start\" x=\"221.62\" y=\"-109.5\" font-family=\"Helvetica,sans-Serif\" font-size=\"10.00\">📄 breast metastasis</text>\n",
       "<text text-anchor=\"start\" x=\"195\" y=\"-99.5\" font-family=\"Monospace\" font-size=\"10.00\" fill=\"GREY\">uid=NfPayTupzUQ5YEem0000</text>\n",
       "<text text-anchor=\"start\" x=\"231\" y=\"-89.5\" font-family=\"Monospace\" font-size=\"10.00\" fill=\"GREY\">suffix=.h5ad</text>\n",
       "</g>\n",
       "<!-- run_6WZyqNus4hVpiXaF1bac&#45;&gt;artifact_NfPayTupzUQ5YEem0000 -->\n",
       "<g id=\"edge2\" class=\"edge\">\n",
       "<title>run_6WZyqNus4hVpiXaF1bac&#45;&gt;artifact_NfPayTupzUQ5YEem0000</title>\n",
       "<path fill=\"none\" stroke=\"dimgrey\" d=\"M204.7,-157.9C216.17,-147.97 229.53,-136.42 240.93,-126.56\"/>\n",
       "<polygon fill=\"dimgrey\" stroke=\"dimgrey\" points=\"241.9,-128.03 244.54,-123.43 239.61,-125.38 241.9,-128.03\"/>\n",
       "</g>\n",
       "<!-- run_QzqBH3QAFo1rfDngEvrt -->\n",
       "<g id=\"node4\" class=\"node\">\n",
       "<title>run_QzqBH3QAFo1rfDngEvrt</title>\n",
       "<path fill=\"gainsboro\" stroke=\"#065f46\" d=\"M166,-48C166,-48 12,-48 12,-48 6,-48 0,-42 0,-36 0,-36 0,-12 0,-12 0,-6 6,0 12,0 12,0 166,0 166,0 172,0 178,-6 178,-12 178,-12 178,-36 178,-36 178,-42 172,-48 166,-48\"/>\n",
       "<text text-anchor=\"start\" x=\"41\" y=\"-35.5\" font-family=\"Helvetica,sans-Serif\" font-size=\"10.00\">📔 Schema_002.ipynb</text>\n",
       "<text text-anchor=\"start\" x=\"29\" y=\"-25.5\" font-family=\"Monospace\" font-size=\"10.00\" fill=\"GREY\">uid=s1mQjeFWxjJI0000</text>\n",
       "<text text-anchor=\"start\" x=\"8\" y=\"-15.5\" font-family=\"Monospace\" font-size=\"10.00\" fill=\"GREY\">type=notebook, user=paupaiz</text>\n",
       "<text text-anchor=\"start\" x=\"8\" y=\"-5.5\" font-family=\"Monospace\" font-size=\"10.00\" fill=\"GREY\">run=2025&#45;03&#45;05 22:07:31 UTC</text>\n",
       "</g>\n",
       "<!-- artifact_fqDEKvRwg55UfKxG0000&#45;&gt;run_QzqBH3QAFo1rfDngEvrt -->\n",
       "<g id=\"edge3\" class=\"edge\">\n",
       "<title>artifact_fqDEKvRwg55UfKxG0000&#45;&gt;run_QzqBH3QAFo1rfDngEvrt</title>\n",
       "<path fill=\"none\" stroke=\"dimgrey\" d=\"M89,-83.75C89,-75.07 89,-64.47 89,-54.67\"/>\n",
       "<polygon fill=\"dimgrey\" stroke=\"dimgrey\" points=\"90.75,-54.89 89,-49.89 87.25,-54.89 90.75,-54.89\"/>\n",
       "</g>\n",
       "</g>\n",
       "</svg>\n"
      ]
     },
     "metadata": {},
     "output_type": "display_data"
    }
   ],
   "source": [
    "adata_artifact.view_lineage()"
   ]
  },
  {
   "cell_type": "markdown",
   "id": "654042a5-9d66-40b9-b194-91845bfad3d6",
   "metadata": {},
   "source": [
    "### Search and Query the dataset\n",
    "---\n",
    "with our artifact well annotated we can now easily search for it in the registry"
   ]
  },
  {
   "cell_type": "code",
   "execution_count": 26,
   "id": "1f035fda-70dd-4c01-917f-90e4ca4e34ff",
   "metadata": {},
   "outputs": [
    {
     "data": {
      "text/html": [
       "<div>\n",
       "<style scoped>\n",
       "    .dataframe tbody tr th:only-of-type {\n",
       "        vertical-align: middle;\n",
       "    }\n",
       "\n",
       "    .dataframe tbody tr th {\n",
       "        vertical-align: top;\n",
       "    }\n",
       "\n",
       "    .dataframe thead th {\n",
       "        text-align: right;\n",
       "    }\n",
       "</style>\n",
       "<table border=\"1\" class=\"dataframe\">\n",
       "  <thead>\n",
       "    <tr style=\"text-align: right;\">\n",
       "      <th></th>\n",
       "      <th>uid</th>\n",
       "      <th>key</th>\n",
       "      <th>description</th>\n",
       "      <th>suffix</th>\n",
       "      <th>kind</th>\n",
       "      <th>otype</th>\n",
       "      <th>size</th>\n",
       "      <th>hash</th>\n",
       "      <th>n_files</th>\n",
       "      <th>n_observations</th>\n",
       "      <th>_hash_type</th>\n",
       "      <th>_key_is_virtual</th>\n",
       "      <th>_overwrite_versions</th>\n",
       "      <th>space_id</th>\n",
       "      <th>storage_id</th>\n",
       "      <th>schema_id</th>\n",
       "      <th>version</th>\n",
       "      <th>is_latest</th>\n",
       "      <th>run_id</th>\n",
       "      <th>created_at</th>\n",
       "      <th>created_by_id</th>\n",
       "      <th>_aux</th>\n",
       "      <th>_branch_code</th>\n",
       "    </tr>\n",
       "    <tr>\n",
       "      <th>id</th>\n",
       "      <th></th>\n",
       "      <th></th>\n",
       "      <th></th>\n",
       "      <th></th>\n",
       "      <th></th>\n",
       "      <th></th>\n",
       "      <th></th>\n",
       "      <th></th>\n",
       "      <th></th>\n",
       "      <th></th>\n",
       "      <th></th>\n",
       "      <th></th>\n",
       "      <th></th>\n",
       "      <th></th>\n",
       "      <th></th>\n",
       "      <th></th>\n",
       "      <th></th>\n",
       "      <th></th>\n",
       "      <th></th>\n",
       "      <th></th>\n",
       "      <th></th>\n",
       "      <th></th>\n",
       "      <th></th>\n",
       "    </tr>\n",
       "  </thead>\n",
       "  <tbody>\n",
       "    <tr>\n",
       "      <th>1</th>\n",
       "      <td>fqDEKvRwg55UfKxG0000</td>\n",
       "      <td>None</td>\n",
       "      <td>breast metastasis</td>\n",
       "      <td>.h5ad</td>\n",
       "      <td>dataset</td>\n",
       "      <td>AnnData</td>\n",
       "      <td>124511524</td>\n",
       "      <td>AFTJoMzP5ERzpiMqjr1qR3</td>\n",
       "      <td>None</td>\n",
       "      <td>108038</td>\n",
       "      <td>sha1-fl</td>\n",
       "      <td>True</td>\n",
       "      <td>False</td>\n",
       "      <td>1</td>\n",
       "      <td>1</td>\n",
       "      <td>None</td>\n",
       "      <td>None</td>\n",
       "      <td>True</td>\n",
       "      <td>2</td>\n",
       "      <td>2025-03-05 21:28:29.211000+00:00</td>\n",
       "      <td>1</td>\n",
       "      <td>None</td>\n",
       "      <td>1</td>\n",
       "    </tr>\n",
       "  </tbody>\n",
       "</table>\n",
       "</div>"
      ],
      "text/plain": [
       "                     uid   key        description suffix     kind    otype  \\\n",
       "id                                                                           \n",
       "1   fqDEKvRwg55UfKxG0000  None  breast metastasis  .h5ad  dataset  AnnData   \n",
       "\n",
       "         size                    hash n_files  n_observations _hash_type  \\\n",
       "id                                                                         \n",
       "1   124511524  AFTJoMzP5ERzpiMqjr1qR3    None          108038    sha1-fl   \n",
       "\n",
       "    _key_is_virtual  _overwrite_versions  space_id  storage_id schema_id  \\\n",
       "id                                                                         \n",
       "1              True                False         1           1      None   \n",
       "\n",
       "   version  is_latest  run_id                       created_at  created_by_id  \\\n",
       "id                                                                              \n",
       "1     None       True       2 2025-03-05 21:28:29.211000+00:00              1   \n",
       "\n",
       "    _aux  _branch_code  \n",
       "id                      \n",
       "1   None             1  "
      ]
     },
     "execution_count": 26,
     "metadata": {},
     "output_type": "execute_result"
    }
   ],
   "source": [
    "#or\n",
    "ln.Artifact.features.filter(experiment__icontains=\"Breast Cancer\").df()"
   ]
  }
 ],
 "metadata": {
  "kernelspec": {
   "display_name": "lamin",
   "language": "python",
   "name": "python3"
  },
  "language_info": {
   "codemirror_mode": {
    "name": "ipython",
    "version": 3
   },
   "file_extension": ".py",
   "mimetype": "text/x-python",
   "name": "python",
   "nbconvert_exporter": "python",
   "pygments_lexer": "ipython3",
   "version": "3.12.9"
  }
 },
 "nbformat": 4,
 "nbformat_minor": 5
}
