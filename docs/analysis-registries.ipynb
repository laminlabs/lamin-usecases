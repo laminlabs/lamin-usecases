{
 "cells": [
  {
   "cell_type": "markdown",
   "metadata": {},
   "source": [
    "# Standardize metadata on-the-fly\n",
    "\n",
    "This use cases runs on a LaminDB instance with populated `CellType` and `Pathway` registries. Make sure you run the [GO Ontology](enrichr.ipynb) notebook before executing this use case.\n",
    "\n",
    "Here, we demonstrate how to standardize the metadata on-the-fly during cell type annotation and pathway enrichment analysis using these two registries.\n",
    "\n",
    "For more information, see:\n",
    "- {doc}`docs:public-ontologies`\n",
    "- {doc}`docs:bio-registries`\n",
    "- {doc}`docs:curate`\n",
    "- {doc}`docs:scrna`"
   ]
  },
  {
   "cell_type": "code",
   "execution_count": null,
   "metadata": {},
   "outputs": [],
   "source": [
    "!lamin connect use-cases-registries"
   ]
  },
  {
   "cell_type": "code",
   "execution_count": null,
   "metadata": {},
   "outputs": [],
   "source": [
    "import lamindb as ln\n",
    "import bionty as bt\n",
    "from lamin_usecases import datasets as ds\n",
    "import scanpy as sc\n",
    "import matplotlib.pyplot as plt\n",
    "import celltypist\n",
    "import gseapy as gp"
   ]
  },
  {
   "cell_type": "code",
   "execution_count": null,
   "metadata": {},
   "outputs": [],
   "source": [
    "ln.track(\"hsPU1OENv0LS0000\")"
   ]
  },
  {
   "cell_type": "markdown",
   "metadata": {},
   "source": [
    "## An interferon-beta treated dataset"
   ]
  },
  {
   "cell_type": "markdown",
   "metadata": {},
   "source": [
    "A small peripheral blood mononuclear cell dataset that is split into control and stimulated groups. The stimulated group was treated with interferon beta."
   ]
  },
  {
   "cell_type": "markdown",
   "metadata": {},
   "source": [
    "Let's load the dataset and perform some preprocessing:"
   ]
  },
  {
   "cell_type": "code",
   "execution_count": null,
   "metadata": {},
   "outputs": [],
   "source": [
    "adata = ds.anndata_seurat_ifnb(preprocess=False, populate_registries=True)\n",
    "adata"
   ]
  },
  {
   "cell_type": "code",
   "execution_count": null,
   "metadata": {},
   "outputs": [],
   "source": [
    "sc.pp.normalize_total(adata, target_sum=1e4)\n",
    "sc.pp.log1p(adata)\n",
    "sc.pp.highly_variable_genes(adata, n_top_genes=2000)\n",
    "sc.pp.pca(adata, n_comps=20)\n",
    "sc.pp.neighbors(adata, n_pcs=10)\n",
    "sc.tl.umap(adata)"
   ]
  },
  {
   "cell_type": "markdown",
   "metadata": {},
   "source": [
    "## Analysis: cell type annotation using CellTypist"
   ]
  },
  {
   "cell_type": "code",
   "execution_count": null,
   "metadata": {
    "tags": [
     "hide-output"
    ]
   },
   "outputs": [],
   "source": [
    "model = celltypist.models.Model.load(model=\"Immune_All_Low.pkl\")"
   ]
  },
  {
   "cell_type": "code",
   "execution_count": null,
   "metadata": {},
   "outputs": [],
   "source": [
    "predictions = celltypist.annotate(\n",
    "    adata, model=\"Immune_All_Low.pkl\", majority_voting=True\n",
    ")\n",
    "adata.obs[\"cell_type_celltypist\"] = predictions.predicted_labels.majority_voting"
   ]
  },
  {
   "cell_type": "code",
   "execution_count": null,
   "metadata": {},
   "outputs": [],
   "source": [
    "adata.obs[\"cell_type_celltypist\"] = bt.CellType.standardize(\n",
    "    adata.obs[\"cell_type_celltypist\"]\n",
    ")"
   ]
  },
  {
   "cell_type": "code",
   "execution_count": null,
   "metadata": {},
   "outputs": [],
   "source": [
    "sc.pl.umap(\n",
    "    adata,\n",
    "    color=[\"cell_type_celltypist\", \"stim\"],\n",
    "    frameon=False,\n",
    "    legend_fontsize=10,\n",
    "    wspace=0.4,\n",
    ")"
   ]
  },
  {
   "cell_type": "markdown",
   "metadata": {},
   "source": [
    "## Analysis: Pathway enrichment analysis using Enrichr"
   ]
  },
  {
   "cell_type": "markdown",
   "metadata": {},
   "source": [
    "This analysis is based on the [GSEApy scRNA-seq Example](https://gseapy.readthedocs.io/en/latest/singlecell_example.html)."
   ]
  },
  {
   "cell_type": "markdown",
   "metadata": {},
   "source": [
    "First, we compute differentially expressed genes using a Wilcoxon test between stimulated and control cells."
   ]
  },
  {
   "cell_type": "code",
   "execution_count": null,
   "metadata": {},
   "outputs": [],
   "source": [
    "# compute differentially expressed genes\n",
    "sc.tl.rank_genes_groups(\n",
    "    adata,\n",
    "    groupby=\"stim\",\n",
    "    use_raw=False,\n",
    "    method=\"wilcoxon\",\n",
    "    groups=[\"STIM\"],\n",
    "    reference=\"CTRL\",\n",
    ")\n",
    "\n",
    "rank_genes_groups_df = sc.get.rank_genes_groups_to_dataframe(adata, \"STIM\")\n",
    "rank_genes_groups_df.head()"
   ]
  },
  {
   "cell_type": "markdown",
   "metadata": {},
   "source": [
    "Next, we filter out up/down-regulated differentially expressed gene sets:"
   ]
  },
  {
   "cell_type": "code",
   "execution_count": null,
   "metadata": {},
   "outputs": [],
   "source": [
    "degs_up = rank_genes_groups_df[\n",
    "    (rank_genes_groups_df[\"logfoldchanges\"] > 0)\n",
    "    & (rank_genes_groups_df[\"pvals_adj\"] < 0.05)\n",
    "]\n",
    "degs_dw = rank_genes_groups_df[\n",
    "    (rank_genes_groups_df[\"logfoldchanges\"] < 0)\n",
    "    & (rank_genes_groups_df[\"pvals_adj\"] < 0.05)\n",
    "]\n",
    "\n",
    "degs_up.shape, degs_dw.shape"
   ]
  },
  {
   "cell_type": "markdown",
   "metadata": {},
   "source": [
    "Run pathway enrichment analysis on DEGs and plot top 10 pathways:"
   ]
  },
  {
   "cell_type": "code",
   "execution_count": null,
   "metadata": {},
   "outputs": [],
   "source": [
    "enr_up = gp.enrichr(degs_up.names, gene_sets=\"GO_Biological_Process_2023\").res2d\n",
    "gp.dotplot(enr_up, figsize=(2, 3), title=\"Up\", cmap=plt.cm.autumn_r);"
   ]
  },
  {
   "cell_type": "code",
   "execution_count": null,
   "metadata": {},
   "outputs": [],
   "source": [
    "enr_dw = gp.enrichr(degs_dw.names, gene_sets=\"GO_Biological_Process_2023\").res2d\n",
    "gp.dotplot(enr_dw, figsize=(2, 3), title=\"Down\", cmap=plt.cm.winter_r);"
   ]
  },
  {
   "cell_type": "markdown",
   "metadata": {},
   "source": [
    "## Annotate & save dataset"
   ]
  },
  {
   "cell_type": "markdown",
   "metadata": {},
   "source": [
    "gRegister new features and labels (check out more details [here](./scrna)):"
   ]
  },
  {
   "cell_type": "code",
   "execution_count": null,
   "metadata": {},
   "outputs": [],
   "source": [
    "new_features = ln.Feature.from_dataframe(adata.obs)\n",
    "ln.save(new_features)\n",
    "new_labels = [ln.ULabel(name=i) for i in adata.obs[\"stim\"].unique()]\n",
    "ln.save(new_labels)"
   ]
  },
  {
   "cell_type": "code",
   "execution_count": null,
   "metadata": {},
   "outputs": [],
   "source": [
    "features = ln.Feature.lookup()"
   ]
  },
  {
   "cell_type": "markdown",
   "metadata": {},
   "source": [
    "Register dataset using a Artifact object:"
   ]
  },
  {
   "cell_type": "code",
   "execution_count": null,
   "metadata": {},
   "outputs": [],
   "source": [
    "artifact = ln.Artifact.from_anndata(\n",
    "    adata,\n",
    "    description=\"seurat_ifnb_activated_Bcells\",\n",
    ").save()"
   ]
  },
  {
   "cell_type": "code",
   "execution_count": null,
   "metadata": {},
   "outputs": [],
   "source": [
    "# TODO: rewrite based on ln.Curator.from_anndata()\n",
    "# artifact.features._add_set_from_anndata(\n",
    "#     var_field=bt.Gene.symbol,\n",
    "#     organism=\"human\",  # optionally, globally set organism via bt.settings.organism = \"human\"\n",
    "# )\n",
    "# cell_type_records = bt.CellType.from_values(adata.obs[\"cell_type_celltypist\"])\n",
    "# artifact.labels.add(cell_type_records, features.cell_type_celltypist)\n",
    "# stim_records = ln.ULabel.from_values(adata.obs[\"stim\"])\n",
    "# artifact.labels.add(stim_records, features.stim)"
   ]
  },
  {
   "cell_type": "markdown",
   "metadata": {},
   "source": [
    "### Link pathway labels"
   ]
  },
  {
   "cell_type": "markdown",
   "metadata": {},
   "source": [
    "Let's enable tracking of the current notebook as the transform of this artifact:"
   ]
  },
  {
   "cell_type": "markdown",
   "metadata": {},
   "source": [
    "We further create two feature sets for `degs_up` and `degs_dw` which we can later associate with the associated pathways:"
   ]
  },
  {
   "cell_type": "code",
   "execution_count": null,
   "metadata": {},
   "outputs": [],
   "source": [
    "degs_up_featureset = ln.Schema.from_values(\n",
    "    degs_up.names,\n",
    "    bt.Gene.symbol,\n",
    "    name=\"Up-regulated DEGs STIM vs CTRL\",\n",
    "    organism=(  # optionally, globally set organism via bt.settings.organism = \"human\"\n",
    "        \"human\"\n",
    "    ),\n",
    ")\n",
    "degs_dw_featureset = ln.Schema.from_values(\n",
    "    degs_dw.names,\n",
    "    bt.Gene.symbol,\n",
    "    name=\"Down-regulated DEGs STIM vs CTRL\",\n",
    "    organism=(  # optionally, globally set organism via bt.settings.organism = \"human\"\n",
    "        \"human\"\n",
    "    ),\n",
    ")\n",
    "\n",
    "# Link feature sets to artifact\n",
    "artifact.features.add_feature_set(degs_up_featureset, slot=\"STIM-up-DEGs\")\n",
    "artifact.features.add_feature_set(degs_dw_featureset, slot=\"STIM-down-DEGs\")"
   ]
  },
  {
   "cell_type": "markdown",
   "metadata": {},
   "source": [
    "Link the top 10 pathways to the corresponding differentially expressed genes:"
   ]
  },
  {
   "cell_type": "code",
   "execution_count": null,
   "metadata": {},
   "outputs": [],
   "source": [
    "def parse_ontology_id_from_enrichr_results(key):\n",
    "    \"\"\"Parse out the ontology id.\n",
    "\n",
    "    \"ATF6-mediated Unfolded Protein Response (GO:0036500)\" -> (\"GO:0036500\", \"ATF6-mediated Unfolded Protein Response\")\n",
    "    \"\"\"\n",
    "    id = key.split(\" \")[-1].replace(\"(\", \"\").replace(\")\", \"\")\n",
    "    name = key.replace(f\" ({id})\", \"\")\n",
    "    return (id, name)\n",
    "\n",
    "\n",
    "# get ontology ids for the top 10 pathways\n",
    "enr_up_top10 = [\n",
    "    pw_id[0]\n",
    "    for pw_id in enr_up.head(10).Term.apply(parse_ontology_id_from_enrichr_results)\n",
    "]\n",
    "enr_dw_top10 = [\n",
    "    pw_id[0]\n",
    "    for pw_id in enr_dw.head(10).Term.apply(parse_ontology_id_from_enrichr_results)\n",
    "]\n",
    "\n",
    "# get pathway records\n",
    "enr_up_top10_pathways = bt.Pathway.from_values(enr_up_top10, bt.Pathway.ontology_id)\n",
    "enr_dw_top10_pathways = bt.Pathway.from_values(enr_dw_top10, bt.Pathway.ontology_id)"
   ]
  },
  {
   "cell_type": "markdown",
   "metadata": {},
   "source": [
    "Associate the pathways to the differentially expressed genes:"
   ]
  },
  {
   "cell_type": "code",
   "execution_count": null,
   "metadata": {},
   "outputs": [],
   "source": [
    "degs_up_featureset.pathways.set(enr_up_top10_pathways)\n",
    "degs_dw_featureset.pathways.set(enr_dw_top10_pathways)\n",
    "\n",
    "degs_up_featureset.pathways.list(\"name\")"
   ]
  },
  {
   "cell_type": "markdown",
   "metadata": {},
   "source": [
    "## Querying pathways"
   ]
  },
  {
   "cell_type": "markdown",
   "metadata": {},
   "source": [
    "Querying for pathways contains \"interferon-beta\" in the name:"
   ]
  },
  {
   "cell_type": "code",
   "execution_count": null,
   "metadata": {},
   "outputs": [],
   "source": [
    "bt.Pathway.filter(name__contains=\"interferon-beta\").to_dataframe()"
   ]
  },
  {
   "cell_type": "markdown",
   "metadata": {},
   "source": [
    "Query pathways from a gene:"
   ]
  },
  {
   "cell_type": "code",
   "execution_count": null,
   "metadata": {},
   "outputs": [],
   "source": [
    "bt.Pathway.filter(genes__symbol=\"KIR2DL1\").to_dataframe()"
   ]
  },
  {
   "cell_type": "markdown",
   "metadata": {},
   "source": [
    "Query artifacts from a pathway:"
   ]
  },
  {
   "cell_type": "code",
   "execution_count": null,
   "metadata": {},
   "outputs": [],
   "source": [
    "ln.Artifact.filter(feature_sets__pathways__name__icontains=\"interferon-beta\").first()"
   ]
  },
  {
   "cell_type": "markdown",
   "metadata": {},
   "source": [
    "Query featuresets from a pathway to learn from which geneset this pathway was computed:"
   ]
  },
  {
   "cell_type": "code",
   "execution_count": null,
   "metadata": {},
   "outputs": [],
   "source": [
    "pathway = bt.Pathway.get(ontology_id=\"GO:0035456\")\n",
    "pathway"
   ]
  },
  {
   "cell_type": "code",
   "execution_count": null,
   "metadata": {},
   "outputs": [],
   "source": [
    "degs = ln.FeatureSet.get(pathways__ontology_id=pathway.ontology_id)"
   ]
  },
  {
   "cell_type": "markdown",
   "metadata": {},
   "source": [
    "Now we can get the list of genes that are differentially expressed and belong to this pathway:"
   ]
  },
  {
   "cell_type": "code",
   "execution_count": null,
   "metadata": {},
   "outputs": [],
   "source": [
    "contributing_genes = pathway.genes.all() & degs.genes.all()\n",
    "contributing_genes.list(\"symbol\")"
   ]
  },
  {
   "cell_type": "code",
   "execution_count": null,
   "metadata": {
    "tags": [
     "hide-output"
    ]
   },
   "outputs": [],
   "source": [
    "# clean up test instance\n",
    "!lamin delete --force use-cases-registries\n",
    "!rm -r ./use-cases-registries"
   ]
  }
 ],
 "metadata": {
  "kernelspec": {
   "display_name": "py39",
   "language": "python",
   "name": "python3"
  },
  "language_info": {
   "codemirror_mode": {
    "name": "ipython",
    "version": 3
   },
   "file_extension": ".py",
   "mimetype": "text/x-python",
   "name": "python",
   "nbconvert_exporter": "python",
   "pygments_lexer": "ipython3",
   "version": "3.11.7"
  },
  "nbproject": {
   "id": "hsPU1OENv0LS",
   "parent": null,
   "pypackage": null,
   "time_init": "2023-12-04T15:08:18.911533+00:00",
   "user_handle": null,
   "user_id": null,
   "user_name": null,
   "version": "0"
  }
 },
 "nbformat": 4,
 "nbformat_minor": 2
}
