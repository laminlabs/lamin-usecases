{
 "cells": [
  {
   "cell_type": "markdown",
   "id": "8fcdd494-e6be-4673-a6bb-a8ab912d37cb",
   "metadata": {},
   "source": [
    "## Leveraging schemas for reproducible biomedical data analysis using lamindb\n",
    "---\n",
    "\n",
    "In this tutorial, we will use LaminDB to enhance the organization and reproducibility of an ML analysis. Specifically, we will explore:\n",
    "\n",
    "- The role of schemas in maintaining dataset consistency\n",
    "- The importance of features and labels in structuring biological data\n",
    "- How to create and register features and labels in LaminDB\n",
    "- Enforcing schema adherence to improve findability and interoperability\n",
    "- How structured data management streamlines the analysis workflow\n",
    "\n",
    "To resemble the multiple stages a dataset is processed in, we've split this into multiple notebooks:\n",
    "\n",
    "- Introduction and querying raw data\n",
    "- Preprocessing Raw data and some EDA\n",
    "- ML Analysis and biological interpretation\n",
    "\n",
    "By the end, you'll learn how to curate and structure biological datasets using LaminDB, enabling seamless integration of multiple experiments, improving dataset discoverability, and maintaining an efficient, reproducible data analysis pipeline."
   ]
  },
  {
   "cell_type": "markdown",
   "id": "1cfacc74-e8d2-4653-828e-29463dbb71a7",
   "metadata": {},
   "source": [
    "### Finding genetic drivers of breast cancer metastasis\n",
    "---\n",
    "**Our objective**: Investigate the molecular changes associated with lymph node metastasis in breast cancer using scRNA-seq. By analyzing matched primary breast cancer (PC) tumors and lymph node (LN) metastases from five patients, the study aims to identify key transcriptional differences between primary and metastatic sites. The analysis can be used as a starting point to uncover potential biomarkers, pathways, and cellular programs that drive the transition from primary tumors to metastatic disease in the lymph nodes.\n",
    "\n",
    "**Our dataset**: Single-cell RNA sequencing reveals the mechanism of human breast cancer metastasis\n",
    "\n",
    "**Reference**: [Xu K, Wang R, Chen Q, Liu Y et al. Microenvironment components and spatially resolved single-cell transcriptome atlas of breast cancer metastatic axillary lymph nodes.](https://www.sciengine.com/ABBS/doi/10.3724/abbs.2022131) "
   ]
  },
  {
   "cell_type": "markdown",
   "id": "65bcaa80-3b73-4680-bbc3-415113c3576d",
   "metadata": {},
   "source": [
    "Instead of manually retrieving files, users can simply search for the raw artifact in the LaminDB Artifacts Registry and load the data seamlessly, ensuring consistency and reproducibility in the workflow. Here, we will create an AnnData object from the raw data and register it as an artifact, making it easily accessible for downstream analysis."
   ]
  },
  {
   "cell_type": "code",
   "execution_count": 1,
   "id": "0344178b-627d-4e03-9e6e-756899ece8c2",
   "metadata": {},
   "outputs": [
    {
     "name": "stdout",
     "output_type": "stream",
     "text": [
      "\u001b[92m→\u001b[0m connected lamindb: laminlabs/lamindata\n"
     ]
    }
   ],
   "source": [
    "import lamindb as ln\n",
    "import bionty as bt"
   ]
  },
  {
   "cell_type": "code",
   "execution_count": 10,
   "id": "76b539c1-9189-4069-9dcb-75b01d9bf195",
   "metadata": {},
   "outputs": [],
   "source": [
    "import os\n",
    "from pathlib import Path\n",
    "import pandas as pd\n",
    "import scanpy as sc\n",
    "import anndata as ad\n",
    "import scipy.sparse as sp\n",
    "from tqdm import tqdm"
   ]
  },
  {
   "cell_type": "markdown",
   "id": "239b7a7c-bcc5-43b8-93d2-b44e3168305c",
   "metadata": {},
   "source": [
    "### We can create a project for our entire analysis steps\n",
    "---\n",
    " In a Project we can link the entities created during a run."
   ]
  },
  {
   "cell_type": "code",
   "execution_count": 12,
   "id": "61565b0a-a103-4f53-a649-be9ab7e3e720",
   "metadata": {},
   "outputs": [],
   "source": [
    "project = ln.Project(name=\"Breast metastasis\").save()"
   ]
  },
  {
   "cell_type": "code",
   "execution_count": 13,
   "id": "35701958-e812-4e30-94e4-3797b4e4cbfb",
   "metadata": {},
   "outputs": [
    {
     "data": {
      "text/html": [
       "<div>\n",
       "<style scoped>\n",
       "    .dataframe tbody tr th:only-of-type {\n",
       "        vertical-align: middle;\n",
       "    }\n",
       "\n",
       "    .dataframe tbody tr th {\n",
       "        vertical-align: top;\n",
       "    }\n",
       "\n",
       "    .dataframe thead th {\n",
       "        text-align: right;\n",
       "    }\n",
       "</style>\n",
       "<table border=\"1\" class=\"dataframe\">\n",
       "  <thead>\n",
       "    <tr style=\"text-align: right;\">\n",
       "      <th></th>\n",
       "      <th>uid</th>\n",
       "      <th>name</th>\n",
       "      <th>is_type</th>\n",
       "      <th>abbr</th>\n",
       "      <th>url</th>\n",
       "      <th>start_date</th>\n",
       "      <th>end_date</th>\n",
       "      <th>_status_code</th>\n",
       "      <th>space_id</th>\n",
       "      <th>type_id</th>\n",
       "      <th>run_id</th>\n",
       "      <th>created_at</th>\n",
       "      <th>created_by_id</th>\n",
       "      <th>_aux</th>\n",
       "      <th>_branch_code</th>\n",
       "    </tr>\n",
       "    <tr>\n",
       "      <th>id</th>\n",
       "      <th></th>\n",
       "      <th></th>\n",
       "      <th></th>\n",
       "      <th></th>\n",
       "      <th></th>\n",
       "      <th></th>\n",
       "      <th></th>\n",
       "      <th></th>\n",
       "      <th></th>\n",
       "      <th></th>\n",
       "      <th></th>\n",
       "      <th></th>\n",
       "      <th></th>\n",
       "      <th></th>\n",
       "      <th></th>\n",
       "    </tr>\n",
       "  </thead>\n",
       "  <tbody>\n",
       "    <tr>\n",
       "      <th>3</th>\n",
       "      <td>9M7iVOgQ8VAQ</td>\n",
       "      <td>Breast metastasis</td>\n",
       "      <td>False</td>\n",
       "      <td>None</td>\n",
       "      <td>None</td>\n",
       "      <td>None</td>\n",
       "      <td>None</td>\n",
       "      <td>0</td>\n",
       "      <td>1</td>\n",
       "      <td>None</td>\n",
       "      <td>NaN</td>\n",
       "      <td>2025-03-23 09:46:42.981520+00:00</td>\n",
       "      <td>35</td>\n",
       "      <td>None</td>\n",
       "      <td>1</td>\n",
       "    </tr>\n",
       "    <tr>\n",
       "      <th>2</th>\n",
       "      <td>e6VampLs53qm</td>\n",
       "      <td>Breast Cancer scRNA-seq Project</td>\n",
       "      <td>False</td>\n",
       "      <td>None</td>\n",
       "      <td>None</td>\n",
       "      <td>None</td>\n",
       "      <td>None</td>\n",
       "      <td>0</td>\n",
       "      <td>1</td>\n",
       "      <td>None</td>\n",
       "      <td>536.0</td>\n",
       "      <td>2025-03-20 20:56:44.652524+00:00</td>\n",
       "      <td>35</td>\n",
       "      <td>None</td>\n",
       "      <td>1</td>\n",
       "    </tr>\n",
       "    <tr>\n",
       "      <th>1</th>\n",
       "      <td>gmRj8xJNQY11</td>\n",
       "      <td>Test project</td>\n",
       "      <td>False</td>\n",
       "      <td>None</td>\n",
       "      <td>None</td>\n",
       "      <td>None</td>\n",
       "      <td>None</td>\n",
       "      <td>0</td>\n",
       "      <td>1</td>\n",
       "      <td>None</td>\n",
       "      <td>NaN</td>\n",
       "      <td>2025-03-10 12:02:20.234111+00:00</td>\n",
       "      <td>9</td>\n",
       "      <td>None</td>\n",
       "      <td>1</td>\n",
       "    </tr>\n",
       "  </tbody>\n",
       "</table>\n",
       "</div>"
      ],
      "text/plain": [
       "             uid                             name  is_type  abbr   url  \\\n",
       "id                                                                       \n",
       "3   9M7iVOgQ8VAQ                Breast metastasis    False  None  None   \n",
       "2   e6VampLs53qm  Breast Cancer scRNA-seq Project    False  None  None   \n",
       "1   gmRj8xJNQY11                     Test project    False  None  None   \n",
       "\n",
       "   start_date end_date  _status_code  space_id type_id  run_id  \\\n",
       "id                                                               \n",
       "3        None     None             0         1    None     NaN   \n",
       "2        None     None             0         1    None   536.0   \n",
       "1        None     None             0         1    None     NaN   \n",
       "\n",
       "                         created_at  created_by_id  _aux  _branch_code  \n",
       "id                                                                      \n",
       "3  2025-03-23 09:46:42.981520+00:00             35  None             1  \n",
       "2  2025-03-20 20:56:44.652524+00:00             35  None             1  \n",
       "1  2025-03-10 12:02:20.234111+00:00              9  None             1  "
      ]
     },
     "execution_count": 13,
     "metadata": {},
     "output_type": "execute_result"
    }
   ],
   "source": [
    "ln.Project.df()"
   ]
  },
  {
   "cell_type": "code",
   "execution_count": 2,
   "id": "61531caf-52ec-435f-9292-c162fe5507bd",
   "metadata": {},
   "outputs": [
    {
     "name": "stdout",
     "output_type": "stream",
     "text": [
      "\u001b[92m→\u001b[0m created Transform('porDxHS9GLB60000'), started new Run('WuvgoTQB...') at 2025-03-23 11:08:38 UTC\n",
      "\u001b[92m→\u001b[0m notebook imports: anndata==0.11.3 bionty==1.1.2 lamindb==1.3.0 pandas==2.2.3 scanpy==1.11.0 scipy==1.15.2 tqdm==4.67.1\n"
     ]
    }
   ],
   "source": [
    "ln.track(project=\"Breast metastasis\")"
   ]
  },
  {
   "cell_type": "markdown",
   "id": "8b00835b-f1ea-46dd-89bd-e7e45fdacf5e",
   "metadata": {},
   "source": [
    "#### Lets have a look at the AnnData Object"
   ]
  },
  {
   "cell_type": "code",
   "execution_count": null,
   "id": "256e2db2",
   "metadata": {},
   "outputs": [],
   "source": [
    "adata_artifact = ln.Artifact.get(\"grmr98C4DvA2ofeP0000\") "
   ]
  },
  {
   "cell_type": "code",
   "execution_count": 5,
   "id": "44d03dd1",
   "metadata": {},
   "outputs": [
    {
     "data": {
      "text/plain": [
       "Artifact(uid='grmr98C4DvA2ofeP0000', is_latest=True, key='schema/raw_adata.h5ad', description='Single Cell RNA-seq dataset from GEO [GSE180286], RAW-Counts', suffix='.h5ad', otype='AnnData', size=982219738, hash='q4mdUBZZH_DE65t29RY5UG', n_observations=117481, space_id=1, storage_id=2, run_id=536, created_by_id=35, created_at=2025-03-20 20:49:35 UTC)"
      ]
     },
     "execution_count": 5,
     "metadata": {},
     "output_type": "execute_result"
    }
   ],
   "source": [
    "adata_artifact.key = 'schema/raw_adata.h5ad'\n",
    "adata_artifact.save()\n"
   ]
  },
  {
   "cell_type": "code",
   "execution_count": 6,
   "id": "b979a738-2634-426f-9d42-b0d48f153ca4",
   "metadata": {},
   "outputs": [
    {
     "data": {
      "text/plain": [
       "AnnData object with n_obs × n_vars = 117481 × 17872\n",
       "    obs: 'patient', 'site'"
      ]
     },
     "execution_count": 6,
     "metadata": {},
     "output_type": "execute_result"
    }
   ],
   "source": [
    "adata = adata_artifact.load()\n",
    "adata"
   ]
  },
  {
   "cell_type": "code",
   "execution_count": 15,
   "id": "3fbe3338-f8a7-43c1-a075-a669aadee125",
   "metadata": {},
   "outputs": [
    {
     "data": {
      "text/html": [
       "<div>\n",
       "<style scoped>\n",
       "    .dataframe tbody tr th:only-of-type {\n",
       "        vertical-align: middle;\n",
       "    }\n",
       "\n",
       "    .dataframe tbody tr th {\n",
       "        vertical-align: top;\n",
       "    }\n",
       "\n",
       "    .dataframe thead th {\n",
       "        text-align: right;\n",
       "    }\n",
       "</style>\n",
       "<table border=\"1\" class=\"dataframe\">\n",
       "  <thead>\n",
       "    <tr style=\"text-align: right;\">\n",
       "      <th></th>\n",
       "    </tr>\n",
       "  </thead>\n",
       "  <tbody>\n",
       "    <tr>\n",
       "      <th>UQCR10</th>\n",
       "    </tr>\n",
       "    <tr>\n",
       "      <th>SPP1</th>\n",
       "    </tr>\n",
       "    <tr>\n",
       "      <th>HLA-DPB1</th>\n",
       "    </tr>\n",
       "    <tr>\n",
       "      <th>MT-RNR2</th>\n",
       "    </tr>\n",
       "    <tr>\n",
       "      <th>RPS29</th>\n",
       "    </tr>\n",
       "  </tbody>\n",
       "</table>\n",
       "</div>"
      ],
      "text/plain": [
       "Empty DataFrame\n",
       "Columns: []\n",
       "Index: [UQCR10, SPP1, HLA-DPB1, MT-RNR2, RPS29]"
      ]
     },
     "execution_count": 15,
     "metadata": {},
     "output_type": "execute_result"
    }
   ],
   "source": [
    "adata.var.head()"
   ]
  },
  {
   "cell_type": "code",
   "execution_count": 16,
   "id": "886c9254-5857-4af4-852c-eb77c2cee59c",
   "metadata": {},
   "outputs": [
    {
     "data": {
      "text/html": [
       "<div>\n",
       "<style scoped>\n",
       "    .dataframe tbody tr th:only-of-type {\n",
       "        vertical-align: middle;\n",
       "    }\n",
       "\n",
       "    .dataframe tbody tr th {\n",
       "        vertical-align: top;\n",
       "    }\n",
       "\n",
       "    .dataframe thead th {\n",
       "        text-align: right;\n",
       "    }\n",
       "</style>\n",
       "<table border=\"1\" class=\"dataframe\">\n",
       "  <thead>\n",
       "    <tr style=\"text-align: right;\">\n",
       "      <th></th>\n",
       "      <th>patient</th>\n",
       "      <th>site</th>\n",
       "    </tr>\n",
       "  </thead>\n",
       "  <tbody>\n",
       "    <tr>\n",
       "      <th>GGATAAGGGTCA-0</th>\n",
       "      <td>P1</td>\n",
       "      <td>primary</td>\n",
       "    </tr>\n",
       "    <tr>\n",
       "      <th>CCGTGCGTACTG-0</th>\n",
       "      <td>P1</td>\n",
       "      <td>primary</td>\n",
       "    </tr>\n",
       "    <tr>\n",
       "      <th>AGGTAACCTACG-0</th>\n",
       "      <td>P1</td>\n",
       "      <td>primary</td>\n",
       "    </tr>\n",
       "    <tr>\n",
       "      <th>CTGTATAACCTA-0</th>\n",
       "      <td>P1</td>\n",
       "      <td>primary</td>\n",
       "    </tr>\n",
       "    <tr>\n",
       "      <th>AAACAGGTTTGA-0</th>\n",
       "      <td>P1</td>\n",
       "      <td>primary</td>\n",
       "    </tr>\n",
       "  </tbody>\n",
       "</table>\n",
       "</div>"
      ],
      "text/plain": [
       "               patient     site\n",
       "GGATAAGGGTCA-0      P1  primary\n",
       "CCGTGCGTACTG-0      P1  primary\n",
       "AGGTAACCTACG-0      P1  primary\n",
       "CTGTATAACCTA-0      P1  primary\n",
       "AAACAGGTTTGA-0      P1  primary"
      ]
     },
     "execution_count": 16,
     "metadata": {},
     "output_type": "execute_result"
    }
   ],
   "source": [
    "adata.obs.head()"
   ]
  },
  {
   "cell_type": "code",
   "execution_count": 9,
   "id": "7c18ca8c-2fed-41cd-a4f7-371d0829ddbf",
   "metadata": {},
   "outputs": [
    {
     "data": {
      "text/html": [
       "<pre style=\"white-space:pre;overflow-x:auto;line-height:normal;font-family:Menlo,'DejaVu Sans Mono',consolas,'Courier New',monospace\"><span style=\"font-weight: bold\">Artifact</span><span style=\"color: #7f7f7f; text-decoration-color: #7f7f7f; font-weight: bold\"> .h5ad/AnnData</span>\n",
       "<span style=\"color: #7f7f7f; text-decoration-color: #7f7f7f\">├── </span><span style=\"color: #00ffff; text-decoration-color: #00ffff; font-weight: bold\">General</span>\n",
       "<span style=\"color: #7f7f7f; text-decoration-color: #7f7f7f\">│   ├── </span>.uid = 'grmr98C4DvA2ofeP0000'\n",
       "<span style=\"color: #7f7f7f; text-decoration-color: #7f7f7f\">│   ├── </span>.key = 'schema/raw_adata.h5ad'\n",
       "<span style=\"color: #7f7f7f; text-decoration-color: #7f7f7f\">│   ├── </span>.size = 982219738\n",
       "<span style=\"color: #7f7f7f; text-decoration-color: #7f7f7f\">│   ├── </span>.hash = 'q4mdUBZZH_DE65t29RY5UG'\n",
       "<span style=\"color: #7f7f7f; text-decoration-color: #7f7f7f\">│   ├── </span>.n_observations = 117481\n",
       "<span style=\"color: #7f7f7f; text-decoration-color: #7f7f7f\">│   ├── </span>.path = <span style=\"color: #7f7f7f; text-decoration-color: #7f7f7f\">s3://lamindata</span>/.lamindb/grmr98C4DvA2ofeP0000.h5ad\n",
       "<span style=\"color: #7f7f7f; text-decoration-color: #7f7f7f\">│   ├── </span>.created_by = paupaiz\n",
       "<span style=\"color: #7f7f7f; text-decoration-color: #7f7f7f\">│   ├── </span>.created_at = <span style=\"color: #7f7f7f; text-decoration-color: #7f7f7f\">2025-03-20 21:49:35</span>\n",
       "<span style=\"color: #7f7f7f; text-decoration-color: #7f7f7f\">│   └── </span><span style=\"color: #00d7af; text-decoration-color: #00d7af\">.transform = 'Schema_001_V4.ipynb'</span>\n",
       "<span style=\"color: #7f7f7f; text-decoration-color: #7f7f7f\">└── </span><span style=\"color: #afff00; text-decoration-color: #afff00; font-weight: bold\">Labels</span>\n",
       "<span style=\"color: #7f7f7f; text-decoration-color: #7f7f7f\">    └── </span>.projects                  <span style=\"color: #7f7f7f; text-decoration-color: #7f7f7f\"> Project                   </span> Breast metastasis                        \n",
       "<span style=\"color: #7f7f7f; text-decoration-color: #7f7f7f\">        </span>.tissues                   <span style=\"color: #7f7f7f; text-decoration-color: #7f7f7f\"> bionty.Tissue             </span> lymph node, breast                       \n",
       "<span style=\"color: #7f7f7f; text-decoration-color: #7f7f7f\">        </span>.diseases                  <span style=\"color: #7f7f7f; text-decoration-color: #7f7f7f\"> bionty.Disease            </span> breast cancer                            \n",
       "<span style=\"color: #7f7f7f; text-decoration-color: #7f7f7f\">        </span>.ulabels                   <span style=\"color: #7f7f7f; text-decoration-color: #7f7f7f\"> ULabel                    </span> Raw                                      \n",
       "</pre>\n"
      ],
      "text/plain": [
       "\u001b[1mArtifact\u001b[0m\u001b[1;2m .h5ad/AnnData\u001b[0m\n",
       "\u001b[2m├── \u001b[0m\u001b[1;96mGeneral\u001b[0m\n",
       "\u001b[2m│   \u001b[0m\u001b[2m├── \u001b[0m.uid = 'grmr98C4DvA2ofeP0000'\n",
       "\u001b[2m│   \u001b[0m\u001b[2m├── \u001b[0m.key = 'schema/raw_adata.h5ad'\n",
       "\u001b[2m│   \u001b[0m\u001b[2m├── \u001b[0m.size = 982219738\n",
       "\u001b[2m│   \u001b[0m\u001b[2m├── \u001b[0m.hash = 'q4mdUBZZH_DE65t29RY5UG'\n",
       "\u001b[2m│   \u001b[0m\u001b[2m├── \u001b[0m.n_observations = 117481\n",
       "\u001b[2m│   \u001b[0m\u001b[2m├── \u001b[0m.path = \u001b[2ms3://lamindata\u001b[0m/.lamindb/grmr98C4DvA2ofeP0000.h5ad\n",
       "\u001b[2m│   \u001b[0m\u001b[2m├── \u001b[0m.created_by = paupaiz\n",
       "\u001b[2m│   \u001b[0m\u001b[2m├── \u001b[0m.created_at = \u001b[2m2025-03-20 21:49:35\u001b[0m\n",
       "\u001b[2m│   \u001b[0m\u001b[2m└── \u001b[0m\u001b[38;5;43m.transform = 'Schema_001_V4.ipynb'\u001b[0m\n",
       "\u001b[2m└── \u001b[0m\u001b[1;38;5;154mLabels\u001b[0m\n",
       "\u001b[2m    \u001b[0m\u001b[2m└── \u001b[0m.projects                  \u001b[2m \u001b[0m\u001b[2mProject                  \u001b[0m\u001b[2m \u001b[0m Breast metastasis                        \n",
       "\u001b[2m    \u001b[0m\u001b[2m    \u001b[0m.tissues                   \u001b[2m \u001b[0m\u001b[2mbionty.Tissue            \u001b[0m\u001b[2m \u001b[0m lymph node, breast                       \n",
       "\u001b[2m    \u001b[0m\u001b[2m    \u001b[0m.diseases                  \u001b[2m \u001b[0m\u001b[2mbionty.Disease           \u001b[0m\u001b[2m \u001b[0m breast cancer                            \n",
       "\u001b[2m    \u001b[0m\u001b[2m    \u001b[0m.ulabels                   \u001b[2m \u001b[0m\u001b[2mULabel                   \u001b[0m\u001b[2m \u001b[0m Raw                                      \n"
      ]
     },
     "metadata": {},
     "output_type": "display_data"
    }
   ],
   "source": [
    "adata_artifact.describe()"
   ]
  },
  {
   "cell_type": "markdown",
   "id": "87207d30-0eb8-49ab-92bd-20ea4e00a7ae",
   "metadata": {},
   "source": [
    "### We can annotate our Artifact with labels and Features\n",
    "---"
   ]
  },
  {
   "cell_type": "markdown",
   "id": "1e2ddece-8b87-41fb-86d6-1f581945c57e",
   "metadata": {},
   "source": [
    "#### Labels"
   ]
  },
  {
   "cell_type": "code",
   "execution_count": 10,
   "id": "7df5463e-6067-4588-bf6b-7a5cb12e5170",
   "metadata": {},
   "outputs": [
    {
     "name": "stdout",
     "output_type": "stream",
     "text": [
      "\u001b[92m→\u001b[0m returning existing ULabel record with same name: 'Processing Stage'\n"
     ]
    }
   ],
   "source": [
    "# Data status represents Raw or Filtered Data\n",
    "processing_stage = ln.ULabel(name=\"Processing Stage\", is_type=True).save()"
   ]
  },
  {
   "cell_type": "code",
   "execution_count": null,
   "id": "2f9964c1-5ebe-46a9-abdc-a41e7eacc2f4",
   "metadata": {},
   "outputs": [
    {
     "name": "stdout",
     "output_type": "stream",
     "text": [
      "\u001b[92m→\u001b[0m returning existing ULabel record with same name: 'Raw'\n",
      "\u001b[92m→\u001b[0m returning existing ULabel record with same name: 'Filtered'\n"
     ]
    }
   ],
   "source": [
    "# Add Raw as ULabel\n",
    "raw_status = ln.ULabel(\n",
    "    name=\"Raw\", type=processing_stage\n",
    ").save()\n",
    "\n",
    "## Add Filtered as ULabel\n",
    "filtered_status = ln.ULabel(\n",
    "    name=\"Filtered\", type=processing_stage\n",
    ").save()"
   ]
  },
  {
   "cell_type": "code",
   "execution_count": 12,
   "id": "4bcfdcd2-f67b-482a-ac89-222f70c5c501",
   "metadata": {},
   "outputs": [],
   "source": [
    "# We can now add this raw Label to the artifact\n",
    "adata_artifact.ulabels.add(raw_status)"
   ]
  },
  {
   "cell_type": "code",
   "execution_count": 13,
   "id": "fb2a88cb-1173-432e-858b-a01ba5e486c3",
   "metadata": {},
   "outputs": [
    {
     "data": {
      "text/html": [
       "<pre style=\"white-space:pre;overflow-x:auto;line-height:normal;font-family:Menlo,'DejaVu Sans Mono',consolas,'Courier New',monospace\"><span style=\"font-weight: bold\">Artifact</span><span style=\"color: #7f7f7f; text-decoration-color: #7f7f7f; font-weight: bold\"> .h5ad/AnnData</span>\n",
       "<span style=\"color: #7f7f7f; text-decoration-color: #7f7f7f\">├── </span><span style=\"color: #00ffff; text-decoration-color: #00ffff; font-weight: bold\">General</span>\n",
       "<span style=\"color: #7f7f7f; text-decoration-color: #7f7f7f\">│   ├── </span>.uid = 'grmr98C4DvA2ofeP0000'\n",
       "<span style=\"color: #7f7f7f; text-decoration-color: #7f7f7f\">│   ├── </span>.key = 'schema/raw_adata.h5ad'\n",
       "<span style=\"color: #7f7f7f; text-decoration-color: #7f7f7f\">│   ├── </span>.size = 982219738\n",
       "<span style=\"color: #7f7f7f; text-decoration-color: #7f7f7f\">│   ├── </span>.hash = 'q4mdUBZZH_DE65t29RY5UG'\n",
       "<span style=\"color: #7f7f7f; text-decoration-color: #7f7f7f\">│   ├── </span>.n_observations = 117481\n",
       "<span style=\"color: #7f7f7f; text-decoration-color: #7f7f7f\">│   ├── </span>.path = <span style=\"color: #7f7f7f; text-decoration-color: #7f7f7f\">s3://lamindata</span>/.lamindb/grmr98C4DvA2ofeP0000.h5ad\n",
       "<span style=\"color: #7f7f7f; text-decoration-color: #7f7f7f\">│   ├── </span>.created_by = paupaiz\n",
       "<span style=\"color: #7f7f7f; text-decoration-color: #7f7f7f\">│   ├── </span>.created_at = <span style=\"color: #7f7f7f; text-decoration-color: #7f7f7f\">2025-03-20 21:49:35</span>\n",
       "<span style=\"color: #7f7f7f; text-decoration-color: #7f7f7f\">│   └── </span><span style=\"color: #00d7af; text-decoration-color: #00d7af\">.transform = 'Schema_001_V4.ipynb'</span>\n",
       "<span style=\"color: #7f7f7f; text-decoration-color: #7f7f7f\">└── </span><span style=\"color: #afff00; text-decoration-color: #afff00; font-weight: bold\">Labels</span>\n",
       "<span style=\"color: #7f7f7f; text-decoration-color: #7f7f7f\">    └── </span>.projects                  <span style=\"color: #7f7f7f; text-decoration-color: #7f7f7f\"> Project                   </span> Breast metastasis                        \n",
       "<span style=\"color: #7f7f7f; text-decoration-color: #7f7f7f\">        </span>.tissues                   <span style=\"color: #7f7f7f; text-decoration-color: #7f7f7f\"> bionty.Tissue             </span> lymph node, breast                       \n",
       "<span style=\"color: #7f7f7f; text-decoration-color: #7f7f7f\">        </span>.diseases                  <span style=\"color: #7f7f7f; text-decoration-color: #7f7f7f\"> bionty.Disease            </span> breast cancer                            \n",
       "<span style=\"color: #7f7f7f; text-decoration-color: #7f7f7f\">        </span>.ulabels                   <span style=\"color: #7f7f7f; text-decoration-color: #7f7f7f\"> ULabel                    </span> Raw                                      \n",
       "</pre>\n"
      ],
      "text/plain": [
       "\u001b[1mArtifact\u001b[0m\u001b[1;2m .h5ad/AnnData\u001b[0m\n",
       "\u001b[2m├── \u001b[0m\u001b[1;96mGeneral\u001b[0m\n",
       "\u001b[2m│   \u001b[0m\u001b[2m├── \u001b[0m.uid = 'grmr98C4DvA2ofeP0000'\n",
       "\u001b[2m│   \u001b[0m\u001b[2m├── \u001b[0m.key = 'schema/raw_adata.h5ad'\n",
       "\u001b[2m│   \u001b[0m\u001b[2m├── \u001b[0m.size = 982219738\n",
       "\u001b[2m│   \u001b[0m\u001b[2m├── \u001b[0m.hash = 'q4mdUBZZH_DE65t29RY5UG'\n",
       "\u001b[2m│   \u001b[0m\u001b[2m├── \u001b[0m.n_observations = 117481\n",
       "\u001b[2m│   \u001b[0m\u001b[2m├── \u001b[0m.path = \u001b[2ms3://lamindata\u001b[0m/.lamindb/grmr98C4DvA2ofeP0000.h5ad\n",
       "\u001b[2m│   \u001b[0m\u001b[2m├── \u001b[0m.created_by = paupaiz\n",
       "\u001b[2m│   \u001b[0m\u001b[2m├── \u001b[0m.created_at = \u001b[2m2025-03-20 21:49:35\u001b[0m\n",
       "\u001b[2m│   \u001b[0m\u001b[2m└── \u001b[0m\u001b[38;5;43m.transform = 'Schema_001_V4.ipynb'\u001b[0m\n",
       "\u001b[2m└── \u001b[0m\u001b[1;38;5;154mLabels\u001b[0m\n",
       "\u001b[2m    \u001b[0m\u001b[2m└── \u001b[0m.projects                  \u001b[2m \u001b[0m\u001b[2mProject                  \u001b[0m\u001b[2m \u001b[0m Breast metastasis                        \n",
       "\u001b[2m    \u001b[0m\u001b[2m    \u001b[0m.tissues                   \u001b[2m \u001b[0m\u001b[2mbionty.Tissue            \u001b[0m\u001b[2m \u001b[0m lymph node, breast                       \n",
       "\u001b[2m    \u001b[0m\u001b[2m    \u001b[0m.diseases                  \u001b[2m \u001b[0m\u001b[2mbionty.Disease           \u001b[0m\u001b[2m \u001b[0m breast cancer                            \n",
       "\u001b[2m    \u001b[0m\u001b[2m    \u001b[0m.ulabels                   \u001b[2m \u001b[0m\u001b[2mULabel                   \u001b[0m\u001b[2m \u001b[0m Raw                                      \n"
      ]
     },
     "metadata": {},
     "output_type": "display_data"
    }
   ],
   "source": [
    "adata_artifact.describe()"
   ]
  },
  {
   "cell_type": "markdown",
   "id": "bd679e24-4713-450f-8450-3c046d73e74c",
   "metadata": {},
   "source": [
    "Similary we can add ULabels from bionty registry"
   ]
  },
  {
   "cell_type": "code",
   "execution_count": 26,
   "id": "95b057d6-2a20-49cd-ae1b-7b8427762f42",
   "metadata": {},
   "outputs": [],
   "source": [
    "# Tissue\n",
    "tissue_breast = bt.Tissue.from_source(name=\"breast\").save()\n",
    "tissue_lymph = bt.Tissue.from_source(name=\"lymph node\").save()\n",
    "\n",
    "adata_artifact.tissues.add(tissue_breast)\n",
    "adata_artifact.tissues.add(tissue_lymph)"
   ]
  },
  {
   "cell_type": "markdown",
   "id": "b61e6dd3-ae0e-4de0-92a8-de0383e62f9d",
   "metadata": {},
   "source": [
    "#### Features"
   ]
  },
  {
   "cell_type": "markdown",
   "id": "f7e5080b-e26b-43ce-8f7c-6d7beef116d5",
   "metadata": {},
   "source": [
    "We can also annotate datasets by features."
   ]
  },
  {
   "cell_type": "code",
   "execution_count": 23,
   "id": "94534e36-6ef9-4f10-ba27-dee2401a9081",
   "metadata": {},
   "outputs": [
    {
     "name": "stdout",
     "output_type": "stream",
     "text": [
      "\u001b[92m→\u001b[0m returning existing Feature record with same name: 'disease'\n",
      "\u001b[92m→\u001b[0m returning existing Feature record with same name: 'author'\n"
     ]
    },
    {
     "data": {
      "text/plain": [
       "Feature(uid='BGdZm2yQneIq', name='author', dtype='str', array_rank=0, array_size=0, space_id=1, created_by_id=35, run_id=536, created_at=2025-03-20 22:22:10 UTC)"
      ]
     },
     "execution_count": 23,
     "metadata": {},
     "output_type": "execute_result"
    }
   ],
   "source": [
    "ln.Feature(name=\"disease\", dtype=bt.Disease).save()\n",
    "ln.Feature(name=\"author\", dtype=str).save()"
   ]
  },
  {
   "cell_type": "code",
   "execution_count": null,
   "id": "c7eec8e1-6dd8-4580-b24e-d796013fb1a8",
   "metadata": {},
   "outputs": [],
   "source": [
    "# we can now annotate our artifact\n",
    "adata_artifact.features.add_values(\n",
    "    {\n",
    "        \"author\": \"Xu K\"\n",
    "    }\n",
    ")"
   ]
  },
  {
   "cell_type": "code",
   "execution_count": 27,
   "id": "e8b318d0-0e17-4f9f-bea2-910d7cb16c7c",
   "metadata": {},
   "outputs": [
    {
     "data": {
      "text/html": [
       "<pre style=\"white-space:pre;overflow-x:auto;line-height:normal;font-family:Menlo,'DejaVu Sans Mono',consolas,'Courier New',monospace\"><span style=\"font-weight: bold\">Artifact</span><span style=\"color: #7f7f7f; text-decoration-color: #7f7f7f; font-weight: bold\"> .h5ad/AnnData</span>\n",
       "<span style=\"color: #7f7f7f; text-decoration-color: #7f7f7f\">├── </span><span style=\"color: #00ffff; text-decoration-color: #00ffff; font-weight: bold\">General</span>\n",
       "<span style=\"color: #7f7f7f; text-decoration-color: #7f7f7f\">│   ├── </span>.uid = 'grmr98C4DvA2ofeP0000'\n",
       "<span style=\"color: #7f7f7f; text-decoration-color: #7f7f7f\">│   ├── </span>.key = 'schema/raw_adata.h5ad'\n",
       "<span style=\"color: #7f7f7f; text-decoration-color: #7f7f7f\">│   ├── </span>.size = 982219738\n",
       "<span style=\"color: #7f7f7f; text-decoration-color: #7f7f7f\">│   ├── </span>.hash = 'q4mdUBZZH_DE65t29RY5UG'\n",
       "<span style=\"color: #7f7f7f; text-decoration-color: #7f7f7f\">│   ├── </span>.n_observations = 117481\n",
       "<span style=\"color: #7f7f7f; text-decoration-color: #7f7f7f\">│   ├── </span>.path = <span style=\"color: #7f7f7f; text-decoration-color: #7f7f7f\">s3://lamindata</span>/.lamindb/grmr98C4DvA2ofeP0000.h5ad\n",
       "<span style=\"color: #7f7f7f; text-decoration-color: #7f7f7f\">│   ├── </span>.created_by = paupaiz\n",
       "<span style=\"color: #7f7f7f; text-decoration-color: #7f7f7f\">│   ├── </span>.created_at = <span style=\"color: #7f7f7f; text-decoration-color: #7f7f7f\">2025-03-20 21:49:35</span>\n",
       "<span style=\"color: #7f7f7f; text-decoration-color: #7f7f7f\">│   └── </span><span style=\"color: #00d7af; text-decoration-color: #00d7af\">.transform = 'Schema_001_V4.ipynb'</span>\n",
       "<span style=\"color: #7f7f7f; text-decoration-color: #7f7f7f\">├── </span><span style=\"color: #ff8700; text-decoration-color: #ff8700; font-weight: bold\">Linked features</span>\n",
       "<span style=\"color: #7f7f7f; text-decoration-color: #7f7f7f\">│   └── </span>disease                    <span style=\"color: #7f7f7f; text-decoration-color: #7f7f7f\"> cat[bionty.Disease]       </span> breast cancer                            \n",
       "<span style=\"color: #7f7f7f; text-decoration-color: #7f7f7f\">│       </span>author                     <span style=\"color: #7f7f7f; text-decoration-color: #7f7f7f\"> str                       </span> Xu K                                     \n",
       "<span style=\"color: #7f7f7f; text-decoration-color: #7f7f7f\">└── </span><span style=\"color: #afff00; text-decoration-color: #afff00; font-weight: bold\">Labels</span>\n",
       "<span style=\"color: #7f7f7f; text-decoration-color: #7f7f7f\">    └── </span>.projects                  <span style=\"color: #7f7f7f; text-decoration-color: #7f7f7f\"> Project                   </span> Breast metastasis                        \n",
       "<span style=\"color: #7f7f7f; text-decoration-color: #7f7f7f\">        </span>.tissues                   <span style=\"color: #7f7f7f; text-decoration-color: #7f7f7f\"> bionty.Tissue             </span> lymph node, breast                       \n",
       "<span style=\"color: #7f7f7f; text-decoration-color: #7f7f7f\">        </span>.diseases                  <span style=\"color: #7f7f7f; text-decoration-color: #7f7f7f\"> bionty.Disease            </span> breast cancer                            \n",
       "<span style=\"color: #7f7f7f; text-decoration-color: #7f7f7f\">        </span>.ulabels                   <span style=\"color: #7f7f7f; text-decoration-color: #7f7f7f\"> ULabel                    </span> Raw                                      \n",
       "</pre>\n"
      ],
      "text/plain": [
       "\u001b[1mArtifact\u001b[0m\u001b[1;2m .h5ad/AnnData\u001b[0m\n",
       "\u001b[2m├── \u001b[0m\u001b[1;96mGeneral\u001b[0m\n",
       "\u001b[2m│   \u001b[0m\u001b[2m├── \u001b[0m.uid = 'grmr98C4DvA2ofeP0000'\n",
       "\u001b[2m│   \u001b[0m\u001b[2m├── \u001b[0m.key = 'schema/raw_adata.h5ad'\n",
       "\u001b[2m│   \u001b[0m\u001b[2m├── \u001b[0m.size = 982219738\n",
       "\u001b[2m│   \u001b[0m\u001b[2m├── \u001b[0m.hash = 'q4mdUBZZH_DE65t29RY5UG'\n",
       "\u001b[2m│   \u001b[0m\u001b[2m├── \u001b[0m.n_observations = 117481\n",
       "\u001b[2m│   \u001b[0m\u001b[2m├── \u001b[0m.path = \u001b[2ms3://lamindata\u001b[0m/.lamindb/grmr98C4DvA2ofeP0000.h5ad\n",
       "\u001b[2m│   \u001b[0m\u001b[2m├── \u001b[0m.created_by = paupaiz\n",
       "\u001b[2m│   \u001b[0m\u001b[2m├── \u001b[0m.created_at = \u001b[2m2025-03-20 21:49:35\u001b[0m\n",
       "\u001b[2m│   \u001b[0m\u001b[2m└── \u001b[0m\u001b[38;5;43m.transform = 'Schema_001_V4.ipynb'\u001b[0m\n",
       "\u001b[2m├── \u001b[0m\u001b[1;38;5;208mLinked features\u001b[0m\n",
       "\u001b[2m│   \u001b[0m\u001b[2m└── \u001b[0mdisease                    \u001b[2m \u001b[0m\u001b[2mcat[bionty.Disease]      \u001b[0m\u001b[2m \u001b[0m breast cancer                            \n",
       "\u001b[2m│   \u001b[0m\u001b[2m    \u001b[0mauthor                     \u001b[2m \u001b[0m\u001b[2mstr                      \u001b[0m\u001b[2m \u001b[0m Xu K                                     \n",
       "\u001b[2m└── \u001b[0m\u001b[1;38;5;154mLabels\u001b[0m\n",
       "\u001b[2m    \u001b[0m\u001b[2m└── \u001b[0m.projects                  \u001b[2m \u001b[0m\u001b[2mProject                  \u001b[0m\u001b[2m \u001b[0m Breast metastasis                        \n",
       "\u001b[2m    \u001b[0m\u001b[2m    \u001b[0m.tissues                   \u001b[2m \u001b[0m\u001b[2mbionty.Tissue            \u001b[0m\u001b[2m \u001b[0m lymph node, breast                       \n",
       "\u001b[2m    \u001b[0m\u001b[2m    \u001b[0m.diseases                  \u001b[2m \u001b[0m\u001b[2mbionty.Disease           \u001b[0m\u001b[2m \u001b[0m breast cancer                            \n",
       "\u001b[2m    \u001b[0m\u001b[2m    \u001b[0m.ulabels                   \u001b[2m \u001b[0m\u001b[2mULabel                   \u001b[0m\u001b[2m \u001b[0m Raw                                      \n"
      ]
     },
     "metadata": {},
     "output_type": "display_data"
    }
   ],
   "source": [
    "adata_artifact.describe()"
   ]
  },
  {
   "cell_type": "code",
   "execution_count": 28,
   "id": "aa65465e-f250-4095-84e3-abef72a4bc45",
   "metadata": {},
   "outputs": [
    {
     "data": {
      "image/svg+xml": [
       "<?xml version=\"1.0\" encoding=\"UTF-8\" standalone=\"no\"?>\n",
       "<!DOCTYPE svg PUBLIC \"-//W3C//DTD SVG 1.1//EN\"\n",
       " \"http://www.w3.org/Graphics/SVG/1.1/DTD/svg11.dtd\">\n",
       "<!-- Generated by graphviz version 12.2.1 (20241206.2353)\n",
       " -->\n",
       "<!-- Title: artifact_grmr98C4DvA2ofeP0000 Pages: 1 -->\n",
       "<svg width=\"382pt\" height=\"214pt\"\n",
       " viewBox=\"0.00 0.00 382.00 214.00\" xmlns=\"http://www.w3.org/2000/svg\" xmlns:xlink=\"http://www.w3.org/1999/xlink\">\n",
       "<g id=\"graph0\" class=\"graph\" transform=\"scale(1 1) rotate(0) translate(4 210)\">\n",
       "<title>artifact_grmr98C4DvA2ofeP0000</title>\n",
       "<polygon fill=\"white\" stroke=\"none\" points=\"-4,4 -4,-210 378,-210 378,4 -4,4\"/>\n",
       "<!-- run_Y4kq6znJ68jsAAWGCXv4 -->\n",
       "<g id=\"node1\" class=\"node\">\n",
       "<title>run_Y4kq6znJ68jsAAWGCXv4</title>\n",
       "<path fill=\"gainsboro\" stroke=\"#065f46\" d=\"M264,-206C264,-206 110,-206 110,-206 104,-206 98,-200 98,-194 98,-194 98,-170 98,-170 98,-164 104,-158 110,-158 110,-158 264,-158 264,-158 270,-158 276,-164 276,-170 276,-170 276,-194 276,-194 276,-200 270,-206 264,-206\"/>\n",
       "<text text-anchor=\"start\" x=\"130.38\" y=\"-193.5\" font-family=\"Helvetica,sans-Serif\" font-size=\"10.00\">📔 Schema_001_V4.ipynb</text>\n",
       "<text text-anchor=\"start\" x=\"127\" y=\"-183.5\" font-family=\"Monospace\" font-size=\"10.00\" fill=\"GREY\">uid=UCJv1Q3QIMpZ0000</text>\n",
       "<text text-anchor=\"start\" x=\"106\" y=\"-173.5\" font-family=\"Monospace\" font-size=\"10.00\" fill=\"GREY\">type=notebook, user=paupaiz</text>\n",
       "<text text-anchor=\"start\" x=\"106\" y=\"-163.5\" font-family=\"Monospace\" font-size=\"10.00\" fill=\"GREY\">run=2025&#45;03&#45;20 22:08:14 UTC</text>\n",
       "</g>\n",
       "<!-- artifact_grmr98C4DvA2ofeP0000 -->\n",
       "<g id=\"node2\" class=\"node\">\n",
       "<title>artifact_grmr98C4DvA2ofeP0000</title>\n",
       "<path fill=\"#10b981\" stroke=\"#065f46\" d=\"M338.62,-122C338.62,-122 35.38,-122 35.38,-122 29.38,-122 23.38,-116 23.38,-110 23.38,-110 23.38,-96 23.38,-96 23.38,-90 29.38,-84 35.38,-84 35.38,-84 338.62,-84 338.62,-84 344.62,-84 350.62,-90 350.62,-96 350.62,-96 350.62,-110 350.62,-110 350.62,-116 344.62,-122 338.62,-122\"/>\n",
       "<text text-anchor=\"start\" x=\"31.38\" y=\"-109.5\" font-family=\"Helvetica,sans-Serif\" font-size=\"10.00\">📄 Single Cell RNA&#45;seq dataset from GEO [GSE180286], RAW&#45;Counts</text>\n",
       "<text text-anchor=\"start\" x=\"115\" y=\"-99.5\" font-family=\"Monospace\" font-size=\"10.00\" fill=\"GREY\">uid=grmr98C4DvA2ofeP0000</text>\n",
       "<text text-anchor=\"start\" x=\"151\" y=\"-89.5\" font-family=\"Monospace\" font-size=\"10.00\" fill=\"GREY\">suffix=.h5ad</text>\n",
       "</g>\n",
       "<!-- run_Y4kq6znJ68jsAAWGCXv4&#45;&gt;artifact_grmr98C4DvA2ofeP0000 -->\n",
       "<g id=\"edge1\" class=\"edge\">\n",
       "<title>run_Y4kq6znJ68jsAAWGCXv4&#45;&gt;artifact_grmr98C4DvA2ofeP0000</title>\n",
       "<path fill=\"none\" stroke=\"dimgrey\" d=\"M187,-157.9C187,-148.68 187,-138.06 187,-128.69\"/>\n",
       "<polygon fill=\"dimgrey\" stroke=\"dimgrey\" points=\"188.75,-128.96 187,-123.96 185.25,-128.96 188.75,-128.96\"/>\n",
       "</g>\n",
       "<!-- run_yaV7gbbGo6HaPszCIblU -->\n",
       "<g id=\"node3\" class=\"node\">\n",
       "<title>run_yaV7gbbGo6HaPszCIblU</title>\n",
       "<path fill=\"gainsboro\" stroke=\"#065f46\" d=\"M166,-48C166,-48 12,-48 12,-48 6,-48 0,-42 0,-36 0,-36 0,-12 0,-12 0,-6 6,0 12,0 12,0 166,0 166,0 172,0 178,-6 178,-12 178,-12 178,-36 178,-36 178,-42 172,-48 166,-48\"/>\n",
       "<text text-anchor=\"start\" x=\"46.25\" y=\"-35.5\" font-family=\"Helvetica,sans-Serif\" font-size=\"10.00\">📔 Schema_1.ipynb</text>\n",
       "<text text-anchor=\"start\" x=\"29\" y=\"-25.5\" font-family=\"Monospace\" font-size=\"10.00\" fill=\"GREY\">uid=VVfuRos7APWt0000</text>\n",
       "<text text-anchor=\"start\" x=\"8\" y=\"-15.5\" font-family=\"Monospace\" font-size=\"10.00\" fill=\"GREY\">type=notebook, user=paupaiz</text>\n",
       "<text text-anchor=\"start\" x=\"8\" y=\"-5.5\" font-family=\"Monospace\" font-size=\"10.00\" fill=\"GREY\">run=2025&#45;03&#45;23 10:01:16 UTC</text>\n",
       "</g>\n",
       "<!-- artifact_grmr98C4DvA2ofeP0000&#45;&gt;run_yaV7gbbGo6HaPszCIblU -->\n",
       "<g id=\"edge2\" class=\"edge\">\n",
       "<title>artifact_grmr98C4DvA2ofeP0000&#45;&gt;run_yaV7gbbGo6HaPszCIblU</title>\n",
       "<path fill=\"none\" stroke=\"dimgrey\" d=\"M163.78,-83.75C151.78,-74.33 136.9,-62.63 123.58,-52.17\"/>\n",
       "<polygon fill=\"dimgrey\" stroke=\"dimgrey\" points=\"124.95,-51.02 119.94,-49.31 122.79,-53.78 124.95,-51.02\"/>\n",
       "</g>\n",
       "<!-- run_WuvgoTQBUwW8P42VF345 -->\n",
       "<g id=\"node4\" class=\"node\">\n",
       "<title>run_WuvgoTQBUwW8P42VF345</title>\n",
       "<path fill=\"gainsboro\" stroke=\"#065f46\" d=\"M362,-48C362,-48 208,-48 208,-48 202,-48 196,-42 196,-36 196,-36 196,-12 196,-12 196,-6 202,0 208,0 208,0 362,0 362,0 368,0 374,-6 374,-12 374,-12 374,-36 374,-36 374,-42 368,-48 362,-48\"/>\n",
       "<text text-anchor=\"start\" x=\"254.25\" y=\"-35.5\" font-family=\"Helvetica,sans-Serif\" font-size=\"10.00\">📔 Xu_1.ipynb</text>\n",
       "<text text-anchor=\"start\" x=\"225\" y=\"-25.5\" font-family=\"Monospace\" font-size=\"10.00\" fill=\"GREY\">uid=porDxHS9GLB60000</text>\n",
       "<text text-anchor=\"start\" x=\"204\" y=\"-15.5\" font-family=\"Monospace\" font-size=\"10.00\" fill=\"GREY\">type=notebook, user=paupaiz</text>\n",
       "<text text-anchor=\"start\" x=\"204\" y=\"-5.5\" font-family=\"Monospace\" font-size=\"10.00\" fill=\"GREY\">run=2025&#45;03&#45;23 11:08:38 UTC</text>\n",
       "</g>\n",
       "<!-- artifact_grmr98C4DvA2ofeP0000&#45;&gt;run_WuvgoTQBUwW8P42VF345 -->\n",
       "<g id=\"edge3\" class=\"edge\">\n",
       "<title>artifact_grmr98C4DvA2ofeP0000&#45;&gt;run_WuvgoTQBUwW8P42VF345</title>\n",
       "<path fill=\"none\" stroke=\"dimgrey\" d=\"M210.22,-83.75C222.22,-74.33 237.1,-62.63 250.42,-52.17\"/>\n",
       "<polygon fill=\"dimgrey\" stroke=\"dimgrey\" points=\"251.21,-53.78 254.06,-49.31 249.05,-51.02 251.21,-53.78\"/>\n",
       "</g>\n",
       "</g>\n",
       "</svg>\n"
      ]
     },
     "metadata": {},
     "output_type": "display_data"
    }
   ],
   "source": [
    "adata_artifact.view_lineage()"
   ]
  },
  {
   "cell_type": "markdown",
   "id": "654042a5-9d66-40b9-b194-91845bfad3d6",
   "metadata": {},
   "source": [
    "### Search and Query the dataset\n",
    "---\n",
    "with our artifact well annotated we can now easily search for it in the registry"
   ]
  },
  {
   "cell_type": "code",
   "execution_count": 29,
   "id": "aee35380-f042-493f-8258-7b6e35617578",
   "metadata": {},
   "outputs": [
    {
     "data": {
      "text/html": [
       "<div>\n",
       "<style scoped>\n",
       "    .dataframe tbody tr th:only-of-type {\n",
       "        vertical-align: middle;\n",
       "    }\n",
       "\n",
       "    .dataframe tbody tr th {\n",
       "        vertical-align: top;\n",
       "    }\n",
       "\n",
       "    .dataframe thead th {\n",
       "        text-align: right;\n",
       "    }\n",
       "</style>\n",
       "<table border=\"1\" class=\"dataframe\">\n",
       "  <thead>\n",
       "    <tr style=\"text-align: right;\">\n",
       "      <th></th>\n",
       "      <th>uid</th>\n",
       "      <th>key</th>\n",
       "      <th>description</th>\n",
       "      <th>suffix</th>\n",
       "      <th>kind</th>\n",
       "      <th>otype</th>\n",
       "      <th>size</th>\n",
       "      <th>hash</th>\n",
       "      <th>n_files</th>\n",
       "      <th>n_observations</th>\n",
       "      <th>_hash_type</th>\n",
       "      <th>_key_is_virtual</th>\n",
       "      <th>_overwrite_versions</th>\n",
       "      <th>space_id</th>\n",
       "      <th>storage_id</th>\n",
       "      <th>schema_id</th>\n",
       "      <th>version</th>\n",
       "      <th>is_latest</th>\n",
       "      <th>run_id</th>\n",
       "      <th>created_at</th>\n",
       "      <th>created_by_id</th>\n",
       "      <th>_aux</th>\n",
       "      <th>_branch_code</th>\n",
       "    </tr>\n",
       "    <tr>\n",
       "      <th>id</th>\n",
       "      <th></th>\n",
       "      <th></th>\n",
       "      <th></th>\n",
       "      <th></th>\n",
       "      <th></th>\n",
       "      <th></th>\n",
       "      <th></th>\n",
       "      <th></th>\n",
       "      <th></th>\n",
       "      <th></th>\n",
       "      <th></th>\n",
       "      <th></th>\n",
       "      <th></th>\n",
       "      <th></th>\n",
       "      <th></th>\n",
       "      <th></th>\n",
       "      <th></th>\n",
       "      <th></th>\n",
       "      <th></th>\n",
       "      <th></th>\n",
       "      <th></th>\n",
       "      <th></th>\n",
       "      <th></th>\n",
       "    </tr>\n",
       "  </thead>\n",
       "  <tbody>\n",
       "    <tr>\n",
       "      <th>1381</th>\n",
       "      <td>grmr98C4DvA2ofeP0000</td>\n",
       "      <td>schema/raw_adata.h5ad</td>\n",
       "      <td>Single Cell RNA-seq dataset from GEO [GSE18028...</td>\n",
       "      <td>.h5ad</td>\n",
       "      <td>None</td>\n",
       "      <td>AnnData</td>\n",
       "      <td>982219738</td>\n",
       "      <td>q4mdUBZZH_DE65t29RY5UG</td>\n",
       "      <td>None</td>\n",
       "      <td>117481</td>\n",
       "      <td>sha1-fl</td>\n",
       "      <td>True</td>\n",
       "      <td>False</td>\n",
       "      <td>1</td>\n",
       "      <td>2</td>\n",
       "      <td>None</td>\n",
       "      <td>None</td>\n",
       "      <td>True</td>\n",
       "      <td>536</td>\n",
       "      <td>2025-03-20 20:49:35.851408+00:00</td>\n",
       "      <td>35</td>\n",
       "      <td>None</td>\n",
       "      <td>1</td>\n",
       "    </tr>\n",
       "  </tbody>\n",
       "</table>\n",
       "</div>"
      ],
      "text/plain": [
       "                       uid                    key  \\\n",
       "id                                                  \n",
       "1381  grmr98C4DvA2ofeP0000  schema/raw_adata.h5ad   \n",
       "\n",
       "                                            description suffix  kind    otype  \\\n",
       "id                                                                              \n",
       "1381  Single Cell RNA-seq dataset from GEO [GSE18028...  .h5ad  None  AnnData   \n",
       "\n",
       "           size                    hash n_files  n_observations _hash_type  \\\n",
       "id                                                                           \n",
       "1381  982219738  q4mdUBZZH_DE65t29RY5UG    None          117481    sha1-fl   \n",
       "\n",
       "      _key_is_virtual  _overwrite_versions  space_id  storage_id schema_id  \\\n",
       "id                                                                           \n",
       "1381             True                False         1           2      None   \n",
       "\n",
       "     version  is_latest  run_id                       created_at  \\\n",
       "id                                                                 \n",
       "1381    None       True     536 2025-03-20 20:49:35.851408+00:00   \n",
       "\n",
       "      created_by_id  _aux  _branch_code  \n",
       "id                                       \n",
       "1381             35  None             1  "
      ]
     },
     "execution_count": 29,
     "metadata": {},
     "output_type": "execute_result"
    }
   ],
   "source": [
    "ln.Artifact.features.filter(author__contains=\"Xu K\").df()"
   ]
  },
  {
   "cell_type": "code",
   "execution_count": 31,
   "id": "926dfe00-bd43-4eae-a157-dc76e78b0a91",
   "metadata": {},
   "outputs": [
    {
     "name": "stdout",
     "output_type": "stream",
     "text": [
      "\u001b[93m!\u001b[0m cells [(1, 10), (10, 12), (13, 2), (2, None), (None, 5), (6, 15), (16, 9), (10, None), (None, 12), (13, 26), (26, 23), (24, 27)] were not run consecutively\n",
      "\u001b[92m→\u001b[0m finished Run('WuvgoTQB') after 25m at 2025-03-23 11:33:51 UTC\n",
      "\u001b[92m→\u001b[0m go to: https://lamin.ai/laminlabs/lamindata/transform/porDxHS9GLB60000\n",
      "\u001b[92m→\u001b[0m to update your notebook from the CLI, run: lamin save /Users/paulinampaiz/Desktop/myLamin_local/Xu_1.ipynb\n"
     ]
    }
   ],
   "source": [
    "ln.finish()"
   ]
  }
 ],
 "metadata": {
  "kernelspec": {
   "display_name": "lamin",
   "language": "python",
   "name": "python3"
  },
  "language_info": {
   "codemirror_mode": {
    "name": "ipython",
    "version": 3
   },
   "file_extension": ".py",
   "mimetype": "text/x-python",
   "name": "python",
   "nbconvert_exporter": "python",
   "pygments_lexer": "ipython3",
   "version": "3.12.9"
  }
 },
 "nbformat": 4,
 "nbformat_minor": 5
}
