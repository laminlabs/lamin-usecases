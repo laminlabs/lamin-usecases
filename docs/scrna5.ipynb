{
 "cells": [
  {
   "cell_type": "markdown",
   "id": "3a92e598",
   "metadata": {},
   "source": [
    "![scrna5/6](https://img.shields.io/badge/scrna5/6-lightgrey)\n",
    "[![Jupyter Notebook](https://img.shields.io/badge/Source%20on%20GitHub-orange)](https://github.com/laminlabs/lamin-usecases/blob/main/docs/scrna4.ipynb)\n",
    "[![lamindata](https://img.shields.io/badge/Source%20%26%20report%20on%20LaminHub-mediumseagreen)](https://lamin.ai/laminlabs/lamindata/record/core/Transform?uid=Qr1kIHvK506rz8)"
   ]
  },
  {
   "cell_type": "markdown",
   "id": "6a0da8a5",
   "metadata": {},
   "source": [
    "# Train an ML model on a collection"
   ]
  },
  {
   "cell_type": "markdown",
   "id": "5a33a86e",
   "metadata": {},
   "source": [
    "In the [previous tutorial](scrna3), we loaded an entire collection into memory to perform a simple analysis.\n",
    "\n",
    "Here, we'll iterate over the artifacts within the collection to train an ML model."
   ]
  },
  {
   "cell_type": "code",
   "execution_count": null,
   "id": "c03d51f8",
   "metadata": {},
   "outputs": [],
   "source": [
    "import lamindb as ln\n",
    "import anndata as ad\n",
    "import numpy as np"
   ]
  },
  {
   "cell_type": "code",
   "execution_count": null,
   "id": "626c2cef",
   "metadata": {},
   "outputs": [],
   "source": [
    "ln.track()"
   ]
  },
  {
   "cell_type": "markdown",
   "id": "fe511a4d",
   "metadata": {},
   "source": [
    "## Preprocessing"
   ]
  },
  {
   "cell_type": "markdown",
   "id": "87a94c1a",
   "metadata": {},
   "source": [
    "Let us get our collection:"
   ]
  },
  {
   "cell_type": "code",
   "execution_count": null,
   "id": "f232d65e",
   "metadata": {},
   "outputs": [],
   "source": [
    "collection_v2 = ln.Collection.filter(\n",
    "    name=\"My versioned scRNA-seq collection\", version=\"2\"\n",
    ").one()\n",
    "collection_v2"
   ]
  },
  {
   "cell_type": "markdown",
   "id": "77d7dc38",
   "metadata": {},
   "source": [
    "## PyTorch DataLoader"
   ]
  },
  {
   "cell_type": "markdown",
   "id": "7a6c0000",
   "metadata": {},
   "source": [
    "If you need to train your model on a list of artifacts, you can use {meth}`~lamindb.Collection.mapped` with the PyTorch `DataLoader`.\n",
    "\n",
    "It only loads batches into memory and thus allows to work with very large collections."
   ]
  },
  {
   "cell_type": "code",
   "execution_count": null,
   "id": "7d705b49",
   "metadata": {},
   "outputs": [],
   "source": [
    "from torch.utils.data import DataLoader, WeightedRandomSampler"
   ]
  },
  {
   "cell_type": "markdown",
   "id": "5e348b32",
   "metadata": {},
   "source": [
    "Let us create a {class}`~lamindb.dev.MappedCollection` object from {class}`~lamindb.Collection`.\n",
    "\n",
    "Under-the-hood, it performs a virtual inner join of the variables of the underlying `AnnData` objects."
   ]
  },
  {
   "cell_type": "code",
   "execution_count": null,
   "id": "42c0fcf0",
   "metadata": {},
   "outputs": [],
   "source": [
    "ds_mapped = collection_v2.mapped(label_keys=[\"cell_type\"])"
   ]
  },
  {
   "cell_type": "markdown",
   "id": "684fdb1c",
   "metadata": {},
   "source": [
    "The intersected variable names can be accessed:"
   ]
  },
  {
   "cell_type": "code",
   "execution_count": null,
   "id": "354f955c",
   "metadata": {},
   "outputs": [],
   "source": [
    "len(ds_mapped.var_joint)"
   ]
  },
  {
   "cell_type": "markdown",
   "id": "4e46ee80",
   "metadata": {},
   "source": [
    "This is compatible with pytorch `DataLoader` because it implements `__getitem__` over a list of backed `AnnData` objects."
   ]
  },
  {
   "cell_type": "code",
   "execution_count": null,
   "id": "2bacad8a",
   "metadata": {
    "tags": [
     "hide-output"
    ]
   },
   "outputs": [],
   "source": [
    "ds_mapped[5]"
   ]
  },
  {
   "cell_type": "markdown",
   "id": "3954ece9",
   "metadata": {},
   "source": [
    "The `labels` are encoded into integers."
   ]
  },
  {
   "cell_type": "code",
   "execution_count": null,
   "id": "72a0a9ae",
   "metadata": {
    "tags": [
     "hide-output"
    ]
   },
   "outputs": [],
   "source": [
    "ds_mapped.encoders"
   ]
  },
  {
   "cell_type": "markdown",
   "id": "b5321512",
   "metadata": {},
   "source": [
    "Let us use a weighted sampler:"
   ]
  },
  {
   "cell_type": "code",
   "execution_count": null,
   "id": "cef13ba8",
   "metadata": {},
   "outputs": [],
   "source": [
    "# label_key for weight doesn't have to be in labels on init\n",
    "sampler = WeightedRandomSampler(\n",
    "    weights=ds_mapped.get_label_weights(\"cell_type\"), num_samples=len(ds_mapped)\n",
    ")\n",
    "dl = DataLoader(ds_mapped, batch_size=128, sampler=sampler)"
   ]
  },
  {
   "cell_type": "markdown",
   "id": "181fe57e",
   "metadata": {},
   "source": [
    "We can now iterate through the data loader:"
   ]
  },
  {
   "cell_type": "code",
   "execution_count": null,
   "id": "26015540",
   "metadata": {},
   "outputs": [],
   "source": [
    "for batch in dl:\n",
    "    pass"
   ]
  },
  {
   "cell_type": "markdown",
   "id": "11ea391d",
   "metadata": {},
   "source": [
    "Close the connections in `MappedCollection`:"
   ]
  },
  {
   "cell_type": "code",
   "execution_count": null,
   "id": "c3b507f6",
   "metadata": {},
   "outputs": [],
   "source": [
    "ds_mapped.close()"
   ]
  },
  {
   "cell_type": "markdown",
   "id": "c955a7b7",
   "metadata": {},
   "source": [
    ":::{dropdown} In practice, use a context manager\n",
    "\n",
    "```\n",
    "with ds_train.mapped(label_keys=[\"cell_type\"]) as ds_mapped:\n",
    "    sampler = WeightedRandomSampler(\n",
    "        weights=ds_mapped.get_label_weights(\"cell_type\"), num_samples=len(ds_mapped)\n",
    "    )\n",
    "    dl = DataLoader(ds_mapped, batch_size=128, sampler=sampler)\n",
    "    for batch in dl:\n",
    "        pass\n",
    "```\n",
    ":::"
   ]
  }
 ],
 "metadata": {
  "kernelspec": {
   "display_name": "Python 3 (ipykernel)",
   "language": "python",
   "name": "python3"
  },
  "language_info": {
   "codemirror_mode": {
    "name": "ipython",
    "version": 3
   },
   "file_extension": ".py",
   "mimetype": "text/x-python",
   "name": "python",
   "nbconvert_exporter": "python",
   "pygments_lexer": "ipython3",
   "version": "3.10.13"
  },
  "nbproject": {
   "id": "Qr1kIHvK506r",
   "parent": null,
   "pypackage": null,
   "time_init": "2023-10-01T13:49:05.628463+00:00",
   "user_handle": null,
   "user_id": null,
   "user_name": null,
   "version": "1"
  }
 },
 "nbformat": 4,
 "nbformat_minor": 5
}
