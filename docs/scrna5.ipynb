{
 "cells": [
  {
   "cell_type": "markdown",
   "id": "3a92e598",
   "metadata": {},
   "source": [
    "![scrna5/6](https://img.shields.io/badge/scrna5/6-lightgrey)\n",
    "[![Jupyter Notebook](https://img.shields.io/badge/Jupyter%20Notebook-orange)](https://github.com/laminlabs/lamin-usecases/blob/main/docs/scrna4.ipynb)\n",
    "[![lamindata](https://img.shields.io/badge/laminlabs/lamindata-mediumseagreen)](https://lamin.ai/laminlabs/lamindata/record/core/Transform?uid=Qr1kIHvK506rz8)"
   ]
  },
  {
   "cell_type": "markdown",
   "id": "6a0da8a5",
   "metadata": {},
   "source": [
    "# Iteratively train an ML model on a dataset"
   ]
  },
  {
   "cell_type": "markdown",
   "id": "5a33a86e",
   "metadata": {},
   "source": [
    "In the [previous tutorial](scrna3), we loaded an entire dataset into memory to perform a simple analysis.\n",
    "\n",
    "Here, we'll iterate over the files within the dataset to train an ML model."
   ]
  },
  {
   "cell_type": "code",
   "execution_count": null,
   "id": "c03d51f8",
   "metadata": {},
   "outputs": [],
   "source": [
    "import lamindb as ln\n",
    "import anndata as ad\n",
    "import numpy as np"
   ]
  },
  {
   "cell_type": "code",
   "execution_count": null,
   "id": "626c2cef",
   "metadata": {},
   "outputs": [],
   "source": [
    "ln.track()"
   ]
  },
  {
   "cell_type": "markdown",
   "id": "fe511a4d",
   "metadata": {},
   "source": [
    "## Setup"
   ]
  },
  {
   "cell_type": "code",
   "execution_count": null,
   "id": "f232d65e",
   "metadata": {},
   "outputs": [],
   "source": [
    "dataset_v2 = ln.Dataset.filter(name=\"My versioned scRNA-seq dataset\", version=\"2\").one()\n",
    "\n",
    "dataset_v2"
   ]
  },
  {
   "cell_type": "markdown",
   "id": "285a537f",
   "metadata": {},
   "source": [
    "We import [scvi-tools](https://github.com/scverse/scvi-tools)."
   ]
  },
  {
   "cell_type": "code",
   "execution_count": null,
   "id": "6aa24cd7",
   "metadata": {
    "tags": [
     "hide-output"
    ]
   },
   "outputs": [],
   "source": [
    "import scvi"
   ]
  },
  {
   "cell_type": "markdown",
   "id": "cd564b74",
   "metadata": {},
   "source": [
    "Similar to what we did in the [previous tutorial](scrna3), we could load the entire dataset into memory and train a model in 4 lines of code.\n",
    "\n",
    ":::{dropdown} How would this look like?\n",
    "\n",
    "```\n",
    "data_train = dataset_v2.load(join=\"inner\")\n",
    "scvi.model.SCVI.setup_anndata(data_train)\n",
    "vae = scvi.model.SCVI(data_train)\n",
    "vae.train(max_epochs=1)  # we use max_epochs=1 to be able to run it on CI\n",
    "```\n",
    "\n",
    ":::"
   ]
  },
  {
   "cell_type": "markdown",
   "id": "c0a61ac1",
   "metadata": {},
   "source": [
    "Let us instead load all file records:"
   ]
  },
  {
   "cell_type": "code",
   "execution_count": null,
   "id": "addaa4cf",
   "metadata": {},
   "outputs": [],
   "source": [
    "file1, file2 = dataset_v2.files.list()"
   ]
  },
  {
   "cell_type": "markdown",
   "id": "500dd0d2",
   "metadata": {},
   "source": [
    "We'd like some context on what the first file contains and where it's from:"
   ]
  },
  {
   "cell_type": "code",
   "execution_count": null,
   "id": "02fb951e",
   "metadata": {
    "tags": [
     "hide-output"
    ]
   },
   "outputs": [],
   "source": [
    "file1.describe()\n",
    "file1.view_flow()"
   ]
  },
  {
   "cell_type": "markdown",
   "id": "1b2e2b3a",
   "metadata": {},
   "source": [
    "We'll need to make a decision on the features that we want to use for training the model.\n",
    "\n",
    "Because each file is validated, they're all indexed by `ensembl_gene_id` in the `var` slot of AnnData."
   ]
  },
  {
   "cell_type": "code",
   "execution_count": null,
   "id": "b1bd6fc6",
   "metadata": {},
   "outputs": [],
   "source": [
    "shared_genes = file1.features[\"var\"] & file2.features[\"var\"]\n",
    "shared_genes_ensembl = shared_genes.list(\"ensembl_gene_id\")"
   ]
  },
  {
   "cell_type": "markdown",
   "id": "07ba43a7",
   "metadata": {},
   "source": [
    "## Train the model"
   ]
  },
  {
   "cell_type": "markdown",
   "id": "a3634185",
   "metadata": {},
   "source": [
    "Let us load the first file into memory:"
   ]
  },
  {
   "cell_type": "code",
   "execution_count": null,
   "id": "ecdfac83",
   "metadata": {},
   "outputs": [],
   "source": [
    "data_train1 = file1.load().raw[:, shared_genes_ensembl].to_adata()\n",
    "data_train1"
   ]
  },
  {
   "cell_type": "markdown",
   "id": "1bfef8a2",
   "metadata": {},
   "source": [
    "Train the model on this first file:"
   ]
  },
  {
   "cell_type": "code",
   "execution_count": null,
   "id": "0ec5a6cf",
   "metadata": {
    "tags": [
     "hide-output"
    ]
   },
   "outputs": [],
   "source": [
    "scvi.model.SCVI.setup_anndata(data_train1)\n",
    "vae = scvi.model.SCVI(data_train1)\n",
    "vae.train(max_epochs=1)  # we use max_epochs=1 to run it on CI\n",
    "vae.save(\"saved_models/scvi1\")"
   ]
  },
  {
   "cell_type": "markdown",
   "id": "d42318ec",
   "metadata": {},
   "source": [
    "Load the second file and resume training the model:"
   ]
  },
  {
   "cell_type": "code",
   "execution_count": null,
   "id": "aba80e62",
   "metadata": {
    "tags": [
     "hide-output"
    ]
   },
   "outputs": [],
   "source": [
    "data_train2 = file2.load().raw[:, shared_genes_ensembl].to_adata()\n",
    "vae = scvi.model.SCVI.load(\"saved_models/scvi1\", data_train2)\n",
    "vae.train(max_epochs=1)\n",
    "vae.save(\"saved_models/scvi1\", overwrite=True)"
   ]
  },
  {
   "cell_type": "markdown",
   "id": "43770f7a",
   "metadata": {},
   "source": [
    "## Save the model"
   ]
  },
  {
   "cell_type": "code",
   "execution_count": null,
   "id": "ccfdc59a",
   "metadata": {},
   "outputs": [],
   "source": [
    "weights = ln.File(\"saved_models/scvi1/model.pt\", description=\"My trained model\")\n",
    "weights.save()"
   ]
  },
  {
   "cell_type": "markdown",
   "id": "296c67a4",
   "metadata": {},
   "source": [
    "## Save latent representation as a new dataset"
   ]
  },
  {
   "cell_type": "code",
   "execution_count": null,
   "id": "0f482b26",
   "metadata": {},
   "outputs": [],
   "source": [
    "latent1 = vae.get_latent_representation(data_train1)\n",
    "latent2 = vae.get_latent_representation(data_train2)\n",
    "\n",
    "adata_latent1 = ad.AnnData(X=latent1, obs=data_train1.obs)\n",
    "adata_latent2 = ad.AnnData(X=latent2, obs=data_train2.obs)"
   ]
  },
  {
   "cell_type": "markdown",
   "id": "e7da5328",
   "metadata": {},
   "source": [
    "Because the latent representation is low-dimensional, we can typically fit very high number of observations into memory.\n",
    "\n",
    "Hence, let's store it as a concatenated adata."
   ]
  },
  {
   "cell_type": "code",
   "execution_count": null,
   "id": "54f55922",
   "metadata": {},
   "outputs": [],
   "source": [
    "adata_latent = ad.concat([adata_latent1, adata_latent2])"
   ]
  },
  {
   "cell_type": "code",
   "execution_count": null,
   "id": "01fd5a49",
   "metadata": {},
   "outputs": [],
   "source": [
    "dataset_v2_latent = ln.Dataset(\n",
    "    adata_latent,\n",
    "    name=\"Latent representation of scRNA-seq dataset v2\",\n",
    "    description=\"For the original data, see dataset T5x0SkRJNviE0jYGbJKt\",\n",
    ")\n",
    "dataset_v2_latent.save()"
   ]
  },
  {
   "cell_type": "markdown",
   "id": "5794f1cc",
   "metadata": {},
   "source": [
    "Let us look at the data flow:"
   ]
  },
  {
   "cell_type": "code",
   "execution_count": null,
   "id": "0364f1ea",
   "metadata": {},
   "outputs": [],
   "source": [
    "dataset_v2_latent.view_flow()"
   ]
  },
  {
   "cell_type": "markdown",
   "id": "8688bf0d",
   "metadata": {},
   "source": [
    "Compare this with the model:"
   ]
  },
  {
   "cell_type": "code",
   "execution_count": null,
   "id": "0e01f713",
   "metadata": {},
   "outputs": [],
   "source": [
    "weights.view_flow()"
   ]
  },
  {
   "cell_type": "markdown",
   "id": "e814c919",
   "metadata": {},
   "source": [
    "Annotate with labels:"
   ]
  },
  {
   "cell_type": "code",
   "execution_count": null,
   "id": "9414d24f",
   "metadata": {},
   "outputs": [],
   "source": [
    "dataset_v2_latent.labels.add_from(dataset_v2)\n",
    "\n",
    "dataset_v2_latent.describe()"
   ]
  },
  {
   "cell_type": "code",
   "execution_count": null,
   "id": "74753e31",
   "metadata": {},
   "outputs": [],
   "source": [
    "# clean up test instance\n",
    "!lamin delete --force test-scrna\n",
    "!rm -r ./test-scrna"
   ]
  }
 ],
 "metadata": {
  "kernelspec": {
   "display_name": "Python 3 (ipykernel)",
   "language": "python",
   "name": "python3"
  },
  "language_info": {
   "codemirror_mode": {
    "name": "ipython",
    "version": 3
   },
   "file_extension": ".py",
   "mimetype": "text/x-python",
   "name": "python",
   "nbconvert_exporter": "python",
   "pygments_lexer": "ipython3",
   "version": "3.10.4"
  },
  "nbproject": {
   "id": "Qr1kIHvK506r",
   "parent": null,
   "pypackage": null,
   "time_init": "2023-10-01T13:49:05.628463+00:00",
   "user_handle": null,
   "user_id": null,
   "user_name": null,
   "version": "0"
  }
 },
 "nbformat": 4,
 "nbformat_minor": 5
}
