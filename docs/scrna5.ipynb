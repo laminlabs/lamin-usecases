{
 "cells": [
  {
   "cell_type": "markdown",
   "id": "3a92e598",
   "metadata": {},
   "source": [
    "![scrna5/6](https://img.shields.io/badge/scrna5/6-lightgrey)\n",
    "[![Jupyter Notebook](https://img.shields.io/badge/Source%20on%20GitHub-orange)](https://github.com/laminlabs/lamin-usecases/blob/main/docs/scrna4.ipynb)\n",
    "[![lamindata](https://img.shields.io/badge/Source%20%26%20report%20on%20LaminHub-mediumseagreen)](https://lamin.ai/laminlabs/lamindata/record/core/Transform?uid=Qr1kIHvK506rz8)"
   ]
  },
  {
   "cell_type": "markdown",
   "id": "6a0da8a5",
   "metadata": {},
   "source": [
    "# Train a machine learning model on a collection"
   ]
  },
  {
   "cell_type": "markdown",
   "id": "5a33a86e",
   "metadata": {},
   "source": [
    "Here, we iterate over the artifacts within a collection to train a machine learning model at scale."
   ]
  },
  {
   "cell_type": "code",
   "execution_count": null,
   "id": "c03d51f8",
   "metadata": {},
   "outputs": [],
   "source": [
    "import lamindb as ln\n",
    "import anndata as ad\n",
    "import numpy as np"
   ]
  },
  {
   "cell_type": "code",
   "execution_count": null,
   "id": "626c2cef",
   "metadata": {},
   "outputs": [],
   "source": [
    "ln.track()"
   ]
  },
  {
   "cell_type": "markdown",
   "id": "87a94c1a",
   "metadata": {},
   "source": [
    "Query our collection:"
   ]
  },
  {
   "cell_type": "code",
   "execution_count": null,
   "id": "f232d65e",
   "metadata": {},
   "outputs": [],
   "source": [
    "collection = ln.Collection.filter(\n",
    "    name=\"My versioned scRNA-seq collection\", version=\"2\"\n",
    ").one()\n",
    "collection.describe()"
   ]
  },
  {
   "cell_type": "markdown",
   "id": "77d7dc38",
   "metadata": {},
   "source": [
    "## Create a map-style dataset"
   ]
  },
  {
   "cell_type": "markdown",
   "id": "5e348b32",
   "metadata": {},
   "source": [
    "Let us create a [map-style dataset](https://pytorch.org/docs/stable/data) using using {meth}`~lamindb.Collection.mapped`: a {class}`~lamindb.dev.MappedCollection`. This is what, e.g., the with the PyTorch `DataLoader` expects as an input.\n",
    "\n",
    "Under-the-hood, it performs a virtual inner join of the features of the underlying `AnnData` objects and thus allows to work with very large collections."
   ]
  },
  {
   "cell_type": "markdown",
   "id": "7c7f3d06",
   "metadata": {},
   "source": [
    "You can either perform a virutal inner join:"
   ]
  },
  {
   "cell_type": "code",
   "execution_count": null,
   "id": "42c0fcf0",
   "metadata": {},
   "outputs": [],
   "source": [
    "with collection.mapped(label_keys=[\"cell_type\"], join=\"inner\") as dataset:\n",
    "    print(dataset.var_joint)"
   ]
  },
  {
   "cell_type": "markdown",
   "id": "982b8f94",
   "metadata": {},
   "source": [
    "Or a virtual outer join:"
   ]
  },
  {
   "cell_type": "code",
   "execution_count": null,
   "id": "15f6caaa",
   "metadata": {},
   "outputs": [],
   "source": [
    "dataset = collection.mapped(label_keys=[\"cell_type\"], join=\"outer\")"
   ]
  },
  {
   "cell_type": "code",
   "execution_count": null,
   "id": "a736b129",
   "metadata": {},
   "outputs": [],
   "source": [
    "len(dataset.var_joint)"
   ]
  },
  {
   "cell_type": "markdown",
   "id": "4e46ee80",
   "metadata": {},
   "source": [
    "This is compatible with pytorch `DataLoader` because it implements `__getitem__` over a list of backed `AnnData` objects. This is how you access the 5th cell in the collection:"
   ]
  },
  {
   "cell_type": "code",
   "execution_count": null,
   "id": "2bacad8a",
   "metadata": {
    "tags": [
     "hide-output"
    ]
   },
   "outputs": [],
   "source": [
    "dataset[5]"
   ]
  },
  {
   "cell_type": "markdown",
   "id": "3954ece9",
   "metadata": {},
   "source": [
    "The `labels` are encoded into integers:"
   ]
  },
  {
   "cell_type": "code",
   "execution_count": null,
   "id": "72a0a9ae",
   "metadata": {
    "tags": [
     "hide-output"
    ]
   },
   "outputs": [],
   "source": [
    "dataset.encoders"
   ]
  },
  {
   "cell_type": "markdown",
   "id": "1e4033ed",
   "metadata": {},
   "source": [
    "## Create a pytorch DataLoader"
   ]
  },
  {
   "cell_type": "markdown",
   "id": "b5321512",
   "metadata": {},
   "source": [
    "Let us use a weighted sampler:"
   ]
  },
  {
   "cell_type": "code",
   "execution_count": null,
   "id": "cef13ba8",
   "metadata": {},
   "outputs": [],
   "source": [
    "from torch.utils.data import DataLoader, WeightedRandomSampler\n",
    "\n",
    "# label_key for weight doesn't have to be in labels on init\n",
    "sampler = WeightedRandomSampler(\n",
    "    weights=dataset.get_label_weights(\"cell_type\"), num_samples=len(dataset)\n",
    ")\n",
    "dataloader = DataLoader(dataset, batch_size=128, sampler=sampler)"
   ]
  },
  {
   "cell_type": "markdown",
   "id": "181fe57e",
   "metadata": {},
   "source": [
    "We can now iterate through the data loader:"
   ]
  },
  {
   "cell_type": "code",
   "execution_count": null,
   "id": "26015540",
   "metadata": {},
   "outputs": [],
   "source": [
    "for batch in dataloader:\n",
    "    pass"
   ]
  },
  {
   "cell_type": "markdown",
   "id": "11ea391d",
   "metadata": {},
   "source": [
    "Close the connections in {class}`~lamindb.dev.MappedCollection`:"
   ]
  },
  {
   "cell_type": "code",
   "execution_count": null,
   "id": "c3b507f6",
   "metadata": {},
   "outputs": [],
   "source": [
    "dataset.close()"
   ]
  },
  {
   "cell_type": "markdown",
   "id": "c955a7b7",
   "metadata": {},
   "source": [
    ":::{dropdown} In practice, use a context manager\n",
    "\n",
    "```\n",
    "with collection.mapped(label_keys=[\"cell_type\"]) as dataset:\n",
    "    sampler = WeightedRandomSampler(\n",
    "        weights=dataset.get_label_weights(\"cell_type\"), num_samples=len(dataset)\n",
    "    )\n",
    "    dataloader = DataLoader(dataset, batch_size=128, sampler=sampler)\n",
    "    for batch in dataloader:\n",
    "        pass\n",
    "```\n",
    ":::"
   ]
  }
 ],
 "metadata": {
  "kernelspec": {
   "display_name": "Python 3 (ipykernel)",
   "language": "python",
   "name": "python3"
  },
  "language_info": {
   "codemirror_mode": {
    "name": "ipython",
    "version": 3
   },
   "file_extension": ".py",
   "mimetype": "text/x-python",
   "name": "python",
   "nbconvert_exporter": "python",
   "pygments_lexer": "ipython3",
   "version": "3.10.13"
  },
  "nbproject": {
   "id": "Qr1kIHvK506r",
   "parent": null,
   "pypackage": null,
   "time_init": "2023-10-01T13:49:05.628463+00:00",
   "user_handle": null,
   "user_id": null,
   "user_name": null,
   "version": "1"
  }
 },
 "nbformat": 4,
 "nbformat_minor": 5
}
