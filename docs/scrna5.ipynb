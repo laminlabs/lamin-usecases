{
 "cells": [
  {
   "cell_type": "markdown",
   "metadata": {},
   "source": [
    "# Convert a number of files to a single array store ![scrna6/6](https://img.shields.io/badge/scrna6/6-lightgrey)"
   ]
  },
  {
   "cell_type": "markdown",
   "metadata": {},
   "source": [
    "In the previous notebooks, we've seen how to incrementally create a dataset and train models on it.\n",
    "\n",
    "Once we have a dataset of validated files, we might want to create them into one big array store.\n",
    "\n",
    "This is what CellxGene team did for the data in the CellxGene portal: a high number of h5ad files were concatenated to give rise to a single array store.\n",
    "\n",
    "This requires duplicating the data that's present in a collection of `.h5ad` files, but provides the advantage that one can now query slices for arbitrary metadata, rather than just the individual files.\n",
    "\n",
    "See how this looks for `cellxgene-census` here: {doc}`docs:cellxgene-census`."
   ]
  }
 ],
 "metadata": {
  "language_info": {
   "name": "python"
  }
 },
 "nbformat": 4,
 "nbformat_minor": 2
}
