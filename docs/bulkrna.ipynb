{
 "cells": [
  {
   "cell_type": "markdown",
   "metadata": {},
   "source": [
    "[![Jupyter Notebook](https://img.shields.io/badge/Source%20on%20GitHub-orange)](https://github.com/laminlabs/lamin-usecases/blob/main/docs/bulkrna.ipynb)"
   ]
  },
  {
   "cell_type": "markdown",
   "metadata": {},
   "source": [
    "# Bulk RNA-seq"
   ]
  },
  {
   "cell_type": "markdown",
   "metadata": {},
   "source": [
    "```{note}\n",
    "\n",
    "More comprehensive examples are provided for these data types:\n",
    "\n",
    "- {doc}`scrna`\n",
    "- {doc}`facs`\n",
    "\n",
    "```"
   ]
  },
  {
   "cell_type": "code",
   "execution_count": null,
   "metadata": {
    "tags": [
     "hide-output"
    ]
   },
   "outputs": [],
   "source": [
    "# !pip install 'lamindb[jupyter,bionty]'\n",
    "!lamin init --storage test-bulkrna --modules bionty"
   ]
  },
  {
   "cell_type": "code",
   "execution_count": null,
   "metadata": {
    "tags": [
     "hide-output"
    ]
   },
   "outputs": [],
   "source": [
    "import lamindb as ln\n",
    "import bionty as bt\n",
    "import pandas as pd\n",
    "import anndata as ad\n",
    "from pathlib import Path"
   ]
  },
  {
   "cell_type": "markdown",
   "metadata": {},
   "source": [
    "## Ingest data"
   ]
  },
  {
   "cell_type": "markdown",
   "metadata": {},
   "source": [
    "### Access ![](https://img.shields.io/badge/Access-10b981)"
   ]
  },
  {
   "cell_type": "markdown",
   "metadata": {},
   "source": [
    "We start by simulating a [nf-core RNA-seq](https://nf-co.re/rnaseq) run which yields us a count matrix artifact.\n",
    "\n",
    "(See {doc}`docs:nextflow` for running this with Nextflow.)"
   ]
  },
  {
   "cell_type": "code",
   "execution_count": null,
   "metadata": {
    "tags": [
     "hide-output"
    ]
   },
   "outputs": [],
   "source": [
    "# pretend we're running a bulk RNA-seq pipeline\n",
    "ln.track(\n",
    "    transform=ln.Transform(name=\"nf-core RNA-seq\", reference=\"https://nf-co.re/rnaseq\")\n",
    ")\n",
    "# create a directory for its output\n",
    "Path(\"./test-bulkrna/output_dir\").mkdir(exist_ok=True)\n",
    "# get the count matrix\n",
    "path = ln.core.datasets.file_tsv_rnaseq_nfcore_salmon_merged_gene_counts(\n",
    "    populate_registries=True\n",
    ")\n",
    "# move the count matrix into the output directory\n",
    "path = path.rename(f\"./test-bulkrna/output_dir/{path.name}\")\n",
    "# register the count matrix\n",
    "ln.Artifact(path, description=\"Merged Bulk RNA counts\").save()"
   ]
  },
  {
   "cell_type": "markdown",
   "metadata": {},
   "source": [
    "### Transform ![](https://img.shields.io/badge/Transform-10b981)"
   ]
  },
  {
   "cell_type": "code",
   "execution_count": null,
   "metadata": {
    "tags": [
     "hide-output"
    ]
   },
   "outputs": [],
   "source": [
    "ln.track(\"s5V0dNMVwL9i0000\")"
   ]
  },
  {
   "cell_type": "markdown",
   "metadata": {},
   "source": [
    "Let's query the artifact:"
   ]
  },
  {
   "cell_type": "code",
   "execution_count": null,
   "metadata": {
    "tags": [
     "hide-output"
    ]
   },
   "outputs": [],
   "source": [
    "artifact = ln.Artifact.get(description=\"Merged Bulk RNA counts\")\n",
    "df = artifact.load()"
   ]
  },
  {
   "cell_type": "markdown",
   "metadata": {},
   "source": [
    "If we look at it, we realize it deviates far from the _tidy data_ standard [Wickham14](https://www.jstatsoft.org/article/view/v059i10), conventions of statistics & machine learning [Hastie09](https://link.springer.com/book/10.1007/978-0-387-84858-7), [Murphy12](https://probml.github.io/pml-book/book0.html) and the major Python & R data packages.\n",
    "\n",
    "Variables are not in columns and observations are not in rows:"
   ]
  },
  {
   "cell_type": "code",
   "execution_count": null,
   "metadata": {
    "tags": [
     "hide-output"
    ]
   },
   "outputs": [],
   "source": [
    "df"
   ]
  },
  {
   "cell_type": "markdown",
   "metadata": {},
   "source": [
    "Let's change that and move observations into rows:"
   ]
  },
  {
   "cell_type": "code",
   "execution_count": null,
   "metadata": {
    "tags": [
     "hide-output"
    ]
   },
   "outputs": [],
   "source": [
    "df = df.T\n",
    "df"
   ]
  },
  {
   "cell_type": "markdown",
   "metadata": {},
   "source": [
    "Now, it's clear that the first two rows are in fact no observations, but descriptions of the variables (or features) themselves.\n",
    "\n",
    "Let's create an AnnData object to model this. First, create a dataframe for the variables:"
   ]
  },
  {
   "cell_type": "code",
   "execution_count": null,
   "metadata": {
    "tags": [
     "hide-output"
    ]
   },
   "outputs": [],
   "source": [
    "var = pd.DataFrame({\"gene_name\": df.loc[\"gene_name\"].values}, index=df.loc[\"gene_id\"])"
   ]
  },
  {
   "cell_type": "code",
   "execution_count": null,
   "metadata": {
    "tags": [
     "hide-output"
    ]
   },
   "outputs": [],
   "source": [
    "var.head()"
   ]
  },
  {
   "cell_type": "markdown",
   "metadata": {},
   "source": [
    "Now, let's create an AnnData object:"
   ]
  },
  {
   "cell_type": "code",
   "execution_count": null,
   "metadata": {
    "tags": [
     "hide-output"
    ]
   },
   "outputs": [],
   "source": [
    "# we're also fixing the datatype here, which was string in the tsv\n",
    "adata = ad.AnnData(df.iloc[2:].astype(\"float32\"), var=var)\n",
    "adata"
   ]
  },
  {
   "cell_type": "markdown",
   "metadata": {},
   "source": [
    "The AnnData object is in tidy form and complies with conventions of statistics and machine learning:"
   ]
  },
  {
   "cell_type": "code",
   "execution_count": null,
   "metadata": {
    "tags": [
     "hide-output"
    ]
   },
   "outputs": [],
   "source": [
    "adata.to_df()"
   ]
  },
  {
   "cell_type": "markdown",
   "metadata": {},
   "source": [
    "### Curate ![](https://img.shields.io/badge/Curate-10b981) "
   ]
  },
  {
   "cell_type": "markdown",
   "metadata": {},
   "source": [
    "We define a simple Schema for Bulk RNA datasets that only expects genes with stable IDs to be stored in the dataset.\n",
    "Later, we can add additional metadata to the curated dataset such as the assay or the organism."
   ]
  },
  {
   "cell_type": "code",
   "execution_count": null,
   "metadata": {},
   "outputs": [],
   "source": [
    "bulk_schema = ln.Schema(itype=bt.Gene.stable_id, otype=\"AnnData\").save()\n",
    "\n",
    "# set the organism to map to saccharomyces cerevisiae genes\n",
    "bt.settings.organism = \"saccharomyces cerevisiae\"\n",
    "\n",
    "curator = ln.curators.AnnDataCurator(adata, bulk_schema)\n",
    "curator.validate()"
   ]
  },
  {
   "cell_type": "markdown",
   "metadata": {},
   "source": [
    "Let's create and save the artifact:"
   ]
  },
  {
   "cell_type": "code",
   "execution_count": null,
   "metadata": {
    "tags": [
     "hide-output"
    ]
   },
   "outputs": [],
   "source": [
    "curated_af = curator.save_artifact(description=\"Curated bulk RNA counts\")"
   ]
  },
  {
   "cell_type": "markdown",
   "metadata": {},
   "source": [
    "Link additional metadata records:"
   ]
  },
  {
   "cell_type": "code",
   "execution_count": null,
   "metadata": {
    "tags": [
     "hide-output"
    ]
   },
   "outputs": [],
   "source": [
    "efs = bt.ExperimentalFactor.lookup()\n",
    "organism = bt.Organism.lookup()\n",
    "features = ln.Feature.lookup()"
   ]
  },
  {
   "cell_type": "code",
   "execution_count": null,
   "metadata": {},
   "outputs": [],
   "source": [
    "curated_af.labels.add(efs.rna_seq, features.assay)\n",
    "curated_af.labels.add(organism.saccharomyces_cerevisiae, features.organism)"
   ]
  },
  {
   "cell_type": "code",
   "execution_count": null,
   "metadata": {
    "tags": [
     "hide-output"
    ]
   },
   "outputs": [],
   "source": [
    "curated_af.describe()"
   ]
  },
  {
   "cell_type": "markdown",
   "metadata": {},
   "source": [
    "## Query data"
   ]
  },
  {
   "cell_type": "markdown",
   "metadata": {},
   "source": [
    "We have two files in the artifact registry:"
   ]
  },
  {
   "cell_type": "code",
   "execution_count": null,
   "metadata": {
    "tags": [
     "hide-output"
    ]
   },
   "outputs": [],
   "source": [
    "ln.Artifact.to_dataframe()"
   ]
  },
  {
   "cell_type": "code",
   "execution_count": null,
   "metadata": {},
   "outputs": [],
   "source": [
    "curated_af.view_lineage()"
   ]
  },
  {
   "cell_type": "code",
   "execution_count": null,
   "metadata": {
    "tags": [
     "hide-output"
    ]
   },
   "outputs": [],
   "source": [
    "# clean up test instance\n",
    "!rm -r test-bulkrna\n",
    "!lamin delete --force test-bulkrna"
   ]
  }
 ],
 "metadata": {
  "kernelspec": {
   "display_name": "lamindb",
   "language": "python",
   "name": "python3"
  },
  "language_info": {
   "codemirror_mode": {
    "name": "ipython",
    "version": 3
   },
   "file_extension": ".py",
   "mimetype": "text/x-python",
   "name": "python",
   "nbconvert_exporter": "python",
   "pygments_lexer": "ipython3",
   "version": "3.12.8"
  },
  "nbproject": {
   "id": "s5V0dNMVwL9i",
   "parent": null,
   "pypackage": null,
   "time_init": "2023-08-06T14:58:58.940257+00:00",
   "user_handle": "testuser1",
   "user_id": "DzTjkKse",
   "user_name": "Test User1",
   "version": "0"
  }
 },
 "nbformat": 4,
 "nbformat_minor": 4
}
