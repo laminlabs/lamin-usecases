{
 "cells": [
  {
   "attachments": {},
   "cell_type": "markdown",
   "metadata": {},
   "source": [
    "# Manage interactive analyses"
   ]
  },
  {
   "attachments": {},
   "cell_type": "markdown",
   "metadata": {},
   "source": [
    "Capturing and documenting the origin and flow of biological data throughout its lifecycle is important as it enables the traceability and reliability of biological data & insights, verify experimental outcomes, meet stringent regulatory standards, and foster the reproducibility of scientific discoveries.\n",
    "\n",
    "While tracking data lineage is easier when it's governed by deterministic pipelines, it becomes hard when interactive human-driven analyses become relevant.\n",
    "\n",
    "This use case walks through how LaminDB helps with the latter by enabling to `ln.track()` data flow through notebooks & teams of analysts."
   ]
  },
  {
   "attachments": {},
   "cell_type": "markdown",
   "metadata": {},
   "source": [
    "## Setup"
   ]
  },
  {
   "attachments": {},
   "cell_type": "markdown",
   "metadata": {},
   "source": [
    "```{warning}\n",
    "\n",
    "Please ensure that you have created or loaded a LaminDB instance before running the remaining part of this notebook!\n",
    "```"
   ]
  },
  {
   "cell_type": "code",
   "execution_count": 1,
   "metadata": {
    "tags": [
     "hide-cell"
    ]
   },
   "outputs": [
    {
     "name": "stdout",
     "output_type": "stream",
     "text": [
      "✅ Closed instance: testuser1/docsbuild\n",
      "💬 Creating schemas: core==0.39.0 bionty==0.27.1 \n",
      "✅ Saved: User(id=DzTjkKse, handle=testuser1, email=testuser1@lamin.ai, name=Test User1, updated_at=2023-07-20 12:22:25)\n",
      "✅ Saved: Storage(id=sCZDjqa4, root=/Users/falexwolf/repos/lamin-usecases/docs/usecases/analysis-usecase, type=local, updated_at=2023-07-20 12:22:25, created_by_id=DzTjkKse)\n",
      "✅ Loaded instance: testuser1/analysis-usecase\n",
      "💡 Did not register local instance on hub (if you want to, call `lamin register`)\n",
      "\u001b[0m"
     ]
    }
   ],
   "source": [
    "# A lamindb instance containing Bionty schema (skip if you already loaded your instance)\n",
    "!lamin init --storage ./analysis-usecase --schema bionty"
   ]
  },
  {
   "attachments": {},
   "cell_type": "markdown",
   "metadata": {},
   "source": [
    "Import `lamindb` and `lnschema_bt` which enables us to connect [Bionty](https://github.com/laminlabs/bionty) with [LaminDB](https://github.com/laminlabs/lamindb). This enables us to map AnnData metadata annotations against ontologies and create SQL records within LaminDB to eventually make them queryable."
   ]
  },
  {
   "cell_type": "code",
   "execution_count": 2,
   "metadata": {},
   "outputs": [
    {
     "name": "stdout",
     "output_type": "stream",
     "text": [
      "✅ Loaded instance: testuser1/analysis-usecase (lamindb 0.48a1)\n"
     ]
    }
   ],
   "source": [
    "import lamindb as ln\n",
    "import lnschema_bionty as lb\n",
    "\n",
    "ln.settings.verbosity = 3  # show hints"
   ]
  },
  {
   "attachments": {},
   "cell_type": "markdown",
   "metadata": {},
   "source": [
    "## Track cell types, tissues and diseases"
   ]
  },
  {
   "attachments": {},
   "cell_type": "markdown",
   "metadata": {},
   "source": [
    "Let's enable tracking of the current notebook as the transform of this file using {func}`docs:lamindb.track`:"
   ]
  },
  {
   "cell_type": "code",
   "execution_count": 3,
   "metadata": {},
   "outputs": [
    {
     "name": "stdout",
     "output_type": "stream",
     "text": [
      "💬 Notebook imports: lamindb==0.48a1 lnschema_bionty==0.26.1\n",
      "✅ Saved: Transform(id=eNef4Arw8nNMQz, name=Manage interactive analyses, short_name=analyses, stem_id=eNef4Arw8nNM, version=0, type=notebook, updated_at=2023-07-20 12:22:34, created_by_id=DzTjkKse)\n",
      "✅ Saved: Run(id=LK9kPTABS2XK7QTP9yxI, run_at=2023-07-20 12:22:34, transform_id=eNef4Arw8nNMQz, created_by_id=DzTjkKse)\n"
     ]
    }
   ],
   "source": [
    "ln.track()"
   ]
  },
  {
   "attachments": {},
   "cell_type": "markdown",
   "metadata": {},
   "source": [
    "We fetch an example dataset from LaminDB that has a few cell type, tissue and disease annotations:"
   ]
  },
  {
   "cell_type": "code",
   "execution_count": 4,
   "metadata": {},
   "outputs": [
    {
     "data": {
      "text/plain": [
       "AnnData object with n_obs × n_vars = 40 × 100\n",
       "    obs: 'cell_type', 'cell_type_id', 'tissue', 'disease'"
      ]
     },
     "execution_count": 4,
     "metadata": {},
     "output_type": "execute_result"
    }
   ],
   "source": [
    "adata = ln.dev.datasets.anndata_with_obs()\n",
    "adata"
   ]
  },
  {
   "cell_type": "code",
   "execution_count": 5,
   "metadata": {},
   "outputs": [
    {
     "data": {
      "text/plain": [
       "tissue  cell_type              \n",
       "brain   my new cell type           10\n",
       "heart   hepatocyte                 10\n",
       "kidney  T cell                     10\n",
       "liver   hematopoietic stem cell    10\n",
       "Name: count, dtype: int64"
      ]
     },
     "execution_count": 5,
     "metadata": {},
     "output_type": "execute_result"
    }
   ],
   "source": [
    "adata.obs[[\"tissue\", \"cell_type\"]].value_counts()"
   ]
  },
  {
   "attachments": {},
   "cell_type": "markdown",
   "metadata": {},
   "source": [
    "### Register biological metadata and link to the dataset"
   ]
  },
  {
   "attachments": {},
   "cell_type": "markdown",
   "metadata": {},
   "source": [
    "As a first step, we register the Anndata object with LaminDB using {func}`docs:lamindb.File` and {func}`docs:lamindb.save`:"
   ]
  },
  {
   "cell_type": "code",
   "execution_count": 6,
   "metadata": {},
   "outputs": [
    {
     "name": "stdout",
     "output_type": "stream",
     "text": [
      "💡 This is AnnDataLike, consider using File.from_anndata() to link var and obs.columns as features!\n",
      "💡 File will be copied to storage upon `save()` using storage key = mini_anndata_with_obs.h5ad\n"
     ]
    }
   ],
   "source": [
    "file = ln.File(adata, key=\"mini_anndata_with_obs.h5ad\")"
   ]
  },
  {
   "cell_type": "code",
   "execution_count": 7,
   "metadata": {},
   "outputs": [
    {
     "name": "stdout",
     "output_type": "stream",
     "text": [
      "💡 storing file NRV4p4OeEcqnMA0T3GC1 with key mini_anndata_with_obs.h5ad\n"
     ]
    }
   ],
   "source": [
    "file.save()"
   ]
  },
  {
   "attachments": {},
   "cell_type": "markdown",
   "metadata": {},
   "source": [
    "Using {func}`docs:lamindb.parse` we can associate the cell types and tissues with the Ontology metadata:"
   ]
  },
  {
   "cell_type": "code",
   "execution_count": 8,
   "metadata": {},
   "outputs": [
    {
     "name": "stdout",
     "output_type": "stream",
     "text": [
      "💬 Created \u001b[1;95m3 CellType records from Bionty\u001b[0m that matched \u001b[1;95mname\u001b[0m field (bionty_source_id=DWJA)\n",
      "🔶 Created \u001b[1;93m1 CellType record\u001b[0m setting field \u001b[1;93mname\u001b[0m to: my new cell type\n"
     ]
    },
    {
     "data": {
      "application/vnd.jupyter.widget-view+json": {
       "model_id": "0536c6a46b3a42839c597bdfe0927754",
       "version_major": 2,
       "version_minor": 0
      },
      "text/plain": [
       "Output()"
      ]
     },
     "metadata": {},
     "output_type": "display_data"
    },
    {
     "data": {
      "text/html": [
       "<pre style=\"white-space:pre;overflow-x:auto;line-height:normal;font-family:Menlo,'DejaVu Sans Mono',consolas,'Courier New',monospace\"></pre>\n"
      ],
      "text/plain": []
     },
     "metadata": {},
     "output_type": "display_data"
    },
    {
     "data": {
      "text/html": [
       "<pre style=\"white-space:pre;overflow-x:auto;line-height:normal;font-family:Menlo,'DejaVu Sans Mono',consolas,'Courier New',monospace\">\n",
       "</pre>\n"
      ],
      "text/plain": [
       "\n"
      ]
     },
     "metadata": {},
     "output_type": "display_data"
    },
    {
     "name": "stdout",
     "output_type": "stream",
     "text": [
      "💬 Created \u001b[1;95m4 Tissue records from Bionty\u001b[0m that matched \u001b[1;95mname\u001b[0m field (bionty_source_id=gn26)\n"
     ]
    }
   ],
   "source": [
    "cell_types = lb.CellType.from_values(adata.obs.cell_type, lb.CellType.name)\n",
    "tissues = lb.Tissue.from_values(adata.obs.tissue, lb.Tissue.name)"
   ]
  },
  {
   "attachments": {},
   "cell_type": "markdown",
   "metadata": {},
   "source": [
    "Register the cell types and tissues with LaminDB:"
   ]
  },
  {
   "cell_type": "code",
   "execution_count": 9,
   "metadata": {
    "tags": [
     "hide-output"
    ]
   },
   "outputs": [
    {
     "name": "stdout",
     "output_type": "stream",
     "text": [
      "🔶 Now recursing through parents: this only happens once, but is much slower than bulk saving\n",
      "💬 Also saving parents of CellType(id=J7hHC8SK, name=hepatocyte, ontology_id=CL:0000182, description=The Main Structural Component Of The Liver. They Are Specialized Epithelial Cells That Are Organized Into Interconnected Plates Called Lobules. Majority Of Cell Population Of Liver, Polygonal In Shape, Arranged In Plates Or Trabeculae Between Sinusoids; May Have Single Nucleus Or Binucleated., updated_at=2023-07-20 12:23:47, bionty_source_id=DWJA, created_by_id=DzTjkKse)\n",
      "💬 Created \u001b[1;95m3 CellType records from Bionty\u001b[0m that matched \u001b[1;95montology_id\u001b[0m field (bionty_source_id=DWJA)\n",
      "🔶 Now recursing through parents: this only happens once, but is much slower than bulk saving\n",
      "💬 Also saving parents of CellType(id=P6E7yrc7, name=epithelial cell, ontology_id=CL:0000066, synonyms=epitheliocyte, description=A Cell That Is Usually Found In A Two-Dimensional Sheet With A Free Surface. The Cell Has A Cytoskeleton That Allows For Tight Cell To Cell Contact And For Cell Polarity Where Apical Part Is Directed Towards The Lumen And The Basal Part To The Basal Lamina., updated_at=2023-07-20 12:23:47, bionty_source_id=DWJA, created_by_id=DzTjkKse)\n",
      "💬 Created \u001b[1;95m1 CellType record from Bionty\u001b[0m that matched \u001b[1;95montology_id\u001b[0m field (bionty_source_id=DWJA)\n",
      "🔶 Now recursing through parents: this only happens once, but is much slower than bulk saving\n",
      "💬 Also saving parents of CellType(id=H0taCt24, name=animal cell, ontology_id=CL:0000548, synonyms=metazoan cell, description=A Native Cell That Is Part Of Some Metazoa., updated_at=2023-07-20 12:23:48, bionty_source_id=DWJA, created_by_id=DzTjkKse)\n",
      "💬 Created \u001b[1;95m1 CellType record from Bionty\u001b[0m that matched \u001b[1;95montology_id\u001b[0m field (bionty_source_id=DWJA)\n",
      "💬 Also saving parents of CellType(id=QMAH6IlS, name=somatic cell, ontology_id=CL:0002371, description=A Cell Of An Organism That Does Not Pass On Its Genetic Material To The Organism'S Offspring (I.E. A Non-Germ Line Cell)., updated_at=2023-07-20 12:23:47, bionty_source_id=DWJA, created_by_id=DzTjkKse)\n",
      "💬 Loaded \u001b[1;92m1 CellType record\u001b[0m that matched field \u001b[1;92montology_id\u001b[0m\n",
      "💬 Created \u001b[1;95m1 CellType record from Bionty\u001b[0m that matched \u001b[1;95montology_id\u001b[0m field (bionty_source_id=DWJA)\n",
      "🔶 Now recursing through parents: this only happens once, but is much slower than bulk saving\n",
      "💬 Also saving parents of CellType(id=VT73gpK2, name=native cell, ontology_id=CL:0000003, description=A Cell That Is Found In A Natural Setting, Which Includes Multicellular Organism Cells 'In Vivo' (I.E. Part Of An Organism), And Unicellular Organisms 'In Environment' (I.E. Part Of A Natural Environment)., updated_at=2023-07-20 12:23:49, bionty_source_id=DWJA, created_by_id=DzTjkKse)\n",
      "💬 Created \u001b[1;95m1 CellType record from Bionty\u001b[0m that matched \u001b[1;95montology_id\u001b[0m field (bionty_source_id=DWJA)\n",
      "💬 Also saving parents of CellType(id=AOy0Et6k, name=endopolyploid cell, ontology_id=CL:0000417, updated_at=2023-07-20 12:23:47, bionty_source_id=DWJA, created_by_id=DzTjkKse)\n",
      "💬 Created \u001b[1;95m1 CellType record from Bionty\u001b[0m that matched \u001b[1;95montology_id\u001b[0m field (bionty_source_id=DWJA)\n",
      "🔶 Now recursing through parents: this only happens once, but is much slower than bulk saving\n",
      "💬 Also saving parents of CellType(id=eqVIXZEb, name=polyploid cell, ontology_id=CL:0000412, description=A Cell Whose Nucleus, Or Nuclei, Each Contain More Than Two Haploid Genomes., updated_at=2023-07-20 12:23:50, bionty_source_id=DWJA, created_by_id=DzTjkKse)\n",
      "💬 Loaded \u001b[1;92m1 CellType record\u001b[0m that matched field \u001b[1;92montology_id\u001b[0m\n",
      "💬 Also saving parents of CellType(id=BxNjby0x, name=T cell, ontology_id=CL:0000084, synonyms=T-cell|T lymphocyte|T-lymphocyte, description=A Type Of Lymphocyte Whose Defining Characteristic Is The Expression Of A T Cell Receptor Complex., updated_at=2023-07-20 12:23:47, bionty_source_id=DWJA, created_by_id=DzTjkKse)\n",
      "💬 Created \u001b[1;95m1 CellType record from Bionty\u001b[0m that matched \u001b[1;95montology_id\u001b[0m field (bionty_source_id=DWJA)\n",
      "🔶 Now recursing through parents: this only happens once, but is much slower than bulk saving\n",
      "💬 Also saving parents of CellType(id=g8slxY8X, name=lymphocyte, ontology_id=CL:0000542, description=A Lymphocyte Is A Leukocyte Commonly Found In The Blood And Lymph That Has The Characteristics Of A Large Nucleus, A Neutral Staining Cytoplasm, And Prominent Heterochromatin., updated_at=2023-07-20 12:23:51, bionty_source_id=DWJA, created_by_id=DzTjkKse)\n",
      "💬 Created \u001b[1;95m1 CellType record from Bionty\u001b[0m that matched \u001b[1;95montology_id\u001b[0m field (bionty_source_id=DWJA)\n",
      "🔶 Now recursing through parents: this only happens once, but is much slower than bulk saving\n",
      "💬 Also saving parents of CellType(id=MkrH0gsX, name=leukocyte, ontology_id=CL:0000738, synonyms=white blood cell|leucocyte, description=An Achromatic Cell Of The Myeloid Or Lymphoid Lineages Capable Of Ameboid Movement, Found In Blood Or Other Tissue., updated_at=2023-07-20 12:23:52, bionty_source_id=DWJA, created_by_id=DzTjkKse)\n",
      "💬 Created \u001b[1;95m1 CellType record from Bionty\u001b[0m that matched \u001b[1;95montology_id\u001b[0m field (bionty_source_id=DWJA)\n",
      "🔶 Now recursing through parents: this only happens once, but is much slower than bulk saving\n",
      "💬 Also saving parents of CellType(id=Q0aQr5JB, name=hematopoietic cell, ontology_id=CL:0000988, synonyms=hemopoietic cell|haemopoietic cell|haematopoietic cell, description=A Cell Of A Hematopoietic Lineage., updated_at=2023-07-20 12:23:52, bionty_source_id=DWJA, created_by_id=DzTjkKse)\n",
      "💬 Loaded \u001b[1;92m2 CellType records\u001b[0m that matched field \u001b[1;92montology_id\u001b[0m\n",
      "💬 Also saving parents of CellType(id=m91LZBDZ, name=hematopoietic stem cell, ontology_id=CL:0000037, synonyms=hemopoietic stem cell|HSC|blood forming stem cell, description=A Stem Cell From Which All Cells Of The Lymphoid And Myeloid Lineages Develop, Including Blood Cells And Cells Of The Immune System. Hematopoietic Stem Cells Lack Cell Markers Of Effector Cells (Lin-Negative). Lin-Negative Is Defined By Lacking One Or More Of The Following Cell Surface Markers: Cd2, Cd3 Epsilon, Cd4, Cd5 ,Cd8 Alpha Chain, Cd11B, Cd14, Cd19, Cd20, Cd56, Ly6G, Ter119., updated_at=2023-07-20 12:23:47, bionty_source_id=DWJA, created_by_id=DzTjkKse)\n",
      "💬 Loaded \u001b[1;92m1 CellType record\u001b[0m that matched field \u001b[1;92montology_id\u001b[0m\n",
      "💬 Created \u001b[1;95m1 CellType record from Bionty\u001b[0m that matched \u001b[1;95montology_id\u001b[0m field (bionty_source_id=DWJA)\n",
      "🔶 Now recursing through parents: this only happens once, but is much slower than bulk saving\n",
      "💬 Also saving parents of CellType(id=0d3ym06W, name=hematopoietic precursor cell, ontology_id=CL:0008001, description=Any Hematopoietic Cell That Is A Precursor Of Some Other Hematopoietic Cell Type., updated_at=2023-07-20 12:23:53, bionty_source_id=DWJA, created_by_id=DzTjkKse)\n",
      "💬 Loaded \u001b[1;92m1 CellType record\u001b[0m that matched field \u001b[1;92montology_id\u001b[0m\n",
      "🔶 Now recursing through parents: this only happens once, but is much slower than bulk saving\n",
      "💬 Also saving parents of Tissue(id=sm45H0wI, name=heart, ontology_id=UBERON:0000948, synonyms=chambered heart|vertebrate heart, description=A Myogenic Muscular Circulatory Organ Found In The Vertebrate Cardiovascular System Composed Of Chambers Of Cardiac Muscle. It Is The Primary Circulatory Organ., updated_at=2023-07-20 12:23:53, bionty_source_id=gn26, created_by_id=DzTjkKse)\n",
      "💬 Created \u001b[1;95m4 Tissue records from Bionty\u001b[0m that matched \u001b[1;95montology_id\u001b[0m field (bionty_source_id=gn26)\n",
      "🔶 Now recursing through parents: this only happens once, but is much slower than bulk saving\n",
      "💬 Also saving parents of Tissue(id=LB1DWmLh, name=structure with developmental contribution from neural crest, ontology_id=UBERON:0010314, description=An Anatomical Structure That Has Some Part That Develops From The Neural Crest., updated_at=2023-07-20 12:23:54, bionty_source_id=gn26, created_by_id=DzTjkKse)\n",
      "💬 Created \u001b[1;95m1 Tissue record from Bionty\u001b[0m that matched \u001b[1;95montology_id\u001b[0m field (bionty_source_id=gn26)\n",
      "🔶 Now recursing through parents: this only happens once, but is much slower than bulk saving\n",
      "💬 Also saving parents of Tissue(id=eEntTihh, name=anatomical structure, ontology_id=UBERON:0000061, synonyms=connected biological structure|biological structure, description=Material Anatomical Entity That Is A Single Connected Structure With Inherent 3D Shape Generated By Coordinated Expression Of The Organism'S Own Genome., updated_at=2023-07-20 12:23:54, bionty_source_id=gn26, created_by_id=DzTjkKse)\n",
      "💬 Created \u001b[1;95m1 Tissue record from Bionty\u001b[0m that matched \u001b[1;95montology_id\u001b[0m field (bionty_source_id=gn26)\n",
      "🔶 Now recursing through parents: this only happens once, but is much slower than bulk saving\n",
      "💬 Also saving parents of Tissue(id=OHTKq1WO, name=material anatomical entity, ontology_id=UBERON:0000465, description=Anatomical Entity That Has Mass., updated_at=2023-07-20 12:23:55, bionty_source_id=gn26, created_by_id=DzTjkKse)\n",
      "💬 Created \u001b[1;95m1 Tissue record from Bionty\u001b[0m that matched \u001b[1;95montology_id\u001b[0m field (bionty_source_id=gn26)\n",
      "💬 Also saving parents of Tissue(id=w6ZLPLvC, name=mesoderm-derived structure, ontology_id=UBERON:0004120, synonyms=mesodermal derivative, description=An Anatomical Structure That Develops (Entirely Or Partially) From The Mesoderm., updated_at=2023-07-20 12:23:54, bionty_source_id=gn26, created_by_id=DzTjkKse)\n",
      "💬 Loaded \u001b[1;92m1 Tissue record\u001b[0m that matched field \u001b[1;92montology_id\u001b[0m\n",
      "💬 Also saving parents of Tissue(id=J3XUWZki, name=primary circulatory organ, ontology_id=UBERON:0007100, description=A Hollow, Muscular Organ, Which, By Contracting Rhythmically, Keeps Up The Circulation Of The Blood Or Analogs[Go,Modified]., updated_at=2023-07-20 12:23:54, bionty_source_id=gn26, created_by_id=DzTjkKse)\n",
      "💬 Created \u001b[1;95m1 Tissue record from Bionty\u001b[0m that matched \u001b[1;95montology_id\u001b[0m field (bionty_source_id=gn26)\n",
      "🔶 Now recursing through parents: this only happens once, but is much slower than bulk saving\n",
      "💬 Also saving parents of Tissue(id=zOsbXujj, name=circulatory organ, ontology_id=UBERON:0015228, synonyms=heart or heart like organ|cardiac pump, description=A Hollow, Muscular Organ, Which, By Contracting Rhythmically, Contributes To The Circulation Of Lymph, Blood Or Analogs. Examples: A Chambered Vertebrate Heart; The Tubular Peristaltic Heart Of Ascidians; The Dorsal Vessel Of An Insect; The Lymoh Heart Of A Reptile., updated_at=2023-07-20 12:23:56, bionty_source_id=gn26, created_by_id=DzTjkKse)\n",
      "💬 Created \u001b[1;95m1 Tissue record from Bionty\u001b[0m that matched \u001b[1;95montology_id\u001b[0m field (bionty_source_id=gn26)\n",
      "🔶 Now recursing through parents: this only happens once, but is much slower than bulk saving\n",
      "💬 Also saving parents of Tissue(id=U4ZCyAVk, name=compound organ, ontology_id=UBERON:0003103, description=Anatomical Structure That Has As Its Parts Two Or More Multi-Tissue Structures Of At Least Two Different Types And Which Through Specific Morphogenetic Processes Forms A Single Distinct Structural Unit Demarcated By Bona Fide Boundaries From Other Distinct Anatomical Structures Of Different Types., updated_at=2023-07-20 12:23:57, bionty_source_id=gn26, created_by_id=DzTjkKse)\n",
      "💬 Created \u001b[1;95m1 Tissue record from Bionty\u001b[0m that matched \u001b[1;95montology_id\u001b[0m field (bionty_source_id=gn26)\n",
      "🔶 Now recursing through parents: this only happens once, but is much slower than bulk saving\n",
      "💬 Also saving parents of Tissue(id=di8YhQRe, name=organ, ontology_id=UBERON:0000062, description=Anatomical Structure That Performs A Specific Function Or Group Of Functions [Wp]., updated_at=2023-07-20 12:23:58, bionty_source_id=gn26, created_by_id=DzTjkKse)\n",
      "💬 Created \u001b[1;95m1 Tissue record from Bionty\u001b[0m that matched \u001b[1;95montology_id\u001b[0m field (bionty_source_id=gn26)\n",
      "🔶 Now recursing through parents: this only happens once, but is much slower than bulk saving\n",
      "💬 Also saving parents of Tissue(id=hZ6puzQW, name=multicellular anatomical structure, ontology_id=UBERON:0010000, synonyms=multicellular structure, description=An Anatomical Structure That Has More Than One Cell As A Part., updated_at=2023-07-20 12:23:58, bionty_source_id=gn26, created_by_id=DzTjkKse)\n",
      "💬 Loaded \u001b[1;92m1 Tissue record\u001b[0m that matched field \u001b[1;92montology_id\u001b[0m\n",
      "💬 Also saving parents of Tissue(id=zURRkybM, name=thoracic segment organ, ontology_id=UBERON:0005181, description=An Organ That Part Of The Thoracic Segment Region. This Region Can Be Further Subdividied Chest And Thoracic Cavity Regions., updated_at=2023-07-20 12:23:54, bionty_source_id=gn26, created_by_id=DzTjkKse)\n",
      "💬 Created \u001b[1;95m1 Tissue record from Bionty\u001b[0m that matched \u001b[1;95montology_id\u001b[0m field (bionty_source_id=gn26)\n",
      "🔶 Now recursing through parents: this only happens once, but is much slower than bulk saving\n",
      "💬 Also saving parents of Tissue(id=50iJ6bqb, name=trunk region element, ontology_id=UBERON:0005177, synonyms=trunk organ, description=An Organ Or Element That Part Of The Trunk Region. The Trunk Region Can Be Further Subdividied Into Thoracic (Including Chest And Thoracic Cavity) And Abdominal (Including Abdomen And Pelbis) Regions., updated_at=2023-07-20 12:23:59, bionty_source_id=gn26, created_by_id=DzTjkKse)\n",
      "💬 Loaded \u001b[1;92m1 Tissue record\u001b[0m that matched field \u001b[1;92montology_id\u001b[0m\n",
      "💬 Also saving parents of Tissue(id=7HcGzG0l, name=brain, ontology_id=UBERON:0000955, description=The Brain Is The Center Of The Nervous System In All Vertebrate, And Most Invertebrate, Animals. Some Primitive Animals Such As Jellyfish And Starfish Have A Decentralized Nervous System Without A Brain, While Sponges Lack Any Nervous System At All. In Vertebrates, The Brain Is Located In The Head, Protected By The Skull And Close To The Primary Sensory Apparatus Of Vision, Hearing, Balance, Taste, And Smell[Wp]., updated_at=2023-07-20 12:23:53, bionty_source_id=gn26, created_by_id=DzTjkKse)\n",
      "💬 Loaded \u001b[1;92m1 Tissue record\u001b[0m that matched field \u001b[1;92montology_id\u001b[0m\n",
      "💬 Created \u001b[1;95m1 Tissue record from Bionty\u001b[0m that matched \u001b[1;95montology_id\u001b[0m field (bionty_source_id=gn26)\n",
      "🔶 Now recursing through parents: this only happens once, but is much slower than bulk saving\n",
      "💬 Also saving parents of Tissue(id=jlJQD0PJ, name=ectoderm-derived structure, ontology_id=UBERON:0004121, synonyms=ectodermal deriviative, description=An Anatomical Structure That Develops (Entirely Or Partially) From The Ectoderm., updated_at=2023-07-20 12:24:00, bionty_source_id=gn26, created_by_id=DzTjkKse)\n",
      "💬 Loaded \u001b[1;92m1 Tissue record\u001b[0m that matched field \u001b[1;92montology_id\u001b[0m\n",
      "💬 Also saving parents of Tissue(id=j9lTWyWV, name=kidney, ontology_id=UBERON:0002113, description=A Paired Organ Of The Urinary Tract Which Has The Production Of Urine As Its Primary Function., updated_at=2023-07-20 12:23:53, bionty_source_id=gn26, created_by_id=DzTjkKse)\n",
      "💬 Created \u001b[1;95m3 Tissue records from Bionty\u001b[0m that matched \u001b[1;95montology_id\u001b[0m field (bionty_source_id=gn26)\n",
      "🔶 Now recursing through parents: this only happens once, but is much slower than bulk saving\n",
      "💬 Also saving parents of Tissue(id=tYS0lE58, name=abdomen element, ontology_id=UBERON:0005172, synonyms=abdomen organ, description=An Organ Or Element That Is In The Abdomen. Examples: Spleen, Intestine, Kidney, Abdominal Mammary Gland., updated_at=2023-07-20 12:24:00, bionty_source_id=gn26, created_by_id=DzTjkKse)\n",
      "💬 Created \u001b[1;95m1 Tissue record from Bionty\u001b[0m that matched \u001b[1;95montology_id\u001b[0m field (bionty_source_id=gn26)\n",
      "🔶 Now recursing through parents: this only happens once, but is much slower than bulk saving\n",
      "💬 Also saving parents of Tissue(id=0AGAYALK, name=abdominal segment element, ontology_id=UBERON:0005173, synonyms=abdominal segment organ, description=An Organ Or Element That Is Part Of The Adbominal Segment Of The Organism. This Region Can Be Further Subdivided Into The Abdominal Cavity And The Pelvic Region., updated_at=2023-07-20 12:24:01, bionty_source_id=gn26, created_by_id=DzTjkKse)\n",
      "💬 Loaded \u001b[1;92m1 Tissue record\u001b[0m that matched field \u001b[1;92montology_id\u001b[0m\n",
      "💬 Also saving parents of Tissue(id=2jIagj4G, name=lateral structure, ontology_id=UBERON:0015212, description=Any Structure That Is Placed On One Side Of The Left-Right Axis Of A Bilaterian., updated_at=2023-07-20 12:24:00, bionty_source_id=gn26, created_by_id=DzTjkKse)\n",
      "💬 Loaded \u001b[1;92m1 Tissue record\u001b[0m that matched field \u001b[1;92montology_id\u001b[0m\n",
      "💬 Also saving parents of Tissue(id=MvX8jjgg, name=cavitated compound organ, ontology_id=UBERON:0000489, synonyms=cavitated organ, description=Compound Organ That Contains One Or More Macroscopic Anatomical Spaces., updated_at=2023-07-20 12:24:00, bionty_source_id=gn26, created_by_id=DzTjkKse)\n",
      "💬 Loaded \u001b[1;92m1 Tissue record\u001b[0m that matched field \u001b[1;92montology_id\u001b[0m\n",
      "💬 Also saving parents of Tissue(id=HHKnN309, name=liver, ontology_id=UBERON:0002107, description=An Exocrine Gland Which Secretes Bile And Functions In Metabolism Of Protein And Carbohydrate And Fat, Synthesizes Substances Involved In The Clotting Of The Blood, Synthesizes Vitamin A, Detoxifies Poisonous Substances, Stores Glycogen, And Breaks Down Worn-Out Erythrocytes[Go]., updated_at=2023-07-20 12:23:53, bionty_source_id=gn26, created_by_id=DzTjkKse)\n",
      "💬 Loaded \u001b[1;92m1 Tissue record\u001b[0m that matched field \u001b[1;92montology_id\u001b[0m\n",
      "💬 Created \u001b[1;95m3 Tissue records from Bionty\u001b[0m that matched \u001b[1;95montology_id\u001b[0m field (bionty_source_id=gn26)\n",
      "🔶 Now recursing through parents: this only happens once, but is much slower than bulk saving\n",
      "💬 Also saving parents of Tissue(id=hR0q0OYS, name=digestive system gland, ontology_id=UBERON:0006925, description=Any Gland That Is Part Of The Digestive System., updated_at=2023-07-20 12:24:02, bionty_source_id=gn26, created_by_id=DzTjkKse)\n",
      "💬 Created \u001b[1;95m2 Tissue records from Bionty\u001b[0m that matched \u001b[1;95montology_id\u001b[0m field (bionty_source_id=gn26)\n",
      "🔶 Now recursing through parents: this only happens once, but is much slower than bulk saving\n",
      "💬 Also saving parents of Tissue(id=7ltP8W0V, name=digestive system element, ontology_id=UBERON:0013765, synonyms=digestive organ|digestive system organ, description=Any Of The Organs Or Elements That Are Part Of The Digestive System. Examples: Tongue, Esophagus, Spleen, Crop, Lunge Feeding Organ, Tooth Elements., updated_at=2023-07-20 12:24:03, bionty_source_id=gn26, created_by_id=DzTjkKse)\n",
      "💬 Loaded \u001b[1;92m1 Tissue record\u001b[0m that matched field \u001b[1;92montology_id\u001b[0m\n",
      "💬 Also saving parents of Tissue(id=0E8LkWRv, name=endocrine gland, ontology_id=UBERON:0002368, synonyms=glandula endocrina|ductless gland, description=Endocrine Glands Are Glands Of The Endocrine System That Secrete Their Products Directly Into The Circulatory System Rather Than Through A Duct.[Wp, Modified]., updated_at=2023-07-20 12:24:03, bionty_source_id=gn26, created_by_id=DzTjkKse)\n",
      "💬 Created \u001b[1;95m1 Tissue record from Bionty\u001b[0m that matched \u001b[1;95montology_id\u001b[0m field (bionty_source_id=gn26)\n",
      "🔶 Now recursing through parents: this only happens once, but is much slower than bulk saving\n",
      "💬 Also saving parents of Tissue(id=dtyXkYk0, name=gland, ontology_id=UBERON:0002530, synonyms=glandular organ, description=An Organ That Functions As A Secretory Or Excretory Organ., updated_at=2023-07-20 12:24:03, bionty_source_id=gn26, created_by_id=DzTjkKse)\n",
      "💬 Loaded \u001b[1;92m1 Tissue record\u001b[0m that matched field \u001b[1;92montology_id\u001b[0m\n",
      "💬 Also saving parents of Tissue(id=7tbgH7aG, name=exocrine gland, ontology_id=UBERON:0002365, synonyms=glandula exocrina|ducted gland, description=A Gland That Secretes Products (Excluding Hormones And Other Chemical Messengers) Into Ducts (Duct Glands) Which Lead Directly Into The External Environment[Wp]. Typical Exocrine Glands Include Sweat Glands, Salivary Glands, Mammary Glands, Stomach, Liver, Pancreas., updated_at=2023-07-20 12:24:02, bionty_source_id=gn26, created_by_id=DzTjkKse)\n",
      "💬 Loaded \u001b[1;92m1 Tissue record\u001b[0m that matched field \u001b[1;92montology_id\u001b[0m\n",
      "💬 Also saving parents of Tissue(id=cGeITELg, name=endoderm-derived structure, ontology_id=UBERON:0004119, description=An Anatomical Structure That Develops (Entirely Or Partially) From The Endoderm., updated_at=2023-07-20 12:24:02, bionty_source_id=gn26, created_by_id=DzTjkKse)\n",
      "💬 Loaded \u001b[1;92m1 Tissue record\u001b[0m that matched field \u001b[1;92montology_id\u001b[0m\n"
     ]
    }
   ],
   "source": [
    "ln.save(cell_types)\n",
    "ln.save(tissues)"
   ]
  },
  {
   "attachments": {},
   "cell_type": "markdown",
   "metadata": {},
   "source": [
    "Associate the cell types and tissues with the {func}`docs:lamindb.File` object."
   ]
  },
  {
   "cell_type": "code",
   "execution_count": 10,
   "metadata": {},
   "outputs": [],
   "source": [
    "file.cell_types.set(cell_types)\n",
    "file.tissues.set(tissues)"
   ]
  },
  {
   "attachments": {},
   "cell_type": "markdown",
   "metadata": {
    "tags": []
   },
   "source": [
    "### Your vocabulary store"
   ]
  },
  {
   "attachments": {},
   "cell_type": "markdown",
   "metadata": {},
   "source": [
    "Examine the currently available cell types and tissues:"
   ]
  },
  {
   "cell_type": "code",
   "execution_count": 11,
   "metadata": {},
   "outputs": [
    {
     "data": {
      "text/html": [
       "<div>\n",
       "<style scoped>\n",
       "    .dataframe tbody tr th:only-of-type {\n",
       "        vertical-align: middle;\n",
       "    }\n",
       "\n",
       "    .dataframe tbody tr th {\n",
       "        vertical-align: top;\n",
       "    }\n",
       "\n",
       "    .dataframe thead th {\n",
       "        text-align: right;\n",
       "    }\n",
       "</style>\n",
       "<table border=\"1\" class=\"dataframe\">\n",
       "  <thead>\n",
       "    <tr style=\"text-align: right;\">\n",
       "      <th></th>\n",
       "      <th>name</th>\n",
       "      <th>ontology_id</th>\n",
       "      <th>abbr</th>\n",
       "      <th>synonyms</th>\n",
       "      <th>description</th>\n",
       "      <th>bionty_source_id</th>\n",
       "      <th>updated_at</th>\n",
       "      <th>created_by_id</th>\n",
       "    </tr>\n",
       "    <tr>\n",
       "      <th>id</th>\n",
       "      <th></th>\n",
       "      <th></th>\n",
       "      <th></th>\n",
       "      <th></th>\n",
       "      <th></th>\n",
       "      <th></th>\n",
       "      <th></th>\n",
       "      <th></th>\n",
       "    </tr>\n",
       "  </thead>\n",
       "  <tbody>\n",
       "    <tr>\n",
       "      <th>J7hHC8SK</th>\n",
       "      <td>hepatocyte</td>\n",
       "      <td>CL:0000182</td>\n",
       "      <td>None</td>\n",
       "      <td>None</td>\n",
       "      <td>The Main Structural Component Of The Liver. Th...</td>\n",
       "      <td>DWJA</td>\n",
       "      <td>2023-07-20 14:23:47</td>\n",
       "      <td>DzTjkKse</td>\n",
       "    </tr>\n",
       "    <tr>\n",
       "      <th>CbEpmr0T</th>\n",
       "      <td>my new cell type</td>\n",
       "      <td>None</td>\n",
       "      <td>None</td>\n",
       "      <td>None</td>\n",
       "      <td>None</td>\n",
       "      <td>None</td>\n",
       "      <td>2023-07-20 14:23:47</td>\n",
       "      <td>DzTjkKse</td>\n",
       "    </tr>\n",
       "    <tr>\n",
       "      <th>BxNjby0x</th>\n",
       "      <td>T cell</td>\n",
       "      <td>CL:0000084</td>\n",
       "      <td>None</td>\n",
       "      <td>T-cell|T lymphocyte|T-lymphocyte</td>\n",
       "      <td>A Type Of Lymphocyte Whose Defining Characteri...</td>\n",
       "      <td>DWJA</td>\n",
       "      <td>2023-07-20 14:23:47</td>\n",
       "      <td>DzTjkKse</td>\n",
       "    </tr>\n",
       "    <tr>\n",
       "      <th>m91LZBDZ</th>\n",
       "      <td>hematopoietic stem cell</td>\n",
       "      <td>CL:0000037</td>\n",
       "      <td>None</td>\n",
       "      <td>hemopoietic stem cell|HSC|blood forming stem cell</td>\n",
       "      <td>A Stem Cell From Which All Cells Of The Lympho...</td>\n",
       "      <td>DWJA</td>\n",
       "      <td>2023-07-20 14:23:47</td>\n",
       "      <td>DzTjkKse</td>\n",
       "    </tr>\n",
       "    <tr>\n",
       "      <th>P6E7yrc7</th>\n",
       "      <td>epithelial cell</td>\n",
       "      <td>CL:0000066</td>\n",
       "      <td>None</td>\n",
       "      <td>epitheliocyte</td>\n",
       "      <td>A Cell That Is Usually Found In A Two-Dimensio...</td>\n",
       "      <td>DWJA</td>\n",
       "      <td>2023-07-20 14:23:47</td>\n",
       "      <td>DzTjkKse</td>\n",
       "    </tr>\n",
       "    <tr>\n",
       "      <th>QMAH6IlS</th>\n",
       "      <td>somatic cell</td>\n",
       "      <td>CL:0002371</td>\n",
       "      <td>None</td>\n",
       "      <td>None</td>\n",
       "      <td>A Cell Of An Organism That Does Not Pass On It...</td>\n",
       "      <td>DWJA</td>\n",
       "      <td>2023-07-20 14:23:47</td>\n",
       "      <td>DzTjkKse</td>\n",
       "    </tr>\n",
       "    <tr>\n",
       "      <th>AOy0Et6k</th>\n",
       "      <td>endopolyploid cell</td>\n",
       "      <td>CL:0000417</td>\n",
       "      <td>None</td>\n",
       "      <td>None</td>\n",
       "      <td>None</td>\n",
       "      <td>DWJA</td>\n",
       "      <td>2023-07-20 14:23:47</td>\n",
       "      <td>DzTjkKse</td>\n",
       "    </tr>\n",
       "    <tr>\n",
       "      <th>H0taCt24</th>\n",
       "      <td>animal cell</td>\n",
       "      <td>CL:0000548</td>\n",
       "      <td>None</td>\n",
       "      <td>metazoan cell</td>\n",
       "      <td>A Native Cell That Is Part Of Some Metazoa.</td>\n",
       "      <td>DWJA</td>\n",
       "      <td>2023-07-20 14:23:48</td>\n",
       "      <td>DzTjkKse</td>\n",
       "    </tr>\n",
       "    <tr>\n",
       "      <th>igNGxgJT</th>\n",
       "      <td>eukaryotic cell</td>\n",
       "      <td>CL:0000255</td>\n",
       "      <td>None</td>\n",
       "      <td>None</td>\n",
       "      <td>None</td>\n",
       "      <td>DWJA</td>\n",
       "      <td>2023-07-20 14:23:49</td>\n",
       "      <td>DzTjkKse</td>\n",
       "    </tr>\n",
       "    <tr>\n",
       "      <th>VT73gpK2</th>\n",
       "      <td>native cell</td>\n",
       "      <td>CL:0000003</td>\n",
       "      <td>None</td>\n",
       "      <td>None</td>\n",
       "      <td>A Cell That Is Found In A Natural Setting, Whi...</td>\n",
       "      <td>DWJA</td>\n",
       "      <td>2023-07-20 14:23:49</td>\n",
       "      <td>DzTjkKse</td>\n",
       "    </tr>\n",
       "    <tr>\n",
       "      <th>Ry0JGwSD</th>\n",
       "      <td>cell</td>\n",
       "      <td>CL:0000000</td>\n",
       "      <td>None</td>\n",
       "      <td>None</td>\n",
       "      <td>A Material Entity Of Anatomical Origin (Part O...</td>\n",
       "      <td>DWJA</td>\n",
       "      <td>2023-07-20 14:23:50</td>\n",
       "      <td>DzTjkKse</td>\n",
       "    </tr>\n",
       "    <tr>\n",
       "      <th>eqVIXZEb</th>\n",
       "      <td>polyploid cell</td>\n",
       "      <td>CL:0000412</td>\n",
       "      <td>None</td>\n",
       "      <td>None</td>\n",
       "      <td>A Cell Whose Nucleus, Or Nuclei, Each Contain ...</td>\n",
       "      <td>DWJA</td>\n",
       "      <td>2023-07-20 14:23:50</td>\n",
       "      <td>DzTjkKse</td>\n",
       "    </tr>\n",
       "    <tr>\n",
       "      <th>g8slxY8X</th>\n",
       "      <td>lymphocyte</td>\n",
       "      <td>CL:0000542</td>\n",
       "      <td>None</td>\n",
       "      <td>None</td>\n",
       "      <td>A Lymphocyte Is A Leukocyte Commonly Found In ...</td>\n",
       "      <td>DWJA</td>\n",
       "      <td>2023-07-20 14:23:51</td>\n",
       "      <td>DzTjkKse</td>\n",
       "    </tr>\n",
       "    <tr>\n",
       "      <th>MkrH0gsX</th>\n",
       "      <td>leukocyte</td>\n",
       "      <td>CL:0000738</td>\n",
       "      <td>None</td>\n",
       "      <td>white blood cell|leucocyte</td>\n",
       "      <td>An Achromatic Cell Of The Myeloid Or Lymphoid ...</td>\n",
       "      <td>DWJA</td>\n",
       "      <td>2023-07-20 14:23:52</td>\n",
       "      <td>DzTjkKse</td>\n",
       "    </tr>\n",
       "    <tr>\n",
       "      <th>Q0aQr5JB</th>\n",
       "      <td>hematopoietic cell</td>\n",
       "      <td>CL:0000988</td>\n",
       "      <td>None</td>\n",
       "      <td>hemopoietic cell|haemopoietic cell|haematopoie...</td>\n",
       "      <td>A Cell Of A Hematopoietic Lineage.</td>\n",
       "      <td>DWJA</td>\n",
       "      <td>2023-07-20 14:23:52</td>\n",
       "      <td>DzTjkKse</td>\n",
       "    </tr>\n",
       "    <tr>\n",
       "      <th>0d3ym06W</th>\n",
       "      <td>hematopoietic precursor cell</td>\n",
       "      <td>CL:0008001</td>\n",
       "      <td>None</td>\n",
       "      <td>None</td>\n",
       "      <td>Any Hematopoietic Cell That Is A Precursor Of ...</td>\n",
       "      <td>DWJA</td>\n",
       "      <td>2023-07-20 14:23:53</td>\n",
       "      <td>DzTjkKse</td>\n",
       "    </tr>\n",
       "  </tbody>\n",
       "</table>\n",
       "</div>"
      ],
      "text/plain": [
       "                                  name ontology_id  abbr  \\\n",
       "id                                                         \n",
       "J7hHC8SK                    hepatocyte  CL:0000182  None   \n",
       "CbEpmr0T              my new cell type        None  None   \n",
       "BxNjby0x                        T cell  CL:0000084  None   \n",
       "m91LZBDZ       hematopoietic stem cell  CL:0000037  None   \n",
       "P6E7yrc7               epithelial cell  CL:0000066  None   \n",
       "QMAH6IlS                  somatic cell  CL:0002371  None   \n",
       "AOy0Et6k            endopolyploid cell  CL:0000417  None   \n",
       "H0taCt24                   animal cell  CL:0000548  None   \n",
       "igNGxgJT               eukaryotic cell  CL:0000255  None   \n",
       "VT73gpK2                   native cell  CL:0000003  None   \n",
       "Ry0JGwSD                          cell  CL:0000000  None   \n",
       "eqVIXZEb                polyploid cell  CL:0000412  None   \n",
       "g8slxY8X                    lymphocyte  CL:0000542  None   \n",
       "MkrH0gsX                     leukocyte  CL:0000738  None   \n",
       "Q0aQr5JB            hematopoietic cell  CL:0000988  None   \n",
       "0d3ym06W  hematopoietic precursor cell  CL:0008001  None   \n",
       "\n",
       "                                                   synonyms  \\\n",
       "id                                                            \n",
       "J7hHC8SK                                               None   \n",
       "CbEpmr0T                                               None   \n",
       "BxNjby0x                   T-cell|T lymphocyte|T-lymphocyte   \n",
       "m91LZBDZ  hemopoietic stem cell|HSC|blood forming stem cell   \n",
       "P6E7yrc7                                      epitheliocyte   \n",
       "QMAH6IlS                                               None   \n",
       "AOy0Et6k                                               None   \n",
       "H0taCt24                                      metazoan cell   \n",
       "igNGxgJT                                               None   \n",
       "VT73gpK2                                               None   \n",
       "Ry0JGwSD                                               None   \n",
       "eqVIXZEb                                               None   \n",
       "g8slxY8X                                               None   \n",
       "MkrH0gsX                         white blood cell|leucocyte   \n",
       "Q0aQr5JB  hemopoietic cell|haemopoietic cell|haematopoie...   \n",
       "0d3ym06W                                               None   \n",
       "\n",
       "                                                description bionty_source_id  \\\n",
       "id                                                                             \n",
       "J7hHC8SK  The Main Structural Component Of The Liver. Th...             DWJA   \n",
       "CbEpmr0T                                               None             None   \n",
       "BxNjby0x  A Type Of Lymphocyte Whose Defining Characteri...             DWJA   \n",
       "m91LZBDZ  A Stem Cell From Which All Cells Of The Lympho...             DWJA   \n",
       "P6E7yrc7  A Cell That Is Usually Found In A Two-Dimensio...             DWJA   \n",
       "QMAH6IlS  A Cell Of An Organism That Does Not Pass On It...             DWJA   \n",
       "AOy0Et6k                                               None             DWJA   \n",
       "H0taCt24        A Native Cell That Is Part Of Some Metazoa.             DWJA   \n",
       "igNGxgJT                                               None             DWJA   \n",
       "VT73gpK2  A Cell That Is Found In A Natural Setting, Whi...             DWJA   \n",
       "Ry0JGwSD  A Material Entity Of Anatomical Origin (Part O...             DWJA   \n",
       "eqVIXZEb  A Cell Whose Nucleus, Or Nuclei, Each Contain ...             DWJA   \n",
       "g8slxY8X  A Lymphocyte Is A Leukocyte Commonly Found In ...             DWJA   \n",
       "MkrH0gsX  An Achromatic Cell Of The Myeloid Or Lymphoid ...             DWJA   \n",
       "Q0aQr5JB                 A Cell Of A Hematopoietic Lineage.             DWJA   \n",
       "0d3ym06W  Any Hematopoietic Cell That Is A Precursor Of ...             DWJA   \n",
       "\n",
       "                   updated_at created_by_id  \n",
       "id                                           \n",
       "J7hHC8SK  2023-07-20 14:23:47      DzTjkKse  \n",
       "CbEpmr0T  2023-07-20 14:23:47      DzTjkKse  \n",
       "BxNjby0x  2023-07-20 14:23:47      DzTjkKse  \n",
       "m91LZBDZ  2023-07-20 14:23:47      DzTjkKse  \n",
       "P6E7yrc7  2023-07-20 14:23:47      DzTjkKse  \n",
       "QMAH6IlS  2023-07-20 14:23:47      DzTjkKse  \n",
       "AOy0Et6k  2023-07-20 14:23:47      DzTjkKse  \n",
       "H0taCt24  2023-07-20 14:23:48      DzTjkKse  \n",
       "igNGxgJT  2023-07-20 14:23:49      DzTjkKse  \n",
       "VT73gpK2  2023-07-20 14:23:49      DzTjkKse  \n",
       "Ry0JGwSD  2023-07-20 14:23:50      DzTjkKse  \n",
       "eqVIXZEb  2023-07-20 14:23:50      DzTjkKse  \n",
       "g8slxY8X  2023-07-20 14:23:51      DzTjkKse  \n",
       "MkrH0gsX  2023-07-20 14:23:52      DzTjkKse  \n",
       "Q0aQr5JB  2023-07-20 14:23:52      DzTjkKse  \n",
       "0d3ym06W  2023-07-20 14:23:53      DzTjkKse  "
      ]
     },
     "execution_count": 11,
     "metadata": {},
     "output_type": "execute_result"
    }
   ],
   "source": [
    "lb.CellType.select().df()"
   ]
  },
  {
   "cell_type": "code",
   "execution_count": 12,
   "metadata": {},
   "outputs": [
    {
     "data": {
      "text/html": [
       "<div>\n",
       "<style scoped>\n",
       "    .dataframe tbody tr th:only-of-type {\n",
       "        vertical-align: middle;\n",
       "    }\n",
       "\n",
       "    .dataframe tbody tr th {\n",
       "        vertical-align: top;\n",
       "    }\n",
       "\n",
       "    .dataframe thead th {\n",
       "        text-align: right;\n",
       "    }\n",
       "</style>\n",
       "<table border=\"1\" class=\"dataframe\">\n",
       "  <thead>\n",
       "    <tr style=\"text-align: right;\">\n",
       "      <th></th>\n",
       "      <th>name</th>\n",
       "      <th>ontology_id</th>\n",
       "      <th>abbr</th>\n",
       "      <th>synonyms</th>\n",
       "      <th>description</th>\n",
       "      <th>bionty_source_id</th>\n",
       "      <th>updated_at</th>\n",
       "      <th>created_by_id</th>\n",
       "    </tr>\n",
       "    <tr>\n",
       "      <th>id</th>\n",
       "      <th></th>\n",
       "      <th></th>\n",
       "      <th></th>\n",
       "      <th></th>\n",
       "      <th></th>\n",
       "      <th></th>\n",
       "      <th></th>\n",
       "      <th></th>\n",
       "    </tr>\n",
       "  </thead>\n",
       "  <tbody>\n",
       "    <tr>\n",
       "      <th>sm45H0wI</th>\n",
       "      <td>heart</td>\n",
       "      <td>UBERON:0000948</td>\n",
       "      <td>None</td>\n",
       "      <td>chambered heart|vertebrate heart</td>\n",
       "      <td>A Myogenic Muscular Circulatory Organ Found In...</td>\n",
       "      <td>gn26</td>\n",
       "      <td>2023-07-20 14:23:53</td>\n",
       "      <td>DzTjkKse</td>\n",
       "    </tr>\n",
       "    <tr>\n",
       "      <th>7HcGzG0l</th>\n",
       "      <td>brain</td>\n",
       "      <td>UBERON:0000955</td>\n",
       "      <td>None</td>\n",
       "      <td>None</td>\n",
       "      <td>The Brain Is The Center Of The Nervous System ...</td>\n",
       "      <td>gn26</td>\n",
       "      <td>2023-07-20 14:23:53</td>\n",
       "      <td>DzTjkKse</td>\n",
       "    </tr>\n",
       "    <tr>\n",
       "      <th>j9lTWyWV</th>\n",
       "      <td>kidney</td>\n",
       "      <td>UBERON:0002113</td>\n",
       "      <td>None</td>\n",
       "      <td>None</td>\n",
       "      <td>A Paired Organ Of The Urinary Tract Which Has ...</td>\n",
       "      <td>gn26</td>\n",
       "      <td>2023-07-20 14:23:53</td>\n",
       "      <td>DzTjkKse</td>\n",
       "    </tr>\n",
       "    <tr>\n",
       "      <th>HHKnN309</th>\n",
       "      <td>liver</td>\n",
       "      <td>UBERON:0002107</td>\n",
       "      <td>None</td>\n",
       "      <td>None</td>\n",
       "      <td>An Exocrine Gland Which Secretes Bile And Func...</td>\n",
       "      <td>gn26</td>\n",
       "      <td>2023-07-20 14:23:53</td>\n",
       "      <td>DzTjkKse</td>\n",
       "    </tr>\n",
       "    <tr>\n",
       "      <th>LB1DWmLh</th>\n",
       "      <td>structure with developmental contribution from...</td>\n",
       "      <td>UBERON:0010314</td>\n",
       "      <td>None</td>\n",
       "      <td>None</td>\n",
       "      <td>An Anatomical Structure That Has Some Part Tha...</td>\n",
       "      <td>gn26</td>\n",
       "      <td>2023-07-20 14:23:54</td>\n",
       "      <td>DzTjkKse</td>\n",
       "    </tr>\n",
       "    <tr>\n",
       "      <th>w6ZLPLvC</th>\n",
       "      <td>mesoderm-derived structure</td>\n",
       "      <td>UBERON:0004120</td>\n",
       "      <td>None</td>\n",
       "      <td>mesodermal derivative</td>\n",
       "      <td>An Anatomical Structure That Develops (Entirel...</td>\n",
       "      <td>gn26</td>\n",
       "      <td>2023-07-20 14:23:54</td>\n",
       "      <td>DzTjkKse</td>\n",
       "    </tr>\n",
       "    <tr>\n",
       "      <th>J3XUWZki</th>\n",
       "      <td>primary circulatory organ</td>\n",
       "      <td>UBERON:0007100</td>\n",
       "      <td>None</td>\n",
       "      <td>None</td>\n",
       "      <td>A Hollow, Muscular Organ, Which, By Contractin...</td>\n",
       "      <td>gn26</td>\n",
       "      <td>2023-07-20 14:23:54</td>\n",
       "      <td>DzTjkKse</td>\n",
       "    </tr>\n",
       "    <tr>\n",
       "      <th>zURRkybM</th>\n",
       "      <td>thoracic segment organ</td>\n",
       "      <td>UBERON:0005181</td>\n",
       "      <td>None</td>\n",
       "      <td>None</td>\n",
       "      <td>An Organ That Part Of The Thoracic Segment Reg...</td>\n",
       "      <td>gn26</td>\n",
       "      <td>2023-07-20 14:23:54</td>\n",
       "      <td>DzTjkKse</td>\n",
       "    </tr>\n",
       "    <tr>\n",
       "      <th>eEntTihh</th>\n",
       "      <td>anatomical structure</td>\n",
       "      <td>UBERON:0000061</td>\n",
       "      <td>None</td>\n",
       "      <td>connected biological structure|biological stru...</td>\n",
       "      <td>Material Anatomical Entity That Is A Single Co...</td>\n",
       "      <td>gn26</td>\n",
       "      <td>2023-07-20 14:23:54</td>\n",
       "      <td>DzTjkKse</td>\n",
       "    </tr>\n",
       "    <tr>\n",
       "      <th>OHTKq1WO</th>\n",
       "      <td>material anatomical entity</td>\n",
       "      <td>UBERON:0000465</td>\n",
       "      <td>None</td>\n",
       "      <td>None</td>\n",
       "      <td>Anatomical Entity That Has Mass.</td>\n",
       "      <td>gn26</td>\n",
       "      <td>2023-07-20 14:23:55</td>\n",
       "      <td>DzTjkKse</td>\n",
       "    </tr>\n",
       "    <tr>\n",
       "      <th>QqMceszw</th>\n",
       "      <td>anatomical entity</td>\n",
       "      <td>UBERON:0001062</td>\n",
       "      <td>None</td>\n",
       "      <td>None</td>\n",
       "      <td>Biological Entity That Is Either An Individual...</td>\n",
       "      <td>gn26</td>\n",
       "      <td>2023-07-20 14:23:56</td>\n",
       "      <td>DzTjkKse</td>\n",
       "    </tr>\n",
       "    <tr>\n",
       "      <th>zOsbXujj</th>\n",
       "      <td>circulatory organ</td>\n",
       "      <td>UBERON:0015228</td>\n",
       "      <td>None</td>\n",
       "      <td>heart or heart like organ|cardiac pump</td>\n",
       "      <td>A Hollow, Muscular Organ, Which, By Contractin...</td>\n",
       "      <td>gn26</td>\n",
       "      <td>2023-07-20 14:23:56</td>\n",
       "      <td>DzTjkKse</td>\n",
       "    </tr>\n",
       "    <tr>\n",
       "      <th>U4ZCyAVk</th>\n",
       "      <td>compound organ</td>\n",
       "      <td>UBERON:0003103</td>\n",
       "      <td>None</td>\n",
       "      <td>None</td>\n",
       "      <td>Anatomical Structure That Has As Its Parts Two...</td>\n",
       "      <td>gn26</td>\n",
       "      <td>2023-07-20 14:23:57</td>\n",
       "      <td>DzTjkKse</td>\n",
       "    </tr>\n",
       "    <tr>\n",
       "      <th>di8YhQRe</th>\n",
       "      <td>organ</td>\n",
       "      <td>UBERON:0000062</td>\n",
       "      <td>None</td>\n",
       "      <td>None</td>\n",
       "      <td>Anatomical Structure That Performs A Specific ...</td>\n",
       "      <td>gn26</td>\n",
       "      <td>2023-07-20 14:23:58</td>\n",
       "      <td>DzTjkKse</td>\n",
       "    </tr>\n",
       "    <tr>\n",
       "      <th>hZ6puzQW</th>\n",
       "      <td>multicellular anatomical structure</td>\n",
       "      <td>UBERON:0010000</td>\n",
       "      <td>None</td>\n",
       "      <td>multicellular structure</td>\n",
       "      <td>An Anatomical Structure That Has More Than One...</td>\n",
       "      <td>gn26</td>\n",
       "      <td>2023-07-20 14:23:58</td>\n",
       "      <td>DzTjkKse</td>\n",
       "    </tr>\n",
       "    <tr>\n",
       "      <th>50iJ6bqb</th>\n",
       "      <td>trunk region element</td>\n",
       "      <td>UBERON:0005177</td>\n",
       "      <td>None</td>\n",
       "      <td>trunk organ</td>\n",
       "      <td>An Organ Or Element That Part Of The Trunk Reg...</td>\n",
       "      <td>gn26</td>\n",
       "      <td>2023-07-20 14:23:59</td>\n",
       "      <td>DzTjkKse</td>\n",
       "    </tr>\n",
       "    <tr>\n",
       "      <th>jlJQD0PJ</th>\n",
       "      <td>ectoderm-derived structure</td>\n",
       "      <td>UBERON:0004121</td>\n",
       "      <td>None</td>\n",
       "      <td>ectodermal deriviative</td>\n",
       "      <td>An Anatomical Structure That Develops (Entirel...</td>\n",
       "      <td>gn26</td>\n",
       "      <td>2023-07-20 14:24:00</td>\n",
       "      <td>DzTjkKse</td>\n",
       "    </tr>\n",
       "    <tr>\n",
       "      <th>tYS0lE58</th>\n",
       "      <td>abdomen element</td>\n",
       "      <td>UBERON:0005172</td>\n",
       "      <td>None</td>\n",
       "      <td>abdomen organ</td>\n",
       "      <td>An Organ Or Element That Is In The Abdomen. Ex...</td>\n",
       "      <td>gn26</td>\n",
       "      <td>2023-07-20 14:24:00</td>\n",
       "      <td>DzTjkKse</td>\n",
       "    </tr>\n",
       "    <tr>\n",
       "      <th>2jIagj4G</th>\n",
       "      <td>lateral structure</td>\n",
       "      <td>UBERON:0015212</td>\n",
       "      <td>None</td>\n",
       "      <td>None</td>\n",
       "      <td>Any Structure That Is Placed On One Side Of Th...</td>\n",
       "      <td>gn26</td>\n",
       "      <td>2023-07-20 14:24:00</td>\n",
       "      <td>DzTjkKse</td>\n",
       "    </tr>\n",
       "    <tr>\n",
       "      <th>MvX8jjgg</th>\n",
       "      <td>cavitated compound organ</td>\n",
       "      <td>UBERON:0000489</td>\n",
       "      <td>None</td>\n",
       "      <td>cavitated organ</td>\n",
       "      <td>Compound Organ That Contains One Or More Macro...</td>\n",
       "      <td>gn26</td>\n",
       "      <td>2023-07-20 14:24:00</td>\n",
       "      <td>DzTjkKse</td>\n",
       "    </tr>\n",
       "    <tr>\n",
       "      <th>0AGAYALK</th>\n",
       "      <td>abdominal segment element</td>\n",
       "      <td>UBERON:0005173</td>\n",
       "      <td>None</td>\n",
       "      <td>abdominal segment organ</td>\n",
       "      <td>An Organ Or Element That Is Part Of The Adbomi...</td>\n",
       "      <td>gn26</td>\n",
       "      <td>2023-07-20 14:24:01</td>\n",
       "      <td>DzTjkKse</td>\n",
       "    </tr>\n",
       "    <tr>\n",
       "      <th>hR0q0OYS</th>\n",
       "      <td>digestive system gland</td>\n",
       "      <td>UBERON:0006925</td>\n",
       "      <td>None</td>\n",
       "      <td>None</td>\n",
       "      <td>Any Gland That Is Part Of The Digestive System.</td>\n",
       "      <td>gn26</td>\n",
       "      <td>2023-07-20 14:24:02</td>\n",
       "      <td>DzTjkKse</td>\n",
       "    </tr>\n",
       "    <tr>\n",
       "      <th>7tbgH7aG</th>\n",
       "      <td>exocrine gland</td>\n",
       "      <td>UBERON:0002365</td>\n",
       "      <td>None</td>\n",
       "      <td>glandula exocrina|ducted gland</td>\n",
       "      <td>A Gland That Secretes Products (Excluding Horm...</td>\n",
       "      <td>gn26</td>\n",
       "      <td>2023-07-20 14:24:02</td>\n",
       "      <td>DzTjkKse</td>\n",
       "    </tr>\n",
       "    <tr>\n",
       "      <th>cGeITELg</th>\n",
       "      <td>endoderm-derived structure</td>\n",
       "      <td>UBERON:0004119</td>\n",
       "      <td>None</td>\n",
       "      <td>None</td>\n",
       "      <td>An Anatomical Structure That Develops (Entirel...</td>\n",
       "      <td>gn26</td>\n",
       "      <td>2023-07-20 14:24:02</td>\n",
       "      <td>DzTjkKse</td>\n",
       "    </tr>\n",
       "    <tr>\n",
       "      <th>7ltP8W0V</th>\n",
       "      <td>digestive system element</td>\n",
       "      <td>UBERON:0013765</td>\n",
       "      <td>None</td>\n",
       "      <td>digestive organ|digestive system organ</td>\n",
       "      <td>Any Of The Organs Or Elements That Are Part Of...</td>\n",
       "      <td>gn26</td>\n",
       "      <td>2023-07-20 14:24:03</td>\n",
       "      <td>DzTjkKse</td>\n",
       "    </tr>\n",
       "    <tr>\n",
       "      <th>0E8LkWRv</th>\n",
       "      <td>endocrine gland</td>\n",
       "      <td>UBERON:0002368</td>\n",
       "      <td>None</td>\n",
       "      <td>glandula endocrina|ductless gland</td>\n",
       "      <td>Endocrine Glands Are Glands Of The Endocrine S...</td>\n",
       "      <td>gn26</td>\n",
       "      <td>2023-07-20 14:24:03</td>\n",
       "      <td>DzTjkKse</td>\n",
       "    </tr>\n",
       "    <tr>\n",
       "      <th>dtyXkYk0</th>\n",
       "      <td>gland</td>\n",
       "      <td>UBERON:0002530</td>\n",
       "      <td>None</td>\n",
       "      <td>glandular organ</td>\n",
       "      <td>An Organ That Functions As A Secretory Or Excr...</td>\n",
       "      <td>gn26</td>\n",
       "      <td>2023-07-20 14:24:03</td>\n",
       "      <td>DzTjkKse</td>\n",
       "    </tr>\n",
       "  </tbody>\n",
       "</table>\n",
       "</div>"
      ],
      "text/plain": [
       "                                                       name     ontology_id  \\\n",
       "id                                                                            \n",
       "sm45H0wI                                              heart  UBERON:0000948   \n",
       "7HcGzG0l                                              brain  UBERON:0000955   \n",
       "j9lTWyWV                                             kidney  UBERON:0002113   \n",
       "HHKnN309                                              liver  UBERON:0002107   \n",
       "LB1DWmLh  structure with developmental contribution from...  UBERON:0010314   \n",
       "w6ZLPLvC                         mesoderm-derived structure  UBERON:0004120   \n",
       "J3XUWZki                          primary circulatory organ  UBERON:0007100   \n",
       "zURRkybM                             thoracic segment organ  UBERON:0005181   \n",
       "eEntTihh                               anatomical structure  UBERON:0000061   \n",
       "OHTKq1WO                         material anatomical entity  UBERON:0000465   \n",
       "QqMceszw                                  anatomical entity  UBERON:0001062   \n",
       "zOsbXujj                                  circulatory organ  UBERON:0015228   \n",
       "U4ZCyAVk                                     compound organ  UBERON:0003103   \n",
       "di8YhQRe                                              organ  UBERON:0000062   \n",
       "hZ6puzQW                 multicellular anatomical structure  UBERON:0010000   \n",
       "50iJ6bqb                               trunk region element  UBERON:0005177   \n",
       "jlJQD0PJ                         ectoderm-derived structure  UBERON:0004121   \n",
       "tYS0lE58                                    abdomen element  UBERON:0005172   \n",
       "2jIagj4G                                  lateral structure  UBERON:0015212   \n",
       "MvX8jjgg                           cavitated compound organ  UBERON:0000489   \n",
       "0AGAYALK                          abdominal segment element  UBERON:0005173   \n",
       "hR0q0OYS                             digestive system gland  UBERON:0006925   \n",
       "7tbgH7aG                                     exocrine gland  UBERON:0002365   \n",
       "cGeITELg                         endoderm-derived structure  UBERON:0004119   \n",
       "7ltP8W0V                           digestive system element  UBERON:0013765   \n",
       "0E8LkWRv                                    endocrine gland  UBERON:0002368   \n",
       "dtyXkYk0                                              gland  UBERON:0002530   \n",
       "\n",
       "          abbr                                           synonyms  \\\n",
       "id                                                                  \n",
       "sm45H0wI  None                   chambered heart|vertebrate heart   \n",
       "7HcGzG0l  None                                               None   \n",
       "j9lTWyWV  None                                               None   \n",
       "HHKnN309  None                                               None   \n",
       "LB1DWmLh  None                                               None   \n",
       "w6ZLPLvC  None                              mesodermal derivative   \n",
       "J3XUWZki  None                                               None   \n",
       "zURRkybM  None                                               None   \n",
       "eEntTihh  None  connected biological structure|biological stru...   \n",
       "OHTKq1WO  None                                               None   \n",
       "QqMceszw  None                                               None   \n",
       "zOsbXujj  None             heart or heart like organ|cardiac pump   \n",
       "U4ZCyAVk  None                                               None   \n",
       "di8YhQRe  None                                               None   \n",
       "hZ6puzQW  None                            multicellular structure   \n",
       "50iJ6bqb  None                                        trunk organ   \n",
       "jlJQD0PJ  None                             ectodermal deriviative   \n",
       "tYS0lE58  None                                      abdomen organ   \n",
       "2jIagj4G  None                                               None   \n",
       "MvX8jjgg  None                                    cavitated organ   \n",
       "0AGAYALK  None                            abdominal segment organ   \n",
       "hR0q0OYS  None                                               None   \n",
       "7tbgH7aG  None                     glandula exocrina|ducted gland   \n",
       "cGeITELg  None                                               None   \n",
       "7ltP8W0V  None             digestive organ|digestive system organ   \n",
       "0E8LkWRv  None                  glandula endocrina|ductless gland   \n",
       "dtyXkYk0  None                                    glandular organ   \n",
       "\n",
       "                                                description bionty_source_id  \\\n",
       "id                                                                             \n",
       "sm45H0wI  A Myogenic Muscular Circulatory Organ Found In...             gn26   \n",
       "7HcGzG0l  The Brain Is The Center Of The Nervous System ...             gn26   \n",
       "j9lTWyWV  A Paired Organ Of The Urinary Tract Which Has ...             gn26   \n",
       "HHKnN309  An Exocrine Gland Which Secretes Bile And Func...             gn26   \n",
       "LB1DWmLh  An Anatomical Structure That Has Some Part Tha...             gn26   \n",
       "w6ZLPLvC  An Anatomical Structure That Develops (Entirel...             gn26   \n",
       "J3XUWZki  A Hollow, Muscular Organ, Which, By Contractin...             gn26   \n",
       "zURRkybM  An Organ That Part Of The Thoracic Segment Reg...             gn26   \n",
       "eEntTihh  Material Anatomical Entity That Is A Single Co...             gn26   \n",
       "OHTKq1WO                   Anatomical Entity That Has Mass.             gn26   \n",
       "QqMceszw  Biological Entity That Is Either An Individual...             gn26   \n",
       "zOsbXujj  A Hollow, Muscular Organ, Which, By Contractin...             gn26   \n",
       "U4ZCyAVk  Anatomical Structure That Has As Its Parts Two...             gn26   \n",
       "di8YhQRe  Anatomical Structure That Performs A Specific ...             gn26   \n",
       "hZ6puzQW  An Anatomical Structure That Has More Than One...             gn26   \n",
       "50iJ6bqb  An Organ Or Element That Part Of The Trunk Reg...             gn26   \n",
       "jlJQD0PJ  An Anatomical Structure That Develops (Entirel...             gn26   \n",
       "tYS0lE58  An Organ Or Element That Is In The Abdomen. Ex...             gn26   \n",
       "2jIagj4G  Any Structure That Is Placed On One Side Of Th...             gn26   \n",
       "MvX8jjgg  Compound Organ That Contains One Or More Macro...             gn26   \n",
       "0AGAYALK  An Organ Or Element That Is Part Of The Adbomi...             gn26   \n",
       "hR0q0OYS    Any Gland That Is Part Of The Digestive System.             gn26   \n",
       "7tbgH7aG  A Gland That Secretes Products (Excluding Horm...             gn26   \n",
       "cGeITELg  An Anatomical Structure That Develops (Entirel...             gn26   \n",
       "7ltP8W0V  Any Of The Organs Or Elements That Are Part Of...             gn26   \n",
       "0E8LkWRv  Endocrine Glands Are Glands Of The Endocrine S...             gn26   \n",
       "dtyXkYk0  An Organ That Functions As A Secretory Or Excr...             gn26   \n",
       "\n",
       "                   updated_at created_by_id  \n",
       "id                                           \n",
       "sm45H0wI  2023-07-20 14:23:53      DzTjkKse  \n",
       "7HcGzG0l  2023-07-20 14:23:53      DzTjkKse  \n",
       "j9lTWyWV  2023-07-20 14:23:53      DzTjkKse  \n",
       "HHKnN309  2023-07-20 14:23:53      DzTjkKse  \n",
       "LB1DWmLh  2023-07-20 14:23:54      DzTjkKse  \n",
       "w6ZLPLvC  2023-07-20 14:23:54      DzTjkKse  \n",
       "J3XUWZki  2023-07-20 14:23:54      DzTjkKse  \n",
       "zURRkybM  2023-07-20 14:23:54      DzTjkKse  \n",
       "eEntTihh  2023-07-20 14:23:54      DzTjkKse  \n",
       "OHTKq1WO  2023-07-20 14:23:55      DzTjkKse  \n",
       "QqMceszw  2023-07-20 14:23:56      DzTjkKse  \n",
       "zOsbXujj  2023-07-20 14:23:56      DzTjkKse  \n",
       "U4ZCyAVk  2023-07-20 14:23:57      DzTjkKse  \n",
       "di8YhQRe  2023-07-20 14:23:58      DzTjkKse  \n",
       "hZ6puzQW  2023-07-20 14:23:58      DzTjkKse  \n",
       "50iJ6bqb  2023-07-20 14:23:59      DzTjkKse  \n",
       "jlJQD0PJ  2023-07-20 14:24:00      DzTjkKse  \n",
       "tYS0lE58  2023-07-20 14:24:00      DzTjkKse  \n",
       "2jIagj4G  2023-07-20 14:24:00      DzTjkKse  \n",
       "MvX8jjgg  2023-07-20 14:24:00      DzTjkKse  \n",
       "0AGAYALK  2023-07-20 14:24:01      DzTjkKse  \n",
       "hR0q0OYS  2023-07-20 14:24:02      DzTjkKse  \n",
       "7tbgH7aG  2023-07-20 14:24:02      DzTjkKse  \n",
       "cGeITELg  2023-07-20 14:24:02      DzTjkKse  \n",
       "7ltP8W0V  2023-07-20 14:24:03      DzTjkKse  \n",
       "0E8LkWRv  2023-07-20 14:24:03      DzTjkKse  \n",
       "dtyXkYk0  2023-07-20 14:24:03      DzTjkKse  "
      ]
     },
     "execution_count": 12,
     "metadata": {},
     "output_type": "execute_result"
    }
   ],
   "source": [
    "lb.Tissue.select().df()"
   ]
  },
  {
   "attachments": {},
   "cell_type": "markdown",
   "metadata": {
    "tags": []
   },
   "source": [
    "## Processing of the dataset"
   ]
  },
  {
   "attachments": {},
   "cell_type": "markdown",
   "metadata": {},
   "source": [
    "In the following we will modify the AnnData object to demonstrate data lineage tracking with LaminDB."
   ]
  },
  {
   "attachments": {},
   "cell_type": "markdown",
   "metadata": {},
   "source": [
    "To track our data transformation we create a new {func}`docs:lamindb.Transform` of type \"pipeline\":"
   ]
  },
  {
   "cell_type": "code",
   "execution_count": 13,
   "metadata": {},
   "outputs": [],
   "source": [
    "transform = ln.Transform(\n",
    "    type=\"pipeline\", name=\"subset_to_T_cells_and_liver_lymphoma\", version=\"0.1.0\"\n",
    ")"
   ]
  },
  {
   "attachments": {},
   "cell_type": "markdown",
   "metadata": {},
   "source": [
    "Set the current tracking to the new transform using {func}`docs:lamindb.track`:"
   ]
  },
  {
   "cell_type": "code",
   "execution_count": 14,
   "metadata": {},
   "outputs": [
    {
     "name": "stdout",
     "output_type": "stream",
     "text": [
      "✅ Saved: Transform(id=5Q9bT40xl2aa9p, name=subset_to_T_cells_and_liver_lymphoma, stem_id=5Q9bT40xl2aa, version=0.1.0, type=pipeline, updated_at=2023-07-20 12:24:27, created_by_id=DzTjkKse)\n",
      "✅ Saved: Run(id=8gjWqOb9c9bfKb7ojedf, run_at=2023-07-20 12:24:27, transform_id=5Q9bT40xl2aa9p, created_by_id=DzTjkKse)\n"
     ]
    }
   ],
   "source": [
    "ln.track(transform)"
   ]
  },
  {
   "attachments": {},
   "cell_type": "markdown",
   "metadata": {},
   "source": [
    "### Get a cloud-backed AnnData object"
   ]
  },
  {
   "cell_type": "code",
   "execution_count": 15,
   "metadata": {},
   "outputs": [],
   "source": [
    "file = ln.File.select(key=\"mini_anndata_with_obs.h5ad\").one()"
   ]
  },
  {
   "cell_type": "code",
   "execution_count": 16,
   "metadata": {},
   "outputs": [
    {
     "name": "stderr",
     "output_type": "stream",
     "text": [
      "/Users/falexwolf/miniconda3/envs/py39/lib/python3.9/site-packages/anndata/_core/anndata.py:1832: UserWarning: Variable names are not unique. To make them unique, call `.var_names_make_unique`.\n",
      "  utils.warn_names_duplicates(\"var\")\n"
     ]
    },
    {
     "data": {
      "text/plain": [
       "AnnData object with n_obs × n_vars = 40 × 100 backed at '/Users/falexwolf/repos/lamin-usecases/docs/usecases/analysis-usecase/mini_anndata_with_obs.h5ad'\n",
       "    obs: 'cell_type', 'cell_type_id', 'tissue', 'disease'"
      ]
     },
     "execution_count": 16,
     "metadata": {},
     "output_type": "execute_result"
    }
   ],
   "source": [
    "adata = file.backed(is_run_input=True)\n",
    "adata"
   ]
  },
  {
   "cell_type": "code",
   "execution_count": 17,
   "metadata": {},
   "outputs": [
    {
     "data": {
      "text/plain": [
       "cell_type                disease                   \n",
       "T cell                   chronic kidney disease        10\n",
       "hematopoietic stem cell  liver lymphoma                10\n",
       "hepatocyte               cardiac ventricle disorder    10\n",
       "my new cell type         Alzheimer disease             10\n",
       "Name: count, dtype: int64"
      ]
     },
     "execution_count": 17,
     "metadata": {},
     "output_type": "execute_result"
    }
   ],
   "source": [
    "adata.obs[[\"cell_type\", \"disease\"]].value_counts()"
   ]
  },
  {
   "attachments": {},
   "cell_type": "markdown",
   "metadata": {},
   "source": [
    "### Subset dataset to specific cell types and diseases"
   ]
  },
  {
   "attachments": {},
   "cell_type": "markdown",
   "metadata": {},
   "source": [
    "Create the subset:"
   ]
  },
  {
   "cell_type": "code",
   "execution_count": 18,
   "metadata": {},
   "outputs": [],
   "source": [
    "subset_obs = adata.obs.cell_type.isin([\"T cell\", \"hematopoietic stem cell\"]) & (\n",
    "    adata.obs.disease.isin([\"liver lymphoma\", \"chronic kidney disease\"])\n",
    ")"
   ]
  },
  {
   "cell_type": "code",
   "execution_count": 19,
   "metadata": {},
   "outputs": [
    {
     "data": {
      "text/plain": [
       "View of AnnData object with n_obs × n_vars = 20 × 100 backed at '/Users/falexwolf/repos/lamin-usecases/docs/usecases/analysis-usecase/mini_anndata_with_obs.h5ad'\n",
       "    obs: 'cell_type', 'cell_type_id', 'tissue', 'disease'"
      ]
     },
     "execution_count": 19,
     "metadata": {},
     "output_type": "execute_result"
    }
   ],
   "source": [
    "adata_subset = adata[subset_obs]\n",
    "adata_subset"
   ]
  },
  {
   "cell_type": "code",
   "execution_count": 20,
   "metadata": {},
   "outputs": [
    {
     "data": {
      "text/plain": [
       "cell_type                disease               \n",
       "T cell                   chronic kidney disease    10\n",
       "hematopoietic stem cell  liver lymphoma            10\n",
       "Name: count, dtype: int64"
      ]
     },
     "execution_count": 20,
     "metadata": {},
     "output_type": "execute_result"
    }
   ],
   "source": [
    "adata_subset.obs[[\"cell_type\", \"disease\"]].value_counts()"
   ]
  },
  {
   "attachments": {},
   "cell_type": "markdown",
   "metadata": {},
   "source": [
    "### Add the subset `AnnData` to LaminDB"
   ]
  },
  {
   "attachments": {},
   "cell_type": "markdown",
   "metadata": {},
   "source": [
    "This subset can now be registered with LaminDB."
   ]
  },
  {
   "cell_type": "code",
   "execution_count": 21,
   "metadata": {},
   "outputs": [
    {
     "name": "stderr",
     "output_type": "stream",
     "text": [
      "/Users/falexwolf/miniconda3/envs/py39/lib/python3.9/site-packages/anndata/_core/anndata.py:1832: UserWarning: Variable names are not unique. To make them unique, call `.var_names_make_unique`.\n",
      "  utils.warn_names_duplicates(\"var\")\n"
     ]
    },
    {
     "name": "stdout",
     "output_type": "stream",
     "text": [
      "💡 This is AnnDataLike, consider using File.from_anndata() to link var and obs.columns as features!\n",
      "💡 File will be copied to storage upon `save()` using storage key = subset/mini_anndata_with_obs.h5ad\n"
     ]
    }
   ],
   "source": [
    "file_subset = ln.File(adata_subset.to_memory(), key=\"subset/mini_anndata_with_obs.h5ad\")"
   ]
  },
  {
   "cell_type": "code",
   "execution_count": 22,
   "metadata": {},
   "outputs": [
    {
     "name": "stdout",
     "output_type": "stream",
     "text": [
      "💡 storing file tl8ehtsEjukp4Ub4UaYR with key subset/mini_anndata_with_obs.h5ad\n"
     ]
    }
   ],
   "source": [
    "file_subset.save()"
   ]
  },
  {
   "attachments": {},
   "cell_type": "markdown",
   "metadata": {},
   "source": [
    "Link the subsetted file to cell types:"
   ]
  },
  {
   "cell_type": "code",
   "execution_count": 23,
   "metadata": {},
   "outputs": [
    {
     "name": "stdout",
     "output_type": "stream",
     "text": [
      "💬 Loaded \u001b[1;92m2 CellType records\u001b[0m that matched field \u001b[1;92mname\u001b[0m\n"
     ]
    }
   ],
   "source": [
    "cell_types = lb.CellType.from_values(adata_subset.obs.cell_type, lb.CellType.name)"
   ]
  },
  {
   "cell_type": "code",
   "execution_count": 24,
   "metadata": {},
   "outputs": [],
   "source": [
    "file_subset.cell_types.set(cell_types)"
   ]
  },
  {
   "attachments": {},
   "cell_type": "markdown",
   "metadata": {},
   "source": [
    "## Examining data lineage"
   ]
  },
  {
   "attachments": {},
   "cell_type": "markdown",
   "metadata": {},
   "source": [
    "Common questions that might arise are:\n",
    "\n",
    "- Which h5ad file is in the `subset` subfolder?\n",
    "- Which notebook ingested this file?\n",
    "- By whom?\n",
    "- And which file is its parent?\n",
    "\n",
    "Let's answer this using LaminDB:"
   ]
  },
  {
   "attachments": {},
   "cell_type": "markdown",
   "metadata": {},
   "source": [
    "Query a subsetted `.h5ad` file containing \"hematopoietic stem cell\" and \"T cell\" to learn which h5ad file is in the `subset` subfolder:"
   ]
  },
  {
   "cell_type": "code",
   "execution_count": 25,
   "metadata": {},
   "outputs": [],
   "source": [
    "cell_types_bt_lookup = lb.CellType.lookup()"
   ]
  },
  {
   "cell_type": "code",
   "execution_count": 26,
   "metadata": {},
   "outputs": [],
   "source": [
    "le_subset = ln.File.select(\n",
    "    suffix=\".h5ad\",\n",
    "    key__startswith=\"subset\",\n",
    "    cell_types__in=[\n",
    "        cell_types_bt_lookup.hematopoietic_stem_cell,\n",
    "        cell_types_bt_lookup.t_cell,\n",
    "    ],\n",
    ").first()"
   ]
  },
  {
   "cell_type": "code",
   "execution_count": 27,
   "metadata": {},
   "outputs": [
    {
     "data": {
      "text/plain": [
       "File(id=tl8ehtsEjukp4Ub4UaYR, key=subset/mini_anndata_with_obs.h5ad, suffix=.h5ad, size=38992, hash=WIdz5wyaAbZXAEIK-tWMsA, hash_type=md5, updated_at=2023-07-20 12:24:51, storage_id=sCZDjqa4, transform_id=5Q9bT40xl2aa9p, run_id=8gjWqOb9c9bfKb7ojedf, created_by_id=DzTjkKse)"
      ]
     },
     "execution_count": 27,
     "metadata": {},
     "output_type": "execute_result"
    }
   ],
   "source": [
    "le_subset"
   ]
  },
  {
   "cell_type": "code",
   "execution_count": 29,
   "metadata": {},
   "outputs": [
    {
     "data": {
      "image/svg+xml": [
       "<?xml version=\"1.0\" encoding=\"UTF-8\" standalone=\"no\"?>\n",
       "<!DOCTYPE svg PUBLIC \"-//W3C//DTD SVG 1.1//EN\"\n",
       " \"http://www.w3.org/Graphics/SVG/1.1/DTD/svg11.dtd\">\n",
       "<!-- Generated by graphviz version 6.0.1 (20220911.1526)\n",
       " -->\n",
       "<!-- Title: NRV4p4OeEcqnMA0T3GC1 Pages: 1 -->\n",
       "<svg width=\"342pt\" height=\"279pt\"\n",
       " viewBox=\"0.00 0.00 341.75 278.51\" xmlns=\"http://www.w3.org/2000/svg\" xmlns:xlink=\"http://www.w3.org/1999/xlink\">\n",
       "<g id=\"graph0\" class=\"graph\" transform=\"scale(1 1) rotate(0) translate(4 274.51)\">\n",
       "<title>NRV4p4OeEcqnMA0T3GC1</title>\n",
       "<polygon fill=\"white\" stroke=\"none\" points=\"-4,4 -4,-274.51 337.75,-274.51 337.75,4 -4,4\"/>\n",
       "<!-- NRV4p4OeEcqnMA0T3GC1 -->\n",
       "<g id=\"node1\" class=\"node\">\n",
       "<title>NRV4p4OeEcqnMA0T3GC1</title>\n",
       "<ellipse fill=\"orange\" stroke=\"orange\" cx=\"166.88\" cy=\"-175.88\" rx=\"136.44\" ry=\"22.76\"/>\n",
       "<text text-anchor=\"start\" x=\"78.38\" y=\"-177.68\" font-family=\"Helvetica,sans-Serif\" font-size=\"14.00\">mini_anndata_with_obs.h5ad</text>\n",
       "<text text-anchor=\"start\" x=\"97.38\" y=\"-166.88\" font-family=\"Monospace\" font-size=\"10.00\" fill=\"GREY\">id=NRV4p4OeEcqnMA0T3GC1</text>\n",
       "</g>\n",
       "<!-- 8gjWqOb9c9bfKb7ojedf -->\n",
       "<g id=\"node2\" class=\"node\">\n",
       "<title>8gjWqOb9c9bfKb7ojedf</title>\n",
       "<path fill=\"gainsboro\" stroke=\"orange\" d=\"M289.88,-117.25C289.88,-117.25 43.88,-117.25 43.88,-117.25 37.88,-117.25 31.88,-111.25 31.88,-105.25 31.88,-105.25 31.88,-93.25 31.88,-93.25 31.88,-87.25 37.88,-81.25 43.88,-81.25 43.88,-81.25 289.88,-81.25 289.88,-81.25 295.88,-81.25 301.88,-87.25 301.88,-93.25 301.88,-93.25 301.88,-105.25 301.88,-105.25 301.88,-111.25 295.88,-117.25 289.88,-117.25\"/>\n",
       "<text text-anchor=\"start\" x=\"39.88\" y=\"-101.05\" font-family=\"Helvetica,sans-Serif\" font-size=\"14.00\">subset_to_T_cells_and_liver_lymphoma &#160;&#160;</text>\n",
       "<text text-anchor=\"start\" x=\"97.38\" y=\"-90.25\" font-family=\"Monospace\" font-size=\"10.00\" fill=\"GREY\">id=8gjWqOb9c9bfKb7ojedf</text>\n",
       "</g>\n",
       "<!-- NRV4p4OeEcqnMA0T3GC1&#45;&gt;8gjWqOb9c9bfKb7ojedf -->\n",
       "<g id=\"edge1\" class=\"edge\">\n",
       "<title>NRV4p4OeEcqnMA0T3GC1&#45;&gt;8gjWqOb9c9bfKb7ojedf</title>\n",
       "<path fill=\"none\" stroke=\"dimgrey\" d=\"M166.88,-152.9C166.88,-143.32 166.88,-132.11 166.88,-122.5\"/>\n",
       "<polygon fill=\"dimgrey\" stroke=\"dimgrey\" points=\"168.63,-122.35 166.88,-117.35 165.13,-122.35 168.63,-122.35\"/>\n",
       "</g>\n",
       "<!-- tl8ehtsEjukp4Ub4UaYR -->\n",
       "<g id=\"node3\" class=\"node\">\n",
       "<title>tl8ehtsEjukp4Ub4UaYR</title>\n",
       "<ellipse fill=\"antiquewhite\" stroke=\"orange\" cx=\"166.88\" cy=\"-22.63\" rx=\"166.75\" ry=\"22.76\"/>\n",
       "<text text-anchor=\"start\" x=\"56.88\" y=\"-24.43\" font-family=\"Helvetica,sans-Serif\" font-size=\"14.00\">subset/mini_anndata_with_obs.h5ad</text>\n",
       "<text text-anchor=\"start\" x=\"97.38\" y=\"-13.63\" font-family=\"Monospace\" font-size=\"10.00\" fill=\"GREY\">id=tl8ehtsEjukp4Ub4UaYR</text>\n",
       "</g>\n",
       "<!-- 8gjWqOb9c9bfKb7ojedf&#45;&gt;tl8ehtsEjukp4Ub4UaYR -->\n",
       "<g id=\"edge2\" class=\"edge\">\n",
       "<title>8gjWqOb9c9bfKb7ojedf&#45;&gt;tl8ehtsEjukp4Ub4UaYR</title>\n",
       "<path fill=\"none\" stroke=\"dimgrey\" d=\"M166.88,-80.95C166.88,-71.93 166.88,-60.69 166.88,-50.57\"/>\n",
       "<polygon fill=\"dimgrey\" stroke=\"dimgrey\" points=\"168.63,-50.39 166.88,-45.39 165.13,-50.39 168.63,-50.39\"/>\n",
       "</g>\n",
       "<!-- LK9kPTABS2XK7QTP9yxI -->\n",
       "<g id=\"node4\" class=\"node\">\n",
       "<title>LK9kPTABS2XK7QTP9yxI</title>\n",
       "<path fill=\"gainsboro\" stroke=\"orange\" d=\"M254.88,-270.51C254.88,-270.51 78.88,-270.51 78.88,-270.51 72.88,-270.51 66.88,-264.51 66.88,-258.51 66.88,-258.51 66.88,-246.51 66.88,-246.51 66.88,-240.51 72.88,-234.51 78.88,-234.51 78.88,-234.51 254.88,-234.51 254.88,-234.51 260.88,-234.51 266.88,-240.51 266.88,-246.51 266.88,-246.51 266.88,-258.51 266.88,-258.51 266.88,-264.51 260.88,-270.51 254.88,-270.51\"/>\n",
       "<text text-anchor=\"start\" x=\"74.88\" y=\"-254.31\" font-family=\"Helvetica,sans-Serif\" font-size=\"14.00\">Manage interactive analyses &#160;&#160;</text>\n",
       "<text text-anchor=\"start\" x=\"97.38\" y=\"-243.51\" font-family=\"Monospace\" font-size=\"10.00\" fill=\"GREY\">id=LK9kPTABS2XK7QTP9yxI</text>\n",
       "</g>\n",
       "<!-- LK9kPTABS2XK7QTP9yxI&#45;&gt;NRV4p4OeEcqnMA0T3GC1 -->\n",
       "<g id=\"edge3\" class=\"edge\">\n",
       "<title>LK9kPTABS2XK7QTP9yxI&#45;&gt;NRV4p4OeEcqnMA0T3GC1</title>\n",
       "<path fill=\"none\" stroke=\"dimgrey\" d=\"M166.88,-234.2C166.88,-225.18 166.88,-213.95 166.88,-203.82\"/>\n",
       "<polygon fill=\"dimgrey\" stroke=\"dimgrey\" points=\"168.63,-203.64 166.88,-198.64 165.13,-203.64 168.63,-203.64\"/>\n",
       "</g>\n",
       "</g>\n",
       "</svg>\n"
      ],
      "text/plain": [
       "<graphviz.graphs.Digraph at 0x29d3caeb0>"
      ]
     },
     "execution_count": 29,
     "metadata": {},
     "output_type": "execute_result"
    }
   ],
   "source": [
    "file.view_lineage()"
   ]
  },
  {
   "attachments": {},
   "cell_type": "markdown",
   "metadata": {},
   "source": [
    "Which notebook ingested this file?"
   ]
  },
  {
   "cell_type": "code",
   "execution_count": 28,
   "metadata": {},
   "outputs": [
    {
     "data": {
      "text/plain": [
       "Transform(id=5Q9bT40xl2aa9p, name=subset_to_T_cells_and_liver_lymphoma, stem_id=5Q9bT40xl2aa, version=0.1.0, type=pipeline, updated_at=2023-07-20 12:24:51, created_by_id=DzTjkKse)"
      ]
     },
     "execution_count": 28,
     "metadata": {},
     "output_type": "execute_result"
    }
   ],
   "source": [
    "file_subset.transform"
   ]
  },
  {
   "attachments": {},
   "cell_type": "markdown",
   "metadata": {},
   "source": [
    "Who ingested this file?"
   ]
  },
  {
   "cell_type": "code",
   "execution_count": 30,
   "metadata": {},
   "outputs": [
    {
     "data": {
      "text/plain": [
       "User(id=DzTjkKse, handle=testuser1, email=testuser1@lamin.ai, name=Test User1, updated_at=2023-07-20 12:22:25)"
      ]
     },
     "execution_count": 30,
     "metadata": {},
     "output_type": "execute_result"
    }
   ],
   "source": [
    "file_subset.created_by"
   ]
  },
  {
   "attachments": {},
   "cell_type": "markdown",
   "metadata": {},
   "source": [
    "What are the parent files?"
   ]
  },
  {
   "cell_type": "code",
   "execution_count": 32,
   "metadata": {},
   "outputs": [
    {
     "data": {
      "text/plain": [
       "['mini_anndata_with_obs.h5ad']"
      ]
     },
     "execution_count": 32,
     "metadata": {},
     "output_type": "execute_result"
    }
   ],
   "source": [
    "file_subset.run.input_files.list(\"key\")"
   ]
  },
  {
   "cell_type": "code",
   "execution_count": 33,
   "metadata": {},
   "outputs": [
    {
     "name": "stdout",
     "output_type": "stream",
     "text": [
      "💬 Deleting instance testuser1/analysis-usecase\n",
      "💬     deleted instance settings file: /Users/falexwolf/.lamin/instance--testuser1--analysis-usecase.env\n",
      "✅ Closed instance: testuser1/analysis-usecase\n",
      "💬     instance cache deleted\n",
      "💬     deleted '.lndb' sqlite file\n",
      "💬     manually delete your stored data: /Users/falexwolf/repos/lamin-usecases/docs/usecases/analysis-usecase\n"
     ]
    }
   ],
   "source": [
    "!lamin delete analysis-usecase\n",
    "!rm -r ./analysis-usecase"
   ]
  }
 ],
 "metadata": {
  "citation-manager": {
   "items": {}
  },
  "kernelspec": {
   "display_name": "Python 3 (ipykernel)",
   "language": "python",
   "name": "python3"
  },
  "language_info": {
   "codemirror_mode": {
    "name": "ipython",
    "version": 3
   },
   "file_extension": ".py",
   "mimetype": "text/x-python",
   "name": "python",
   "nbconvert_exporter": "python",
   "pygments_lexer": "ipython3",
   "version": "3.9.16"
  },
  "nbproject": {
   "id": "eNef4Arw8nNM",
   "parent": null,
   "pypackage": null,
   "time_init": "2023-06-05T13:33:30.647656+00:00",
   "user_handle": "sunnyosun",
   "user_id": "kmvZDIX9",
   "user_name": "Sunny Sun",
   "version": "0"
  }
 },
 "nbformat": 4,
 "nbformat_minor": 4
}
