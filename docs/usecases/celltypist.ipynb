{
 "cells": [
  {
   "attachments": {},
   "cell_type": "markdown",
   "metadata": {},
   "source": [
    "# Manage a cell type registry"
   ]
  },
  {
   "attachments": {},
   "cell_type": "markdown",
   "metadata": {},
   "source": [
    "## Background"
   ]
  },
  {
   "attachments": {},
   "cell_type": "markdown",
   "metadata": {},
   "source": [
    "Cell types classify cells based on public and private knowledge gained from studying gene expression patterns, morphology, functional & other properties.\n",
    "\n",
    "Long established cell types have known markers and properties but cell subtypes and states are continuously being discovered, better understood and knowledge gets refined.\n",
    "\n",
    "In this notebook, we use [CellTypist](https://www.celltypist.org), a computational tool for cell type classification in scRNA-seq data. It assigns cell types based on gene expression profiles."
   ]
  },
  {
   "attachments": {},
   "cell_type": "markdown",
   "metadata": {},
   "source": [
    "First, we create a cell type registry for cell types supported by CellTypist.\n",
    "\n",
    "Then, we'll use CellTypist to classify cell types of a previously unannotated dataset and ingest the dataset with LaminDB.\n",
    "\n",
    "Finally, we will demonstrate how to fetch datasets with cell type queries using LaminDB."
   ]
  },
  {
   "attachments": {},
   "cell_type": "markdown",
   "metadata": {},
   "source": [
    "## Setup"
   ]
  },
  {
   "attachments": {},
   "cell_type": "markdown",
   "metadata": {},
   "source": [
    "To run this notebook, you need to load a LaminDB instance that has the `bionty` schema mounted.\n",
    "\n",
    "Here, we'll create a test instance (skip if you'd like to run it using your instance):"
   ]
  },
  {
   "cell_type": "code",
   "execution_count": null,
   "metadata": {
    "tags": [
     "hide-cell"
    ]
   },
   "outputs": [],
   "source": [
    "!lamin init --storage ./celltypist --schema bionty"
   ]
  },
  {
   "cell_type": "code",
   "execution_count": null,
   "metadata": {
    "tags": [
     "hide-cell"
    ]
   },
   "outputs": [],
   "source": [
    "# Filter warnings from celltypist\n",
    "import warnings\n",
    "\n",
    "warnings.filterwarnings(\"ignore\", message=\".*The 'nopython' keyword.*\")"
   ]
  },
  {
   "cell_type": "code",
   "execution_count": 9,
   "metadata": {},
   "outputs": [
    {
     "name": "stdout",
     "output_type": "stream",
     "text": [
      "💬 Loaded \u001b[1;92m1 Species record\u001b[0m that matched \u001b[1;92mname\u001b[0m: human\n",
      "✅ Set species: Species(id=uHJU, name=human, taxon_id=9606, scientific_name=homo_sapiens, updated_at=2023-08-03 15:15:47, bionty_source_id=cVM6, created_by_id=kmvZDIX9)\n"
     ]
    }
   ],
   "source": [
    "import lamindb as ln\n",
    "import lnschema_bionty as lb\n",
    "import celltypist\n",
    "import pandas as pd\n",
    "\n",
    "ln.settings.verbosity = 3  # show hints\n",
    "lb.settings.species = \"human\"  # globally set species"
   ]
  },
  {
   "cell_type": "code",
   "execution_count": 2,
   "metadata": {},
   "outputs": [
    {
     "name": "stdout",
     "output_type": "stream",
     "text": [
      "💬 Notebook imports: celltypist==1.5.1 lamindb==0.49.0 lnschema_bionty==0.28.2 pandas==1.5.3\n",
      "✅ Saved: Transform(id=s5mkN5NQ1ttIz8, name=Manage a cell type registry, short_name=celltypist, stem_id=s5mkN5NQ1ttI, version=0, type=notebook, updated_at=2023-08-03 15:25:12, created_by_id=kmvZDIX9)\n",
      "✅ Saved: Run(id=rbVY9aVXTWFvZLcL7D19, run_at=2023-08-03 15:25:12, transform_id=s5mkN5NQ1ttIz8, created_by_id=kmvZDIX9)\n"
     ]
    }
   ],
   "source": [
    "ln.track()"
   ]
  },
  {
   "attachments": {},
   "cell_type": "markdown",
   "metadata": {},
   "source": [
    "For a start, let's take a look at the public Cell Ontology."
   ]
  },
  {
   "cell_type": "code",
   "execution_count": null,
   "metadata": {},
   "outputs": [],
   "source": [
    "celltype_bt = lb.CellType.bionty()  # equals to bionty.CellType()\n",
    "celltype_bt"
   ]
  },
  {
   "attachments": {},
   "cell_type": "markdown",
   "metadata": {},
   "source": [
    "## Create an in-house registry of CellTypist terms based on the public Cell Ontology"
   ]
  },
  {
   "attachments": {},
   "cell_type": "markdown",
   "metadata": {},
   "source": [
    "### Fetch CellTypist's immune cell encyclopedia"
   ]
  },
  {
   "attachments": {},
   "cell_type": "markdown",
   "metadata": {},
   "source": [
    "As a first step we will read in CellTypist's immune cell encyclopedia"
   ]
  },
  {
   "cell_type": "code",
   "execution_count": null,
   "metadata": {},
   "outputs": [],
   "source": [
    "description = \"CellTypist Pan Immune Atlas v2: basic cell type information\"\n",
    "celltypist_source_v2_url = \"https://github.com/Teichlab/celltypist_wiki/raw/main/atlases/Pan_Immune_CellTypist/v2/tables/Basic_celltype_information.xlsx\"\n",
    "\n",
    "# our source data\n",
    "celltypist_file = ln.File.filter(description=description).one_or_none()\n",
    "\n",
    "if celltypist_file is None:\n",
    "    celltypist_df = pd.read_excel(celltypist_source_v2_url)\n",
    "    celltypist_file = ln.File(celltypist_df).save()\n",
    "else:\n",
    "    celltypist_df = celltypist_file.load().head()"
   ]
  },
  {
   "attachments": {},
   "cell_type": "markdown",
   "metadata": {},
   "source": [
    "It provides an `ontology_id` of the public Cell Ontology for the majority of records."
   ]
  },
  {
   "cell_type": "code",
   "execution_count": null,
   "metadata": {},
   "outputs": [],
   "source": [
    "celltypist_df.head()"
   ]
  },
  {
   "attachments": {},
   "cell_type": "markdown",
   "metadata": {},
   "source": [
    "The \"Cell Ontology ID\" is associated with multiple \"Low-hierarchy cell types\":"
   ]
  },
  {
   "cell_type": "code",
   "execution_count": null,
   "metadata": {},
   "outputs": [],
   "source": [
    "celltypist_df.set_index([\"Cell Ontology ID\", \"Low-hierarchy cell types\"]).head(10)"
   ]
  },
  {
   "attachments": {},
   "cell_type": "markdown",
   "metadata": {},
   "source": [
    "### Inspect mapability with the public Cell Ontology\n",
    "\n",
    "For any cell type record that can be mapped against the public Cell Ontology, we'd like to ensure that it's actually mapped.\n",
    "\n",
    "This will avoid that we'll refer to the same cell type with different identifiers.\n",
    "\n",
    "Let's see how well the Cell Typist reference data can be mapped.\n",
    "\n",
    "All Celltypist labeled ontology IDs are mappable to the public Cell Ontology:"
   ]
  },
  {
   "cell_type": "code",
   "execution_count": null,
   "metadata": {},
   "outputs": [],
   "source": [
    "celltype_bt.inspect(celltypist_df[\"Cell Ontology ID\"], celltype_bt.ontology_id);"
   ]
  },
  {
   "attachments": {},
   "cell_type": "markdown",
   "metadata": {},
   "source": [
    "However, when inspecting the names, most of them don't match:"
   ]
  },
  {
   "cell_type": "code",
   "execution_count": null,
   "metadata": {},
   "outputs": [],
   "source": [
    "celltype_bt.inspect(celltypist_df[\"Low-hierarchy cell types\"], celltype_bt.name);"
   ]
  },
  {
   "attachments": {},
   "cell_type": "markdown",
   "metadata": {},
   "source": [
    "A search tells us that terms that are named in plural in Cell Typist occur with a name in singular in the Cell Ontology: "
   ]
  },
  {
   "cell_type": "code",
   "execution_count": null,
   "metadata": {},
   "outputs": [],
   "source": [
    "celltypist_df[\"Low-hierarchy cell types\"][0]"
   ]
  },
  {
   "cell_type": "code",
   "execution_count": null,
   "metadata": {},
   "outputs": [],
   "source": [
    "celltype_bt.search(celltypist_df[\"Low-hierarchy cell types\"][0]).head()"
   ]
  },
  {
   "attachments": {},
   "cell_type": "markdown",
   "metadata": {},
   "source": [
    "Let's try to strip `\"s\"` and inspect if more names are mappable. Yes, there are!"
   ]
  },
  {
   "cell_type": "code",
   "execution_count": null,
   "metadata": {},
   "outputs": [],
   "source": [
    "celltype_bt.inspect(\n",
    "    [i.rstrip(\"s\") for i in celltypist_df[\"Low-hierarchy cell types\"]],\n",
    "    celltype_bt.name,\n",
    ");"
   ]
  },
  {
   "attachments": {},
   "cell_type": "markdown",
   "metadata": {},
   "source": [
    "Every \"low-hierarchy cell type\" has an ontology id and most \"high-hierarchy cell types\" also appear as \"low-hierarchy cell types\" in the Cell Typist table. Four, however, don't, and therefore don't have an ontology ID."
   ]
  },
  {
   "cell_type": "code",
   "execution_count": null,
   "metadata": {},
   "outputs": [],
   "source": [
    "high_terms = celltypist_df[\"High-hierarchy cell types\"].unique()\n",
    "low_terms = celltypist_df[\"Low-hierarchy cell types\"].unique()\n",
    "\n",
    "high_terms_umapped = set(high_terms).difference(low_terms)\n",
    "high_terms_umapped"
   ]
  },
  {
   "attachments": {},
   "cell_type": "markdown",
   "metadata": {},
   "source": [
    "### Register CellTypist records in LaminDB"
   ]
  },
  {
   "attachments": {},
   "cell_type": "markdown",
   "metadata": {},
   "source": [
    "Let's first add the \"High-hierarchy cell types\" as a column `\"parent\"`.\n",
    "\n",
    "This enables LaminDB to populate the `parents` and `children` fields, which will enable you to query for hierarchical relationships."
   ]
  },
  {
   "cell_type": "code",
   "execution_count": null,
   "metadata": {},
   "outputs": [],
   "source": [
    "celltypist_df[\"parent\"] = celltypist_df.pop(\"High-hierarchy cell types\")\n",
    "\n",
    "# if high and low terms are the same, no parents\n",
    "celltypist_df.loc[\n",
    "    (celltypist_df[\"parent\"] == celltypist_df[\"Low-hierarchy cell types\"]), \"parent\"\n",
    "] = None\n",
    "\n",
    "# rename columns, drop markers\n",
    "celltypist_df.drop(columns=[\"Curated markers\"], inplace=True)\n",
    "celltypist_df.rename(\n",
    "    columns={\"Low-hierarchy cell types\": \"name\", \"Cell Ontology ID\": \"ontology_id\"},\n",
    "    inplace=True,\n",
    ")\n",
    "celltypist_df.columns = celltypist_df.columns.str.lower()"
   ]
  },
  {
   "cell_type": "code",
   "execution_count": null,
   "metadata": {},
   "outputs": [],
   "source": [
    "celltypist_df.head(2)"
   ]
  },
  {
   "attachments": {},
   "cell_type": "markdown",
   "metadata": {},
   "source": [
    "Now, let's create records from the public ontology:"
   ]
  },
  {
   "cell_type": "code",
   "execution_count": null,
   "metadata": {},
   "outputs": [],
   "source": [
    "public_records = lb.CellType.from_values(\n",
    "    celltypist_df.ontology_id, lb.CellType.ontology_id\n",
    ")"
   ]
  },
  {
   "attachments": {},
   "cell_type": "markdown",
   "metadata": {},
   "source": [
    "Let's now amend public ontology records so that they maintain additional annotations that Cell Typist might have."
   ]
  },
  {
   "cell_type": "code",
   "execution_count": null,
   "metadata": {},
   "outputs": [],
   "source": [
    "records_names = {}\n",
    "public_records_dict = {r.ontology_id: r for r in public_records}\n",
    "\n",
    "for _, row in celltypist_df.iterrows():\n",
    "    name = row[\"name\"]\n",
    "    ontology_id = row[\"ontology_id\"]\n",
    "    public_record = public_records_dict[ontology_id]\n",
    "\n",
    "    # if both name and ontology_id match public record, use public record\n",
    "    if name.lower() == public_record.name.lower():\n",
    "        records_names[name] = public_record\n",
    "        continue\n",
    "    else:  # when ontology_id matches the public record and name doesn't match\n",
    "        # if singular form of the Celltypist name matches public name\n",
    "        if name.lower().rstrip(\"s\") == public_record.name.lower():\n",
    "            # add the Celltypist name to the synonyms of the public ontology record\n",
    "            public_record.add_synonym(name)\n",
    "            records_names[name] = public_record\n",
    "            continue\n",
    "        if public_record.synonyms is not None:\n",
    "            synonyms = [s.lower() for s in public_record.synonyms.split(\"|\")]\n",
    "            # if any of the public matches celltypist name\n",
    "            if any(\n",
    "                [\n",
    "                    i.lower() in {name.lower(), name.lower().rstrip(\"s\")}\n",
    "                    for i in synonyms\n",
    "                ]\n",
    "            ):\n",
    "                # add the Celltypist name to the synonyms of the public ontology record\n",
    "                public_record.add_synonym(name)\n",
    "                records_names[name] = public_record\n",
    "                continue\n",
    "\n",
    "        # create a record only based on Celltypist metadata\n",
    "        records_names[name] = lb.CellType(\n",
    "            name=name, ontology_id=ontology_id, description=row.description\n",
    "        )"
   ]
  },
  {
   "attachments": {},
   "cell_type": "markdown",
   "metadata": {},
   "source": [
    "You can see certain records are created by adding the Celltypist name to the synonyms of the public record:"
   ]
  },
  {
   "cell_type": "code",
   "execution_count": null,
   "metadata": {},
   "outputs": [],
   "source": [
    "records_names[\"GMP\"]"
   ]
  },
  {
   "attachments": {},
   "cell_type": "markdown",
   "metadata": {},
   "source": [
    "Other records are created based on Celltypist metadata:"
   ]
  },
  {
   "cell_type": "code",
   "execution_count": null,
   "metadata": {},
   "outputs": [],
   "source": [
    "records_names[\"Age-associated B cells\"]"
   ]
  },
  {
   "attachments": {},
   "cell_type": "markdown",
   "metadata": {},
   "source": [
    "Let's save them to our database:"
   ]
  },
  {
   "cell_type": "code",
   "execution_count": null,
   "metadata": {
    "tags": [
     "hide-output"
    ]
   },
   "outputs": [],
   "source": [
    "records = set(records_names.values())\n",
    "\n",
    "ln.save(records)"
   ]
  },
  {
   "attachments": {},
   "cell_type": "markdown",
   "metadata": {},
   "source": [
    "### Add parent-child relationship of the records from Celltypist"
   ]
  },
  {
   "attachments": {},
   "cell_type": "markdown",
   "metadata": {},
   "source": [
    "We still need to add the renaming 4 High hierarchy terms:"
   ]
  },
  {
   "cell_type": "code",
   "execution_count": null,
   "metadata": {},
   "outputs": [],
   "source": [
    "list(high_terms_umapped)"
   ]
  },
  {
   "attachments": {},
   "cell_type": "markdown",
   "metadata": {},
   "source": [
    "Let's get the top hits from a search:"
   ]
  },
  {
   "cell_type": "code",
   "execution_count": null,
   "metadata": {},
   "outputs": [],
   "source": [
    "for term in list(high_terms_umapped):\n",
    "    print(f\"Term: {term}\")\n",
    "    display(celltype_bt.search(term).head(1))"
   ]
  },
  {
   "attachments": {},
   "cell_type": "markdown",
   "metadata": {},
   "source": [
    "So we decide to:\n",
    "\n",
    "- Add the \"T cells\" to the synonyms of the public \"T cell\" record\n",
    "- Create the remaining 3 terms only using their names (we think \"B cell lineage\" shouldn't be identified with \"B cell\")"
   ]
  },
  {
   "cell_type": "code",
   "execution_count": null,
   "metadata": {},
   "outputs": [],
   "source": [
    "for name in high_terms_umapped:\n",
    "    if name == \"T cells\":\n",
    "        record = lb.CellType.from_bionty(name=\"T cell\")\n",
    "        record.add_synonym(name)\n",
    "        record.save()\n",
    "    else:\n",
    "        record = lb.CellType(name=name)\n",
    "        record.save()\n",
    "    records_names[name] = record"
   ]
  },
  {
   "attachments": {},
   "cell_type": "markdown",
   "metadata": {},
   "source": [
    "Now let's add the parent records:"
   ]
  },
  {
   "cell_type": "code",
   "execution_count": null,
   "metadata": {},
   "outputs": [],
   "source": [
    "for _, row in celltypist_df.iterrows():\n",
    "    record = records_names[row[\"name\"]]\n",
    "    if row[\"parent\"] is not None:\n",
    "        parent_record = records_names[row[\"parent\"]]\n",
    "        record.parents.add(parent_record)"
   ]
  },
  {
   "attachments": {},
   "cell_type": "markdown",
   "metadata": {},
   "source": [
    "## Access the in-house CellType registry"
   ]
  },
  {
   "attachments": {},
   "cell_type": "markdown",
   "metadata": {},
   "source": [
    "The previously added CellTypist ontology registry is now available in LaminDB.\n",
    "To retrieve the full ontology table as a Pandas DataFrame we can use {func}`docs:lamindb.filter`:"
   ]
  },
  {
   "cell_type": "code",
   "execution_count": null,
   "metadata": {},
   "outputs": [],
   "source": [
    "lb.CellType.filter().df()"
   ]
  },
  {
   "attachments": {},
   "cell_type": "markdown",
   "metadata": {},
   "source": [
    "This enables us to look for cell types by creating a lookup object from our new `CellType` registry."
   ]
  },
  {
   "cell_type": "code",
   "execution_count": null,
   "metadata": {},
   "outputs": [],
   "source": [
    "db_lookup = lb.CellType.lookup()"
   ]
  },
  {
   "cell_type": "code",
   "execution_count": null,
   "metadata": {},
   "outputs": [],
   "source": [
    "db_lookup.memory_b_cell"
   ]
  },
  {
   "attachments": {},
   "cell_type": "markdown",
   "metadata": {},
   "source": [
    "Access parents of a record:"
   ]
  },
  {
   "cell_type": "code",
   "execution_count": null,
   "metadata": {},
   "outputs": [],
   "source": [
    "db_lookup.memory_b_cell.parents.all()"
   ]
  },
  {
   "cell_type": "code",
   "execution_count": null,
   "metadata": {},
   "outputs": [],
   "source": [
    "db_lookup.memory_b_cell.parents.all()[1].parents.all()"
   ]
  },
  {
   "attachments": {},
   "cell_type": "markdown",
   "metadata": {
    "tags": []
   },
   "source": [
    "## Annotate a dataset with cell types using CellTypist"
   ]
  },
  {
   "attachments": {},
   "cell_type": "markdown",
   "metadata": {},
   "source": [
    "### Annotate cell types predicted with CellTypist"
   ]
  },
  {
   "attachments": {},
   "cell_type": "markdown",
   "metadata": {},
   "source": [
    "We now demonstrate how simple it is to predict and add cell types to LaminDB with CellTypist.\n",
    "Our dataset of choice is a simple sample dataset together with a sample model."
   ]
  },
  {
   "cell_type": "code",
   "execution_count": 3,
   "metadata": {},
   "outputs": [
    {
     "data": {
      "text/plain": [
       "'/opt/miniconda3/envs/py39/lib/python3.9/site-packages/celltypist/data/samples/sample_cell_by_gene.csv'"
      ]
     },
     "execution_count": 3,
     "metadata": {},
     "output_type": "execute_result"
    }
   ],
   "source": [
    "input_file = celltypist.samples.get_sample_csv()\n",
    "input_file"
   ]
  },
  {
   "cell_type": "code",
   "execution_count": 4,
   "metadata": {},
   "outputs": [
    {
     "name": "stderr",
     "output_type": "stream",
     "text": [
      "📁 Input file is '/opt/miniconda3/envs/py39/lib/python3.9/site-packages/celltypist/data/samples/sample_cell_by_gene.csv'\n",
      "⏳ Loading data\n",
      "🔬 Input data has 559 cells and 32786 genes\n",
      "🔗 Matching reference genes in the model\n",
      "🧬 5313 features used for prediction\n",
      "⚖️ Scaling input data\n",
      "🖋️ Predicting labels\n",
      "✅ Prediction done!\n",
      "👀 Can not detect a neighborhood graph, will construct one before the over-clustering\n",
      "⛓️ Over-clustering input data with resolution set to 5\n",
      "🗳️ Majority voting the predictions\n",
      "✅ Majority voting done!\n"
     ]
    }
   ],
   "source": [
    "predictions = celltypist.annotate(\n",
    "    input_file, model=\"Immune_All_Low.pkl\", majority_voting=True\n",
    ")"
   ]
  },
  {
   "attachments": {},
   "cell_type": "markdown",
   "metadata": {},
   "source": [
    "Now that we've predicted all cell types we create an [Anndata](https://anndata.readthedocs.io/en/latest) object that we will eventually track with LaminDB."
   ]
  },
  {
   "cell_type": "code",
   "execution_count": 5,
   "metadata": {},
   "outputs": [],
   "source": [
    "adata_annotated = predictions.to_adata()"
   ]
  },
  {
   "cell_type": "code",
   "execution_count": 6,
   "metadata": {},
   "outputs": [
    {
     "data": {
      "text/html": [
       "<div>\n",
       "<style scoped>\n",
       "    .dataframe tbody tr th:only-of-type {\n",
       "        vertical-align: middle;\n",
       "    }\n",
       "\n",
       "    .dataframe tbody tr th {\n",
       "        vertical-align: top;\n",
       "    }\n",
       "\n",
       "    .dataframe thead th {\n",
       "        text-align: right;\n",
       "    }\n",
       "</style>\n",
       "<table border=\"1\" class=\"dataframe\">\n",
       "  <thead>\n",
       "    <tr style=\"text-align: right;\">\n",
       "      <th></th>\n",
       "      <th>predicted_labels</th>\n",
       "      <th>over_clustering</th>\n",
       "      <th>majority_voting</th>\n",
       "      <th>conf_score</th>\n",
       "    </tr>\n",
       "  </thead>\n",
       "  <tbody>\n",
       "    <tr>\n",
       "      <th>Cell_1</th>\n",
       "      <td>Intermediate macrophages</td>\n",
       "      <td>3</td>\n",
       "      <td>Age-associated B cells</td>\n",
       "      <td>0.979577</td>\n",
       "    </tr>\n",
       "    <tr>\n",
       "      <th>Cell_2</th>\n",
       "      <td>Trm cytotoxic T cells</td>\n",
       "      <td>3</td>\n",
       "      <td>Age-associated B cells</td>\n",
       "      <td>0.073008</td>\n",
       "    </tr>\n",
       "    <tr>\n",
       "      <th>Cell_3</th>\n",
       "      <td>pDC</td>\n",
       "      <td>13</td>\n",
       "      <td>Macrophages</td>\n",
       "      <td>0.020744</td>\n",
       "    </tr>\n",
       "    <tr>\n",
       "      <th>Cell_4</th>\n",
       "      <td>Follicular B cells</td>\n",
       "      <td>37</td>\n",
       "      <td>Age-associated B cells</td>\n",
       "      <td>0.167273</td>\n",
       "    </tr>\n",
       "    <tr>\n",
       "      <th>Cell_5</th>\n",
       "      <td>Trm cytotoxic T cells</td>\n",
       "      <td>37</td>\n",
       "      <td>Age-associated B cells</td>\n",
       "      <td>0.430877</td>\n",
       "    </tr>\n",
       "    <tr>\n",
       "      <th>...</th>\n",
       "      <td>...</td>\n",
       "      <td>...</td>\n",
       "      <td>...</td>\n",
       "      <td>...</td>\n",
       "    </tr>\n",
       "    <tr>\n",
       "      <th>Cell_555</th>\n",
       "      <td>Alveolar macrophages</td>\n",
       "      <td>4</td>\n",
       "      <td>Alveolar macrophages</td>\n",
       "      <td>0.152075</td>\n",
       "    </tr>\n",
       "    <tr>\n",
       "      <th>Cell_556</th>\n",
       "      <td>Alveolar macrophages</td>\n",
       "      <td>0</td>\n",
       "      <td>Alveolar macrophages</td>\n",
       "      <td>0.901491</td>\n",
       "    </tr>\n",
       "    <tr>\n",
       "      <th>Cell_557</th>\n",
       "      <td>Tcm/Naive helper T cells</td>\n",
       "      <td>4</td>\n",
       "      <td>Alveolar macrophages</td>\n",
       "      <td>0.092006</td>\n",
       "    </tr>\n",
       "    <tr>\n",
       "      <th>Cell_558</th>\n",
       "      <td>Alveolar macrophages</td>\n",
       "      <td>4</td>\n",
       "      <td>Alveolar macrophages</td>\n",
       "      <td>0.747148</td>\n",
       "    </tr>\n",
       "    <tr>\n",
       "      <th>Cell_559</th>\n",
       "      <td>Alveolar macrophages</td>\n",
       "      <td>0</td>\n",
       "      <td>Alveolar macrophages</td>\n",
       "      <td>0.060108</td>\n",
       "    </tr>\n",
       "  </tbody>\n",
       "</table>\n",
       "<p>559 rows × 4 columns</p>\n",
       "</div>"
      ],
      "text/plain": [
       "                  predicted_labels over_clustering         majority_voting  \\\n",
       "Cell_1    Intermediate macrophages               3  Age-associated B cells   \n",
       "Cell_2       Trm cytotoxic T cells               3  Age-associated B cells   \n",
       "Cell_3                         pDC              13             Macrophages   \n",
       "Cell_4          Follicular B cells              37  Age-associated B cells   \n",
       "Cell_5       Trm cytotoxic T cells              37  Age-associated B cells   \n",
       "...                            ...             ...                     ...   \n",
       "Cell_555      Alveolar macrophages               4    Alveolar macrophages   \n",
       "Cell_556      Alveolar macrophages               0    Alveolar macrophages   \n",
       "Cell_557  Tcm/Naive helper T cells               4    Alveolar macrophages   \n",
       "Cell_558      Alveolar macrophages               4    Alveolar macrophages   \n",
       "Cell_559      Alveolar macrophages               0    Alveolar macrophages   \n",
       "\n",
       "          conf_score  \n",
       "Cell_1      0.979577  \n",
       "Cell_2      0.073008  \n",
       "Cell_3      0.020744  \n",
       "Cell_4      0.167273  \n",
       "Cell_5      0.430877  \n",
       "...              ...  \n",
       "Cell_555    0.152075  \n",
       "Cell_556    0.901491  \n",
       "Cell_557    0.092006  \n",
       "Cell_558    0.747148  \n",
       "Cell_559    0.060108  \n",
       "\n",
       "[559 rows x 4 columns]"
      ]
     },
     "execution_count": 6,
     "metadata": {},
     "output_type": "execute_result"
    }
   ],
   "source": [
    "adata_annotated.obs"
   ]
  },
  {
   "attachments": {},
   "cell_type": "markdown",
   "metadata": {},
   "source": [
    "Create cell type records using the \"predicted_labels\" as names:"
   ]
  },
  {
   "cell_type": "code",
   "execution_count": null,
   "metadata": {},
   "outputs": [],
   "source": [
    "celltypes = lb.CellType.from_values(\n",
    "    adata_annotated.obs.predicted_labels, lb.CellType.name\n",
    ")"
   ]
  },
  {
   "cell_type": "code",
   "execution_count": null,
   "metadata": {},
   "outputs": [],
   "source": [
    "celltypes[:2]"
   ]
  },
  {
   "attachments": {},
   "cell_type": "markdown",
   "metadata": {},
   "source": [
    "### Track the annotated dataset in LaminDB"
   ]
  },
  {
   "attachments": {},
   "cell_type": "markdown",
   "metadata": {},
   "source": [
    "Create a file record using {func}`docs:lamindb.File` of the AnnData object.\n",
    "We further define a name of the dataset for clarity that can also be queried for."
   ]
  },
  {
   "cell_type": "code",
   "execution_count": null,
   "metadata": {},
   "outputs": [],
   "source": [
    "file_annotated = ln.File.from_anndata(\n",
    "    adata_annotated, description=\"Examplary CellTypist file\", var_ref=lb.Gene.symbol\n",
    ")"
   ]
  },
  {
   "cell_type": "code",
   "execution_count": null,
   "metadata": {},
   "outputs": [],
   "source": [
    "file_annotated.save()"
   ]
  },
  {
   "attachments": {},
   "cell_type": "markdown",
   "metadata": {},
   "source": [
    "Add cell types as labels:"
   ]
  },
  {
   "cell_type": "code",
   "execution_count": null,
   "metadata": {},
   "outputs": [],
   "source": [
    "file_annotated.features.add_labels(celltypes)"
   ]
  },
  {
   "cell_type": "code",
   "execution_count": null,
   "metadata": {},
   "outputs": [],
   "source": [
    "file_annotated.describe()"
   ]
  },
  {
   "attachments": {},
   "cell_type": "markdown",
   "metadata": {},
   "source": [
    "Now we can track the file and search for it for usecase by querying for a specific cell type."
   ]
  },
  {
   "cell_type": "code",
   "execution_count": null,
   "metadata": {},
   "outputs": [],
   "source": [
    "ln.File.filter(cell_types=db_lookup.tcm_naive_helper_t_cells).df()"
   ]
  },
  {
   "attachments": {},
   "cell_type": "markdown",
   "metadata": {},
   "source": [
    "Or track in which notebook the file is annotated by celltypist:"
   ]
  },
  {
   "cell_type": "code",
   "execution_count": null,
   "metadata": {},
   "outputs": [],
   "source": [
    "ln.Transform.filter(files__description__icontains=\"CellTypist\").df()"
   ]
  },
  {
   "attachments": {},
   "cell_type": "markdown",
   "metadata": {},
   "source": [
    "## Try it yourself"
   ]
  },
  {
   "attachments": {},
   "cell_type": "markdown",
   "metadata": {},
   "source": [
    "This notebook is available at [https://github.com/laminlabs/lamin-usecases](https://github.com/laminlabs/lamin-usecases)."
   ]
  },
  {
   "cell_type": "code",
   "execution_count": null,
   "metadata": {
    "tags": [
     "hide-cell"
    ]
   },
   "outputs": [],
   "source": [
    "!lamin delete celltypist\n",
    "!rm -r ./celltypist"
   ]
  }
 ],
 "metadata": {
  "citation-manager": {
   "items": {}
  },
  "kernelspec": {
   "display_name": "Python 3 (ipykernel)",
   "language": "python",
   "name": "python3"
  },
  "language_info": {
   "codemirror_mode": {
    "name": "ipython",
    "version": 3
   },
   "file_extension": ".py",
   "mimetype": "text/x-python",
   "name": "python",
   "nbconvert_exporter": "python",
   "pygments_lexer": "ipython3",
   "version": "3.9.16"
  },
  "nbproject": {
   "id": "s5mkN5NQ1ttI",
   "parent": null,
   "pypackage": null,
   "time_init": "2023-05-29T10:25:04.851133+00:00",
   "user_handle": "sunnyosun",
   "user_id": "kmvZDIX9",
   "user_name": "Sunny Sun",
   "version": "0"
  }
 },
 "nbformat": 4,
 "nbformat_minor": 4
}
