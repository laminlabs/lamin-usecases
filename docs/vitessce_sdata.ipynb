{
 "cells": [
  {
   "cell_type": "markdown",
   "metadata": {},
   "source": [
    "[![Jupyter Notebook](https://img.shields.io/badge/Source%20on%20GitHub-orange)](https://github.com/laminlabs/lamin-usecases/blob/main/docs/spatial4.ipynb)\n"
   ]
  },
  {
   "cell_type": "markdown",
   "metadata": {},
   "source": [
    "# Interactive visualization using Vitessce"
   ]
  },
  {
   "cell_type": "code",
   "execution_count": null,
   "metadata": {},
   "outputs": [],
   "source": [
    "!lamin connect laminlabs/lamindata"
   ]
  },
  {
   "cell_type": "code",
   "execution_count": null,
   "metadata": {},
   "outputs": [],
   "source": [
    "import vitessce as vit\n",
    "from vitessce import data_utils as vitdu\n",
    "import lamindb as ln\n",
    "import json\n",
    "\n",
    "ln.track(\"O3BqO4LsJmxI0005\")"
   ]
  },
  {
   "cell_type": "markdown",
   "metadata": {},
   "source": [
    "### Create a VitessceConfig object for Xenium "
   ]
  },
  {
   "cell_type": "code",
   "execution_count": null,
   "metadata": {},
   "outputs": [],
   "source": [
    "xenium_aligned_1_sdata = ln.Artifact.get(key=\"xenium_aligned_1_guide_min.zarr\").load()\n",
    "xenium_aligned_1_sdata"
   ]
  },
  {
   "cell_type": "code",
   "execution_count": null,
   "metadata": {},
   "outputs": [],
   "source": [
    "adata = xenium_aligned_1_sdata[\"table\"]\n",
    "h5ad_processed_filepath = \"./xenium_aligned_1_guide_mi_table.h5ad\"\n",
    "adata.write_h5ad(h5ad_processed_filepath)"
   ]
  },
  {
   "cell_type": "code",
   "execution_count": null,
   "metadata": {},
   "outputs": [],
   "source": [
    "ref_spec = vitdu.generate_h5ad_ref_spec(h5ad_processed_filepath)"
   ]
  },
  {
   "cell_type": "code",
   "execution_count": null,
   "metadata": {},
   "outputs": [],
   "source": [
    "ref_path = \"./xenium_aligned_1_guide_min.reference.json\"\n",
    "\n",
    "with open(ref_path, \"w\") as file:\n",
    "    json.dump(ref_spec, file)"
   ]
  },
  {
   "cell_type": "code",
   "execution_count": null,
   "metadata": {},
   "outputs": [],
   "source": [
    "ref_artifact = ln.Artifact(\n",
    "    ref_path,\n",
    "    key=\"vitessce_examples/xenium_aligned_1_guide_min.reference.json\",\n",
    "    description=\"Reference JSON for xenium_aligned_1_guide_min\",\n",
    ").save()"
   ]
  },
  {
   "cell_type": "code",
   "execution_count": null,
   "metadata": {},
   "outputs": [],
   "source": [
    "ref_artifact._branch_code = 0"
   ]
  },
  {
   "cell_type": "code",
   "execution_count": null,
   "metadata": {},
   "outputs": [],
   "source": [
    "vc = vit.VitessceConfig(\n",
    "    schema_version=\"1.0.17\",\n",
    "    description=\"Xenium Aligned 1 Guide Min\",\n",
    ")"
   ]
  },
  {
   "cell_type": "code",
   "execution_count": null,
   "metadata": {},
   "outputs": [],
   "source": [
    "dataset_uid = \"sdata_xenium\"\n",
    "\n",
    "dataset = vc.add_dataset(name=\"Xenium Aligned 1 Guide Min\").add_object(\n",
    "    vit.SpatialDataWrapper(\n",
    "        sdata_artifact=ln.Artifact.get(key=\"xenium_aligned_1_guide_min.zarr\"),\n",
    "        ref_spec=ref_spec,\n",
    "        image_path=\"images/morphology_focus\",\n",
    "        table_path=\"tables/table\",\n",
    "        obs_feature_matrix_path=\"tables/table/X\",\n",
    "        obs_spots_path=\"shapes/cell_circles\",\n",
    "        coordinate_system=\"global\",\n",
    "    )\n",
    ")"
   ]
  },
  {
   "cell_type": "code",
   "execution_count": null,
   "metadata": {},
   "outputs": [],
   "source": [
    "# Create views\n",
    "spatial = vc.add_view(vit.ViewType.SPATIAL, dataset=dataset)\n",
    "feature_list = vc.add_view(vit.ViewType.FEATURE_LIST, dataset=dataset)\n",
    "layer_controller = vc.add_view(vit.ViewType.LAYER_CONTROLLER, dataset=dataset)\n",
    "\n",
    "# Initialize visual properties for multiple linked views:\n",
    "vc.link_views_by_dict(\n",
    "    [spatial, layer_controller],\n",
    "    {\n",
    "        \"imageLayer\": vit.CoordinationLevel(\n",
    "            [\n",
    "                {\n",
    "                    \"photometricInterpretation\": \"RGB\",\n",
    "                }\n",
    "            ]\n",
    "        ),\n",
    "    },\n",
    "    scope_prefix=vit.get_initial_coordination_scope_prefix(dataset_uid, \"image\"),\n",
    ")\n",
    "\n",
    "vc.link_views([spatial, layer_controller, feature_list], [\"obsHighlight\"])\n",
    "\n",
    "# Layout the views\n",
    "vc.layout(spatial | (feature_list / layer_controller))"
   ]
  },
  {
   "cell_type": "code",
   "execution_count": null,
   "metadata": {},
   "outputs": [],
   "source": [
    "description_xenium_aligned_1_sdata = \"View xenium_aligned_1_sdata in Vitessce\"\n",
    "\n",
    "h5ad_vc_artifact = ln.integrations.save_vitessce_config(\n",
    "    vc,\n",
    "    description=description_xenium_aligned_1_sdata,\n",
    ")"
   ]
  },
  {
   "cell_type": "code",
   "execution_count": null,
   "metadata": {},
   "outputs": [],
   "source": [
    "ln.finish()"
   ]
  }
 ],
 "metadata": {
  "kernelspec": {
   "display_name": "lamindb",
   "language": "python",
   "name": "lamindb"
  },
  "language_info": {
   "codemirror_mode": {
    "name": "ipython",
    "version": 3
   },
   "file_extension": ".py",
   "mimetype": "text/x-python",
   "name": "python",
   "nbconvert_exporter": "python",
   "pygments_lexer": "ipython3",
   "version": "3.12.9"
  },
  "nbproject": {
   "dependency": null,
   "id": "daeFs3PkquDW",
   "time_init": "2022-07-12T17:54:02.478333+00:00",
   "version": "draft"
  }
 },
 "nbformat": 4,
 "nbformat_minor": 2
}
