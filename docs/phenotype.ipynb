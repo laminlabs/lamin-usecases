{
 "cells": [
  {
   "cell_type": "markdown",
   "id": "74145889",
   "metadata": {},
   "source": [
    "# Phenotype"
   ]
  },
  {
   "cell_type": "markdown",
   "id": "88850f02",
   "metadata": {},
   "source": [
    "lamindb provides access to the following public protein ontologies through [bionty](https://lamin.ai/docs/bionty):\n",
    "\n",
    "1. [Human Phenotype](https://hpo.jax.org/app)\n",
    "2. [Phecodes](https://phewascatalog.org/phecodes_icd10)\n",
    "3. [PATO](https://github.com/pato-ontology/pato)\n",
    "4. [Mammalian Phenotype](http://obofoundry.org/ontology/mp.html)\n",
    "\n",
    "Here we show how to access and search Phenotype ontologies to standardize new data."
   ]
  },
  {
   "cell_type": "code",
   "execution_count": null,
   "id": "d7736af4",
   "metadata": {},
   "outputs": [],
   "source": [
    "import bionty as bt\n",
    "import pandas as pd"
   ]
  },
  {
   "cell_type": "markdown",
   "id": "ae531737",
   "metadata": {},
   "source": [
    "## PublicOntology objects"
   ]
  },
  {
   "cell_type": "markdown",
   "id": "6e20775e",
   "metadata": {},
   "source": [
    "Let us create a public ontology accessor with `.public` method, which chooses a default public ontology source from {class}`~docs:bionty.PublicSource`.\n",
    "It's a [PublicOntology](https://lamin.ai/docs/bionty.dev.publicontology) object, which you can think about as a public registry:"
   ]
  },
  {
   "cell_type": "code",
   "execution_count": null,
   "id": "ebe76001",
   "metadata": {},
   "outputs": [],
   "source": [
    "phenotypes = bt.Phenotype.public(organism=\"human\")\n",
    "phenotypes"
   ]
  },
  {
   "cell_type": "markdown",
   "id": "100cc905",
   "metadata": {},
   "source": [
    "As for registries, you can export the ontology as a `DataFrame`:"
   ]
  },
  {
   "cell_type": "code",
   "execution_count": null,
   "id": "b9b3bc4b",
   "metadata": {},
   "outputs": [],
   "source": [
    "df = phenotypes.df()\n",
    "df.head()"
   ]
  },
  {
   "cell_type": "markdown",
   "id": "2fe748bd",
   "metadata": {},
   "source": [
    "Unlike registries, you can also export it as a Pronto object via `public.ontology`."
   ]
  },
  {
   "cell_type": "markdown",
   "id": "89ff0c23",
   "metadata": {},
   "source": [
    "## Look up terms"
   ]
  },
  {
   "cell_type": "markdown",
   "id": "98b546f6",
   "metadata": {},
   "source": [
    "As for registries, terms can be looked up with auto-complete:"
   ]
  },
  {
   "cell_type": "code",
   "execution_count": null,
   "id": "505c7127",
   "metadata": {},
   "outputs": [],
   "source": [
    "lookup = phenotypes.lookup()"
   ]
  },
  {
   "cell_type": "markdown",
   "id": "0624b916",
   "metadata": {},
   "source": [
    "The `.` accessor provides normalized terms (lower case, only contains alphanumeric characters and underscores):"
   ]
  },
  {
   "cell_type": "code",
   "execution_count": null,
   "id": "5d0f9dad",
   "metadata": {},
   "outputs": [],
   "source": [
    "lookup.eeg_with_persistent_abnormal_rhythmic_activity"
   ]
  },
  {
   "cell_type": "markdown",
   "id": "53c5696c",
   "metadata": {},
   "source": [
    "To look up the exact original strings, convert the lookup object to dict and use the `[]` accessor:"
   ]
  },
  {
   "cell_type": "code",
   "execution_count": null,
   "id": "29e540be",
   "metadata": {},
   "outputs": [],
   "source": [
    "lookup_dict = lookup.dict()\n",
    "lookup_dict[\"EEG with persistent abnormal rhythmic activity\"]"
   ]
  },
  {
   "cell_type": "markdown",
   "id": "50612bc1",
   "metadata": {},
   "source": [
    "By default, the `name` field is used to generate lookup keys. You can specify another field to look up:"
   ]
  },
  {
   "cell_type": "code",
   "execution_count": null,
   "id": "f9c6cf6e",
   "metadata": {},
   "outputs": [],
   "source": [
    "lookup = phenotypes.lookup(phenotypes.ontology_id)"
   ]
  },
  {
   "cell_type": "code",
   "execution_count": null,
   "id": "66cf00e0",
   "metadata": {},
   "outputs": [],
   "source": [
    "lookup.hp_0000003"
   ]
  },
  {
   "cell_type": "markdown",
   "id": "6b07fbe3",
   "metadata": {},
   "source": [
    "## Search terms"
   ]
  },
  {
   "cell_type": "markdown",
   "id": "e12ef0da",
   "metadata": {},
   "source": [
    "Search behaves in the same way as it does for registries:"
   ]
  },
  {
   "cell_type": "code",
   "execution_count": null,
   "id": "08507d33",
   "metadata": {},
   "outputs": [],
   "source": [
    "phenotypes.search(\"dysplasia\").head(3)"
   ]
  },
  {
   "cell_type": "markdown",
   "id": "a454ca28",
   "metadata": {},
   "source": [
    "By default, search also covers synonyms:"
   ]
  },
  {
   "cell_type": "code",
   "execution_count": null,
   "id": "f44c45bc",
   "metadata": {},
   "outputs": [],
   "source": [
    "phenotypes.search(\"Congenital hip dysplasia\").head(3)"
   ]
  },
  {
   "cell_type": "markdown",
   "id": "fcb18746",
   "metadata": {},
   "source": [
    "You can turn this off synonym by passing `synonyms_field=None`:"
   ]
  },
  {
   "cell_type": "code",
   "execution_count": null,
   "id": "9c4d7a91",
   "metadata": {},
   "outputs": [],
   "source": [
    "phenotypes.search(\"Congenital hip dysplasia\", synonyms_field=None).head(3)"
   ]
  },
  {
   "cell_type": "markdown",
   "id": "d97e54a5",
   "metadata": {},
   "source": [
    "Search another field (default is `.name`):"
   ]
  },
  {
   "cell_type": "code",
   "execution_count": null,
   "id": "b07071eb",
   "metadata": {},
   "outputs": [],
   "source": [
    "phenotypes.search(\n",
    "    \"lack of development of speech and language\",\n",
    "    field=phenotypes.definition,\n",
    ").head()"
   ]
  },
  {
   "cell_type": "markdown",
   "id": "0518f6e2",
   "metadata": {},
   "source": [
    "## Standardize Phenotype identifiers"
   ]
  },
  {
   "cell_type": "markdown",
   "id": "c60d2ca3",
   "metadata": {},
   "source": [
    "Let us generate a `DataFrame` that stores a number of Phenotype identifiers, some of which corrupted:"
   ]
  },
  {
   "cell_type": "code",
   "execution_count": null,
   "id": "192bb77c",
   "metadata": {},
   "outputs": [],
   "source": [
    "df_orig = pd.DataFrame(\n",
    "    index=[\n",
    "        \"Specific learning disability\",\n",
    "        \"Dystonia\",\n",
    "        \"Cerebral hemorrhage\",\n",
    "        \"Slurred speech\",\n",
    "        \"This phenotype does not exist\",\n",
    "    ]\n",
    ")\n",
    "df_orig"
   ]
  },
  {
   "cell_type": "markdown",
   "id": "16e6b116",
   "metadata": {},
   "source": [
    "We can check whether any of our values are validated against the ontology reference:"
   ]
  },
  {
   "cell_type": "code",
   "execution_count": null,
   "id": "3604e9af",
   "metadata": {},
   "outputs": [],
   "source": [
    "validated = phenotypes.validate(df_orig.index, phenotypes.name)\n",
    "df_orig.index[~validated]"
   ]
  },
  {
   "cell_type": "markdown",
   "id": "e47b150b",
   "metadata": {},
   "source": [
    "## Ontology source versions"
   ]
  },
  {
   "cell_type": "markdown",
   "id": "037d6653",
   "metadata": {},
   "source": [
    "For any given entity, we can choose from a number of versions:"
   ]
  },
  {
   "cell_type": "code",
   "execution_count": null,
   "id": "ec14f2a8",
   "metadata": {},
   "outputs": [],
   "source": [
    "bt.PublicSource.filter(entity=\"Phenotype\").df()"
   ]
  },
  {
   "cell_type": "markdown",
   "id": "5d1619c6",
   "metadata": {},
   "source": [
    "When instantiating a Bionty object, we can choose a source or version:"
   ]
  },
  {
   "cell_type": "code",
   "execution_count": null,
   "id": "a6dacb66",
   "metadata": {
    "lines_to_next_cell": 0
   },
   "outputs": [],
   "source": [
    "public_source = bt.PublicSource.filter(\n",
    "    source=\"hp\", version=\"2023-06-17\", organism=\"human\"\n",
    ").one()\n",
    "phenotypes= bt.Phenotype.public(public_source=public_source)\n",
    "phenotypes"
   ]
  },
  {
   "cell_type": "markdown",
   "id": "ed74aef5",
   "metadata": {},
   "source": [
    "The currently used ontologies can be displayed using:"
   ]
  },
  {
   "cell_type": "code",
   "execution_count": null,
   "id": "3589dd67",
   "metadata": {
    "tags": [
     "hide-output"
    ]
   },
   "outputs": [],
   "source": [
    "bt.PublicSource.filter(currently_used=True).df()"
   ]
  }
 ],
 "metadata": {
  "kernelspec": {
   "display_name": "lamindb",
   "language": "python",
   "name": "python3"
  }
 },
 "nbformat": 4,
 "nbformat_minor": 5
}
