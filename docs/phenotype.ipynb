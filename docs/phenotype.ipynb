{
 "cells": [
  {
   "cell_type": "markdown",
   "id": "e55f702a",
   "metadata": {},
   "source": [
    "# Phenotype"
   ]
  },
  {
   "cell_type": "markdown",
   "id": "47f5fab7",
   "metadata": {},
   "source": [
    "lamindb provides access to the following public protein ontologies through [lnschema-bionty](https://github.com/laminlabs/lnschema-bionty):\n",
    "\n",
    "1. [Human Phenotype](https://hpo.jax.org/app)\n",
    "2. [Phecodes](https://phewascatalog.org/phecodes_icd10)\n",
    "3. [PATO](https://github.com/pato-ontology/pato)\n",
    "4. [Mammalian Phenotype](http://obofoundry.org/ontology/mp.html)\n",
    "\n",
    "Here we show how to access and search Phenotype ontologies to standardize new data."
   ]
  },
  {
   "cell_type": "markdown",
   "id": "31559cc1",
   "metadata": {},
   "source": [
    "## Setup"
   ]
  },
  {
   "cell_type": "code",
   "execution_count": null,
   "id": "d1270268",
   "metadata": {},
   "outputs": [],
   "source": [
    "!lamin init --storage ./test-phenotype --schema bionty"
   ]
  },
  {
   "cell_type": "code",
   "execution_count": null,
   "id": "2f1be334",
   "metadata": {},
   "outputs": [],
   "source": [
    "import lnschema_bionty as lb\n",
    "import pandas as pd"
   ]
  },
  {
   "cell_type": "markdown",
   "id": "ce0a3a1a",
   "metadata": {},
   "source": [
    "## PublicOntology objects"
   ]
  },
  {
   "cell_type": "markdown",
   "id": "7d579fc9",
   "metadata": {},
   "source": [
    "Let us create a public ontology accessor with {meth}`~docs:lnschema_bionty.dev.BioRegistry.public`, which chooses a default public ontology source from {class}`~docs:lnschema_bionty.PublicSource`.\n",
    "It's a [PublicOntology](https://lamin.ai/docs/lnschema_bionty.dev.publicontology) object, which you can think about as a public registry:"
   ]
  },
  {
   "cell_type": "code",
   "execution_count": null,
   "id": "05a65676",
   "metadata": {},
   "outputs": [],
   "source": [
    "phenotypes = lb.Phenotype.public(organism=\"human\")\n",
    "phenotypes"
   ]
  },
  {
   "cell_type": "markdown",
   "id": "8f750b95",
   "metadata": {},
   "source": [
    "As for registries, you can export the ontology as a `DataFrame`:"
   ]
  },
  {
   "cell_type": "code",
   "execution_count": null,
   "id": "cce66eaf",
   "metadata": {},
   "outputs": [],
   "source": [
    "df = phenotypes.df()\n",
    "df.head()"
   ]
  },
  {
   "cell_type": "markdown",
   "id": "39822195",
   "metadata": {},
   "source": [
    "Unlike registries, you can also export it as a Pronto object via `public.ontology`."
   ]
  },
  {
   "cell_type": "markdown",
   "id": "ca911b70",
   "metadata": {},
   "source": [
    "## Look up terms"
   ]
  },
  {
   "cell_type": "markdown",
   "id": "971761a2",
   "metadata": {},
   "source": [
    "As for registries, terms can be looked up with auto-complete:"
   ]
  },
  {
   "cell_type": "code",
   "execution_count": null,
   "id": "8a2deb7d",
   "metadata": {},
   "outputs": [],
   "source": [
    "lookup = phenotypes.lookup()"
   ]
  },
  {
   "cell_type": "markdown",
   "id": "fddeb84d",
   "metadata": {},
   "source": [
    "The `.` accessor provides normalized terms (lower case, only contains alphanumeric characters and underscores):"
   ]
  },
  {
   "cell_type": "code",
   "execution_count": null,
   "id": "cb386989",
   "metadata": {},
   "outputs": [],
   "source": [
    "lookup.eeg_with_persistent_abnormal_rhythmic_activity"
   ]
  },
  {
   "cell_type": "markdown",
   "id": "efe2a612",
   "metadata": {},
   "source": [
    "To look up the exact original strings, convert the lookup object to dict and use the `[]` accessor:"
   ]
  },
  {
   "cell_type": "code",
   "execution_count": null,
   "id": "915bb629",
   "metadata": {},
   "outputs": [],
   "source": [
    "lookup_dict = lookup.dict()\n",
    "lookup_dict[\"EEG with persistent abnormal rhythmic activity\"]"
   ]
  },
  {
   "cell_type": "markdown",
   "id": "7793c1b5",
   "metadata": {},
   "source": [
    "By default, the `name` field is used to generate lookup keys. You can specify another field to look up:"
   ]
  },
  {
   "cell_type": "code",
   "execution_count": null,
   "id": "bc746a41",
   "metadata": {},
   "outputs": [],
   "source": [
    "lookup = phenotypes.lookup(phenotypes.ontology_id)"
   ]
  },
  {
   "cell_type": "code",
   "execution_count": null,
   "id": "90515224",
   "metadata": {},
   "outputs": [],
   "source": [
    "lookup.hp_0000003"
   ]
  },
  {
   "cell_type": "markdown",
   "id": "684bd819",
   "metadata": {},
   "source": [
    "## Search terms"
   ]
  },
  {
   "cell_type": "markdown",
   "id": "eca6cf3a",
   "metadata": {},
   "source": [
    "Search behaves in the same way as it does for registries:"
   ]
  },
  {
   "cell_type": "code",
   "execution_count": null,
   "id": "83875cea",
   "metadata": {},
   "outputs": [],
   "source": [
    "phenotypes.search(\"dysplasia\").head(3)"
   ]
  },
  {
   "cell_type": "markdown",
   "id": "6a12d111",
   "metadata": {},
   "source": [
    "By default, search also covers synonyms:"
   ]
  },
  {
   "cell_type": "code",
   "execution_count": null,
   "id": "51ccdbc5",
   "metadata": {},
   "outputs": [],
   "source": [
    "phenotypes.search(\"Congenital hip dysplasia\").head(3)"
   ]
  },
  {
   "cell_type": "markdown",
   "id": "2b333eb8",
   "metadata": {},
   "source": [
    "You can turn this off synonym by passing `synonyms_field=None`:"
   ]
  },
  {
   "cell_type": "code",
   "execution_count": null,
   "id": "faf2348b",
   "metadata": {},
   "outputs": [],
   "source": [
    "phenotypes.search(\"Congenital hip dysplasia\", synonyms_field=None).head(3)"
   ]
  },
  {
   "cell_type": "markdown",
   "id": "38aec542",
   "metadata": {},
   "source": [
    "Search another field (default is `.name`):"
   ]
  },
  {
   "cell_type": "code",
   "execution_count": null,
   "id": "b63dfd22",
   "metadata": {},
   "outputs": [],
   "source": [
    "phenotypes.search(\n",
    "    \"lack of development of speech and language\",\n",
    "    field=phenotypes.definition,\n",
    ").head()"
   ]
  },
  {
   "cell_type": "markdown",
   "id": "5c956293",
   "metadata": {},
   "source": [
    "## Standardize Phenotype identifiers"
   ]
  },
  {
   "cell_type": "markdown",
   "id": "1a705375",
   "metadata": {},
   "source": [
    "Let us generate a `DataFrame` that stores a number of Phenotype identifiers, some of which corrupted:"
   ]
  },
  {
   "cell_type": "code",
   "execution_count": null,
   "id": "54102d26",
   "metadata": {},
   "outputs": [],
   "source": [
    "df_orig = pd.DataFrame(\n",
    "    index=[\n",
    "        \"Specific learning disability\"\n",
    "        \"Dystonia\"\n",
    "        \"Cerebral hemorrhage\"\n",
    "        \"Slurred speech\"\n",
    "        \"This phenotype does not exist\",\n",
    "    ]\n",
    ")\n",
    "df_orig"
   ]
  },
  {
   "cell_type": "markdown",
   "id": "e858cfe9",
   "metadata": {},
   "source": [
    "We can check whether any of our values are validated against the ontology reference:"
   ]
  },
  {
   "cell_type": "code",
   "execution_count": null,
   "id": "13274a91",
   "metadata": {},
   "outputs": [],
   "source": [
    "validated = phenotypes.validate(df_orig.index, phenotypes.name)\n",
    "df_orig.index[~validated]"
   ]
  },
  {
   "cell_type": "markdown",
   "id": "02ccaa2f",
   "metadata": {},
   "source": [
    "## Ontology source versions"
   ]
  },
  {
   "cell_type": "markdown",
   "id": "55104a31",
   "metadata": {},
   "source": [
    "For any given entity, we can choose from a number of versions:"
   ]
  },
  {
   "cell_type": "code",
   "execution_count": null,
   "id": "94540cdf",
   "metadata": {},
   "outputs": [],
   "source": [
    "lb.PublicSource.filter(entity=\"Phenotype\").df()"
   ]
  },
  {
   "cell_type": "markdown",
   "id": "713e98b7",
   "metadata": {},
   "source": [
    "When instantiating a Bionty object, we can choose a source or version:"
   ]
  },
  {
   "cell_type": "code",
   "execution_count": null,
   "id": "0398645c",
   "metadata": {
    "lines_to_next_cell": 0
   },
   "outputs": [],
   "source": [
    "public_source = lb.PublicSource.filter(\n",
    "    source=\"hp\", version=\"2023-06-17\", organism=\"human\"\n",
    ").one()\n",
    "phenotypes= lb.Phenotype.public(public_source=public_source)\n",
    "phenotypes"
   ]
  },
  {
   "cell_type": "markdown",
   "id": "186a1bf1",
   "metadata": {},
   "source": [
    "The currently used ontologies can be displayed using:"
   ]
  },
  {
   "cell_type": "code",
   "execution_count": null,
   "id": "1be9f2c7",
   "metadata": {
    "tags": [
     "hide-output"
    ]
   },
   "outputs": [],
   "source": [
    "lb.PublicSource.filter(currently_used=True).df()"
   ]
  },
  {
   "cell_type": "code",
   "execution_count": null,
   "id": "4a249b21",
   "metadata": {
    "tags": [
     "hide-cell"
    ]
   },
   "outputs": [],
   "source": [
    "!lamin delete --force test-phenotype\n",
    "!rm -r test-phenotype"
   ]
  }
 ],
 "metadata": {
  "kernelspec": {
   "display_name": "lamindb",
   "language": "python",
   "name": "python3"
  }
 },
 "nbformat": 4,
 "nbformat_minor": 5
}
