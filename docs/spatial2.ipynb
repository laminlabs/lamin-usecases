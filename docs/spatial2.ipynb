{
 "cells": [
  {
   "cell_type": "markdown",
   "metadata": {},
   "source": [
    "[![Jupyter Notebook](https://img.shields.io/badge/Source%20on%20GitHub-orange)](https://github.com/laminlabs/lamin-usecases/blob/main/docs/spatial2.ipynb)\n"
   ]
  },
  {
   "cell_type": "markdown",
   "metadata": {},
   "source": [
    "# Query and analyze spatial data"
   ]
  },
  {
   "cell_type": "markdown",
   "metadata": {},
   "source": [
    "After having created a SpatialData collection, we briefly discuss how to query and analyze spatial data."
   ]
  },
  {
   "cell_type": "code",
   "execution_count": null,
   "metadata": {
    "tags": [
     "hide-output"
    ]
   },
   "outputs": [],
   "source": [
    "import lamindb as ln\n",
    "import bionty as bt\n",
    "import squidpy as sq\n",
    "import scanpy as sc\n",
    "import spatialdata_plot\n",
    "import warnings\n",
    "\n",
    "warnings.filterwarnings(\"ignore\")\n",
    "\n",
    "ln.track(project=\"spatial guide datasets\")"
   ]
  },
  {
   "cell_type": "markdown",
   "metadata": {},
   "source": [
    "## Query a SpatialData Collection"
   ]
  },
  {
   "cell_type": "markdown",
   "metadata": {},
   "source": [
    "### By provenance metadata"
   ]
  },
  {
   "cell_type": "markdown",
   "metadata": {},
   "source": [
    "Query the transform, e.g., by key:"
   ]
  },
  {
   "cell_type": "code",
   "execution_count": null,
   "metadata": {
    "tags": [
     "hide-output"
    ]
   },
   "outputs": [],
   "source": [
    "transform = ln.Transform.get(key=\"spatial.ipynb\")\n",
    "transform"
   ]
  },
  {
   "cell_type": "markdown",
   "metadata": {},
   "source": [
    "Query the artifact:"
   ]
  },
  {
   "cell_type": "code",
   "execution_count": null,
   "metadata": {
    "tags": [
     "hide-output"
    ]
   },
   "outputs": [],
   "source": [
    "ln.Artifact.filter(transform=transform).df()"
   ]
  },
  {
   "cell_type": "markdown",
   "metadata": {},
   "source": [
    "## By biological metadata"
   ]
  },
  {
   "cell_type": "markdown",
   "metadata": {},
   "source": [
    "Spatial data stored in SpatialData format and curated with the {class}`~lamindb.curators.SpatialDataCurator` can easily be queried by the annotated features and labels.\n",
    "Although, we curated specific slots of SpatialData Artifacts, the labels are attached directly to the Artifact:"
   ]
  },
  {
   "cell_type": "code",
   "execution_count": null,
   "metadata": {
    "tags": [
     "hide-output"
    ]
   },
   "outputs": [],
   "source": [
    "experimental_factors = bt.ExperimentalFactor.lookup()\n",
    "\n",
    "# 10x xenium has a ln_ prefix because Python does not support numbers as attributes\n",
    "all_xenium_data = ln.Artifact.filter(\n",
    "    experimental_factors__name=experimental_factors.ln_10x_xenium\n",
    ")\n",
    "all_xenium_data.df()"
   ]
  },
  {
   "cell_type": "markdown",
   "metadata": {},
   "source": [
    "### Inspect artifact metadata"
   ]
  },
  {
   "cell_type": "markdown",
   "metadata": {},
   "source": [
    "Query all artifacts that measured the “celltype_major” feature:"
   ]
  },
  {
   "cell_type": "code",
   "execution_count": null,
   "metadata": {
    "tags": [
     "hide-output"
    ]
   },
   "outputs": [],
   "source": [
    "# Only returns the Xenium datasets as the Visium dataset did not have annotated cell types\n",
    "query_set = ln.Artifact.filter(feature_sets__features__name=\"celltype_major\").all()\n",
    "xenium_1_af, xenium_2_af = query_set[0], query_set[1]"
   ]
  },
  {
   "cell_type": "code",
   "execution_count": null,
   "metadata": {
    "tags": [
     "hide-output"
    ]
   },
   "outputs": [],
   "source": [
    "xenium_1_af.describe()"
   ]
  },
  {
   "cell_type": "code",
   "execution_count": null,
   "metadata": {
    "tags": [
     "hide-output"
    ]
   },
   "outputs": [],
   "source": [
    "xenium_1_af.view_lineage()"
   ]
  },
  {
   "cell_type": "code",
   "execution_count": null,
   "metadata": {
    "tags": [
     "hide-output"
    ]
   },
   "outputs": [],
   "source": [
    "xenium_2_af.describe()"
   ]
  },
  {
   "cell_type": "code",
   "execution_count": null,
   "metadata": {
    "tags": [
     "hide-output"
    ]
   },
   "outputs": [],
   "source": [
    "xenium_2_af.view_lineage()"
   ]
  },
  {
   "cell_type": "markdown",
   "metadata": {},
   "source": [
    "## Analyze spatial data"
   ]
  },
  {
   "cell_type": "markdown",
   "metadata": {},
   "source": [
    "Spatial data datasets stored as SpatialData objects can easily be examined and analyzed through the SpatialData framework, [squidpy](https://github.com/scverse/squidpy), and [scanpy](https://github.com/scverse/scanpy):"
   ]
  },
  {
   "cell_type": "code",
   "execution_count": null,
   "metadata": {
    "tags": [
     "hide-output"
    ]
   },
   "outputs": [],
   "source": [
    "xenium_1_sd = xenium_1_af.load()\n",
    "xenium_1_sd"
   ]
  },
  {
   "cell_type": "markdown",
   "metadata": {},
   "source": [
    "Use spatialdata-plot to get an overview of the dataset:"
   ]
  },
  {
   "cell_type": "code",
   "execution_count": null,
   "metadata": {},
   "outputs": [],
   "source": [
    "xenium_1_sd.pl.render_images(element=\"morphology_focus\").pl.render_shapes(\n",
    "    fill_alpha=0, outline_alpha=0.2\n",
    ").pl.show(coordinate_systems=\"aligned\")"
   ]
  },
  {
   "cell_type": "markdown",
   "metadata": {},
   "source": [
    "For any Xenium analysis we would use the `AnnData` object, which contains the count matrix, cell and gene annotations.\n",
    "It is stored in the `spatialdata.tables` slot:"
   ]
  },
  {
   "cell_type": "code",
   "execution_count": null,
   "metadata": {
    "tags": [
     "hide-output"
    ]
   },
   "outputs": [],
   "source": [
    "xenium_adata = xenium_1_sd.tables[\"table\"]\n",
    "xenium_adata"
   ]
  },
  {
   "cell_type": "code",
   "execution_count": null,
   "metadata": {
    "tags": [
     "hide-output"
    ]
   },
   "outputs": [],
   "source": [
    "xenium_adata.obs"
   ]
  },
  {
   "cell_type": "markdown",
   "metadata": {},
   "source": [
    "Calculate the quality control metrics on the AnnData object using `scanpy.pp.calculate_qc_metrics`:"
   ]
  },
  {
   "cell_type": "code",
   "execution_count": null,
   "metadata": {},
   "outputs": [],
   "source": [
    "sc.pp.calculate_qc_metrics(xenium_adata, percent_top=(10, 20, 50, 150), inplace=True)"
   ]
  },
  {
   "cell_type": "markdown",
   "metadata": {},
   "source": [
    "The percentage of control probes and control codewords can be calculated from the `obs` slot:"
   ]
  },
  {
   "cell_type": "code",
   "execution_count": null,
   "metadata": {
    "tags": [
     "hide-output"
    ]
   },
   "outputs": [],
   "source": [
    "cprobes = (\n",
    "    xenium_adata.obs[\"control_probe_counts\"].sum()\n",
    "    / xenium_adata.obs[\"total_counts\"].sum()\n",
    "    * 100\n",
    ")\n",
    "cwords = (\n",
    "    xenium_adata.obs[\"control_codeword_counts\"].sum()\n",
    "    / xenium_adata.obs[\"total_counts\"].sum()\n",
    "    * 100\n",
    ")\n",
    "print(f\"Negative DNA probe count % : {cprobes}\")\n",
    "print(f\"Negative decoding count % : {cwords}\")"
   ]
  },
  {
   "cell_type": "markdown",
   "metadata": {},
   "source": [
    "Visualize annotation on UMAP and spatial coordinates:"
   ]
  },
  {
   "cell_type": "code",
   "execution_count": null,
   "metadata": {},
   "outputs": [],
   "source": [
    "xenium_adata.layers[\"counts\"] = xenium_adata.X.copy()\n",
    "sc.pp.normalize_total(xenium_adata, inplace=True)\n",
    "sc.pp.log1p(xenium_adata)\n",
    "sc.pp.pca(xenium_adata)\n",
    "sc.pp.neighbors(xenium_adata)\n",
    "sc.tl.umap(xenium_adata)\n",
    "sc.tl.leiden(xenium_adata)"
   ]
  },
  {
   "cell_type": "code",
   "execution_count": null,
   "metadata": {},
   "outputs": [],
   "source": [
    "sc.pl.umap(\n",
    "    xenium_adata,\n",
    "    color=[\n",
    "        \"total_counts\",\n",
    "        \"n_genes_by_counts\",\n",
    "        \"leiden\",\n",
    "    ],\n",
    "    wspace=0.4,\n",
    ")"
   ]
  },
  {
   "cell_type": "code",
   "execution_count": null,
   "metadata": {},
   "outputs": [],
   "source": [
    "sq.pl.spatial_scatter(\n",
    "    xenium_adata,\n",
    "    library_id=\"spatial\",\n",
    "    shape=None,\n",
    "    color=[\n",
    "        \"leiden\",\n",
    "    ],\n",
    "    wspace=0.4,\n",
    ")"
   ]
  },
  {
   "cell_type": "markdown",
   "metadata": {},
   "source": [
    "For a full tutorial on how to perform analysis of Xenium data, we refer to [squidpy's Xenium tutorial](https://squidpy.readthedocs.io/en/stable/notebooks/tutorials/tutorial_xenium.html)."
   ]
  },
  {
   "cell_type": "code",
   "execution_count": null,
   "metadata": {
    "tags": [
     "hide-output"
    ]
   },
   "outputs": [],
   "source": [
    "ln.finish()"
   ]
  }
 ],
 "metadata": {
  "kernelspec": {
   "display_name": "lamindb",
   "language": "python",
   "name": "python3"
  },
  "language_info": {
   "codemirror_mode": {
    "name": "ipython",
    "version": 3
   },
   "file_extension": ".py",
   "mimetype": "text/x-python",
   "name": "python",
   "nbconvert_exporter": "python",
   "pygments_lexer": "ipython3",
   "version": "3.12.8"
  },
  "nbproject": {
   "dependency": null,
   "id": "daeFs3PkquDW",
   "time_init": "2022-07-12T17:54:02.478333+00:00",
   "version": "draft"
  }
 },
 "nbformat": 4,
 "nbformat_minor": 2
}
