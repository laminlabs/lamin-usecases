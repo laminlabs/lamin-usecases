{
 "cells": [
  {
   "cell_type": "markdown",
   "metadata": {},
   "source": [
    "[![Jupyter Notebook](https://img.shields.io/badge/Source%20on%20GitHub-orange)](https://github.com/laminlabs/lamin-usecases/blob/main/docs/analysis-flow.ipynb)\n",
    "[![Binder](https://mybinder.org/badge_logo.svg)](https://mybinder.org/v2/gh/laminlabs/lamin-usecases/main?labpath=lamin-usecases%2Fdocs%2Fanalysis-flow.ipynb)"
   ]
  },
  {
   "attachments": {},
   "cell_type": "markdown",
   "metadata": {},
   "source": [
    "# Analysis flow"
   ]
  },
  {
   "cell_type": "markdown",
   "metadata": {},
   "source": [
    "Here, we'll track typical data transformations like subsetting that occur during analysis.\n",
    "\n",
    "If exploring more generally, read this first: {doc}`/project-flow`."
   ]
  },
  {
   "cell_type": "markdown",
   "metadata": {},
   "source": [
    "## Setup"
   ]
  },
  {
   "cell_type": "code",
   "execution_count": null,
   "metadata": {
    "tags": [
     "hide-output"
    ]
   },
   "outputs": [],
   "source": [
    "# a lamindb instance containing Bionty schema\n",
    "!lamin init --storage ./analysis-usecase --schema bionty"
   ]
  },
  {
   "cell_type": "code",
   "execution_count": null,
   "metadata": {},
   "outputs": [],
   "source": [
    "import lamindb as ln\n",
    "import bionty as bt\n",
    "from lamin_utils import logger\n",
    "\n",
    "bt.settings.auto_save_parents = False"
   ]
  },
  {
   "attachments": {},
   "cell_type": "markdown",
   "metadata": {},
   "source": [
    "## Register an initial dataset"
   ]
  },
  {
   "cell_type": "markdown",
   "metadata": {},
   "source": [
    "Here we register an initial artifact with a pipeline script."
   ]
  },
  {
   "cell_type": "code",
   "execution_count": null,
   "metadata": {
    "tags": [
     "hide-output"
    ]
   },
   "outputs": [],
   "source": [
    "# register_example_file.py\n",
    "\n",
    "\n",
    "def register_example_file():\n",
    "    # create a pipeline transform to track the registration of the artifact\n",
    "    transform = ln.Transform(\n",
    "        name=\"register example artifact\", type=\"pipeline\", version=\"0.0.1\"\n",
    "    )\n",
    "    ln.track(transform=transform)\n",
    "\n",
    "    # an example dataset that has a few cell type, tissue and disease annotations\n",
    "    adata = ln.core.datasets.anndata_with_obs()\n",
    "\n",
    "    # validate and register features\n",
    "    genes = bt.Gene.from_values(\n",
    "        adata.var_names,\n",
    "        bt.Gene.ensembl_gene_id,\n",
    "        organism=\"human\",\n",
    "        )\n",
    "    ln.save(genes)\n",
    "    obs_features = ln.Feature.from_df(adata.obs)\n",
    "    ln.save(obs_features)\n",
    "\n",
    "    # validate and register labels\n",
    "    cell_types = bt.CellType.from_values(adata.obs[\"cell_type\"])\n",
    "    ln.save(cell_types)\n",
    "    tissues = bt.Tissue.from_values(adata.obs[\"tissue\"])\n",
    "    ln.save(tissues)\n",
    "    diseases = bt.Disease.from_values(adata.obs[\"disease\"])\n",
    "    ln.save(diseases)\n",
    "\n",
    "    # register artifact and annotate with features & labels\n",
    "    artifact = ln.Artifact.from_anndata(\n",
    "        adata,\n",
    "        description=\"anndata with obs\"\n",
    "    )\n",
    "    artifact.save()\n",
    "    artifact.features.add_from_anndata(\n",
    "        var_field=bt.Gene.ensembl_gene_id,\n",
    "        organism=\"human\",\n",
    "    )\n",
    "    features = ln.Feature.lookup()\n",
    "    artifact.labels.add(cell_types, features.cell_type)\n",
    "    artifact.labels.add(tissues, features.tissue)\n",
    "    artifact.labels.add(diseases, features.disease)\n",
    "\n",
    "\n",
    "register_example_file()"
   ]
  },
  {
   "cell_type": "markdown",
   "metadata": {},
   "source": [
    "## Pull the registered dataset, apply a transformation, and register the result"
   ]
  },
  {
   "attachments": {},
   "cell_type": "markdown",
   "metadata": {},
   "source": [
    "Set the current notebook as the new transform:"
   ]
  },
  {
   "cell_type": "code",
   "execution_count": null,
   "metadata": {},
   "outputs": [],
   "source": [
    "ln.settings.transform.stem_uid = \"eNef4Arw8nNM\"\n",
    "ln.settings.transform.version = \"0\"\n",
    "ln.track()"
   ]
  },
  {
   "cell_type": "code",
   "execution_count": null,
   "metadata": {},
   "outputs": [],
   "source": [
    "artifact = ln.Artifact.filter(description=\"anndata with obs\").one()"
   ]
  },
  {
   "cell_type": "code",
   "execution_count": null,
   "metadata": {},
   "outputs": [],
   "source": [
    "artifact.describe()"
   ]
  },
  {
   "attachments": {},
   "cell_type": "markdown",
   "metadata": {},
   "source": [
    "### Get a backed AnnData object"
   ]
  },
  {
   "cell_type": "code",
   "execution_count": null,
   "metadata": {},
   "outputs": [],
   "source": [
    "adata = artifact.backed()\n",
    "adata"
   ]
  },
  {
   "attachments": {},
   "cell_type": "markdown",
   "metadata": {},
   "source": [
    "### Subset dataset to specific cell types and diseases"
   ]
  },
  {
   "cell_type": "code",
   "execution_count": null,
   "metadata": {},
   "outputs": [],
   "source": [
    "cell_types = artifact.cell_types.all().lookup(return_field=\"name\")\n",
    "diseases = artifact.diseases.all().lookup(return_field=\"name\")"
   ]
  },
  {
   "attachments": {},
   "cell_type": "markdown",
   "metadata": {},
   "source": [
    "Create the subset:"
   ]
  },
  {
   "cell_type": "code",
   "execution_count": null,
   "metadata": {},
   "outputs": [],
   "source": [
    "subset_obs = adata.obs.cell_type.isin(\n",
    "    [cell_types.t_cell, cell_types.hematopoietic_stem_cell]\n",
    ") & (adata.obs.disease.isin([diseases.liver_lymphoma, diseases.chronic_kidney_disease]))"
   ]
  },
  {
   "cell_type": "code",
   "execution_count": null,
   "metadata": {},
   "outputs": [],
   "source": [
    "adata_subset = adata[subset_obs]\n",
    "adata_subset"
   ]
  },
  {
   "cell_type": "code",
   "execution_count": null,
   "metadata": {},
   "outputs": [],
   "source": [
    "adata_subset.obs[[\"cell_type\", \"disease\"]].value_counts()"
   ]
  },
  {
   "attachments": {},
   "cell_type": "markdown",
   "metadata": {},
   "source": [
    "Register the subsetted AnnData:"
   ]
  },
  {
   "cell_type": "code",
   "execution_count": null,
   "metadata": {},
   "outputs": [],
   "source": [
    "file_subset = ln.Artifact.from_anndata(\n",
    "    adata_subset.to_memory(),\n",
    "    description=\"anndata with obs subset\"\n",
    ")"
   ]
  },
  {
   "cell_type": "code",
   "execution_count": null,
   "metadata": {},
   "outputs": [],
   "source": [
    "file_subset.save()"
   ]
  },
  {
   "cell_type": "code",
   "execution_count": null,
   "metadata": {},
   "outputs": [],
   "source": [
    "file_subset.features.add_from_anndata(\n",
    "    var_field=bt.Gene.ensembl_gene_id,\n",
    "    organism=\"human\",  # optionally, globally set organism via bt.settings.organism = \"human\"\n",
    "    )"
   ]
  },
  {
   "cell_type": "code",
   "execution_count": null,
   "metadata": {},
   "outputs": [],
   "source": [
    "features = ln.Feature.lookup()\n",
    "\n",
    "file_subset.labels.add(adata_subset.obs.cell_type, features.cell_type)\n",
    "file_subset.labels.add(adata_subset.obs.disease, features.disease)\n",
    "file_subset.labels.add(adata_subset.obs.tissue, features.tissue)"
   ]
  },
  {
   "attachments": {},
   "cell_type": "markdown",
   "metadata": {},
   "source": [
    "## Examine data flow"
   ]
  },
  {
   "cell_type": "markdown",
   "metadata": {},
   "source": [
    "Query a subsetted `.h5ad` artifact containing \"hematopoietic stem cell\" and \"T cell\":"
   ]
  },
  {
   "cell_type": "code",
   "execution_count": null,
   "metadata": {},
   "outputs": [],
   "source": [
    "cell_types = bt.CellType.lookup()"
   ]
  },
  {
   "cell_type": "code",
   "execution_count": null,
   "metadata": {},
   "outputs": [],
   "source": [
    "my_subset = ln.Artifact.filter(\n",
    "    suffix=\".h5ad\",\n",
    "    description__endswith=\"subset\",\n",
    "    cell_types__in=[\n",
    "        cell_types.hematopoietic_stem_cell,\n",
    "        cell_types.t_cell,\n",
    "    ],\n",
    ").first()"
   ]
  },
  {
   "cell_type": "code",
   "execution_count": null,
   "metadata": {},
   "outputs": [],
   "source": [
    "my_subset"
   ]
  },
  {
   "attachments": {},
   "cell_type": "markdown",
   "metadata": {},
   "source": [
    "Common questions that might arise are:\n",
    "\n",
    "- What is the history of this artifact?\n",
    "- Which features and labels are associated with it?\n",
    "- Which notebook analyzed and registered this artifact?\n",
    "- By whom?\n",
    "- And which artifact is its parent?\n",
    "\n",
    "Let's answer this using LaminDB:"
   ]
  },
  {
   "cell_type": "code",
   "execution_count": null,
   "metadata": {},
   "outputs": [],
   "source": [
    "print(\"--> What is the history of this artifact?\\n\")\n",
    "file_subset.view_lineage()\n",
    "\n",
    "print(\"\\n\\n--> Which features and labels are associated with it?\\n\")\n",
    "logger.print(file_subset.features)\n",
    "logger.print(file_subset.labels)\n",
    "\n",
    "print(\"\\n\\n--> Which notebook analyzed and registered this artifact\\n\")\n",
    "logger.print(file_subset.transform)\n",
    "\n",
    "print(\"\\n\\n--> By whom\\n\")\n",
    "logger.print(file_subset.created_by)\n",
    "\n",
    "print(\"\\n\\n--> And which artifact is its parent\\n\")\n",
    "display(file_subset.run.input_artifacts.df())"
   ]
  },
  {
   "cell_type": "code",
   "execution_count": null,
   "metadata": {
    "tags": [
     "hide-cell"
    ]
   },
   "outputs": [],
   "source": [
    "!lamin delete --force analysis-usecase\n",
    "!rm -r ./analysis-usecase"
   ]
  }
 ],
 "metadata": {
  "citation-manager": {
   "items": {}
  },
  "kernelspec": {
   "display_name": "Python 3 (ipykernel)",
   "language": "python",
   "name": "python3"
  },
  "language_info": {
   "codemirror_mode": {
    "name": "ipython",
    "version": 3
   },
   "file_extension": ".py",
   "mimetype": "text/x-python",
   "name": "python",
   "nbconvert_exporter": "python",
   "pygments_lexer": "ipython3",
   "version": "3.10.13"
  },
  "nbproject": {
   "id": "eNef4Arw8nNM",
   "parent": null,
   "pypackage": null,
   "time_init": "2023-06-05T13:33:30.647656+00:00",
   "user_handle": "sunnyosun",
   "user_id": "kmvZDIX9",
   "user_name": "Sunny Sun",
   "version": "0"
  }
 },
 "nbformat": 4,
 "nbformat_minor": 4
}
