{
 "cells": [
  {
   "cell_type": "markdown",
   "metadata": {},
   "source": [
    "[![Jupyter Notebook](https://img.shields.io/badge/Source%20on%20GitHub-orange)](https://github.com/laminlabs/lamin-usecases/blob/main/docs/multimodal.ipynb)"
   ]
  },
  {
   "cell_type": "markdown",
   "metadata": {},
   "source": [
    "# Multi-modal"
   ]
  },
  {
   "cell_type": "markdown",
   "metadata": {},
   "source": [
    "Here, we'll showcase how to curate and register ECCITE-seq data from [Papalexi21](https://www.nature.com/articles/s41592-019-0392-0) in the form of [MuData](https://github.com/scverse/mudata) objects.\n",
    "\n",
    "ECCITE-seq is designed to enable interrogation of single-cell transcriptomes together with surface protein markers in the context of CRISPR screens.\n",
    "\n",
    "[MuData objects](https://mudata.readthedocs.io) build on top of AnnData objects to store multimodal data.\n"
   ]
  },
  {
   "cell_type": "code",
   "execution_count": null,
   "metadata": {
    "tags": [
     "hide-output"
    ]
   },
   "outputs": [],
   "source": [
    "# !pip install 'lamindb[jupyter,bionty]'\n",
    "!lamin init --storage ./test-multimodal --modules bionty"
   ]
  },
  {
   "cell_type": "code",
   "execution_count": null,
   "metadata": {
    "tags": [
     "hide-output"
    ]
   },
   "outputs": [],
   "source": [
    "import lamindb as ln\n",
    "import bionty as bt\n",
    "\n",
    "ln.track()"
   ]
  },
  {
   "cell_type": "markdown",
   "metadata": {},
   "source": [
    "## Creating MuData Artifacts"
   ]
  },
  {
   "cell_type": "markdown",
   "metadata": {},
   "source": [
    "lamindb provides a {meth}`~lamindb.Artifact.from_mudata` method to create {class}`~lamindb.Artifact` from MuData objects."
   ]
  },
  {
   "cell_type": "code",
   "execution_count": null,
   "metadata": {
    "tags": [
     "hide-output"
    ]
   },
   "outputs": [],
   "source": [
    "mdata = ln.core.datasets.mudata_papalexi21_subset()\n",
    "mdata"
   ]
  },
  {
   "cell_type": "code",
   "execution_count": null,
   "metadata": {
    "tags": [
     "hide-output"
    ]
   },
   "outputs": [],
   "source": [
    "mdata_af = ln.Artifact.from_mudata(mdata, key=\"papalexi.h5mu\")\n",
    "mdata_af"
   ]
  },
  {
   "cell_type": "code",
   "execution_count": null,
   "metadata": {
    "tags": [
     "hide-output"
    ]
   },
   "outputs": [],
   "source": [
    "# MuData Artifacts have the corresponding otype\n",
    "mdata_af.otype"
   ]
  },
  {
   "cell_type": "code",
   "execution_count": null,
   "metadata": {
    "tags": [
     "hide-output"
    ]
   },
   "outputs": [],
   "source": [
    "# MuData Artifacts can easily be loaded back into memory\n",
    "papalexi_in_memory = mdata_af.load()\n",
    "papalexi_in_memory"
   ]
  },
  {
   "cell_type": "markdown",
   "metadata": {},
   "source": [
    "## Schema"
   ]
  },
  {
   "cell_type": "code",
   "execution_count": null,
   "metadata": {
    "tags": [
     "hide-output"
    ]
   },
   "outputs": [],
   "source": [
    "# define labels\n",
    "perturbation = ln.ULabel(name=\"Perturbation\", is_type=True).save()\n",
    "ln.ULabel(name=\"Perturbed\", type=perturbation).save()\n",
    "ln.ULabel(name=\"NT\", type=perturbation).save()\n",
    "\n",
    "replicate = ln.ULabel(name=\"Replicate\", is_type=True).save()\n",
    "ln.ULabel(name=\"rep1\", type=replicate).save()\n",
    "ln.ULabel(name=\"rep2\", type=replicate).save()\n",
    "ln.ULabel(name=\"rep3\", type=replicate).save()\n",
    "\n",
    "# define obs schema\n",
    "obs_schema = ln.Schema(\n",
    "    name=\"mudata_papalexi21_subset_obs_schema\",\n",
    "    features=[\n",
    "        ln.Feature(name=\"perturbation\", dtype=\"cat[ULabel[Perturbation]]\").save(),\n",
    "        ln.Feature(name=\"replicate\", dtype=\"cat[ULabel[Replicate]]\").save(),\n",
    "    ],\n",
    ").save()\n",
    "\n",
    "obs_schema_rna = ln.Schema(\n",
    "    name=\"mudata_papalexi21_subset_rna_obs_schema\",\n",
    "    features=[\n",
    "        ln.Feature(name=\"nCount_RNA\", dtype=int).save(),\n",
    "        ln.Feature(name=\"nFeature_RNA\", dtype=int).save(),\n",
    "        ln.Feature(name=\"percent.mito\", dtype=float).save(),\n",
    "    ],\n",
    "    coerce_dtype=True,\n",
    ").save()\n",
    "\n",
    "obs_schema_hto = ln.Schema(\n",
    "    name=\"mudata_papalexi21_subset_hto_obs_schema\",\n",
    "    features=[\n",
    "        ln.Feature(name=\"nCount_HTO\", dtype=float).save(),\n",
    "        ln.Feature(name=\"nFeature_HTO\", dtype=int).save(),\n",
    "        ln.Feature(name=\"technique\", dtype=bt.ExperimentalFactor).save(),\n",
    "    ],\n",
    "    coerce_dtype=True,\n",
    ").save()\n",
    "\n",
    "var_schema_rna = ln.Schema(\n",
    "    name=\"mudata_papalexi21_subset_rna_var_schema\",\n",
    "    itype=bt.Gene.symbol,\n",
    "    dtype=float,\n",
    ").save()\n",
    "\n",
    "# define composite schema\n",
    "mudata_schema = ln.Schema(\n",
    "    name=\"mudata_papalexi21_subset_mudata_schema\",\n",
    "    otype=\"MuData\",\n",
    "    slots={\n",
    "        \"obs\": obs_schema,\n",
    "        \"rna:obs\": obs_schema_rna,\n",
    "        \"hto:obs\": obs_schema_hto,\n",
    "        \"rna:var\": var_schema_rna,\n",
    "    },\n",
    ").save()"
   ]
  },
  {
   "cell_type": "code",
   "execution_count": null,
   "metadata": {},
   "outputs": [],
   "source": [
    "mudata_schema"
   ]
  },
  {
   "cell_type": "markdown",
   "metadata": {},
   "source": [
    "## Validate MuData annotations"
   ]
  },
  {
   "cell_type": "code",
   "execution_count": null,
   "metadata": {},
   "outputs": [],
   "source": [
    "curator = ln.curators.MuDataCurator(mdata, mudata_schema)"
   ]
  },
  {
   "cell_type": "code",
   "execution_count": null,
   "metadata": {},
   "outputs": [],
   "source": [
    "try:\n",
    "    curator.validate()\n",
    "except ln.errors.ValidationError:\n",
    "    pass"
   ]
  },
  {
   "cell_type": "code",
   "execution_count": null,
   "metadata": {
    "tags": [
     "hide-output"
    ]
   },
   "outputs": [],
   "source": [
    "curator.slots[\"rna:var\"].cat.standardize(\"columns\")"
   ]
  },
  {
   "cell_type": "code",
   "execution_count": null,
   "metadata": {},
   "outputs": [],
   "source": [
    "curator.slots[\"rna:var\"].cat.add_new_from(\"columns\")"
   ]
  },
  {
   "cell_type": "code",
   "execution_count": null,
   "metadata": {
    "tags": [
     "hide-output"
    ]
   },
   "outputs": [],
   "source": [
    "curator.validate()"
   ]
  },
  {
   "cell_type": "markdown",
   "metadata": {},
   "source": [
    "## Register curated Artifact"
   ]
  },
  {
   "cell_type": "code",
   "execution_count": null,
   "metadata": {
    "tags": [
     "hide-output"
    ]
   },
   "outputs": [],
   "source": [
    "artifact = curator.save_artifact(key=\"mudata_papalexi21_subset.h5mu\")"
   ]
  },
  {
   "cell_type": "code",
   "execution_count": null,
   "metadata": {
    "tags": [
     "hide-output"
    ]
   },
   "outputs": [],
   "source": [
    "artifact.describe()"
   ]
  },
  {
   "cell_type": "code",
   "execution_count": null,
   "metadata": {
    "tags": [
     "hide-output"
    ]
   },
   "outputs": [],
   "source": [
    "ln.finish()"
   ]
  },
  {
   "cell_type": "code",
   "execution_count": null,
   "metadata": {
    "tags": [
     "hide-output"
    ]
   },
   "outputs": [],
   "source": [
    "# clean up test instance\n",
    "!rm -r test-multimodal\n",
    "!lamin delete --force test-multimodal"
   ]
  }
 ],
 "metadata": {
  "kernelspec": {
   "display_name": "py311",
   "language": "python",
   "name": "python3"
  },
  "language_info": {
   "codemirror_mode": {
    "name": "ipython",
    "version": 3
   },
   "file_extension": ".py",
   "mimetype": "text/x-python",
   "name": "python",
   "nbconvert_exporter": "python",
   "pygments_lexer": "ipython3",
   "version": "3.11.11"
  },
  "nbproject": {
   "id": "yMWSFirS6qv2",
   "parent": null,
   "pypackage": null,
   "time_init": "2023-07-25T20:58:19.062512+00:00",
   "user_handle": "testuser2",
   "user_id": "bKeW4T6E",
   "user_name": "Test User2",
   "version": "0"
  }
 },
 "nbformat": 4,
 "nbformat_minor": 4
}
