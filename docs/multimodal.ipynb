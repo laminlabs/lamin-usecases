{
 "cells": [
  {
   "cell_type": "markdown",
   "metadata": {},
   "source": [
    "[![Jupyter Notebook](https://img.shields.io/badge/Source%20on%20GitHub-orange)](https://github.com/laminlabs/lamin-usecases/blob/main/docs/multimodal.ipynb)"
   ]
  },
  {
   "cell_type": "markdown",
   "metadata": {},
   "source": [
    "# Multi-modal"
   ]
  },
  {
   "cell_type": "markdown",
   "metadata": {},
   "source": [
    "Here, we'll showcase how to curate and register ECCITE-seq data from [Papalexi21](https://www.nature.com/articles/s41592-019-0392-0) in the form of [MuData](https://github.com/scverse/mudata) objects.\n",
    "\n",
    "ECCITE-seq is designed to enable interrogation of single-cell transcriptomes together with surface protein markers in the context of CRISPR screens.\n",
    "\n",
    "[MuData objects](https://mudata.readthedocs.io) build on top of AnnData objects to store multimodal data.\n"
   ]
  },
  {
   "cell_type": "code",
   "execution_count": null,
   "metadata": {
    "tags": [
     "hide-output"
    ]
   },
   "outputs": [],
   "source": [
    "!lamin init --storage ./test-multimodal --schema bionty"
   ]
  },
  {
   "cell_type": "code",
   "execution_count": null,
   "metadata": {
    "tags": []
   },
   "outputs": [],
   "source": [
    "import lamindb as ln\n",
    "import bionty as bt"
   ]
  },
  {
   "cell_type": "code",
   "execution_count": null,
   "metadata": {
    "tags": []
   },
   "outputs": [],
   "source": [
    "mdata = ln.core.datasets.mudata_papalexi21_subset()\n",
    "mdata"
   ]
  },
  {
   "cell_type": "markdown",
   "metadata": {},
   "source": [
    "## Validate annotations "
   ]
  },
  {
   "cell_type": "code",
   "execution_count": null,
   "metadata": {
    "tags": [
     "hide-output"
    ]
   },
   "outputs": [],
   "source": [
    "annotate = ln.Annotate.from_mudata(\n",
    "    mdata,\n",
    "    var_index={\n",
    "        \"rna\": bt.Gene.symbol, # gene expression\n",
    "        \"adt\": bt.CellMarker.name, # antibody derived tags reflecting surface proteins\n",
    "        \"hto\": ln.Feature.name, # cell hashing\n",
    "        \"gdo\": ln.Feature.name, # guide RNAs\n",
    "    },\n",
    "    categoricals={\n",
    "        \"perturbation\": ln.ULabel.name,  # shared categorical\n",
    "        \"replicate\": ln.ULabel.name, # shared categorical\n",
    "        \"hto:technique\": bt.ExperimentalFactor.name # note this is a modality specific categorical\n",
    "    },\n",
    "    organism=\"human\",\n",
    ")"
   ]
  },
  {
   "cell_type": "code",
   "execution_count": null,
   "metadata": {
    "tags": [
     "hide-output"
    ]
   },
   "outputs": [],
   "source": [
    "# add new gene symbols from the ['rna'].var.index\n",
    "annotate.add_new_from_var_index(\"rna\")\n",
    "\n",
    "# add new categories from the hto and gdo var.index\n",
    "annotate.add_new_from_var_index(\"hto\")\n",
    "annotate.add_new_from_var_index(\"gdo\")\n",
    "\n",
    "# optional: register additional columns we'd like to annotate\n",
    "annotate.add_new_from_columns(modality=\"rna\")\n",
    "annotate.add_new_from_columns(modality=\"adt\")\n",
    "annotate.add_new_from_columns(modality=\"hto\")\n",
    "annotate.add_new_from_columns(modality=\"gdo\")"
   ]
  },
  {
   "cell_type": "code",
   "execution_count": null,
   "metadata": {
    "tags": [
     "hide-output"
    ]
   },
   "outputs": [],
   "source": [
    "annotate.validate()"
   ]
  },
  {
   "cell_type": "code",
   "execution_count": null,
   "metadata": {
    "tags": [
     "hide-output"
    ]
   },
   "outputs": [],
   "source": [
    "# add validated and new categories\n",
    "annotate.add_new_from(\"perturbation\")\n",
    "annotate.add_new_from(\"replicate\")\n",
    "annotate.add_validated_from(\"technique\", modality=\"hto\")"
   ]
  },
  {
   "cell_type": "code",
   "execution_count": null,
   "metadata": {
    "tags": [
     "hide-output"
    ]
   },
   "outputs": [],
   "source": [
    "annotate.validate()"
   ]
  },
  {
   "cell_type": "markdown",
   "metadata": {},
   "source": [
    "## Register annotated artifact"
   ]
  },
  {
   "cell_type": "code",
   "execution_count": null,
   "metadata": {
    "tags": [
     "hide-output"
    ]
   },
   "outputs": [],
   "source": [
    "artifact = annotate.save_artifact(description=\"Sub-sampled MuData from Papalexi21\")"
   ]
  },
  {
   "cell_type": "code",
   "execution_count": null,
   "metadata": {},
   "outputs": [],
   "source": [
    "artifact.describe()"
   ]
  },
  {
   "cell_type": "code",
   "execution_count": null,
   "metadata": {
    "tags": [
     "hide-output"
    ]
   },
   "outputs": [],
   "source": [
    "# clean up test instance\n",
    "!rm -r test-multimodal\n",
    "!lamin delete --force test-multimodal"
   ]
  }
 ],
 "metadata": {
  "kernelspec": {
   "display_name": "Python 3 (ipykernel)",
   "language": "python",
   "name": "python3"
  },
  "language_info": {
   "codemirror_mode": {
    "name": "ipython",
    "version": 3
   },
   "file_extension": ".py",
   "mimetype": "text/x-python",
   "name": "python",
   "nbconvert_exporter": "python",
   "pygments_lexer": "ipython3",
   "version": "3.10.13"
  },
  "nbproject": {
   "id": "yMWSFirS6qv2",
   "parent": null,
   "pypackage": null,
   "time_init": "2023-07-25T20:58:19.062512+00:00",
   "user_handle": "testuser2",
   "user_id": "bKeW4T6E",
   "user_name": "Test User2",
   "version": "0"
  }
 },
 "nbformat": 4,
 "nbformat_minor": 4
}
