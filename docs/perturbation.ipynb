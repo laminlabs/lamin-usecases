{
 "cells": [
  {
   "cell_type": "markdown",
   "metadata": {},
   "source": [
    "# Curating perturbation dataset"
   ]
  },
  {
   "cell_type": "code",
   "execution_count": null,
   "metadata": {},
   "outputs": [],
   "source": [
    "# !pip install 'lamindb[jupyter,aws,bionty]' \n",
    "!lamin init --storage ./test-perturbation --schema bionty,wetlab"
   ]
  },
  {
   "cell_type": "code",
   "execution_count": null,
   "metadata": {},
   "outputs": [],
   "source": [
    "!wget -nc https://zenodo.org/record/7041849/files/McFarlandTsherniak2020.h5ad"
   ]
  },
  {
   "cell_type": "code",
   "execution_count": null,
   "metadata": {},
   "outputs": [],
   "source": [
    "import lamindb as ln\n",
    "import bionty as bt\n",
    "import wetlab as wl\n",
    "import anndata as ad\n",
    "import numpy as np"
   ]
  },
  {
   "cell_type": "code",
   "execution_count": null,
   "metadata": {},
   "outputs": [],
   "source": [
    "adata = ad.read_h5ad(\"McFarlandTsherniak2020.h5ad\")"
   ]
  },
  {
   "cell_type": "code",
   "execution_count": null,
   "metadata": {},
   "outputs": [],
   "source": [
    "adata = adata[np.random.choice(adata.n_obs, size=int(0.5 * adata.n_obs), replace=False), :].copy()"
   ]
  },
  {
   "cell_type": "code",
   "execution_count": null,
   "metadata": {},
   "outputs": [],
   "source": [
    "import pandas as pd\n",
    "pd.set_option('display.max_columns', None)\n",
    "\n",
    "adata.obs"
   ]
  },
  {
   "cell_type": "markdown",
   "metadata": {},
   "source": [
    "## Perturbations overview"
   ]
  },
  {
   "cell_type": "code",
   "execution_count": null,
   "metadata": {},
   "outputs": [],
   "source": [
    "adata.obs.perturbation.value_counts()"
   ]
  },
  {
   "cell_type": "code",
   "execution_count": null,
   "metadata": {},
   "outputs": [],
   "source": [
    "adata.obs.perturbation_type.value_counts()"
   ]
  },
  {
   "cell_type": "code",
   "execution_count": null,
   "metadata": {},
   "outputs": [],
   "source": [
    "adata.obs.time.value_counts()"
   ]
  },
  {
   "cell_type": "markdown",
   "metadata": {},
   "source": [
    "## Setup for curation"
   ]
  },
  {
   "cell_type": "code",
   "execution_count": null,
   "metadata": {},
   "outputs": [],
   "source": [
    "# We are using the chebi/chembl chemistry/drug ontology for the drug perturbations\n",
    "chebi_source = bt.Source.filter(entity=\"Drug\", name=\"chebi\").one()\n",
    "wl.Compound.add_source(chebi_source)\n",
    "compounds = wl.Compound.public()\n",
    "compounds.df().head(3)"
   ]
  },
  {
   "cell_type": "markdown",
   "metadata": {},
   "source": [
    "## Curation"
   ]
  },
  {
   "cell_type": "code",
   "execution_count": null,
   "metadata": {},
   "outputs": [],
   "source": [
    "categoricals = {\n",
    "    \"DepMap_ID\": bt.CellLine.ontology_id,\n",
    "    \"cell_line\": bt.CellLine.name,\n",
    "    \"disease\": bt.Disease.name,\n",
    "    \"organism\": bt.Organism.name,\n",
    "    \"perturbation_type\": ln.ULabel.name,\n",
    "    \"sex\": bt.Phenotype.name,\n",
    "    \"time\": ln.ULabel.name,\n",
    "    \"tissue_type\": ln.ULabel.name,\n",
    "}\n",
    "sources = {\n",
    "    \"DepMap_ID\": bt.Source.filter(name=\"depmap\").one(),\n",
    "    \"cell_line\": bt.Source.filter(name=\"depmap\").one(),\n",
    "}\n"
   ]
  },
  {
   "cell_type": "code",
   "execution_count": null,
   "metadata": {},
   "outputs": [],
   "source": [
    "curate = ln.Curate.from_anndata(\n",
    "    adata, \n",
    "    var_index=bt.Gene.ensembl_gene_id,\n",
    "    categoricals=categoricals, \n",
    "    organism=\"human\",\n",
    "    sources=sources\n",
    ")"
   ]
  },
  {
   "cell_type": "code",
   "execution_count": null,
   "metadata": {},
   "outputs": [],
   "source": [
    "curate.add_new_from_columns()"
   ]
  },
  {
   "cell_type": "code",
   "execution_count": null,
   "metadata": {},
   "outputs": [],
   "source": [
    "curate.validate()"
   ]
  },
  {
   "cell_type": "code",
   "execution_count": null,
   "metadata": {},
   "outputs": [],
   "source": [
    "# We found a mix of ensembl IDs and gene symbols in the var_index -> get all gene symbols to ensembl IDs\n",
    "gene_mapper = bt.Gene.standardize(curate.non_validated[\"var_index\"], field=\"symbol\", return_field=\"ensembl_gene_id\", return_mapper=True, organism=\"human\")\n",
    "adata.var.index = adata.var.index.map(lambda x: gene_mapper.get(x, x))"
   ]
  },
  {
   "cell_type": "code",
   "execution_count": null,
   "metadata": {},
   "outputs": [],
   "source": [
    "# We search for the disease\n",
    "for disease in curate.non_validated[\"disease\"]:\n",
    "    print(bt.Disease.public().search(disease))"
   ]
  },
  {
   "cell_type": "code",
   "execution_count": null,
   "metadata": {},
   "outputs": [],
   "source": [
    "curate.non_validated[\"disease\"]\n",
    "adata.obs[\"disease\"] = adata.obs[\"disease\"].cat.rename_categories({\"colon/colorectal cancer\": \"colorectal cancer\",\n",
    "                                                    \"rhabdoid\": \"rhabdoid tumor\",\n",
    "                                                    \"bladder cancer\": \"urinary bladder carcinoma\",\n",
    "                                                    \"endometrial/uterine cancer\": \"uterine corpus cancer\"})"
   ]
  },
  {
   "cell_type": "code",
   "execution_count": null,
   "metadata": {},
   "outputs": [],
   "source": [
    "adata.obs[\"cell_line\"] = bt.CellLine.public(source=bt.Source.filter(name=\"depmap\").one()).standardize(adata.obs[\"cell_line\"], field=\"name\")\n",
    "bt.CellLine.public(source=bt.Source.filter(name=\"depmap\").one()).inspect(adata.obs[\"cell_line\"], field=\"name\")"
   ]
  },
  {
   "cell_type": "code",
   "execution_count": null,
   "metadata": {},
   "outputs": [],
   "source": [
    "curate.add_validated_from_var_index()\n",
    "curate.add_validated_from('DepMap_ID')\n",
    "curate.add_new_from('perturbation_type')\n",
    "curate.add_new_from('sex')\n",
    "curate.add_new_from('time')\n",
    "curate.add_new_from('tissue_type')\n",
    "curate.add_validated_from('disease')\n",
    "curate.add_new_from('cell_line')"
   ]
  },
  {
   "cell_type": "code",
   "execution_count": null,
   "metadata": {},
   "outputs": [],
   "source": [
    "curate = ln.Curate.from_anndata(\n",
    "    adata, \n",
    "    var_index=bt.Gene.ensembl_gene_id,\n",
    "    categoricals=categoricals, \n",
    "    organism=\"human\",\n",
    "    sources=sources\n",
    ")\n",
    "curate.validate()"
   ]
  },
  {
   "cell_type": "code",
   "execution_count": null,
   "metadata": {},
   "outputs": [],
   "source": [
    "adata = adata[:, ~adata.var.index.isin(curate.non_validated[\"var_index\"])].copy()"
   ]
  },
  {
   "cell_type": "code",
   "execution_count": null,
   "metadata": {},
   "outputs": [],
   "source": [
    "curate = ln.Curate.from_anndata(\n",
    "    adata, \n",
    "    var_index=bt.Gene.ensembl_gene_id,\n",
    "    categoricals=categoricals, \n",
    "    organism=\"human\",\n",
    ")\n",
    "curate.validate()"
   ]
  },
  {
   "cell_type": "markdown",
   "metadata": {},
   "source": [
    "## Creating and associating the Perturbations"
   ]
  },
  {
   "cell_type": "markdown",
   "metadata": {},
   "source": [
    "These are the direct targets of the perturbations.\n",
    "It is therefore entirely possible or even likely that they affect a pathway.\n",
    "However for simplicity, we only curate the direct targets here.\n",
    "\n",
    "1. **AZD5591**: Unknown\n",
    "2. **Afatinib**: **Proteins** - EGFR (Epidermal Growth Factor Receptor), HER2 (Human Epidermal growth factor Receptor 2)\n",
    "3. **BRD3379**: Unknown\n",
    "4. **Bortezomib**: **Protein complex** - Proteasome (specifically the 26S proteasome subunit)\n",
    "5. **Dabrafenib**: **Gene/Protein** - BRAF (V600E mutation in the BRAF gene, which codes for a protein kinase)\n",
    "6. **Everolimus**: **Protein** - mTOR (Mammalian Target of Rapamycin)\n",
    "7. **Gemcitabine**: **Pathway/Process** - DNA synthesis (inhibition of ribonucleotide reductase and incorporation into DNA)\n",
    "8. **Idasanutlin**: **Protein** - MDM2 (Mouse Double Minute 2 homolog)\n",
    "9. **JQ1**: **Protein** - BRD4 (Bromodomain-containing protein 4)\n",
    "10. **Navitoclax**: **Proteins** - BCL-2, BCL-XL (B-cell lymphoma 2 and B-cell lymphoma-extra large)\n",
    "11. **Prexasertib**: **Protein** - CHK1 (Checkpoint kinase 1)\n",
    "12. **Taselisib**: **Protein/Pathway** - PI3K (Phosphoinositide 3-kinase)\n",
    "13. **Trametinib**: **Proteins** - MEK1/2 (Mitogen-Activated Protein Kinase Kinase 1 and 2)\n",
    "14. **control**: Not applicable\n",
    "15. **sgGPX4-1**: **Gene/Protein** - GPX4 (Glutathione Peroxidase 4)\n",
    "16. **sgGPX4-2**: **Gene/Protein** - GPX4 (Glutathione Peroxidase 4)\n",
    "17. **sgLACZ**: **Gene/Protein** - LACZ (β-galactosidase)\n",
    "18. **sgOR2J2**: **Gene/Protein** - OR2J2 (Olfactory receptor family 2 subfamily J member 2)"
   ]
  },
  {
   "cell_type": "markdown",
   "metadata": {},
   "source": [
    "The dataset has two types of perturbations: CRISPR and Compounds.\n",
    "We will create their records and associated targets separately."
   ]
  },
  {
   "cell_type": "code",
   "execution_count": null,
   "metadata": {},
   "outputs": [],
   "source": [
    "crispr_metadata = adata.obs[adata.obs[\"perturbation_type\"] == \"CRISPR\"]\n",
    "drug_metadata = adata.obs[adata.obs[\"perturbation_type\"] == \"drug\"]"
   ]
  },
  {
   "cell_type": "markdown",
   "metadata": {},
   "source": [
    "## GeneticTreatments"
   ]
  },
  {
   "cell_type": "code",
   "execution_count": null,
   "metadata": {},
   "outputs": [],
   "source": [
    "crispr_metadata"
   ]
  },
  {
   "cell_type": "code",
   "execution_count": null,
   "metadata": {},
   "outputs": [],
   "source": [
    "list(crispr_metadata[\"perturbation\"].unique())"
   ]
  },
  {
   "cell_type": "code",
   "execution_count": null,
   "metadata": {},
   "outputs": [],
   "source": [
    "sgGPX4_1_treatment = wl.GeneticTreatment(\n",
    "            system=\"CRISPR Cas9\",\n",
    "            name=f\"sgGPX4-1 knockdown\",\n",
    ").save()\n",
    "gpx4_prot = bt.Protein.from_source(gene_symbol=\"GPX4\", organism=\"human\").save()\n",
    "gpx4_target = wl.TreatmentTarget(name=\"Glutathione Peroxidase 4\").save()\n",
    "gpx4_target.proteins.add(gpx4_prot)\n",
    "sgGPX4_1_treatment.targets.add(gpx4_target)"
   ]
  },
  {
   "cell_type": "code",
   "execution_count": null,
   "metadata": {},
   "outputs": [],
   "source": [
    "sgGPX4_2_treatment = wl.GeneticTreatment(\n",
    "            system=\"CRISPR Cas9\",\n",
    "            name=f\"sgGPX4-2 knockdown\",\n",
    ").save()\n",
    "sgGPX4_2_treatment.targets.add(gpx4_target)"
   ]
  },
  {
   "cell_type": "code",
   "execution_count": null,
   "metadata": {},
   "outputs": [],
   "source": [
    "sglacz_treatment = wl.GeneticTreatment(\n",
    "            system=\"CRISPR Cas9\",\n",
    "            name=f\"sgLACZ knockdown\",\n",
    ").save()\n",
    "lacz_prot = bt.Protein.from_source(name=\"beta-galactosidase\", organism=\"human\").save()\n",
    "lacz_target = wl.TreatmentTarget(name=\"beta-galactosidase\").save()\n",
    "lacz_target.proteins.add(lacz_prot)\n",
    "sglacz_treatment.targets.add(lacz_target)"
   ]
  },
  {
   "cell_type": "code",
   "execution_count": null,
   "metadata": {},
   "outputs": [],
   "source": [
    "sgor2j2_treatment = wl.GeneticTreatment(\n",
    "            system=\"CRISPR Cas9\",\n",
    "            name=f\"or2j2 knockdown\",\n",
    ").save()\n",
    "or2j2_prot = bt.Protein.from_source(name=\"Olfactory receptor 2J2\", organism=\"human\").save()\n",
    "or2j2_target = wl.TreatmentTarget(name=\"Olfactory receptor family 2 subfamily J member 2\").save()\n",
    "or2j2_target.proteins.add(or2j2_prot)\n",
    "sgor2j2_treatment.targets.add(or2j2_target)"
   ]
  },
  {
   "cell_type": "markdown",
   "metadata": {},
   "source": [
    "## CompoundTreatments"
   ]
  },
  {
   "cell_type": "code",
   "execution_count": null,
   "metadata": {},
   "outputs": [],
   "source": [
    "drug_metadata"
   ]
  },
  {
   "cell_type": "code",
   "execution_count": null,
   "metadata": {},
   "outputs": [],
   "source": [
    "compounds = wl.Compound.from_values(drug_metadata[\"perturbation\"], field=\"name\", source=chebi_source)"
   ]
  },
  {
   "cell_type": "code",
   "execution_count": null,
   "metadata": {},
   "outputs": [],
   "source": [
    "bt.Source.df()"
   ]
  },
  {
   "cell_type": "code",
   "execution_count": null,
   "metadata": {},
   "outputs": [],
   "source": []
  },
  {
   "cell_type": "code",
   "execution_count": null,
   "metadata": {},
   "outputs": [],
   "source": [
    "# For compounds \n",
    "# dose_unit\n",
    "# dose_value\n",
    "# perturbation\n",
    "# chembl-ID"
   ]
  },
  {
   "cell_type": "code",
   "execution_count": null,
   "metadata": {},
   "outputs": [],
   "source": []
  },
  {
   "cell_type": "code",
   "execution_count": null,
   "metadata": {},
   "outputs": [],
   "source": []
  },
  {
   "cell_type": "code",
   "execution_count": null,
   "metadata": {},
   "outputs": [],
   "source": [
    "artifact = curate.save_artifact(description=\"McFarland AnnData\")\n",
    "-> associate the genetic treatments and compounds"
   ]
  }
 ],
 "metadata": {
  "kernelspec": {
   "display_name": "lamindb",
   "language": "python",
   "name": "python3"
  },
  "language_info": {
   "codemirror_mode": {
    "name": "ipython",
    "version": 3
   },
   "file_extension": ".py",
   "mimetype": "text/x-python",
   "name": "python",
   "nbconvert_exporter": "python",
   "pygments_lexer": "ipython3",
   "version": "3.11.7"
  }
 },
 "nbformat": 4,
 "nbformat_minor": 2
}
