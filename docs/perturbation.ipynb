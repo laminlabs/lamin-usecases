{
 "cells": [
  {
   "cell_type": "markdown",
   "metadata": {},
   "source": [
    "# Curating perturbation dataset"
   ]
  },
  {
   "cell_type": "markdown",
   "metadata": {},
   "source": [
    "In this guide we demonstrate how to annotate a complex, real world perturbation dataset (McFarland et al. 2020)[https://www.nature.com/articles/s41467-020-17440-w] in great detail.\n",
    "We make use of the {mod}`wetlab` schema to enable efficient search for specific treatment targets and their associated perturbations."
   ]
  },
  {
   "cell_type": "code",
   "execution_count": null,
   "metadata": {},
   "outputs": [],
   "source": [
    "# !pip install 'lamindb[jupyter,aws,bionty]' wetlab \n",
    "!lamin init --storage ./test-perturbation --schema bionty,wetlab"
   ]
  },
  {
   "cell_type": "code",
   "execution_count": null,
   "metadata": {},
   "outputs": [],
   "source": [
    "!wget -nc https://zenodo.org/record/7041849/files/McFarlandTsherniak2020.h5ad"
   ]
  },
  {
   "cell_type": "code",
   "execution_count": null,
   "metadata": {
    "tags": [
     "hide-output"
    ]
   },
   "outputs": [],
   "source": [
    "import lamindb as ln\n",
    "import bionty as bt\n",
    "import wetlab as wl\n",
    "import anndata as ad\n",
    "import numpy as np\n",
    "import pandas as pd\n",
    "pd.set_option('display.max_columns', None)\n",
    "\n",
    "ln.settings.creation.search_names = False\n",
    "\n",
    "ln.context.uid = \"K6sInKIQW5nt0000\"\n",
    "ln.context.track()"
   ]
  },
  {
   "cell_type": "code",
   "execution_count": null,
   "metadata": {},
   "outputs": [],
   "source": [
    "adata = ad.read_h5ad(\"McFarlandTsherniak2020.h5ad\")"
   ]
  },
  {
   "cell_type": "code",
   "execution_count": null,
   "metadata": {},
   "outputs": [],
   "source": [
    "# Subsample to speed up subsequent steps\n",
    "adata = adata[np.random.choice(adata.n_obs, size=int(0.5 * adata.n_obs), replace=False), :].copy()"
   ]
  },
  {
   "cell_type": "code",
   "execution_count": null,
   "metadata": {
    "tags": [
     "hide-output"
    ]
   },
   "outputs": [],
   "source": [
    "adata.obs.head(3)"
   ]
  },
  {
   "cell_type": "code",
   "execution_count": null,
   "metadata": {
    "tags": [
     "hide-output"
    ]
   },
   "outputs": [],
   "source": [
    "# The cells were subject to several types of perturbations that we will curate separately\n",
    "adata.obs.perturbation_type.value_counts()"
   ]
  },
  {
   "cell_type": "code",
   "execution_count": null,
   "metadata": {},
   "outputs": [],
   "source": [
    "adata.obs = adata.obs.drop(columns=\"percent.mito\")"
   ]
  },
  {
   "cell_type": "markdown",
   "metadata": {},
   "source": [
    "## Curate non-perturbation metadata"
   ]
  },
  {
   "cell_type": "code",
   "execution_count": null,
   "metadata": {},
   "outputs": [],
   "source": [
    "categoricals = {\n",
    "    \"DepMap_ID\": bt.CellLine.ontology_id,\n",
    "    \"cell_line\": bt.CellLine.name,\n",
    "    \"disease\": bt.Disease.name,\n",
    "    \"organism\": bt.Organism.name,\n",
    "    \"perturbation_type\": ln.ULabel.name,\n",
    "    \"sex\": bt.Phenotype.name,\n",
    "    \"time\": ln.ULabel.name,\n",
    "    \"tissue_type\": ln.ULabel.name,\n",
    "}\n",
    "sources = {\n",
    "    \"DepMap_ID\": bt.Source.filter(name=\"depmap\").one(),\n",
    "    \"cell_line\": bt.Source.filter(name=\"depmap\").one(),\n",
    "}"
   ]
  },
  {
   "cell_type": "code",
   "execution_count": null,
   "metadata": {
    "tags": [
     "hide-output"
    ]
   },
   "outputs": [],
   "source": [
    "curate = ln.Curate.from_anndata(\n",
    "    adata, \n",
    "    var_index=bt.Gene.ensembl_gene_id,\n",
    "    categoricals=categoricals, \n",
    "    organism=\"human\",\n",
    "    sources=sources\n",
    ")"
   ]
  },
  {
   "cell_type": "code",
   "execution_count": null,
   "metadata": {
    "tags": [
     "hide-output"
    ]
   },
   "outputs": [],
   "source": [
    "curate.add_new_from_columns()"
   ]
  },
  {
   "cell_type": "code",
   "execution_count": null,
   "metadata": {
    "tags": [
     "hide-output"
    ]
   },
   "outputs": [],
   "source": [
    "curate.validate()"
   ]
  },
  {
   "cell_type": "code",
   "execution_count": null,
   "metadata": {
    "tags": [
     "hide-output"
    ]
   },
   "outputs": [],
   "source": [
    "# We found a mix of ensembl IDs and gene symbols in the var_index -> get all gene symbols to ensembl IDs\n",
    "gene_mapper = bt.Gene.standardize(curate.non_validated[\"var_index\"], field=\"symbol\", return_field=\"ensembl_gene_id\", return_mapper=True, organism=\"human\")\n",
    "adata.var.index = adata.var.index.map(lambda x: gene_mapper.get(x, x))"
   ]
  },
  {
   "cell_type": "code",
   "execution_count": null,
   "metadata": {},
   "outputs": [],
   "source": [
    "# Since the focus of this guide is the curation of perturbations, we assume that we got the correct names by searching on LaminHub\n",
    "adata.obs[\"disease\"] = adata.obs[\"disease\"].cat.rename_categories({\"colon/colorectal cancer\": \"colorectal cancer\",\n",
    "                                                    \"rhabdoid\": \"rhabdoid tumor\",\n",
    "                                                    \"bladder cancer\": \"urinary bladder carcinoma\",\n",
    "                                                    \"endometrial/uterine cancer\": \"uterine corpus cancer\"})"
   ]
  },
  {
   "cell_type": "code",
   "execution_count": null,
   "metadata": {
    "tags": [
     "hide-output"
    ]
   },
   "outputs": [],
   "source": [
    "adata.obs[\"cell_line\"] = bt.CellLine.public(source=bt.Source.filter(name=\"depmap\").one()).standardize(adata.obs[\"cell_line\"], field=\"name\")\n",
    "bt.CellLine.public(source=bt.Source.filter(name=\"depmap\").one()).inspect(adata.obs[\"cell_line\"], field=\"name\")"
   ]
  },
  {
   "cell_type": "code",
   "execution_count": null,
   "metadata": {
    "tags": [
     "hide-output"
    ]
   },
   "outputs": [],
   "source": [
    "curate.add_validated_from_var_index()\n",
    "curate.add_validated_from('DepMap_ID')\n",
    "curate.add_new_from('perturbation_type')\n",
    "curate.add_new_from('sex')\n",
    "curate.add_new_from('time')\n",
    "curate.add_new_from('tissue_type')\n",
    "curate.add_validated_from('disease')\n",
    "curate.add_new_from('cell_line')"
   ]
  },
  {
   "cell_type": "code",
   "execution_count": null,
   "metadata": {
    "tags": [
     "hide-output"
    ]
   },
   "outputs": [],
   "source": [
    "curate = ln.Curate.from_anndata(\n",
    "    adata, \n",
    "    var_index=bt.Gene.ensembl_gene_id,\n",
    "    categoricals=categoricals, \n",
    "    organism=\"human\",\n",
    "    sources=sources\n",
    ")\n",
    "curate.validate()"
   ]
  },
  {
   "cell_type": "code",
   "execution_count": null,
   "metadata": {},
   "outputs": [],
   "source": [
    "adata = adata[:, ~adata.var.index.isin(curate.non_validated[\"var_index\"])].copy()"
   ]
  },
  {
   "cell_type": "code",
   "execution_count": null,
   "metadata": {
    "tags": [
     "hide-output"
    ]
   },
   "outputs": [],
   "source": [
    "curate = ln.Curate.from_anndata(\n",
    "    adata, \n",
    "    var_index=bt.Gene.ensembl_gene_id,\n",
    "    categoricals=categoricals, \n",
    "    organism=\"human\",\n",
    ")\n",
    "curate.validate()"
   ]
  },
  {
   "cell_type": "markdown",
   "metadata": {},
   "source": [
    "## Defining Treatment records"
   ]
  },
  {
   "cell_type": "markdown",
   "metadata": {},
   "source": [
    "The dataset has two types of perturbations: CRISPR and Compounds.\n",
    "We will create their records and associated targets separately."
   ]
  },
  {
   "cell_type": "code",
   "execution_count": null,
   "metadata": {},
   "outputs": [],
   "source": [
    "crispr_metadata = adata.obs[adata.obs[\"perturbation_type\"] == \"CRISPR\"]\n",
    "drug_metadata = adata.obs[adata.obs[\"perturbation_type\"] == \"drug\"]"
   ]
  },
  {
   "cell_type": "markdown",
   "metadata": {},
   "source": [
    "## Genetic treatments"
   ]
  },
  {
   "cell_type": "markdown",
   "metadata": {},
   "source": [
    "The following targets are the direct targets of the perturbations, and while they may affect a pathway, we only curate the direct targets for simplicity.\n",
    "\n",
    "1. **sgGPX4-1**: **Gene/Protein** - GPX4 (Glutathione Peroxidase 4)\n",
    "2. **sgGPX4-2**: **Gene/Protein** - GPX4 (Glutathione Peroxidase 4)\n",
    "3. **sgLACZ**: **Gene/Protein** - LACZ (β-galactosidase)\n",
    "4. **sgOR2J2**: **Gene/Protein** - OR2J2 (Olfactory receptor family 2 subfamily J member 2)"
   ]
  },
  {
   "cell_type": "code",
   "execution_count": null,
   "metadata": {
    "tags": [
     "hide-output"
    ]
   },
   "outputs": [],
   "source": [
    "crispr_metadata.head(3)"
   ]
  },
  {
   "cell_type": "code",
   "execution_count": null,
   "metadata": {
    "tags": [
     "hide-output"
    ]
   },
   "outputs": [],
   "source": [
    "list(crispr_metadata[\"perturbation\"].unique())"
   ]
  },
  {
   "cell_type": "code",
   "execution_count": null,
   "metadata": {
    "tags": [
     "hide-output"
    ]
   },
   "outputs": [],
   "source": [
    "sgGPX4_1_treatment = wl.GeneticTreatment(\n",
    "            system=\"CRISPR Cas9\",\n",
    "            name=f\"sgGPX4-1 knockdown\",\n",
    ").save()\n",
    "gpx4_prot = bt.Protein.from_source(gene_symbol=\"GPX4\", organism=\"human\")[0].save()\n",
    "gpx4_target = wl.TreatmentTarget(name=\"Glutathione Peroxidase 4\").save()\n",
    "gpx4_target.proteins.add(gpx4_prot)\n",
    "sgGPX4_1_treatment.targets.add(gpx4_target)"
   ]
  },
  {
   "cell_type": "code",
   "execution_count": null,
   "metadata": {
    "tags": [
     "hide-output"
    ]
   },
   "outputs": [],
   "source": [
    "sgGPX4_2_treatment = wl.GeneticTreatment(\n",
    "            system=\"CRISPR Cas9\",\n",
    "            name=f\"sgGPX4-2 knockdown\",\n",
    ").save()\n",
    "sgGPX4_2_treatment.targets.add(gpx4_target)"
   ]
  },
  {
   "cell_type": "code",
   "execution_count": null,
   "metadata": {
    "tags": [
     "hide-output"
    ]
   },
   "outputs": [],
   "source": [
    "sglacz_treatment = wl.GeneticTreatment(\n",
    "            system=\"CRISPR Cas9\",\n",
    "            name=f\"sgLACZ knockdown\",\n",
    ").save()\n",
    "lacz_prot = bt.Protein.from_source(name=\"beta-galactosidase\", organism=\"human\").save()\n",
    "lacz_target = wl.TreatmentTarget(name=\"beta-galactosidase\").save()\n",
    "lacz_target.proteins.add(lacz_prot)\n",
    "sglacz_treatment.targets.add(lacz_target)"
   ]
  },
  {
   "cell_type": "code",
   "execution_count": null,
   "metadata": {
    "tags": [
     "hide-output"
    ]
   },
   "outputs": [],
   "source": [
    "sgor2j2_treatment = wl.GeneticTreatment(\n",
    "            system=\"CRISPR Cas9\",\n",
    "            name=f\"or2j2 knockdown\",\n",
    ").save()\n",
    "or2j2_prot = bt.Protein.from_source(name=\"Olfactory receptor 2J2\", organism=\"human\").save()\n",
    "or2j2_target = wl.TreatmentTarget(name=\"Olfactory receptor family 2 subfamily J member 2\").save()\n",
    "or2j2_target.proteins.add(or2j2_prot)\n",
    "sgor2j2_treatment.targets.add(or2j2_target)"
   ]
  },
  {
   "cell_type": "code",
   "execution_count": null,
   "metadata": {},
   "outputs": [],
   "source": [
    "genetic_treatments = [sgGPX4_1_treatment, sgGPX4_2_treatment, sgGPX4_1_treatment, sgor2j2_treatment]"
   ]
  },
  {
   "cell_type": "markdown",
   "metadata": {},
   "source": [
    "## CompoundTreatments"
   ]
  },
  {
   "cell_type": "markdown",
   "metadata": {},
   "source": [
    "Although the targets are known for many compounds, we skip annotating them here to keep the guide on point."
   ]
  },
  {
   "cell_type": "markdown",
   "metadata": {
    "tags": [
     "hide-output"
    ]
   },
   "source": [
    "1. **AZD5591**: Unknown\n",
    "2. **Afatinib**: **Proteins** - EGFR (Epidermal Growth Factor Receptor), HER2 (Human Epidermal growth factor Receptor 2)\n",
    "3. **BRD3379**: Unknown\n",
    "4. **Bortezomib**: **Protein complex** - Proteasome (specifically the 26S proteasome subunit)\n",
    "5. **Dabrafenib**: **Gene/Protein** - BRAF (V600E mutation in the BRAF gene, which codes for a protein kinase)\n",
    "6. **Everolimus**: **Protein** - mTOR (Mammalian Target of Rapamycin)\n",
    "7. **Gemcitabine**: **Pathway/Process** - DNA synthesis (inhibition of ribonucleotide reductase and incorporation into DNA)\n",
    "8. **Idasanutlin**: **Protein** - MDM2 (Mouse Double Minute 2 homolog)\n",
    "9. **JQ1**: **Protein** - BRD4 (Bromodomain-containing protein 4)\n",
    "10. **Navitoclax**: **Proteins** - BCL-2, BCL-XL (B-cell lymphoma 2 and B-cell lymphoma-extra large)\n",
    "11. **Prexasertib**: **Protein** - CHK1 (Checkpoint kinase 1)\n",
    "12. **Taselisib**: **Protein/Pathway** - PI3K (Phosphoinositide 3-kinase)\n",
    "13. **Trametinib**: **Proteins** - MEK1/2 (Mitogen-Activated Protein Kinase Kinase 1 and 2)\n",
    "14. **control**: Not applicable"
   ]
  },
  {
   "cell_type": "code",
   "execution_count": null,
   "metadata": {},
   "outputs": [],
   "source": [
    "# We are using the chebi/chembl chemistry/drug ontology for the drug perturbations\n",
    "chebi_source = bt.Source.filter(entity=\"Drug\", name=\"chebi\").one()\n",
    "wl.Compound.add_source(chebi_source)\n",
    "compounds = wl.Compound.public()\n",
    "compounds.df().head(3)"
   ]
  },
  {
   "cell_type": "code",
   "execution_count": null,
   "metadata": {
    "tags": [
     "hide-output"
    ]
   },
   "outputs": [],
   "source": [
    "drug_metadata.head(3)"
   ]
  },
  {
   "cell_type": "code",
   "execution_count": null,
   "metadata": {
    "tags": [
     "hide-output"
    ]
   },
   "outputs": [],
   "source": [
    "drug_metadata[\"perturbation\"] = drug_metadata[\"perturbation\"].cat.rename_categories(lambda category: category.lower())\n",
    "compounds = wl.Compound.from_values(drug_metadata[\"perturbation\"], field=\"name\")"
   ]
  },
  {
   "cell_type": "code",
   "execution_count": null,
   "metadata": {
    "tags": [
     "hide-output"
    ]
   },
   "outputs": [],
   "source": [
    "# The remaining compounds are not in chebi and we create records for them\n",
    "for missing in ['azd5591', 'brd3379', 'control', 'idasanutlin', 'prexasertib', 'taselisib']:\n",
    "    compounds.append(wl.Compound(name=missing))\n",
    "ln.save(compounds)"
   ]
  },
  {
   "cell_type": "code",
   "execution_count": null,
   "metadata": {
    "tags": [
     "hide-output"
    ]
   },
   "outputs": [],
   "source": [
    "unique_treatments = drug_metadata[['perturbation', 'dose_unit', 'dose_value']].drop_duplicates()\n",
    "\n",
    "compound_treatments = []\n",
    "for _, row in unique_treatments.iterrows():\n",
    "    val_to_search = row['perturbation']\n",
    "    compound = wl.Compound.search(val_to_search).first()\n",
    "    treatment = wl.CompoundTreatment(name=compound.name,\n",
    "                                        concentration=row['dose_value'],\n",
    "                                        concentration_unit=row['dose_unit'])\n",
    "    compound_treatments.append(treatment)\n",
    "    \n",
    "ln.save(compound_treatments)"
   ]
  },
  {
   "cell_type": "markdown",
   "metadata": {},
   "source": [
    "## Set relationships"
   ]
  },
  {
   "cell_type": "code",
   "execution_count": null,
   "metadata": {
    "tags": [
     "hide-output"
    ]
   },
   "outputs": [],
   "source": [
    "artifact = curate.save_artifact(description=\"McFarland AnnData\")"
   ]
  },
  {
   "cell_type": "code",
   "execution_count": null,
   "metadata": {},
   "outputs": [],
   "source": [
    "artifact.genetic_treatments.set(genetic_treatments)\n",
    "artifact.compound_treatments.set(compound_treatments)"
   ]
  },
  {
   "cell_type": "code",
   "execution_count": null,
   "metadata": {
    "tags": [
     "hide-output"
    ]
   },
   "outputs": [],
   "source": [
    "artifact.describe()"
   ]
  },
  {
   "cell_type": "code",
   "execution_count": null,
   "metadata": {
    "tags": [
     "hide-output"
    ]
   },
   "outputs": [],
   "source": [
    "ln.context.finish()"
   ]
  },
  {
   "cell_type": "code",
   "execution_count": null,
   "metadata": {
    "tags": [
     "hide-output"
    ]
   },
   "outputs": [],
   "source": [
    "# clean up test instance\n",
    "!rm -r test-perturbation\n",
    "!lamin delete --force test-perturbation"
   ]
  }
 ],
 "metadata": {
  "kernelspec": {
   "display_name": "lamindb",
   "language": "python",
   "name": "python3"
  },
  "language_info": {
   "codemirror_mode": {
    "name": "ipython",
    "version": 3
   },
   "file_extension": ".py",
   "mimetype": "text/x-python",
   "name": "python",
   "nbconvert_exporter": "python",
   "pygments_lexer": "ipython3",
   "version": "3.11.7"
  }
 },
 "nbformat": 4,
 "nbformat_minor": 2
}
