{
 "cells": [
  {
   "cell_type": "markdown",
   "metadata": {},
   "source": [
    "# Perturbation"
   ]
  },
  {
   "cell_type": "markdown",
   "metadata": {},
   "source": [
    "This guide demonstrates how to curate a complex, real world perturbation dataset [McFarland et al. 2020](https://www.nature.com/articles/s41467-020-17440-w) using the {mod}`wetlab` schema."
   ]
  },
  {
   "cell_type": "code",
   "execution_count": null,
   "metadata": {},
   "outputs": [],
   "source": [
    "# !pip install 'lamindb[jupyter,aws,bionty]' wetlab\n",
    "!lamin init --storage ./test-perturbation --schema bionty,wetlab"
   ]
  },
  {
   "cell_type": "code",
   "execution_count": null,
   "metadata": {
    "tags": [
     "hide-output"
    ]
   },
   "outputs": [],
   "source": [
    "import lamindb as ln\n",
    "import bionty as bt\n",
    "import wetlab as wl\n",
    "import pandas as pd\n",
    "\n",
    "pd.set_option(\"display.max_columns\", None)\n",
    "\n",
    "ln.context.uid = \"K6sInKIQW5nt0003\"\n",
    "ln.context.track()"
   ]
  },
  {
   "cell_type": "code",
   "execution_count": null,
   "metadata": {
    "tags": [
     "hide-output"
    ]
   },
   "outputs": [],
   "source": [
    "# See https://lamin.ai/laminlabs/lamindata/transform/13VINnFk89PE0006 to learn how this dataset was prepared\n",
    "adata = ln.Artifact.using(\"laminlabs/lamindata\").get(uid=\"Xk7Qaik9vBLV4PKf0001\").load()\n",
    "adata.obs.head(3)"
   ]
  },
  {
   "cell_type": "code",
   "execution_count": null,
   "metadata": {},
   "outputs": [],
   "source": [
    "curate = ln.Curator.from_anndata(\n",
    "    adata,\n",
    "    var_index=bt.Gene.ensembl_gene_id,\n",
    "    organism=\"human\",\n",
    "    using_key=\"laminlabs/lamindata\"\n",
    ")\n",
    "curate.validate()"
   ]
  },
  {
   "cell_type": "code",
   "execution_count": null,
   "metadata": {
    "tags": [
     "hide-output"
    ]
   },
   "outputs": [],
   "source": [
    "# The cells were subject to several types of perturbations that we will curate separately\n",
    "adata.obs.perturbation_type.value_counts()"
   ]
  },
  {
   "cell_type": "markdown",
   "metadata": {},
   "source": [
    "## Curate non-perturbation metadata"
   ]
  },
  {
   "cell_type": "code",
   "execution_count": null,
   "metadata": {
    "tags": [
     "hide-output"
    ]
   },
   "outputs": [],
   "source": [
    "categoricals = {\n",
    "    \"depmap_id\": bt.CellLine.ontology_id,\n",
    "    \"cell_line\": bt.CellLine.name,\n",
    "    \"disease\": bt.Disease.name,\n",
    "    \"organism\": bt.Organism.name,\n",
    "    \"perturbation_type\": ln.ULabel.name,\n",
    "    \"sex\": bt.Phenotype.name,\n",
    "    \"time\": ln.ULabel.name,\n",
    "    \"tissue_type\": ln.ULabel.name,\n",
    "}\n",
    "sources = {\n",
    "    \"depmap_id\": bt.Source.using(\"laminlabs/lamindata\").filter(name=\"depmap\").one(),\n",
    "    \"cell_line\": bt.Source.using(\"laminlabs/lamindata\").filter(name=\"depmap\").one(),\n",
    "}\n",
    "\n",
    "curate = ln.Curator.from_anndata(\n",
    "    adata,\n",
    "    var_index=bt.Gene.ensembl_gene_id,\n",
    "    categoricals=categoricals,\n",
    "    organism=\"human\",\n",
    "    sources=sources,\n",
    "    using_key=\"laminlabs/lamindata\"\n",
    ")\n",
    "\n",
    "curate.validate()"
   ]
  },
  {
   "cell_type": "code",
   "execution_count": null,
   "metadata": {
    "tags": [
     "hide-output"
    ]
   },
   "outputs": [],
   "source": [
    "curate.add_new_from(\"perturbation_type\")\n",
    "curate.add_new_from(\"sex\")\n",
    "curate.add_new_from(\"time\")\n",
    "curate.add_new_from(\"tissue_type\")\n",
    "curate.add_new_from(\"cell_line\")"
   ]
  },
  {
   "cell_type": "markdown",
   "metadata": {},
   "source": [
    "## Modeling and curating perturbation metadata"
   ]
  },
  {
   "cell_type": "markdown",
   "metadata": {},
   "source": [
    "The dataset has two types of perturbations: CRISPR and Compounds.\n",
    "We will create their records and associated targets separately."
   ]
  },
  {
   "cell_type": "code",
   "execution_count": null,
   "metadata": {},
   "outputs": [],
   "source": [
    "crispr_metadata = adata.obs[adata.obs[\"perturbation_type\"] == \"CRISPR\"]\n",
    "drug_metadata = adata.obs[adata.obs[\"perturbation_type\"] == \"drug\"]"
   ]
  },
  {
   "cell_type": "markdown",
   "metadata": {},
   "source": [
    "The {mod}`wetlab` schema has two major components:\n",
    "\n",
    "1. {class}`wetlab.EnvironmentalTreatment` to model perturbations such as heat, {class}`wetlab.GeneticTreatment` to model perturbations such as CRISPR, and {class}`wetlab.CompoundTreatment` to model, for example, drugs. Several treatments together can be modeled using {class}`wetlab.CombinationTreatment`.\n",
    "2. Known targets of treatments can be modeled through {class}`wetlab.TreatmentTarget` which can be one or several of {class}`bionty.Gene`, {class}`bionty.Protein`, or {class}`bionty.Pathway` records."
   ]
  },
  {
   "cell_type": "markdown",
   "metadata": {},
   "source": [
    "### Genetic perturbations"
   ]
  },
  {
   "cell_type": "markdown",
   "metadata": {},
   "source": [
    "Genetic perturbations can be modeled in two ways depending on the available information by populating a:\n",
    "\n",
    "1. {class}`wetlab.GeneticTreatment` record if the system such as the guide RNA name or sequence, the on- and off-target scores are known.\n",
    "2. {class}`wetlab.TreatmentTarget` record that links to {class}`bionty.Gene` records."
   ]
  },
  {
   "cell_type": "code",
   "execution_count": null,
   "metadata": {
    "tags": [
     "hide-output"
    ]
   },
   "outputs": [],
   "source": [
    "crispr_metadata.head(3)"
   ]
  },
  {
   "cell_type": "code",
   "execution_count": null,
   "metadata": {
    "tags": [
     "hide-output"
    ]
   },
   "outputs": [],
   "source": [
    "list(crispr_metadata[\"perturbation\"].unique())"
   ]
  },
  {
   "cell_type": "markdown",
   "metadata": {},
   "source": [
    ":::{dropdown} What are the associated targets?\n",
    "\n",
    "The following targets are the direct targets of the perturbations, and while they may affect a pathway, we only curate the direct targets for simplicity.\n",
    "\n",
    "1. **sgGPX4-1**: **Gene/Protein** - GPX4 (Glutathione Peroxidase 4)\n",
    "2. **sgGPX4-2**: **Gene/Protein** - GPX4 (Glutathione Peroxidase 4)\n",
    "3. **sgLACZ**: **Gene/Protein** - LACZ (β-galactosidase)\n",
    "4. **sgOR2J2**: **Gene/Protein** - OR2J2 (Olfactory receptor family 2 subfamily J member 2)\n",
    "\n",
    ":::"
   ]
  },
  {
   "cell_type": "markdown",
   "metadata": {},
   "source": [
    "Since the perturbation metadata contains the guide RNA names, we model the genetic perturbations using both {class}`wetlab.GeneticTreatment` and {class}`wetlab.TreatmentTarget`."
   ]
  },
  {
   "cell_type": "code",
   "execution_count": null,
   "metadata": {
    "tags": [
     "hide-output"
    ]
   },
   "outputs": [],
   "source": [
    "treatments = [\n",
    "    (\"sgGPX4-1\", \"GPX4\", \"Glutathione Peroxidase 4\"),\n",
    "    (\"sgGPX4-2\", \"GPX4\", \"Glutathione Peroxidase 4\"),\n",
    "    (\"sgor2j2\", \"or2j2\", \"Olfactory receptor family 2 subfamily J member 2\"),\n",
    "    (\"sgLACZ\", \"lacz\", \"beta-galactosidase control\"),  # Control from E. coli\n",
    "]\n",
    "organism = bt.Organism.lookup().human\n",
    "\n",
    "genetic_treatments = []\n",
    "for name, symbol, target_name in treatments:\n",
    "    treatment = wl.GeneticTreatment(system=\"CRISPR Cas9\", name=name).save()\n",
    "    if symbol != \"lacz\":\n",
    "        gene_result = bt.Gene.from_source(symbol=symbol, organism=organism)\n",
    "        gene = gene_result[0] if isinstance(gene_result, list) else gene_result\n",
    "        gene = gene.save()\n",
    "    else:\n",
    "        gene = bt.Gene(symbol=symbol, organism=organism).save()\n",
    "    target = wl.TreatmentTarget(name=target_name).save()\n",
    "    target.genes.add(gene)\n",
    "    treatment.targets.add(target)\n",
    "    genetic_treatments.append(treatment)"
   ]
  },
  {
   "cell_type": "markdown",
   "metadata": {},
   "source": [
    "### Compound perturbations"
   ]
  },
  {
   "cell_type": "markdown",
   "metadata": {},
   "source": [
    "Although the targets are known for many compounds, we skip annotating them here to keep the guide brief."
   ]
  },
  {
   "cell_type": "markdown",
   "metadata": {
    "tags": [
     "hide-output"
    ]
   },
   "source": [
    ":::{dropdown} What are the compound targets?\n",
    "\n",
    "1. **AZD5591**: Unknown\n",
    "2. **Afatinib**: **Proteins** - EGFR (Epidermal Growth Factor Receptor), HER2 (Human Epidermal growth factor Receptor 2)\n",
    "3. **BRD3379**: Unknown\n",
    "4. **Bortezomib**: **Protein complex** - Proteasome (specifically the 26S proteasome subunit)\n",
    "5. **Dabrafenib**: **Gene/Protein** - BRAF (V600E mutation in the BRAF gene, which codes for a protein kinase)\n",
    "6. **Everolimus**: **Protein** - mTOR (Mammalian Target of Rapamycin)\n",
    "7. **Gemcitabine**: **Pathway/Process** - DNA synthesis (inhibition of ribonucleotide reductase and incorporation into DNA)\n",
    "8. **Idasanutlin**: **Protein** - MDM2 (Mouse Double Minute 2 homolog)\n",
    "9. **JQ1**: **Protein** - BRD4 (Bromodomain-containing protein 4)\n",
    "10. **Navitoclax**: **Proteins** - BCL-2, BCL-XL (B-cell lymphoma 2 and B-cell lymphoma-extra large)\n",
    "11. **Prexasertib**: **Protein** - CHK1 (Checkpoint kinase 1)\n",
    "12. **Taselisib**: **Protein/Pathway** - PI3K (Phosphoinositide 3-kinase)\n",
    "13. **Trametinib**: **Proteins** - MEK1/2 (Mitogen-Activated Protein Kinase Kinase 1 and 2)\n",
    "14. **control**: Not applicable\n",
    "\n",
    ":::"
   ]
  },
  {
   "cell_type": "code",
   "execution_count": null,
   "metadata": {
    "tags": [
     "hide-output"
    ]
   },
   "outputs": [],
   "source": [
    "# We are using the chebi/chembl chemistry/drug ontology for the drug perturbations\n",
    "chebi_source = bt.Source.filter(entity=\"Drug\", name=\"chebi\").one()\n",
    "wl.Compound.add_source(chebi_source)\n",
    "compounds = wl.Compound.public()"
   ]
  },
  {
   "cell_type": "code",
   "execution_count": null,
   "metadata": {
    "tags": [
     "hide-output"
    ]
   },
   "outputs": [],
   "source": [
    "drug_metadata.head(3)"
   ]
  },
  {
   "cell_type": "code",
   "execution_count": null,
   "metadata": {
    "tags": [
     "hide-output"
    ]
   },
   "outputs": [],
   "source": [
    "compounds = wl.Compound.from_values(drug_metadata[\"perturbation\"], field=\"name\")"
   ]
  },
  {
   "cell_type": "code",
   "execution_count": null,
   "metadata": {
    "tags": [
     "hide-output"
    ]
   },
   "outputs": [],
   "source": [
    "# The remaining compounds are not in chebi and we create records for them\n",
    "for missing in [\n",
    "    \"azd5591\",\n",
    "    \"brd3379\",\n",
    "    \"control\",\n",
    "    \"idasanutlin\",\n",
    "    \"prexasertib\",\n",
    "    \"taselisib\",\n",
    "]:\n",
    "    compounds.append(wl.Compound(name=missing))\n",
    "ln.save(compounds)"
   ]
  },
  {
   "cell_type": "code",
   "execution_count": null,
   "metadata": {
    "tags": [
     "hide-output"
    ]
   },
   "outputs": [],
   "source": [
    "unique_treatments = drug_metadata[\n",
    "    [\"perturbation\", \"dose_unit\", \"dose_value\"]\n",
    "].drop_duplicates()\n",
    "\n",
    "compound_treatments = []\n",
    "for _, row in unique_treatments.iterrows():\n",
    "    compound = wl.Compound.get(name=row[\"perturbation\"])\n",
    "    treatment = wl.CompoundTreatment(\n",
    "        name=compound.name,\n",
    "        concentration=row[\"dose_value\"],\n",
    "        concentration_unit=row[\"dose_unit\"],\n",
    "    )\n",
    "    compound_treatments.append(treatment)\n",
    "\n",
    "ln.save(compound_treatments)"
   ]
  },
  {
   "cell_type": "markdown",
   "metadata": {},
   "source": [
    "## Register curated artifact"
   ]
  },
  {
   "cell_type": "code",
   "execution_count": null,
   "metadata": {
    "tags": [
     "hide-output"
    ]
   },
   "outputs": [],
   "source": [
    "artifact = curate.save_artifact(description=\"McFarland AnnData\")"
   ]
  },
  {
   "cell_type": "code",
   "execution_count": null,
   "metadata": {},
   "outputs": [],
   "source": [
    "artifact.genetic_treatments.set(genetic_treatments)\n",
    "artifact.compound_treatments.set(compound_treatments)"
   ]
  },
  {
   "cell_type": "code",
   "execution_count": null,
   "metadata": {
    "tags": [
     "hide-output"
    ]
   },
   "outputs": [],
   "source": [
    "artifact.describe()"
   ]
  },
  {
   "cell_type": "code",
   "execution_count": null,
   "metadata": {
    "tags": [
     "hide-cell"
    ]
   },
   "outputs": [],
   "source": [
    "# clean up test instance\n",
    "!rm -r test-perturbation\n",
    "!lamin delete --force test-perturbation"
   ]
  }
 ],
 "metadata": {
  "kernelspec": {
   "display_name": "lamindb",
   "language": "python",
   "name": "python3"
  },
  "language_info": {
   "codemirror_mode": {
    "name": "ipython",
    "version": 3
   },
   "file_extension": ".py",
   "mimetype": "text/x-python",
   "name": "python",
   "nbconvert_exporter": "python",
   "pygments_lexer": "ipython3",
   "version": "3.10.13"
  }
 },
 "nbformat": 4,
 "nbformat_minor": 2
}
