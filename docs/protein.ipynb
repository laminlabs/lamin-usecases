{
 "cells": [
  {
   "cell_type": "markdown",
   "id": "932e44c5",
   "metadata": {},
   "source": [
    "# Protein"
   ]
  },
  {
   "cell_type": "markdown",
   "id": "d2d38fef",
   "metadata": {},
   "source": [
    "lamindb provides access to the following public protein ontologies through [lnschema-bionty](https://github.com/laminlabs/lnschema-bionty):\n",
    "\n",
    "1. [Uniprot](https://www.uniprot.org/)\n",
    "\n",
    "Here we show how to access and search Protein ontologies to standardize new data."
   ]
  },
  {
   "cell_type": "markdown",
   "id": "8d13b4a1",
   "metadata": {},
   "source": [
    "## Setup"
   ]
  },
  {
   "cell_type": "code",
   "execution_count": null,
   "id": "4e71ce8e",
   "metadata": {},
   "outputs": [],
   "source": [
    "!lamin init --storage ./test-protein --schema bionty"
   ]
  },
  {
   "cell_type": "code",
   "execution_count": null,
   "id": "8f88747c",
   "metadata": {},
   "outputs": [],
   "source": [
    "import lnschema_bionty as lb\n",
    "import pandas as pd"
   ]
  },
  {
   "cell_type": "markdown",
   "id": "c663f697",
   "metadata": {},
   "source": [
    "## PublicOntology objects"
   ]
  },
  {
   "cell_type": "markdown",
   "id": "ea8502cc",
   "metadata": {},
   "source": [
    "Let us create a public ontology accessor with {meth}`~docs:lnschema_bionty.dev.BioRegistry.public`, which chooses a default public ontology source from {class}`~docs:lnschema_bionty.PublicSource`.\n",
    "It's a [PublicOntology](https://lamin.ai/docs/lnschema_bionty.dev.publicontology) object, which you can think about as a public registry:"
   ]
  },
  {
   "cell_type": "code",
   "execution_count": null,
   "id": "5801a056",
   "metadata": {},
   "outputs": [],
   "source": [
    "proteins = lb.Protein.public(organism=\"human\")\n",
    "proteins"
   ]
  },
  {
   "cell_type": "markdown",
   "id": "5aa93cf4",
   "metadata": {},
   "source": [
    "As for registries, you can export the ontology as a `DataFrame`:"
   ]
  },
  {
   "cell_type": "code",
   "execution_count": null,
   "id": "1b421913",
   "metadata": {},
   "outputs": [],
   "source": [
    "df = proteins.df()\n",
    "df.head()"
   ]
  },
  {
   "cell_type": "markdown",
   "id": "ec222ad1",
   "metadata": {},
   "source": [
    "Unlike registries, you can also export it as a Pronto object via `public.ontology`."
   ]
  },
  {
   "cell_type": "markdown",
   "id": "c3f598cc",
   "metadata": {},
   "source": [
    "## Look up terms"
   ]
  },
  {
   "cell_type": "markdown",
   "id": "364b5c10",
   "metadata": {},
   "source": [
    "As for registries, terms can be looked up with auto-complete:"
   ]
  },
  {
   "cell_type": "code",
   "execution_count": null,
   "id": "dc6dc440",
   "metadata": {},
   "outputs": [],
   "source": [
    "lookup = proteins.lookup()"
   ]
  },
  {
   "cell_type": "markdown",
   "id": "d7e625ea",
   "metadata": {},
   "source": [
    "The `.` accessor provides normalized terms (lower case, only contains alphanumeric characters and underscores):"
   ]
  },
  {
   "cell_type": "code",
   "execution_count": null,
   "id": "34e4b3b4",
   "metadata": {},
   "outputs": [],
   "source": [
    "lookup.ac3"
   ]
  },
  {
   "cell_type": "markdown",
   "id": "0b1967f9",
   "metadata": {},
   "source": [
    "To look up the exact original strings, convert the lookup object to dict and use the `[]` accessor:"
   ]
  },
  {
   "cell_type": "code",
   "execution_count": null,
   "id": "fe0d773b",
   "metadata": {},
   "outputs": [],
   "source": [
    "lookup_dict = lookup.dict()\n",
    "lookup_dict[\"AC3\"]"
   ]
  },
  {
   "cell_type": "markdown",
   "id": "6806a590",
   "metadata": {},
   "source": [
    "By default, the `name` field is used to generate lookup keys. You can specify another field to look up:"
   ]
  },
  {
   "cell_type": "code",
   "execution_count": null,
   "id": "0fdcfd41",
   "metadata": {},
   "outputs": [],
   "source": [
    "lookup = proteins.lookup(proteins.gene_symbol)"
   ]
  },
  {
   "cell_type": "code",
   "execution_count": null,
   "id": "89a251c1",
   "metadata": {},
   "outputs": [],
   "source": [
    "lookup.rab4a"
   ]
  },
  {
   "cell_type": "markdown",
   "id": "1f72389a",
   "metadata": {},
   "source": [
    "## Search terms"
   ]
  },
  {
   "cell_type": "markdown",
   "id": "26057abd",
   "metadata": {},
   "source": [
    "Search behaves in the same way as it does for registries:"
   ]
  },
  {
   "cell_type": "code",
   "execution_count": null,
   "id": "bdb910fa",
   "metadata": {},
   "outputs": [],
   "source": [
    "proteins.search(\"RAS\").head(3)"
   ]
  },
  {
   "cell_type": "markdown",
   "id": "d999ebbb",
   "metadata": {},
   "source": [
    "By default, search also covers synonyms:"
   ]
  },
  {
   "cell_type": "code",
   "execution_count": null,
   "id": "7672bb44",
   "metadata": {},
   "outputs": [],
   "source": [
    "proteins.search(\"member of RAS oncogene family like 2B\").head(3)"
   ]
  },
  {
   "cell_type": "markdown",
   "id": "244fb8c3",
   "metadata": {},
   "source": [
    "You can turn this off synonym by passing `synonyms_field=None`:"
   ]
  },
  {
   "cell_type": "code",
   "execution_count": null,
   "id": "113c5f89",
   "metadata": {},
   "outputs": [],
   "source": [
    "proteins.search(\"member of RAS oncogene family like 2B\", synonyms_field=None).head(3)"
   ]
  },
  {
   "cell_type": "markdown",
   "id": "75f138e1",
   "metadata": {},
   "source": [
    "Search another field (default is `.name`):"
   ]
  },
  {
   "cell_type": "code",
   "execution_count": null,
   "id": "e41e6619",
   "metadata": {},
   "outputs": [],
   "source": [
    "proteins.search(\n",
    "    \"RABL2B\",\n",
    "    field=proteins.definition,\n",
    ").head()"
   ]
  },
  {
   "cell_type": "markdown",
   "id": "bef1f9e0",
   "metadata": {},
   "source": [
    "## Standardize Protein identifiers"
   ]
  },
  {
   "cell_type": "markdown",
   "id": "4e764d59",
   "metadata": {},
   "source": [
    "Let us generate a `DataFrame` that stores a number of Protein identifiers, some of which corrupted:"
   ]
  },
  {
   "cell_type": "code",
   "execution_count": null,
   "id": "e2c9bbab",
   "metadata": {},
   "outputs": [],
   "source": [
    "df_orig = pd.DataFrame(\n",
    "    index=[\n",
    "        \"A0A024QZ08\"\n",
    "        \"X6RLV5\"\n",
    "        \"X6RM24\"\n",
    "        \"A0A024QZQ1\"\n",
    "        \"This protein does not exist\",\n",
    "    ]\n",
    ")\n",
    "df_orig"
   ]
  },
  {
   "cell_type": "markdown",
   "id": "75cd5a8c",
   "metadata": {},
   "source": [
    "We can check whether any of our values are validated against the ontology reference:"
   ]
  },
  {
   "cell_type": "code",
   "execution_count": null,
   "id": "bfb15321",
   "metadata": {},
   "outputs": [],
   "source": [
    "validated = proteins.validate(df_orig.index, proteins.name)\n",
    "df_orig.index[~validated]"
   ]
  },
  {
   "cell_type": "markdown",
   "id": "a2fca412",
   "metadata": {},
   "source": [
    "## Ontology source versions"
   ]
  },
  {
   "cell_type": "markdown",
   "id": "13e2e216",
   "metadata": {},
   "source": [
    "For any given entity, we can choose from a number of versions:"
   ]
  },
  {
   "cell_type": "code",
   "execution_count": null,
   "id": "51f28ce4",
   "metadata": {},
   "outputs": [],
   "source": [
    "lb.PublicSource.filter(entity=\"Protein\").df()"
   ]
  },
  {
   "cell_type": "markdown",
   "id": "66c4b0fa",
   "metadata": {},
   "source": [
    "When instantiating a Bionty object, we can choose a source or version:"
   ]
  },
  {
   "cell_type": "code",
   "execution_count": null,
   "id": "b9e2be34",
   "metadata": {
    "lines_to_next_cell": 0
   },
   "outputs": [],
   "source": [
    "public_source = lb.PublicSource.filter(\n",
    "    source=\"uniprot\", version=\"2023-03\", organism=\"human\"\n",
    ").one()\n",
    "proteins= lb.Protein.public(public_source=public_source)\n",
    "proteins"
   ]
  },
  {
   "cell_type": "markdown",
   "id": "d55a527a",
   "metadata": {},
   "source": [
    "The currently used ontologies can be displayed using:"
   ]
  },
  {
   "cell_type": "code",
   "execution_count": null,
   "id": "33e51a52",
   "metadata": {
    "tags": [
     "hide-output"
    ]
   },
   "outputs": [],
   "source": [
    "lb.PublicSource.filter(currently_used=True).df()"
   ]
  },
  {
   "cell_type": "code",
   "execution_count": null,
   "id": "c1e6ba62",
   "metadata": {
    "tags": [
     "hide-cell"
    ]
   },
   "outputs": [],
   "source": [
    "!lamin delete --force test-protein\n",
    "!rm -r test-protein"
   ]
  }
 ],
 "metadata": {
  "kernelspec": {
   "display_name": "lamindb",
   "language": "python",
   "name": "python3"
  }
 },
 "nbformat": 4,
 "nbformat_minor": 5
}
