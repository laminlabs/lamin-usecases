{
 "cells": [
  {
   "cell_type": "markdown",
   "id": "6231e0a2",
   "metadata": {},
   "source": [
    "# Protein"
   ]
  },
  {
   "cell_type": "markdown",
   "id": "df44f04d",
   "metadata": {},
   "source": [
    "lamindb provides access to the following public protein ontologies through [bionty](https://lamin.ai/docs/bionty):\n",
    "\n",
    "1. [Uniprot](https://www.uniprot.org/)\n",
    "\n",
    "Here we show how to access and search Protein ontologies to standardize new data."
   ]
  },
  {
   "cell_type": "code",
   "execution_count": null,
   "id": "f4a18896",
   "metadata": {},
   "outputs": [],
   "source": [
    "import bionty as bt\n",
    "import pandas as pd"
   ]
  },
  {
   "cell_type": "markdown",
   "id": "d04a8ff7",
   "metadata": {},
   "source": [
    "## PublicOntology objects"
   ]
  },
  {
   "cell_type": "markdown",
   "id": "f05b0a37",
   "metadata": {},
   "source": [
    "Let us create a public ontology accessor with `.public` method, which chooses a default public ontology source from {class}`~docs:bionty.PublicSource`.\n",
    "It's a [PublicOntology](https://lamin.ai/docs/bionty.dev.publicontology) object, which you can think about as a public registry:"
   ]
  },
  {
   "cell_type": "code",
   "execution_count": null,
   "id": "5a81de8a",
   "metadata": {},
   "outputs": [],
   "source": [
    "proteins = bt.Protein.public(organism=\"human\")\n",
    "proteins"
   ]
  },
  {
   "cell_type": "markdown",
   "id": "b424832c",
   "metadata": {},
   "source": [
    "As for registries, you can export the ontology as a `DataFrame`:"
   ]
  },
  {
   "cell_type": "code",
   "execution_count": null,
   "id": "21909e11",
   "metadata": {},
   "outputs": [],
   "source": [
    "df = proteins.df()\n",
    "df.head()"
   ]
  },
  {
   "cell_type": "markdown",
   "id": "f85c99c6",
   "metadata": {},
   "source": [
    "Unlike registries, you can also export it as a Pronto object via `public.ontology`."
   ]
  },
  {
   "cell_type": "markdown",
   "id": "d56c7cf9",
   "metadata": {},
   "source": [
    "## Look up terms"
   ]
  },
  {
   "cell_type": "markdown",
   "id": "b48cfb73",
   "metadata": {},
   "source": [
    "As for registries, terms can be looked up with auto-complete:"
   ]
  },
  {
   "cell_type": "code",
   "execution_count": null,
   "id": "82744a15",
   "metadata": {},
   "outputs": [],
   "source": [
    "lookup = proteins.lookup()"
   ]
  },
  {
   "cell_type": "markdown",
   "id": "bfe0b000",
   "metadata": {},
   "source": [
    "The `.` accessor provides normalized terms (lower case, only contains alphanumeric characters and underscores):"
   ]
  },
  {
   "cell_type": "code",
   "execution_count": null,
   "id": "1f546166",
   "metadata": {},
   "outputs": [],
   "source": [
    "lookup.ac3"
   ]
  },
  {
   "cell_type": "markdown",
   "id": "74b02951",
   "metadata": {},
   "source": [
    "To look up the exact original strings, convert the lookup object to dict and use the `[]` accessor:"
   ]
  },
  {
   "cell_type": "code",
   "execution_count": null,
   "id": "755f324e",
   "metadata": {},
   "outputs": [],
   "source": [
    "lookup_dict = lookup.dict()\n",
    "lookup_dict[\"AC3\"]"
   ]
  },
  {
   "cell_type": "markdown",
   "id": "ccde79ff",
   "metadata": {},
   "source": [
    "By default, the `name` field is used to generate lookup keys. You can specify another field to look up:"
   ]
  },
  {
   "cell_type": "code",
   "execution_count": null,
   "id": "cc03e9da",
   "metadata": {},
   "outputs": [],
   "source": [
    "lookup = proteins.lookup(proteins.gene_symbol)"
   ]
  },
  {
   "cell_type": "code",
   "execution_count": null,
   "id": "921e022b",
   "metadata": {},
   "outputs": [],
   "source": [
    "lookup.rab4a"
   ]
  },
  {
   "cell_type": "markdown",
   "id": "d5e3f143",
   "metadata": {},
   "source": [
    "## Search terms"
   ]
  },
  {
   "cell_type": "markdown",
   "id": "9a3b331e",
   "metadata": {},
   "source": [
    "Search behaves in the same way as it does for registries:"
   ]
  },
  {
   "cell_type": "code",
   "execution_count": null,
   "id": "c948ae74",
   "metadata": {},
   "outputs": [],
   "source": [
    "proteins.search(\"RAS\").head(3)"
   ]
  },
  {
   "cell_type": "markdown",
   "id": "9a287ca3",
   "metadata": {},
   "source": [
    "By default, search also covers synonyms:"
   ]
  },
  {
   "cell_type": "code",
   "execution_count": null,
   "id": "3f4509bd",
   "metadata": {},
   "outputs": [],
   "source": [
    "proteins.search(\"member of RAS oncogene family like 2B\").head(3)"
   ]
  },
  {
   "cell_type": "markdown",
   "id": "4760713e",
   "metadata": {},
   "source": [
    "You can turn this off synonym by passing `synonyms_field=None`:"
   ]
  },
  {
   "cell_type": "code",
   "execution_count": null,
   "id": "9a0f2969",
   "metadata": {},
   "outputs": [],
   "source": [
    "proteins.search(\"member of RAS oncogene family like 2B\", synonyms_field=None).head(3)"
   ]
  },
  {
   "cell_type": "markdown",
   "id": "55c26084",
   "metadata": {},
   "source": [
    "Search another field (default is `.name`):"
   ]
  },
  {
   "cell_type": "code",
   "execution_count": null,
   "id": "a0936c1e",
   "metadata": {},
   "outputs": [],
   "source": [
    "proteins.search(\n",
    "    \"RABL2B\",\n",
    "    field=proteins.gene_symbol,\n",
    ").head()"
   ]
  },
  {
   "cell_type": "markdown",
   "id": "6300cb34",
   "metadata": {},
   "source": [
    "## Standardize Protein identifiers"
   ]
  },
  {
   "cell_type": "markdown",
   "id": "00c75cc3",
   "metadata": {},
   "source": [
    "Let us generate a `DataFrame` that stores a number of Protein identifiers, some of which corrupted:"
   ]
  },
  {
   "cell_type": "code",
   "execution_count": null,
   "id": "a097248d",
   "metadata": {},
   "outputs": [],
   "source": [
    "df_orig = pd.DataFrame(\n",
    "    index=[\n",
    "        \"A0A024QZ08\",\n",
    "        \"X6RLV5\",\n",
    "        \"X6RM24\",\n",
    "        \"A0A024QZQ1\",\n",
    "        \"This protein does not exist\",\n",
    "    ]\n",
    ")\n",
    "df_orig"
   ]
  },
  {
   "cell_type": "markdown",
   "id": "5fb32b1a",
   "metadata": {},
   "source": [
    "We can check whether any of our values are validated against the ontology reference:"
   ]
  },
  {
   "cell_type": "code",
   "execution_count": null,
   "id": "2b856808",
   "metadata": {},
   "outputs": [],
   "source": [
    "validated = proteins.validate(df_orig.index, proteins.name)\n",
    "df_orig.index[~validated]"
   ]
  },
  {
   "cell_type": "markdown",
   "id": "b1d5e249",
   "metadata": {},
   "source": [
    "## Ontology source versions"
   ]
  },
  {
   "cell_type": "markdown",
   "id": "590f68f3",
   "metadata": {},
   "source": [
    "For any given entity, we can choose from a number of versions:"
   ]
  },
  {
   "cell_type": "code",
   "execution_count": null,
   "id": "3ed286bc",
   "metadata": {},
   "outputs": [],
   "source": [
    "bt.PublicSource.filter(entity=\"Protein\").df()"
   ]
  },
  {
   "cell_type": "markdown",
   "id": "5785bd7e",
   "metadata": {},
   "source": [
    "When instantiating a Bionty object, we can choose a source or version:"
   ]
  },
  {
   "cell_type": "code",
   "execution_count": null,
   "id": "cdc6a59b",
   "metadata": {
    "lines_to_next_cell": 0
   },
   "outputs": [],
   "source": [
    "public_source = bt.PublicSource.filter(\n",
    "    source=\"uniprot\", version=\"2023-03\", organism=\"human\"\n",
    ").one()\n",
    "proteins= bt.Protein.public(public_source=public_source)\n",
    "proteins"
   ]
  },
  {
   "cell_type": "markdown",
   "id": "ac1f09f0",
   "metadata": {},
   "source": [
    "The currently used ontologies can be displayed using:"
   ]
  },
  {
   "cell_type": "code",
   "execution_count": null,
   "id": "8eaab148",
   "metadata": {
    "tags": [
     "hide-output"
    ]
   },
   "outputs": [],
   "source": [
    "bt.PublicSource.filter(currently_used=True).df()"
   ]
  }
 ],
 "metadata": {
  "kernelspec": {
   "display_name": "lamindb",
   "language": "python",
   "name": "python3"
  }
 },
 "nbformat": 4,
 "nbformat_minor": 5
}
