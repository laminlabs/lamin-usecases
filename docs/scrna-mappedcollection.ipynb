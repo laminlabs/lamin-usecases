{
 "cells": [
  {
   "cell_type": "markdown",
   "id": "3a92e598",
   "metadata": {},
   "source": [
    "![scrna5/6](https://img.shields.io/badge/scrna5/6-lightgrey)\n",
    "[![Jupyter Notebook](https://img.shields.io/badge/Source%20on%20GitHub-orange)](https://github.com/laminlabs/lamin-usecases/blob/main/docs/scrna-mappedcollection.ipynb)\n",
    "[![lamindata](https://img.shields.io/badge/Source%20%26%20report%20on%20LaminHub-mediumseagreen)](https://lamin.ai/laminlabs/lamindata/transform/Qr1kIHvK506r65cN)"
   ]
  },
  {
   "cell_type": "markdown",
   "id": "6a0da8a5",
   "metadata": {},
   "source": [
    "# Train a machine learning model on a collection"
   ]
  },
  {
   "cell_type": "markdown",
   "id": "5a33a86e",
   "metadata": {},
   "source": [
    "Here, we iterate over the artifacts within a collection to train a machine learning model at scale."
   ]
  },
  {
   "cell_type": "code",
   "execution_count": null,
   "id": "c03d51f8",
   "metadata": {
    "tags": [
     "hide-output"
    ]
   },
   "outputs": [],
   "source": [
    "import lamindb as ln\n",
    "\n",
    "ln.track(\"Qr1kIHvK506r0002\")"
   ]
  },
  {
   "cell_type": "markdown",
   "id": "87a94c1a",
   "metadata": {},
   "source": [
    "Query our collection:"
   ]
  },
  {
   "cell_type": "code",
   "execution_count": null,
   "id": "f232d65e",
   "metadata": {
    "tags": [
     "hide-output"
    ]
   },
   "outputs": [],
   "source": [
    "collection = ln.Collection.get(name=\"My versioned scRNA-seq collection\", version=\"2\")\n",
    "collection.describe()"
   ]
  },
  {
   "cell_type": "markdown",
   "id": "77d7dc38",
   "metadata": {},
   "source": [
    "## Create a map-style dataset"
   ]
  },
  {
   "cell_type": "markdown",
   "id": "5e348b32",
   "metadata": {},
   "source": [
    "Let us create a [map-style dataset](https://pytorch.org/docs/stable/data) using using {meth}`~lamindb.Collection.mapped`: a {class}`~lamindb.core.MappedCollection`.\n",
    "\n",
    "Under-the-hood, it performs a virtual join of the features of the underlying `AnnData` objects without loading the datasets into memory. You can either perform an inner join:"
   ]
  },
  {
   "cell_type": "code",
   "execution_count": null,
   "id": "42c0fcf0",
   "metadata": {
    "tags": [
     "hide-output"
    ]
   },
   "outputs": [],
   "source": [
    "with collection.mapped(obs_keys=[\"cell_type\"], join=\"inner\") as dataset:\n",
    "    print(\"#observations\", dataset.shape[0])\n",
    "    print(\"#variables:\", len(dataset.var_joint))"
   ]
  },
  {
   "cell_type": "markdown",
   "id": "982b8f94",
   "metadata": {},
   "source": [
    "Or an outer join:"
   ]
  },
  {
   "cell_type": "code",
   "execution_count": null,
   "id": "15f6caaa",
   "metadata": {
    "tags": [
     "hide-output"
    ]
   },
   "outputs": [],
   "source": [
    "dataset = collection.mapped(obs_keys=[\"cell_type\"], join=\"outer\")\n",
    "print(\"#variables:\", len(dataset.var_joint))"
   ]
  },
  {
   "cell_type": "markdown",
   "id": "4e46ee80",
   "metadata": {},
   "source": [
    "This is compatible with a PyTorch `DataLoader` because it implements `__getitem__` over a list of backed `AnnData` objects.\n",
    "For instance, the 5th observation in the collection can be accessed via:"
   ]
  },
  {
   "cell_type": "code",
   "execution_count": null,
   "id": "2bacad8a",
   "metadata": {
    "tags": [
     "hide-output"
    ]
   },
   "outputs": [],
   "source": [
    "dataset[5]"
   ]
  },
  {
   "cell_type": "markdown",
   "id": "3954ece9",
   "metadata": {},
   "source": [
    "The `labels` are encoded into integers:"
   ]
  },
  {
   "cell_type": "code",
   "execution_count": null,
   "id": "72a0a9ae",
   "metadata": {
    "tags": [
     "hide-output"
    ]
   },
   "outputs": [],
   "source": [
    "dataset.encoders"
   ]
  },
  {
   "cell_type": "markdown",
   "id": "d9a4a7a1",
   "metadata": {},
   "source": [
    "It is also possible to create a dataset by selecting only observations with certain values of an `.obs` column. Setting `obs_filter` in the below example makes the dataset iterate only over observations having `CD16-positive, CD56-dim natural killer cell, human` or `macrophage` in `.obs` column `cell_type` across all `AnnData` objects."
   ]
  },
  {
   "cell_type": "code",
   "execution_count": null,
   "id": "8a6aec46",
   "metadata": {
    "tags": [
     "hide-output"
    ]
   },
   "outputs": [],
   "source": [
    "select_by_cell_type = (\n",
    "    \"CD16-positive, CD56-dim natural killer cell, human\",\n",
    "    \"macrophage\",\n",
    ")\n",
    "\n",
    "with collection.mapped(obs_filter=(\"cell_type\", select_by_cell_type)) as dataset_filter:\n",
    "    print(dataset_filter.shape)"
   ]
  },
  {
   "cell_type": "markdown",
   "id": "1e4033ed",
   "metadata": {},
   "source": [
    "## Create a pytorch DataLoader"
   ]
  },
  {
   "cell_type": "markdown",
   "id": "b5321512",
   "metadata": {},
   "source": [
    "Let us use a weighted sampler:"
   ]
  },
  {
   "cell_type": "code",
   "execution_count": null,
   "id": "cef13ba8",
   "metadata": {
    "tags": [
     "hide-output"
    ]
   },
   "outputs": [],
   "source": [
    "from torch.utils.data import DataLoader, WeightedRandomSampler\n",
    "\n",
    "# label_key for weight doesn't have to be in labels on init\n",
    "sampler = WeightedRandomSampler(\n",
    "    weights=dataset.get_label_weights(\"cell_type\"), num_samples=len(dataset)\n",
    ")\n",
    "dataloader = DataLoader(dataset, batch_size=128, sampler=sampler)"
   ]
  },
  {
   "cell_type": "markdown",
   "id": "181fe57e",
   "metadata": {},
   "source": [
    "We can now iterate through the data loader:"
   ]
  },
  {
   "cell_type": "code",
   "execution_count": null,
   "id": "26015540",
   "metadata": {
    "tags": [
     "hide-output"
    ]
   },
   "outputs": [],
   "source": [
    "for _batch in dataloader:\n",
    "    pass"
   ]
  },
  {
   "cell_type": "markdown",
   "id": "11ea391d",
   "metadata": {},
   "source": [
    "Close the connections in {class}`~lamindb.core.MappedCollection`:"
   ]
  },
  {
   "cell_type": "code",
   "execution_count": null,
   "id": "c3b507f6",
   "metadata": {
    "tags": [
     "hide-output"
    ]
   },
   "outputs": [],
   "source": [
    "dataset.close()"
   ]
  },
  {
   "cell_type": "markdown",
   "id": "c955a7b7",
   "metadata": {},
   "source": [
    ":::{dropdown} In practice, use a context manager\n",
    "\n",
    "```\n",
    "with collection.mapped(obs_keys=[\"cell_type\"]) as dataset:\n",
    "    sampler = WeightedRandomSampler(\n",
    "        weights=dataset.get_label_weights(\"cell_type\"), num_samples=len(dataset)\n",
    "    )\n",
    "    dataloader = DataLoader(dataset, batch_size=128, sampler=sampler)\n",
    "    for batch in dataloader:\n",
    "        pass\n",
    "```\n",
    ":::"
   ]
  }
 ],
 "metadata": {
  "kernelspec": {
   "display_name": "Python 3 (ipykernel)",
   "language": "python",
   "name": "python3"
  },
  "language_info": {
   "codemirror_mode": {
    "name": "ipython",
    "version": 3
   },
   "file_extension": ".py",
   "mimetype": "text/x-python",
   "name": "python",
   "nbconvert_exporter": "python",
   "pygments_lexer": "ipython3",
   "version": "3.9.17"
  },
  "nbproject": {
   "id": "Qr1kIHvK506r",
   "parent": null,
   "pypackage": null,
   "time_init": "2023-10-01T13:49:05.628463+00:00",
   "user_handle": null,
   "user_id": null,
   "user_name": null,
   "version": "1"
  }
 },
 "nbformat": 4,
 "nbformat_minor": 5
}
