{
 "cells": [
  {
   "cell_type": "markdown",
   "metadata": {},
   "source": [
    "![facs1/4](https://img.shields.io/badge/facs1/4-lightgrey)\n",
    "[![Jupyter Notebook](https://img.shields.io/badge/Source%20on%20GitHub-orange)](https://github.com/laminlabs/lamin-usecases/blob/main/docs/facs.ipynb)\n",
    "[![lamindata](https://img.shields.io/badge/Source%20%26%20report%20on%20LaminHub-mediumseagreen)](https://lamin.ai/laminlabs/lamindata/transform/OWuTtS4SApon5zKv/1p2uQHNQJvGmld3ZarEQ)"
   ]
  },
  {
   "attachments": {},
   "cell_type": "markdown",
   "metadata": {},
   "source": [
    "# Flow cytometry"
   ]
  },
  {
   "cell_type": "markdown",
   "metadata": {},
   "source": [
    "You'll learn how to manage a growing number of flow cytometry datasets as a single queryable collection."
   ]
  },
  {
   "cell_type": "markdown",
   "metadata": {},
   "source": [
    "Specifically, you will\n",
    "\n",
    "1. read a single `.fcs` file as an `AnnData` and seed a versioned collection with it (![facs1/4](https://img.shields.io/badge/facs1/4-lightgrey), current page)\n",
    "2. append a new dataset (a new `.fcs` file) to create a new version of the collection ([![facs2/4](https://img.shields.io/badge/facs2/4-lightgrey)](facs2))\n",
    "3. query individual files and cell markers ([![facs3/4](https://img.shields.io/badge/facs3/4-lightgrey)](facs3))\n",
    "4. analyze the collection and store results as plots ([![facs4/4](https://img.shields.io/badge/facs4/4-lightgrey)](facs4))\n",
    "\n",
    "```{toctree}\n",
    ":maxdepth: 1\n",
    ":hidden:\n",
    "\n",
    "facs2\n",
    "facs3\n",
    "facs4\n",
    "```"
   ]
  },
  {
   "cell_type": "code",
   "execution_count": null,
   "metadata": {
    "tags": [
     "hide-output"
    ]
   },
   "outputs": [],
   "source": [
    "# !pip install 'lamindb[jupyter,bionty]'\n",
    "!lamin init --storage ./test-facs --schema bionty"
   ]
  },
  {
   "cell_type": "code",
   "execution_count": null,
   "metadata": {
    "tags": [
     "hide-output"
    ]
   },
   "outputs": [],
   "source": [
    "import lamindb as ln\n",
    "import bionty as bt\n",
    "import readfcs\n",
    "\n",
    "bt.settings.organism = \"human\"  # globally set organism to human\n",
    "\n",
    "ln.track(\"OWuTtS4SApon0000\")"
   ]
  },
  {
   "cell_type": "markdown",
   "metadata": {},
   "source": [
    "## Ingest a first artifact"
   ]
  },
  {
   "cell_type": "markdown",
   "metadata": {},
   "source": [
    "### Access ![](https://img.shields.io/badge/Access-10b981)"
   ]
  },
  {
   "cell_type": "markdown",
   "metadata": {},
   "source": [
    "We start with a flow cytometry file from [Alpert *et al.*, Nat. Med. (2019)](https://pubmed.ncbi.nlm.nih.gov/30842675/).\n",
    "\n",
    "Calling the following function downloads the artifact and pre-populates a few relevant registries:"
   ]
  },
  {
   "cell_type": "code",
   "execution_count": null,
   "metadata": {
    "tags": []
   },
   "outputs": [],
   "source": [
    "ln.core.datasets.file_fcs_alpert19(populate_registries=True)"
   ]
  },
  {
   "attachments": {},
   "cell_type": "markdown",
   "metadata": {},
   "source": [
    "We use [readfcs](https://lamin.ai/docs/readfcs) to read the raw fcs file into memory and create an `AnnData` object:"
   ]
  },
  {
   "cell_type": "code",
   "execution_count": null,
   "metadata": {
    "tags": [
     "hide-output"
    ]
   },
   "outputs": [],
   "source": [
    "adata = readfcs.read(\"Alpert19.fcs\")\n",
    "adata"
   ]
  },
  {
   "cell_type": "markdown",
   "metadata": {},
   "source": [
    "It has the following features:"
   ]
  },
  {
   "cell_type": "code",
   "execution_count": null,
   "metadata": {
    "tags": [
     "hide-output"
    ]
   },
   "outputs": [],
   "source": [
    "adata.var.head(10)"
   ]
  },
  {
   "cell_type": "markdown",
   "metadata": {},
   "source": [
    "### Transform: normalize ![](https://img.shields.io/badge/Transform-10b981)"
   ]
  },
  {
   "cell_type": "markdown",
   "metadata": {},
   "source": [
    "In this use case, we'd like to ingest & store curated data, and hence, we split signal and normalize using the [pytometry](https://github.com/buettnerlab/pytometry) package."
   ]
  },
  {
   "cell_type": "code",
   "execution_count": null,
   "metadata": {},
   "outputs": [],
   "source": [
    "import pytometry as pm"
   ]
  },
  {
   "cell_type": "markdown",
   "metadata": {},
   "source": [
    "First, we'll split the signal from heigh and area metadata:"
   ]
  },
  {
   "cell_type": "code",
   "execution_count": null,
   "metadata": {},
   "outputs": [],
   "source": [
    "pm.pp.split_signal(adata, var_key=\"channel\", data_type=\"cytof\")"
   ]
  },
  {
   "cell_type": "code",
   "execution_count": null,
   "metadata": {
    "tags": [
     "hide-output"
    ]
   },
   "outputs": [],
   "source": [
    "adata"
   ]
  },
  {
   "cell_type": "markdown",
   "metadata": {},
   "source": [
    "Normalize the collection:"
   ]
  },
  {
   "cell_type": "code",
   "execution_count": null,
   "metadata": {},
   "outputs": [],
   "source": [
    "pm.tl.normalize_arcsinh(adata, cofactor=150)"
   ]
  },
  {
   "cell_type": "markdown",
   "metadata": {},
   "source": [
    "```{note}\n",
    "\n",
    "If the collection was a flow collection, you'll also have to compensate the data, if possible. The metadata should contain a compensation matrix, which could then be run by the pytometry compensation function. In the case here, its a cyTOF collection, which doesn't (really) require compensation. \n",
    "\n",
    "```"
   ]
  },
  {
   "cell_type": "markdown",
   "metadata": {},
   "source": [
    "### Validate: cell markers ![](https://img.shields.io/badge/Validate-10b981)"
   ]
  },
  {
   "cell_type": "markdown",
   "metadata": {},
   "source": [
    "First, we validate features in `.var` using {class}`~docs:bionty.CellMarker`:"
   ]
  },
  {
   "cell_type": "code",
   "execution_count": null,
   "metadata": {
    "tags": [
     "hide-output"
    ]
   },
   "outputs": [],
   "source": [
    "validated = bt.CellMarker.validate(adata.var.index)"
   ]
  },
  {
   "cell_type": "markdown",
   "metadata": {},
   "source": [
    "We see that many features aren't validated because they're not standardized.\n",
    "\n",
    "Hence, let's standardize feature names & validate again:"
   ]
  },
  {
   "cell_type": "code",
   "execution_count": null,
   "metadata": {
    "tags": [
     "hide-output"
    ]
   },
   "outputs": [],
   "source": [
    "adata.var.index = bt.CellMarker.standardize(adata.var.index)\n",
    "validated = bt.CellMarker.validate(adata.var.index)"
   ]
  },
  {
   "cell_type": "markdown",
   "metadata": {},
   "source": [
    "The remaining non-validated features don't appear to be cell markers but rather metadata features.\n",
    "\n",
    "Let's move them into `adata.obs`:"
   ]
  },
  {
   "cell_type": "code",
   "execution_count": null,
   "metadata": {},
   "outputs": [],
   "source": [
    "adata.obs = adata[:, ~validated].to_df()\n",
    "adata = adata[:, validated].copy()"
   ]
  },
  {
   "cell_type": "markdown",
   "metadata": {},
   "source": [
    "Now we have a clean panel of 35 validated cell markers:"
   ]
  },
  {
   "cell_type": "code",
   "execution_count": null,
   "metadata": {
    "tags": [
     "hide-output"
    ]
   },
   "outputs": [],
   "source": [
    "validated = bt.CellMarker.validate(adata.var.index)\n",
    "assert all(validated)  # all markers are validated"
   ]
  },
  {
   "cell_type": "markdown",
   "metadata": {},
   "source": [
    "### Register: metadata ![](https://img.shields.io/badge/Register-10b981)"
   ]
  },
  {
   "cell_type": "markdown",
   "metadata": {},
   "source": [
    "Next, let's register the metadata features we moved to `.obs`.\n",
    "\n",
    "For this, we create one feature record for each column in the `.obs` dataframe:"
   ]
  },
  {
   "cell_type": "code",
   "execution_count": null,
   "metadata": {},
   "outputs": [],
   "source": [
    "features = ln.Feature.from_df(adata.obs)\n",
    "ln.save(features)"
   ]
  },
  {
   "cell_type": "markdown",
   "metadata": {},
   "source": [
    "We use the [Experimental Factor Ontology](https://www.ebi.ac.uk/efo/) through Bionty to create a \"FACS\" label:"
   ]
  },
  {
   "cell_type": "code",
   "execution_count": null,
   "metadata": {},
   "outputs": [],
   "source": [
    "bt.ExperimentalFactor.public().search(\"FACS\").head(2)  # search the public ontology"
   ]
  },
  {
   "cell_type": "markdown",
   "metadata": {},
   "source": [
    "We found one for \"FACS\", let's save it to our in-house registry:"
   ]
  },
  {
   "cell_type": "code",
   "execution_count": null,
   "metadata": {},
   "outputs": [],
   "source": [
    "# import the FACS record from the public ontology and save it to the registry\n",
    "facs = bt.ExperimentalFactor.from_source(ontology_id=\"EFO:0009108\")\n",
    "facs.save()"
   ]
  },
  {
   "cell_type": "markdown",
   "metadata": {},
   "source": [
    " We don't find one for \"CyToF\", however, so, let's create it without importing from a public ontology but label it as a child of \"is_cytometry_assay\":"
   ]
  },
  {
   "cell_type": "code",
   "execution_count": null,
   "metadata": {
    "tags": [
     "hide-output"
    ]
   },
   "outputs": [],
   "source": [
    "cytof = bt.ExperimentalFactor(name=\"CyTOF\")\n",
    "cytof.save()\n",
    "is_cytometry_assay = bt.ExperimentalFactor(name=\"is_cytometry_assay\")\n",
    "is_cytometry_assay.save()\n",
    "cytof.parents.add(is_cytometry_assay)\n",
    "facs.parents.add(is_cytometry_assay)\n",
    "\n",
    "is_cytometry_assay.view_parents(with_children=True)"
   ]
  },
  {
   "cell_type": "markdown",
   "metadata": {},
   "source": [
    "Let us look at the content of the registry:"
   ]
  },
  {
   "cell_type": "code",
   "execution_count": null,
   "metadata": {
    "tags": [
     "hide-output"
    ]
   },
   "outputs": [],
   "source": [
    "bt.ExperimentalFactor.df()"
   ]
  },
  {
   "attachments": {},
   "cell_type": "markdown",
   "metadata": {},
   "source": [
    "### Register: save & annotate with metadata ![](https://img.shields.io/badge/Register-10b981)"
   ]
  },
  {
   "cell_type": "code",
   "execution_count": null,
   "metadata": {
    "tags": [
     "hide-output"
    ]
   },
   "outputs": [],
   "source": [
    "curate = ln.Curator.from_anndata(adata, var_index=bt.CellMarker.name, categoricals={})\n",
    "curate.validate()"
   ]
  },
  {
   "cell_type": "code",
   "execution_count": null,
   "metadata": {
    "tags": [
     "hide-output"
    ]
   },
   "outputs": [],
   "source": [
    "artifact = curate.save_artifact(description=\"Alpert19\")"
   ]
  },
  {
   "cell_type": "markdown",
   "metadata": {},
   "source": [
    "Add more labels:"
   ]
  },
  {
   "cell_type": "code",
   "execution_count": null,
   "metadata": {
    "tags": [
     "hide-output"
    ]
   },
   "outputs": [],
   "source": [
    "experimental_factors = bt.ExperimentalFactor.lookup()\n",
    "organisms = bt.Organism.lookup()\n",
    "\n",
    "artifact.labels.add(experimental_factors.cytof)\n",
    "artifact.labels.add(organisms.human)"
   ]
  },
  {
   "cell_type": "markdown",
   "metadata": {},
   "source": [
    "## Inspect the saved artifact"
   ]
  },
  {
   "cell_type": "markdown",
   "metadata": {},
   "source": [
    "Inspect features on a high level:"
   ]
  },
  {
   "cell_type": "code",
   "execution_count": null,
   "metadata": {
    "tags": [
     "hide-output"
    ]
   },
   "outputs": [],
   "source": [
    "artifact.features"
   ]
  },
  {
   "cell_type": "markdown",
   "metadata": {},
   "source": [
    "Inspect low-level features in `.var`:"
   ]
  },
  {
   "cell_type": "code",
   "execution_count": null,
   "metadata": {
    "tags": [
     "hide-output"
    ]
   },
   "outputs": [],
   "source": [
    "artifact.features[\"var\"].df().head()"
   ]
  },
  {
   "cell_type": "markdown",
   "metadata": {},
   "source": [
    "Use auto-complete for marker names in the `var` featureset:"
   ]
  },
  {
   "cell_type": "code",
   "execution_count": null,
   "metadata": {
    "tags": [
     "hide-output"
    ]
   },
   "outputs": [],
   "source": [
    "markers = artifact.features[\"var\"].lookup()\n",
    "markers.cd14"
   ]
  },
  {
   "cell_type": "markdown",
   "metadata": {},
   "source": [
    "In a plot, we can now easily also show gene symbol and Uniprot ID:"
   ]
  },
  {
   "cell_type": "code",
   "execution_count": null,
   "metadata": {},
   "outputs": [],
   "source": [
    "import scanpy as sc\n",
    "\n",
    "sc.pp.pca(adata)\n",
    "sc.pl.pca(\n",
    "    adata,\n",
    "    color=markers.cd14.name,\n",
    "    title=(\n",
    "        f\"{markers.cd14.name} / {markers.cd14.gene_symbol} /\"\n",
    "        f\" {markers.cd14.uniprotkb_id}\"\n",
    "    ),\n",
    ")"
   ]
  },
  {
   "cell_type": "markdown",
   "metadata": {},
   "source": [
    "## Create a collection from the artifact"
   ]
  },
  {
   "cell_type": "code",
   "execution_count": null,
   "metadata": {
    "tags": [
     "hide-output"
    ]
   },
   "outputs": [],
   "source": [
    "ln.Collection(artifact, key=\"My versioned cytometry collection\", version=\"1\").save()"
   ]
  }
 ],
 "metadata": {
  "kernelspec": {
   "display_name": "Python 3 (ipykernel)",
   "language": "python",
   "name": "python3"
  },
  "language_info": {
   "codemirror_mode": {
    "name": "ipython",
    "version": 3
   },
   "file_extension": ".py",
   "mimetype": "text/x-python",
   "name": "python",
   "nbconvert_exporter": "python",
   "pygments_lexer": "ipython3",
   "version": "3.10.13"
  },
  "nbproject": {
   "id": "OWuTtS4SApon",
   "parent": null,
   "pypackage": null,
   "time_init": "2023-03-14T07:16:34.572336+00:00",
   "user_handle": "testuser2",
   "user_id": "bKeW4T6E",
   "user_name": "Test User2",
   "version": "0"
  }
 },
 "nbformat": 4,
 "nbformat_minor": 4
}
