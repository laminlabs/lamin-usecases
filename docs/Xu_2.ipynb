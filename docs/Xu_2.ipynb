{
 "cells": [
  {
   "cell_type": "markdown",
   "id": "231d49d2-7c3c-45c5-9202-5fd3d01229b9",
   "metadata": {},
   "source": [
    "### Preprocessing Raw data and some EDA\n",
    "---\n",
    "In this notebook we will:\n",
    "- `Query raw data:` This could be equivalent to any processing pipeline from which we may produce our starting dataset.\n",
    "- `Preprocessing Raw data and some EDA`: Process and filter the raw dataset"
   ]
  },
  {
   "cell_type": "code",
   "execution_count": 5,
   "id": "0344178b-627d-4e03-9e6e-756899ece8c2",
   "metadata": {},
   "outputs": [
    {
     "name": "stdout",
     "output_type": "stream",
     "text": [
      "\u001b[92m→\u001b[0m connected lamindb: laminlabs/lamindata\n"
     ]
    }
   ],
   "source": [
    "import lamindb as ln\n",
    "import bionty as bt"
   ]
  },
  {
   "cell_type": "code",
   "execution_count": 6,
   "id": "76b539c1-9189-4069-9dcb-75b01d9bf195",
   "metadata": {},
   "outputs": [],
   "source": [
    "import os\n",
    "from pathlib import Path\n",
    "import pandas as pd\n",
    "import scanpy as sc\n",
    "import anndata as ad\n",
    "import scipy.sparse as sp\n",
    "from tqdm import tqdm"
   ]
  },
  {
   "cell_type": "code",
   "execution_count": null,
   "id": "bd42cbda-04ab-428f-9e38-84268a232eff",
   "metadata": {},
   "outputs": [],
   "source": [
    "ln.Project.df()"
   ]
  },
  {
   "cell_type": "code",
   "execution_count": null,
   "id": "ff36804f-5248-47f4-bca0-cc2141a1bb1c",
   "metadata": {},
   "outputs": [
    {
     "name": "stdout",
     "output_type": "stream",
     "text": [
      "\u001b[92m→\u001b[0m loaded Transform('WNVvHmeVnnxb0000'), re-started Run('TyOLdmyE...') at 2025-03-25 21:20:56 UTC\n",
      "\u001b[92m→\u001b[0m notebook imports: anndata==0.11.3 bionty==1.1.2 lamindb==1.3.0 pandas==2.2.3 scanpy==1.11.0 scipy==1.14.1 tqdm==4.67.1\n"
     ]
    }
   ],
   "source": [
    "ln.track(project=\"9M7iVOgQ8VAQ\")"
   ]
  },
  {
   "cell_type": "markdown",
   "id": "07e5fe13-a80a-45a2-990f-22bc46b4f045",
   "metadata": {},
   "source": [
    "Anyone looking to start the analysis from raw/unfiltered data can search the artifacts registry and retrieve the `.h5ad` file containing the raw counts."
   ]
  },
  {
   "cell_type": "code",
   "execution_count": null,
   "id": "7bdbc622",
   "metadata": {},
   "outputs": [
    {
     "ename": "OperationalError",
     "evalue": "connection to server at \"database2.cmyfs24wugc3.us-east-1.rds.amazonaws.com\" (3.211.54.97), port 5432 failed: Operation timed out\n\tIs the server running on that host and accepting TCP/IP connections?\n",
     "output_type": "error",
     "traceback": [
      "\u001b[0;31m---------------------------------------------------------------------------\u001b[0m",
      "\u001b[0;31mOperationalError\u001b[0m                          Traceback (most recent call last)",
      "File \u001b[0;32m~/.local/share/mamba/envs/lamin/lib/python3.12/site-packages/django/db/backends/base/base.py:279\u001b[0m, in \u001b[0;36mBaseDatabaseWrapper.ensure_connection\u001b[0;34m(self)\u001b[0m\n\u001b[1;32m    278\u001b[0m \u001b[38;5;28;01mwith\u001b[39;00m \u001b[38;5;28mself\u001b[39m\u001b[38;5;241m.\u001b[39mwrap_database_errors:\n\u001b[0;32m--> 279\u001b[0m     \u001b[38;5;28;43mself\u001b[39;49m\u001b[38;5;241;43m.\u001b[39;49m\u001b[43mconnect\u001b[49m\u001b[43m(\u001b[49m\u001b[43m)\u001b[49m\n",
      "File \u001b[0;32m~/.local/share/mamba/envs/lamin/lib/python3.12/site-packages/django/utils/asyncio.py:26\u001b[0m, in \u001b[0;36masync_unsafe.<locals>.decorator.<locals>.inner\u001b[0;34m(*args, **kwargs)\u001b[0m\n\u001b[1;32m     25\u001b[0m \u001b[38;5;66;03m# Pass onward.\u001b[39;00m\n\u001b[0;32m---> 26\u001b[0m \u001b[38;5;28;01mreturn\u001b[39;00m \u001b[43mfunc\u001b[49m\u001b[43m(\u001b[49m\u001b[38;5;241;43m*\u001b[39;49m\u001b[43margs\u001b[49m\u001b[43m,\u001b[49m\u001b[43m \u001b[49m\u001b[38;5;241;43m*\u001b[39;49m\u001b[38;5;241;43m*\u001b[39;49m\u001b[43mkwargs\u001b[49m\u001b[43m)\u001b[49m\n",
      "File \u001b[0;32m~/.local/share/mamba/envs/lamin/lib/python3.12/site-packages/django/db/backends/base/base.py:256\u001b[0m, in \u001b[0;36mBaseDatabaseWrapper.connect\u001b[0;34m(self)\u001b[0m\n\u001b[1;32m    255\u001b[0m conn_params \u001b[38;5;241m=\u001b[39m \u001b[38;5;28mself\u001b[39m\u001b[38;5;241m.\u001b[39mget_connection_params()\n\u001b[0;32m--> 256\u001b[0m \u001b[38;5;28mself\u001b[39m\u001b[38;5;241m.\u001b[39mconnection \u001b[38;5;241m=\u001b[39m \u001b[38;5;28;43mself\u001b[39;49m\u001b[38;5;241;43m.\u001b[39;49m\u001b[43mget_new_connection\u001b[49m\u001b[43m(\u001b[49m\u001b[43mconn_params\u001b[49m\u001b[43m)\u001b[49m\n\u001b[1;32m    257\u001b[0m \u001b[38;5;28mself\u001b[39m\u001b[38;5;241m.\u001b[39mset_autocommit(\u001b[38;5;28mself\u001b[39m\u001b[38;5;241m.\u001b[39msettings_dict[\u001b[38;5;124m\"\u001b[39m\u001b[38;5;124mAUTOCOMMIT\u001b[39m\u001b[38;5;124m\"\u001b[39m])\n",
      "File \u001b[0;32m~/.local/share/mamba/envs/lamin/lib/python3.12/site-packages/django/utils/asyncio.py:26\u001b[0m, in \u001b[0;36masync_unsafe.<locals>.decorator.<locals>.inner\u001b[0;34m(*args, **kwargs)\u001b[0m\n\u001b[1;32m     25\u001b[0m \u001b[38;5;66;03m# Pass onward.\u001b[39;00m\n\u001b[0;32m---> 26\u001b[0m \u001b[38;5;28;01mreturn\u001b[39;00m \u001b[43mfunc\u001b[49m\u001b[43m(\u001b[49m\u001b[38;5;241;43m*\u001b[39;49m\u001b[43margs\u001b[49m\u001b[43m,\u001b[49m\u001b[43m \u001b[49m\u001b[38;5;241;43m*\u001b[39;49m\u001b[38;5;241;43m*\u001b[39;49m\u001b[43mkwargs\u001b[49m\u001b[43m)\u001b[49m\n",
      "File \u001b[0;32m~/.local/share/mamba/envs/lamin/lib/python3.12/site-packages/django/db/backends/postgresql/base.py:332\u001b[0m, in \u001b[0;36mDatabaseWrapper.get_new_connection\u001b[0;34m(self, conn_params)\u001b[0m\n\u001b[1;32m    331\u001b[0m \u001b[38;5;28;01melse\u001b[39;00m:\n\u001b[0;32m--> 332\u001b[0m     connection \u001b[38;5;241m=\u001b[39m \u001b[38;5;28;43mself\u001b[39;49m\u001b[38;5;241;43m.\u001b[39;49m\u001b[43mDatabase\u001b[49m\u001b[38;5;241;43m.\u001b[39;49m\u001b[43mconnect\u001b[49m\u001b[43m(\u001b[49m\u001b[38;5;241;43m*\u001b[39;49m\u001b[38;5;241;43m*\u001b[39;49m\u001b[43mconn_params\u001b[49m\u001b[43m)\u001b[49m\n\u001b[1;32m    333\u001b[0m \u001b[38;5;28;01mif\u001b[39;00m set_isolation_level:\n",
      "File \u001b[0;32m~/.local/share/mamba/envs/lamin/lib/python3.12/site-packages/psycopg2/__init__.py:122\u001b[0m, in \u001b[0;36mconnect\u001b[0;34m(dsn, connection_factory, cursor_factory, **kwargs)\u001b[0m\n\u001b[1;32m    121\u001b[0m dsn \u001b[38;5;241m=\u001b[39m _ext\u001b[38;5;241m.\u001b[39mmake_dsn(dsn, \u001b[38;5;241m*\u001b[39m\u001b[38;5;241m*\u001b[39mkwargs)\n\u001b[0;32m--> 122\u001b[0m conn \u001b[38;5;241m=\u001b[39m \u001b[43m_connect\u001b[49m\u001b[43m(\u001b[49m\u001b[43mdsn\u001b[49m\u001b[43m,\u001b[49m\u001b[43m \u001b[49m\u001b[43mconnection_factory\u001b[49m\u001b[38;5;241;43m=\u001b[39;49m\u001b[43mconnection_factory\u001b[49m\u001b[43m,\u001b[49m\u001b[43m \u001b[49m\u001b[38;5;241;43m*\u001b[39;49m\u001b[38;5;241;43m*\u001b[39;49m\u001b[43mkwasync\u001b[49m\u001b[43m)\u001b[49m\n\u001b[1;32m    123\u001b[0m \u001b[38;5;28;01mif\u001b[39;00m cursor_factory \u001b[38;5;129;01mis\u001b[39;00m \u001b[38;5;129;01mnot\u001b[39;00m \u001b[38;5;28;01mNone\u001b[39;00m:\n",
      "\u001b[0;31mOperationalError\u001b[0m: connection to server at \"database2.cmyfs24wugc3.us-east-1.rds.amazonaws.com\" (3.211.54.97), port 5432 failed: Operation timed out\n\tIs the server running on that host and accepting TCP/IP connections?\n",
      "\nThe above exception was the direct cause of the following exception:\n",
      "\u001b[0;31mOperationalError\u001b[0m                          Traceback (most recent call last)",
      "Cell \u001b[0;32mIn[8], line 1\u001b[0m\n\u001b[0;32m----> 1\u001b[0m adata_artifact \u001b[38;5;241m=\u001b[39m \u001b[43mln\u001b[49m\u001b[38;5;241;43m.\u001b[39;49m\u001b[43mArtifact\u001b[49m\u001b[38;5;241;43m.\u001b[39;49m\u001b[43mget\u001b[49m\u001b[43m(\u001b[49m\u001b[38;5;124;43m\"\u001b[39;49m\u001b[38;5;124;43mgrmr98C4DvA2ofeP0000\u001b[39;49m\u001b[38;5;124;43m\"\u001b[39;49m\u001b[43m)\u001b[49m\n\u001b[1;32m      2\u001b[0m adata_artifact\n",
      "File \u001b[0;32m~/.local/share/mamba/envs/lamin/lib/python3.12/site-packages/lamindb/models/artifact.py:1533\u001b[0m, in \u001b[0;36mArtifact.get\u001b[0;34m(cls, idlike, **expressions)\u001b[0m\n\u001b[1;32m   1513\u001b[0m \u001b[38;5;250m\u001b[39m\u001b[38;5;124;03m\"\"\"Get a single artifact.\u001b[39;00m\n\u001b[1;32m   1514\u001b[0m \n\u001b[1;32m   1515\u001b[0m \u001b[38;5;124;03mArgs:\u001b[39;00m\n\u001b[0;32m   (...)\u001b[0m\n\u001b[1;32m   1529\u001b[0m \u001b[38;5;124;03m    artifact = ln.Arfifact.get(key=\"my_datasets/my_file.parquet\")\u001b[39;00m\n\u001b[1;32m   1530\u001b[0m \u001b[38;5;124;03m\"\"\"\u001b[39;00m\n\u001b[1;32m   1531\u001b[0m \u001b[38;5;28;01mfrom\u001b[39;00m\u001b[38;5;250m \u001b[39m\u001b[38;5;21;01m.\u001b[39;00m\u001b[38;5;21;01mquery_set\u001b[39;00m\u001b[38;5;250m \u001b[39m\u001b[38;5;28;01mimport\u001b[39;00m QuerySet\n\u001b[0;32m-> 1533\u001b[0m \u001b[38;5;28;01mreturn\u001b[39;00m \u001b[43mQuerySet\u001b[49m\u001b[43m(\u001b[49m\u001b[43mmodel\u001b[49m\u001b[38;5;241;43m=\u001b[39;49m\u001b[38;5;28;43mcls\u001b[39;49m\u001b[43m)\u001b[49m\u001b[38;5;241;43m.\u001b[39;49m\u001b[43mget\u001b[49m\u001b[43m(\u001b[49m\u001b[43midlike\u001b[49m\u001b[43m,\u001b[49m\u001b[43m \u001b[49m\u001b[38;5;241;43m*\u001b[39;49m\u001b[38;5;241;43m*\u001b[39;49m\u001b[43mexpressions\u001b[49m\u001b[43m)\u001b[49m\n",
      "File \u001b[0;32m~/.local/share/mamba/envs/lamin/lib/python3.12/site-packages/lamindb/models/query_set.py:651\u001b[0m, in \u001b[0;36mQuerySet.get\u001b[0;34m(self, idlike, **expressions)\u001b[0m\n\u001b[1;32m    649\u001b[0m \u001b[38;5;250m\u001b[39m\u001b[38;5;124;03m\"\"\"Query a single record. Raises error if there are more or none.\"\"\"\u001b[39;00m\n\u001b[1;32m    650\u001b[0m \u001b[38;5;28;01mtry\u001b[39;00m:\n\u001b[0;32m--> 651\u001b[0m     \u001b[38;5;28;01mreturn\u001b[39;00m \u001b[43mget\u001b[49m\u001b[43m(\u001b[49m\u001b[38;5;28;43mself\u001b[39;49m\u001b[43m,\u001b[49m\u001b[43m \u001b[49m\u001b[43midlike\u001b[49m\u001b[43m,\u001b[49m\u001b[43m \u001b[49m\u001b[38;5;241;43m*\u001b[39;49m\u001b[38;5;241;43m*\u001b[39;49m\u001b[43mexpressions\u001b[49m\u001b[43m)\u001b[49m\n\u001b[1;32m    652\u001b[0m \u001b[38;5;28;01mexcept\u001b[39;00m \u001b[38;5;167;01mValueError\u001b[39;00m \u001b[38;5;28;01mas\u001b[39;00m e:\n\u001b[1;32m    653\u001b[0m     \u001b[38;5;66;03m# Pass through original error for explicit id lookups\u001b[39;00m\n\u001b[1;32m    654\u001b[0m     \u001b[38;5;28;01mif\u001b[39;00m \u001b[38;5;124m\"\u001b[39m\u001b[38;5;124mField \u001b[39m\u001b[38;5;124m'\u001b[39m\u001b[38;5;124mid\u001b[39m\u001b[38;5;124m'\u001b[39m\u001b[38;5;124m expected a number\u001b[39m\u001b[38;5;124m\"\u001b[39m \u001b[38;5;129;01min\u001b[39;00m \u001b[38;5;28mstr\u001b[39m(e):\n",
      "File \u001b[0;32m~/.local/share/mamba/envs/lamin/lib/python3.12/site-packages/lamindb/models/query_set.py:208\u001b[0m, in \u001b[0;36mget\u001b[0;34m(registry_or_queryset, idlike, **expressions)\u001b[0m\n\u001b[1;32m    206\u001b[0m         \u001b[38;5;28;01mreturn\u001b[39;00m qs\u001b[38;5;241m.\u001b[39mlatest_version()\u001b[38;5;241m.\u001b[39mone()\n\u001b[1;32m    207\u001b[0m     \u001b[38;5;28;01melse\u001b[39;00m:\n\u001b[0;32m--> 208\u001b[0m         \u001b[38;5;28;01mreturn\u001b[39;00m \u001b[43mqs\u001b[49m\u001b[38;5;241;43m.\u001b[39;49m\u001b[43mone\u001b[49m\u001b[43m(\u001b[49m\u001b[43m)\u001b[49m\n\u001b[1;32m    209\u001b[0m \u001b[38;5;28;01melse\u001b[39;00m:\n\u001b[1;32m    210\u001b[0m     \u001b[38;5;28;01mreturn\u001b[39;00m qs\u001b[38;5;241m.\u001b[39mone()\n",
      "File \u001b[0;32m~/.local/share/mamba/envs/lamin/lib/python3.12/site-packages/lamindb/models/query_set.py:692\u001b[0m, in \u001b[0;36mQuerySet.one\u001b[0;34m(self)\u001b[0m\n\u001b[1;32m    690\u001b[0m \u001b[38;5;28;01mdef\u001b[39;00m\u001b[38;5;250m \u001b[39m\u001b[38;5;21mone\u001b[39m(\u001b[38;5;28mself\u001b[39m) \u001b[38;5;241m-\u001b[39m\u001b[38;5;241m>\u001b[39m Record:\n\u001b[1;32m    691\u001b[0m \u001b[38;5;250m    \u001b[39m\u001b[38;5;124;03m\"\"\"Exactly one result. Raises error if there are more or none.\"\"\"\u001b[39;00m\n\u001b[0;32m--> 692\u001b[0m     \u001b[38;5;28;01mreturn\u001b[39;00m \u001b[43mone_helper\u001b[49m\u001b[43m(\u001b[49m\u001b[38;5;28;43mself\u001b[39;49m\u001b[43m)\u001b[49m\n",
      "File \u001b[0;32m~/.local/share/mamba/envs/lamin/lib/python3.12/site-packages/lamindb/models/query_set.py:66\u001b[0m, in \u001b[0;36mone_helper\u001b[0;34m(self)\u001b[0m\n\u001b[1;32m     65\u001b[0m \u001b[38;5;28;01mdef\u001b[39;00m\u001b[38;5;250m \u001b[39m\u001b[38;5;21mone_helper\u001b[39m(\u001b[38;5;28mself\u001b[39m):\n\u001b[0;32m---> 66\u001b[0m     \u001b[38;5;28;01mif\u001b[39;00m \u001b[38;5;28;43mlen\u001b[39;49m\u001b[43m(\u001b[49m\u001b[38;5;28;43mself\u001b[39;49m\u001b[43m)\u001b[49m \u001b[38;5;241m==\u001b[39m \u001b[38;5;241m0\u001b[39m:\n\u001b[1;32m     67\u001b[0m         \u001b[38;5;28;01mraise\u001b[39;00m DoesNotExist\n\u001b[1;32m     68\u001b[0m     \u001b[38;5;28;01melif\u001b[39;00m \u001b[38;5;28mlen\u001b[39m(\u001b[38;5;28mself\u001b[39m) \u001b[38;5;241m>\u001b[39m \u001b[38;5;241m1\u001b[39m:\n",
      "File \u001b[0;32m~/.local/share/mamba/envs/lamin/lib/python3.12/site-packages/django/db/models/query.py:382\u001b[0m, in \u001b[0;36mQuerySet.__len__\u001b[0;34m(self)\u001b[0m\n\u001b[1;32m    381\u001b[0m \u001b[38;5;28;01mdef\u001b[39;00m\u001b[38;5;250m \u001b[39m\u001b[38;5;21m__len__\u001b[39m(\u001b[38;5;28mself\u001b[39m):\n\u001b[0;32m--> 382\u001b[0m     \u001b[38;5;28;43mself\u001b[39;49m\u001b[38;5;241;43m.\u001b[39;49m\u001b[43m_fetch_all\u001b[49m\u001b[43m(\u001b[49m\u001b[43m)\u001b[49m\n\u001b[1;32m    383\u001b[0m     \u001b[38;5;28;01mreturn\u001b[39;00m \u001b[38;5;28mlen\u001b[39m(\u001b[38;5;28mself\u001b[39m\u001b[38;5;241m.\u001b[39m_result_cache)\n",
      "File \u001b[0;32m~/.local/share/mamba/envs/lamin/lib/python3.12/site-packages/django/db/models/query.py:1928\u001b[0m, in \u001b[0;36mQuerySet._fetch_all\u001b[0;34m(self)\u001b[0m\n\u001b[1;32m   1926\u001b[0m \u001b[38;5;28;01mdef\u001b[39;00m\u001b[38;5;250m \u001b[39m\u001b[38;5;21m_fetch_all\u001b[39m(\u001b[38;5;28mself\u001b[39m):\n\u001b[1;32m   1927\u001b[0m     \u001b[38;5;28;01mif\u001b[39;00m \u001b[38;5;28mself\u001b[39m\u001b[38;5;241m.\u001b[39m_result_cache \u001b[38;5;129;01mis\u001b[39;00m \u001b[38;5;28;01mNone\u001b[39;00m:\n\u001b[0;32m-> 1928\u001b[0m         \u001b[38;5;28mself\u001b[39m\u001b[38;5;241m.\u001b[39m_result_cache \u001b[38;5;241m=\u001b[39m \u001b[38;5;28;43mlist\u001b[39;49m\u001b[43m(\u001b[49m\u001b[38;5;28;43mself\u001b[39;49m\u001b[38;5;241;43m.\u001b[39;49m\u001b[43m_iterable_class\u001b[49m\u001b[43m(\u001b[49m\u001b[38;5;28;43mself\u001b[39;49m\u001b[43m)\u001b[49m\u001b[43m)\u001b[49m\n\u001b[1;32m   1929\u001b[0m     \u001b[38;5;28;01mif\u001b[39;00m \u001b[38;5;28mself\u001b[39m\u001b[38;5;241m.\u001b[39m_prefetch_related_lookups \u001b[38;5;129;01mand\u001b[39;00m \u001b[38;5;129;01mnot\u001b[39;00m \u001b[38;5;28mself\u001b[39m\u001b[38;5;241m.\u001b[39m_prefetch_done:\n\u001b[1;32m   1930\u001b[0m         \u001b[38;5;28mself\u001b[39m\u001b[38;5;241m.\u001b[39m_prefetch_related_objects()\n",
      "File \u001b[0;32m~/.local/share/mamba/envs/lamin/lib/python3.12/site-packages/django/db/models/query.py:91\u001b[0m, in \u001b[0;36mModelIterable.__iter__\u001b[0;34m(self)\u001b[0m\n\u001b[1;32m     88\u001b[0m compiler \u001b[38;5;241m=\u001b[39m queryset\u001b[38;5;241m.\u001b[39mquery\u001b[38;5;241m.\u001b[39mget_compiler(using\u001b[38;5;241m=\u001b[39mdb)\n\u001b[1;32m     89\u001b[0m \u001b[38;5;66;03m# Execute the query. This will also fill compiler.select, klass_info,\u001b[39;00m\n\u001b[1;32m     90\u001b[0m \u001b[38;5;66;03m# and annotations.\u001b[39;00m\n\u001b[0;32m---> 91\u001b[0m results \u001b[38;5;241m=\u001b[39m \u001b[43mcompiler\u001b[49m\u001b[38;5;241;43m.\u001b[39;49m\u001b[43mexecute_sql\u001b[49m\u001b[43m(\u001b[49m\n\u001b[1;32m     92\u001b[0m \u001b[43m    \u001b[49m\u001b[43mchunked_fetch\u001b[49m\u001b[38;5;241;43m=\u001b[39;49m\u001b[38;5;28;43mself\u001b[39;49m\u001b[38;5;241;43m.\u001b[39;49m\u001b[43mchunked_fetch\u001b[49m\u001b[43m,\u001b[49m\u001b[43m \u001b[49m\u001b[43mchunk_size\u001b[49m\u001b[38;5;241;43m=\u001b[39;49m\u001b[38;5;28;43mself\u001b[39;49m\u001b[38;5;241;43m.\u001b[39;49m\u001b[43mchunk_size\u001b[49m\n\u001b[1;32m     93\u001b[0m \u001b[43m\u001b[49m\u001b[43m)\u001b[49m\n\u001b[1;32m     94\u001b[0m select, klass_info, annotation_col_map \u001b[38;5;241m=\u001b[39m (\n\u001b[1;32m     95\u001b[0m     compiler\u001b[38;5;241m.\u001b[39mselect,\n\u001b[1;32m     96\u001b[0m     compiler\u001b[38;5;241m.\u001b[39mklass_info,\n\u001b[1;32m     97\u001b[0m     compiler\u001b[38;5;241m.\u001b[39mannotation_col_map,\n\u001b[1;32m     98\u001b[0m )\n\u001b[1;32m     99\u001b[0m model_cls \u001b[38;5;241m=\u001b[39m klass_info[\u001b[38;5;124m\"\u001b[39m\u001b[38;5;124mmodel\u001b[39m\u001b[38;5;124m\"\u001b[39m]\n",
      "File \u001b[0;32m~/.local/share/mamba/envs/lamin/lib/python3.12/site-packages/django/db/models/sql/compiler.py:1572\u001b[0m, in \u001b[0;36mSQLCompiler.execute_sql\u001b[0;34m(self, result_type, chunked_fetch, chunk_size)\u001b[0m\n\u001b[1;32m   1570\u001b[0m     cursor \u001b[38;5;241m=\u001b[39m \u001b[38;5;28mself\u001b[39m\u001b[38;5;241m.\u001b[39mconnection\u001b[38;5;241m.\u001b[39mchunked_cursor()\n\u001b[1;32m   1571\u001b[0m \u001b[38;5;28;01melse\u001b[39;00m:\n\u001b[0;32m-> 1572\u001b[0m     cursor \u001b[38;5;241m=\u001b[39m \u001b[38;5;28;43mself\u001b[39;49m\u001b[38;5;241;43m.\u001b[39;49m\u001b[43mconnection\u001b[49m\u001b[38;5;241;43m.\u001b[39;49m\u001b[43mcursor\u001b[49m\u001b[43m(\u001b[49m\u001b[43m)\u001b[49m\n\u001b[1;32m   1573\u001b[0m \u001b[38;5;28;01mtry\u001b[39;00m:\n\u001b[1;32m   1574\u001b[0m     cursor\u001b[38;5;241m.\u001b[39mexecute(sql, params)\n",
      "File \u001b[0;32m~/.local/share/mamba/envs/lamin/lib/python3.12/site-packages/django/utils/asyncio.py:26\u001b[0m, in \u001b[0;36masync_unsafe.<locals>.decorator.<locals>.inner\u001b[0;34m(*args, **kwargs)\u001b[0m\n\u001b[1;32m     24\u001b[0m         \u001b[38;5;28;01mraise\u001b[39;00m SynchronousOnlyOperation(message)\n\u001b[1;32m     25\u001b[0m \u001b[38;5;66;03m# Pass onward.\u001b[39;00m\n\u001b[0;32m---> 26\u001b[0m \u001b[38;5;28;01mreturn\u001b[39;00m \u001b[43mfunc\u001b[49m\u001b[43m(\u001b[49m\u001b[38;5;241;43m*\u001b[39;49m\u001b[43margs\u001b[49m\u001b[43m,\u001b[49m\u001b[43m \u001b[49m\u001b[38;5;241;43m*\u001b[39;49m\u001b[38;5;241;43m*\u001b[39;49m\u001b[43mkwargs\u001b[49m\u001b[43m)\u001b[49m\n",
      "File \u001b[0;32m~/.local/share/mamba/envs/lamin/lib/python3.12/site-packages/django/db/backends/base/base.py:320\u001b[0m, in \u001b[0;36mBaseDatabaseWrapper.cursor\u001b[0;34m(self)\u001b[0m\n\u001b[1;32m    317\u001b[0m \u001b[38;5;129m@async_unsafe\u001b[39m\n\u001b[1;32m    318\u001b[0m \u001b[38;5;28;01mdef\u001b[39;00m\u001b[38;5;250m \u001b[39m\u001b[38;5;21mcursor\u001b[39m(\u001b[38;5;28mself\u001b[39m):\n\u001b[1;32m    319\u001b[0m \u001b[38;5;250m    \u001b[39m\u001b[38;5;124;03m\"\"\"Create a cursor, opening a connection if necessary.\"\"\"\u001b[39;00m\n\u001b[0;32m--> 320\u001b[0m     \u001b[38;5;28;01mreturn\u001b[39;00m \u001b[38;5;28;43mself\u001b[39;49m\u001b[38;5;241;43m.\u001b[39;49m\u001b[43m_cursor\u001b[49m\u001b[43m(\u001b[49m\u001b[43m)\u001b[49m\n",
      "File \u001b[0;32m~/.local/share/mamba/envs/lamin/lib/python3.12/site-packages/django/db/backends/base/base.py:296\u001b[0m, in \u001b[0;36mBaseDatabaseWrapper._cursor\u001b[0;34m(self, name)\u001b[0m\n\u001b[1;32m    294\u001b[0m \u001b[38;5;28;01mdef\u001b[39;00m\u001b[38;5;250m \u001b[39m\u001b[38;5;21m_cursor\u001b[39m(\u001b[38;5;28mself\u001b[39m, name\u001b[38;5;241m=\u001b[39m\u001b[38;5;28;01mNone\u001b[39;00m):\n\u001b[1;32m    295\u001b[0m     \u001b[38;5;28mself\u001b[39m\u001b[38;5;241m.\u001b[39mclose_if_health_check_failed()\n\u001b[0;32m--> 296\u001b[0m     \u001b[38;5;28;43mself\u001b[39;49m\u001b[38;5;241;43m.\u001b[39;49m\u001b[43mensure_connection\u001b[49m\u001b[43m(\u001b[49m\u001b[43m)\u001b[49m\n\u001b[1;32m    297\u001b[0m     \u001b[38;5;28;01mwith\u001b[39;00m \u001b[38;5;28mself\u001b[39m\u001b[38;5;241m.\u001b[39mwrap_database_errors:\n\u001b[1;32m    298\u001b[0m         \u001b[38;5;28;01mreturn\u001b[39;00m \u001b[38;5;28mself\u001b[39m\u001b[38;5;241m.\u001b[39m_prepare_cursor(\u001b[38;5;28mself\u001b[39m\u001b[38;5;241m.\u001b[39mcreate_cursor(name))\n",
      "File \u001b[0;32m~/.local/share/mamba/envs/lamin/lib/python3.12/site-packages/django/utils/asyncio.py:26\u001b[0m, in \u001b[0;36masync_unsafe.<locals>.decorator.<locals>.inner\u001b[0;34m(*args, **kwargs)\u001b[0m\n\u001b[1;32m     24\u001b[0m         \u001b[38;5;28;01mraise\u001b[39;00m SynchronousOnlyOperation(message)\n\u001b[1;32m     25\u001b[0m \u001b[38;5;66;03m# Pass onward.\u001b[39;00m\n\u001b[0;32m---> 26\u001b[0m \u001b[38;5;28;01mreturn\u001b[39;00m \u001b[43mfunc\u001b[49m\u001b[43m(\u001b[49m\u001b[38;5;241;43m*\u001b[39;49m\u001b[43margs\u001b[49m\u001b[43m,\u001b[49m\u001b[43m \u001b[49m\u001b[38;5;241;43m*\u001b[39;49m\u001b[38;5;241;43m*\u001b[39;49m\u001b[43mkwargs\u001b[49m\u001b[43m)\u001b[49m\n",
      "File \u001b[0;32m~/.local/share/mamba/envs/lamin/lib/python3.12/site-packages/django/db/backends/base/base.py:278\u001b[0m, in \u001b[0;36mBaseDatabaseWrapper.ensure_connection\u001b[0;34m(self)\u001b[0m\n\u001b[1;32m    274\u001b[0m \u001b[38;5;28;01mif\u001b[39;00m \u001b[38;5;28mself\u001b[39m\u001b[38;5;241m.\u001b[39min_atomic_block \u001b[38;5;129;01mand\u001b[39;00m \u001b[38;5;28mself\u001b[39m\u001b[38;5;241m.\u001b[39mclosed_in_transaction:\n\u001b[1;32m    275\u001b[0m     \u001b[38;5;28;01mraise\u001b[39;00m ProgrammingError(\n\u001b[1;32m    276\u001b[0m         \u001b[38;5;124m\"\u001b[39m\u001b[38;5;124mCannot open a new connection in an atomic block.\u001b[39m\u001b[38;5;124m\"\u001b[39m\n\u001b[1;32m    277\u001b[0m     )\n\u001b[0;32m--> 278\u001b[0m \u001b[38;5;28;01mwith\u001b[39;00m \u001b[38;5;28mself\u001b[39m\u001b[38;5;241m.\u001b[39mwrap_database_errors:\n\u001b[1;32m    279\u001b[0m     \u001b[38;5;28mself\u001b[39m\u001b[38;5;241m.\u001b[39mconnect()\n",
      "File \u001b[0;32m~/.local/share/mamba/envs/lamin/lib/python3.12/site-packages/django/db/utils.py:91\u001b[0m, in \u001b[0;36mDatabaseErrorWrapper.__exit__\u001b[0;34m(self, exc_type, exc_value, traceback)\u001b[0m\n\u001b[1;32m     89\u001b[0m \u001b[38;5;28;01mif\u001b[39;00m dj_exc_type \u001b[38;5;129;01mnot\u001b[39;00m \u001b[38;5;129;01min\u001b[39;00m (DataError, IntegrityError):\n\u001b[1;32m     90\u001b[0m     \u001b[38;5;28mself\u001b[39m\u001b[38;5;241m.\u001b[39mwrapper\u001b[38;5;241m.\u001b[39merrors_occurred \u001b[38;5;241m=\u001b[39m \u001b[38;5;28;01mTrue\u001b[39;00m\n\u001b[0;32m---> 91\u001b[0m \u001b[38;5;28;01mraise\u001b[39;00m dj_exc_value\u001b[38;5;241m.\u001b[39mwith_traceback(traceback) \u001b[38;5;28;01mfrom\u001b[39;00m\u001b[38;5;250m \u001b[39m\u001b[38;5;21;01mexc_value\u001b[39;00m\n",
      "File \u001b[0;32m~/.local/share/mamba/envs/lamin/lib/python3.12/site-packages/django/db/backends/base/base.py:279\u001b[0m, in \u001b[0;36mBaseDatabaseWrapper.ensure_connection\u001b[0;34m(self)\u001b[0m\n\u001b[1;32m    275\u001b[0m     \u001b[38;5;28;01mraise\u001b[39;00m ProgrammingError(\n\u001b[1;32m    276\u001b[0m         \u001b[38;5;124m\"\u001b[39m\u001b[38;5;124mCannot open a new connection in an atomic block.\u001b[39m\u001b[38;5;124m\"\u001b[39m\n\u001b[1;32m    277\u001b[0m     )\n\u001b[1;32m    278\u001b[0m \u001b[38;5;28;01mwith\u001b[39;00m \u001b[38;5;28mself\u001b[39m\u001b[38;5;241m.\u001b[39mwrap_database_errors:\n\u001b[0;32m--> 279\u001b[0m     \u001b[38;5;28;43mself\u001b[39;49m\u001b[38;5;241;43m.\u001b[39;49m\u001b[43mconnect\u001b[49m\u001b[43m(\u001b[49m\u001b[43m)\u001b[49m\n",
      "File \u001b[0;32m~/.local/share/mamba/envs/lamin/lib/python3.12/site-packages/django/utils/asyncio.py:26\u001b[0m, in \u001b[0;36masync_unsafe.<locals>.decorator.<locals>.inner\u001b[0;34m(*args, **kwargs)\u001b[0m\n\u001b[1;32m     24\u001b[0m         \u001b[38;5;28;01mraise\u001b[39;00m SynchronousOnlyOperation(message)\n\u001b[1;32m     25\u001b[0m \u001b[38;5;66;03m# Pass onward.\u001b[39;00m\n\u001b[0;32m---> 26\u001b[0m \u001b[38;5;28;01mreturn\u001b[39;00m \u001b[43mfunc\u001b[49m\u001b[43m(\u001b[49m\u001b[38;5;241;43m*\u001b[39;49m\u001b[43margs\u001b[49m\u001b[43m,\u001b[49m\u001b[43m \u001b[49m\u001b[38;5;241;43m*\u001b[39;49m\u001b[38;5;241;43m*\u001b[39;49m\u001b[43mkwargs\u001b[49m\u001b[43m)\u001b[49m\n",
      "File \u001b[0;32m~/.local/share/mamba/envs/lamin/lib/python3.12/site-packages/django/db/backends/base/base.py:256\u001b[0m, in \u001b[0;36mBaseDatabaseWrapper.connect\u001b[0;34m(self)\u001b[0m\n\u001b[1;32m    254\u001b[0m \u001b[38;5;66;03m# Establish the connection\u001b[39;00m\n\u001b[1;32m    255\u001b[0m conn_params \u001b[38;5;241m=\u001b[39m \u001b[38;5;28mself\u001b[39m\u001b[38;5;241m.\u001b[39mget_connection_params()\n\u001b[0;32m--> 256\u001b[0m \u001b[38;5;28mself\u001b[39m\u001b[38;5;241m.\u001b[39mconnection \u001b[38;5;241m=\u001b[39m \u001b[38;5;28;43mself\u001b[39;49m\u001b[38;5;241;43m.\u001b[39;49m\u001b[43mget_new_connection\u001b[49m\u001b[43m(\u001b[49m\u001b[43mconn_params\u001b[49m\u001b[43m)\u001b[49m\n\u001b[1;32m    257\u001b[0m \u001b[38;5;28mself\u001b[39m\u001b[38;5;241m.\u001b[39mset_autocommit(\u001b[38;5;28mself\u001b[39m\u001b[38;5;241m.\u001b[39msettings_dict[\u001b[38;5;124m\"\u001b[39m\u001b[38;5;124mAUTOCOMMIT\u001b[39m\u001b[38;5;124m\"\u001b[39m])\n\u001b[1;32m    258\u001b[0m \u001b[38;5;28mself\u001b[39m\u001b[38;5;241m.\u001b[39minit_connection_state()\n",
      "File \u001b[0;32m~/.local/share/mamba/envs/lamin/lib/python3.12/site-packages/django/utils/asyncio.py:26\u001b[0m, in \u001b[0;36masync_unsafe.<locals>.decorator.<locals>.inner\u001b[0;34m(*args, **kwargs)\u001b[0m\n\u001b[1;32m     24\u001b[0m         \u001b[38;5;28;01mraise\u001b[39;00m SynchronousOnlyOperation(message)\n\u001b[1;32m     25\u001b[0m \u001b[38;5;66;03m# Pass onward.\u001b[39;00m\n\u001b[0;32m---> 26\u001b[0m \u001b[38;5;28;01mreturn\u001b[39;00m \u001b[43mfunc\u001b[49m\u001b[43m(\u001b[49m\u001b[38;5;241;43m*\u001b[39;49m\u001b[43margs\u001b[49m\u001b[43m,\u001b[49m\u001b[43m \u001b[49m\u001b[38;5;241;43m*\u001b[39;49m\u001b[38;5;241;43m*\u001b[39;49m\u001b[43mkwargs\u001b[49m\u001b[43m)\u001b[49m\n",
      "File \u001b[0;32m~/.local/share/mamba/envs/lamin/lib/python3.12/site-packages/django/db/backends/postgresql/base.py:332\u001b[0m, in \u001b[0;36mDatabaseWrapper.get_new_connection\u001b[0;34m(self, conn_params)\u001b[0m\n\u001b[1;32m    330\u001b[0m     connection \u001b[38;5;241m=\u001b[39m \u001b[38;5;28mself\u001b[39m\u001b[38;5;241m.\u001b[39mpool\u001b[38;5;241m.\u001b[39mgetconn()\n\u001b[1;32m    331\u001b[0m \u001b[38;5;28;01melse\u001b[39;00m:\n\u001b[0;32m--> 332\u001b[0m     connection \u001b[38;5;241m=\u001b[39m \u001b[38;5;28;43mself\u001b[39;49m\u001b[38;5;241;43m.\u001b[39;49m\u001b[43mDatabase\u001b[49m\u001b[38;5;241;43m.\u001b[39;49m\u001b[43mconnect\u001b[49m\u001b[43m(\u001b[49m\u001b[38;5;241;43m*\u001b[39;49m\u001b[38;5;241;43m*\u001b[39;49m\u001b[43mconn_params\u001b[49m\u001b[43m)\u001b[49m\n\u001b[1;32m    333\u001b[0m \u001b[38;5;28;01mif\u001b[39;00m set_isolation_level:\n\u001b[1;32m    334\u001b[0m     connection\u001b[38;5;241m.\u001b[39misolation_level \u001b[38;5;241m=\u001b[39m \u001b[38;5;28mself\u001b[39m\u001b[38;5;241m.\u001b[39misolation_level\n",
      "File \u001b[0;32m~/.local/share/mamba/envs/lamin/lib/python3.12/site-packages/psycopg2/__init__.py:122\u001b[0m, in \u001b[0;36mconnect\u001b[0;34m(dsn, connection_factory, cursor_factory, **kwargs)\u001b[0m\n\u001b[1;32m    119\u001b[0m     kwasync[\u001b[38;5;124m'\u001b[39m\u001b[38;5;124masync_\u001b[39m\u001b[38;5;124m'\u001b[39m] \u001b[38;5;241m=\u001b[39m kwargs\u001b[38;5;241m.\u001b[39mpop(\u001b[38;5;124m'\u001b[39m\u001b[38;5;124masync_\u001b[39m\u001b[38;5;124m'\u001b[39m)\n\u001b[1;32m    121\u001b[0m dsn \u001b[38;5;241m=\u001b[39m _ext\u001b[38;5;241m.\u001b[39mmake_dsn(dsn, \u001b[38;5;241m*\u001b[39m\u001b[38;5;241m*\u001b[39mkwargs)\n\u001b[0;32m--> 122\u001b[0m conn \u001b[38;5;241m=\u001b[39m \u001b[43m_connect\u001b[49m\u001b[43m(\u001b[49m\u001b[43mdsn\u001b[49m\u001b[43m,\u001b[49m\u001b[43m \u001b[49m\u001b[43mconnection_factory\u001b[49m\u001b[38;5;241;43m=\u001b[39;49m\u001b[43mconnection_factory\u001b[49m\u001b[43m,\u001b[49m\u001b[43m \u001b[49m\u001b[38;5;241;43m*\u001b[39;49m\u001b[38;5;241;43m*\u001b[39;49m\u001b[43mkwasync\u001b[49m\u001b[43m)\u001b[49m\n\u001b[1;32m    123\u001b[0m \u001b[38;5;28;01mif\u001b[39;00m cursor_factory \u001b[38;5;129;01mis\u001b[39;00m \u001b[38;5;129;01mnot\u001b[39;00m \u001b[38;5;28;01mNone\u001b[39;00m:\n\u001b[1;32m    124\u001b[0m     conn\u001b[38;5;241m.\u001b[39mcursor_factory \u001b[38;5;241m=\u001b[39m cursor_factory\n",
      "\u001b[0;31mOperationalError\u001b[0m: connection to server at \"database2.cmyfs24wugc3.us-east-1.rds.amazonaws.com\" (3.211.54.97), port 5432 failed: Operation timed out\n\tIs the server running on that host and accepting TCP/IP connections?\n"
     ]
    }
   ],
   "source": [
    "adata_artifact = ln.Artifact.get(\"grmr98C4DvA2ofeP0000\")\n",
    "adata_artifact\n",
    "\n",
    "#getting error: OperationalError: connection to server at \"database2.cmyfs24wugc3.us-east-1.rds.amazonaws.com\" (3.211.54.97), port 5432 failed: Operation timed out\n",
    "#\tIs the server running on that host and accepting TCP/IP connections?"
   ]
  },
  {
   "cell_type": "code",
   "execution_count": 13,
   "id": "d2f3fdc4-520c-4d32-b2d1-46479d43dee3",
   "metadata": {},
   "outputs": [
    {
     "data": {
      "text/html": [
       "<pre style=\"white-space:pre;overflow-x:auto;line-height:normal;font-family:Menlo,'DejaVu Sans Mono',consolas,'Courier New',monospace\"><span style=\"font-weight: bold\">Artifact</span><span style=\"color: #7f7f7f; text-decoration-color: #7f7f7f; font-weight: bold\"> .h5ad/AnnData</span>\n",
       "<span style=\"color: #7f7f7f; text-decoration-color: #7f7f7f\">├── </span><span style=\"color: #00ffff; text-decoration-color: #00ffff; font-weight: bold\">General</span>\n",
       "<span style=\"color: #7f7f7f; text-decoration-color: #7f7f7f\">│   ├── </span>.uid = 'grmr98C4DvA2ofeP0000'\n",
       "<span style=\"color: #7f7f7f; text-decoration-color: #7f7f7f\">│   ├── </span>.key = 'schema/raw_adata.h5ad'\n",
       "<span style=\"color: #7f7f7f; text-decoration-color: #7f7f7f\">│   ├── </span>.size = 982219738\n",
       "<span style=\"color: #7f7f7f; text-decoration-color: #7f7f7f\">│   ├── </span>.hash = 'q4mdUBZZH_DE65t29RY5UG'\n",
       "<span style=\"color: #7f7f7f; text-decoration-color: #7f7f7f\">│   ├── </span>.n_observations = 117481\n",
       "<span style=\"color: #7f7f7f; text-decoration-color: #7f7f7f\">│   ├── </span>.path = <span style=\"color: #7f7f7f; text-decoration-color: #7f7f7f\">s3://lamindata</span>/.lamindb/grmr98C4DvA2ofeP0000.h5ad\n",
       "<span style=\"color: #7f7f7f; text-decoration-color: #7f7f7f\">│   ├── </span>.created_by = paupaiz\n",
       "<span style=\"color: #7f7f7f; text-decoration-color: #7f7f7f\">│   ├── </span>.created_at = <span style=\"color: #7f7f7f; text-decoration-color: #7f7f7f\">2025-03-20 21:49:35</span>\n",
       "<span style=\"color: #7f7f7f; text-decoration-color: #7f7f7f\">│   └── </span><span style=\"color: #00d7af; text-decoration-color: #00d7af\">.transform = 'Schema_001_V4.ipynb'</span>\n",
       "<span style=\"color: #7f7f7f; text-decoration-color: #7f7f7f\">├── </span><span style=\"color: #ff8700; text-decoration-color: #ff8700; font-weight: bold\">Linked features</span>\n",
       "<span style=\"color: #7f7f7f; text-decoration-color: #7f7f7f\">│   └── </span>disease                    <span style=\"color: #7f7f7f; text-decoration-color: #7f7f7f\"> cat[bionty.Disease]       </span> breast cancer                            \n",
       "<span style=\"color: #7f7f7f; text-decoration-color: #7f7f7f\">│       </span>author                     <span style=\"color: #7f7f7f; text-decoration-color: #7f7f7f\"> str                       </span> Xu K                                     \n",
       "<span style=\"color: #7f7f7f; text-decoration-color: #7f7f7f\">└── </span><span style=\"color: #afff00; text-decoration-color: #afff00; font-weight: bold\">Labels</span>\n",
       "<span style=\"color: #7f7f7f; text-decoration-color: #7f7f7f\">    └── </span>.projects                  <span style=\"color: #7f7f7f; text-decoration-color: #7f7f7f\"> Project                   </span> Breast metastasis                        \n",
       "<span style=\"color: #7f7f7f; text-decoration-color: #7f7f7f\">        </span>.tissues                   <span style=\"color: #7f7f7f; text-decoration-color: #7f7f7f\"> bionty.Tissue             </span> lymph node, breast                       \n",
       "<span style=\"color: #7f7f7f; text-decoration-color: #7f7f7f\">        </span>.diseases                  <span style=\"color: #7f7f7f; text-decoration-color: #7f7f7f\"> bionty.Disease            </span> breast cancer                            \n",
       "<span style=\"color: #7f7f7f; text-decoration-color: #7f7f7f\">        </span>.ulabels                   <span style=\"color: #7f7f7f; text-decoration-color: #7f7f7f\"> ULabel                    </span> Raw                                      \n",
       "</pre>\n"
      ],
      "text/plain": [
       "\u001b[1mArtifact\u001b[0m\u001b[1;2m .h5ad/AnnData\u001b[0m\n",
       "\u001b[2m├── \u001b[0m\u001b[1;96mGeneral\u001b[0m\n",
       "\u001b[2m│   \u001b[0m\u001b[2m├── \u001b[0m.uid = 'grmr98C4DvA2ofeP0000'\n",
       "\u001b[2m│   \u001b[0m\u001b[2m├── \u001b[0m.key = 'schema/raw_adata.h5ad'\n",
       "\u001b[2m│   \u001b[0m\u001b[2m├── \u001b[0m.size = 982219738\n",
       "\u001b[2m│   \u001b[0m\u001b[2m├── \u001b[0m.hash = 'q4mdUBZZH_DE65t29RY5UG'\n",
       "\u001b[2m│   \u001b[0m\u001b[2m├── \u001b[0m.n_observations = 117481\n",
       "\u001b[2m│   \u001b[0m\u001b[2m├── \u001b[0m.path = \u001b[2ms3://lamindata\u001b[0m/.lamindb/grmr98C4DvA2ofeP0000.h5ad\n",
       "\u001b[2m│   \u001b[0m\u001b[2m├── \u001b[0m.created_by = paupaiz\n",
       "\u001b[2m│   \u001b[0m\u001b[2m├── \u001b[0m.created_at = \u001b[2m2025-03-20 21:49:35\u001b[0m\n",
       "\u001b[2m│   \u001b[0m\u001b[2m└── \u001b[0m\u001b[38;5;43m.transform = 'Schema_001_V4.ipynb'\u001b[0m\n",
       "\u001b[2m├── \u001b[0m\u001b[1;38;5;208mLinked features\u001b[0m\n",
       "\u001b[2m│   \u001b[0m\u001b[2m└── \u001b[0mdisease                    \u001b[2m \u001b[0m\u001b[2mcat[bionty.Disease]      \u001b[0m\u001b[2m \u001b[0m breast cancer                            \n",
       "\u001b[2m│   \u001b[0m\u001b[2m    \u001b[0mauthor                     \u001b[2m \u001b[0m\u001b[2mstr                      \u001b[0m\u001b[2m \u001b[0m Xu K                                     \n",
       "\u001b[2m└── \u001b[0m\u001b[1;38;5;154mLabels\u001b[0m\n",
       "\u001b[2m    \u001b[0m\u001b[2m└── \u001b[0m.projects                  \u001b[2m \u001b[0m\u001b[2mProject                  \u001b[0m\u001b[2m \u001b[0m Breast metastasis                        \n",
       "\u001b[2m    \u001b[0m\u001b[2m    \u001b[0m.tissues                   \u001b[2m \u001b[0m\u001b[2mbionty.Tissue            \u001b[0m\u001b[2m \u001b[0m lymph node, breast                       \n",
       "\u001b[2m    \u001b[0m\u001b[2m    \u001b[0m.diseases                  \u001b[2m \u001b[0m\u001b[2mbionty.Disease           \u001b[0m\u001b[2m \u001b[0m breast cancer                            \n",
       "\u001b[2m    \u001b[0m\u001b[2m    \u001b[0m.ulabels                   \u001b[2m \u001b[0m\u001b[2mULabel                   \u001b[0m\u001b[2m \u001b[0m Raw                                      \n"
      ]
     },
     "metadata": {},
     "output_type": "display_data"
    }
   ],
   "source": [
    "adata_artifact.describe()"
   ]
  },
  {
   "cell_type": "code",
   "execution_count": 14,
   "id": "01db12c2-f639-4b20-9296-8f1678d9e978",
   "metadata": {},
   "outputs": [
    {
     "data": {
      "image/svg+xml": [
       "<?xml version=\"1.0\" encoding=\"UTF-8\" standalone=\"no\"?>\n",
       "<!DOCTYPE svg PUBLIC \"-//W3C//DTD SVG 1.1//EN\"\n",
       " \"http://www.w3.org/Graphics/SVG/1.1/DTD/svg11.dtd\">\n",
       "<!-- Generated by graphviz version 12.2.1 (20241206.2353)\n",
       " -->\n",
       "<!-- Title: artifact_grmr98C4DvA2ofeP0000 Pages: 1 -->\n",
       "<svg width=\"382pt\" height=\"214pt\"\n",
       " viewBox=\"0.00 0.00 382.00 214.00\" xmlns=\"http://www.w3.org/2000/svg\" xmlns:xlink=\"http://www.w3.org/1999/xlink\">\n",
       "<g id=\"graph0\" class=\"graph\" transform=\"scale(1 1) rotate(0) translate(4 210)\">\n",
       "<title>artifact_grmr98C4DvA2ofeP0000</title>\n",
       "<polygon fill=\"white\" stroke=\"none\" points=\"-4,4 -4,-210 378,-210 378,4 -4,4\"/>\n",
       "<!-- run_Y4kq6znJ68jsAAWGCXv4 -->\n",
       "<g id=\"node1\" class=\"node\">\n",
       "<title>run_Y4kq6znJ68jsAAWGCXv4</title>\n",
       "<path fill=\"gainsboro\" stroke=\"#065f46\" d=\"M264,-206C264,-206 110,-206 110,-206 104,-206 98,-200 98,-194 98,-194 98,-170 98,-170 98,-164 104,-158 110,-158 110,-158 264,-158 264,-158 270,-158 276,-164 276,-170 276,-170 276,-194 276,-194 276,-200 270,-206 264,-206\"/>\n",
       "<text text-anchor=\"start\" x=\"130.38\" y=\"-193.5\" font-family=\"Helvetica,sans-Serif\" font-size=\"10.00\">📔 Schema_001_V4.ipynb</text>\n",
       "<text text-anchor=\"start\" x=\"127\" y=\"-183.5\" font-family=\"Monospace\" font-size=\"10.00\" fill=\"GREY\">uid=UCJv1Q3QIMpZ0000</text>\n",
       "<text text-anchor=\"start\" x=\"106\" y=\"-173.5\" font-family=\"Monospace\" font-size=\"10.00\" fill=\"GREY\">type=notebook, user=paupaiz</text>\n",
       "<text text-anchor=\"start\" x=\"106\" y=\"-163.5\" font-family=\"Monospace\" font-size=\"10.00\" fill=\"GREY\">run=2025&#45;03&#45;20 22:08:14 UTC</text>\n",
       "</g>\n",
       "<!-- artifact_grmr98C4DvA2ofeP0000 -->\n",
       "<g id=\"node2\" class=\"node\">\n",
       "<title>artifact_grmr98C4DvA2ofeP0000</title>\n",
       "<path fill=\"#10b981\" stroke=\"#065f46\" d=\"M338.62,-122C338.62,-122 35.38,-122 35.38,-122 29.38,-122 23.38,-116 23.38,-110 23.38,-110 23.38,-96 23.38,-96 23.38,-90 29.38,-84 35.38,-84 35.38,-84 338.62,-84 338.62,-84 344.62,-84 350.62,-90 350.62,-96 350.62,-96 350.62,-110 350.62,-110 350.62,-116 344.62,-122 338.62,-122\"/>\n",
       "<text text-anchor=\"start\" x=\"31.38\" y=\"-109.5\" font-family=\"Helvetica,sans-Serif\" font-size=\"10.00\">📄 Single Cell RNA&#45;seq dataset from GEO [GSE180286], RAW&#45;Counts</text>\n",
       "<text text-anchor=\"start\" x=\"115\" y=\"-99.5\" font-family=\"Monospace\" font-size=\"10.00\" fill=\"GREY\">uid=grmr98C4DvA2ofeP0000</text>\n",
       "<text text-anchor=\"start\" x=\"151\" y=\"-89.5\" font-family=\"Monospace\" font-size=\"10.00\" fill=\"GREY\">suffix=.h5ad</text>\n",
       "</g>\n",
       "<!-- run_Y4kq6znJ68jsAAWGCXv4&#45;&gt;artifact_grmr98C4DvA2ofeP0000 -->\n",
       "<g id=\"edge1\" class=\"edge\">\n",
       "<title>run_Y4kq6znJ68jsAAWGCXv4&#45;&gt;artifact_grmr98C4DvA2ofeP0000</title>\n",
       "<path fill=\"none\" stroke=\"dimgrey\" d=\"M187,-157.9C187,-148.68 187,-138.06 187,-128.69\"/>\n",
       "<polygon fill=\"dimgrey\" stroke=\"dimgrey\" points=\"188.75,-128.96 187,-123.96 185.25,-128.96 188.75,-128.96\"/>\n",
       "</g>\n",
       "<!-- run_yaV7gbbGo6HaPszCIblU -->\n",
       "<g id=\"node3\" class=\"node\">\n",
       "<title>run_yaV7gbbGo6HaPszCIblU</title>\n",
       "<path fill=\"gainsboro\" stroke=\"#065f46\" d=\"M166,-48C166,-48 12,-48 12,-48 6,-48 0,-42 0,-36 0,-36 0,-12 0,-12 0,-6 6,0 12,0 12,0 166,0 166,0 172,0 178,-6 178,-12 178,-12 178,-36 178,-36 178,-42 172,-48 166,-48\"/>\n",
       "<text text-anchor=\"start\" x=\"46.25\" y=\"-35.5\" font-family=\"Helvetica,sans-Serif\" font-size=\"10.00\">📔 Schema_1.ipynb</text>\n",
       "<text text-anchor=\"start\" x=\"29\" y=\"-25.5\" font-family=\"Monospace\" font-size=\"10.00\" fill=\"GREY\">uid=VVfuRos7APWt0000</text>\n",
       "<text text-anchor=\"start\" x=\"8\" y=\"-15.5\" font-family=\"Monospace\" font-size=\"10.00\" fill=\"GREY\">type=notebook, user=paupaiz</text>\n",
       "<text text-anchor=\"start\" x=\"8\" y=\"-5.5\" font-family=\"Monospace\" font-size=\"10.00\" fill=\"GREY\">run=2025&#45;03&#45;23 10:01:16 UTC</text>\n",
       "</g>\n",
       "<!-- artifact_grmr98C4DvA2ofeP0000&#45;&gt;run_yaV7gbbGo6HaPszCIblU -->\n",
       "<g id=\"edge2\" class=\"edge\">\n",
       "<title>artifact_grmr98C4DvA2ofeP0000&#45;&gt;run_yaV7gbbGo6HaPszCIblU</title>\n",
       "<path fill=\"none\" stroke=\"dimgrey\" d=\"M163.78,-83.75C151.78,-74.33 136.9,-62.63 123.58,-52.17\"/>\n",
       "<polygon fill=\"dimgrey\" stroke=\"dimgrey\" points=\"124.95,-51.02 119.94,-49.31 122.79,-53.78 124.95,-51.02\"/>\n",
       "</g>\n",
       "<!-- run_WuvgoTQBUwW8P42VF345 -->\n",
       "<g id=\"node4\" class=\"node\">\n",
       "<title>run_WuvgoTQBUwW8P42VF345</title>\n",
       "<path fill=\"gainsboro\" stroke=\"#065f46\" d=\"M362,-48C362,-48 208,-48 208,-48 202,-48 196,-42 196,-36 196,-36 196,-12 196,-12 196,-6 202,0 208,0 208,0 362,0 362,0 368,0 374,-6 374,-12 374,-12 374,-36 374,-36 374,-42 368,-48 362,-48\"/>\n",
       "<text text-anchor=\"start\" x=\"254.25\" y=\"-35.5\" font-family=\"Helvetica,sans-Serif\" font-size=\"10.00\">📔 Xu_1.ipynb</text>\n",
       "<text text-anchor=\"start\" x=\"225\" y=\"-25.5\" font-family=\"Monospace\" font-size=\"10.00\" fill=\"GREY\">uid=porDxHS9GLB60000</text>\n",
       "<text text-anchor=\"start\" x=\"204\" y=\"-15.5\" font-family=\"Monospace\" font-size=\"10.00\" fill=\"GREY\">type=notebook, user=paupaiz</text>\n",
       "<text text-anchor=\"start\" x=\"204\" y=\"-5.5\" font-family=\"Monospace\" font-size=\"10.00\" fill=\"GREY\">run=2025&#45;03&#45;23 11:08:38 UTC</text>\n",
       "</g>\n",
       "<!-- artifact_grmr98C4DvA2ofeP0000&#45;&gt;run_WuvgoTQBUwW8P42VF345 -->\n",
       "<g id=\"edge3\" class=\"edge\">\n",
       "<title>artifact_grmr98C4DvA2ofeP0000&#45;&gt;run_WuvgoTQBUwW8P42VF345</title>\n",
       "<path fill=\"none\" stroke=\"dimgrey\" d=\"M210.22,-83.75C222.22,-74.33 237.1,-62.63 250.42,-52.17\"/>\n",
       "<polygon fill=\"dimgrey\" stroke=\"dimgrey\" points=\"251.21,-53.78 254.06,-49.31 249.05,-51.02 251.21,-53.78\"/>\n",
       "</g>\n",
       "</g>\n",
       "</svg>\n"
      ]
     },
     "metadata": {},
     "output_type": "display_data"
    }
   ],
   "source": [
    "adata_artifact.view_lineage()"
   ]
  },
  {
   "cell_type": "code",
   "execution_count": 6,
   "id": "94614d51",
   "metadata": {},
   "outputs": [
    {
     "data": {
      "text/plain": [
       "AnnData object with n_obs × n_vars = 117481 × 17872\n",
       "    obs: 'patient', 'site'"
      ]
     },
     "execution_count": 6,
     "metadata": {},
     "output_type": "execute_result"
    }
   ],
   "source": [
    "adata = adata_artifact.load()\n",
    "adata"
   ]
  },
  {
   "cell_type": "markdown",
   "id": "b6aa76b1-d163-455e-9645-e696b2b4d289",
   "metadata": {},
   "source": [
    "### Preprocessing the dataset\n",
    "---\n",
    "A common step after receiving the raw data is preprocessing, which ensures data quality and prepares it for downstream analysis. In scRNA-seq, preprocessing typically involves quality control (QC), filtering, normalization, and transformation to remove technical artifacts and retain biologically meaningful signals.\n",
    "\n",
    "\n",
    "As an analyst, starting from raw data every time can be inefficient and time-consuming. Instead, we may prefer to begin from an already preprocessed dataset, allowing us to focus more on analysis rather than repetitive data cleaning steps.\n",
    "\n",
    "To enable this, we perform quality control (QC) and preprocessing on the raw data and save it as an artifact, tagging it as \"preprocessed.\" This ensures that future analyses can directly access a clean and structured dataset without redoing the initial steps.\n",
    "\n",
    "To maintain consistency and interoperability, we define a schema that the dataset must adhere to after preprocessing. This schema ensures that the data contains essential columns and metadata, such as:\n",
    "\n",
    "Cell quality metrics (e.g., mitochondrial content, total counts, detected genes)\n",
    "- Filtered gene expression values\n",
    "- Cell annotations (if available)\n",
    "- Batch information (if applicable)\n",
    "\n",
    "By enforcing this structured approach, we ensure that the dataset remains well-organized, reproducible, and ready for downstream analysis, streamlining the overall workflow.\n",
    "\n",
    "Below are some common preprocessing steps for a scRNA-seq data: "
   ]
  },
  {
   "cell_type": "markdown",
   "id": "3d27b797-1ae5-4937-8772-20adfc2d4eab",
   "metadata": {},
   "source": [
    "#### A. Tagging MT genes, Mito Genes, HB genes \n",
    "---\n",
    "In these preprocessing steps we annotate mitochondrial (MT-), ribosomal (RPS/RPL), and hemoglobin (HB) genes in single-cell RNA-seq data. \n",
    "- Mitochondrial genes indicate cell stress or apoptosis,\n",
    "- ribosomal genes can reflect high transcriptional activity\n",
    "- hemoglobin genes are often filtered in non-blood samples to avoid bias.\n",
    "\n",
    "In the later steps we use these annotation to calculate quality metrics which will help filter out data."
   ]
  },
  {
   "cell_type": "code",
   "execution_count": 7,
   "id": "138a2b32-7e47-4d5b-82b0-bdbd678e0757",
   "metadata": {},
   "outputs": [],
   "source": [
    "# mitochondrial genes, \"MT-\" for human, \"Mt-\" for mouse\n",
    "adata.var[\"mt\"] = adata.var_names.str.startswith(\"MT-\")\n",
    "# ribosomal genes\n",
    "adata.var[\"ribo\"] = adata.var_names.str.startswith((\"RPS\", \"RPL\"))\n",
    "# hemoglobin genes\n",
    "adata.var[\"hb\"] = adata.var_names.str.contains(\"^HB[^(P)]\")"
   ]
  },
  {
   "cell_type": "markdown",
   "id": "90aa0125-bf60-4536-a81c-662eaf2a155a",
   "metadata": {},
   "source": [
    "#### B. Calculating Metrics based on the taggings:  \n",
    "---\n",
    "We calculate QC metrics for annotated mitochondrial (mt), ribosomal (ribo), and hemoglobin (hb) genes to evaluate data quality. \n",
    "We'll later plot these metrics which will enable us to decide on a cut-off value for filtering out the cells."
   ]
  },
  {
   "cell_type": "code",
   "execution_count": 8,
   "id": "38bfdb69-ec5f-4c3a-93c6-c3363d3879be",
   "metadata": {},
   "outputs": [
    {
     "name": "stderr",
     "output_type": "stream",
     "text": [
      "OMP: Info #276: omp_set_nested routine deprecated, please use omp_set_max_active_levels instead.\n"
     ]
    }
   ],
   "source": [
    "sc.pp.calculate_qc_metrics(\n",
    "    adata, qc_vars=[\"mt\", \"ribo\", \"hb\"], inplace=True, log1p=True\n",
    ")"
   ]
  },
  {
   "cell_type": "markdown",
   "id": "b4e80439-0508-48ea-b20e-89f6e54e0fa7",
   "metadata": {},
   "source": [
    "#### C. Plotting Metrics\n",
    "---\n",
    "We now generate violin plots to visualize key QC metrics: \n",
    "- the number of detected genes per cell (n_genes_by_counts)\n",
    "- total UMI counts per cell (total_counts)\n",
    "- percentage of mitochondrial gene expression (pct_counts_mt)"
   ]
  },
  {
   "cell_type": "code",
   "execution_count": 19,
   "id": "afa30426-784b-4607-bb11-b68ae04e6677",
   "metadata": {},
   "outputs": [
    {
     "data": {
      "image/png": "[encoded data removed]",
      "text/plain": [
       "<Figure size 1511.11x500 with 3 Axes>"
      ]
     },
     "metadata": {},
     "output_type": "display_data"
    }
   ],
   "source": [
    "sc.pl.violin(\n",
    "    adata,\n",
    "    [\"n_genes_by_counts\", \"total_counts\", \"pct_counts_mt\"],\n",
    "    jitter=0.4,\n",
    "    multi_panel=True,\n",
    ")"
   ]
  },
  {
   "cell_type": "code",
   "execution_count": 20,
   "id": "f44a6a97-21a0-4826-addd-f1732d2afdf9",
   "metadata": {},
   "outputs": [
    {
     "data": {
      "image/png": "[encoded data removed]",
      "text/plain": [
       "<Figure size 810.02x480 with 2 Axes>"
      ]
     },
     "metadata": {},
     "output_type": "display_data"
    }
   ],
   "source": [
    "sc.pl.scatter(adata, \"total_counts\", \"n_genes_by_counts\", color=\"pct_counts_mt\")"
   ]
  },
  {
   "cell_type": "markdown",
   "id": "e7c8ed52-31cb-46b5-b746-7984345f6535",
   "metadata": {},
   "source": [
    "#### D. Defining and applying Filters\n",
    "---\n",
    "We can now filter out low-quality cells by removing those cells: \n",
    "- which have high mitochondrial content (>20%),\n",
    "- low gene counts (<200),\n",
    "- excessive gene expression (>2000, potential doublets),\n",
    "- extreme total counts (<1000 or >30000).\n",
    "\n",
    "This ensures a high-quality dataset by retaining biologically relevant cells."
   ]
  },
  {
   "cell_type": "code",
   "execution_count": 9,
   "id": "ae210b85-5d46-4a7d-babc-89198c288798",
   "metadata": {},
   "outputs": [
    {
     "name": "stdout",
     "output_type": "stream",
     "text": [
      "Remaining cells after filtering: 42049\n"
     ]
    }
   ],
   "source": [
    "# Define filtering thresholds\n",
    "mt_threshold = 0.2  \n",
    "min_genes_per_cell = 200  \n",
    "max_genes_per_cell = 2000 \n",
    "min_counts_per_cell = 1000  \n",
    "max_counts_per_cell = 30000  \n",
    "\n",
    "# Apply filters\n",
    "filtered_cells = (\n",
    "    (adata.obs[\"pct_counts_mt\"] < mt_threshold * 100) &  \n",
    "    (adata.obs[\"n_genes_by_counts\"] > min_genes_per_cell) &\n",
    "    (adata.obs[\"n_genes_by_counts\"] < max_genes_per_cell) &\n",
    "    (adata.obs[\"total_counts\"] > min_counts_per_cell) &\n",
    "    (adata.obs[\"total_counts\"] < max_counts_per_cell)\n",
    ")\n",
    "\n",
    "# Filter the dataset\n",
    "adata = adata[filtered_cells].copy()\n",
    "\n",
    "print(f\"Remaining cells after filtering: {adata.shape[0]}\")"
   ]
  },
  {
   "cell_type": "code",
   "execution_count": 10,
   "id": "ae99ee42-4dc1-47e2-a9b7-8b1d29807435",
   "metadata": {},
   "outputs": [],
   "source": [
    "sc.pp.filter_cells(adata, min_genes=100)\n",
    "sc.pp.filter_genes(adata, min_cells=3)"
   ]
  },
  {
   "cell_type": "markdown",
   "id": "9fda6b62-994a-4703-a1c2-87ac4c201d2b",
   "metadata": {},
   "source": [
    "#### E. Normalising and transforming the counts"
   ]
  },
  {
   "cell_type": "code",
   "execution_count": 11,
   "id": "32f1d065-286e-4154-bf22-f8174bc0fed6",
   "metadata": {},
   "outputs": [],
   "source": [
    "adata.layers[\"counts\"] = adata.X.copy()"
   ]
  },
  {
   "cell_type": "markdown",
   "id": "608691ea-cfdf-48b3-869d-1a46e18053e5",
   "metadata": {},
   "source": [
    "We now normalize the data to 10,000 counts per cell (`normalize_total`) to correct for sequencing depth, apply log transformation (`log1p`) to stabilize variance, and select the top 2,000 highly variable genes (`highly_variable_genes`, `subset=True`) to retain the most informative features for downstream analysis."
   ]
  },
  {
   "cell_type": "code",
   "execution_count": 12,
   "id": "4d0aac0a-7776-415a-8f14-1c11a2471905",
   "metadata": {},
   "outputs": [],
   "source": [
    "sc.pp.normalize_total(adata, target_sum=1e4)\n",
    "sc.pp.log1p(adata)\n",
    "sc.pp.highly_variable_genes(adata, n_top_genes=2000, subset=True)"
   ]
  },
  {
   "cell_type": "code",
   "execution_count": 13,
   "id": "7bc4b84a-789c-4342-bf7a-554c703ac4d0",
   "metadata": {},
   "outputs": [
    {
     "data": {
      "image/png": "[encoded data removed]",
      "text/plain": [
       "<Figure size 1280x480 with 2 Axes>"
      ]
     },
     "metadata": {},
     "output_type": "display_data"
    }
   ],
   "source": [
    "sc.pl.highly_variable_genes(adata)"
   ]
  },
  {
   "cell_type": "markdown",
   "id": "20671764-91f8-46be-81d4-2a5e43ca90c0",
   "metadata": {},
   "source": [
    "### Saving AnnData After Preprocessing\n",
    "---\n",
    "\n",
    "After preprocessing, our `.var` and `.obs` dataframes contain additional columns, enriching the dataset with crucial metadata and annotations.\n",
    "\n",
    "To maintain consistency and interoperability, any preprocessed dataset ingested into the LaminDB datalake should follow a predefined schema. This ensures that every analysis starts with the same essential set of information, eliminating inconsistencies and improving reproducibility.\n",
    "\n",
    "In the next few steps, we will explore:\n",
    "\n",
    "- What schemas are\n",
    "- How to define a schema for an AnnData object\n",
    "- How to enforce schema adherence when registering an artifact\n",
    "\n",
    "By structuring our datasets effectively, we create a standardized and interoperable data pipeline, making analysis more efficient and scalable"
   ]
  },
  {
   "cell_type": "markdown",
   "id": "96c1267d-156d-4b31-acba-194dca10f19b",
   "metadata": {},
   "source": [
    "Let's have a look at our annData object now"
   ]
  },
  {
   "cell_type": "code",
   "execution_count": 26,
   "id": "8687b0d1-8c41-4127-a7ad-45a92c4b0441",
   "metadata": {},
   "outputs": [
    {
     "data": {
      "text/html": [
       "<div>\n",
       "<style scoped>\n",
       "    .dataframe tbody tr th:only-of-type {\n",
       "        vertical-align: middle;\n",
       "    }\n",
       "\n",
       "    .dataframe tbody tr th {\n",
       "        vertical-align: top;\n",
       "    }\n",
       "\n",
       "    .dataframe thead th {\n",
       "        text-align: right;\n",
       "    }\n",
       "</style>\n",
       "<table border=\"1\" class=\"dataframe\">\n",
       "  <thead>\n",
       "    <tr style=\"text-align: right;\">\n",
       "      <th></th>\n",
       "      <th>mt</th>\n",
       "      <th>ribo</th>\n",
       "      <th>hb</th>\n",
       "      <th>n_cells_by_counts</th>\n",
       "      <th>mean_counts</th>\n",
       "      <th>log1p_mean_counts</th>\n",
       "      <th>pct_dropout_by_counts</th>\n",
       "      <th>total_counts</th>\n",
       "      <th>log1p_total_counts</th>\n",
       "      <th>n_cells</th>\n",
       "      <th>highly_variable</th>\n",
       "      <th>means</th>\n",
       "      <th>dispersions</th>\n",
       "      <th>dispersions_norm</th>\n",
       "    </tr>\n",
       "  </thead>\n",
       "  <tbody>\n",
       "    <tr>\n",
       "      <th>SPP1</th>\n",
       "      <td>False</td>\n",
       "      <td>False</td>\n",
       "      <td>False</td>\n",
       "      <td>2923</td>\n",
       "      <td>0.430912</td>\n",
       "      <td>0.358312</td>\n",
       "      <td>97.511938</td>\n",
       "      <td>50624</td>\n",
       "      <td>10.832201</td>\n",
       "      <td>2059</td>\n",
       "      <td>True</td>\n",
       "      <td>1.560116</td>\n",
       "      <td>6.012944</td>\n",
       "      <td>4.681798</td>\n",
       "    </tr>\n",
       "    <tr>\n",
       "      <th>HLA-DPB1</th>\n",
       "      <td>False</td>\n",
       "      <td>False</td>\n",
       "      <td>False</td>\n",
       "      <td>27577</td>\n",
       "      <td>0.638656</td>\n",
       "      <td>0.493877</td>\n",
       "      <td>76.526417</td>\n",
       "      <td>75030</td>\n",
       "      <td>11.225657</td>\n",
       "      <td>13625</td>\n",
       "      <td>True</td>\n",
       "      <td>1.910738</td>\n",
       "      <td>3.399993</td>\n",
       "      <td>1.125622</td>\n",
       "    </tr>\n",
       "    <tr>\n",
       "      <th>MT-RNR2</th>\n",
       "      <td>True</td>\n",
       "      <td>False</td>\n",
       "      <td>False</td>\n",
       "      <td>116483</td>\n",
       "      <td>34.280113</td>\n",
       "      <td>3.563319</td>\n",
       "      <td>0.849499</td>\n",
       "      <td>4027262</td>\n",
       "      <td>15.208598</td>\n",
       "      <td>41967</td>\n",
       "      <td>True</td>\n",
       "      <td>5.113736</td>\n",
       "      <td>4.774937</td>\n",
       "      <td>1.000000</td>\n",
       "    </tr>\n",
       "    <tr>\n",
       "      <th>IGLC2</th>\n",
       "      <td>False</td>\n",
       "      <td>False</td>\n",
       "      <td>False</td>\n",
       "      <td>27936</td>\n",
       "      <td>7.435526</td>\n",
       "      <td>2.132452</td>\n",
       "      <td>76.220836</td>\n",
       "      <td>873533</td>\n",
       "      <td>13.680302</td>\n",
       "      <td>12323</td>\n",
       "      <td>True</td>\n",
       "      <td>4.065498</td>\n",
       "      <td>8.115295</td>\n",
       "      <td>1.832363</td>\n",
       "    </tr>\n",
       "    <tr>\n",
       "      <th>IGLC3</th>\n",
       "      <td>False</td>\n",
       "      <td>False</td>\n",
       "      <td>False</td>\n",
       "      <td>12000</td>\n",
       "      <td>2.112044</td>\n",
       "      <td>1.135280</td>\n",
       "      <td>89.785582</td>\n",
       "      <td>248125</td>\n",
       "      <td>12.421692</td>\n",
       "      <td>5273</td>\n",
       "      <td>True</td>\n",
       "      <td>2.788179</td>\n",
       "      <td>7.707479</td>\n",
       "      <td>4.329275</td>\n",
       "    </tr>\n",
       "  </tbody>\n",
       "</table>\n",
       "</div>"
      ],
      "text/plain": [
       "             mt   ribo     hb  n_cells_by_counts  mean_counts  \\\n",
       "SPP1      False  False  False               2923     0.430912   \n",
       "HLA-DPB1  False  False  False              27577     0.638656   \n",
       "MT-RNR2    True  False  False             116483    34.280113   \n",
       "IGLC2     False  False  False              27936     7.435526   \n",
       "IGLC3     False  False  False              12000     2.112044   \n",
       "\n",
       "          log1p_mean_counts  pct_dropout_by_counts  total_counts  \\\n",
       "SPP1               0.358312              97.511938         50624   \n",
       "HLA-DPB1           0.493877              76.526417         75030   \n",
       "MT-RNR2            3.563319               0.849499       4027262   \n",
       "IGLC2              2.132452              76.220836        873533   \n",
       "IGLC3              1.135280              89.785582        248125   \n",
       "\n",
       "          log1p_total_counts  n_cells  highly_variable     means  dispersions  \\\n",
       "SPP1               10.832201     2059             True  1.560116     6.012944   \n",
       "HLA-DPB1           11.225657    13625             True  1.910738     3.399993   \n",
       "MT-RNR2            15.208598    41967             True  5.113736     4.774937   \n",
       "IGLC2              13.680302    12323             True  4.065498     8.115295   \n",
       "IGLC3              12.421692     5273             True  2.788179     7.707479   \n",
       "\n",
       "          dispersions_norm  \n",
       "SPP1              4.681798  \n",
       "HLA-DPB1          1.125622  \n",
       "MT-RNR2           1.000000  \n",
       "IGLC2             1.832363  \n",
       "IGLC3             4.329275  "
      ]
     },
     "execution_count": 26,
     "metadata": {},
     "output_type": "execute_result"
    }
   ],
   "source": [
    "adata.var.head()"
   ]
  },
  {
   "cell_type": "code",
   "execution_count": 27,
   "id": "541c77bf-951e-4960-8f8f-2533e31a86eb",
   "metadata": {},
   "outputs": [
    {
     "data": {
      "text/html": [
       "<div>\n",
       "<style scoped>\n",
       "    .dataframe tbody tr th:only-of-type {\n",
       "        vertical-align: middle;\n",
       "    }\n",
       "\n",
       "    .dataframe tbody tr th {\n",
       "        vertical-align: top;\n",
       "    }\n",
       "\n",
       "    .dataframe thead th {\n",
       "        text-align: right;\n",
       "    }\n",
       "</style>\n",
       "<table border=\"1\" class=\"dataframe\">\n",
       "  <thead>\n",
       "    <tr style=\"text-align: right;\">\n",
       "      <th></th>\n",
       "      <th>patient</th>\n",
       "      <th>site</th>\n",
       "      <th>n_genes_by_counts</th>\n",
       "      <th>log1p_n_genes_by_counts</th>\n",
       "      <th>total_counts</th>\n",
       "      <th>log1p_total_counts</th>\n",
       "      <th>pct_counts_in_top_50_genes</th>\n",
       "      <th>pct_counts_in_top_100_genes</th>\n",
       "      <th>pct_counts_in_top_200_genes</th>\n",
       "      <th>pct_counts_in_top_500_genes</th>\n",
       "      <th>total_counts_mt</th>\n",
       "      <th>log1p_total_counts_mt</th>\n",
       "      <th>pct_counts_mt</th>\n",
       "      <th>total_counts_ribo</th>\n",
       "      <th>log1p_total_counts_ribo</th>\n",
       "      <th>pct_counts_ribo</th>\n",
       "      <th>total_counts_hb</th>\n",
       "      <th>log1p_total_counts_hb</th>\n",
       "      <th>pct_counts_hb</th>\n",
       "      <th>n_genes</th>\n",
       "    </tr>\n",
       "  </thead>\n",
       "  <tbody>\n",
       "    <tr>\n",
       "      <th>TTGCTGAAGTGC-0</th>\n",
       "      <td>P1</td>\n",
       "      <td>primary</td>\n",
       "      <td>906</td>\n",
       "      <td>6.810142</td>\n",
       "      <td>6283</td>\n",
       "      <td>8.745762</td>\n",
       "      <td>80.725768</td>\n",
       "      <td>83.893045</td>\n",
       "      <td>87.712876</td>\n",
       "      <td>93.538119</td>\n",
       "      <td>239</td>\n",
       "      <td>5.480639</td>\n",
       "      <td>3.803915</td>\n",
       "      <td>152</td>\n",
       "      <td>5.030438</td>\n",
       "      <td>2.419226</td>\n",
       "      <td>0</td>\n",
       "      <td>0.000000</td>\n",
       "      <td>0.000000</td>\n",
       "      <td>906</td>\n",
       "    </tr>\n",
       "    <tr>\n",
       "      <th>CGACAGGTGAGG-0</th>\n",
       "      <td>P1</td>\n",
       "      <td>primary</td>\n",
       "      <td>1850</td>\n",
       "      <td>7.523481</td>\n",
       "      <td>7304</td>\n",
       "      <td>8.896314</td>\n",
       "      <td>50.177985</td>\n",
       "      <td>58.064074</td>\n",
       "      <td>66.511501</td>\n",
       "      <td>78.628149</td>\n",
       "      <td>950</td>\n",
       "      <td>6.857514</td>\n",
       "      <td>13.006572</td>\n",
       "      <td>826</td>\n",
       "      <td>6.717805</td>\n",
       "      <td>11.308872</td>\n",
       "      <td>0</td>\n",
       "      <td>0.000000</td>\n",
       "      <td>0.000000</td>\n",
       "      <td>1850</td>\n",
       "    </tr>\n",
       "    <tr>\n",
       "      <th>ATCAAGCCTATT-0</th>\n",
       "      <td>P1</td>\n",
       "      <td>primary</td>\n",
       "      <td>1607</td>\n",
       "      <td>7.382746</td>\n",
       "      <td>6982</td>\n",
       "      <td>8.851234</td>\n",
       "      <td>61.400745</td>\n",
       "      <td>66.327700</td>\n",
       "      <td>72.543684</td>\n",
       "      <td>82.769980</td>\n",
       "      <td>295</td>\n",
       "      <td>5.690359</td>\n",
       "      <td>4.225150</td>\n",
       "      <td>379</td>\n",
       "      <td>5.940171</td>\n",
       "      <td>5.428244</td>\n",
       "      <td>0</td>\n",
       "      <td>0.000000</td>\n",
       "      <td>0.000000</td>\n",
       "      <td>1607</td>\n",
       "    </tr>\n",
       "    <tr>\n",
       "      <th>ATGCCTACATGG-0</th>\n",
       "      <td>P1</td>\n",
       "      <td>primary</td>\n",
       "      <td>779</td>\n",
       "      <td>6.659294</td>\n",
       "      <td>5448</td>\n",
       "      <td>8.603187</td>\n",
       "      <td>81.424376</td>\n",
       "      <td>84.691630</td>\n",
       "      <td>88.656388</td>\n",
       "      <td>94.878855</td>\n",
       "      <td>412</td>\n",
       "      <td>6.023448</td>\n",
       "      <td>7.562408</td>\n",
       "      <td>192</td>\n",
       "      <td>5.262690</td>\n",
       "      <td>3.524229</td>\n",
       "      <td>0</td>\n",
       "      <td>0.000000</td>\n",
       "      <td>0.000000</td>\n",
       "      <td>779</td>\n",
       "    </tr>\n",
       "    <tr>\n",
       "      <th>CTTATATGCTTA-0</th>\n",
       "      <td>P1</td>\n",
       "      <td>primary</td>\n",
       "      <td>1936</td>\n",
       "      <td>7.568896</td>\n",
       "      <td>6550</td>\n",
       "      <td>8.787373</td>\n",
       "      <td>38.259542</td>\n",
       "      <td>47.022901</td>\n",
       "      <td>57.038168</td>\n",
       "      <td>72.992366</td>\n",
       "      <td>506</td>\n",
       "      <td>6.228511</td>\n",
       "      <td>7.725191</td>\n",
       "      <td>394</td>\n",
       "      <td>5.978886</td>\n",
       "      <td>6.015267</td>\n",
       "      <td>4</td>\n",
       "      <td>1.609438</td>\n",
       "      <td>0.061069</td>\n",
       "      <td>1936</td>\n",
       "    </tr>\n",
       "  </tbody>\n",
       "</table>\n",
       "</div>"
      ],
      "text/plain": [
       "               patient     site  n_genes_by_counts  log1p_n_genes_by_counts  \\\n",
       "TTGCTGAAGTGC-0      P1  primary                906                 6.810142   \n",
       "CGACAGGTGAGG-0      P1  primary               1850                 7.523481   \n",
       "ATCAAGCCTATT-0      P1  primary               1607                 7.382746   \n",
       "ATGCCTACATGG-0      P1  primary                779                 6.659294   \n",
       "CTTATATGCTTA-0      P1  primary               1936                 7.568896   \n",
       "\n",
       "                total_counts  log1p_total_counts  pct_counts_in_top_50_genes  \\\n",
       "TTGCTGAAGTGC-0          6283            8.745762                   80.725768   \n",
       "CGACAGGTGAGG-0          7304            8.896314                   50.177985   \n",
       "ATCAAGCCTATT-0          6982            8.851234                   61.400745   \n",
       "ATGCCTACATGG-0          5448            8.603187                   81.424376   \n",
       "CTTATATGCTTA-0          6550            8.787373                   38.259542   \n",
       "\n",
       "                pct_counts_in_top_100_genes  pct_counts_in_top_200_genes  \\\n",
       "TTGCTGAAGTGC-0                    83.893045                    87.712876   \n",
       "CGACAGGTGAGG-0                    58.064074                    66.511501   \n",
       "ATCAAGCCTATT-0                    66.327700                    72.543684   \n",
       "ATGCCTACATGG-0                    84.691630                    88.656388   \n",
       "CTTATATGCTTA-0                    47.022901                    57.038168   \n",
       "\n",
       "                pct_counts_in_top_500_genes  total_counts_mt  \\\n",
       "TTGCTGAAGTGC-0                    93.538119              239   \n",
       "CGACAGGTGAGG-0                    78.628149              950   \n",
       "ATCAAGCCTATT-0                    82.769980              295   \n",
       "ATGCCTACATGG-0                    94.878855              412   \n",
       "CTTATATGCTTA-0                    72.992366              506   \n",
       "\n",
       "                log1p_total_counts_mt  pct_counts_mt  total_counts_ribo  \\\n",
       "TTGCTGAAGTGC-0               5.480639       3.803915                152   \n",
       "CGACAGGTGAGG-0               6.857514      13.006572                826   \n",
       "ATCAAGCCTATT-0               5.690359       4.225150                379   \n",
       "ATGCCTACATGG-0               6.023448       7.562408                192   \n",
       "CTTATATGCTTA-0               6.228511       7.725191                394   \n",
       "\n",
       "                log1p_total_counts_ribo  pct_counts_ribo  total_counts_hb  \\\n",
       "TTGCTGAAGTGC-0                 5.030438         2.419226                0   \n",
       "CGACAGGTGAGG-0                 6.717805        11.308872                0   \n",
       "ATCAAGCCTATT-0                 5.940171         5.428244                0   \n",
       "ATGCCTACATGG-0                 5.262690         3.524229                0   \n",
       "CTTATATGCTTA-0                 5.978886         6.015267                4   \n",
       "\n",
       "                log1p_total_counts_hb  pct_counts_hb  n_genes  \n",
       "TTGCTGAAGTGC-0               0.000000       0.000000      906  \n",
       "CGACAGGTGAGG-0               0.000000       0.000000     1850  \n",
       "ATCAAGCCTATT-0               0.000000       0.000000     1607  \n",
       "ATGCCTACATGG-0               0.000000       0.000000      779  \n",
       "CTTATATGCTTA-0               1.609438       0.061069     1936  "
      ]
     },
     "execution_count": 27,
     "metadata": {},
     "output_type": "execute_result"
    }
   ],
   "source": [
    "adata.obs.head()"
   ]
  },
  {
   "cell_type": "markdown",
   "id": "376647e9-3ced-4349-89ef-885903a14429",
   "metadata": {},
   "source": [
    "#### We can now create a schema for our annData objects and use it validate.\n",
    "---\n",
    "Here we will define a few labels and features that we see in the obs/var columns of the annData Object."
   ]
  },
  {
   "cell_type": "markdown",
   "id": "9e574405-1868-4515-892e-f03b341b02dd",
   "metadata": {},
   "source": [
    "#### A. Define Lables"
   ]
  },
  {
   "cell_type": "code",
   "execution_count": 14,
   "id": "a9134c1c-3d4e-4ea8-9146-f2372b1d41e6",
   "metadata": {},
   "outputs": [
    {
     "name": "stdout",
     "output_type": "stream",
     "text": [
      "\u001b[92m→\u001b[0m returning existing ULabel record with same name: 'Patient'\n",
      "\u001b[92m→\u001b[0m returning existing ULabel record with same name: 'Site'\n"
     ]
    }
   ],
   "source": [
    "## Defining the ULabels\n",
    "## We have the following we saw a categorical and with limited set of values\n",
    "patient_ulabel = ln.ULabel(name=\"Patient\", is_type=True).save()\n",
    "site_ulabel = ln.ULabel(name=\"Site\", is_type=True).save()"
   ]
  },
  {
   "cell_type": "code",
   "execution_count": 29,
   "id": "df6e5d0d-102e-4af2-8052-740a6eef437a",
   "metadata": {},
   "outputs": [
    {
     "data": {
      "text/html": [
       "<div>\n",
       "<style scoped>\n",
       "    .dataframe tbody tr th:only-of-type {\n",
       "        vertical-align: middle;\n",
       "    }\n",
       "\n",
       "    .dataframe tbody tr th {\n",
       "        vertical-align: top;\n",
       "    }\n",
       "\n",
       "    .dataframe thead th {\n",
       "        text-align: right;\n",
       "    }\n",
       "</style>\n",
       "<table border=\"1\" class=\"dataframe\">\n",
       "  <thead>\n",
       "    <tr style=\"text-align: right;\">\n",
       "      <th></th>\n",
       "      <th>uid</th>\n",
       "      <th>name</th>\n",
       "      <th>is_type</th>\n",
       "      <th>description</th>\n",
       "      <th>reference</th>\n",
       "      <th>reference_type</th>\n",
       "      <th>space_id</th>\n",
       "      <th>type_id</th>\n",
       "      <th>run_id</th>\n",
       "      <th>created_at</th>\n",
       "      <th>created_by_id</th>\n",
       "      <th>_aux</th>\n",
       "      <th>_branch_code</th>\n",
       "    </tr>\n",
       "    <tr>\n",
       "      <th>id</th>\n",
       "      <th></th>\n",
       "      <th></th>\n",
       "      <th></th>\n",
       "      <th></th>\n",
       "      <th></th>\n",
       "      <th></th>\n",
       "      <th></th>\n",
       "      <th></th>\n",
       "      <th></th>\n",
       "      <th></th>\n",
       "      <th></th>\n",
       "      <th></th>\n",
       "      <th></th>\n",
       "    </tr>\n",
       "  </thead>\n",
       "  <tbody>\n",
       "    <tr>\n",
       "      <th>290</th>\n",
       "      <td>zpbXAeGF</td>\n",
       "      <td>Site</td>\n",
       "      <td>True</td>\n",
       "      <td>None</td>\n",
       "      <td>None</td>\n",
       "      <td>None</td>\n",
       "      <td>1</td>\n",
       "      <td>NaN</td>\n",
       "      <td>538.0</td>\n",
       "      <td>2025-03-20 22:40:04.055998+00:00</td>\n",
       "      <td>35</td>\n",
       "      <td>None</td>\n",
       "      <td>1</td>\n",
       "    </tr>\n",
       "    <tr>\n",
       "      <th>289</th>\n",
       "      <td>JX2kXxtv</td>\n",
       "      <td>Patient</td>\n",
       "      <td>True</td>\n",
       "      <td>None</td>\n",
       "      <td>None</td>\n",
       "      <td>None</td>\n",
       "      <td>1</td>\n",
       "      <td>NaN</td>\n",
       "      <td>538.0</td>\n",
       "      <td>2025-03-20 22:40:03.372147+00:00</td>\n",
       "      <td>35</td>\n",
       "      <td>None</td>\n",
       "      <td>1</td>\n",
       "    </tr>\n",
       "    <tr>\n",
       "      <th>288</th>\n",
       "      <td>uG1YjmBo</td>\n",
       "      <td>Filtered</td>\n",
       "      <td>False</td>\n",
       "      <td>None</td>\n",
       "      <td>None</td>\n",
       "      <td>None</td>\n",
       "      <td>1</td>\n",
       "      <td>286.0</td>\n",
       "      <td>536.0</td>\n",
       "      <td>2025-03-20 22:17:47.285336+00:00</td>\n",
       "      <td>35</td>\n",
       "      <td>None</td>\n",
       "      <td>1</td>\n",
       "    </tr>\n",
       "    <tr>\n",
       "      <th>287</th>\n",
       "      <td>v2mUqrXx</td>\n",
       "      <td>Raw</td>\n",
       "      <td>False</td>\n",
       "      <td>None</td>\n",
       "      <td>None</td>\n",
       "      <td>None</td>\n",
       "      <td>1</td>\n",
       "      <td>286.0</td>\n",
       "      <td>536.0</td>\n",
       "      <td>2025-03-20 22:17:46.992109+00:00</td>\n",
       "      <td>35</td>\n",
       "      <td>None</td>\n",
       "      <td>1</td>\n",
       "    </tr>\n",
       "    <tr>\n",
       "      <th>286</th>\n",
       "      <td>90aLkbDj</td>\n",
       "      <td>Processing Stage</td>\n",
       "      <td>True</td>\n",
       "      <td>None</td>\n",
       "      <td>None</td>\n",
       "      <td>None</td>\n",
       "      <td>1</td>\n",
       "      <td>NaN</td>\n",
       "      <td>536.0</td>\n",
       "      <td>2025-03-20 22:17:41.379232+00:00</td>\n",
       "      <td>35</td>\n",
       "      <td>None</td>\n",
       "      <td>1</td>\n",
       "    </tr>\n",
       "  </tbody>\n",
       "</table>\n",
       "</div>"
      ],
      "text/plain": [
       "          uid              name  is_type description reference reference_type  \\\n",
       "id                                                                              \n",
       "290  zpbXAeGF              Site     True        None      None           None   \n",
       "289  JX2kXxtv           Patient     True        None      None           None   \n",
       "288  uG1YjmBo          Filtered    False        None      None           None   \n",
       "287  v2mUqrXx               Raw    False        None      None           None   \n",
       "286  90aLkbDj  Processing Stage     True        None      None           None   \n",
       "\n",
       "     space_id  type_id  run_id                       created_at  \\\n",
       "id                                                                \n",
       "290         1      NaN   538.0 2025-03-20 22:40:04.055998+00:00   \n",
       "289         1      NaN   538.0 2025-03-20 22:40:03.372147+00:00   \n",
       "288         1    286.0   536.0 2025-03-20 22:17:47.285336+00:00   \n",
       "287         1    286.0   536.0 2025-03-20 22:17:46.992109+00:00   \n",
       "286         1      NaN   536.0 2025-03-20 22:17:41.379232+00:00   \n",
       "\n",
       "     created_by_id  _aux  _branch_code  \n",
       "id                                      \n",
       "290             35  None             1  \n",
       "289             35  None             1  \n",
       "288             35  None             1  \n",
       "287             35  None             1  \n",
       "286             35  None             1  "
      ]
     },
     "execution_count": 29,
     "metadata": {},
     "output_type": "execute_result"
    }
   ],
   "source": [
    "ln.ULabel.df().head()"
   ]
  },
  {
   "cell_type": "markdown",
   "id": "b5342ffb-bbd7-4e24-867c-90acd568a8e3",
   "metadata": {},
   "source": [
    "#### B. Define Features\n",
    "---\n",
    "Here, we will define the Features using the ULabels we have defined eariler.\n",
    "\n",
    "`patient`, `site` and other calculated values."
   ]
  },
  {
   "cell_type": "code",
   "execution_count": 15,
   "id": "af1b7087-2f7d-4ac9-a70a-8ae088f762c3",
   "metadata": {},
   "outputs": [
    {
     "name": "stdout",
     "output_type": "stream",
     "text": [
      "\u001b[92m→\u001b[0m returning existing Feature record with same name: 'patient'\n",
      "\u001b[92m→\u001b[0m returning existing Feature record with same name: 'Site'\n",
      "\u001b[92m→\u001b[0m returning existing Feature record with same name: 'n_genes_by_counts'\n",
      "\u001b[92m→\u001b[0m returning existing Feature record with same name: 'log1p_n_genes_by_counts'\n"
     ]
    }
   ],
   "source": [
    "# Note that we have defined cat features with the categorical ULabel[Patient]\n",
    "# These are features for the obs dataframe\n",
    "f_1 = ln.Feature(name=\"patient\", dtype=\"cat[ULabel[Patient]]\").save()\n",
    "f_2 = ln.Feature(name=\"Site\", dtype=\"cat[ULabel[Site]]\").save()\n",
    "f_3 = ln.Feature(name=\"n_genes_by_counts\", dtype=\"int\").save()\n",
    "f_4 = ln.Feature(name=\"log1p_n_genes_by_counts\", dtype=\"float\").save()"
   ]
  },
  {
   "cell_type": "code",
   "execution_count": 16,
   "id": "6facd040-04bb-437a-8a3f-b67f010ba059",
   "metadata": {},
   "outputs": [
    {
     "name": "stdout",
     "output_type": "stream",
     "text": [
      "\u001b[92m→\u001b[0m returning existing Feature record with same name: 'mt'\n",
      "\u001b[92m→\u001b[0m returning existing Feature record with same name: 'ribo'\n",
      "\u001b[92m→\u001b[0m returning existing Feature record with same name: 'hb'\n",
      "\u001b[92m→\u001b[0m returning existing Feature record with same name: 'n_cells_by_counts'\n",
      "\u001b[92m→\u001b[0m returning existing Feature record with same name: 'mean_counts'\n"
     ]
    }
   ],
   "source": [
    "# These are features for the var Dataframe\n",
    "f_5 = ln.Feature(name=\"mt\", dtype=\"bool\").save()\n",
    "f_6 = ln.Feature(name=\"ribo\", dtype=\"bool\").save()\n",
    "f_7 = ln.Feature(name=\"hb\", dtype=\"bool\").save()\n",
    "f_8 = ln.Feature(name=\"n_cells_by_counts\", dtype=\"int\").save()\n",
    "f_9 = ln.Feature(name=\"mean_counts\", dtype=\"float\").save()"
   ]
  },
  {
   "cell_type": "markdown",
   "id": "d71a1500-86ba-4902-b0ad-b0b3929e52ef",
   "metadata": {},
   "source": [
    "We can now see the registered Features in lamindb's registry."
   ]
  },
  {
   "cell_type": "code",
   "execution_count": 43,
   "id": "106a1f42-7bba-425b-9a07-d231c70313d3",
   "metadata": {},
   "outputs": [
    {
     "data": {
      "text/html": [
       "<div>\n",
       "<style scoped>\n",
       "    .dataframe tbody tr th:only-of-type {\n",
       "        vertical-align: middle;\n",
       "    }\n",
       "\n",
       "    .dataframe tbody tr th {\n",
       "        vertical-align: top;\n",
       "    }\n",
       "\n",
       "    .dataframe thead th {\n",
       "        text-align: right;\n",
       "    }\n",
       "</style>\n",
       "<table border=\"1\" class=\"dataframe\">\n",
       "  <thead>\n",
       "    <tr style=\"text-align: right;\">\n",
       "      <th></th>\n",
       "      <th>uid</th>\n",
       "      <th>name</th>\n",
       "      <th>dtype</th>\n",
       "      <th>is_type</th>\n",
       "      <th>unit</th>\n",
       "      <th>description</th>\n",
       "      <th>array_rank</th>\n",
       "      <th>array_size</th>\n",
       "      <th>array_shape</th>\n",
       "      <th>proxy_dtype</th>\n",
       "      <th>synonyms</th>\n",
       "      <th>_expect_many</th>\n",
       "      <th>_curation</th>\n",
       "      <th>space_id</th>\n",
       "      <th>type_id</th>\n",
       "      <th>run_id</th>\n",
       "      <th>created_at</th>\n",
       "      <th>created_by_id</th>\n",
       "      <th>_aux</th>\n",
       "      <th>_branch_code</th>\n",
       "    </tr>\n",
       "    <tr>\n",
       "      <th>id</th>\n",
       "      <th></th>\n",
       "      <th></th>\n",
       "      <th></th>\n",
       "      <th></th>\n",
       "      <th></th>\n",
       "      <th></th>\n",
       "      <th></th>\n",
       "      <th></th>\n",
       "      <th></th>\n",
       "      <th></th>\n",
       "      <th></th>\n",
       "      <th></th>\n",
       "      <th></th>\n",
       "      <th></th>\n",
       "      <th></th>\n",
       "      <th></th>\n",
       "      <th></th>\n",
       "      <th></th>\n",
       "      <th></th>\n",
       "      <th></th>\n",
       "    </tr>\n",
       "  </thead>\n",
       "  <tbody>\n",
       "    <tr>\n",
       "      <th>490</th>\n",
       "      <td>irnHIUReZzjj</td>\n",
       "      <td>Site</td>\n",
       "      <td>cat[ULabel[Site]]</td>\n",
       "      <td>None</td>\n",
       "      <td>None</td>\n",
       "      <td>None</td>\n",
       "      <td>0</td>\n",
       "      <td>0</td>\n",
       "      <td>None</td>\n",
       "      <td>None</td>\n",
       "      <td>None</td>\n",
       "      <td>True</td>\n",
       "      <td>None</td>\n",
       "      <td>1</td>\n",
       "      <td>None</td>\n",
       "      <td>540.0</td>\n",
       "      <td>2025-03-23 12:05:29.056554+00:00</td>\n",
       "      <td>35</td>\n",
       "      <td>{'af': {'0': None, '1': True, '2': False}}</td>\n",
       "      <td>1</td>\n",
       "    </tr>\n",
       "    <tr>\n",
       "      <th>489</th>\n",
       "      <td>2Mj0otgnhuuP</td>\n",
       "      <td>mean_counts</td>\n",
       "      <td>float</td>\n",
       "      <td>None</td>\n",
       "      <td>None</td>\n",
       "      <td>None</td>\n",
       "      <td>0</td>\n",
       "      <td>0</td>\n",
       "      <td>None</td>\n",
       "      <td>None</td>\n",
       "      <td>None</td>\n",
       "      <td>True</td>\n",
       "      <td>None</td>\n",
       "      <td>1</td>\n",
       "      <td>None</td>\n",
       "      <td>538.0</td>\n",
       "      <td>2025-03-20 22:45:02.349383+00:00</td>\n",
       "      <td>35</td>\n",
       "      <td>{'af': {'0': None, '1': True, '2': False}}</td>\n",
       "      <td>1</td>\n",
       "    </tr>\n",
       "    <tr>\n",
       "      <th>488</th>\n",
       "      <td>8KVxTPBLoGcS</td>\n",
       "      <td>n_cells_by_counts</td>\n",
       "      <td>int</td>\n",
       "      <td>None</td>\n",
       "      <td>None</td>\n",
       "      <td>None</td>\n",
       "      <td>0</td>\n",
       "      <td>0</td>\n",
       "      <td>None</td>\n",
       "      <td>None</td>\n",
       "      <td>None</td>\n",
       "      <td>True</td>\n",
       "      <td>None</td>\n",
       "      <td>1</td>\n",
       "      <td>None</td>\n",
       "      <td>538.0</td>\n",
       "      <td>2025-03-20 22:45:01.677540+00:00</td>\n",
       "      <td>35</td>\n",
       "      <td>{'af': {'0': None, '1': True, '2': False}}</td>\n",
       "      <td>1</td>\n",
       "    </tr>\n",
       "    <tr>\n",
       "      <th>487</th>\n",
       "      <td>OVzm1R3PfR9W</td>\n",
       "      <td>hb</td>\n",
       "      <td>bool</td>\n",
       "      <td>None</td>\n",
       "      <td>None</td>\n",
       "      <td>None</td>\n",
       "      <td>0</td>\n",
       "      <td>0</td>\n",
       "      <td>None</td>\n",
       "      <td>None</td>\n",
       "      <td>None</td>\n",
       "      <td>True</td>\n",
       "      <td>None</td>\n",
       "      <td>1</td>\n",
       "      <td>None</td>\n",
       "      <td>538.0</td>\n",
       "      <td>2025-03-20 22:45:01.026810+00:00</td>\n",
       "      <td>35</td>\n",
       "      <td>{'af': {'0': None, '1': True, '2': False}}</td>\n",
       "      <td>1</td>\n",
       "    </tr>\n",
       "    <tr>\n",
       "      <th>486</th>\n",
       "      <td>ZjUHGQhleNTu</td>\n",
       "      <td>ribo</td>\n",
       "      <td>bool</td>\n",
       "      <td>None</td>\n",
       "      <td>None</td>\n",
       "      <td>None</td>\n",
       "      <td>0</td>\n",
       "      <td>0</td>\n",
       "      <td>None</td>\n",
       "      <td>None</td>\n",
       "      <td>None</td>\n",
       "      <td>True</td>\n",
       "      <td>None</td>\n",
       "      <td>1</td>\n",
       "      <td>None</td>\n",
       "      <td>538.0</td>\n",
       "      <td>2025-03-20 22:45:00.288413+00:00</td>\n",
       "      <td>35</td>\n",
       "      <td>{'af': {'0': None, '1': True, '2': False}}</td>\n",
       "      <td>1</td>\n",
       "    </tr>\n",
       "  </tbody>\n",
       "</table>\n",
       "</div>"
      ],
      "text/plain": [
       "              uid               name              dtype is_type  unit  \\\n",
       "id                                                                      \n",
       "490  irnHIUReZzjj               Site  cat[ULabel[Site]]    None  None   \n",
       "489  2Mj0otgnhuuP        mean_counts              float    None  None   \n",
       "488  8KVxTPBLoGcS  n_cells_by_counts                int    None  None   \n",
       "487  OVzm1R3PfR9W                 hb               bool    None  None   \n",
       "486  ZjUHGQhleNTu               ribo               bool    None  None   \n",
       "\n",
       "    description  array_rank  array_size array_shape proxy_dtype synonyms  \\\n",
       "id                                                                         \n",
       "490        None           0           0        None        None     None   \n",
       "489        None           0           0        None        None     None   \n",
       "488        None           0           0        None        None     None   \n",
       "487        None           0           0        None        None     None   \n",
       "486        None           0           0        None        None     None   \n",
       "\n",
       "     _expect_many _curation  space_id type_id  run_id  \\\n",
       "id                                                      \n",
       "490          True      None         1    None   540.0   \n",
       "489          True      None         1    None   538.0   \n",
       "488          True      None         1    None   538.0   \n",
       "487          True      None         1    None   538.0   \n",
       "486          True      None         1    None   538.0   \n",
       "\n",
       "                          created_at  created_by_id  \\\n",
       "id                                                    \n",
       "490 2025-03-23 12:05:29.056554+00:00             35   \n",
       "489 2025-03-20 22:45:02.349383+00:00             35   \n",
       "488 2025-03-20 22:45:01.677540+00:00             35   \n",
       "487 2025-03-20 22:45:01.026810+00:00             35   \n",
       "486 2025-03-20 22:45:00.288413+00:00             35   \n",
       "\n",
       "                                           _aux  _branch_code  \n",
       "id                                                             \n",
       "490  {'af': {'0': None, '1': True, '2': False}}             1  \n",
       "489  {'af': {'0': None, '1': True, '2': False}}             1  \n",
       "488  {'af': {'0': None, '1': True, '2': False}}             1  \n",
       "487  {'af': {'0': None, '1': True, '2': False}}             1  \n",
       "486  {'af': {'0': None, '1': True, '2': False}}             1  "
      ]
     },
     "execution_count": 43,
     "metadata": {},
     "output_type": "execute_result"
    }
   ],
   "source": [
    "ln.Feature.df().head()"
   ]
  },
  {
   "cell_type": "markdown",
   "id": "8a061153-571b-4705-97d4-80edc8068841",
   "metadata": {},
   "source": [
    "Now we define the **schema** for the `.obs` and `.var` dataframes for our anndata:  \n",
    "\n",
    "<img src=\"https://raw.githubusercontent.com/scverse/anndata/main/docs/_static/img/anndata_schema.svg\" alt=\"AnnData Schema\" width=\"600\">\n"
   ]
  },
  {
   "cell_type": "markdown",
   "id": "25f8afcd-f2a9-4f75-9e67-d6e945d7935d",
   "metadata": {},
   "source": [
    "#### C. Define Schema for Obs DataFrame"
   ]
  },
  {
   "cell_type": "code",
   "execution_count": 17,
   "id": "6fb46e42-e54c-47d6-98c7-cf69f2872ff7",
   "metadata": {},
   "outputs": [
    {
     "name": "stdout",
     "output_type": "stream",
     "text": [
      "\u001b[92m→\u001b[0m returning existing schema with same hash: Schema(uid='w0RGEtgVihI1cvVF5xLR', name='Obs Dataframe Schema after preprocessing', n=3, itype='Feature', is_type=False, otype='DataFrame', hash='omn1FV03K6dG4Sf72SB-Cg', minimal_set=True, ordered_set=False, maximal_set=False, space_id=1, created_by_id=35, run_id=538, created_at=2025-03-20 22:51:42 UTC)\n"
     ]
    }
   ],
   "source": [
    "# Obs Dataframe Schema\n",
    "obs_schema = ln.Schema(\n",
    "    name=\"Obs Dataframe Schema after preprocessing\",\n",
    "    otype=\"DataFrame\",\n",
    "    features=[\n",
    "        f_1,\n",
    "        #f_2,\n",
    "        f_3,\n",
    "        f_4\n",
    "    ],\n",
    "    coerce_dtype=True\n",
    ").save()"
   ]
  },
  {
   "cell_type": "markdown",
   "id": "11ed2218-ef41-470f-b976-d42c47267ad8",
   "metadata": {},
   "source": [
    "#### D. Define Schema for Var DataFrame"
   ]
  },
  {
   "cell_type": "code",
   "execution_count": 18,
   "id": "d92ec46d-2cbd-4f17-9e61-9c5714f43e5d",
   "metadata": {},
   "outputs": [
    {
     "name": "stdout",
     "output_type": "stream",
     "text": [
      "\u001b[92m→\u001b[0m returning existing schema with same hash: Schema(uid='ge0tAYSrVVTjsVCFwgXb', name='Var Dataframe Schema after preprocessing', n=5, itype='Feature', is_type=False, otype='DataFrame', hash='AIqOJ866LV29WcGAzvc28A', minimal_set=True, ordered_set=False, maximal_set=False, space_id=1, created_by_id=35, run_id=538, created_at=2025-03-20 22:51:47 UTC)\n"
     ]
    }
   ],
   "source": [
    "var_schema = ln.Schema(\n",
    "    name=\"Var Dataframe Schema after preprocessing\",\n",
    "    otype=\"DataFrame\",\n",
    "    features=[\n",
    "        f_5,\n",
    "        f_6,\n",
    "        f_7,\n",
    "        f_8,\n",
    "        f_9\n",
    "    ],\n",
    "    coerce_dtype=True\n",
    ").save()"
   ]
  },
  {
   "cell_type": "markdown",
   "id": "531f874a-6be6-42d0-9d3e-411cbf95aa07",
   "metadata": {},
   "source": [
    "#### E. Define Schema for the AnnData Object"
   ]
  },
  {
   "cell_type": "code",
   "execution_count": 19,
   "id": "b143b3b2-8de6-4f70-b0d7-793d25d5548a",
   "metadata": {},
   "outputs": [
    {
     "name": "stdout",
     "output_type": "stream",
     "text": [
      "\u001b[92m→\u001b[0m returning existing schema with same hash: Schema(uid='fQP0XU9nFFNFbCKlIy4d', name='Preprocessed AnnData schema', n=-1, dtype='num', itype='Composite', is_type=False, otype='AnnData', hash='YBSjkDIRM5RGNLMxrAFq7w', minimal_set=True, ordered_set=False, maximal_set=False, space_id=1, created_by_id=35, run_id=538, created_at=2025-03-20 22:51:51 UTC)\n"
     ]
    }
   ],
   "source": [
    "adata_schema = ln.Schema(\n",
    "    name=\"Preprocessed AnnData schema\",\n",
    "    otype=\"AnnData\",\n",
    "    components={\n",
    "        \"obs\":obs_schema,\n",
    "        \"var\":var_schema\n",
    "    }\n",
    ").save()"
   ]
  },
  {
   "cell_type": "markdown",
   "id": "3ba0f7df-2fba-473a-9d25-9390bcb177f4",
   "metadata": {},
   "source": [
    "### Ensuring Datasets Adhere to a Schema\n",
    "---\n",
    "Now that we have defined a schema, we want to ensure that all preprocessed datasets conform to it, maintaining consistency and standardization across analyses.\n",
    "\n",
    "We achieve this using the curator method in LaminDB, which validates whether the values in the dataset align with the defined schema constraints. This ensures that:\n",
    "\n",
    "- Required columns and metadata are present\n",
    "- Data types and value ranges are consistent\n",
    "- The dataset structure remains uniform across different analyses"
   ]
  },
  {
   "cell_type": "markdown",
   "id": "bf84be55-22e3-4623-9011-2a4b502fdc2a",
   "metadata": {},
   "source": [
    "#### A. Define a curator object using the dataset(AnnData) and schema"
   ]
  },
  {
   "cell_type": "code",
   "execution_count": 20,
   "id": "756e719d-dd04-40f1-90af-7afa214badbe",
   "metadata": {},
   "outputs": [],
   "source": [
    "curator = ln.curators.AnnDataCurator(\n",
    "    adata,\n",
    "    adata_schema\n",
    ")"
   ]
  },
  {
   "cell_type": "code",
   "execution_count": 21,
   "id": "b0526be0-129e-4825-8b72-be956e9299fd",
   "metadata": {},
   "outputs": [
    {
     "name": "stdout",
     "output_type": "stream",
     "text": [
      "\u001b[92m✓\u001b[0m \"patient\" is validated against \u001b[3mULabel.name\u001b[0m\n",
      "column 'mt' not in dataframe. Columns in dataframe: ['SPP1', 'HLA-DPB1', 'MT-RNR2', 'IGLC2', 'IGLC3', 'A2M', 'FTL', 'MALAT1', 'IGKC', 'IGHG4', 'TXN', 'HSP90AA1', 'S100P', 'CXCL9', 'IGLC7', 'RGS1', 'RPS27', 'APOC1', 'COL3A1', 'TYROBP', 'IGHG1', 'CD74', 'IGHM', 'ETFBKMT', 'CD2', 'CST3', 'CCL4L2', 'CCL4', 'S100A8', 'TREM1', 'BEX5', 'ISG15', 'SRGN', 'IGFBP7', 'IKZF2', 'GPNMB', 'CAMP', 'HLA-DRB6', 'RNU2-63P', 'S100A4', 'IFI27', 'C3', 'ID2', 'CILP', 'INHBA', 'CEP55', 'PRSS23', 'CCL5', 'C1S', 'PALMD', 'ARAP2', 'PDE4B', 'SFRP2', 'CCR7', 'BIRC3', 'COL1A2', 'MX1', 'APOD', 'SGK1', 'EREG', 'BTG2', 'MT1X', 'ANXA1', 'AIF1', 'HLA-DPA1', 'C1R', 'IGHV1-69', 'CPVL', 'TRMT10B', 'MZB1', 'LY86', 'IFI44L', 'RNASE1', 'IL7R', 'LGALS1', 'GPR183', 'MMP7', 'AREG', 'SAMSN1', 'EEF1A1P3', 'MGP', 'MS4A7', 'CSTB', 'ZNF331', 'MYLK', 'FLT1', 'TEX9', 'TNFSF10', 'MT1F', 'CCL2', 'TNIP3', 'ADM', 'RF00003', 'MUCL1', 'AL357060.1', 'CREM', 'TOP2A', 'MAP3K8', 'EPSTI1', 'CKAP2', 'S100A9', 'CCL3', 'CLEC2D', 'PLEK', 'C1QC', 'TTK', 'TM4SF1', 'BTG1', 'C1orf162', 'NKG7', 'ITM2C', 'FDCSP', 'ICAM1', 'TIGIT', 'PERP', 'TIMP1', 'AKNA', 'TREM2', 'C1orf228', 'ENSG00000274428', 'CXCL13', 'RGS2', 'MT2A', 'IL1RN', 'RNU5E-1', 'CPA5', 'CALD1', 'HLA-DQA2', 'TMEM156', 'RARRES1', 'AC245014.3', 'ATF3', 'SAMD3', 'MNDA', 'FCER1G', 'IL1B', 'MCAM', 'CTSL', 'IFIT2', 'CXCL10', 'NMRK1', 'BANK1', 'SCD', 'NUB1', 'UBE2C', 'OLR1', 'NTPCR', 'AC016831.5', 'LINC01619', 'AC133644.2', 'EIF4A3', 'ANKRD22', 'FABP5', 'MIAT', 'P2RX5', 'CYTOR', 'CLECL1', 'FAM30A', 'ISLR', 'KRT7', 'KCTD12', 'LYZ', 'PLIN2', 'CTSC', 'PKIB', 'TPM4', 'APOE', 'TRBC1', 'ANXA2R', 'CMTM3', 'CXCL12', 'AL136987.1', 'AC103769.1', 'MIR3945HG', 'IRF7', 'PTPN22', 'IGHA1', 'PSAP', 'AARD', 'IGHV1-3', 'BEX2', 'TRBC2', 'RINL', 'CTSB', 'ATAD2', 'LINC02576', 'AZGP1', 'DIO2', 'LUM', 'TAOK1', 'LINC00402', 'LINC00861', 'GBP1', 'HLA-DRA', 'SOD2', 'GZMB', 'TPM1', 'FKBP5', 'C1QB', 'CRTAM', 'ALCAM', 'CENPF', 'CYB5A', 'TMEM71', 'IGHG3', 'HLA-DRB1', 'IGSF6', 'APOBEC3A', 'LINC00309', 'PYHIN1', 'CSTA', 'TRAT1', 'HLA-DMB', 'SOX4', 'FPR1', 'IGHV3-15', 'FMO2', 'LCN2', 'PRKCB', 'MIR4435-2HG', 'HSPB1', 'KRT17', 'FBLN7', 'STMN1', 'SPOCK2', 'HERC5', 'HIST1H1E', 'CD163', 'C15orf48', 'NCF2', 'PMAIP1', 'AC108047.1', 'HPGD', 'WFDC21P', 'CCDC88A', 'SORL1', 'PRDM1', 'TFPI', 'LILRB4', 'CCDC80', 'TNFAIP3', 'ACP5', 'IGKV4-1', 'IGHV3-21', 'ACTA2', 'TRAV4', 'TNFRSF18', 'CRYAB', 'KRT8', 'CH25H', 'CD14', 'PSMD3', 'FBXO32', 'IFIT1', 'SLC2A3', 'TAGAP', 'ARID3B', 'NR4A1', 'LACTB2-AS1', 'IGKJ5', 'HBB', 'NCCRP1', 'HIST1H1D', 'RSAD2', 'ITIH5', 'CD40LG', 'IL18R1', 'SLC12A2', 'CLIC3', 'KRT19', 'ANKRD36B', 'RASSF4', 'IFIT3', 'HSPA1A', 'GZMA', 'ETS2', 'DUSP2', 'AC008555.5', 'CD79A', 'HMGB2', 'DCN', 'SNX10', 'NMB', 'KLRD1', 'FCGR1A', 'BCL2A1', 'IGLV2-14', 'IRF1', 'RGS16', 'RNASE6', 'SCIMP', 'HES1', 'CAMK4', 'MEF2C', 'AL359513.1', 'CCL21', 'NAMPT', 'CLSPN', 'CXCL11', 'MYL9', 'AC106739.1', 'AP000769.1', 'IL4I1', 'GIMAP2', 'CCL18', 'IGHV1-46', 'CRABP2', 'MT1G', 'VCAN', 'CD7', 'SLC11A1', 'AC025164.1', 'ZNF683', 'KRT18', 'CXCL8', 'IGLV1-40', 'FN1', 'GPR65', 'DAB2', 'SH2D2A', 'NFKBID', 'C1orf54', 'TCIM', 'MTND1P23', 'TRAF1', 'C1QA', 'AC026979.2', 'NLRC3', 'DERL3', 'RARRES2', 'PPDPF', 'XCL1', 'MSR1', 'GNLY', 'STAP1', 'IGHV1-24', 'SLPI', 'IER3', 'AF111167.1', 'CEP152', 'NQO1', 'ERO1B', 'ALOX5AP', 'CCDC146', 'SPARC', 'CCL3L1', 'KLRC1', 'TBC1D4', 'CAV1', 'TRG-AS1', 'GBP4', 'AL669831.1', 'IGHV4-59', 'AC008105.3', 'KPNA2', 'TSPAN32', 'NABP1', 'IGLV1-44', 'TNFSF8', 'CENPK', 'TTC39C', 'TAGLN', 'ZNF831', 'GTF2IP12', 'CEBPD', 'TNFRSF1B', 'FOXC1', 'LGMN', 'HBEGF', 'APOBEC3G', 'FGL2', 'XIST', 'VCAM1', 'CTSD', 'LINC00544', 'UPP1', 'PECAM1', 'TNF', 'SKAP1', 'ANKRD36C', 'TPX2', 'AEBP1', 'C5orf56', 'MIEN1', 'ADAMDEC1', 'AL662844.4', 'AGR3', 'SOCS7', 'LINC00892', 'HPGDS', 'IFNG', 'FGD3', 'CLEC4E', 'CTSS', 'CD84', 'FCGR1B', 'RASGRP2', 'CAVIN2', 'TTC39B', 'C5AR1', 'TNFSF13B', 'VEGFA', 'MACROD2', 'CLDN4', 'GPRIN3', 'IL1R2', 'TNFRSF25', 'MS4A6A', 'USP30-AS1', 'GBP5', 'ICK', 'CCL19', 'HBA1', 'TNFSF14', 'LINC01934', 'USP22', 'COL6A1', 'IGHG2', 'AL121658.1', 'SERPINA1', 'CLUHP3', 'SLC9A3R2', 'RRN3P1', 'SNORD13', 'GPR171', 'AC091814.1', 'HCK', 'CA2', 'TCF4', 'ADPRM', 'PARP15', 'OXNAD1', 'FDPS', 'SPATA13', 'NUSAP1', 'PTPRE', 'MHENCR', 'SAA1', 'TRMT13', 'MAP1B', 'FCRL6', 'LEF1', 'IGHV4-39', 'NR4A2', 'BCL2L14', 'SATB1-AS1', 'ARHGAP29', 'CYFIP2', 'MS4A4A', 'TTN', 'DLGAP5', 'AC004069.1', 'SLC39A6', 'FILIP1L', 'CFD', 'IGHD', 'GPR18', 'POSTN', 'CXCL3', 'MT1H', 'IGKV3-15', 'IGHV3-7', 'G0S2', 'RGS18', 'CTLA4', 'ATP6V1E2', 'HBA2', 'DEPP1', 'THEMIS', 'FOLR2', 'CTSW', 'WWP1', 'PRMT9', 'TRAV17', 'MKI67', 'HEMGN', 'KNL1', 'POU2F2', 'COL14A1', 'COL5A1', 'SGO1', 'NAPSB', 'TTC12', 'MIXL1', 'ZFAND2A', 'CD70', 'PCNX2', 'GADD45G', 'AMPD3', 'STC1', 'AF127936.1', 'SNORD3A', 'PLA2G7', 'H2AFJ', 'MT1E', 'SMC4', 'STAM-AS1', 'PTGER4', 'NPW', 'SPARCL1', 'NCF1', 'IGHV3-43', 'ITPKB', 'IGLV6-57', 'PYGM', 'KPNA5', 'SH2D1A', 'THY1', 'RNASEK', 'AL451085.1', 'CYBB', 'FCGR3A', 'TNFRSF9', 'CXCL2', 'NMT2', 'ENG', 'EPHA1-AS1', 'AFG3L1P', 'MIR155HG', 'SESN1', 'GPX3', 'PNPLA7', 'TFEC', 'RASGRP1', 'LY6D', 'AC046185.3', 'P2RY14', 'NNMT', 'SNORC', 'GRK6', 'TIMP3', 'PRRX1', 'RNVU1-6', 'LINC01480', 'COL12A1', 'PAG1', 'KRT23', 'LINC01881', 'EGR2', 'JCHAIN', 'HELB', 'S100A14', 'GMNN', 'PMP22', 'SFRP1', 'SPRY1', 'PEG10', 'PTGDS', 'CLU', 'HIST1H1B', 'RTKN2', 'LAMB1', 'CD24', 'GCSAM', 'AC024451.4', 'IGLV1-51', 'ZNHIT3', 'IGLV1-47', 'RBP7', 'PLCL2', 'AC020571.1', 'HLA-DOB', 'CENPU', 'CXCL14', 'MYBL1', 'CCL20', 'PALLD', 'IL27RA', 'RNU6-2', 'TNFAIP2', 'AC013264.1', 'IGHV3-30', 'CTHRC1', 'MAP7D3', 'PDK4', 'LTF', 'AC027449.1', 'IGFBP4', 'AC109326.1', 'CXorf21', 'SPI1', 'IGHV1-69D', 'INPP5D', 'LST1', 'TOMM20P2', 'TPM2', 'PTN', 'LINC02195', 'HDAC9', 'SDC2', 'IL2RA', 'EPHB6', 'CELA1', 'ADGRE5', 'HOPX', 'SULF1', 'DSP', 'P2RY13', 'COL1A1', 'ARIH2OS', 'MAL', 'WDFY4', 'ITM2A', 'CA5B', 'CENPE', 'IGHV6-1', 'JAML', 'PLAC8', 'AC012368.1', 'AC020656.1', 'PBX4', 'ZDHHC6', 'VSIG1', 'AKAP12', 'ANKRD36BP2', 'STAT4', 'PTTG1', 'CXCL1', 'FCGBP', 'STEAP1B', 'UBASH3A', 'C22orf46', 'NUF2', 'CD83', 'LINC01871', 'CDH11', 'LAT2', 'MAFB', 'GADD45A', 'FBN1', 'FAM118A', 'AC007613.1', 'TFCP2L1', 'HIST2H2AB', 'AKR1C1', 'SIRPG', 'IFITM1', 'SAA2', 'ZNF839', 'AC022706.1', 'PMCH', 'BAX', 'THBS1', 'EBI3', 'CTGF', 'KLK7', 'S100A2', 'CD72', 'CYP1B1', 'TDO2', 'CST7', 'ID3', 'UTS2', 'FAP', 'PGR', 'MERTK', 'LINC00996', 'CPM', 'SPTSSA', 'FAM111B', 'RNU5F-1', 'TSHZ2', 'NKAPP1', 'CCL28', 'ICOS', 'DIP2A', 'TRGC2', 'NR4A3', 'KIR2DL4', 'HLA-DQB2', 'AP002004.1', 'SYNM', 'ASPM', 'DEFB1', 'CHRNA1', 'PCOLCE', 'BCL11B', 'IGLV3-1', 'LRRC37A4P', 'ZCWPW1', 'IGLL5', 'LY9', 'CHI3L1', 'IFNG-AS1', 'KLK6', 'TBC1D10C', 'MIR205HG', 'STAG3L3', 'TACSTD2', 'HIVEP1', 'IGLV2-11', 'EPHB1', 'DCBLD2', 'ADIRF', 'CD79B', 'RIC3', 'FNDC1', 'AC027290.2', 'EDN1', 'SELENOP', 'IGHA2', 'CALB2', 'LGALS2', 'TFPI2', 'DTHD1', 'PARD6G-AS1', 'ZNF101', 'AL359220.1', 'LRMP', 'TARSL2', 'SLC2A1', 'CLEC5A', 'PTPN7', 'MXRA5', 'PDE3B', 'MMP12', 'AC005515.1', 'TNC', 'RNF144A', 'FCRL5', 'AL355472.1', 'LINC00426', 'MUC16', 'AC084871.2', 'KLRB1', 'PPP1R14A', 'TRAPPC10', 'CHRM3-AS2', 'IGF1', 'LAMA2', 'AC004687.1', 'AC025884.1', 'ANKRD20A5P', 'SDS', 'DDX11', 'SCN9A', 'DHRS9', 'OLFML3', 'HGF', 'AL356234.1', 'MRPS31P5', 'MFAP5', 'RN7SL2', 'MMP11', 'CDKN3', 'CCDC102B', 'ADAT2', 'TRDC', 'CD8A', 'C11orf96', 'SCML4', 'RNF125', 'COL15A1', 'RNU4-1', 'LILRB1', 'TNFRSF12A', 'SUPT3H', 'CD27', 'BATF', 'DDX43', 'STAG3', 'DNAAF1', 'DOK2', 'BIRC5', 'CSF2RA', 'PPP1R2C', 'CD8B', 'SLAMF1', 'IGHV3-33', 'TXK', 'TRAV6', 'SUCNR1', 'RF00017', 'AD000864.1', 'IGFBP5', 'CCND1', 'C21orf62-AS1', 'FBXO38', 'IKZF5', 'CLIC2', 'ICAM4', 'RUNX3', 'GNG11', 'CSF1R', 'AC245100.4', 'IFI30', 'SHISAL2A', 'PHLDA1', 'FHIT', 'AC044849.1', 'PTGS2', 'PATL2', 'ATP2B1-AS1', 'CAVIN1', 'RASD1', 'PLPP1', 'IGKV3-11', 'AP003774.4', 'SOCS1', 'IGLV3-10', 'HRH2', 'NFATC1', 'GAPT', 'EPCAM', 'SLC40A1', 'VWA5A', 'HSPG2', 'ACVR1C', 'RNF157', 'LINC00158', 'AC024257.3', 'HAMP', 'KLRG1', 'CENPM', 'PHYH', 'FO393401.1', 'NDUFA4L2', 'SYTL3', 'ABCB1', 'TTC39C-AS1', 'SDR42E2', 'FCER1A', 'COL6A3', 'GPX2', 'IGFBP3', 'AIM2', 'HMOX1', 'COL6A2', 'SLFN12L', 'TOX2', 'IGLV2-8', 'RUBCN', 'JAK3', 'MYBL2', 'MAF', 'AURKA', 'MT1M', 'NEK9', 'BTK', 'VPREB3', 'USP27X', 'L3MBTL3', 'LAMP3', 'AL121944.1', 'IGFBP6', 'HIST1H1A', 'PCSK1N', 'TCL1A', 'AC073352.1', 'TPSB2', 'CLDN1', 'PODXL', 'LRRC17', 'APOLD1', 'CCR8', 'SCARNA9', 'CD247', 'IPCEF1', 'COL5A2', 'TNFRSF4', 'ADRB2', 'PI3', 'TNFRSF13C', 'MPEG1', 'ID1', 'RNU5B-1', 'AP002852.1', 'CEP85L', 'RNU6-6P', 'CACNA1A', 'FXYD7', 'AC090114.3', 'AL117381.1', 'AC138470.1', 'LINC00926', 'IL18', 'CD300E', 'RNVU1-15', 'LINC01943', 'HCAR2', 'HSH2D', 'AC104794.2', 'RNGTT', 'USP12-AS2', 'GPR132', 'CCL17', 'CCNB1', 'PLTP', 'GZMH', 'IBA57', 'FCGR3B', 'TOX', 'KRT86', 'IGHV3-23', 'TRAV20', 'COQ7', 'AC064807.1', 'AC025423.1', 'MIB2', 'THBS2', 'JAG1', 'BTLA', 'VWA1', 'ZBED2', 'SCGB2A1', 'NCR3', 'CCDC65', 'TNFAIP6', 'AC011445.2', 'IDO1', 'COL4A2', 'FGF7', 'F13A1', 'GZMK', 'TESPA1', 'CROCCP2', 'CGA', 'IL21', 'NEXN', 'ZEB2-AS1', 'ZDBF2', 'CD40', 'ASPN', 'CD36', 'AL358472.5', 'MMP9', 'TM4SF18', 'HMMR', 'ZNF337', 'AC008083.2', 'PIK3CD', 'LINC00174', 'PLAC9', 'GABRP', 'BGN', 'HIST1H4B', 'MARCO', 'TMEM131L', 'MORC4', 'PRF1', 'AC090617.4', 'MSLN', 'VSIG4', 'AL121820.1', 'SERPINB9', 'CD1C', 'CD34', 'PKHD1L1', 'IGHV1-18', 'CPA3', 'LTC4S', 'ACKR1', 'CPNE5', 'TMC8', 'SLC2A6', 'FCRL1', 'LINC01857', 'IL6', 'AC007349.3', 'LINC00243', 'P2RY8', 'EOMES', 'FOXP3', 'MYBPC2', 'PAX5', 'IL23R', 'LINC02397', 'WDR74', 'CCDC18', 'FCGR2A', 'PSTPIP1', 'DPP4', 'AL359504.2', 'AC027279.1', 'GPR174', 'TBC1D30', 'AL365226.2', 'LAG3', 'CUBN', 'ZNF204P', 'STRIP1', 'DNAH8', 'DNASE1L3', 'CHN1', 'FAM184A', 'AL603756.1', 'HTRA1', 'CCDC152', 'MRC1', 'LIN7B', 'BMX', 'SMIM27', 'GIMAP1', 'NTS', 'HHEX', 'Z98200.1', 'ALS2CR12', 'C9orf41-AS1', 'SV2A', 'RASSF6', 'AP000356.3', 'XCL2', 'CD200', 'AC120193.1', 'ZNF385D', 'SPN', 'MSMB', 'FCN1', 'CC2D1B', 'TRAV8-2', 'LTA', 'SNORD104', 'LINC01215', 'AC245100.8', 'HIST1H2AJ', 'UCHL1', 'HVCN1', 'AL109840.2', 'CD6', 'RGL4', 'IL33', 'GATA3', 'NID2', 'SRD5A3', 'GDF15', 'ITGAL', 'ENSG00000270722', 'AL645568.1', 'TSSK6', 'EGFL6', 'FBF1', 'SATB1', 'ZNF79', 'CTSK', 'AC058791.1', 'PCLAF', 'ZC3H12D', 'NBL1', 'TCF7', 'AC090152.1', 'CXCR3', 'IFNL1', 'AL121983.2', 'B3GALT2', 'GRAP2', 'NUGGC', 'TSPAN1', 'RGS13', 'AC020917.4', 'PTGDR', 'IGLC6', 'GTSE1', 'S100B', 'LAIR2', 'AC009041.1', 'AC119428.2', 'AL135818.1', 'LINC00324', 'SCARNA21', 'AC010186.2', 'PTCH2', 'MZF1-AS1', 'PI16', 'HIST1H4F', 'TCEANC', 'HCAR3', 'MMP2', 'TRBV28', 'AC018644.1', 'SNORD89', 'KCNQ1OT1', 'AKAP5', 'PHACTR1', 'LHFPL6', 'TLR10', 'RAB33A', 'AC022182.2', 'GRB7', 'AGAP2', 'ITGAX', 'LINC01550', 'PADI2', 'ERBB2', 'AL133551.1', 'KLKP1', 'IL1RL1', 'ENAM', 'CEMIP', 'SERPINE1', 'HSPA6', 'SARDH', 'TRAV40', 'LINC01681', 'RELB', 'AC092944.1', 'ID4', 'AC099063.4', 'SIGLEC17P', 'KLRC4', 'RF00004', 'CXCR6', 'RAB37', 'AC022021.1', 'AL445686.2', 'CD177', 'LINC02273', 'TNFRSF13B', 'ACSL6', 'GNG4', 'RFX3-AS1', 'DHRS11', 'RRAD', 'COL4A1', 'AC098818.2', 'HIST1H3A', 'SERHL2', 'CLNK', 'AC011773.4', 'AP000936.1', 'TRABD2A', 'EMCN', 'HFE', 'GZMM', 'AL162457.1', 'COL19A1', 'CHI3L2', 'EML2-AS1', 'S100Z', 'AL359541.1', 'AC111182.1', 'AC017002.3', 'GABPB1-IT1', 'ANGPT2', 'ITK', 'KRT73-AS1', 'AL450992.1', 'PVALB', 'AC093484.2', 'PCDH17', 'ZNF80', 'SMIM5', 'ADGRF5', 'AL035634.1', 'LINC00239', 'NPNT', 'RNVU1-4', 'FLT3', 'AC124283.1', 'KCNB1', 'CP', 'ZNF280B', 'IGHV3-74', 'AC136475.1', 'RAMP2', 'HIST1H2AK', 'GTF2IP13', 'CXorf57', 'DUSP6', 'RNVU1-7', 'PPP2R2B', 'AC026369.3', 'AC016596.1', 'ZAP70', 'RLN2', 'KLK1', 'CDHR3', 'EMC3-AS1', 'LRRN3', 'AC139720.1', 'SLC25A45', 'CDC20', 'AP000692.1', 'ESAM', 'PPIEL', 'SLAMF6', 'HIST1H4A', 'LINC01781', 'ATRIP', 'AC009093.2', 'AC109826.1', 'MFGE8', 'AL139246.5', 'TTC21A', 'TMIE', 'CD200R1', 'MBD5', 'CCL22', 'GTF2IP20', 'ZNF439', 'KANSL1-AS1', 'AP001160.1', 'TFF3', 'TRGC1', 'ANKRD55', 'TRAV25', 'FAHD2B', 'PRKCQ-AS1', 'MRPS30-DT', 'ROCR', 'TNFRSF14-AS1', 'AL157902.1', 'HIST1H2AH', 'SOD3', 'KLRC2', 'SMPD3', 'AC027279.4', 'CD28', 'PTHLH', 'CXCR2', 'BACH2', 'REXO1', 'KHDRBS2', 'ADTRP', 'IRF8', 'AL161781.2', 'AMN', 'SCT', 'AC136475.5', 'AC018926.2', 'CD1A', 'RN7SL832P', 'AC005593.1', 'CASP5', 'SMIM25', 'IGFL2', 'OPRM1', 'DPF3', 'CD22', 'PLAU', 'FCRL2', 'ENSG00000277634', 'LINC02084', 'AC022400.8', 'AC004967.1', 'AC067931.2', 'FILIP1', 'SLC18A2', 'RNU1-2', 'RGS4', 'MARCH9', 'DLL1', 'RASL11A', 'AGR2', 'IL2', 'AC026461.3', 'IL4R', 'CCDC141', 'AC020656.2', 'S100A12', 'CD1D', 'AC020911.2', 'LRRC26', 'AQP1', 'CCDC136', 'HIST1H4K', 'EFEMP1', 'RNVU1-19', 'AC133552.1', 'AL031316.1', 'EGR3', 'CA11', 'S1PR4', 'SMG1P4', 'CYR61', 'IGHV3-20', 'HLA-DRB5', 'IGKV3-20', 'PTCRA', 'PPP3CB-AS1', 'THSD7A', 'CD68', 'SLC16A1-AS1', 'CCDC88C', 'AC087286.4', 'GTSCR1', 'LINC02132', 'YJEFN3', 'WFDC2', 'TRAV26-1', 'AC004264.1', 'FAM177B', 'LMO1', 'SNAI3', 'BLK', 'KIT', 'RGS5', 'RNU4ATAC', 'NBPF12', 'STMN3', 'OXTR', 'AC004585.1', 'RNU5D-1', 'SH3BP5-AS1', 'AL118558.3', 'AL139415.1', 'U91328.1', 'WDR86-AS1', 'CDC6', 'LINC00494', 'CNKSR2', 'COL6A4P1', 'LMOD1', 'HIST1H3J', 'AC100793.2', 'GPR82', 'FCRLA', 'NCF1B', 'LINC02422', 'CHGB', 'DOPEY2', 'AC087071.1', 'AL359636.1', 'AC104024.1', 'RNU4-2', 'CERNA1', 'DRAIC', 'COL18A1', 'LINC00332', 'CCR4', 'DENND3', 'SNORA74D', 'GLUD1P3', 'LILRA4', 'ECSCR', 'AL158071.3', 'FAM129C', 'TPPP3', 'AP000692.2', 'IQUB', 'SCGB1D2', 'AC010331.1', 'FABP4', 'BX571818.1', 'CLEC10A', 'AC231981.1', 'DNAJC12', 'NEB', 'AC127521.1', 'ZDHHC20P1', 'DLGAP1-AS2', 'HIST1H3C', 'AL137230.1', 'ADAMTS1', 'ZBTB16', 'NSG1', 'MMRN1', 'ABCA6', 'ENSG00000277918', 'ITFG2-AS1', 'TRBV14', 'CALCRL', 'CRIP1', 'NR2F1', 'TTC41P', 'LILRB5', 'CHRDL1', 'TRAV36DV7', 'SPIB', 'MIA', 'S1PR5', 'SPNS3', 'AL645728.1', 'AP003392.6', 'AC118344.1', 'ABHD15-AS1', 'ZCCHC18', 'AC012645.3', 'AC015911.3', 'MT1A', 'AC017104.1', 'AP003472.2', 'AC109597.2', 'AC108693.1', 'PEBP1P3', 'IGHV2-5', 'LINC01560', 'MAP4K1', 'WDR90', 'PNOC', 'NEK8', 'TRBV6-2', 'PTGIR', 'ZBTB32', 'PRKCQ', 'LIMD1-AS1', 'AC007262.2', 'IL2RB', 'GIMAP5', 'AC099811.5', 'AF165147.1', 'AC120114.4', 'CCDC154', 'AL356273.2', 'OGN', 'ADGRF3', 'IBSP', 'MED17', 'AC103724.3', 'LINC00944', 'AP001107.9', 'U2AF1L4', 'AC108718.1', 'TIMD4', 'ADH1B', 'MIR191', 'GNG8', 'RNU5A-1', 'AC015911.8', 'AC104971.3', 'PSMA8', 'FAM167B', 'IL23A', 'LINC00539', 'AC114956.3', 'APBA2', 'RF00012', 'BTNL9', 'SORBS2', 'AC016405.1', 'SPINK2', 'AC023590.1', 'AC245014.1', 'ZSCAN30', 'CAMKK1', 'PTGIS', 'LINC01281', 'MRPS31P4', 'PLA2G2D', 'AL359644.1', 'CRISPLD1', 'AC092053.2', 'TNFRSF11B', 'AC011676.5', 'CLEC4C', 'ATXN7', 'DLGAP3', 'SELP', 'BEND5', 'CR1', 'TRGV2', 'CAGE1', 'FCRL4', 'AC068587.4', 'AC008592.3', 'AC004865.2', 'LINC02256', 'S100A1', 'CYB561D1', 'PLAG1', 'C1orf61', 'CTSG', 'HS3ST1', 'ACTG2', 'SRP54-AS1', 'SAXO2', 'PRG4', 'AC103724.4', 'FABP5P3', 'HIPK1-AS1', 'AC245128.3', 'AC008764.7', 'MATK', 'TRGV9', 'OSTN-AS1', 'NAP1L2', 'PLD4', 'CD93', 'AL627422.2', 'AL022328.3', 'GNG3', 'AL049776.1', 'MDS2', 'TRAV13-2', 'DOC2GP', 'AC025263.1', 'WDR11-AS1', 'C11orf21', 'AC087623.3', 'CEACAM6', 'HEXDC-IT1', 'ZDHHC11B', 'CALHM6', 'AC010273.1', 'IL3RA', 'IGKV2-30', 'AP003716.1', 'HSP90AB4P', 'AL592295.4', 'AC004817.3', 'AC113414.1', 'LINC02580', 'SPATA22', 'TPRG1', 'AC008747.1', 'CEACAM21', 'AP001462.1', 'UTS2B', 'BAIAP3', 'C12orf42', 'NPIPB11', 'FCRL3', 'CLDN5', 'AC008897.2', 'HIST1H4D', 'AL356020.1', 'AC104532.2', 'AC083973.1', 'PLVAP', 'SFRP4', 'ITPKB-IT1', 'WNT10A', 'AC008957.1', 'CFP', 'AC025034.1', 'PASK', 'AC244502.1', 'CCDC17', 'PADI4', 'AC006449.6', 'ABO', 'AC093157.2', 'CNR2', 'IGLV2-23', 'AC104653.1', 'FALEC', 'FITM1', 'AC093010.2', 'RLN1', 'RNU1-120P', 'FCER2', 'AL109955.1', 'LINC02446', 'AC024940.2', 'AC019129.2', 'AC005842.1', 'RHEX', 'LIX1-AS1', 'NDUFV2-AS1', 'HKDC1', 'HIST2H3D', 'AC019197.1', 'SNORD13E', 'CYTL1', 'C1QTNF3', 'MADCAM1', 'AL512791.2', 'AL138899.1', 'AC110771.1', 'AC091948.1', 'AL034397.3', 'WHAMMP2', 'AF131215.6', 'CD19', 'CXCL5', 'RAMP3', 'SCGB3A1', 'RBFADN', 'SNHG4', 'CD1E', 'ABCB4', 'LINC02340', 'ANGPTL1', 'USP44', 'LINC02240', 'RNY1', 'PCOLCE2', 'AC244034.2', 'SULT1B1', 'GCSAML', 'AC008892.1', 'AC073263.2', 'AC022098.4', 'ZNF563', 'NRROS', 'AC107067.1', 'ZNF20', 'LINC01063', 'PWAR6', 'AC100778.2', 'SNHG26', 'COL4A3', 'SERPINB9P1', 'AC093567.1', 'WDR64', 'OCM', 'ANKRD24', 'AC090587.1', 'RNU5E-4P', 'DMGDH', 'EGR4', 'GATA2', 'ANKRD18CP', 'ANKRD18EP', 'FSCN1', 'AL353135.1', 'CFL1P1', 'RNU1-1', 'AC093155.2', 'IGSF22', 'CCR6', 'LINC01160', 'PAK5', 'RN7SL555P', 'TMIGD2', 'LYL1', 'DAP3P1', 'AC006042.3', 'IGHV3-69-1', 'AC006299.1', 'ABCC2', 'ADGRL4', 'C2orf40', 'F2RL3', 'AL928654.4', 'SPAG8', 'HEXA-AS1', 'CMA1', 'DPT', 'AC119396.1', 'LYVE1', 'MIR4258', 'IGHV4-61', 'ZCCHC12', 'IGHV1-2', 'AC007842.1', 'AC007879.3', 'AC055748.1', 'AC137767.1', 'ZNF860', 'LINC01347', 'ACY3', 'AC130686.1', 'STAG3L5P', 'AL157756.1', 'IGHE', 'ASPA', 'AL121748.1', 'TRAJ39', 'AL031846.2', 'NFE2', 'SMG1P7', 'AL109767.1', 'CBX3P2', 'AC021188.1', 'AC005306.1', 'RETN', 'AC108704.2', 'CCDC62', 'AP000845.1', 'AC079331.2', 'C10orf91', 'PRR34', 'AL357143.1', 'VAV3-AS1', 'AC004494.1', 'AC079203.1', 'AP005131.7', 'IGHGP', 'RPL23AP74', 'LINC02325', 'GLB1L3', 'ANKRD34A', 'PLN', 'AC007000.3', 'RGPD2', 'OSGEPL1-AS1', 'AL139246.3', 'AC007448.3', 'TPSAB1', 'FLVCR1-AS1', 'LINC00954', 'AC087645.2', 'AC124068.2', 'IL6R-AS1', 'AC011815.2', 'AC136475.9', 'BTNL8', 'AC025171.3', 'LINC02404', 'AICDA', 'TRGV10', 'STX18-AS1', 'SNX22', 'XKR6', 'AL606807.1', 'TRAV34', 'TMC5', 'AC133065.2', 'C12orf40', 'YES1P1', 'AP000866.5', 'PIPOX', 'AL133523.1', 'AC100861.2', 'MEF2C-AS1', 'AC087318.1', 'AC005332.6', 'TRAV8-3', 'ENSG00000252021', 'TMEM100', 'KLHL34', 'ADGRE1', 'BCDIN3D-AS1', 'CR2', 'AL355581.1', 'AL157402.1', 'AL133268.3', 'UBR5-AS1', 'AC104078.1', 'PRSS2', 'PIK3IP1-AS1', 'TFF1', 'AC100812.1', 'AL512329.2', 'AL031708.1', 'SNORD3B-1', 'AL031728.1', 'AL450344.3', 'MIR760', 'FAM172BP', 'AC113410.3', 'AL021396.1', 'CD209', 'RF01241', 'AL356417.1', 'ARRDC3-AS1', 'NPIPB5', 'TRAV12-3', 'AP000977.1', 'AC012020.2', 'UNC45B', 'MAGI2', 'AC097634.1', 'AL139020.1', 'AL353763.1', 'AC004832.6', 'HPCAL4', 'XCR1', 'HIST1H2BB', 'GPR150', 'VTRNA1-1', 'NOTCH4', 'AC092140.2', 'FAM209A', 'AC026740.1', 'LINC01132', 'PGLYRP2', 'AC008691.1', 'AL157911.1', 'AL109914.1', 'AL357556.4', 'CALY', 'AL022311.1', 'LINC01715', 'AC087164.1', 'AL078644.2', 'MIR4522', 'IGLV7-46', 'ZBTB20-AS5', 'MYOM2', 'AL137796.1', 'AC129492.1', 'AC006033.1', 'CYP2B7P', 'AC104170.1', 'SLC4A4', 'CATIP', 'CD5L', 'AC114495.2', 'FGFBP2', 'HDAC4', 'LINC00441', 'AL031595.3', 'AP002851.1', 'RBM22P2', 'CLEC9A', 'AC243965.1', 'AL133342.1', 'AC098935.2', 'AC005759.1', 'PSMD6-AS1', 'REG4', 'CCR12P', 'LINC01991', 'GPR55', 'ST6GALNAC3', 'PNMA5', 'AL049796.1', 'MYH3', 'WASH3P', 'PROK2', 'TRBV21-1', 'CD160', 'KLHL14', 'CMTM2', 'LINC02207', 'FRZB', 'NPPC', 'NTRK2', 'NAV3', 'CDKL2', 'AC026748.1', 'CR381653.1', 'AL049712.1', 'AC126614.1', 'KLRF1', 'RNU4-62P', 'BX323046.1', 'HCG14', 'SOWAHB', 'AC006042.4', 'TRAJ31', 'RFPL2', 'AC069213.1', 'AC025569.1', 'AL353622.2', 'SEPT14P4', 'WDR63', 'AOC1', 'AP000873.4', 'LINC02265', 'GALR2', 'AC007249.2', 'PRCD', 'SCARA5', 'AC121761.1', 'GRAP', 'AC011498.1', 'AP002840.2', 'AC125232.1', 'AC128688.2', 'AL133367.1', 'DNHD1', 'AC107241.1', 'LINC02245', 'DNAH1', 'AL161729.1', 'AC008569.2', 'LINC01765', 'AC011825.4', 'SNX25P1', 'AL121990.1', 'RBM15-AS1', 'MEI4', 'AL132989.1', 'AL023653.1', 'CXCR5', 'AC016582.2', 'SMIM6', 'LGALS14', 'BX293535.1', 'AC105339.3', 'CDC20B', 'RPL14P5', 'LINGO3', 'ZNF252P-AS1', 'ALG1L2', 'AC133065.1', 'CADM3', 'FXYD2', 'TSPAN7', 'LINC01772', 'MIR3681HG', 'RF00092', 'LINC00167', 'SCN3A', 'TRAJ22', 'PIGR', 'TRAV30', 'ENSG00000202019', 'CLLU1', 'PRELP', 'TRAJ47', 'AL121935.1', 'AC053527.1', 'AC104971.1', 'AC010247.1', 'LINC01841', 'NCR1', 'AC114811.2', 'C17orf49', 'MIR4422HG', 'CLEC14A', 'ATP6V1G2', 'AL356019.2', 'NOG', 'AL161891.1', 'SSTR3', 'AC010247.2', 'PKIA-AS1', 'RPL21P10', 'HCG4B', 'MIR26B', 'TNR', 'AL121768.1', 'AC092645.1', 'TCEAL2', 'KLHL32', 'ESM1', 'WNT16', 'AC123023.1', 'RF00086', 'TMEM202-AS1', 'TRAJ61', 'AL683807.1', 'LINC01771', 'CETP', 'AC007342.3', 'RNU1-106P', 'MIR5195', 'AC090948.3', 'SEC23A-AS1', 'RNVU1-18', 'LINC00824', 'AC092112.1', 'LINC01727', 'AC104184.1', 'AL158163.2', 'AL138966.2', 'CLEC17A', 'LIPE', 'AL929472.2', 'TMEM9B-AS1', 'AC015936.1', 'AL021707.1', 'FTH1P22', 'AL158055.1', 'AC005037.1', 'ZSCAN22', 'ELOA2', 'ZNF460-AS1', 'GJA5', 'AC106782.5', 'AC010186.1', 'NPM1P37', 'MYH11', 'AC040977.1', 'AC026746.1', 'IBA57-AS1', 'TRAV2', 'AC024575.1', 'AC011893.1', 'AC117382.2', 'TRAJ11', 'RPL10P19', 'CLEC20A', 'AL357033.4', 'AC024267.4', 'TRAV8-4', 'AC073934.1', 'AL645924.2', 'AC007216.3', 'AL512343.2', 'GRPEL2-AS1', 'FAM153C', 'AC020743.1', 'AC009053.2', 'BX664615.1', 'AC068025.1', 'RPSAP16', 'AC092279.1', 'AC011466.1', 'AC022167.2', 'ITGB6', 'AL137779.3', 'LINC01891', 'LINC02012', 'P2RX6', 'LINC02413', 'AC234772.2', 'AC011491.3', 'AC048351.1', 'AL159972.1', 'AC027020.1', 'AL354733.3', 'MIR150', 'RPL31P52', 'ANKRD18DP', 'PNMA3', 'POU5F2', 'AC010542.4', 'ENSG00000206957', 'AC051619.8', 'GPA33', 'PAGE5', 'RPL10P6', 'GUCY2C', 'AC140725.1', 'NMUR1', 'AL355076.2', 'RPS6KB2-AS1', 'AC022113.1', 'AL035701.1', 'AC007342.4', 'ENSG00000200170', 'SOAT2', 'IGLL1', 'SLC23A3', 'PCGF7P', 'FSIP2']\n"
     ]
    }
   ],
   "source": [
    "try:\n",
    "    curator.validate()\n",
    "except ln.errors.ValidationError as error:\n",
    "    print(error)"
   ]
  },
  {
   "cell_type": "markdown",
   "id": "b04658e1-0bfa-41f8-ad48-b4e797b8dcee",
   "metadata": {},
   "source": [
    "We observe that the terms for certain fields, such as:\n",
    "\n",
    "- patient\n",
    "- site\n",
    "\n",
    "are not yet validated.\n",
    "\n",
    "To ensure consistency and standardization, we can assign ULabels to these features, defining them according to our expectations. Additionally, we can enhance validation and interoperability by leveraging public ontologies through Bionty, mapping these fields to standardized biomedical terminologies. This helps maintain a structured and universally interpretable dataset, improving both data quality and integration across different analyses"
   ]
  },
  {
   "cell_type": "markdown",
   "id": "5e5f03b5-1e2f-4a31-8c07-fb19aba76e9b",
   "metadata": {},
   "source": [
    "#### B. Defining Values for ULabels for ULable Type Patient and Site"
   ]
  },
  {
   "cell_type": "code",
   "execution_count": 22,
   "id": "a832c583-0723-4289-b0e0-d84206e211ac",
   "metadata": {},
   "outputs": [],
   "source": [
    "curator_new = ln.Curator.from_anndata(\n",
    "    adata,\n",
    "    var_index=bt.Gene.ensembl_gene_id,\n",
    "    categoricals={\n",
    "        adata.obs.patient.name: ln.ULabel.name,\n",
    "        adata.obs.site.name: ln.ULabel.name\n",
    "    },\n",
    "    organism=\"human\",\n",
    ")"
   ]
  },
  {
   "cell_type": "code",
   "execution_count": 23,
   "id": "f8f75581-3cf2-46c8-8e04-15ebd5cad948",
   "metadata": {},
   "outputs": [
    {
     "name": "stdout",
     "output_type": "stream",
     "text": [
      "\u001b[94m•\u001b[0m mapping \"var_index\" on \u001b[3mGene.ensembl_gene_id\u001b[0m\n",
      "\u001b[93m!\u001b[0m   \u001b[1;91m1392 terms\u001b[0m are not validated: \u001b[1;91m'SPP1', 'MT-RNR2', 'IGLC2', 'IGLC3', 'IGKC', 'IGHG4', 'IGLC7', 'APOC1', 'COL3A1', 'TYROBP', 'IGHG1', 'ETFBKMT', 'S100A8', 'TREM1', 'BEX5', 'CAMP', 'HLA-DRB6', 'RNU2-63P', 'CILP', 'C1S', ...\u001b[0m\n",
      "    → fix typos, remove non-existent values, or save terms via \u001b[1;96m.add_new_from_var_index()\u001b[0m\n",
      "\u001b[92m✓\u001b[0m \"patient\" is validated against \u001b[3mULabel.name\u001b[0m\n",
      "\u001b[92m✓\u001b[0m \"site\" is validated against \u001b[3mULabel.name\u001b[0m\n"
     ]
    }
   ],
   "source": [
    "try:\n",
    "    curator_new.validate()\n",
    "except ln.errors.ValidationError as error:\n",
    "    print(error)"
   ]
  },
  {
   "cell_type": "markdown",
   "id": "69f52e5e-bc1e-41fe-a2cb-1673d876ef6d",
   "metadata": {},
   "source": [
    "We see that we have \n",
    "- 1192 terms are not validated for var index\n",
    "- 5 terms not validated for patient\n",
    "- 3 terms are not validated for site"
   ]
  },
  {
   "cell_type": "markdown",
   "id": "ecbde15e-dd58-48ec-b727-a9d91044cdaa",
   "metadata": {},
   "source": [
    "We can add those terms directly as:"
   ]
  },
  {
   "cell_type": "code",
   "execution_count": null,
   "id": "f883f782-1b04-454c-b24b-d1f3e2f18f76",
   "metadata": {},
   "outputs": [],
   "source": [
    "curator_new.add_new_from_var_index()\n",
    "# note: # we are not including the 16 columns that are not validated below to keep the schema definition succinct"
   ]
  },
  {
   "cell_type": "code",
   "execution_count": 25,
   "id": "f5be0243-4155-437f-a9c5-48fdb631357e",
   "metadata": {},
   "outputs": [],
   "source": [
    "curator_new.add_new_from(\"patient\")\n",
    "curator_new.add_new_from(\"site\")"
   ]
  },
  {
   "cell_type": "code",
   "execution_count": null,
   "id": "1f82f2b5-4f7c-416a-bd09-436a3370b71a",
   "metadata": {},
   "outputs": [],
   "source": [
    "adata_artifact_curated = curator_new.save_artifact()"
   ]
  },
  {
   "cell_type": "code",
   "execution_count": null,
   "id": "2bfab58b-875d-4d85-84d5-817753e31fc2",
   "metadata": {},
   "outputs": [],
   "source": [
    "adata_artifact_curated.describe()"
   ]
  },
  {
   "cell_type": "markdown",
   "id": "88ab4062-1928-4e79-8320-a9a9fc9e6363",
   "metadata": {},
   "source": [
    "### We can annotate our processed adata artifact with labels and Features\n",
    "---"
   ]
  },
  {
   "cell_type": "markdown",
   "id": "fbe79cba-f36d-405a-8b1e-e3af779cfee0",
   "metadata": {},
   "source": [
    "#### Labels"
   ]
  },
  {
   "cell_type": "code",
   "execution_count": null,
   "id": "2f9964c1-5ebe-46a9-abdc-a41e7eacc2f4",
   "metadata": {},
   "outputs": [],
   "source": [
    "## now annotate it as Filtered\n",
    "filtered_status = ln.ULabel.get(name=\"Filtered\")"
   ]
  },
  {
   "cell_type": "code",
   "execution_count": null,
   "id": "4bcfdcd2-f67b-482a-ac89-222f70c5c501",
   "metadata": {},
   "outputs": [],
   "source": [
    "# add this raw Label to the artifact\n",
    "adata_artifact_curated.ulabels.add(filtered_status)"
   ]
  },
  {
   "cell_type": "code",
   "execution_count": null,
   "id": "fb2a88cb-1173-432e-858b-a01ba5e486c3",
   "metadata": {},
   "outputs": [],
   "source": [
    "adata_artifact_curated.describe()"
   ]
  },
  {
   "cell_type": "markdown",
   "id": "c096906e-b6e7-4938-8a17-5c74858a6d07",
   "metadata": {},
   "source": [
    "Similary we can add ULabels from bionty registry"
   ]
  },
  {
   "cell_type": "code",
   "execution_count": null,
   "id": "95b057d6-2a20-49cd-ae1b-7b8427762f42",
   "metadata": {},
   "outputs": [],
   "source": [
    "# Tissue\n",
    "tissue_breast = bt.Tissue.from_source(name=\"breast\").save()\n",
    "tissue_lymph = bt.Tissue.from_source(name=\"lymph node\").save()\n",
    "\n",
    "adata_artifact_curated.tissues.add(tissue_breast)\n",
    "adata_artifact_curated.tissues.add(tissue_lymph)\n",
    "\n",
    "# Disease \n",
    "disease = bt.Disease.from_source(name=\"breast cancer\").save()\n",
    "adata_artifact_curated.diseases.add(disease)"
   ]
  },
  {
   "cell_type": "code",
   "execution_count": null,
   "id": "ba81660e-fa2a-4317-882e-d0d811d2015f",
   "metadata": {},
   "outputs": [],
   "source": [
    "adata_artifact_curated.describe()"
   ]
  },
  {
   "cell_type": "markdown",
   "id": "94f3aa60-854a-47bd-8a00-26f98dce61e3",
   "metadata": {},
   "source": [
    "#### Features"
   ]
  },
  {
   "cell_type": "markdown",
   "id": "fe36bbf2-101d-404b-b325-80c1e1c721a0",
   "metadata": {},
   "source": [
    "We can also annotate datasets by features. Here we are reusing the features we had defined earlier."
   ]
  },
  {
   "cell_type": "code",
   "execution_count": 53,
   "id": "c7eec8e1-6dd8-4580-b24e-d796013fb1a8",
   "metadata": {},
   "outputs": [],
   "source": [
    "# we can now annotate our artifact\n",
    "adata_artifact_curated.features.add_values(\n",
    "    {\n",
    "        \"experiment\": \"Breast Cancer scRNA-seq Experiment\",\n",
    "        \"disease\": disease,\n",
    "        \"author\": \"Xu K\"\n",
    "    }\n",
    ")"
   ]
  },
  {
   "cell_type": "markdown",
   "id": "a82278fe-fc27-44f2-b949-f46de304980e",
   "metadata": {},
   "source": [
    "Maybe we want to add a few more features"
   ]
  },
  {
   "cell_type": "code",
   "execution_count": null,
   "id": "6bdce888-7c32-4200-a65f-20c19460446f",
   "metadata": {},
   "outputs": [],
   "source": [
    "ln.Feature(name=\"n_obs\", dtype=int).save()\n",
    "ln.Feature(name=\"n_genes\", dtype=int).save()"
   ]
  },
  {
   "cell_type": "code",
   "execution_count": 56,
   "id": "fad53497-3c2c-494c-ae52-88073e39a8df",
   "metadata": {},
   "outputs": [],
   "source": [
    "# we can now annotate our artifact\n",
    "adata_artifact_curated.features.add_values(\n",
    "    {\n",
    "        \"n_obs\": adata.shape[0],\n",
    "        \"n_genes\": adata.shape[1],\n",
    "    }\n",
    ")"
   ]
  },
  {
   "cell_type": "code",
   "execution_count": null,
   "id": "e8b318d0-0e17-4f9f-bea2-910d7cb16c7c",
   "metadata": {},
   "outputs": [],
   "source": [
    "adata_artifact_curated.describe()"
   ]
  },
  {
   "cell_type": "code",
   "execution_count": null,
   "id": "fabae0c4-5c39-4cbb-9eac-be9479ea4a80",
   "metadata": {},
   "outputs": [],
   "source": [
    "adata_artifact_curated.view_lineage()"
   ]
  },
  {
   "cell_type": "code",
   "execution_count": null,
   "id": "ac2723e9-64af-415a-b619-e03959081ab7",
   "metadata": {},
   "outputs": [],
   "source": [
    "ln.Artifact.features.filter(experiment__icontains=\"Breast Cancer\").df()"
   ]
  },
  {
   "cell_type": "code",
   "execution_count": null,
   "id": "4274fc83-44b9-41d8-b97d-03722104f73c",
   "metadata": {},
   "outputs": [],
   "source": [
    "project = ln.Project(name=\"Breast Cancer scRNA-seq Project\")"
   ]
  },
  {
   "cell_type": "markdown",
   "id": "432e607e-466c-4cc4-bf15-70648c93cf7a",
   "metadata": {},
   "source": [
    "We see that our artifacts are all saved under the project"
   ]
  },
  {
   "cell_type": "code",
   "execution_count": null,
   "id": "149498a9-bbb6-4b75-8bea-84b990dea56f",
   "metadata": {},
   "outputs": [],
   "source": [
    "project.artifacts.df()"
   ]
  },
  {
   "cell_type": "code",
   "execution_count": 27,
   "id": "bb503ffd",
   "metadata": {},
   "outputs": [
    {
     "name": "stdout",
     "output_type": "stream",
     "text": [
      "\u001b[94m•\u001b[0m please hit CMD + s to save the notebook in your editor .. \u001b[92m✓\u001b[0m\n",
      "\u001b[93m!\u001b[0m cells [(5, 13), (14, 6), (8, 19), (20, 9), (13, 26), (27, 14), (14, 29), (29, 15), (16, 43), (43, 17), (23, None), (None, 25), (25, None), (None, None), (None, 46), (47, None), (None, None), (None, None), (None, 53), (53, None), (None, 56), (56, None), (None, None), (None, None), (None, None)] were not run consecutively\n",
      "\u001b[92m→\u001b[0m finished Run('TyOLdmyE') after 4m at 2025-03-25 21:25:54 UTC\n",
      "\u001b[92m→\u001b[0m go to: https://lamin.ai/laminlabs/lamindata/transform/WNVvHmeVnnxb0000\n",
      "\u001b[92m→\u001b[0m to update your notebook from the CLI, run: lamin save /Users/paulinampaiz/Desktop/myLamin_local/Xu_2.ipynb\n"
     ]
    }
   ],
   "source": [
    "ln.finish()"
   ]
  }
 ],
 "metadata": {
  "kernelspec": {
   "display_name": "lamin",
   "language": "python",
   "name": "python3"
  },
  "language_info": {
   "codemirror_mode": {
    "name": "ipython",
    "version": 3
   },
   "file_extension": ".py",
   "mimetype": "text/x-python",
   "name": "python",
   "nbconvert_exporter": "python",
   "pygments_lexer": "ipython3",
   "version": "3.12.9"
  }
 },
 "nbformat": 4,
 "nbformat_minor": 5
}
