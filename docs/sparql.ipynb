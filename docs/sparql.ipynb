{
 "cells": [
  {
   "cell_type": "markdown",
   "metadata": {},
   "source": [
    "# Using SPARQL with lamindb"
   ]
  },
  {
   "cell_type": "markdown",
   "metadata": {},
   "source": [
    "SPARQL is a query language used to retrieve and manipulate data stored in Resource Description Framework (RDF) format.\n",
    "In this tutorial, we demonstrate how Bionty ontologies can be queried with SPARQL."
   ]
  },
  {
   "cell_type": "code",
   "execution_count": null,
   "metadata": {},
   "outputs": [],
   "source": [
    "import warnings\n",
    "warnings.filterwarnings(\"ignore\")"
   ]
  },
  {
   "cell_type": "code",
   "execution_count": null,
   "metadata": {},
   "outputs": [],
   "source": [
    "!lamin load laminlabs/cellxgene"
   ]
  },
  {
   "cell_type": "code",
   "execution_count": null,
   "metadata": {},
   "outputs": [],
   "source": [
    "import json\n",
    "import bionty as bt\n",
    "\n",
    "from rdflib import Graph, Literal, RDF, URIRef, Namespace, OWL, RDFS"
   ]
  },
  {
   "cell_type": "markdown",
   "metadata": {},
   "source": [
    "Generally, we need to build a directed RDF Graph composed of triple statements.\n",
    "Such a  graph statement is represented by: 1) a node for the subject, 2) an arc that goes from a subject to an object for the predicate, and 3) a node for the object.\n",
    "Each of the three parts can be identified by a URI.\n",
    "\n",
    "To obtain the necessary information to build a graph from a lamindb registry, we can either use the registry DataFrame or a public registry Pronto object as an intermediate."
   ]
  },
  {
   "cell_type": "markdown",
   "metadata": {},
   "source": [
    "## DataFrame"
   ]
  },
  {
   "cell_type": "code",
   "execution_count": null,
   "metadata": {},
   "outputs": [],
   "source": [
    "diseases = bt.Disease.df()\n",
    "diseases.head()"
   ]
  },
  {
   "cell_type": "code",
   "execution_count": null,
   "metadata": {},
   "outputs": [],
   "source": [
    "rdf_graph = Graph()\n",
    "\n",
    "namespace = URIRef(\"http://sparql-example.org/\")\n",
    "\n",
    "# Convert DataFrame to RDF by generating triples\n",
    "for _, row in diseases.iterrows():\n",
    "    subject = URIRef(namespace + str(row['ontology_id']))\n",
    "    rdf_graph.add((subject, RDF.type, URIRef(namespace + \"Disease\")))\n",
    "    rdf_graph.add((subject, URIRef(namespace + \"name\"), Literal(row['name'])))\n",
    "    rdf_graph.add((subject, URIRef(namespace + \"description\"), Literal(row['description'])))\n",
    "\n",
    "query = \"\"\"\n",
    "SELECT ?name ?description\n",
    "WHERE {\n",
    "  ?disease a <http://sparql-example.org/Disease> .\n",
    "  ?disease <http://sparql-example.org/name> ?name .\n",
    "  ?disease <http://sparql-example.org/description> ?description .\n",
    "}\n",
    "LIMIT 5\n",
    "\"\"\"\n",
    "\n",
    "for row in rdf_graph.query(query):\n",
    "    print(f\"Name: {row.name}, Description: {row.description}\")"
   ]
  },
  {
   "cell_type": "markdown",
   "metadata": {},
   "source": [
    "## Pronto"
   ]
  },
  {
   "cell_type": "code",
   "execution_count": null,
   "metadata": {},
   "outputs": [],
   "source": [
    "# Currently only public supports `to_pronto`. Maybe pydantic helps with serializing all registry to json?\n",
    "disease_pronto = bt.Disease.public().to_pronto()\n",
    "\n",
    "with open(\"disease.json\", \"wb\") as f:\n",
    "    disease_pronto.dump(f, format=\"json\")\n",
    "    \n",
    "with open(\"disease.json\", \"r\") as f:\n",
    "    disease_data = json.load(f)"
   ]
  },
  {
   "cell_type": "code",
   "execution_count": null,
   "metadata": {},
   "outputs": [],
   "source": [
    "rdf_graph = Graph()\n",
    "\n",
    "namespace = Namespace(\"http://example.org/ontology/\")\n",
    "DEF = Namespace(\"http://example.org/ontology/definition/\")\n",
    "\n",
    "# Convert the JSON data into RDF by generating triplets\n",
    "for graph in disease_data[\"graphs\"]:\n",
    "    for node in graph[\"nodes\"]:\n",
    "        term_uri = URIRef(node[\"id\"])\n",
    "        rdf_graph.add((term_uri, RDF.type, OWL.Class))\n",
    "\n",
    "        if \"lbl\" in node:\n",
    "            rdf_graph.add((term_uri, RDFS.label, Literal(node[\"lbl\"])))\n",
    "\n",
    "        if node.get(\"meta\") and node[\"meta\"].get(\"definition\") and node[\"meta\"][\"definition\"].get(\"val\"):\n",
    "            definition = node[\"meta\"][\"definition\"][\"val\"]\n",
    "            rdf_graph.add((term_uri, DEF.definition, Literal(definition)))\n",
    "\n",
    "query = \"\"\"\n",
    "PREFIX rdf: <http://www.w3.org/1999/02/22-rdf-syntax-ns#>\n",
    "PREFIX rdfs: <http://www.w3.org/2000/01/rdf-schema#>\n",
    "PREFIX owl: <http://www.w3.org/2002/07/owl#>\n",
    "PREFIX def: <http://example.org/ontology/definition/>\n",
    "\n",
    "SELECT ?label ?definition\n",
    "WHERE {\n",
    "  ?term rdf:type owl:Class .\n",
    "  OPTIONAL { ?term rdfs:label ?label }\n",
    "  OPTIONAL { ?term def:definition ?definition }\n",
    "}\n",
    "LIMIT 5\n",
    "OFFSET 9999\n",
    "\"\"\"\n",
    "\n",
    "results = rdf_graph.query(query)\n",
    "\n",
    "for row in results:\n",
    "    label = row.label if row.label else \"No label available\"\n",
    "    definition = row.definition if row.definition else \"None\"\n",
    "    print(f\"Name: {label}, Description: {definition}\")"
   ]
  }
 ],
 "metadata": {
  "kernelspec": {
   "display_name": "lamindb",
   "language": "python",
   "name": "python3"
  },
  "language_info": {
   "codemirror_mode": {
    "name": "ipython",
    "version": 3
   },
   "file_extension": ".py",
   "mimetype": "text/x-python",
   "name": "python",
   "nbconvert_exporter": "python",
   "pygments_lexer": "ipython3",
   "version": "3.11.7"
  }
 },
 "nbformat": 4,
 "nbformat_minor": 2
}
