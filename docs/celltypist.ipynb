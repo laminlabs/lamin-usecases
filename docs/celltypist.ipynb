{
 "cells": [
  {
   "cell_type": "markdown",
   "metadata": {},
   "source": [
    "[![Jupyter Notebook](https://img.shields.io/badge/Source%20on%20GitHub-orange)](https://github.com/laminlabs/lamin-usecases/blob/main/docs/celltypist.ipynb)\n",
    "[![Binder](https://mybinder.org/badge_logo.svg)](https://mybinder.org/v2/gh/laminlabs/lamin-usecases/main?labpath=lamin-usecases%2Fdocs%2Fcelltypist.ipynb)"
   ]
  },
  {
   "attachments": {},
   "cell_type": "markdown",
   "metadata": {},
   "source": [
    "# CellTypist"
   ]
  },
  {
   "attachments": {},
   "cell_type": "markdown",
   "metadata": {},
   "source": [
    "Cell types classify cells based on public and private knowledge from studying transcription, morphology, function & other properties.\n",
    "Established cell types have well-characterized markers and properties; however, cell subtypes and states are continuously being discovered, refined and better understood.\n",
    "\n",
    "In this notebook, we register the immune cell type vocabulary from [CellTypist](https://www.celltypist.org), a computational tool used for cell type classification in scRNA-seq data.\n",
    "\n",
    "In the following [Standardize metadata on-the-fly](analysis-registries) notebook, we'll demonstrate how to curate datasets analyzed with CellTypist enrichment analysis and track the dataset with LaminDB."
   ]
  },
  {
   "attachments": {},
   "cell_type": "markdown",
   "metadata": {},
   "source": [
    "## Setup"
   ]
  },
  {
   "cell_type": "markdown",
   "metadata": {},
   "source": [
    "Install the `lamindb` Python package:\n",
    "```shell\n",
    "pip install 'lamindb[jupyter,bionty]'\n",
    "```"
   ]
  },
  {
   "cell_type": "code",
   "execution_count": null,
   "metadata": {
    "tags": [
     "hide-output"
    ]
   },
   "outputs": [],
   "source": [
    "!lamin load use-cases-registries"
   ]
  },
  {
   "cell_type": "code",
   "execution_count": null,
   "metadata": {
    "tags": [
     "hide-cell"
    ]
   },
   "outputs": [],
   "source": [
    "# filter warnings from celltypist\n",
    "import warnings\n",
    "\n",
    "warnings.filterwarnings(\"ignore\", message=\".*The 'nopython' keyword.*\")"
   ]
  },
  {
   "cell_type": "code",
   "execution_count": null,
   "metadata": {},
   "outputs": [],
   "source": [
    "import lamindb as ln\n",
    "import bionty as bt"
   ]
  },
  {
   "attachments": {},
   "cell_type": "markdown",
   "metadata": {},
   "source": [
    "## Access CellTypist records ![](https://img.shields.io/badge/Access-10b981) "
   ]
  },
  {
   "attachments": {},
   "cell_type": "markdown",
   "metadata": {},
   "source": [
    "As a first step we will read in CellTypist's immune cell encyclopedia"
   ]
  },
  {
   "cell_type": "code",
   "execution_count": null,
   "metadata": {},
   "outputs": [],
   "source": [
    "import pandas as pd\n",
    "description = \"CellTypist Pan Immune Atlas v2: basic cell type information\"\n",
    "celltypist_source_v2_url = \"https://github.com/Teichlab/celltypist_wiki/raw/main/atlases/Pan_Immune_CellTypist/v2/tables/Basic_celltype_information.xlsx\"\n",
    "\n",
    "celltypist_df = pd.read_excel(celltypist_source_v2_url)"
   ]
  },
  {
   "attachments": {},
   "cell_type": "markdown",
   "metadata": {},
   "source": [
    "It provides an `ontology_id` of the public Cell Ontology for the majority of records."
   ]
  },
  {
   "cell_type": "code",
   "execution_count": null,
   "metadata": {},
   "outputs": [],
   "source": [
    "celltypist_df.head()"
   ]
  },
  {
   "attachments": {},
   "cell_type": "markdown",
   "metadata": {},
   "source": [
    "The \"Cell Ontology ID\" is associated with multiple \"Low-hierarchy cell types\":"
   ]
  },
  {
   "cell_type": "code",
   "execution_count": null,
   "metadata": {},
   "outputs": [],
   "source": [
    "celltypist_df.set_index([\"Cell Ontology ID\", \"Low-hierarchy cell types\"]).head(10)"
   ]
  },
  {
   "attachments": {},
   "cell_type": "markdown",
   "metadata": {},
   "source": [
    "## Validate CellTypist records ![](https://img.shields.io/badge/Validate-10b981) \n",
    "\n",
    "For any cell type record that can be validated against the public Cell Ontology, we'd like to ensure that it's actually validated.\n",
    "\n",
    "This will avoid that we'll refer to the same cell type with different identifiers.\n",
    "\n",
    "We need a `Bionty` object for this:"
   ]
  },
  {
   "cell_type": "code",
   "execution_count": null,
   "metadata": {},
   "outputs": [],
   "source": [
    "bionty = bt.CellType.public()\n",
    "bionty"
   ]
  },
  {
   "cell_type": "markdown",
   "metadata": {},
   "source": [
    "We can now validate the `\"Cell Ontology ID\"` column:"
   ]
  },
  {
   "cell_type": "code",
   "execution_count": null,
   "metadata": {},
   "outputs": [],
   "source": [
    "bionty.inspect(celltypist_df[\"Cell Ontology ID\"], bionty.ontology_id);"
   ]
  },
  {
   "attachments": {},
   "cell_type": "markdown",
   "metadata": {},
   "source": [
    "This looks good!\n",
    "\n",
    "But when inspecting the names, most of them don't validate:"
   ]
  },
  {
   "cell_type": "code",
   "execution_count": null,
   "metadata": {},
   "outputs": [],
   "source": [
    "bionty.inspect(celltypist_df[\"Low-hierarchy cell types\"], bionty.name);"
   ]
  },
  {
   "attachments": {},
   "cell_type": "markdown",
   "metadata": {},
   "source": [
    "A search tells us that terms that are named in plural in Cell Typist occur with a name in singular in the Cell Ontology: "
   ]
  },
  {
   "cell_type": "code",
   "execution_count": null,
   "metadata": {},
   "outputs": [],
   "source": [
    "celltypist_df[\"Low-hierarchy cell types\"][0]"
   ]
  },
  {
   "cell_type": "code",
   "execution_count": null,
   "metadata": {},
   "outputs": [],
   "source": [
    "bionty.search(celltypist_df[\"Low-hierarchy cell types\"][0]).head(2)"
   ]
  },
  {
   "attachments": {},
   "cell_type": "markdown",
   "metadata": {},
   "source": [
    "Let's try to strip `\"s\"` and inspect if more names are now validated. Yes, there are!"
   ]
  },
  {
   "cell_type": "code",
   "execution_count": null,
   "metadata": {},
   "outputs": [],
   "source": [
    "bionty.inspect(\n",
    "    [i.rstrip(\"s\") for i in celltypist_df[\"Low-hierarchy cell types\"]],\n",
    "    bionty.name,\n",
    ");"
   ]
  },
  {
   "attachments": {},
   "cell_type": "markdown",
   "metadata": {},
   "source": [
    "Every \"low-hierarchy cell type\" has an ontology id and most \"high-hierarchy cell types\" also appear as \"low-hierarchy cell types\" in the Cell Typist table. Four, however, don't, and therefore don't have an ontology ID."
   ]
  },
  {
   "cell_type": "code",
   "execution_count": null,
   "metadata": {},
   "outputs": [],
   "source": [
    "high_terms = celltypist_df[\"High-hierarchy cell types\"].unique()\n",
    "low_terms = celltypist_df[\"Low-hierarchy cell types\"].unique()\n",
    "\n",
    "high_terms_nonval = set(high_terms).difference(low_terms)\n",
    "high_terms_nonval"
   ]
  },
  {
   "attachments": {},
   "cell_type": "markdown",
   "metadata": {},
   "source": [
    "## Register CellTypist records ![](https://img.shields.io/badge/Register-10b981) "
   ]
  },
  {
   "attachments": {},
   "cell_type": "markdown",
   "metadata": {},
   "source": [
    "Let's first add the \"High-hierarchy cell types\" as a column `\"parent\"`.\n",
    "\n",
    "This enables LaminDB to populate the `parents` and `children` fields, which will enable you to query for hierarchical relationships."
   ]
  },
  {
   "cell_type": "code",
   "execution_count": null,
   "metadata": {},
   "outputs": [],
   "source": [
    "celltypist_df[\"parent\"] = celltypist_df.pop(\"High-hierarchy cell types\")\n",
    "\n",
    "# if high and low terms are the same, no parents\n",
    "celltypist_df.loc[\n",
    "    (celltypist_df[\"parent\"] == celltypist_df[\"Low-hierarchy cell types\"]), \"parent\"\n",
    "] = None\n",
    "\n",
    "# rename columns, drop markers\n",
    "celltypist_df.drop(columns=[\"Curated markers\"], inplace=True)\n",
    "celltypist_df.rename(\n",
    "    columns={\"Low-hierarchy cell types\": \"ct_name\", \"Cell Ontology ID\": \"ontology_id\"},\n",
    "    inplace=True,\n",
    ")\n",
    "celltypist_df.columns = celltypist_df.columns.str.lower()\n",
    "\n",
    "# add standardize names for each ontology_id\n",
    "celltypist_df[\"name\"] = bionty.df().loc[celltypist_df[\"ontology_id\"]].name.values"
   ]
  },
  {
   "cell_type": "code",
   "execution_count": null,
   "metadata": {},
   "outputs": [],
   "source": [
    "celltypist_df.head(2)"
   ]
  },
  {
   "attachments": {},
   "cell_type": "markdown",
   "metadata": {},
   "source": [
    "Now, let's create records from the public ontology:"
   ]
  },
  {
   "cell_type": "code",
   "execution_count": null,
   "metadata": {},
   "outputs": [],
   "source": [
    "public_records = bt.CellType.from_values(\n",
    "    celltypist_df.ontology_id, bt.CellType.ontology_id\n",
    ")\n",
    "ln.save(public_records)"
   ]
  },
  {
   "attachments": {},
   "cell_type": "markdown",
   "metadata": {},
   "source": [
    "Let's now amend public ontology records so that they maintain additional annotations that Cell Typist might have."
   ]
  },
  {
   "cell_type": "code",
   "execution_count": null,
   "metadata": {
    "tags": [
     "hide-output"
    ]
   },
   "outputs": [],
   "source": [
    "public_records_dict = {r.ontology_id: r for r in public_records}\n",
    "\n",
    "for _, row in celltypist_df.iterrows():\n",
    "    record = public_records_dict[row[\"ontology_id\"]]\n",
    "    try:\n",
    "        record.add_synonym(row[\"ct_name\"])\n",
    "    except SystemExit:\n",
    "        pass"
   ]
  },
  {
   "attachments": {},
   "cell_type": "markdown",
   "metadata": {},
   "source": [
    "### Add parent-child relationship of the records from Celltypist"
   ]
  },
  {
   "attachments": {},
   "cell_type": "markdown",
   "metadata": {},
   "source": [
    "We still need to add the renaming 4 High hierarchy terms:"
   ]
  },
  {
   "cell_type": "code",
   "execution_count": null,
   "metadata": {},
   "outputs": [],
   "source": [
    "list(high_terms_nonval)"
   ]
  },
  {
   "attachments": {},
   "cell_type": "markdown",
   "metadata": {},
   "source": [
    "Let's get the top hits from a search:"
   ]
  },
  {
   "cell_type": "code",
   "execution_count": null,
   "metadata": {},
   "outputs": [],
   "source": [
    "for term in list(high_terms_nonval):\n",
    "    print(f\"Term: {term}\")\n",
    "    display(bionty.search(term).head(2))"
   ]
  },
  {
   "attachments": {},
   "cell_type": "markdown",
   "metadata": {},
   "source": [
    "So we decide to:\n",
    "\n",
    "- Add the \"T cells\" to the synonyms of the public \"T cell\" record\n",
    "- Create the remaining 3 terms only using their names (we think \"B cell flow\" shouldn't be identified with \"B cell\")"
   ]
  },
  {
   "cell_type": "code",
   "execution_count": null,
   "metadata": {},
   "outputs": [],
   "source": [
    "for name in high_terms_nonval:\n",
    "    if name == \"T cells\":\n",
    "        record = bt.CellType.from_public(name=\"T cell\")\n",
    "        record.add_synonym(name)\n",
    "        record.save()\n",
    "    elif name == \"Erythroid\":\n",
    "        record = bt.CellType.from_public(name=\"erythroid lineage cell\")\n",
    "        record.add_synonym(name)\n",
    "        record.save()\n",
    "    else:\n",
    "        record = bt.CellType(name=name)\n",
    "        record.save()"
   ]
  },
  {
   "cell_type": "code",
   "execution_count": null,
   "metadata": {},
   "outputs": [],
   "source": [
    "high_terms_nonval"
   ]
  },
  {
   "cell_type": "code",
   "execution_count": null,
   "metadata": {},
   "outputs": [],
   "source": [
    "bt.CellType(name=\"B-cell lineage\").save()"
   ]
  },
  {
   "attachments": {},
   "cell_type": "markdown",
   "metadata": {},
   "source": [
    "Now let's add the parent records:"
   ]
  },
  {
   "cell_type": "code",
   "execution_count": null,
   "metadata": {},
   "outputs": [],
   "source": [
    "celltypist_df[\"parent\"] = bt.CellType.standardize(celltypist_df[\"parent\"])"
   ]
  },
  {
   "cell_type": "code",
   "execution_count": null,
   "metadata": {},
   "outputs": [],
   "source": [
    "for _, row in celltypist_df.iterrows():\n",
    "    record = public_records_dict[row[\"ontology_id\"]]\n",
    "    if row[\"parent\"] is not None:\n",
    "        parent_record = bt.CellType.filter(name=row[\"parent\"]).one()\n",
    "        record.parents.add(parent_record)"
   ]
  },
  {
   "attachments": {},
   "cell_type": "markdown",
   "metadata": {},
   "source": [
    "## Access the registry"
   ]
  },
  {
   "attachments": {},
   "cell_type": "markdown",
   "metadata": {},
   "source": [
    "The previously added CellTypist ontology registry is now available in LaminDB.\n",
    "To retrieve the full ontology table as a Pandas DataFrame we can use `.filter`:"
   ]
  },
  {
   "cell_type": "code",
   "execution_count": null,
   "metadata": {},
   "outputs": [],
   "source": [
    "bt.CellType.df()"
   ]
  },
  {
   "attachments": {},
   "cell_type": "markdown",
   "metadata": {},
   "source": [
    "This enables us to look for cell types by creating a lookup object from our new `CellType` registry."
   ]
  },
  {
   "cell_type": "code",
   "execution_count": null,
   "metadata": {},
   "outputs": [],
   "source": [
    "db_lookup = bt.CellType.lookup()"
   ]
  },
  {
   "cell_type": "code",
   "execution_count": null,
   "metadata": {},
   "outputs": [],
   "source": [
    "db_lookup.memory_b_cell"
   ]
  },
  {
   "cell_type": "markdown",
   "metadata": {},
   "source": [
    "See cell type hierarchy:"
   ]
  },
  {
   "cell_type": "code",
   "execution_count": null,
   "metadata": {},
   "outputs": [],
   "source": [
    "db_lookup.memory_b_cell.view_parents()"
   ]
  },
  {
   "attachments": {},
   "cell_type": "markdown",
   "metadata": {},
   "source": [
    "Access parents of a record:"
   ]
  },
  {
   "cell_type": "code",
   "execution_count": null,
   "metadata": {},
   "outputs": [],
   "source": [
    "db_lookup.memory_b_cell.parents.list()"
   ]
  },
  {
   "cell_type": "markdown",
   "metadata": {},
   "source": [
    "Move on to the next registry: [GO pathways](enrichr)"
   ]
  }
 ],
 "metadata": {
  "citation-manager": {
   "items": {}
  },
  "kernelspec": {
   "display_name": "Python 3 (ipykernel)",
   "language": "python",
   "name": "python3"
  },
  "language_info": {
   "codemirror_mode": {
    "name": "ipython",
    "version": 3
   },
   "file_extension": ".py",
   "mimetype": "text/x-python",
   "name": "python",
   "nbconvert_exporter": "python",
   "pygments_lexer": "ipython3",
   "version": "3.10.13"
  },
  "nbproject": {
   "id": "s5mkN5NQ1ttI",
   "parent": null,
   "pypackage": null,
   "time_init": "2023-05-29T10:25:04.851133+00:00",
   "user_handle": "sunnyosun",
   "user_id": "kmvZDIX9",
   "user_name": "Sunny Sun",
   "version": "0"
  }
 },
 "nbformat": 4,
 "nbformat_minor": 4
}
