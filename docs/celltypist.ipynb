{
 "cells": [
  {
   "attachments": {},
   "cell_type": "markdown",
   "metadata": {},
   "source": [
    "# Manage a cell type registry"
   ]
  },
  {
   "attachments": {},
   "cell_type": "markdown",
   "metadata": {},
   "source": [
    "## Background"
   ]
  },
  {
   "attachments": {},
   "cell_type": "markdown",
   "metadata": {},
   "source": [
    "Cell types classify cells based on public and private knowledge gained from studying gene expression patterns, morphology, functional & other properties.\n",
    "\n",
    "Long established cell types have known markers and properties but cell subtypes and states are continuously being discovered, better understood and knowledge gets refined.\n",
    "\n",
    "In this notebook, we use [CellTypist](https://www.celltypist.org), a computational tool for cell type classification in scRNA-seq data. It assigns cell types based on gene expression profiles."
   ]
  },
  {
   "attachments": {},
   "cell_type": "markdown",
   "metadata": {},
   "source": [
    "First, we create a cell type registry for cell types supported by CellTypist.\n",
    "\n",
    "Then, we'll use CellTypist to classify cell types of a previously unannotated dataset and ingest the dataset with LaminDB.\n",
    "\n",
    "Finally, we will demonstrate how to fetch datasets with cell type queries using LaminDB."
   ]
  },
  {
   "attachments": {},
   "cell_type": "markdown",
   "metadata": {},
   "source": [
    "## Setup"
   ]
  },
  {
   "attachments": {},
   "cell_type": "markdown",
   "metadata": {},
   "source": [
    "To run this notebook, you need to load a LaminDB instance that has the `bionty` schema mounted.\n",
    "\n",
    "Here, we'll create a test instance (skip if you'd like to run it using your instance):"
   ]
  },
  {
   "cell_type": "code",
   "execution_count": null,
   "metadata": {
    "tags": [
     "hide-cell"
    ]
   },
   "outputs": [],
   "source": [
    "!lamin init --storage ./celltypist --schema bionty"
   ]
  },
  {
   "cell_type": "code",
   "execution_count": null,
   "metadata": {
    "tags": [
     "hide-cell"
    ]
   },
   "outputs": [],
   "source": [
    "# filter warnings from celltypist\n",
    "import warnings\n",
    "\n",
    "warnings.filterwarnings(\"ignore\", message=\".*The 'nopython' keyword.*\")"
   ]
  },
  {
   "cell_type": "code",
   "execution_count": null,
   "metadata": {},
   "outputs": [],
   "source": [
    "import lamindb as ln\n",
    "import lnschema_bionty as lb\n",
    "import celltypist\n",
    "import pandas as pd\n",
    "\n",
    "lb.settings.species = \"human\"  # globally set species"
   ]
  },
  {
   "cell_type": "code",
   "execution_count": null,
   "metadata": {},
   "outputs": [],
   "source": [
    "ln.track()"
   ]
  },
  {
   "attachments": {},
   "cell_type": "markdown",
   "metadata": {},
   "source": [
    "For a start, let's take a look at the public Cell Ontology."
   ]
  },
  {
   "cell_type": "code",
   "execution_count": null,
   "metadata": {},
   "outputs": [],
   "source": [
    "celltype_bt = lb.CellType.bionty()  # equals to bionty.CellType()\n",
    "celltype_bt"
   ]
  },
  {
   "attachments": {},
   "cell_type": "markdown",
   "metadata": {},
   "source": [
    "## Create an in-house registry of CellTypist terms based on the public Cell Ontology"
   ]
  },
  {
   "attachments": {},
   "cell_type": "markdown",
   "metadata": {},
   "source": [
    "### Fetch CellTypist's immune cell encyclopedia"
   ]
  },
  {
   "attachments": {},
   "cell_type": "markdown",
   "metadata": {},
   "source": [
    "As a first step we will read in CellTypist's immune cell encyclopedia"
   ]
  },
  {
   "cell_type": "code",
   "execution_count": null,
   "metadata": {},
   "outputs": [],
   "source": [
    "description = \"CellTypist Pan Immune Atlas v2: basic cell type information\"\n",
    "celltypist_source_v2_url = \"https://github.com/Teichlab/celltypist_wiki/raw/main/atlases/Pan_Immune_CellTypist/v2/tables/Basic_celltype_information.xlsx\"\n",
    "\n",
    "# our source data\n",
    "celltypist_file = ln.File.filter(description=description).one_or_none()\n",
    "\n",
    "if celltypist_file is None:\n",
    "    celltypist_df = pd.read_excel(celltypist_source_v2_url)\n",
    "    celltypist_file = ln.File(celltypist_df).save()\n",
    "else:\n",
    "    celltypist_df = celltypist_file.load().head()"
   ]
  },
  {
   "attachments": {},
   "cell_type": "markdown",
   "metadata": {},
   "source": [
    "It provides an `ontology_id` of the public Cell Ontology for the majority of records."
   ]
  },
  {
   "cell_type": "code",
   "execution_count": null,
   "metadata": {},
   "outputs": [],
   "source": [
    "celltypist_df.head()"
   ]
  },
  {
   "attachments": {},
   "cell_type": "markdown",
   "metadata": {},
   "source": [
    "The \"Cell Ontology ID\" is associated with multiple \"Low-hierarchy cell types\":"
   ]
  },
  {
   "cell_type": "code",
   "execution_count": null,
   "metadata": {},
   "outputs": [],
   "source": [
    "celltypist_df.set_index([\"Cell Ontology ID\", \"Low-hierarchy cell types\"]).head(10)"
   ]
  },
  {
   "attachments": {},
   "cell_type": "markdown",
   "metadata": {},
   "source": [
    "### Inspect mapability with the public Cell Ontology\n",
    "\n",
    "For any cell type record that can be mapped against the public Cell Ontology, we'd like to ensure that it's actually mapped.\n",
    "\n",
    "This will avoid that we'll refer to the same cell type with different identifiers.\n",
    "\n",
    "Let's see how well the Cell Typist reference data can be mapped.\n",
    "\n",
    "All Celltypist labeled ontology IDs are mappable to the public Cell Ontology:"
   ]
  },
  {
   "cell_type": "code",
   "execution_count": null,
   "metadata": {},
   "outputs": [],
   "source": [
    "celltype_bt.inspect(celltypist_df[\"Cell Ontology ID\"], celltype_bt.ontology_id);"
   ]
  },
  {
   "attachments": {},
   "cell_type": "markdown",
   "metadata": {},
   "source": [
    "However, when inspecting the names, most of them don't match:"
   ]
  },
  {
   "cell_type": "code",
   "execution_count": null,
   "metadata": {},
   "outputs": [],
   "source": [
    "celltype_bt.inspect(celltypist_df[\"Low-hierarchy cell types\"], celltype_bt.name);"
   ]
  },
  {
   "attachments": {},
   "cell_type": "markdown",
   "metadata": {},
   "source": [
    "A search tells us that terms that are named in plural in Cell Typist occur with a name in singular in the Cell Ontology: "
   ]
  },
  {
   "cell_type": "code",
   "execution_count": null,
   "metadata": {},
   "outputs": [],
   "source": [
    "celltypist_df[\"Low-hierarchy cell types\"][0]"
   ]
  },
  {
   "cell_type": "code",
   "execution_count": null,
   "metadata": {},
   "outputs": [],
   "source": [
    "celltype_bt.search(celltypist_df[\"Low-hierarchy cell types\"][0]).head()"
   ]
  },
  {
   "attachments": {},
   "cell_type": "markdown",
   "metadata": {},
   "source": [
    "Let's try to strip `\"s\"` and inspect if more names are mappable. Yes, there are!"
   ]
  },
  {
   "cell_type": "code",
   "execution_count": null,
   "metadata": {},
   "outputs": [],
   "source": [
    "celltype_bt.inspect(\n",
    "    [i.rstrip(\"s\") for i in celltypist_df[\"Low-hierarchy cell types\"]],\n",
    "    celltype_bt.name,\n",
    ");"
   ]
  },
  {
   "attachments": {},
   "cell_type": "markdown",
   "metadata": {},
   "source": [
    "Every \"low-hierarchy cell type\" has an ontology id and most \"high-hierarchy cell types\" also appear as \"low-hierarchy cell types\" in the Cell Typist table. Four, however, don't, and therefore don't have an ontology ID."
   ]
  },
  {
   "cell_type": "code",
   "execution_count": null,
   "metadata": {},
   "outputs": [],
   "source": [
    "high_terms = celltypist_df[\"High-hierarchy cell types\"].unique()\n",
    "low_terms = celltypist_df[\"Low-hierarchy cell types\"].unique()\n",
    "\n",
    "high_terms_umapped = set(high_terms).difference(low_terms)\n",
    "high_terms_umapped"
   ]
  },
  {
   "attachments": {},
   "cell_type": "markdown",
   "metadata": {},
   "source": [
    "### Register CellTypist records in LaminDB"
   ]
  },
  {
   "attachments": {},
   "cell_type": "markdown",
   "metadata": {},
   "source": [
    "Let's first add the \"High-hierarchy cell types\" as a column `\"parent\"`.\n",
    "\n",
    "This enables LaminDB to populate the `parents` and `children` fields, which will enable you to query for hierarchical relationships."
   ]
  },
  {
   "cell_type": "code",
   "execution_count": null,
   "metadata": {},
   "outputs": [],
   "source": [
    "celltypist_df[\"parent\"] = celltypist_df.pop(\"High-hierarchy cell types\")\n",
    "\n",
    "# if high and low terms are the same, no parents\n",
    "celltypist_df.loc[\n",
    "    (celltypist_df[\"parent\"] == celltypist_df[\"Low-hierarchy cell types\"]), \"parent\"\n",
    "] = None\n",
    "\n",
    "# rename columns, drop markers\n",
    "celltypist_df.drop(columns=[\"Curated markers\"], inplace=True)\n",
    "celltypist_df.rename(\n",
    "    columns={\"Low-hierarchy cell types\": \"name\", \"Cell Ontology ID\": \"ontology_id\"},\n",
    "    inplace=True,\n",
    ")\n",
    "celltypist_df.columns = celltypist_df.columns.str.lower()"
   ]
  },
  {
   "cell_type": "code",
   "execution_count": null,
   "metadata": {},
   "outputs": [],
   "source": [
    "celltypist_df.head(2)"
   ]
  },
  {
   "attachments": {},
   "cell_type": "markdown",
   "metadata": {},
   "source": [
    "Now, let's create records from the public ontology:"
   ]
  },
  {
   "cell_type": "code",
   "execution_count": null,
   "metadata": {},
   "outputs": [],
   "source": [
    "public_records = lb.CellType.from_values(\n",
    "    celltypist_df.ontology_id, lb.CellType.ontology_id\n",
    ")"
   ]
  },
  {
   "attachments": {},
   "cell_type": "markdown",
   "metadata": {},
   "source": [
    "Let's now amend public ontology records so that they maintain additional annotations that Cell Typist might have."
   ]
  },
  {
   "cell_type": "code",
   "execution_count": null,
   "metadata": {},
   "outputs": [],
   "source": [
    "records_names = {}\n",
    "public_records_dict = {r.ontology_id: r for r in public_records}\n",
    "\n",
    "for _, row in celltypist_df.iterrows():\n",
    "    name = row[\"name\"]\n",
    "    ontology_id = row[\"ontology_id\"]\n",
    "    public_record = public_records_dict[ontology_id]\n",
    "\n",
    "    # if both name and ontology_id match public record, use public record\n",
    "    if name.lower() == public_record.name.lower():\n",
    "        records_names[name] = public_record\n",
    "        continue\n",
    "    else:  # when ontology_id matches the public record and name doesn't match\n",
    "        # if singular form of the Celltypist name matches public name\n",
    "        if name.lower().rstrip(\"s\") == public_record.name.lower():\n",
    "            # add the Celltypist name to the synonyms of the public ontology record\n",
    "            public_record.add_synonym(name)\n",
    "            records_names[name] = public_record\n",
    "            continue\n",
    "        if public_record.synonyms is not None:\n",
    "            synonyms = [s.lower() for s in public_record.synonyms.split(\"|\")]\n",
    "            # if any of the public matches celltypist name\n",
    "            if any(\n",
    "                [\n",
    "                    i.lower() in {name.lower(), name.lower().rstrip(\"s\")}\n",
    "                    for i in synonyms\n",
    "                ]\n",
    "            ):\n",
    "                # add the Celltypist name to the synonyms of the public ontology record\n",
    "                public_record.add_synonym(name)\n",
    "                records_names[name] = public_record\n",
    "                continue\n",
    "\n",
    "        # create a record only based on Celltypist metadata\n",
    "        records_names[name] = lb.CellType(\n",
    "            name=name, ontology_id=ontology_id, description=row.description\n",
    "        )"
   ]
  },
  {
   "attachments": {},
   "cell_type": "markdown",
   "metadata": {},
   "source": [
    "You can see certain records are created by adding the Celltypist name to the synonyms of the public record:"
   ]
  },
  {
   "cell_type": "code",
   "execution_count": null,
   "metadata": {},
   "outputs": [],
   "source": [
    "records_names[\"GMP\"]"
   ]
  },
  {
   "attachments": {},
   "cell_type": "markdown",
   "metadata": {},
   "source": [
    "Other records are created based on Celltypist metadata:"
   ]
  },
  {
   "cell_type": "code",
   "execution_count": null,
   "metadata": {},
   "outputs": [],
   "source": [
    "records_names[\"Age-associated B cells\"]"
   ]
  },
  {
   "attachments": {},
   "cell_type": "markdown",
   "metadata": {},
   "source": [
    "Let's save them to our database:"
   ]
  },
  {
   "cell_type": "code",
   "execution_count": null,
   "metadata": {
    "tags": [
     "hide-output"
    ]
   },
   "outputs": [],
   "source": [
    "records = set(records_names.values())\n",
    "\n",
    "ln.save(records)"
   ]
  },
  {
   "attachments": {},
   "cell_type": "markdown",
   "metadata": {},
   "source": [
    "### Add parent-child relationship of the records from Celltypist"
   ]
  },
  {
   "attachments": {},
   "cell_type": "markdown",
   "metadata": {},
   "source": [
    "We still need to add the renaming 4 High hierarchy terms:"
   ]
  },
  {
   "cell_type": "code",
   "execution_count": null,
   "metadata": {},
   "outputs": [],
   "source": [
    "list(high_terms_umapped)"
   ]
  },
  {
   "attachments": {},
   "cell_type": "markdown",
   "metadata": {},
   "source": [
    "Let's get the top hits from a search:"
   ]
  },
  {
   "cell_type": "code",
   "execution_count": null,
   "metadata": {},
   "outputs": [],
   "source": [
    "for term in list(high_terms_umapped):\n",
    "    print(f\"Term: {term}\")\n",
    "    display(celltype_bt.search(term).head(1))"
   ]
  },
  {
   "attachments": {},
   "cell_type": "markdown",
   "metadata": {},
   "source": [
    "So we decide to:\n",
    "\n",
    "- Add the \"T cells\" to the synonyms of the public \"T cell\" record\n",
    "- Create the remaining 3 terms only using their names (we think \"B cell lineage\" shouldn't be identified with \"B cell\")"
   ]
  },
  {
   "cell_type": "code",
   "execution_count": null,
   "metadata": {},
   "outputs": [],
   "source": [
    "for name in high_terms_umapped:\n",
    "    if name == \"T cells\":\n",
    "        record = lb.CellType.from_bionty(name=\"T cell\")\n",
    "        record.add_synonym(name)\n",
    "        record.save()\n",
    "    else:\n",
    "        record = lb.CellType(name=name)\n",
    "        record.save()\n",
    "    records_names[name] = record"
   ]
  },
  {
   "attachments": {},
   "cell_type": "markdown",
   "metadata": {},
   "source": [
    "Now let's add the parent records:"
   ]
  },
  {
   "cell_type": "code",
   "execution_count": null,
   "metadata": {},
   "outputs": [],
   "source": [
    "for _, row in celltypist_df.iterrows():\n",
    "    record = records_names[row[\"name\"]]\n",
    "    if row[\"parent\"] is not None:\n",
    "        parent_record = records_names[row[\"parent\"]]\n",
    "        record.parents.add(parent_record)"
   ]
  },
  {
   "attachments": {},
   "cell_type": "markdown",
   "metadata": {},
   "source": [
    "## Access the in-house CellType registry"
   ]
  },
  {
   "attachments": {},
   "cell_type": "markdown",
   "metadata": {},
   "source": [
    "The previously added CellTypist ontology registry is now available in LaminDB.\n",
    "To retrieve the full ontology table as a Pandas DataFrame we can use `.filter`:"
   ]
  },
  {
   "cell_type": "code",
   "execution_count": null,
   "metadata": {},
   "outputs": [],
   "source": [
    "lb.CellType.filter().df()"
   ]
  },
  {
   "attachments": {},
   "cell_type": "markdown",
   "metadata": {},
   "source": [
    "This enables us to look for cell types by creating a lookup object from our new `CellType` registry."
   ]
  },
  {
   "cell_type": "code",
   "execution_count": null,
   "metadata": {},
   "outputs": [],
   "source": [
    "db_lookup = lb.CellType.lookup()"
   ]
  },
  {
   "cell_type": "code",
   "execution_count": null,
   "metadata": {},
   "outputs": [],
   "source": [
    "db_lookup.memory_b_cell"
   ]
  },
  {
   "cell_type": "markdown",
   "metadata": {},
   "source": [
    "See cell type hierarchy:"
   ]
  },
  {
   "cell_type": "code",
   "execution_count": null,
   "metadata": {},
   "outputs": [],
   "source": [
    "db_lookup.memory_b_cell.view_parents()"
   ]
  },
  {
   "attachments": {},
   "cell_type": "markdown",
   "metadata": {},
   "source": [
    "Access parents of a record:"
   ]
  },
  {
   "cell_type": "code",
   "execution_count": null,
   "metadata": {},
   "outputs": [],
   "source": [
    "db_lookup.memory_b_cell.parents.all()"
   ]
  },
  {
   "cell_type": "code",
   "execution_count": null,
   "metadata": {},
   "outputs": [],
   "source": [
    "db_lookup.memory_b_cell.parents.all()[1].parents.all()"
   ]
  },
  {
   "attachments": {},
   "cell_type": "markdown",
   "metadata": {
    "tags": []
   },
   "source": [
    "## Annotate a dataset with cell types using CellTypist"
   ]
  },
  {
   "attachments": {},
   "cell_type": "markdown",
   "metadata": {},
   "source": [
    "### Annotate cell types predicted with CellTypist"
   ]
  },
  {
   "attachments": {},
   "cell_type": "markdown",
   "metadata": {},
   "source": [
    "We now demonstrate how simple it is to predict and add cell types to LaminDB with CellTypist.\n",
    "Our dataset of choice is a simple sample dataset together with a sample model."
   ]
  },
  {
   "cell_type": "code",
   "execution_count": null,
   "metadata": {},
   "outputs": [],
   "source": [
    "input_file = celltypist.samples.get_sample_csv()\n",
    "input_file"
   ]
  },
  {
   "cell_type": "code",
   "execution_count": null,
   "metadata": {},
   "outputs": [],
   "source": [
    "predictions = celltypist.annotate(\n",
    "    input_file, model=\"Immune_All_Low.pkl\", majority_voting=True\n",
    ")"
   ]
  },
  {
   "attachments": {},
   "cell_type": "markdown",
   "metadata": {},
   "source": [
    "Now that we've predicted all cell types we create an [Anndata](https://anndata.readthedocs.io/en/latest) object that we will eventually track with LaminDB."
   ]
  },
  {
   "cell_type": "code",
   "execution_count": null,
   "metadata": {},
   "outputs": [],
   "source": [
    "adata_annotated = predictions.to_adata()"
   ]
  },
  {
   "cell_type": "code",
   "execution_count": null,
   "metadata": {},
   "outputs": [],
   "source": [
    "adata_annotated.obs"
   ]
  },
  {
   "cell_type": "markdown",
   "metadata": {},
   "source": [
    "Let's rename the column with predictions:"
   ]
  },
  {
   "cell_type": "code",
   "execution_count": null,
   "metadata": {},
   "outputs": [],
   "source": [
    "adata_annotated.obs.rename(\n",
    "    columns={\"predicted_labels\": \"cell_type_cell_typist\"}, inplace=True\n",
    ")"
   ]
  },
  {
   "attachments": {},
   "cell_type": "markdown",
   "metadata": {},
   "source": [
    "Create cell type records:"
   ]
  },
  {
   "cell_type": "code",
   "execution_count": null,
   "metadata": {},
   "outputs": [],
   "source": [
    "celltypes = lb.CellType.from_values(\n",
    "    adata_annotated.obs.cell_type_cell_typist, lb.CellType.name\n",
    ")"
   ]
  },
  {
   "cell_type": "code",
   "execution_count": null,
   "metadata": {},
   "outputs": [],
   "source": [
    "celltypes[:2]"
   ]
  },
  {
   "attachments": {},
   "cell_type": "markdown",
   "metadata": {},
   "source": [
    "### Track the annotated dataset in LaminDB"
   ]
  },
  {
   "attachments": {},
   "cell_type": "markdown",
   "metadata": {},
   "source": [
    "Create a file record of the AnnData object.\n",
    "We further define a name of the dataset for clarity that can also be queried for."
   ]
  },
  {
   "cell_type": "code",
   "execution_count": null,
   "metadata": {},
   "outputs": [],
   "source": [
    "file_annotated = ln.File.from_anndata(\n",
    "    adata_annotated, description=\"Examplary CellTypist file\", var_ref=lb.Gene.symbol\n",
    ")"
   ]
  },
  {
   "cell_type": "code",
   "execution_count": null,
   "metadata": {},
   "outputs": [],
   "source": [
    "file_annotated.save()"
   ]
  },
  {
   "cell_type": "code",
   "execution_count": null,
   "metadata": {},
   "outputs": [],
   "source": [
    "ln.save(celltypes)"
   ]
  },
  {
   "attachments": {},
   "cell_type": "markdown",
   "metadata": {},
   "source": [
    "Add cell types as labels for a feature `\"cell_type_cell_typist\"`:"
   ]
  },
  {
   "cell_type": "code",
   "execution_count": null,
   "metadata": {},
   "outputs": [],
   "source": [
    "ln.Feature(name=\"cell_type_cell_typist\", type=\"category\").save()"
   ]
  },
  {
   "cell_type": "code",
   "execution_count": null,
   "metadata": {},
   "outputs": [],
   "source": [
    "file_annotated.add_labels(celltypes)"
   ]
  },
  {
   "cell_type": "code",
   "execution_count": null,
   "metadata": {},
   "outputs": [],
   "source": [
    "file_annotated.describe()"
   ]
  },
  {
   "cell_type": "code",
   "execution_count": null,
   "metadata": {},
   "outputs": [],
   "source": [
    "file_annotated.view_lineage()"
   ]
  },
  {
   "attachments": {},
   "cell_type": "markdown",
   "metadata": {},
   "source": [
    "Now we can track the file and search for it for usecase by querying for a specific cell type."
   ]
  },
  {
   "cell_type": "code",
   "execution_count": null,
   "metadata": {},
   "outputs": [],
   "source": [
    "ln.File.filter(cell_types=db_lookup.tcm_naive_helper_t_cells).df()"
   ]
  },
  {
   "attachments": {},
   "cell_type": "markdown",
   "metadata": {},
   "source": [
    "Or track in which notebook the file is annotated by celltypist:"
   ]
  },
  {
   "cell_type": "code",
   "execution_count": null,
   "metadata": {},
   "outputs": [],
   "source": [
    "ln.Transform.filter(files__description__icontains=\"CellTypist\").df()"
   ]
  },
  {
   "attachments": {},
   "cell_type": "markdown",
   "metadata": {},
   "source": [
    "## Try it yourself"
   ]
  },
  {
   "attachments": {},
   "cell_type": "markdown",
   "metadata": {},
   "source": [
    "This notebook is available at [https://github.com/laminlabs/lamin-usecases](https://github.com/laminlabs/lamin-usecases)."
   ]
  },
  {
   "cell_type": "code",
   "execution_count": null,
   "metadata": {
    "tags": [
     "hide-cell"
    ]
   },
   "outputs": [],
   "source": [
    "!lamin delete --force celltypist\n",
    "!rm -r ./celltypist"
   ]
  }
 ],
 "metadata": {
  "citation-manager": {
   "items": {}
  },
  "kernelspec": {
   "display_name": "Python 3 (ipykernel)",
   "language": "python",
   "name": "python3"
  },
  "language_info": {
   "codemirror_mode": {
    "name": "ipython",
    "version": 3
   },
   "file_extension": ".py",
   "mimetype": "text/x-python",
   "name": "python",
   "nbconvert_exporter": "python",
   "pygments_lexer": "ipython3",
   "version": "3.9.16"
  },
  "nbproject": {
   "id": "s5mkN5NQ1ttI",
   "parent": null,
   "pypackage": null,
   "time_init": "2023-05-29T10:25:04.851133+00:00",
   "user_handle": "sunnyosun",
   "user_id": "kmvZDIX9",
   "user_name": "Sunny Sun",
   "version": "0"
  }
 },
 "nbformat": 4,
 "nbformat_minor": 4
}
