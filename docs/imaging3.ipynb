{
 "cells": [
  {
   "cell_type": "markdown",
   "id": "628e34ce",
   "metadata": {},
   "source": [
    "# Featurize single-cell images"
   ]
  },
  {
   "cell_type": "markdown",
   "id": "f73c8e6e",
   "metadata": {},
   "source": [
    "Here, we use [scPortrait](https://github.com/MannLabs/scPortrait) to extract cell features that characterize both morphological and intensity-based properties of individual cells:\n",
    "\n",
    "- Area of the masks in pixels\n",
    "- Mean intensity of the chosen channel in the regions labelled by each of the masks\n",
    "- Median intensity of the chosen channel in the regions labelled by each of the masks\n",
    "- 75% quantile of the chosen channel in the regions labelled by each of the masks  \n",
    "- 25% quantile of the chosen channel in the regions labelled by each of the masks\n",
    "- Summed intensity of the chosen channel in the regions labelled by each of the masks\n",
    "- Summed intensity of the chosen channel in the region labelled by each of the masks normalized for area\n",
    "\n",
    "These features provide a comprehensive profile for later training machine learning models to identify cell types and states."
   ]
  },
  {
   "cell_type": "code",
   "execution_count": 1,
   "id": "1c20b42d",
   "metadata": {},
   "outputs": [
    {
     "name": "stdout",
     "output_type": "stream",
     "text": [
      "\u001b[92m→\u001b[0m connected lamindb: scportrait/examples\n"
     ]
    },
    {
     "name": "stderr",
     "output_type": "stream",
     "text": [
      "/Users/sophia/mambaforge/envs/lamin/lib/python3.12/site-packages/tqdm/auto.py:21: TqdmWarning: IProgress not found. Please update jupyter and ipywidgets. See https://ipywidgets.readthedocs.io/en/stable/user_install.html\n",
      "  from .autonotebook import tqdm as notebook_tqdm\n"
     ]
    },
    {
     "name": "stdout",
     "output_type": "stream",
     "text": [
      "\u001b[92m→\u001b[0m loaded Transform('ujI2BcWc8AA60007'), re-started Run('sHU2epGT...') at 2025-03-06 15:09:08 UTC\n",
      "\u001b[92m→\u001b[0m notebook imports: bionty==1.1.0 lamindb==1.1.1 pandas==2.2.3 scportrait==1.1.1.dev0\n"
     ]
    }
   ],
   "source": [
    "import lamindb as ln\n",
    "import bionty as bt\n",
    "import pandas as pd\n",
    "\n",
    "from scportrait.pipeline.featurization import CellFeaturizer\n",
    "\n",
    "ln.track()"
   ]
  },
  {
   "cell_type": "markdown",
   "id": "d0be3fe4",
   "metadata": {},
   "source": [
    "We will generate these features on the basis of the previously generated single-cell image datasets."
   ]
  },
  {
   "cell_type": "code",
   "execution_count": 2,
   "id": "37ce238c",
   "metadata": {},
   "outputs": [],
   "source": [
    "# Get single-cell images and config\n",
    "sc_datasets = ln.Artifact.filter(ulabels__name=\"autophagy imaging\").filter(\n",
    "    ulabels__name=\"scportrait single-cell images\"\n",
    ")\n",
    "config = (\n",
    "    ln.Artifact.filter(ulabels__name=\"autophagy imaging\")\n",
    "    .filter(ulabels__name=\"scportrait config\")\n",
    "    .distinct()\n",
    "    .one()\n",
    ")"
   ]
  },
  {
   "cell_type": "code",
   "execution_count": null,
   "id": "d72cf122",
   "metadata": {},
   "outputs": [],
   "source": [
    "# Process single-cell images with scPortrait's featurizer\n",
    "featurizer = CellFeaturizer(directory=\".\", config=config.cache(), project_location=None)\n",
    "\n",
    "def featurize_datasets(artifact_list) -> pd.DataFrame:\n",
    "    paths = [dataset.load().path for dataset in artifact_list]\n",
    "    dataset_lookup = {idx: cell.uid for idx, cell in enumerate(artifact_list)}\n",
    "    labels = list(dataset_lookup.keys())\n",
    "    results = featurizer.process(\n",
    "        dataset_paths=paths,\n",
    "        dataset_labels=labels,\n",
    "        return_results=True\n",
    "    )\n",
    "\n",
    "    # ensure we store the original dataset uid to be able to track featurization results back to their original dataset\n",
    "    results[\"dataset\"] = results[\"label\"].map(dataset_lookup)\n",
    "    del results[\"label\"]\n",
    "    return results\n",
    "\n",
    "# Train on wildtype (WT) cells\n",
    "wt_cells_afs = sc_datasets.filter(ulabels__name=\"WT\")\n",
    "\n",
    "# we have two different conditions which will be the two classes that our classifier should be able to tell apart\n",
    "condition_uls = [\n",
    "    ln.ULabel.get(name=stim_name)\n",
    "    for stim_name in set(af.features.get_values()[\"stimulation\"] for af in wt_cells_afs)\n",
    "]\n",
    "\n",
    "# map condition names to class labels\n",
    "class_lookup = {\"untreated\": 0,\n",
    "                \"14h Torin-1\": 1}\n",
    "\n",
    "features = None\n",
    "for ix, condition_ul in enumerate(condition_uls):\n",
    "    cells = wt_cells_afs.filter(ulabels=condition_ul)\n",
    "    results = featurize_datasets(cells)\n",
    "\n",
    "    # save condition as a class label\n",
    "    results[\"class\"] = class_lookup[condition_ul.name]\n",
    "\n",
    "    # concatenate results together\n",
    "    if features is None:\n",
    "        features = results\n",
    "    else:\n",
    "        features = pd.concat([features, results])"
   ]
  },
  {
   "cell_type": "markdown",
   "id": "ef6ab863",
   "metadata": {},
   "source": [
    "We upload the generated features to our instance."
   ]
  },
  {
   "cell_type": "code",
   "execution_count": 4,
   "id": "7740618b",
   "metadata": {},
   "outputs": [
    {
     "name": "stdout",
     "output_type": "stream",
     "text": [
      "\u001b[92m→\u001b[0m found artifact with same hash: Artifact(uid='dSQkaFNDfoyEsbG70002', is_latest=True, key='featurization_results/WT.parquet', description='featurized single-cell images', suffix='.parquet', kind='dataset', otype='DataFrame', size=144333, hash='T2VEWFxCEh9LcUO2nchY1Q', n_observations=566, space_id=1, storage_id=1, run_id=215, created_by_id=4, created_at=2025-03-06 15:08:44 UTC); to track this artifact as an input, use: ln.Artifact.get()\n"
     ]
    }
   ],
   "source": [
    "artifact = ln.Artifact.from_df(\n",
    "    features, \n",
    "    description=\"featurized single-cell images\",\n",
    "    key = \"featurization_results/WT.parquet\"\n",
    ").save()\n",
    "artifact.cell_lines.add(bt.CellLine.get(name=\"U2OS\"))\n",
    "\n",
    "artifact.features.add_values(\n",
    "    {\n",
    "        \"study\": \"autophagy imaging\",\n",
    "        \"artifact type\": \"single-cell image featurization results\",\n",
    "        \"genotype\": \"WT\",\n",
    "    }\n",
    ")"
   ]
  },
  {
   "cell_type": "markdown",
   "id": "5355c38b",
   "metadata": {},
   "source": [
    "We repeat this process for KO cells:"
   ]
  },
  {
   "cell_type": "code",
   "execution_count": 5,
   "id": "5878d618",
   "metadata": {},
   "outputs": [],
   "source": [
    "# Process KO cells to see if they behave differently\n",
    "ko_cells_afs = sc_datasets.filter(ulabels__name=\"EI24KO\")\n",
    "\n",
    "# we have the same two conditions as before\n",
    "condition_uls = [\n",
    "    ln.ULabel.get(name=stimulation_name)\n",
    "    for stimulation_name in set(\n",
    "        af.features.get_values()[\"stimulation\"] for af in ko_cells_afs\n",
    "    )\n",
    "]\n",
    "\n",
    "features_ko = None\n",
    "for idx, condition_ul in enumerate(condition_uls):\n",
    "    cells = ko_cells_afs.filter(ulabels=condition_ul)\n",
    "    results = featurize_datasets(cells)\n",
    "\n",
    "    # save condition as a class label\n",
    "    results[\"class\"] = class_lookup[condition_ul.name]\n",
    "\n",
    "    if features_ko is None:\n",
    "        features_ko = results\n",
    "    else:\n",
    "        features_ko = pd.concat([features_ko, results])"
   ]
  },
  {
   "cell_type": "code",
   "execution_count": 6,
   "id": "88ad588b",
   "metadata": {},
   "outputs": [
    {
     "name": "stdout",
     "output_type": "stream",
     "text": [
      "\u001b[92m→\u001b[0m found artifact with same hash: Artifact(uid='YCsZhphWpiECev3N0002', is_latest=True, key='featurization_results/EI24KO.parquet', description='featurized single-cell images', suffix='.parquet', kind='dataset', otype='DataFrame', size=198112, hash='1Yzh3gRMyKxZOM--oVVYCg', n_observations=848, space_id=1, storage_id=1, run_id=215, created_by_id=4, created_at=2025-03-06 15:08:53 UTC); to track this artifact as an input, use: ln.Artifact.get()\n"
     ]
    }
   ],
   "source": [
    "artifact = ln.Artifact.from_df(\n",
    "    features_ko, description=\"featurized single-cell images\",\n",
    "    key = \"featurization_results/EI24KO.parquet\"\n",
    ").save()\n",
    "artifact.cell_lines.add(bt.CellLine.filter(name=\"U2OS\").one())\n",
    "\n",
    "# annotate with required metadata\n",
    "artifact.features.add_values(\n",
    "    {\n",
    "        \"study\": \"autophagy imaging\",\n",
    "        \"artifact type\": \"single-cell image featurization results\",\n",
    "        \"genotype\": \"EI24KO\",\n",
    "    }\n",
    ")"
   ]
  },
  {
   "cell_type": "code",
   "execution_count": 7,
   "id": "5f625fba",
   "metadata": {},
   "outputs": [
    {
     "name": "stdout",
     "output_type": "stream",
     "text": [
      "\u001b[94m•\u001b[0m please hit CMD + s to save the notebook in your editor . \u001b[92m✓\u001b[0m\n",
      "\u001b[93m!\u001b[0m cells [(2, None), (None, 4)] were not run consecutively\n",
      "\u001b[92m→\u001b[0m finished Run('sHU2epGT') after 22s at 2025-03-06 15:09:30 UTC\n",
      "\u001b[92m→\u001b[0m go to: https://lamin.ai/scportrait/examples/transform/ujI2BcWc8AA60007\n",
      "\u001b[92m→\u001b[0m to update your notebook from the CLI, run: lamin save /Users/sophia/Documents/GitHub/lamin-usecases/docs/imaging3.ipynb\n"
     ]
    }
   ],
   "source": [
    "ln.finish()"
   ]
  }
 ],
 "metadata": {
  "jupytext": {
   "cell_metadata_filter": "-all",
   "main_language": "python",
   "notebook_metadata_filter": "-all"
  },
  "kernelspec": {
   "display_name": "lamin",
   "language": "python",
   "name": "python3"
  },
  "language_info": {
   "codemirror_mode": {
    "name": "ipython",
    "version": 3
   },
   "file_extension": ".py",
   "mimetype": "text/x-python",
   "name": "python",
   "nbconvert_exporter": "python",
   "pygments_lexer": "ipython3",
   "version": "3.12.0"
  }
 },
 "nbformat": 4,
 "nbformat_minor": 5
}
