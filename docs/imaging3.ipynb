{
 "cells": [
  {
   "cell_type": "markdown",
   "id": "b6cfa947",
   "metadata": {},
   "source": [
    "# Train Random Forest Classifier to identify autophagy positive cells"
   ]
  },
  {
   "cell_type": "code",
   "execution_count": null,
   "id": "a33cbb34",
   "metadata": {},
   "outputs": [],
   "source": [
    "import lamindb as ln\n",
    "import bionty\n",
    "ln.track()"
   ]
  },
  {
   "cell_type": "code",
   "execution_count": null,
   "id": "7fa921b3",
   "metadata": {},
   "outputs": [],
   "source": [
    "from scportrait.pipeline.featurization import CellFeaturizer, MLClusterClassifier\n",
    "import pandas as pd\n",
    "import numpy as np"
   ]
  },
  {
   "cell_type": "code",
   "execution_count": null,
   "id": "b84801d0",
   "metadata": {},
   "outputs": [],
   "source": [
    "study = ln.ULabel.get(name=\"autophagy imaging\")\n",
    "sc_image_dataset = ln.ULabel.get(name=\"scportrait single-cell images\")\n",
    "\n",
    "sc_datasets = ln.Artifact.filter(ulabels=study).filter(ulabels=sc_image_dataset)\n",
    "\n",
    "config_file = ln.ULabel.get(name=\"scportrait config\")\n",
    "config = ln.Artifact.filter(ulabels = study).filter(ulabels=config_file).one()"
   ]
  },
  {
   "cell_type": "code",
   "execution_count": null,
   "id": "3e2b29e9",
   "metadata": {},
   "outputs": [],
   "source": [
    "# process single-cell images with a featurizer to get features to train our RandomForest classifier on\n",
    "featurizer = CellFeaturizer( directory = \".\",\n",
    "                            config = config.load().path, \n",
    "                            project_location = None)\n",
    "\n",
    "# we are going to train on wildtype cells\n",
    "genotype = ln.ULabel.get(name = \"WT\")\n",
    "wt_cells = sc_datasets.filter(ulabels = genotype)\n",
    "\n",
    "#we have two different conditions which will be the two classes that our classifier should be able to tell apart\n",
    "conditions = [ln.ULabel.get(name=x) for x in set(a.features.get_values()['stimulation'] for a in wt_cells)]\n",
    "\n",
    "#we will store the calculated features in a dictionary for each condition\n",
    "condition_lookup = {}\n",
    "features = None\n",
    "for i, condition in enumerate(conditions):\n",
    "    cells = wt_cells.filter(ulabels = condition)\n",
    "    paths = [dataset.load().path for dataset in cells]\n",
    "    dataset_lookup = {x.uid:i for i, x in enumerate(cells)}\n",
    "    labels = list(dataset_lookup.values())\n",
    "    results = featurizer.process(extraction_dir=paths[0], labels=labels[0], return_results=True)\n",
    "    results[\"class\"] = i\n",
    "    condition_lookup[condition.name] = 1\n",
    "    if features is None:\n",
    "        features = results\n",
    "    else:\n",
    "        features = pd.concat([features, results])"
   ]
  },
  {
   "cell_type": "code",
   "execution_count": null,
   "id": "3f65e5f8",
   "metadata": {},
   "outputs": [],
   "source": [
    "artifact = ln.Artifact.from_df(features, description = \"featurized single-cell images\").save()\n",
    "artifact.cell_lines.add(bionty.CellLine.filter(name = \"U2OS\").one())\n",
    "\n",
    "#annotate with required metadata\n",
    "artifact.features.add_values(\n",
    "    {\n",
    "        \"study\": \"autophagy imaging\",\n",
    "        \"artefact type\": \"single-cell image featurization results\",\n",
    "        \"genotype\": \"WT\",\n",
    "    }\n",
    ")"
   ]
  },
  {
   "cell_type": "markdown",
   "id": "4c04071e",
   "metadata": {},
   "source": [
    "now lets do the same for the KO cells"
   ]
  },
  {
   "cell_type": "code",
   "execution_count": null,
   "id": "c63d6aae",
   "metadata": {},
   "outputs": [],
   "source": [
    "# we are going to train on wildtype cells\n",
    "genotype = ln.ULabel.get(name = \"EI24KO\")\n",
    "ko_cells = sc_datasets.filter(ulabels = genotype)\n",
    "\n",
    "#we have two different conditions which will be the two classes that our classifier should be able to tell apart\n",
    "conditions = [ln.ULabel.get(name=x) for x in set(a.features.get_values()['stimulation'] for a in ko_cells)]\n",
    "\n",
    "#we will store the calculated features in a dictionary for each condition\n",
    "condition_lookup = {}\n",
    "features_ko = None\n",
    "for i, condition in enumerate(conditions):\n",
    "    cells = ko_cells.filter(ulabels = condition)\n",
    "    paths = [dataset.load().path for dataset in cells]\n",
    "    dataset_lookup = {x.uid:i for i, x in enumerate(cells)}\n",
    "    labels = list(dataset_lookup.values())\n",
    "    results = featurizer.process(extraction_dir=paths[0], labels=labels[0], return_results=True)\n",
    "    results[\"class\"] = i\n",
    "    condition_lookup[condition.name] = 1\n",
    "    if features_ko is None:\n",
    "        features_ko = results\n",
    "    else:\n",
    "        features_ko = pd.concat([features_ko, results])"
   ]
  },
  {
   "cell_type": "code",
   "execution_count": null,
   "id": "244ef8df",
   "metadata": {},
   "outputs": [],
   "source": [
    "artifact = ln.Artifact.from_df(features, description = \"featurized single-cell images\").save()\n",
    "artifact.cell_lines.add(bionty.CellLine.filter(name = \"U2OS\").one())\n",
    "\n",
    "#annotate with required metadata\n",
    "artifact.features.add_values(\n",
    "    {\n",
    "        \"study\": \"autophagy imaging\",\n",
    "        \"artefact type\": \"single-cell image featurization results\",\n",
    "        \"genotype\": \"EI24KO\",\n",
    "    }\n",
    ")"
   ]
  },
  {
   "cell_type": "code",
   "execution_count": null,
   "id": "ff62e4d6",
   "metadata": {},
   "outputs": [],
   "source": [
    "ln.finish()"
   ]
  }
 ],
 "metadata": {
  "jupytext": {
   "cell_metadata_filter": "-all",
   "main_language": "python",
   "notebook_metadata_filter": "-all"
  }
 },
 "nbformat": 4,
 "nbformat_minor": 5
}
