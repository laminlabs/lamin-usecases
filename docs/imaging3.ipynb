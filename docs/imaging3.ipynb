{
 "cells": [
  {
   "cell_type": "markdown",
   "id": "0",
   "metadata": {},
   "source": [
    "![imaging3/4](https://img.shields.io/badge/imaging3/4-lightgrey)\n",
    "[![Jupyter Notebook](https://img.shields.io/badge/Source%20on%20GitHub-orange)](https://github.com/laminlabs/lamin-usecases/blob/main/docs/imaging3.ipynb)"
   ]
  },
  {
   "cell_type": "markdown",
   "id": "1",
   "metadata": {},
   "source": [
    "# Featurize single-cell images"
   ]
  },
  {
   "cell_type": "markdown",
   "id": "2",
   "metadata": {},
   "source": [
    "Here, we use [scPortrait](https://github.com/MannLabs/scPortrait) to extract cell features that characterize both morphological and intensity-based properties of individual cells:\n",
    "\n",
    "- Area of the masks in pixels\n",
    "- Mean intensity of the chosen channel in the regions labelled by each of the masks\n",
    "- Median intensity of the chosen channel in the regions labelled by each of the masks\n",
    "- 75% quantile of the chosen channel in the regions labelled by each of the masks  \n",
    "- 25% quantile of the chosen channel in the regions labelled by each of the masks\n",
    "- Summed intensity of the chosen channel in the regions labelled by each of the masks\n",
    "- Summed intensity of the chosen channel in the region labelled by each of the masks normalized for area\n",
    "\n",
    "These features provide a comprehensive profile for later training machine learning models to identify cell types and states."
   ]
  },
  {
   "cell_type": "code",
   "execution_count": 1,
   "id": "3",
   "metadata": {},
   "outputs": [
    {
     "name": "stdout",
     "output_type": "stream",
     "text": [
      "\u001b[92m→\u001b[0m connected lamindb: sophiamaedler/test-imaging\n",
      "\u001b[92m→\u001b[0m created Transform('0BSejbephVeu0000'), started new Run('gSKgBwi2...') at 2025-03-21 14:44:28 UTC\n",
      "\u001b[92m→\u001b[0m notebook imports: bionty==1.1.2 lamindb==1.3.0 pandas==2.2.3 scportrait==1.3.2\n"
     ]
    }
   ],
   "source": [
    "import lamindb as ln\n",
    "import bionty as bt\n",
    "import pandas as pd\n",
    "\n",
    "from scportrait.pipeline.featurization import CellFeaturizer\n",
    "\n",
    "ln.track()"
   ]
  },
  {
   "cell_type": "markdown",
   "id": "4",
   "metadata": {},
   "source": [
    "We will generate these features on the basis of the previously generated single-cell image datasets."
   ]
  },
  {
   "cell_type": "code",
   "execution_count": 2,
   "id": "5",
   "metadata": {},
   "outputs": [],
   "source": [
    "# Get single-cell images and config\n",
    "sc_datasets = (\n",
    "    ln.Artifact.using(\"scportrait/examples\")\n",
    "    .filter(ulabels__name=\"autophagy imaging\")\n",
    "    .filter(ulabels__name=\"scportrait single-cell images\")\n",
    ")\n",
    "config = (\n",
    "    ln.Artifact.filter(ulabels__name=\"autophagy imaging\")\n",
    "    .filter(ulabels__name=\"scportrait config\")\n",
    "    .distinct()\n",
    "    .one()\n",
    ")"
   ]
  },
  {
   "cell_type": "code",
   "execution_count": 3,
   "id": "6",
   "metadata": {},
   "outputs": [
    {
     "name": "stdout",
     "output_type": "stream",
     "text": [
      "\u001b[92m→\u001b[0m completing transfer to track Artifact('Ug6oysO8') as input\n",
      "\u001b[93m!\u001b[0m returning artifact with same hash: Artifact(uid='jryk1izEoNnZgzVR0000', is_latest=True, key='processed_data_imaging_use_case/U2OS_lcklip-mNeon_mCherryLC3B_clone_1/14h_Torin-1/FOV1/single_cell_data.h5ad', suffix='.h5ad', kind='dataset', otype='AnnData', size=11496192, hash='xAoThmgmywkVWC2M64xDVw', n_observations=70, space_id=1, storage_id=1, run_id=3, schema_id=5, created_by_id=1, created_at=2025-03-21 14:43:50 UTC)\n",
      "\u001b[92m→\u001b[0m returning existing schema with same hash: Schema(uid='PUwajeoyOFo5TGdoSlPw', name='single-cell image dataset schema obs', n=1, itype='Feature', is_type=False, hash='1j9UbOOFnijksoThNUnoeg', minimal_set=True, ordered_set=False, maximal_set=False, space_id=1, created_by_id=1, run_id=3, created_at=2025-03-21 14:43:49 UTC)\n",
      "\u001b[92m→\u001b[0m mapped records: ULabel(uid='9hHptuyb'), ULabel(uid='A2945i5P'), ULabel(uid='CrR7fgIZ'), ULabel(uid='QrU6fxsG'), ULabel(uid='xhpmj7p7'), ULabel(uid='xHqZKcIG'), ULabel(uid='PKiCEP1h'), ULabel(uid='HRRTqARL'), ULabel(uid='e82fx2wm')\n",
      "\u001b[92m→\u001b[0m transferred records: Artifact(uid='Ug6oysO8tredb6QD0000'), Schema(uid='DyiIpKWmc5tyOi4lnemL'), ULabel(uid='KH1brNUW'), ULabel(uid='JWE2jNdk')\n",
      "\u001b[92m→\u001b[0m completing transfer to track Artifact('o70zxUTe') as input\n",
      "\u001b[92m→\u001b[0m returning existing schema with same hash: Schema(uid='PUwajeoyOFo5TGdoSlPw', name='single-cell image dataset schema obs', n=1, itype='Feature', is_type=False, hash='1j9UbOOFnijksoThNUnoeg', minimal_set=True, ordered_set=False, maximal_set=False, space_id=1, created_by_id=1, run_id=3, created_at=2025-03-21 14:43:49 UTC)\n",
      "\u001b[92m→\u001b[0m mapped records: ULabel(uid='9hHptuyb'), ULabel(uid='A2945i5P'), ULabel(uid='KH1brNUW'), ULabel(uid='1KPobNqK'), ULabel(uid='QrU6fxsG'), ULabel(uid='xhpmj7p7'), ULabel(uid='xHqZKcIG'), ULabel(uid='JWE2jNdk'), ULabel(uid='PKiCEP1h'), ULabel(uid='HRRTqARL'), ULabel(uid='e82fx2wm')\n",
      "\u001b[92m→\u001b[0m transferred records: Artifact(uid='o70zxUTepqlHmM0B0000')\n",
      "\u001b[92m→\u001b[0m completing transfer to track Artifact('TU3SzmV4') as input\n",
      "\u001b[92m→\u001b[0m returning existing schema with same hash: Schema(uid='PUwajeoyOFo5TGdoSlPw', name='single-cell image dataset schema obs', n=1, itype='Feature', is_type=False, hash='1j9UbOOFnijksoThNUnoeg', minimal_set=True, ordered_set=False, maximal_set=False, space_id=1, created_by_id=1, run_id=3, created_at=2025-03-21 14:43:49 UTC)\n",
      "\u001b[92m→\u001b[0m mapped records: ULabel(uid='9hHptuyb'), ULabel(uid='A2945i5P'), ULabel(uid='GadMJgvN'), ULabel(uid='CrR7fgIZ'), ULabel(uid='QrU6fxsG'), ULabel(uid='xhpmj7p7'), ULabel(uid='xHqZKcIG'), ULabel(uid='JWE2jNdk'), ULabel(uid='PKiCEP1h'), ULabel(uid='HRRTqARL'), ULabel(uid='e82fx2wm')\n",
      "\u001b[92m→\u001b[0m transferred records: Artifact(uid='TU3SzmV402RjMAVB0000')\n",
      "\u001b[92m→\u001b[0m completing transfer to track Artifact('isiPSnRq') as input\n",
      "\u001b[92m→\u001b[0m returning existing schema with same hash: Schema(uid='PUwajeoyOFo5TGdoSlPw', name='single-cell image dataset schema obs', n=1, itype='Feature', is_type=False, hash='1j9UbOOFnijksoThNUnoeg', minimal_set=True, ordered_set=False, maximal_set=False, space_id=1, created_by_id=1, run_id=3, created_at=2025-03-21 14:43:49 UTC)\n",
      "\u001b[92m→\u001b[0m mapped records: ULabel(uid='9hHptuyb'), ULabel(uid='A2945i5P'), ULabel(uid='GadMJgvN'), ULabel(uid='1KPobNqK'), ULabel(uid='QrU6fxsG'), ULabel(uid='xhpmj7p7'), ULabel(uid='xHqZKcIG'), ULabel(uid='JWE2jNdk'), ULabel(uid='PKiCEP1h'), ULabel(uid='HRRTqARL'), ULabel(uid='e82fx2wm')\n",
      "\u001b[92m→\u001b[0m transferred records: Artifact(uid='isiPSnRqZv4e8bdL0000')\n",
      "\u001b[92m→\u001b[0m completing transfer to track Artifact('cTQQVLEg') as input\n",
      "\u001b[92m→\u001b[0m returning existing schema with same hash: Schema(uid='PUwajeoyOFo5TGdoSlPw', name='single-cell image dataset schema obs', n=1, itype='Feature', is_type=False, hash='1j9UbOOFnijksoThNUnoeg', minimal_set=True, ordered_set=False, maximal_set=False, space_id=1, created_by_id=1, run_id=3, created_at=2025-03-21 14:43:49 UTC)\n",
      "\u001b[92m→\u001b[0m mapped records: ULabel(uid='9hHptuyb'), ULabel(uid='EgihgpJC'), ULabel(uid='KH1brNUW'), ULabel(uid='CrR7fgIZ'), ULabel(uid='QrU6fxsG'), ULabel(uid='xhpmj7p7'), ULabel(uid='xHqZKcIG'), ULabel(uid='JWE2jNdk'), ULabel(uid='PKiCEP1h'), ULabel(uid='HRRTqARL'), ULabel(uid='e82fx2wm')\n",
      "\u001b[92m→\u001b[0m transferred records: Artifact(uid='cTQQVLEg3eox69LE0000')\n",
      "\u001b[92m→\u001b[0m completing transfer to track Artifact('HgBdMQ3W') as input\n",
      "\u001b[92m→\u001b[0m returning existing schema with same hash: Schema(uid='PUwajeoyOFo5TGdoSlPw', name='single-cell image dataset schema obs', n=1, itype='Feature', is_type=False, hash='1j9UbOOFnijksoThNUnoeg', minimal_set=True, ordered_set=False, maximal_set=False, space_id=1, created_by_id=1, run_id=3, created_at=2025-03-21 14:43:49 UTC)\n",
      "\u001b[92m→\u001b[0m mapped records: ULabel(uid='9hHptuyb'), ULabel(uid='EgihgpJC'), ULabel(uid='KH1brNUW'), ULabel(uid='1KPobNqK'), ULabel(uid='QrU6fxsG'), ULabel(uid='xhpmj7p7'), ULabel(uid='xHqZKcIG'), ULabel(uid='JWE2jNdk'), ULabel(uid='PKiCEP1h'), ULabel(uid='HRRTqARL'), ULabel(uid='e82fx2wm')\n",
      "\u001b[92m→\u001b[0m transferred records: Artifact(uid='HgBdMQ3Wxug5pdwb0000')\n",
      "\u001b[92m→\u001b[0m completing transfer to track Artifact('wuBuFSsw') as input\n",
      "\u001b[92m→\u001b[0m returning existing schema with same hash: Schema(uid='PUwajeoyOFo5TGdoSlPw', name='single-cell image dataset schema obs', n=1, itype='Feature', is_type=False, hash='1j9UbOOFnijksoThNUnoeg', minimal_set=True, ordered_set=False, maximal_set=False, space_id=1, created_by_id=1, run_id=3, created_at=2025-03-21 14:43:49 UTC)\n",
      "\u001b[92m→\u001b[0m mapped records: ULabel(uid='9hHptuyb'), ULabel(uid='EgihgpJC'), ULabel(uid='GadMJgvN'), ULabel(uid='CrR7fgIZ'), ULabel(uid='QrU6fxsG'), ULabel(uid='xhpmj7p7'), ULabel(uid='xHqZKcIG'), ULabel(uid='JWE2jNdk'), ULabel(uid='PKiCEP1h'), ULabel(uid='HRRTqARL'), ULabel(uid='e82fx2wm')\n",
      "\u001b[92m→\u001b[0m transferred records: Artifact(uid='wuBuFSswlyStWyLz0000')\n",
      "\u001b[92m→\u001b[0m completing transfer to track Artifact('ws5uiNox') as input\n",
      "\u001b[92m→\u001b[0m returning existing schema with same hash: Schema(uid='PUwajeoyOFo5TGdoSlPw', name='single-cell image dataset schema obs', n=1, itype='Feature', is_type=False, hash='1j9UbOOFnijksoThNUnoeg', minimal_set=True, ordered_set=False, maximal_set=False, space_id=1, created_by_id=1, run_id=3, created_at=2025-03-21 14:43:49 UTC)\n",
      "\u001b[92m→\u001b[0m mapped records: ULabel(uid='9hHptuyb'), ULabel(uid='EgihgpJC'), ULabel(uid='GadMJgvN'), ULabel(uid='1KPobNqK'), ULabel(uid='QrU6fxsG'), ULabel(uid='xhpmj7p7'), ULabel(uid='xHqZKcIG'), ULabel(uid='JWE2jNdk'), ULabel(uid='PKiCEP1h'), ULabel(uid='HRRTqARL'), ULabel(uid='e82fx2wm')\n",
      "\u001b[92m→\u001b[0m transferred records: Artifact(uid='ws5uiNox4ilIjCpe0000')\n"
     ]
    }
   ],
   "source": [
    "# Process single-cell images with scPortrait's featurizer\n",
    "featurizer = CellFeaturizer(directory=\".\", config=config.cache(), project_location=None)\n",
    "\n",
    "def featurize_datasets(artifact_list) -> pd.DataFrame:\n",
    "    paths = [dataset.cache() for dataset in artifact_list]\n",
    "    dataset_lookup = {idx: cell.uid for idx, cell in enumerate(artifact_list)}\n",
    "    labels = list(dataset_lookup.keys())\n",
    "    results = featurizer.process(\n",
    "        dataset_paths=paths, dataset_labels=labels, return_results=True\n",
    "    )\n",
    "\n",
    "    # ensure we store the original dataset uid to be able to track featurization results back to their original dataset\n",
    "    results[\"dataset\"] = results[\"label\"].map(dataset_lookup)\n",
    "    del results[\"label\"]\n",
    "    return results\n",
    "\n",
    "\n",
    "# Train on wildtype (WT) cells\n",
    "wt_cells_afs = sc_datasets.filter(ulabels__name=\"WT\")\n",
    "\n",
    "# we have two different conditions which will be the two classes that our classifier should be able to tell apart\n",
    "condition_uls = [\n",
    "    ln.ULabel.using(\"scportrait/examples\").get(name=stim_name)\n",
    "    for stim_name in {af.features.get_values()[\"stimulation\"] for af in wt_cells_afs}\n",
    "]\n",
    "\n",
    "# map condition names to class labels\n",
    "class_lookup = {\"untreated\": 0, \"14h Torin-1\": 1}\n",
    "\n",
    "features = None\n",
    "for _ix, condition_ul in enumerate(condition_uls):\n",
    "    cells = wt_cells_afs.filter(ulabels=condition_ul)\n",
    "    results = featurize_datasets(cells)\n",
    "\n",
    "    # save condition as a class label\n",
    "    results[\"class\"] = class_lookup[condition_ul.name]\n",
    "\n",
    "    # concatenate results together\n",
    "    if features is None:\n",
    "        features = results\n",
    "    else:\n",
    "        features = pd.concat([features, results])"
   ]
  },
  {
   "cell_type": "markdown",
   "id": "7",
   "metadata": {},
   "source": [
    "We upload the generated features to our instance."
   ]
  },
  {
   "cell_type": "code",
   "execution_count": 4,
   "id": "8",
   "metadata": {},
   "outputs": [],
   "source": [
    "artifact = ln.Artifact.from_df(\n",
    "    features,\n",
    "    description=\"featurized single-cell images\",\n",
    "    key=\"featurization_results/WT.parquet\",\n",
    ").save()\n",
    "artifact.cell_lines.add(bt.CellLine.get(name=\"U2OS\"))\n",
    "\n",
    "artifact.features.add_values(\n",
    "    {\n",
    "        \"study\": \"autophagy imaging\",\n",
    "        \"genotype\": \"WT\",\n",
    "    }\n",
    ")"
   ]
  },
  {
   "cell_type": "markdown",
   "id": "9",
   "metadata": {},
   "source": [
    "We repeat this process for KO cells:"
   ]
  },
  {
   "cell_type": "code",
   "execution_count": 5,
   "id": "10",
   "metadata": {},
   "outputs": [
    {
     "name": "stdout",
     "output_type": "stream",
     "text": [
      "\u001b[92m→\u001b[0m completing transfer to track Artifact('d4cvdSJa') as input\n",
      "\u001b[92m→\u001b[0m returning existing schema with same hash: Schema(uid='PUwajeoyOFo5TGdoSlPw', name='single-cell image dataset schema obs', n=1, itype='Feature', is_type=False, hash='1j9UbOOFnijksoThNUnoeg', minimal_set=True, ordered_set=False, maximal_set=False, space_id=1, created_by_id=1, run_id=3, created_at=2025-03-21 14:43:49 UTC)\n",
      "\u001b[92m→\u001b[0m mapped records: ULabel(uid='Aj8KGwbh'), ULabel(uid='A2945i5P'), ULabel(uid='CrR7fgIZ'), ULabel(uid='QrU6fxsG'), ULabel(uid='xhpmj7p7'), ULabel(uid='xHqZKcIG'), ULabel(uid='JWE2jNdk'), ULabel(uid='PKiCEP1h'), ULabel(uid='HRRTqARL'), ULabel(uid='e82fx2wm')\n",
      "\u001b[92m→\u001b[0m transferred records: Artifact(uid='d4cvdSJa6rc6Fd9T0000'), ULabel(uid='joRCMMWX')\n",
      "\u001b[92m→\u001b[0m completing transfer to track Artifact('JHkm31GA') as input\n",
      "\u001b[92m→\u001b[0m returning existing schema with same hash: Schema(uid='PUwajeoyOFo5TGdoSlPw', name='single-cell image dataset schema obs', n=1, itype='Feature', is_type=False, hash='1j9UbOOFnijksoThNUnoeg', minimal_set=True, ordered_set=False, maximal_set=False, space_id=1, created_by_id=1, run_id=3, created_at=2025-03-21 14:43:49 UTC)\n",
      "\u001b[92m→\u001b[0m mapped records: ULabel(uid='Aj8KGwbh'), ULabel(uid='A2945i5P'), ULabel(uid='joRCMMWX'), ULabel(uid='1KPobNqK'), ULabel(uid='QrU6fxsG'), ULabel(uid='xhpmj7p7'), ULabel(uid='xHqZKcIG'), ULabel(uid='JWE2jNdk'), ULabel(uid='PKiCEP1h'), ULabel(uid='HRRTqARL'), ULabel(uid='e82fx2wm')\n",
      "\u001b[92m→\u001b[0m transferred records: Artifact(uid='JHkm31GACpCoI14g0000')\n",
      "\u001b[92m→\u001b[0m completing transfer to track Artifact('FYR27nQ3') as input\n",
      "\u001b[92m→\u001b[0m returning existing schema with same hash: Schema(uid='PUwajeoyOFo5TGdoSlPw', name='single-cell image dataset schema obs', n=1, itype='Feature', is_type=False, hash='1j9UbOOFnijksoThNUnoeg', minimal_set=True, ordered_set=False, maximal_set=False, space_id=1, created_by_id=1, run_id=3, created_at=2025-03-21 14:43:49 UTC)\n",
      "\u001b[92m→\u001b[0m mapped records: ULabel(uid='Aj8KGwbh'), ULabel(uid='A2945i5P'), ULabel(uid='JIbWVXma'), ULabel(uid='CrR7fgIZ'), ULabel(uid='QrU6fxsG'), ULabel(uid='xhpmj7p7'), ULabel(uid='xHqZKcIG'), ULabel(uid='JWE2jNdk'), ULabel(uid='PKiCEP1h'), ULabel(uid='HRRTqARL'), ULabel(uid='e82fx2wm')\n",
      "\u001b[92m→\u001b[0m transferred records: Artifact(uid='FYR27nQ337XCd9rk0000')\n",
      "\u001b[92m→\u001b[0m completing transfer to track Artifact('rEyRiRUK') as input\n",
      "\u001b[92m→\u001b[0m returning existing schema with same hash: Schema(uid='PUwajeoyOFo5TGdoSlPw', name='single-cell image dataset schema obs', n=1, itype='Feature', is_type=False, hash='1j9UbOOFnijksoThNUnoeg', minimal_set=True, ordered_set=False, maximal_set=False, space_id=1, created_by_id=1, run_id=3, created_at=2025-03-21 14:43:49 UTC)\n",
      "\u001b[92m→\u001b[0m mapped records: ULabel(uid='Aj8KGwbh'), ULabel(uid='A2945i5P'), ULabel(uid='JIbWVXma'), ULabel(uid='1KPobNqK'), ULabel(uid='QrU6fxsG'), ULabel(uid='xhpmj7p7'), ULabel(uid='xHqZKcIG'), ULabel(uid='JWE2jNdk'), ULabel(uid='PKiCEP1h'), ULabel(uid='HRRTqARL'), ULabel(uid='e82fx2wm')\n",
      "\u001b[92m→\u001b[0m transferred records: Artifact(uid='rEyRiRUKJkkBg1PI0000')\n",
      "\u001b[92m→\u001b[0m completing transfer to track Artifact('cHKg1yCq') as input\n",
      "\u001b[92m→\u001b[0m returning existing schema with same hash: Schema(uid='PUwajeoyOFo5TGdoSlPw', name='single-cell image dataset schema obs', n=1, itype='Feature', is_type=False, hash='1j9UbOOFnijksoThNUnoeg', minimal_set=True, ordered_set=False, maximal_set=False, space_id=1, created_by_id=1, run_id=3, created_at=2025-03-21 14:43:49 UTC)\n",
      "\u001b[92m→\u001b[0m mapped records: ULabel(uid='Aj8KGwbh'), ULabel(uid='EgihgpJC'), ULabel(uid='joRCMMWX'), ULabel(uid='CrR7fgIZ'), ULabel(uid='QrU6fxsG'), ULabel(uid='xhpmj7p7'), ULabel(uid='xHqZKcIG'), ULabel(uid='JWE2jNdk'), ULabel(uid='PKiCEP1h'), ULabel(uid='HRRTqARL'), ULabel(uid='e82fx2wm')\n",
      "\u001b[92m→\u001b[0m transferred records: Artifact(uid='cHKg1yCqvJgShsKc0001')\n",
      "\u001b[92m→\u001b[0m completing transfer to track Artifact('tpZAX7uy') as input\n",
      "\u001b[92m→\u001b[0m returning existing schema with same hash: Schema(uid='PUwajeoyOFo5TGdoSlPw', name='single-cell image dataset schema obs', n=1, itype='Feature', is_type=False, hash='1j9UbOOFnijksoThNUnoeg', minimal_set=True, ordered_set=False, maximal_set=False, space_id=1, created_by_id=1, run_id=3, created_at=2025-03-21 14:43:49 UTC)\n",
      "\u001b[92m→\u001b[0m mapped records: ULabel(uid='Aj8KGwbh'), ULabel(uid='EgihgpJC'), ULabel(uid='joRCMMWX'), ULabel(uid='1KPobNqK'), ULabel(uid='QrU6fxsG'), ULabel(uid='xhpmj7p7'), ULabel(uid='xHqZKcIG'), ULabel(uid='JWE2jNdk'), ULabel(uid='PKiCEP1h'), ULabel(uid='HRRTqARL'), ULabel(uid='e82fx2wm')\n",
      "\u001b[92m→\u001b[0m transferred records: Artifact(uid='tpZAX7uyvPffzLrh0000')\n",
      "\u001b[92m→\u001b[0m completing transfer to track Artifact('Lm6I4XXI') as input\n",
      "\u001b[92m→\u001b[0m returning existing schema with same hash: Schema(uid='PUwajeoyOFo5TGdoSlPw', name='single-cell image dataset schema obs', n=1, itype='Feature', is_type=False, hash='1j9UbOOFnijksoThNUnoeg', minimal_set=True, ordered_set=False, maximal_set=False, space_id=1, created_by_id=1, run_id=3, created_at=2025-03-21 14:43:49 UTC)\n",
      "\u001b[92m→\u001b[0m mapped records: ULabel(uid='Aj8KGwbh'), ULabel(uid='EgihgpJC'), ULabel(uid='JIbWVXma'), ULabel(uid='CrR7fgIZ'), ULabel(uid='QrU6fxsG'), ULabel(uid='xhpmj7p7'), ULabel(uid='xHqZKcIG'), ULabel(uid='JWE2jNdk'), ULabel(uid='PKiCEP1h'), ULabel(uid='HRRTqARL'), ULabel(uid='e82fx2wm')\n",
      "\u001b[92m→\u001b[0m transferred records: Artifact(uid='Lm6I4XXILNEimfNA0000')\n",
      "\u001b[92m→\u001b[0m completing transfer to track Artifact('NUBc9HtY') as input\n",
      "\u001b[92m→\u001b[0m returning existing schema with same hash: Schema(uid='PUwajeoyOFo5TGdoSlPw', name='single-cell image dataset schema obs', n=1, itype='Feature', is_type=False, hash='1j9UbOOFnijksoThNUnoeg', minimal_set=True, ordered_set=False, maximal_set=False, space_id=1, created_by_id=1, run_id=3, created_at=2025-03-21 14:43:49 UTC)\n",
      "\u001b[92m→\u001b[0m mapped records: ULabel(uid='Aj8KGwbh'), ULabel(uid='EgihgpJC'), ULabel(uid='JIbWVXma'), ULabel(uid='1KPobNqK'), ULabel(uid='QrU6fxsG'), ULabel(uid='xhpmj7p7'), ULabel(uid='xHqZKcIG'), ULabel(uid='JWE2jNdk'), ULabel(uid='PKiCEP1h'), ULabel(uid='HRRTqARL'), ULabel(uid='e82fx2wm')\n",
      "\u001b[92m→\u001b[0m transferred records: Artifact(uid='NUBc9HtYPuHAnUwA0000')\n"
     ]
    }
   ],
   "source": [
    "# Process KO cells to see if they behave differently\n",
    "ko_cells_afs = sc_datasets.filter(ulabels__name=\"EI24KO\")\n",
    "\n",
    "# we have the same two conditions as before\n",
    "condition_uls = [\n",
    "    ln.ULabel.using(\"scportrait/examples\").get(name=stimulation_name)\n",
    "    for stimulation_name in {\n",
    "        af.features.get_values()[\"stimulation\"] for af in ko_cells_afs\n",
    "    }\n",
    "]\n",
    "\n",
    "features_ko = None\n",
    "for _idx, condition_ul in enumerate(condition_uls):\n",
    "    cells = ko_cells_afs.filter(ulabels=condition_ul)\n",
    "    results = featurize_datasets(cells)\n",
    "\n",
    "    # save condition as a class label\n",
    "    results[\"class\"] = class_lookup[condition_ul.name]\n",
    "\n",
    "    if features_ko is None:\n",
    "        features_ko = results\n",
    "    else:\n",
    "        features_ko = pd.concat([features_ko, results])"
   ]
  },
  {
   "cell_type": "code",
   "execution_count": 6,
   "id": "11",
   "metadata": {},
   "outputs": [],
   "source": [
    "artifact = ln.Artifact.from_df(\n",
    "    features_ko,\n",
    "    description=\"featurized single-cell images\",\n",
    "    key=\"featurization_results/EI24KO.parquet\",\n",
    ").save()\n",
    "artifact.cell_lines.add(bt.CellLine.filter(name=\"U2OS\").one())\n",
    "\n",
    "# annotate with required metadata\n",
    "artifact.features.add_values(\n",
    "    {\n",
    "        \"study\": \"autophagy imaging\",\n",
    "        \"genotype\": \"EI24KO\",\n",
    "    }\n",
    ")"
   ]
  },
  {
   "cell_type": "code",
   "execution_count": 7,
   "id": "12",
   "metadata": {},
   "outputs": [
    {
     "name": "stdout",
     "output_type": "stream",
     "text": [
      "\u001b[94m•\u001b[0m please hit CMD + s to save the notebook in your editor .. \u001b[92m✓\u001b[0m\n",
      "\u001b[92m→\u001b[0m finished Run('gSKgBwi2') after 33s at 2025-03-21 14:45:02 UTC\n"
     ]
    }
   ],
   "source": [
    "ln.finish()"
   ]
  }
 ],
 "metadata": {
  "jupytext": {
   "cell_metadata_filter": "-all",
   "main_language": "python",
   "notebook_metadata_filter": "-all"
  },
  "kernelspec": {
   "display_name": "lamin",
   "language": "python",
   "name": "python3"
  },
  "language_info": {
   "codemirror_mode": {
    "name": "ipython",
    "version": 3
   },
   "file_extension": ".py",
   "mimetype": "text/x-python",
   "name": "python",
   "nbconvert_exporter": "python",
   "pygments_lexer": "ipython3",
   "version": "3.12.0"
  }
 },
 "nbformat": 4,
 "nbformat_minor": 5
}
