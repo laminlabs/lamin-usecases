{
 "cells": [
  {
   "cell_type": "markdown",
   "metadata": {},
   "source": [
    "[![Jupyter Notebook](https://img.shields.io/badge/Source%20on%20GitHub-orange)](https://github.com/laminlabs/lamin-usecases/blob/main/docs/spatial4.ipynb)\n"
   ]
  },
  {
   "cell_type": "markdown",
   "metadata": {},
   "source": [
    "# Interactive visualization using Vitessce"
   ]
  },
  {
   "cell_type": "markdown",
   "metadata": {},
   "source": [
    "SpatialDatasets can be visualized interactively on LaminHub using [Vitessce](https://vitessce.io/).  \n",
    "\n",
    "Here is [a guide](https://docs.lamin.ai/vitessce) for visualizing spatial data with Vitessce.\n",
    "\n",
    "Here is a [notebook](https://lamin.ai/laminlabs/lamindata/transform/O3BqO4LsJmxI) that ran on the visium dataset discussed on the previous pages and added the Vitessce visualiation to [this dataset](https://lamin.ai/laminlabs/lamindata/artifact/kVMuYil81BHTwQ9G)."
   ]
  },
  {
   "cell_type": "markdown",
   "metadata": {},
   "source": [
    "<img src=\"https://lamin-site-assets.s3.amazonaws.com/.lamindb/3QN5qimmfQ4CELoh0000.png\" width=\"900px\">"
   ]
  },
  {
   "cell_type": "code",
   "execution_count": null,
   "metadata": {},
   "outputs": [],
   "source": [
    "# clean up test instance\n",
    "!rm -rf test-spatial\n",
    "!lamin delete --force test-spatial"
   ]
  }
 ],
 "metadata": {
  "kernelspec": {
   "display_name": "lamindb",
   "language": "python",
   "name": "python3"
  },
  "language_info": {
   "codemirror_mode": {
    "name": "ipython",
    "version": 3
   },
   "file_extension": ".py",
   "mimetype": "text/x-python",
   "name": "python",
   "nbconvert_exporter": "python",
   "pygments_lexer": "ipython3",
   "version": "3.12.8"
  },
  "nbproject": {
   "dependency": null,
   "id": "daeFs3PkquDW",
   "time_init": "2022-07-12T17:54:02.478333+00:00",
   "version": "draft"
  }
 },
 "nbformat": 4,
 "nbformat_minor": 2
}
