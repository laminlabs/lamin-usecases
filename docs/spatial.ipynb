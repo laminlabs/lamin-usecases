{
 "cells": [
  {
   "cell_type": "markdown",
   "metadata": {},
   "source": [
    "# Spatial"
   ]
  },
  {
   "cell_type": "markdown",
   "metadata": {},
   "source": [
    "Here, you'll learn how to manage spatial datasets:\n",
    "\n",
    "1. curate and ingest spatial data (![spatial1/4](https://img.shields.io/badge/spatial1/4-lightgrey))\n",
    "2. query & analyze spatial datasets ([![spatial2/4](https://img.shields.io/badge/spatial2/4-lightgrey)](/spatial2))\n",
    "3. load the collection into memory & train a ML model ([![spatial3/4](https://img.shields.io/badge/spatial3/4-lightgrey)](/spatial3))\n",
    "4. create and share interactive visualizations with vitessce ([![spatial4/4](https://img.shields.io/badge/spatial4/4-lightgrey)](/spatial4))\n",
    "\n",
    "\n",
    "```{toctree}\n",
    ":maxdepth: 1\n",
    ":hidden:\n",
    "\n",
    "spatial2\n",
    "spatial3\n",
    "spatial4\n",
    "```"
   ]
  },
  {
   "cell_type": "markdown",
   "metadata": {},
   "source": [
    "Spatial omics data integrates molecular profiling (e.g., transcriptomics, proteomics) with spatial information, preserving the spatial organization of cells and tissues.\n",
    "It enables high-resolution mapping of molecular activity within biological contexts, crucial for understanding cellular interactions and microenvironments.\n",
    "\n",
    "Many different spatial technologies such as multiplexed imaging, spatial transcriptomics, spatial proteomics, whole-slide imaging, spatial metabolomics, and 3D tissue reconstruction exist which can all be stored in the [SpatialData](https://github.com/scverse/spatialdata) data framework.\n",
    "For more details we refer to the original publication:\n",
    "\n",
    "Marconato, L., Palla, G., Yamauchi, K.A. et al. SpatialData: an open and universal data framework for spatial omics. Nat Methods 22, 58–62 (2025). [https://doi.org/10.1038/s41592-024-02212-x](https://doi.org/10.1038/s41592-024-02212-x)"
   ]
  },
  {
   "cell_type": "markdown",
   "metadata": {},
   "source": [
    ":::{note}\n",
    "\n",
    "A collection of curated spatial datasets in SpatialData format is available on the [scverse/spatialdata-db instance](https://lamin.ai/scverse/spatialdata-db).\n",
    "\n",
    ":::"
   ]
  },
  {
   "cell_type": "code",
   "execution_count": null,
   "metadata": {},
   "outputs": [],
   "source": [
    "# !pip install 'lamindb[jupyter,bionty]' spatialdata[spatialdata-plot]\n",
    "!lamin init --storage ./test-spatial --schema bionty"
   ]
  },
  {
   "cell_type": "code",
   "execution_count": null,
   "metadata": {
    "tags": [
     "hide-output"
    ]
   },
   "outputs": [],
   "source": [
    "import lamindb as ln\n",
    "import bionty as bt\n",
    "import pandas as pd\n",
    "import spatialdata_plot\n",
    "import warnings\n",
    "\n",
    "warnings.filterwarnings(\"ignore\")\n",
    "\n",
    "ln.track()"
   ]
  },
  {
   "cell_type": "markdown",
   "metadata": {},
   "source": [
    "## Creating SpatialData Artifacts"
   ]
  },
  {
   "cell_type": "markdown",
   "metadata": {},
   "source": [
    "lamindb provides a {meth}`~lamindb.Artifact.from_spatialdata` method to create {class}`~lamindb.Artifact` from SpatialData objects."
   ]
  },
  {
   "cell_type": "code",
   "execution_count": null,
   "metadata": {
    "tags": [
     "hide-output"
    ]
   },
   "outputs": [],
   "source": [
    "example_blobs_sdata = ln.core.datasets.spatialdata_blobs()\n",
    "example_blobs_sdata"
   ]
  },
  {
   "cell_type": "code",
   "execution_count": null,
   "metadata": {
    "tags": [
     "hide-output"
    ]
   },
   "outputs": [],
   "source": [
    "blobs_af = ln.Artifact.from_spatialdata(example_blobs_sdata, key=\"example_blobs.zarr\")\n",
    "blobs_af"
   ]
  },
  {
   "cell_type": "code",
   "execution_count": null,
   "metadata": {
    "tags": [
     "hide-output"
    ]
   },
   "outputs": [],
   "source": [
    "# SpatialData Artifacts have the corresponding otype\n",
    "blobs_af.otype"
   ]
  },
  {
   "cell_type": "code",
   "execution_count": null,
   "metadata": {
    "tags": [
     "hide-output"
    ]
   },
   "outputs": [],
   "source": [
    "# SpatialData Artifacts can easily be loaded back into memory\n",
    "example_blobs_in_memory = blobs_af.load()\n",
    "example_blobs_in_memory"
   ]
  },
  {
   "cell_type": "markdown",
   "metadata": {},
   "source": [
    "## Curating SpatialData datasets"
   ]
  },
  {
   "cell_type": "markdown",
   "metadata": {},
   "source": [
    "For the remainder of the guide, we will work with two 10X Xenium and a 10X Visium H&E image dataset.\n",
    "\n",
    "More details can be found in the [ingestion notebook](https://lamin.ai/laminlabs/lamindata/transform/MN1DpkKGjzbk)."
   ]
  },
  {
   "cell_type": "code",
   "execution_count": null,
   "metadata": {
    "tags": [
     "hide-output"
    ]
   },
   "outputs": [],
   "source": [
    "# load first of two cropped Xenium datasets\n",
    "xenium_aligned_1_sdata = (\n",
    "    ln.Artifact.using(\"laminlabs/lamindata\")\n",
    "    .get(key=\"xenium_aligned_1_guide_min.zarr\")\n",
    "    .load()\n",
    ")\n",
    "xenium_aligned_1_sdata"
   ]
  },
  {
   "cell_type": "markdown",
   "metadata": {},
   "source": [
    "Metadata is stored in two places in the SpatialData object:\n",
    "1. Dataset level metadata is stored in `sdata.attrs[\"sample\"]`.\n",
    "2. Measurement specific metadata is stored in the associated tables in `sdata.tables`."
   ]
  },
  {
   "cell_type": "markdown",
   "metadata": {},
   "source": [
    "We define a {class}`lamindb.Schema` to curate both sample and table metadata."
   ]
  },
  {
   "cell_type": "code",
   "execution_count": null,
   "metadata": {
    "tags": [
     "hide-output"
    ]
   },
   "outputs": [],
   "source": [
    "# define sample schema\n",
    "xenium_sample_schema = ln.Schema(\n",
    "    name=\"Xenium sample level\",\n",
    "    features=[\n",
    "        ln.Feature(name=\"organism\", dtype=bt.Organism).save(),\n",
    "        ln.Feature(name=\"assay\", dtype=bt.ExperimentalFactor).save(),\n",
    "        ln.Feature(name=\"disease\", dtype=bt.Disease).save(),\n",
    "        ln.Feature(name=\"tissue\", dtype=bt.Tissue).save(),\n",
    "        ln.Feature(name=\"panel\", dtype=\"cat[ULabel]\").save(),\n",
    "    ],\n",
    "    coerce_dtype=True,\n",
    ").save()\n",
    "\n",
    "# define table obs schema\n",
    "xenium_obs_schema = ln.Schema(\n",
    "    name=\"Xenium obs level\",\n",
    "    features=[\n",
    "        ln.Feature(name=\"celltype_major\", dtype=bt.CellType).save(),\n",
    "    ],\n",
    "    coerce_dtype=True,\n",
    ").save()\n",
    "\n",
    "# define table var schema\n",
    "spatial_var_schema = ln.Schema(\n",
    "    name=\"Xenium var level\", itype=bt.Gene.ensembl_gene_id, dtype=int\n",
    ").save()\n",
    "\n",
    "# define composite schema\n",
    "xenium_schema = ln.Schema(\n",
    "    name=\"Xenium schema\",\n",
    "    otype=\"SpatialData\",\n",
    "    components={\n",
    "        \"sample\": xenium_sample_schema,\n",
    "        \"table:obs\": xenium_obs_schema,\n",
    "        \"table:var\": spatial_var_schema,\n",
    "    },\n",
    ").save()"
   ]
  },
  {
   "cell_type": "code",
   "execution_count": null,
   "metadata": {
    "tags": [
     "hide-output"
    ]
   },
   "outputs": [],
   "source": [
    "xenium_curator = ln.curators.SpatialDataCurator(xenium_aligned_1_sdata, xenium_schema)\n",
    "try:\n",
    "    xenium_curator.validate()\n",
    "except ln.errors.ValidationError as e:\n",
    "    print(e)"
   ]
  },
  {
   "cell_type": "code",
   "execution_count": null,
   "metadata": {
    "tags": [
     "hide-output"
    ]
   },
   "outputs": [],
   "source": [
    "xenium_curator.slots[\"sample\"].cat.add_new_from(\"panel\")"
   ]
  },
  {
   "cell_type": "code",
   "execution_count": null,
   "metadata": {
    "tags": [
     "hide-output"
    ]
   },
   "outputs": [],
   "source": [
    "try:\n",
    "    xenium_curator.validate()\n",
    "except ln.errors.ValidationError as e:\n",
    "    print(e)"
   ]
  },
  {
   "cell_type": "code",
   "execution_count": null,
   "metadata": {
    "tags": [
     "hide-output"
    ]
   },
   "outputs": [],
   "source": [
    "xenium_aligned_1_sdata.tables[\"table\"].obs[\"celltype_major\"] = (\n",
    "    xenium_aligned_1_sdata.tables[\"table\"]\n",
    "    .obs[\"celltype_major\"]\n",
    "    .replace(\n",
    "        {\n",
    "            \"CAFs\": \"cancer associated fibroblast\",\n",
    "            \"Endothelial\": \"endothelial cell\",\n",
    "            \"Myeloid\": \"myeloid cell\",\n",
    "            \"PVL\": \"perivascular cell\",\n",
    "            \"T-cells\": \"T cell\",\n",
    "            \"B-cells\": \"B cell\",\n",
    "            \"Normal Epithelial\": \"epithelial cell\",\n",
    "            \"Plasmablasts\": \"plasmablast\",\n",
    "            \"Cancer Epithelial\": \"neoplastic epithelial cell\",\n",
    "        }\n",
    "    )\n",
    ")"
   ]
  },
  {
   "cell_type": "code",
   "execution_count": null,
   "metadata": {
    "tags": [
     "hide-output"
    ]
   },
   "outputs": [],
   "source": [
    "try:\n",
    "    xenium_curator.validate()\n",
    "except ln.errors.ValidationError as e:\n",
    "    print(e)"
   ]
  },
  {
   "cell_type": "code",
   "execution_count": null,
   "metadata": {},
   "outputs": [],
   "source": [
    "xenium_curator.slots[\"table:obs\"].cat.add_new_from(\"celltype_major\")"
   ]
  },
  {
   "cell_type": "code",
   "execution_count": null,
   "metadata": {
    "tags": [
     "hide-output"
    ]
   },
   "outputs": [],
   "source": [
    "xenium_1_curated_af = xenium_curator.save_artifact(key=\"xenium1.zarr\")"
   ]
  },
  {
   "cell_type": "code",
   "execution_count": null,
   "metadata": {},
   "outputs": [],
   "source": [
    "xenium_1_curated_af.describe()"
   ]
  },
  {
   "cell_type": "markdown",
   "metadata": {},
   "source": [
    "## Creating a Collection of curated SpatialData datasets"
   ]
  },
  {
   "cell_type": "markdown",
   "metadata": {},
   "source": [
    "We can reuse the same curator for a second Xenium dataset:"
   ]
  },
  {
   "cell_type": "code",
   "execution_count": null,
   "metadata": {
    "tags": [
     "hide-output"
    ]
   },
   "outputs": [],
   "source": [
    "xenium_aligned_2_sdata = (\n",
    "    ln.Artifact.using(\"laminlabs/lamindata\")\n",
    "    .get(key=\"xenium_aligned_2_guide_min.zarr\")\n",
    "    .load()\n",
    ")\n",
    "\n",
    "xenium_aligned_2_sdata.tables[\"table\"].obs[\"celltype_major\"] = (\n",
    "    xenium_aligned_2_sdata.tables[\"table\"]\n",
    "    .obs[\"celltype_major\"]\n",
    "    .replace(\n",
    "        {\n",
    "            \"CAFs\": \"cancer associated fibroblast\",\n",
    "            \"Endothelial\": \"endothelial cell\",\n",
    "            \"Myeloid\": \"myeloid cell\",\n",
    "            \"PVL\": \"perivascular cell\",\n",
    "            \"T-cells\": \"T cell\",\n",
    "            \"B-cells\": \"B cell\",\n",
    "            \"Normal Epithelial\": \"epithelial cell\",\n",
    "            \"Plasmablasts\": \"plasmablast\",\n",
    "            \"Cancer Epithelial\": \"neoplastic epithelial cell\",\n",
    "        }\n",
    "    )\n",
    ")"
   ]
  },
  {
   "cell_type": "code",
   "execution_count": null,
   "metadata": {
    "tags": [
     "hide-output"
    ]
   },
   "outputs": [],
   "source": [
    "xenium_curator = ln.curators.SpatialDataCurator(xenium_aligned_2_sdata, xenium_schema)\n",
    "try:\n",
    "    xenium_curator.validate()\n",
    "except ln.errors.ValidationError as e:\n",
    "    print(e)"
   ]
  },
  {
   "cell_type": "code",
   "execution_count": null,
   "metadata": {},
   "outputs": [],
   "source": [
    "xenium_2_curated_af = xenium_curator.save_artifact(key=\"xenium2.zarr\")"
   ]
  },
  {
   "cell_type": "markdown",
   "metadata": {},
   "source": [
    "Analogously, we can define a Schema and Curator for Visium datasets:"
   ]
  },
  {
   "cell_type": "code",
   "execution_count": null,
   "metadata": {},
   "outputs": [],
   "source": [
    "visium_sample_schema = ln.Schema(\n",
    "    name=\"Visium sample level\",\n",
    "    features=[\n",
    "        ln.Feature(name=\"organism\", dtype=bt.Organism).save(),\n",
    "        ln.Feature(name=\"assay\", dtype=bt.ExperimentalFactor).save(),\n",
    "        ln.Feature(name=\"disease\", dtype=bt.Disease).save(),\n",
    "        ln.Feature(name=\"tissue\", dtype=bt.Tissue).save(),\n",
    "    ],\n",
    "    coerce_dtype=True,\n",
    ").save()\n",
    "\n",
    "visium_schema = ln.Schema(\n",
    "    name=\"Visium schema\",\n",
    "    otype=\"SpatialData\",\n",
    "    components={\n",
    "        \"sample\": visium_sample_schema,\n",
    "        \"table:var\": spatial_var_schema,\n",
    "    },\n",
    ").save()"
   ]
  },
  {
   "cell_type": "code",
   "execution_count": null,
   "metadata": {
    "tags": [
     "hide-output"
    ]
   },
   "outputs": [],
   "source": [
    "visium_aligned_sdata = (\n",
    "    ln.Artifact.using(\"laminlabs/lamindata\")\n",
    "    .get(key=\"visium_aligned_guide_min.zarr\")\n",
    "    .load()\n",
    ")\n",
    "visium_aligned_sdata"
   ]
  },
  {
   "cell_type": "code",
   "execution_count": null,
   "metadata": {},
   "outputs": [],
   "source": [
    "visium_curator = ln.curators.SpatialDataCurator(visium_aligned_sdata, visium_schema)\n",
    "try:\n",
    "    visium_curator.validate()\n",
    "except ln.errors.ValidationError as e:\n",
    "    print(e)"
   ]
  },
  {
   "cell_type": "code",
   "execution_count": null,
   "metadata": {},
   "outputs": [],
   "source": [
    "visium_curated_af = visium_curator.save_artifact(key=\"visium.zarr\")"
   ]
  },
  {
   "cell_type": "code",
   "execution_count": null,
   "metadata": {},
   "outputs": [],
   "source": [
    "spatial_collection = ln.Collection(\n",
    "    [xenium_1_curated_af, xenium_2_curated_af, visium_curated_af],\n",
    "    key=\"spatial_collection\",\n",
    ").save()\n",
    "spatial_collection"
   ]
  },
  {
   "cell_type": "code",
   "execution_count": null,
   "metadata": {
    "tags": [
     "hide-output"
    ]
   },
   "outputs": [],
   "source": [
    "ln.finish()"
   ]
  }
 ],
 "metadata": {
  "kernelspec": {
   "display_name": "lamindb",
   "language": "python",
   "name": "python3"
  },
  "language_info": {
   "codemirror_mode": {
    "name": "ipython",
    "version": 3
   },
   "file_extension": ".py",
   "mimetype": "text/x-python",
   "name": "python",
   "nbconvert_exporter": "python",
   "pygments_lexer": "ipython3",
   "version": "3.12.8"
  }
 },
 "nbformat": 4,
 "nbformat_minor": 2
}
