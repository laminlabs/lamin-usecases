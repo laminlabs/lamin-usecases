{
 "cells": [
  {
   "cell_type": "markdown",
   "metadata": {},
   "source": [
    "# Spatial"
   ]
  },
  {
   "cell_type": "markdown",
   "metadata": {},
   "source": [
    "Here, you'll learn how to manage a growing number of spatial datasets as a single queryable collection:\n",
    "\n",
    "# TODO rewrite\n",
    "1. create a dataset (an {class}`~lamindb.Artifact`) and seed a {class}`~lamindb.Collection` (![scrna1/6](https://img.shields.io/badge/scrna1/6-lightgrey))\n",
    "2. append a new dataset to the collection ([![scrna2/6](https://img.shields.io/badge/scrna2/6-lightgrey)](/scrna2))\n",
    "3. query & analyze individual datasets ([![scrna3/6](https://img.shields.io/badge/scrna3/6-lightgrey)](/scrna3))\n",
    "4. load the collection into memory ([![scrna4/6](https://img.shields.io/badge/scrna4/6-lightgrey)](/scrna4))\n",
    "5. iterate over the collection to train an ML model ([![scrna5/6](https://img.shields.io/badge/scrna5/6-lightgrey)](/scrna-mappedcollection))\n",
    "6. concatenate the collection to a single `tiledbsoma` array store ([![scrna6/6](https://img.shields.io/badge/scrna6/6-lightgrey)](/scrna-tiledbsoma))\n",
    "\n",
    "\n",
    "```{toctree}\n",
    ":maxdepth: 1\n",
    ":hidden:\n",
    "\n",
    "spatial2\n",
    "spatial3\n",
    "spatial4\n",
    "spatial5\n",
    "```"
   ]
  },
  {
   "cell_type": "code",
   "execution_count": null,
   "metadata": {},
   "outputs": [],
   "source": [
    "# !pip install 'lamindb[jupyter,bionty]' spatialdata[spatialdata-io,spatialdata-plot]\n",
    "!lamin init --storage ./test-spatial --schema bionty"
   ]
  },
  {
   "cell_type": "code",
   "execution_count": null,
   "metadata": {},
   "outputs": [],
   "source": [
    "import lamindb as ln\n",
    "import bionty as bt\n",
    "import pandas as pd\n",
    "from spatialdata.datasets import blobs\n",
    "import spatialdata_plot\n",
    "import warnings\n",
    "\n",
    "warnings.filterwarnings(\"ignore\")\n",
    "\n",
    "ln.track()"
   ]
  },
  {
   "cell_type": "code",
   "execution_count": null,
   "metadata": {},
   "outputs": [],
   "source": []
  },
  {
   "cell_type": "code",
   "execution_count": null,
   "metadata": {},
   "outputs": [],
   "source": [
    "# clean up test instance\n",
    "!rm -rf test-spatial\n",
    "!lamin delete --force test-spatial"
   ]
  }
 ],
 "metadata": {
  "kernelspec": {
   "display_name": "lamindb",
   "language": "python",
   "name": "python3"
  },
  "language_info": {
   "codemirror_mode": {
    "name": "ipython",
    "version": 3
   },
   "file_extension": ".py",
   "mimetype": "text/x-python",
   "name": "python",
   "nbconvert_exporter": "python",
   "pygments_lexer": "ipython3",
   "version": "3.12.8"
  }
 },
 "nbformat": 4,
 "nbformat_minor": 2
}
