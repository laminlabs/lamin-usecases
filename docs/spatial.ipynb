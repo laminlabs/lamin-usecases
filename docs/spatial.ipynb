{
 "cells": [
  {
   "cell_type": "markdown",
   "metadata": {},
   "source": [
    "[![Jupyter Notebook](https://img.shields.io/badge/Source%20on%20GitHub-orange)](https://github.com/laminlabs/lamin-usecases/blob/main/docs/spatial.ipynb)\n"
   ]
  },
  {
   "cell_type": "markdown",
   "metadata": {},
   "source": [
    "# Spatial"
   ]
  },
  {
   "cell_type": "code",
   "execution_count": null,
   "metadata": {
    "tags": [
     "hide-output"
    ]
   },
   "outputs": [],
   "source": [
    "# !pip install 'lamindb[jupyter,bionty]' spatialdata[spatialdata-io,spatialdata-plot]\n",
    "!lamin init --storage ./test-spatial --schema bionty"
   ]
  },
  {
   "cell_type": "code",
   "execution_count": null,
   "metadata": {
    "tags": [
     "hide-output"
    ]
   },
   "outputs": [],
   "source": [
    "import lamindb as ln\n",
    "import bionty as bt\n",
    "import pandas as pd\n",
    "from spatialdata.datasets import blobs\n",
    "import spatialdata_plot\n",
    "import warnings\n",
    "\n",
    "warnings.filterwarnings(\"ignore\")\n",
    "\n",
    "ln.track()"
   ]
  },
  {
   "cell_type": "markdown",
   "metadata": {},
   "source": [
    "## An example spatial dataset"
   ]
  },
  {
   "cell_type": "code",
   "execution_count": null,
   "metadata": {},
   "outputs": [],
   "source": [
    "# Replace this with a proper dataset from https://spatialdata.scverse.org/en/latest/tutorials/notebooks/datasets/README.html\n",
    "\n",
    "sdata = blobs()\n",
    "sdata.attrs[\"sample\"] = {\n",
    "    \"assay\": \"Visium Spatial Gene Expression\",\n",
    "    \"disease\": \"Alzheimer's dementia\",\n",
    "    \"developmental_stage\": \"very early\",\n",
    "}\n",
    "sdata.tables[\"table\"].var.index = [\n",
    "    \"ENSG00000139618\",  # BRCA2\n",
    "    \"ENSG00000157764\",  # BRAF\n",
    "    \"ENSG00000999999\",  # Does not exist - to test add new\n",
    "]\n",
    "sdata.tables[\"table\"].obs[\"sample_region\"] = pd.Categorical(\n",
    "    [\"region 1\"] * 13 + [\"region 2\"] * 13\n",
    ")"
   ]
  },
  {
   "cell_type": "code",
   "execution_count": null,
   "metadata": {},
   "outputs": [],
   "source": [
    "curator = ln.Curator.from_spatialdata(\n",
    "    sdata,\n",
    "    var_index={\"table\": bt.Gene.ensembl_gene_id},\n",
    "    categoricals={\n",
    "        \"sample\": {\n",
    "            \"assay\": bt.ExperimentalFactor.name,\n",
    "            \"disease\": bt.Disease.name,\n",
    "            \"developmental_stage\": bt.DevelopmentalStage.name,\n",
    "        },\n",
    "        \"table\": {\"sample_region\": ln.ULabel.name},\n",
    "    },\n",
    "    organism=\"human\",\n",
    ")\n",
    "\n",
    "curator.validate()\n",
    "curator.add_new_from_var_index(\"table\")\n",
    "curator.add_new_from(key=\"developmental_stage\", accessor=\"sample\")\n",
    "curator.add_new_from(key=\"sample_region\", accessor=\"table\")\n",
    "\n",
    "curator.standardize(key=\"disease\", accessor=\"sample\")\n",
    "\n",
    "artifact = curator.save_artifact(description=\"blob spatialdata\")\n",
    "artifact.describe()"
   ]
  },
  {
   "cell_type": "code",
   "execution_count": null,
   "metadata": {},
   "outputs": [],
   "source": [
    "sdata.pl.render_images(\"blobs_multiscale_image\").pl.show()"
   ]
  },
  {
   "cell_type": "code",
   "execution_count": null,
   "metadata": {
    "tags": [
     "hide-output"
    ]
   },
   "outputs": [],
   "source": [
    "# clean up test instance\n",
    "!rm -rf test-spatial\n",
    "!lamin delete --force test-spatial"
   ]
  }
 ],
 "metadata": {
  "kernelspec": {
   "display_name": "lamindb",
   "language": "python",
   "name": "python3"
  },
  "language_info": {
   "codemirror_mode": {
    "name": "ipython",
    "version": 3
   },
   "file_extension": ".py",
   "mimetype": "text/x-python",
   "name": "python",
   "nbconvert_exporter": "python",
   "pygments_lexer": "ipython3",
   "version": "3.12.8"
  },
  "nbproject": {
   "dependency": null,
   "id": "daeFs3PkquDW",
   "time_init": "2022-07-12T17:54:02.478333+00:00",
   "version": "draft"
  }
 },
 "nbformat": 4,
 "nbformat_minor": 2
}
