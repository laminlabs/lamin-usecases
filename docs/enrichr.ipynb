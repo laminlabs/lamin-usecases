{
 "cells": [
  {
   "cell_type": "markdown",
   "metadata": {},
   "source": [
    "[![Jupyter Notebook](https://img.shields.io/badge/Source%20on%20GitHub-orange)](https://github.com/laminlabs/lamin-usecases/blob/main/docs/enrichr.ipynb)"
   ]
  },
  {
   "attachments": {},
   "cell_type": "markdown",
   "metadata": {},
   "source": [
    "# Gene Ontology (GO)"
   ]
  },
  {
   "attachments": {},
   "cell_type": "markdown",
   "metadata": {},
   "source": [
    "Pathways represent interconnected molecular networks of signaling cascades that govern critical cellular processes. They provide understandings  cellular behavior mechanisms, insights of disease progression and treatment responses. In an R&D organization, managing pathways across different datasets are crucial for gaining insights of potential therapeutic targets and intervention strategies.\n",
    "\n",
    "In this notebook we manage a pathway registry based on \"2023 GO Biological Process\" ontology. We'll walk you through the steps of registering pathways and link them to genes.\n",
    "\n",
    "In the following [Standardize metadata on-the-fly](analysis-registries) notebook, we'll demonstrate how to perform a pathway enrichment analysis and track the dataset with LaminDB."
   ]
  },
  {
   "cell_type": "code",
   "execution_count": null,
   "metadata": {
    "tags": [
     "hide-output"
    ]
   },
   "outputs": [],
   "source": [
    "# !pip install 'lamindb[jupyter,bionty]'\n",
    "!lamin init --storage ./use-cases-registries --schema bionty"
   ]
  },
  {
   "cell_type": "code",
   "execution_count": null,
   "metadata": {},
   "outputs": [],
   "source": [
    "import lamindb as ln\n",
    "import bionty as bt\n",
    "import gseapy as gp\n",
    "\n",
    "bt.settings.organism = \"human\"  # globally set organism"
   ]
  },
  {
   "attachments": {},
   "cell_type": "markdown",
   "metadata": {},
   "source": [
    "## Fetch GO pathways annotated with human genes using Enrichr"
   ]
  },
  {
   "attachments": {},
   "cell_type": "markdown",
   "metadata": {},
   "source": [
    "First we fetch the \"GO_Biological_Process_2023\" pathways for humans using [GSEApy](https://github.com/zqfang/GSEApy) which wraps [GSEA](https://www.gsea-msigdb.org/gsea/index.jsp) and [Enrichr](https://maayanlab.cloud/Enrichr/)."
   ]
  },
  {
   "cell_type": "code",
   "execution_count": null,
   "metadata": {},
   "outputs": [],
   "source": [
    "go_bp = gp.get_library(name=\"GO_Biological_Process_2023\", organism=\"Human\")\n",
    "print(f\"Number of pathways {len(go_bp)}\")"
   ]
  },
  {
   "cell_type": "code",
   "execution_count": null,
   "metadata": {},
   "outputs": [],
   "source": [
    "go_bp[\"ATF6-mediated Unfolded Protein Response (GO:0036500)\"]"
   ]
  },
  {
   "attachments": {},
   "cell_type": "markdown",
   "metadata": {},
   "source": [
    "Parse out the ontology_id from keys, convert into the format of {ontology_id: (name, genes)}"
   ]
  },
  {
   "cell_type": "code",
   "execution_count": null,
   "metadata": {},
   "outputs": [],
   "source": [
    "def parse_ontology_id_from_keys(key):\n",
    "    \"\"\"Parse out the ontology id.\n",
    "\n",
    "    \"ATF6-mediated Unfolded Protein Response (GO:0036500)\" -> (\"GO:0036500\", \"ATF6-mediated Unfolded Protein Response\")\n",
    "    \"\"\"\n",
    "    name, id = key.rsplit(\" (\", 1)\n",
    "    id = id.rstrip(\")\")\n",
    "    return id, name"
   ]
  },
  {
   "cell_type": "code",
   "execution_count": null,
   "metadata": {},
   "outputs": [],
   "source": [
    "go_bp_parsed = {}\n",
    "\n",
    "for key, genes in go_bp.items():\n",
    "    id, name = parse_ontology_id_from_keys(key)\n",
    "    go_bp_parsed[id] = (name, genes)"
   ]
  },
  {
   "cell_type": "code",
   "execution_count": null,
   "metadata": {},
   "outputs": [],
   "source": [
    "go_bp_parsed[\"GO:0036500\"]"
   ]
  },
  {
   "attachments": {},
   "cell_type": "markdown",
   "metadata": {},
   "source": [
    "## Register pathway ontology in LaminDB"
   ]
  },
  {
   "cell_type": "code",
   "execution_count": null,
   "metadata": {
    "tags": [
     "hide-output"
    ]
   },
   "outputs": [],
   "source": [
    "bionty = bt.Pathway.public()\n",
    "bionty"
   ]
  },
  {
   "attachments": {},
   "cell_type": "markdown",
   "metadata": {},
   "source": [
    "Next, we register all the pathways and genes in LaminDB to finally link pathways to genes."
   ]
  },
  {
   "attachments": {},
   "cell_type": "markdown",
   "metadata": {},
   "source": [
    "### Register pathway terms"
   ]
  },
  {
   "attachments": {},
   "cell_type": "markdown",
   "metadata": {},
   "source": [
    "To register the pathways we make use of `.from_values` to directly parse the annotated GO pathway ontology IDs into LaminDB."
   ]
  },
  {
   "cell_type": "code",
   "execution_count": null,
   "metadata": {},
   "outputs": [],
   "source": [
    "pathway_records = bt.Pathway.from_values(go_bp_parsed.keys(), bt.Pathway.ontology_id)\n",
    "ln.save(pathway_records)"
   ]
  },
  {
   "attachments": {},
   "cell_type": "markdown",
   "metadata": {},
   "source": [
    "### Register gene symbols"
   ]
  },
  {
   "attachments": {},
   "cell_type": "markdown",
   "metadata": {},
   "source": [
    "Similarly, we use `.from_values` for all Pathway associated genes to register them with LaminDB."
   ]
  },
  {
   "cell_type": "code",
   "execution_count": null,
   "metadata": {},
   "outputs": [],
   "source": [
    "all_genes = bt.Gene.standardize(list({g for genes in go_bp.values() for g in genes}))\n",
    "gene_records = bt.Gene.from_values(all_genes, bt.Gene.symbol)\n",
    "ln.save(gene_records);"
   ]
  },
  {
   "cell_type": "markdown",
   "metadata": {},
   "source": [
    "Manually register the 37 non-validated symbols:"
   ]
  },
  {
   "cell_type": "code",
   "execution_count": null,
   "metadata": {},
   "outputs": [],
   "source": [
    "inspect_result = bt.Gene.inspect(all_genes, bt.Gene.symbol)\n",
    "\n",
    "nonval_genes = []\n",
    "for g in inspect_result.non_validated:\n",
    "    nonval_genes.append(bt.Gene(symbol=g))\n",
    "\n",
    "ln.save(nonval_genes)"
   ]
  },
  {
   "attachments": {},
   "cell_type": "markdown",
   "metadata": {},
   "source": [
    "### Link pathway to genes"
   ]
  },
  {
   "attachments": {},
   "cell_type": "markdown",
   "metadata": {},
   "source": [
    "Now that we are tracking all pathways and genes records, we can link both of them to make the pathways even more queryable."
   ]
  },
  {
   "cell_type": "code",
   "execution_count": null,
   "metadata": {},
   "outputs": [],
   "source": [
    "symbols_gene_records = {record.symbol: record for record in gene_records}"
   ]
  },
  {
   "cell_type": "code",
   "execution_count": null,
   "metadata": {},
   "outputs": [],
   "source": [
    "for pathway_record in pathway_records:\n",
    "    pathway_genes = go_bp_parsed.get(pathway_record.ontology_id)[1]\n",
    "    pathway_genes_records = [symbols_gene_records.get(gene) for gene in pathway_genes]\n",
    "    pathway_record.genes.set(pathway_genes_records)"
   ]
  },
  {
   "attachments": {},
   "cell_type": "markdown",
   "metadata": {},
   "source": [
    "Now genes are linked to pathways:"
   ]
  },
  {
   "cell_type": "code",
   "execution_count": null,
   "metadata": {},
   "outputs": [],
   "source": [
    "pathway_record.genes.list(\"symbol\")"
   ]
  },
  {
   "cell_type": "code",
   "execution_count": null,
   "metadata": {},
   "outputs": [],
   "source": [
    "pathway_record.genes.list(\"ensembl_gene_id\")"
   ]
  },
  {
   "cell_type": "markdown",
   "metadata": {},
   "source": [
    "Move on to the next analysis: [Standardize metadata on-the-fly](analysis-registries.ipynb)"
   ]
  }
 ],
 "metadata": {
  "citation-manager": {
   "items": {}
  },
  "kernelspec": {
   "display_name": "Python 3 (ipykernel)",
   "language": "python",
   "name": "python3"
  },
  "language_info": {
   "codemirror_mode": {
    "name": "ipython",
    "version": 3
   },
   "file_extension": ".py",
   "mimetype": "text/x-python",
   "name": "python",
   "nbconvert_exporter": "python",
   "pygments_lexer": "ipython3",
   "version": "3.10.13"
  },
  "nbproject": {
   "id": "6oxEIEduvo6w",
   "parent": null,
   "pypackage": null,
   "time_init": "2023-06-02T11:39:19.752181+00:00",
   "user_handle": "sunnyosun",
   "user_id": "kmvZDIX9",
   "user_name": "Sunny Sun",
   "version": "0"
  }
 },
 "nbformat": 4,
 "nbformat_minor": 4
}
