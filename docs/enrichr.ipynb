{
 "cells": [
  {
   "cell_type": "markdown",
   "metadata": {},
   "source": [
    "[![Jupyter Notebook](https://img.shields.io/badge/Jupyter%20Notebook-orange)](https://github.com/laminlabs/lamin-usecases/blob/main/docs/enrichr.ipynb)"
   ]
  },
  {
   "attachments": {},
   "cell_type": "markdown",
   "metadata": {},
   "source": [
    "# Gene Ontology (GO)"
   ]
  },
  {
   "attachments": {},
   "cell_type": "markdown",
   "metadata": {},
   "source": [
    "Pathways represent interconnected molecular networks of signaling cascades that govern critical cellular processes. They provide understandings  cellular behavior mechanisms, insights of disease progression and treatment responses. In an R&D organization, managing pathways across different datasets are crucial for gaining insights of potential therapeutic targets and intervention strategies.\n",
    "\n",
    "In this notebook we manage a pathway registry based on \"2023 GO Biological Process\" ontology. We'll walk you through the following steps:\n",
    "\n",
    "1. Register pathways and link them to genes. \n",
    "2. Perform a pathway enrichment analysis on an interferon-beta treated dataset and track the dataset with LaminDB.\n",
    "3. Demonstrate how datasets are queryable by pathways and genes using LaminDB."
   ]
  },
  {
   "attachments": {},
   "cell_type": "markdown",
   "metadata": {},
   "source": [
    "## Setup"
   ]
  },
  {
   "attachments": {},
   "cell_type": "markdown",
   "metadata": {},
   "source": [
    "```{warning}\n",
    "\n",
    "Please ensure that you have created or loaded a LaminDB instance before running the remaining part of this notebook!\n",
    "```"
   ]
  },
  {
   "cell_type": "code",
   "execution_count": null,
   "metadata": {
    "tags": [
     "hide-output"
    ]
   },
   "outputs": [],
   "source": [
    "# A lamindb instance containing bionty schema (skip if you already loaded your own instance)\n",
    "!lamin init --storage ./enrichr --schema bionty"
   ]
  },
  {
   "cell_type": "code",
   "execution_count": null,
   "metadata": {},
   "outputs": [],
   "source": [
    "import lamindb as ln\n",
    "import lnschema_bionty as lb\n",
    "from lamin_usecases import datasets as ds\n",
    "import gseapy as gp\n",
    "import scanpy as sc\n",
    "import matplotlib.pyplot as plt\n",
    "\n",
    "lb.settings.organism = \"human\"  # globally set organism"
   ]
  },
  {
   "attachments": {},
   "cell_type": "markdown",
   "metadata": {},
   "source": [
    "## Fetch GO pathways annotated with human genes using Enrichr"
   ]
  },
  {
   "attachments": {},
   "cell_type": "markdown",
   "metadata": {},
   "source": [
    "First we fetch the \"GO_Biological_Process_2023\" pathways for humans using [GSEApy](https://github.com/zqfang/GSEApy) which wraps [GSEA](https://www.gsea-msigdb.org/gsea/index.jsp) and [Enrichr](https://maayanlab.cloud/Enrichr/)."
   ]
  },
  {
   "cell_type": "code",
   "execution_count": null,
   "metadata": {},
   "outputs": [],
   "source": [
    "go_bp = gp.get_library(name=\"GO_Biological_Process_2023\", organism=\"Human\")\n",
    "print(f\"Number of pathways {len(go_bp)}\")"
   ]
  },
  {
   "cell_type": "code",
   "execution_count": null,
   "metadata": {},
   "outputs": [],
   "source": [
    "go_bp[\"ATF6-mediated Unfolded Protein Response (GO:0036500)\"]"
   ]
  },
  {
   "attachments": {},
   "cell_type": "markdown",
   "metadata": {},
   "source": [
    "Parse out the ontology_id from keys, convert into the format of {ontology_id: (name, genes)}"
   ]
  },
  {
   "cell_type": "code",
   "execution_count": null,
   "metadata": {},
   "outputs": [],
   "source": [
    "def parse_ontology_id_from_keys(key):\n",
    "    \"\"\"Parse out the ontology id.\n",
    "\n",
    "    \"ATF6-mediated Unfolded Protein Response (GO:0036500)\" -> (\"GO:0036500\", \"ATF6-mediated Unfolded Protein Response\")\n",
    "    \"\"\"\n",
    "    id = key.split(\" \")[-1].replace(\"(\", \"\").replace(\")\", \"\")\n",
    "    name = key.replace(f\" ({id})\", \"\")\n",
    "    return (id, name)"
   ]
  },
  {
   "cell_type": "code",
   "execution_count": null,
   "metadata": {},
   "outputs": [],
   "source": [
    "go_bp_parsed = {}\n",
    "\n",
    "for key, genes in go_bp.items():\n",
    "    id, name = parse_ontology_id_from_keys(key)\n",
    "    go_bp_parsed[id] = (name, genes)"
   ]
  },
  {
   "cell_type": "code",
   "execution_count": null,
   "metadata": {},
   "outputs": [],
   "source": [
    "go_bp_parsed[\"GO:0036500\"]"
   ]
  },
  {
   "attachments": {},
   "cell_type": "markdown",
   "metadata": {},
   "source": [
    "## Register pathway ontology in LaminDB"
   ]
  },
  {
   "cell_type": "code",
   "execution_count": null,
   "metadata": {
    "tags": [
     "hide-output"
    ]
   },
   "outputs": [],
   "source": [
    "pathway_bionty = lb.Pathway.bionty()  # equals to bionty.Pathway()"
   ]
  },
  {
   "cell_type": "code",
   "execution_count": null,
   "metadata": {},
   "outputs": [],
   "source": [
    "pathway_bionty"
   ]
  },
  {
   "attachments": {},
   "cell_type": "markdown",
   "metadata": {},
   "source": [
    "Next, we register all the pathways and genes in LaminDB to finally link pathways to genes."
   ]
  },
  {
   "attachments": {},
   "cell_type": "markdown",
   "metadata": {},
   "source": [
    "### Register pathway terms"
   ]
  },
  {
   "attachments": {},
   "cell_type": "markdown",
   "metadata": {},
   "source": [
    "To register the pathways we make use of `.from_values` to directly parse the annotated GO pathway ontology IDs into LaminDB."
   ]
  },
  {
   "cell_type": "code",
   "execution_count": null,
   "metadata": {},
   "outputs": [],
   "source": [
    "pathway_records = lb.Pathway.from_values(go_bp_parsed.keys(), lb.Pathway.ontology_id)"
   ]
  },
  {
   "cell_type": "code",
   "execution_count": null,
   "metadata": {},
   "outputs": [],
   "source": [
    "lb.Pathway.from_bionty(ontology_id=\"GO:0015868\")"
   ]
  },
  {
   "cell_type": "code",
   "execution_count": null,
   "metadata": {},
   "outputs": [],
   "source": [
    "ln.save(pathway_records, parents=False)  # not recursing through parents"
   ]
  },
  {
   "attachments": {},
   "cell_type": "markdown",
   "metadata": {},
   "source": [
    "### Register gene symbols"
   ]
  },
  {
   "attachments": {},
   "cell_type": "markdown",
   "metadata": {},
   "source": [
    "Similarly, we use `.from_values` for all Pathway associated genes to register them with LaminDB."
   ]
  },
  {
   "cell_type": "code",
   "execution_count": null,
   "metadata": {},
   "outputs": [],
   "source": [
    "all_genes = {g for genes in go_bp.values() for g in genes}"
   ]
  },
  {
   "cell_type": "code",
   "execution_count": null,
   "metadata": {
    "tags": [
     "hide-output"
    ]
   },
   "outputs": [],
   "source": [
    "gene_records = lb.Gene.from_values(all_genes, lb.Gene.symbol)"
   ]
  },
  {
   "cell_type": "code",
   "execution_count": null,
   "metadata": {},
   "outputs": [],
   "source": [
    "gene_records[:3]"
   ]
  },
  {
   "cell_type": "code",
   "execution_count": null,
   "metadata": {},
   "outputs": [],
   "source": [
    "ln.save(gene_records);"
   ]
  },
  {
   "attachments": {},
   "cell_type": "markdown",
   "metadata": {},
   "source": [
    "### Link pathway to genes"
   ]
  },
  {
   "attachments": {},
   "cell_type": "markdown",
   "metadata": {},
   "source": [
    "Now that we are tracking all pathways and genes records, we can link both of them to make the pathways even more queryable."
   ]
  },
  {
   "cell_type": "code",
   "execution_count": null,
   "metadata": {},
   "outputs": [],
   "source": [
    "gene_records_ids = {record.symbol: record for record in gene_records}"
   ]
  },
  {
   "cell_type": "code",
   "execution_count": null,
   "metadata": {},
   "outputs": [],
   "source": [
    "for pathway_record in pathway_records:\n",
    "    pathway_genes = go_bp_parsed.get(pathway_record.ontology_id)[1]\n",
    "    pathway_genes_records = [gene_records_ids.get(gene) for gene in pathway_genes]\n",
    "    pathway_record.genes.set(pathway_genes_records)"
   ]
  },
  {
   "attachments": {},
   "cell_type": "markdown",
   "metadata": {},
   "source": [
    "Now genes are linked to pathways:"
   ]
  },
  {
   "cell_type": "code",
   "execution_count": null,
   "metadata": {},
   "outputs": [],
   "source": [
    "pathway_record.genes.list(\"symbol\")"
   ]
  },
  {
   "attachments": {},
   "cell_type": "markdown",
   "metadata": {},
   "source": [
    "## A interferon-beta treated dataset"
   ]
  },
  {
   "attachments": {},
   "cell_type": "markdown",
   "metadata": {},
   "source": [
    "We will now conduct a pathway enrichment analysis on a small peripheral blood mononuclear cell dataset that is split into control and stimulated groups.\n",
    "The stimulated group was treated with interferon beta."
   ]
  },
  {
   "attachments": {},
   "cell_type": "markdown",
   "metadata": {},
   "source": [
    "Let's load the dataset and look at the cell type annotations."
   ]
  },
  {
   "cell_type": "code",
   "execution_count": null,
   "metadata": {
    "tags": [
     "hide-output"
    ]
   },
   "outputs": [],
   "source": [
    "adata = ds.anndata_seurat_ifnb()"
   ]
  },
  {
   "cell_type": "code",
   "execution_count": null,
   "metadata": {},
   "outputs": [],
   "source": [
    "adata"
   ]
  },
  {
   "cell_type": "code",
   "execution_count": null,
   "metadata": {},
   "outputs": [],
   "source": [
    "adata.obs[\"seurat_annotations\"].value_counts()"
   ]
  },
  {
   "attachments": {},
   "cell_type": "markdown",
   "metadata": {},
   "source": [
    "For simplicity, we subset to \"B Activated\" cells:"
   ]
  },
  {
   "cell_type": "code",
   "execution_count": null,
   "metadata": {},
   "outputs": [],
   "source": [
    "adata_ba = adata[adata.obs.seurat_annotations == \"B Activated\"].copy()\n",
    "adata_ba"
   ]
  },
  {
   "attachments": {},
   "cell_type": "markdown",
   "metadata": {},
   "source": [
    "### Pathway enrichment analysis using Enrichr"
   ]
  },
  {
   "attachments": {},
   "cell_type": "markdown",
   "metadata": {},
   "source": [
    "This analysis is based on the [GSEApy scRNA-seq Example](https://gseapy.readthedocs.io/en/latest/singlecell_example.html)."
   ]
  },
  {
   "attachments": {},
   "cell_type": "markdown",
   "metadata": {},
   "source": [
    "First, we compute differentially expressed genes using a Wilcoxon test between stimulated and control cells."
   ]
  },
  {
   "cell_type": "code",
   "execution_count": null,
   "metadata": {},
   "outputs": [],
   "source": [
    "# compute differentially expressed genes\n",
    "sc.tl.rank_genes_groups(\n",
    "    adata_ba,\n",
    "    groupby=\"stim\",\n",
    "    use_raw=False,\n",
    "    method=\"wilcoxon\",\n",
    "    groups=[\"STIM\"],\n",
    "    reference=\"CTRL\",\n",
    ")\n",
    "\n",
    "rank_genes_groups_df = sc.get.rank_genes_groups_df(adata_ba, \"STIM\")"
   ]
  },
  {
   "cell_type": "code",
   "execution_count": null,
   "metadata": {},
   "outputs": [],
   "source": [
    "rank_genes_groups_df.head()"
   ]
  },
  {
   "attachments": {},
   "cell_type": "markdown",
   "metadata": {},
   "source": [
    "Next, we filter out up/down-regulated differentially expressed gene sets:"
   ]
  },
  {
   "cell_type": "code",
   "execution_count": null,
   "metadata": {},
   "outputs": [],
   "source": [
    "degs_up = rank_genes_groups_df[\n",
    "    (rank_genes_groups_df[\"logfoldchanges\"] > 0)\n",
    "    & (rank_genes_groups_df[\"pvals_adj\"] < 0.05)\n",
    "]\n",
    "degs_dw = rank_genes_groups_df[\n",
    "    (rank_genes_groups_df[\"logfoldchanges\"] < 0)\n",
    "    & (rank_genes_groups_df[\"pvals_adj\"] < 0.05)\n",
    "]"
   ]
  },
  {
   "cell_type": "code",
   "execution_count": null,
   "metadata": {},
   "outputs": [],
   "source": [
    "degs_up.shape, degs_dw.shape"
   ]
  },
  {
   "attachments": {},
   "cell_type": "markdown",
   "metadata": {},
   "source": [
    "Run pathway enrichment analysis on DEGs and plot top 10 pathways:"
   ]
  },
  {
   "cell_type": "code",
   "execution_count": null,
   "metadata": {},
   "outputs": [],
   "source": [
    "enr_up = gp.enrichr(degs_up.names, gene_sets=\"GO_Biological_Process_2023\").res2d\n",
    "\n",
    "gp.dotplot(enr_up, figsize=(2, 3), title=\"Up\", cmap=plt.cm.autumn_r);"
   ]
  },
  {
   "cell_type": "code",
   "execution_count": null,
   "metadata": {},
   "outputs": [],
   "source": [
    "enr_dw = gp.enrichr(degs_dw.names, gene_sets=\"GO_Biological_Process_2023\").res2d\n",
    "\n",
    "gp.dotplot(enr_dw, figsize=(2, 3), title=\"Down\", cmap=plt.cm.winter_r, size=10);"
   ]
  },
  {
   "attachments": {},
   "cell_type": "markdown",
   "metadata": {},
   "source": [
    "## Track datasets containing annotated pathways in LaminDB"
   ]
  },
  {
   "attachments": {},
   "cell_type": "markdown",
   "metadata": {},
   "source": [
    "Let's enable tracking of the current notebook as the transform of this file:"
   ]
  },
  {
   "cell_type": "code",
   "execution_count": null,
   "metadata": {},
   "outputs": [],
   "source": [
    "ln.track()"
   ]
  },
  {
   "attachments": {},
   "cell_type": "markdown",
   "metadata": {},
   "source": [
    "We further create a File object to track the dataset."
   ]
  },
  {
   "cell_type": "code",
   "execution_count": null,
   "metadata": {},
   "outputs": [],
   "source": [
    "file = ln.File.from_anndata(\n",
    "    adata_ba, description=\"seurat_ifnb_activated_Bcells\", field=lb.Gene.symbol\n",
    ")\n",
    "file.save()"
   ]
  },
  {
   "attachments": {},
   "cell_type": "markdown",
   "metadata": {},
   "source": [
    "We further create two feature sets for `degs_up` and `degs_dw` which we can later associate with the associated pathways:"
   ]
  },
  {
   "cell_type": "code",
   "execution_count": null,
   "metadata": {
    "tags": [
     "hide-output"
    ]
   },
   "outputs": [],
   "source": [
    "degs_up_featureset = ln.FeatureSet.from_values(degs_up.names, lb.Gene.symbol)"
   ]
  },
  {
   "cell_type": "code",
   "execution_count": null,
   "metadata": {
    "tags": [
     "hide-output"
    ]
   },
   "outputs": [],
   "source": [
    "degs_dw_featureset = ln.FeatureSet.from_values(degs_dw.names, lb.Gene.symbol)"
   ]
  },
  {
   "attachments": {},
   "cell_type": "markdown",
   "metadata": {},
   "source": [
    "Link the top 10 pathways to the corresponding differentially expressed genes:"
   ]
  },
  {
   "cell_type": "code",
   "execution_count": null,
   "metadata": {},
   "outputs": [],
   "source": [
    "# get ontology ids for the top 10 pathways\n",
    "enr_up_top10 = [\n",
    "    pw_id[0] for pw_id in enr_up.head(10).Term.apply(parse_ontology_id_from_keys)\n",
    "]\n",
    "enr_dw_top10 = [\n",
    "    pw_id[0] for pw_id in enr_dw.head(10).Term.apply(parse_ontology_id_from_keys)\n",
    "]\n",
    "\n",
    "# get pathway records\n",
    "enr_up_top10_pathways = lb.Pathway.from_values(enr_up_top10, lb.Pathway.ontology_id)\n",
    "enr_dw_top10_pathways = lb.Pathway.from_values(enr_dw_top10, lb.Pathway.ontology_id)"
   ]
  },
  {
   "cell_type": "markdown",
   "metadata": {},
   "source": [
    "Link feature sets to file:"
   ]
  },
  {
   "cell_type": "code",
   "execution_count": null,
   "metadata": {},
   "outputs": [],
   "source": [
    "file.features.add_feature_set(degs_up_featureset, slot=\"up-DEGs\")\n",
    "file.features.add_feature_set(degs_dw_featureset, slot=\"down-DEGs\")"
   ]
  },
  {
   "attachments": {},
   "cell_type": "markdown",
   "metadata": {},
   "source": [
    "Associate the pathways to the differentially expressed genes:"
   ]
  },
  {
   "cell_type": "code",
   "execution_count": null,
   "metadata": {},
   "outputs": [],
   "source": [
    "degs_up_featureset.pathways.set(enr_up_top10_pathways)\n",
    "degs_dw_featureset.pathways.set(enr_dw_top10_pathways)"
   ]
  },
  {
   "cell_type": "code",
   "execution_count": null,
   "metadata": {},
   "outputs": [],
   "source": [
    "degs_up_featureset.pathways.list(\"name\")"
   ]
  },
  {
   "attachments": {},
   "cell_type": "markdown",
   "metadata": {},
   "source": [
    "## Querying for pathways"
   ]
  },
  {
   "attachments": {},
   "cell_type": "markdown",
   "metadata": {},
   "source": [
    "Querying for pathways is now simple with `.filter`:"
   ]
  },
  {
   "cell_type": "code",
   "execution_count": null,
   "metadata": {},
   "outputs": [],
   "source": [
    "lb.Pathway.filter(name__contains=\"interferon-beta\").df()"
   ]
  },
  {
   "attachments": {},
   "cell_type": "markdown",
   "metadata": {},
   "source": [
    "Query pathways from a gene:"
   ]
  },
  {
   "cell_type": "code",
   "execution_count": null,
   "metadata": {},
   "outputs": [],
   "source": [
    "lb.Pathway.filter(genes__symbol=\"KIR2DL1\").df()"
   ]
  },
  {
   "attachments": {},
   "cell_type": "markdown",
   "metadata": {},
   "source": [
    "Query files from a pathway:"
   ]
  },
  {
   "cell_type": "code",
   "execution_count": null,
   "metadata": {},
   "outputs": [],
   "source": [
    "ln.File.filter(feature_sets__pathways__name__icontains=\"interferon-beta\").first()"
   ]
  },
  {
   "attachments": {},
   "cell_type": "markdown",
   "metadata": {},
   "source": [
    "Query featuresets from a pathway to learn from which geneset this pathway was computed:"
   ]
  },
  {
   "cell_type": "code",
   "execution_count": null,
   "metadata": {},
   "outputs": [],
   "source": [
    "pathway = lb.Pathway.filter(ontology_id=\"GO:0035456\").one()\n",
    "pathway"
   ]
  },
  {
   "cell_type": "code",
   "execution_count": null,
   "metadata": {},
   "outputs": [],
   "source": [
    "degs = ln.FeatureSet.filter(pathways__ontology_id=pathway.ontology_id).one()"
   ]
  },
  {
   "attachments": {},
   "cell_type": "markdown",
   "metadata": {},
   "source": [
    "Now we can get the list of genes that are differentially expressed and belong to this pathway:"
   ]
  },
  {
   "cell_type": "code",
   "execution_count": null,
   "metadata": {},
   "outputs": [],
   "source": [
    "pathway_genes = set(pathway.genes.list(\"symbol\"))\n",
    "degs_genes = set(degs.genes.list(\"symbol\"))"
   ]
  },
  {
   "cell_type": "code",
   "execution_count": null,
   "metadata": {},
   "outputs": [],
   "source": [
    "pathway_genes.intersection(degs_genes)"
   ]
  },
  {
   "cell_type": "code",
   "execution_count": null,
   "metadata": {
    "tags": [
     "hide-output"
    ]
   },
   "outputs": [],
   "source": [
    "# clean up test instance\n",
    "!lamin delete --force enrichr\n",
    "!rm -r ./enrichr"
   ]
  }
 ],
 "metadata": {
  "citation-manager": {
   "items": {}
  },
  "kernelspec": {
   "display_name": "Python 3 (ipykernel)",
   "language": "python",
   "name": "python3"
  },
  "language_info": {
   "codemirror_mode": {
    "name": "ipython",
    "version": 3
   },
   "file_extension": ".py",
   "mimetype": "text/x-python",
   "name": "python",
   "nbconvert_exporter": "python",
   "pygments_lexer": "ipython3",
   "version": "3.9.16"
  },
  "nbproject": {
   "id": "6oxEIEduvo6w",
   "parent": null,
   "pypackage": null,
   "time_init": "2023-06-02T11:39:19.752181+00:00",
   "user_handle": "sunnyosun",
   "user_id": "kmvZDIX9",
   "user_name": "Sunny Sun",
   "version": "0"
  }
 },
 "nbformat": 4,
 "nbformat_minor": 4
}
