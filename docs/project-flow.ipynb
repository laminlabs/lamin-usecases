{
 "cells": [
  {
   "cell_type": "markdown",
   "metadata": {},
   "source": [
    "[![Jupyter Notebook](https://img.shields.io/badge/Source%20on%20GitHub-orange)](https://github.com/laminlabs/lamin-usecases/blob/main/docs/project-flow.ipynb)\n",
    "[![Binder](https://mybinder.org/badge_logo.svg)](https://mybinder.org/v2/gh/laminlabs/lamin-usecases/main?labpath=lamin-usecases%2Fdocs%2Fproject-flow.ipynb)"
   ]
  },
  {
   "attachments": {},
   "cell_type": "markdown",
   "metadata": {},
   "source": [
    "# Project flow"
   ]
  },
  {
   "attachments": {},
   "cell_type": "markdown",
   "metadata": {},
   "source": [
    "LaminDB allows tracking data lineage on the entire project level.\n",
    "\n",
    "Here, we walk through exemplified app uploads, pipelines & notebooks following [Schmidt _et al._, 2022](https://pubmed.ncbi.nlm.nih.gov/35113687/).\n",
    "\n",
    "A CRISPR screen reading out a phenotypic endpoint on T cells is paired with scRNA-seq to generate insights into IFN-γ production.\n",
    "\n",
    "These insights get linked back to the original data through the steps taken in the project to provide context for interpretation & future decision making.\n",
    "\n",
    "<img src=\"https://lamin-site-assets.s3.amazonaws.com/.lamindb/KQmzmmLOeBN0C8Ykitjn.svg\" width=\"800\">\n",
    "\n",
    ":::{dropdown} More specifically: Why should I care about data flow?\n",
    "\n",
    "Data flow tracks data sources & transformations to trace biological insights, verify experimental outcomes, meet regulatory standards, increase the robustness of research and optimize the feedback loop of team-wide learning iterations.\n",
    "\n",
    "While tracking data flow is easier when it's governed by deterministic pipelines, it becomes hard when it's governed by interactive human-driven analyses.\n",
    "\n",
    "LaminDB interfaces workflow mangers for the former and embraces the latter.\n",
    "\n",
    ":::\n",
    "\n",
    "```{toctree}\n",
    ":maxdepth: 1\n",
    ":hidden:\n",
    "\n",
    "project-flow-scripts/hit-identification\n",
    "project-flow-scripts/integrated-analysis\n",
    "```"
   ]
  },
  {
   "cell_type": "markdown",
   "metadata": {},
   "source": [
    "## Setup"
   ]
  },
  {
   "cell_type": "markdown",
   "metadata": {},
   "source": [
    "Init a test instance:"
   ]
  },
  {
   "cell_type": "markdown",
   "metadata": {},
   "source": [
    "Install the `lamindb` Python package:\n",
    "```shell\n",
    "pip install 'lamindb[jupyter,bionty,aws]'\n",
    "```"
   ]
  },
  {
   "cell_type": "code",
   "execution_count": null,
   "metadata": {
    "tags": [
     "hide-output"
    ]
   },
   "outputs": [],
   "source": [
    "!lamin init --storage ./mydata"
   ]
  },
  {
   "cell_type": "markdown",
   "metadata": {},
   "source": [
    "Import lamindb:"
   ]
  },
  {
   "cell_type": "code",
   "execution_count": null,
   "metadata": {},
   "outputs": [],
   "source": [
    "import lamindb as ln\n",
    "from IPython.display import Image, display"
   ]
  },
  {
   "cell_type": "markdown",
   "metadata": {},
   "source": [
    "## Steps"
   ]
  },
  {
   "cell_type": "markdown",
   "metadata": {},
   "source": [
    "In the following, we walk through exemplified steps covering different types of transforms ({class}`~docs:lamindb.Transform`).\n",
    "\n",
    "```{note}\n",
    "\n",
    "The full notebooks are in [this repository](https://github.com/laminlabs/rnd-demo).\n",
    "\n",
    "```"
   ]
  },
  {
   "cell_type": "markdown",
   "metadata": {},
   "source": [
    "### App upload of phenotypic data ![](https://img.shields.io/badge/app-444444)"
   ]
  },
  {
   "cell_type": "markdown",
   "metadata": {},
   "source": [
    "Register data through app upload from wetlab by `testuser1`:"
   ]
  },
  {
   "cell_type": "code",
   "execution_count": null,
   "metadata": {
    "tags": [
     "hide-output"
    ]
   },
   "outputs": [],
   "source": [
    "# This function mimics the upload of artifacts via the UI\n",
    "# In reality, you simply drag and drop files into the UI\n",
    "def mock_upload_crispra_result_app():\n",
    "    ln.setup.login(\"testuser1\")\n",
    "    transform = ln.Transform(name=\"Upload GWS CRISPRa result\", type=\"upload\")\n",
    "    ln.track(transform=transform)\n",
    "    output_path = ln.core.datasets.schmidt22_crispra_gws_IFNG(ln.settings.storage.root)\n",
    "    output_file = ln.Artifact(\n",
    "        output_path, description=\"Raw data of schmidt22 crispra GWS\"\n",
    "    )\n",
    "    output_file.save()\n",
    "\n",
    "mock_upload_crispra_result_app()"
   ]
  },
  {
   "cell_type": "markdown",
   "metadata": {},
   "source": [
    "### Hit identification in notebook ![](https://img.shields.io/badge/notebook-444444)"
   ]
  },
  {
   "cell_type": "markdown",
   "metadata": {},
   "source": [
    "Access, transform & register data in drylab by `testuser2` in notebook [hit-identification](project-flow-scripts/hit-identification)."
   ]
  },
  {
   "cell_type": "code",
   "execution_count": null,
   "metadata": {
    "tags": [
     "hide-cell"
    ]
   },
   "outputs": [],
   "source": [
    "# the following mimics the integrated analysis notebook\n",
    "# In reality, you would execute inside the notebook\n",
    "import nbproject_test\n",
    "from pathlib import Path\n",
    "\n",
    "cwd = Path.cwd()\n",
    "nbproject_test.execute_notebooks(cwd / \"project-flow-scripts/hit-identification.ipynb\", write=True)"
   ]
  },
  {
   "cell_type": "markdown",
   "metadata": {},
   "source": [
    "Inspect data flow:"
   ]
  },
  {
   "cell_type": "code",
   "execution_count": null,
   "metadata": {},
   "outputs": [],
   "source": [
    "artifact = ln.Artifact.filter(description=\"hits from schmidt22 crispra GWS\").one()\n",
    "artifact.view_lineage()"
   ]
  },
  {
   "cell_type": "markdown",
   "metadata": {},
   "source": [
    "### Sequencer upload ![](https://img.shields.io/badge/script-444444)"
   ]
  },
  {
   "cell_type": "markdown",
   "metadata": {},
   "source": [
    "Upload files from sequencer via script [chromium_10x_upload.py](https://github.com/laminlabs/lamin-usecases/blob/main/docs/project-flow-scripts/chromium_10x_upload.py):"
   ]
  },
  {
   "cell_type": "code",
   "execution_count": null,
   "metadata": {
    "tags": [
     "hide-output"
    ]
   },
   "outputs": [],
   "source": [
    "!python project-flow-scripts/chromium_10x_upload.py"
   ]
  },
  {
   "attachments": {},
   "cell_type": "markdown",
   "metadata": {},
   "source": [
    "### scRNA-seq bioinformatics pipeline ![](https://img.shields.io/badge/pipeline-444444)"
   ]
  },
  {
   "attachments": {},
   "cell_type": "markdown",
   "metadata": {},
   "source": [
    "Process uploaded files using a script or workflow manager: {doc}`docs:pipelines` and obtain 3 output files in a directory `filtered_feature_bc_matrix/`:"
   ]
  },
  {
   "cell_type": "markdown",
   "metadata": {},
   "source": [
    "[cellranger.py](https://github.com/laminlabs/lamin-usecases/blob/main/docs/project-flow-scripts/cellranger.py)"
   ]
  },
  {
   "cell_type": "code",
   "execution_count": null,
   "metadata": {
    "tags": [
     "hide-output"
    ]
   },
   "outputs": [],
   "source": [
    "!python project-flow-scripts/cellranger.py"
   ]
  },
  {
   "cell_type": "markdown",
   "metadata": {},
   "source": [
    "[postprocess_cellranger.py](https://github.com/laminlabs/lamin-usecases/blob/main/docs/project-flow-scripts/postprocess_cellranger.py)"
   ]
  },
  {
   "cell_type": "code",
   "execution_count": null,
   "metadata": {
    "tags": [
     "hide-output"
    ]
   },
   "outputs": [],
   "source": [
    "!python project-flow-scripts/postprocess_cellranger.py"
   ]
  },
  {
   "cell_type": "markdown",
   "metadata": {},
   "source": [
    "Inspect data flow:"
   ]
  },
  {
   "cell_type": "code",
   "execution_count": null,
   "metadata": {},
   "outputs": [],
   "source": [
    "output_file = ln.Artifact.filter(description=\"perturbseq counts\").one()\n",
    "output_file.view_lineage()"
   ]
  },
  {
   "cell_type": "markdown",
   "metadata": {},
   "source": [
    "### Integrate scRNA-seq & phenotypic data ![](https://img.shields.io/badge/notebook-444444)"
   ]
  },
  {
   "cell_type": "markdown",
   "metadata": {},
   "source": [
    "Integrate data in notebook [integrated-analysis](project-flow-scripts/integrated-analysis)."
   ]
  },
  {
   "cell_type": "code",
   "execution_count": null,
   "metadata": {
    "tags": [
     "hide-cell"
    ]
   },
   "outputs": [],
   "source": [
    "# the following mimics the integrated analysis notebook\n",
    "# In reality, you would execute inside the notebook\n",
    "nbproject_test.execute_notebooks(cwd / \"project-flow-scripts/integrated-analysis.ipynb\", write=True)"
   ]
  },
  {
   "cell_type": "markdown",
   "metadata": {},
   "source": [
    "## Review results"
   ]
  },
  {
   "attachments": {},
   "cell_type": "markdown",
   "metadata": {},
   "source": [
    "Let's load one of the plots:"
   ]
  },
  {
   "cell_type": "code",
   "execution_count": null,
   "metadata": {},
   "outputs": [],
   "source": [
    "# track the current notebook as transform\n",
    "ln.settings.transform.stem_uid = \"1LCd8kco9lZU\"\n",
    "ln.settings.transform.version = \"0\"\n",
    "ln.track()"
   ]
  },
  {
   "cell_type": "code",
   "execution_count": null,
   "metadata": {
    "tags": [
     "hide-output"
    ]
   },
   "outputs": [],
   "source": [
    "artifact = ln.Artifact.filter(key__contains=\"figures/matrixplot\").one()\n",
    "artifact.cache()"
   ]
  },
  {
   "cell_type": "code",
   "execution_count": null,
   "metadata": {},
   "outputs": [],
   "source": [
    "display(Image(filename=artifact.path))"
   ]
  },
  {
   "cell_type": "markdown",
   "metadata": {},
   "source": [
    "We see that the image artifact is tracked as an input of the current notebook. The input is highlighted, the notebook follows at the bottom:"
   ]
  },
  {
   "cell_type": "code",
   "execution_count": null,
   "metadata": {},
   "outputs": [],
   "source": [
    "artifact.view_lineage()"
   ]
  },
  {
   "attachments": {},
   "cell_type": "markdown",
   "metadata": {},
   "source": [
    "Alternatively, we can also look at the sequence of transforms:"
   ]
  },
  {
   "cell_type": "code",
   "execution_count": null,
   "metadata": {},
   "outputs": [],
   "source": [
    "transform = ln.Transform.search(\"Project flow\").first()\n",
    "transform.predecessors.df()"
   ]
  },
  {
   "cell_type": "code",
   "execution_count": null,
   "metadata": {},
   "outputs": [],
   "source": [
    "transform.view_parents()"
   ]
  },
  {
   "attachments": {},
   "cell_type": "markdown",
   "metadata": {},
   "source": [
    "## Understand runs"
   ]
  },
  {
   "attachments": {},
   "cell_type": "markdown",
   "metadata": {},
   "source": [
    "We tracked pipeline and notebook runs through {class}`~docs:lamindb.core.run_context`, which stores a {class}`~docs:lamindb.Transform` and a {class}`~docs:lamindb.Run` record as a global context.\n",
    "\n",
    "{class}`~lamindb.Artifact` objects are the inputs and outputs of runs. "
   ]
  },
  {
   "attachments": {},
   "cell_type": "markdown",
   "metadata": {},
   "source": [
    ":::{dropdown} What if I don't want a global context?\n",
    "\n",
    "Sometimes, we don't want to create a global run context but manually pass a run when creating an artifact:\n",
    "```python\n",
    "run = ln.Run(transform=transform)\n",
    "ln.Artifact(filepath, run=run)\n",
    "```\n",
    "\n",
    ":::"
   ]
  },
  {
   "attachments": {},
   "cell_type": "markdown",
   "metadata": {},
   "source": [
    ":::{dropdown} When does an artifact appear as a run input?\n",
    "\n",
    "When accessing an artifact via `cache()`, `load()` or `open()`, two things happen:\n",
    "\n",
    "1. The current run gets added to `artifact.input_of`\n",
    "2. The transform of that artifact gets added as a parent of the current transform\n",
    "\n",
    "You can then switch off auto-tracking of run inputs if you set `ln.settings.track_run_inputs = False`: {doc}`docs:faq/track-run-inputs`\n",
    "\n",
    "You can also track run inputs on a case by case basis via `is_run_input=True`, e.g., here:\n",
    "```python\n",
    "artifact.load(is_run_input=True)\n",
    "```\n",
    "\n",
    ":::"
   ]
  },
  {
   "attachments": {},
   "cell_type": "markdown",
   "metadata": {},
   "source": [
    "## Query by provenance"
   ]
  },
  {
   "attachments": {},
   "cell_type": "markdown",
   "metadata": {},
   "source": [
    "We can query or search for the notebook that created the artifact:"
   ]
  },
  {
   "cell_type": "code",
   "execution_count": null,
   "metadata": {},
   "outputs": [],
   "source": [
    "transform = ln.Transform.search(\"GWS CRIPSRa analysis\").first()"
   ]
  },
  {
   "attachments": {},
   "cell_type": "markdown",
   "metadata": {},
   "source": [
    "And then find all the artifacts created by that notebook:"
   ]
  },
  {
   "cell_type": "code",
   "execution_count": null,
   "metadata": {},
   "outputs": [],
   "source": [
    "ln.Artifact.filter(transform=transform).df()"
   ]
  },
  {
   "attachments": {},
   "cell_type": "markdown",
   "metadata": {},
   "source": [
    "Which transform ingested a given artifact?"
   ]
  },
  {
   "cell_type": "code",
   "execution_count": null,
   "metadata": {},
   "outputs": [],
   "source": [
    "artifact = ln.Artifact.filter().first()\n",
    "artifact.transform"
   ]
  },
  {
   "attachments": {},
   "cell_type": "markdown",
   "metadata": {},
   "source": [
    "And which user?"
   ]
  },
  {
   "cell_type": "code",
   "execution_count": null,
   "metadata": {},
   "outputs": [],
   "source": [
    "artifact.created_by"
   ]
  },
  {
   "attachments": {},
   "cell_type": "markdown",
   "metadata": {},
   "source": [
    "Which transforms were created by a given user?"
   ]
  },
  {
   "cell_type": "code",
   "execution_count": null,
   "metadata": {},
   "outputs": [],
   "source": [
    "users = ln.User.lookup()"
   ]
  },
  {
   "cell_type": "code",
   "execution_count": null,
   "metadata": {},
   "outputs": [],
   "source": [
    "ln.Transform.filter(created_by=users.testuser1).df()"
   ]
  },
  {
   "attachments": {},
   "cell_type": "markdown",
   "metadata": {},
   "source": [
    "Which notebooks were created by a given user?"
   ]
  },
  {
   "cell_type": "code",
   "execution_count": null,
   "metadata": {},
   "outputs": [],
   "source": [
    "ln.Transform.filter(created_by=users.testuser1, type=\"notebook\").df()"
   ]
  },
  {
   "cell_type": "markdown",
   "metadata": {},
   "source": [
    "We can also view all recent additions to the entire database:"
   ]
  },
  {
   "cell_type": "code",
   "execution_count": null,
   "metadata": {
    "tags": [
     "hide-output"
    ]
   },
   "outputs": [],
   "source": [
    "ln.view()"
   ]
  },
  {
   "cell_type": "code",
   "execution_count": null,
   "metadata": {
    "tags": [
     "hide-cell"
    ]
   },
   "outputs": [],
   "source": [
    "!lamin login testuser1\n",
    "!lamin delete --force mydata\n",
    "!rm -r ./mydata"
   ]
  }
 ],
 "metadata": {
  "kernelspec": {
   "display_name": "Python 3 (ipykernel)",
   "language": "python",
   "name": "python3"
  },
  "language_info": {
   "codemirror_mode": {
    "name": "ipython",
    "version": 3
   },
   "file_extension": ".py",
   "mimetype": "text/x-python",
   "name": "python",
   "nbconvert_exporter": "python",
   "pygments_lexer": "ipython3",
   "version": "3.10.13"
  },
  "nbproject": {
   "id": "1LCd8kco9lZU",
   "parent": null,
   "pypackage": null,
   "time_init": "2023-01-23T13:53:15.227959+00:00",
   "user_handle": "testuser1",
   "user_id": "DzTjkKse",
   "user_name": "Test User1",
   "version": "0"
  },
  "vscode": {
   "interpreter": {
    "hash": "61b4062b24dfb1010f420dad5aa3bd73a4d2af47d0ec44eafec465a35a9d7239"
   }
  }
 },
 "nbformat": 4,
 "nbformat_minor": 4
}
