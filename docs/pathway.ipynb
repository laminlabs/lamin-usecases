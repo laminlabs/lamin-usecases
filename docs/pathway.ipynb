{
 "cells": [
  {
   "cell_type": "markdown",
   "id": "b96e33b2",
   "metadata": {},
   "source": [
    "# Pathway"
   ]
  },
  {
   "cell_type": "markdown",
   "id": "cb3bdfbe",
   "metadata": {},
   "source": [
    "lamindb provides access to the following public protein ontologies through [bionty](https://lamin.ai/docs/bionty):\n",
    "\n",
    "1. [Gene Ontology](https://bioportal.bioontology.org/ontologies/GO)\n",
    "2. [Pathway Ontology](https://bioportal.bioontology.org/ontologies/PW)\n",
    "\n",
    "Here we show how to access and search Pathway ontologies to standardize new data."
   ]
  },
  {
   "cell_type": "code",
   "execution_count": null,
   "id": "08b8df20",
   "metadata": {},
   "outputs": [],
   "source": [
    "import bionty as bt\n",
    "import pandas as pd"
   ]
  },
  {
   "cell_type": "markdown",
   "id": "5ae6b51b",
   "metadata": {},
   "source": [
    "## PublicOntology objects"
   ]
  },
  {
   "cell_type": "markdown",
   "id": "3aff1ee0",
   "metadata": {},
   "source": [
    "Let us create a public ontology accessor with `.public` method, which chooses a default public ontology source from {class}`~docs:bionty.PublicSource`.\n",
    "It's a [PublicOntology](https://lamin.ai/docs/bionty.dev.publicontology) object, which you can think about as a public registry:"
   ]
  },
  {
   "cell_type": "code",
   "execution_count": null,
   "id": "08f3a3e0",
   "metadata": {},
   "outputs": [],
   "source": [
    "pathways = bt.Pathway.public(organism=\"all\")\n",
    "pathways"
   ]
  },
  {
   "cell_type": "markdown",
   "id": "a9333100",
   "metadata": {},
   "source": [
    "As for registries, you can export the ontology as a `DataFrame`:"
   ]
  },
  {
   "cell_type": "code",
   "execution_count": null,
   "id": "b72eab56",
   "metadata": {},
   "outputs": [],
   "source": [
    "df = pathways.df()\n",
    "df.head()"
   ]
  },
  {
   "cell_type": "markdown",
   "id": "ff1dc535",
   "metadata": {},
   "source": [
    "Unlike registries, you can also export it as a Pronto object via `public.ontology`."
   ]
  },
  {
   "cell_type": "markdown",
   "id": "49c72407",
   "metadata": {},
   "source": [
    "## Look up terms"
   ]
  },
  {
   "cell_type": "markdown",
   "id": "89ed290d",
   "metadata": {},
   "source": [
    "As for registries, terms can be looked up with auto-complete:"
   ]
  },
  {
   "cell_type": "code",
   "execution_count": null,
   "id": "3d36b76a",
   "metadata": {},
   "outputs": [],
   "source": [
    "lookup = pathways.lookup()"
   ]
  },
  {
   "cell_type": "markdown",
   "id": "4be362a1",
   "metadata": {},
   "source": [
    "The `.` accessor provides normalized terms (lower case, only contains alphanumeric characters and underscores):"
   ]
  },
  {
   "cell_type": "code",
   "execution_count": null,
   "id": "7dd89a0b",
   "metadata": {},
   "outputs": [],
   "source": [
    "lookup.acetyl_coa_assimilation_pathway"
   ]
  },
  {
   "cell_type": "markdown",
   "id": "d7d52cd1",
   "metadata": {},
   "source": [
    "To look up the exact original strings, convert the lookup object to dict and use the `[]` accessor:"
   ]
  },
  {
   "cell_type": "code",
   "execution_count": null,
   "id": "c8c9e055",
   "metadata": {},
   "outputs": [],
   "source": [
    "lookup_dict = lookup.dict()\n",
    "lookup_dict[\"acetyl-CoA assimilation pathway\"]"
   ]
  },
  {
   "cell_type": "markdown",
   "id": "6ba85ea1",
   "metadata": {},
   "source": [
    "By default, the `name` field is used to generate lookup keys. You can specify another field to look up:"
   ]
  },
  {
   "cell_type": "code",
   "execution_count": null,
   "id": "02e23caf",
   "metadata": {},
   "outputs": [],
   "source": [
    "lookup = pathways.lookup(pathways.ontology_id)"
   ]
  },
  {
   "cell_type": "code",
   "execution_count": null,
   "id": "e27f79ac",
   "metadata": {},
   "outputs": [],
   "source": [
    "lookup.go_0019681"
   ]
  },
  {
   "cell_type": "markdown",
   "id": "c064a7a0",
   "metadata": {},
   "source": [
    "## Search terms"
   ]
  },
  {
   "cell_type": "markdown",
   "id": "3749a400",
   "metadata": {},
   "source": [
    "Search behaves in the same way as it does for registries:"
   ]
  },
  {
   "cell_type": "code",
   "execution_count": null,
   "id": "c3edef18",
   "metadata": {},
   "outputs": [],
   "source": [
    "pathways.search(\"acetyl coa assimilation\").head(3)"
   ]
  },
  {
   "cell_type": "markdown",
   "id": "7159fd33",
   "metadata": {},
   "source": [
    "By default, search also covers synonyms:"
   ]
  },
  {
   "cell_type": "code",
   "execution_count": null,
   "id": "b69eabee",
   "metadata": {},
   "outputs": [],
   "source": [
    "pathways.search(\"acetyl-CoA catabolism\").head(3)"
   ]
  },
  {
   "cell_type": "markdown",
   "id": "db96ea20",
   "metadata": {},
   "source": [
    "You can turn this off synonym by passing `synonyms_field=None`:"
   ]
  },
  {
   "cell_type": "code",
   "execution_count": null,
   "id": "bc396800",
   "metadata": {},
   "outputs": [],
   "source": [
    "pathways.search(\"acetyl-CoA catabolism\", synonyms_field=None).head(3)"
   ]
  },
  {
   "cell_type": "markdown",
   "id": "49bd81f6",
   "metadata": {},
   "source": [
    "Search another field (default is `.name`):"
   ]
  },
  {
   "cell_type": "code",
   "execution_count": null,
   "id": "768898ba",
   "metadata": {},
   "outputs": [],
   "source": [
    "pathways.search(\n",
    "    \"Chemical reactions and pathways resulting in the breakdown of Cinnamic Acid,3-Phenyl-2-Propenoic Acid.\",\n",
    "    field=pathways.definition,\n",
    ").head()"
   ]
  },
  {
   "cell_type": "markdown",
   "id": "257b1982",
   "metadata": {},
   "source": [
    "## Standardize Pathway identifiers"
   ]
  },
  {
   "cell_type": "markdown",
   "id": "b7030e47",
   "metadata": {},
   "source": [
    "Let us generate a `DataFrame` that stores a number of Pathway identifiers, some of which corrupted:"
   ]
  },
  {
   "cell_type": "code",
   "execution_count": null,
   "id": "136ff6fe",
   "metadata": {},
   "outputs": [],
   "source": [
    "df_orig = pd.DataFrame(\n",
    "    index=[\n",
    "        \"GO:1905210\",\n",
    "        \"GO:1905211\",\n",
    "        \"GO:1905212\",\n",
    "        \"GO:1905208\",\n",
    "        \"This pathway does not exist\",\n",
    "    ]\n",
    ")\n",
    "df_orig"
   ]
  },
  {
   "cell_type": "markdown",
   "id": "de7c5266",
   "metadata": {},
   "source": [
    "We can check whether any of our values are validated against the ontology reference:"
   ]
  },
  {
   "cell_type": "code",
   "execution_count": null,
   "id": "18184d72",
   "metadata": {},
   "outputs": [],
   "source": [
    "validated = pathways.validate(df_orig.index, pathways.name)\n",
    "df_orig.index[~validated]"
   ]
  },
  {
   "cell_type": "markdown",
   "id": "44ef5ebf",
   "metadata": {},
   "source": [
    "## Ontology source versions"
   ]
  },
  {
   "cell_type": "markdown",
   "id": "0f0d7824",
   "metadata": {},
   "source": [
    "For any given entity, we can choose from a number of versions:"
   ]
  },
  {
   "cell_type": "code",
   "execution_count": null,
   "id": "5d824ca4",
   "metadata": {},
   "outputs": [],
   "source": [
    "bt.PublicSource.filter(entity=\"Pathway\").df()"
   ]
  },
  {
   "cell_type": "markdown",
   "id": "bd7f400c",
   "metadata": {},
   "source": [
    "When instantiating a Bionty object, we can choose a source or version:"
   ]
  },
  {
   "cell_type": "code",
   "execution_count": null,
   "id": "ffe177c9",
   "metadata": {
    "lines_to_next_cell": 0
   },
   "outputs": [],
   "source": [
    "public_source = bt.PublicSource.filter(\n",
    "    source=\"go\", version=\"2023-05-10\", organism=\"all\"\n",
    ").one()\n",
    "pathways= bt.Pathway.public(public_source=public_source)\n",
    "pathways"
   ]
  },
  {
   "cell_type": "markdown",
   "id": "c8ecfa54",
   "metadata": {},
   "source": [
    "The currently used ontologies can be displayed using:"
   ]
  },
  {
   "cell_type": "code",
   "execution_count": null,
   "id": "b0a0c2db",
   "metadata": {
    "tags": [
     "hide-output"
    ]
   },
   "outputs": [],
   "source": [
    "bt.PublicSource.filter(currently_used=True).df()"
   ]
  }
 ],
 "metadata": {
  "kernelspec": {
   "display_name": "lamindb",
   "language": "python",
   "name": "python3"
  }
 },
 "nbformat": 4,
 "nbformat_minor": 5
}
