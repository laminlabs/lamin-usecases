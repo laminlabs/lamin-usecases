{
 "cells": [
  {
   "cell_type": "markdown",
   "id": "383e8d7b",
   "metadata": {},
   "source": [
    "# Pathway"
   ]
  },
  {
   "cell_type": "markdown",
   "id": "0b924741",
   "metadata": {},
   "source": [
    "lamindb provides access to the following public protein ontologies through [lnschema-bionty](https://github.com/laminlabs/lnschema-bionty):\n",
    "\n",
    "1. [Gene Ontology](https://bioportal.bioontology.org/ontologies/GO)\n",
    "2. [Pathway Ontology](https://bioportal.bioontology.org/ontologies/PW)\n",
    "\n",
    "Here we show how to access and search Pathway ontologies to standardize new data."
   ]
  },
  {
   "cell_type": "markdown",
   "id": "89fd4dd5",
   "metadata": {},
   "source": [
    "## Setup"
   ]
  },
  {
   "cell_type": "code",
   "execution_count": null,
   "id": "3ae35a22",
   "metadata": {},
   "outputs": [],
   "source": [
    "!lamin init --storage ./test-pathway --schema bionty"
   ]
  },
  {
   "cell_type": "code",
   "execution_count": null,
   "id": "d86c5d08",
   "metadata": {},
   "outputs": [],
   "source": [
    "import lnschema_bionty as lb\n",
    "import pandas as pd"
   ]
  },
  {
   "cell_type": "markdown",
   "id": "5fc81421",
   "metadata": {},
   "source": [
    "## PublicOntology objects"
   ]
  },
  {
   "cell_type": "markdown",
   "id": "8ab154dd",
   "metadata": {},
   "source": [
    "Let us create a public ontology accessor with {meth}`~docs:lnschema_bionty.dev.BioRegistry.public`, which chooses a default public ontology source from {class}`~docs:lnschema_bionty.PublicSource`.\n",
    "It's a [PublicOntology](https://lamin.ai/docs/lnschema_bionty.dev.publicontology) object, which you can think about as a public registry:"
   ]
  },
  {
   "cell_type": "code",
   "execution_count": null,
   "id": "339f323b",
   "metadata": {},
   "outputs": [],
   "source": [
    "pathways = lb.Pathway.public(organism=\"all\")\n",
    "pathways"
   ]
  },
  {
   "cell_type": "markdown",
   "id": "45ecb9c4",
   "metadata": {},
   "source": [
    "As for registries, you can export the ontology as a `DataFrame`:"
   ]
  },
  {
   "cell_type": "code",
   "execution_count": null,
   "id": "c520088b",
   "metadata": {},
   "outputs": [],
   "source": [
    "df = pathways.df()\n",
    "df.head()"
   ]
  },
  {
   "cell_type": "markdown",
   "id": "be748943",
   "metadata": {},
   "source": [
    "Unlike registries, you can also export it as a Pronto object via `public.ontology`."
   ]
  },
  {
   "cell_type": "markdown",
   "id": "9d06ae1e",
   "metadata": {},
   "source": [
    "## Look up terms"
   ]
  },
  {
   "cell_type": "markdown",
   "id": "6f66b39d",
   "metadata": {},
   "source": [
    "As for registries, terms can be looked up with auto-complete:"
   ]
  },
  {
   "cell_type": "code",
   "execution_count": null,
   "id": "2513eef2",
   "metadata": {},
   "outputs": [],
   "source": [
    "lookup = pathways.lookup()"
   ]
  },
  {
   "cell_type": "markdown",
   "id": "4ce56fac",
   "metadata": {},
   "source": [
    "The `.` accessor provides normalized terms (lower case, only contains alphanumeric characters and underscores):"
   ]
  },
  {
   "cell_type": "code",
   "execution_count": null,
   "id": "a0a28922",
   "metadata": {},
   "outputs": [],
   "source": [
    "lookup.acetyl_coa_assimilation_pathway"
   ]
  },
  {
   "cell_type": "markdown",
   "id": "94727bca",
   "metadata": {},
   "source": [
    "To look up the exact original strings, convert the lookup object to dict and use the `[]` accessor:"
   ]
  },
  {
   "cell_type": "code",
   "execution_count": null,
   "id": "8ef9837f",
   "metadata": {},
   "outputs": [],
   "source": [
    "lookup_dict = lookup.dict()\n",
    "lookup_dict[\"acetyl-CoA assimilation pathway\"]"
   ]
  },
  {
   "cell_type": "markdown",
   "id": "d68c21ef",
   "metadata": {},
   "source": [
    "By default, the `name` field is used to generate lookup keys. You can specify another field to look up:"
   ]
  },
  {
   "cell_type": "code",
   "execution_count": null,
   "id": "283f476f",
   "metadata": {},
   "outputs": [],
   "source": [
    "lookup = pathways.lookup(pathways.ontology_id)"
   ]
  },
  {
   "cell_type": "code",
   "execution_count": null,
   "id": "fe24c2db",
   "metadata": {},
   "outputs": [],
   "source": [
    "lookup.go_0019681"
   ]
  },
  {
   "cell_type": "markdown",
   "id": "504f1eee",
   "metadata": {},
   "source": [
    "## Search terms"
   ]
  },
  {
   "cell_type": "markdown",
   "id": "7012298f",
   "metadata": {},
   "source": [
    "Search behaves in the same way as it does for registries:"
   ]
  },
  {
   "cell_type": "code",
   "execution_count": null,
   "id": "30f44c99",
   "metadata": {},
   "outputs": [],
   "source": [
    "pathways.search(\"acetyl coa assimilation\").head(3)"
   ]
  },
  {
   "cell_type": "markdown",
   "id": "d541be65",
   "metadata": {},
   "source": [
    "By default, search also covers synonyms:"
   ]
  },
  {
   "cell_type": "code",
   "execution_count": null,
   "id": "66f4288e",
   "metadata": {},
   "outputs": [],
   "source": [
    "pathways.search(\"acetyl-CoA catabolism\").head(3)"
   ]
  },
  {
   "cell_type": "markdown",
   "id": "84c7a97a",
   "metadata": {},
   "source": [
    "You can turn this off synonym by passing `synonyms_field=None`:"
   ]
  },
  {
   "cell_type": "code",
   "execution_count": null,
   "id": "08991174",
   "metadata": {},
   "outputs": [],
   "source": [
    "pathways.search(\"acetyl-CoA catabolism\", synonyms_field=None).head(3)"
   ]
  },
  {
   "cell_type": "markdown",
   "id": "cfd2e01d",
   "metadata": {},
   "source": [
    "Search another field (default is `.name`):"
   ]
  },
  {
   "cell_type": "code",
   "execution_count": null,
   "id": "2778d8c3",
   "metadata": {},
   "outputs": [],
   "source": [
    "pathways.search(\n",
    "    \"Chemical reactions and pathways resulting in the breakdown of Cinnamic Acid,3-Phenyl-2-Propenoic Acid.\",\n",
    "    field=pathways.definition,\n",
    ").head()"
   ]
  },
  {
   "cell_type": "markdown",
   "id": "a9b337ae",
   "metadata": {},
   "source": [
    "## Standardize Pathway identifiers"
   ]
  },
  {
   "cell_type": "markdown",
   "id": "333d72a9",
   "metadata": {},
   "source": [
    "Let us generate a `DataFrame` that stores a number of Pathway identifiers, some of which corrupted:"
   ]
  },
  {
   "cell_type": "code",
   "execution_count": null,
   "id": "872de00a",
   "metadata": {},
   "outputs": [],
   "source": [
    "df_orig = pd.DataFrame(\n",
    "    index=[\n",
    "        \"GO:1905210\"\n",
    "        \"GO:1905211\"\n",
    "        \"GO:1905212\"\n",
    "        \"GO:1905208\"\n",
    "        \"This pathway does not exist\",\n",
    "    ]\n",
    ")\n",
    "df_orig"
   ]
  },
  {
   "cell_type": "markdown",
   "id": "e0a91869",
   "metadata": {},
   "source": [
    "We can check whether any of our values are validated against the ontology reference:"
   ]
  },
  {
   "cell_type": "code",
   "execution_count": null,
   "id": "f4e5a9b8",
   "metadata": {},
   "outputs": [],
   "source": [
    "validated = pathways.validate(df_orig.index, pathways.name)\n",
    "df_orig.index[~validated]"
   ]
  },
  {
   "cell_type": "markdown",
   "id": "a41be011",
   "metadata": {},
   "source": [
    "## Ontology source versions"
   ]
  },
  {
   "cell_type": "markdown",
   "id": "e8f72fc6",
   "metadata": {},
   "source": [
    "For any given entity, we can choose from a number of versions:"
   ]
  },
  {
   "cell_type": "code",
   "execution_count": null,
   "id": "1c905a17",
   "metadata": {},
   "outputs": [],
   "source": [
    "lb.PublicSource.filter(entity=\"Pathway\").df()"
   ]
  },
  {
   "cell_type": "markdown",
   "id": "c87d4856",
   "metadata": {},
   "source": [
    "When instantiating a Bionty object, we can choose a source or version:"
   ]
  },
  {
   "cell_type": "code",
   "execution_count": null,
   "id": "d8a94019",
   "metadata": {
    "lines_to_next_cell": 0
   },
   "outputs": [],
   "source": [
    "public_source = lb.PublicSource.filter(\n",
    "    source=\"go\", version=\"2023-05-10\", organism=\"all\"\n",
    ").one()\n",
    "pathways= lb.Pathway.public(public_source=public_source)\n",
    "pathways"
   ]
  },
  {
   "cell_type": "markdown",
   "id": "7aca01c5",
   "metadata": {},
   "source": [
    "The currently used ontologies can be displayed using:"
   ]
  },
  {
   "cell_type": "code",
   "execution_count": null,
   "id": "317965f6",
   "metadata": {
    "tags": [
     "hide-output"
    ]
   },
   "outputs": [],
   "source": [
    "lb.PublicSource.filter(currently_used=True).df()"
   ]
  },
  {
   "cell_type": "code",
   "execution_count": null,
   "id": "8fad0c73",
   "metadata": {
    "tags": [
     "hide-cell"
    ]
   },
   "outputs": [],
   "source": [
    "!lamin delete --force test-pathway\n",
    "!rm -r test-pathway"
   ]
  }
 ],
 "metadata": {
  "kernelspec": {
   "display_name": "lamindb",
   "language": "python",
   "name": "python3"
  }
 },
 "nbformat": 4,
 "nbformat_minor": 5
}
