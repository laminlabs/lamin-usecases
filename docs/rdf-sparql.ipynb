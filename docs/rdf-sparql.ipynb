{
 "cells": [
  {
   "cell_type": "markdown",
   "metadata": {},
   "source": [
    "# RDF export & SPARQL queries"
   ]
  },
  {
   "cell_type": "markdown",
   "metadata": {},
   "source": [
    "SPARQL is a query language used to retrieve and manipulate data stored in Resource Description Framework (RDF) format.\n",
    "In this tutorial, we demonstrate how lamindb registries can be queried with SPARQL."
   ]
  },
  {
   "cell_type": "code",
   "execution_count": null,
   "metadata": {},
   "outputs": [],
   "source": [
    "import warnings\n",
    "warnings.filterwarnings(\"ignore\")"
   ]
  },
  {
   "cell_type": "code",
   "execution_count": null,
   "metadata": {},
   "outputs": [],
   "source": [
    "!lamin load laminlabs/cellxgene"
   ]
  },
  {
   "cell_type": "code",
   "execution_count": null,
   "metadata": {},
   "outputs": [],
   "source": [
    "import bionty as bt\n",
    "\n",
    "from rdflib import Graph, Literal, RDF, URIRef"
   ]
  },
  {
   "cell_type": "markdown",
   "metadata": {},
   "source": [
    "Generally, we need to build a directed RDF Graph composed of triple statements.\n",
    "Such a  graph statement is represented by:\n",
    "1) a node for the subject\n",
    "\n",
    "2) an arc that goes from a subject to an object for the predicate\n",
    "\n",
    "3) a node for the object.\n",
    "\n",
    "Each of the three parts can be identified by a URI.\n",
    "\n",
    "We can use the `DataFrame` representation of lamindb registries to build a RDF graph."
   ]
  },
  {
   "cell_type": "markdown",
   "metadata": {},
   "source": [
    "## Building a RDF graph"
   ]
  },
  {
   "cell_type": "code",
   "execution_count": null,
   "metadata": {},
   "outputs": [],
   "source": [
    "diseases = bt.Disease.df()\n",
    "diseases.head()"
   ]
  },
  {
   "cell_type": "markdown",
   "metadata": {},
   "source": [
    "We convert the DataFrame to RDF by generating triples."
   ]
  },
  {
   "cell_type": "code",
   "execution_count": null,
   "metadata": {},
   "outputs": [],
   "source": [
    "rdf_graph = Graph()\n",
    "\n",
    "namespace = URIRef(\"http://sparql-example.org/\")\n",
    "\n",
    "for _, row in diseases.iterrows():\n",
    "    subject = URIRef(namespace + str(row['ontology_id']))\n",
    "    rdf_graph.add((subject, RDF.type, URIRef(namespace + \"Disease\")))\n",
    "    rdf_graph.add((subject, URIRef(namespace + \"name\"), Literal(row['name'])))\n",
    "    rdf_graph.add((subject, URIRef(namespace + \"description\"), Literal(row['description'])))\n",
    "\n",
    "rdf_graph"
   ]
  },
  {
   "cell_type": "markdown",
   "metadata": {},
   "source": [
    "Now we can query the RDF graph using SPARQL for the name and associated description:"
   ]
  },
  {
   "cell_type": "code",
   "execution_count": null,
   "metadata": {},
   "outputs": [],
   "source": [
    "query = \"\"\"\n",
    "SELECT ?name ?description\n",
    "WHERE {\n",
    "  ?disease a <http://sparql-example.org/Disease> .\n",
    "  ?disease <http://sparql-example.org/name> ?name .\n",
    "  ?disease <http://sparql-example.org/description> ?description .\n",
    "}\n",
    "LIMIT 5\n",
    "\"\"\"\n",
    "\n",
    "for row in rdf_graph.query(query):\n",
    "    print(f\"Name: {row.name}, Description: {row.description}\")"
   ]
  }
 ],
 "metadata": {
  "kernelspec": {
   "display_name": "lamindb",
   "language": "python",
   "name": "python3"
  },
  "language_info": {
   "codemirror_mode": {
    "name": "ipython",
    "version": 3
   },
   "file_extension": ".py",
   "mimetype": "text/x-python",
   "name": "python",
   "nbconvert_exporter": "python",
   "pygments_lexer": "ipython3",
   "version": "3.11.7"
  }
 },
 "nbformat": 4,
 "nbformat_minor": 2
}
