{
 "cells": [
  {
   "cell_type": "markdown",
   "id": "0",
   "metadata": {},
   "source": [
    "![imaging3/4](https://img.shields.io/badge/imaging3/4-lightgrey)\n",
    "[![Jupyter Notebook](https://img.shields.io/badge/Source%20on%20GitHub-orange)](https://github.com/laminlabs/lamin-usecases/blob/main/docs/sc-imaging3.ipynb)"
   ]
  },
  {
   "cell_type": "markdown",
   "id": "1",
   "metadata": {},
   "source": [
    "# Featurize single-cell images"
   ]
  },
  {
   "cell_type": "markdown",
   "id": "2",
   "metadata": {},
   "source": [
    "Here, we use [scPortrait](https://github.com/MannLabs/scPortrait) to extract features that capture both morphological and intensity-based properties of individual cells:\n",
    "\n",
    "**Morphological features:**\n",
    "- Cell area (in pixels)\n",
    "\n",
    "**Intensity features for each fluorescence channel:**\n",
    "- Mean intensity\n",
    "- Median intensity\n",
    "- 25th and 75th percentile intensities\n",
    "- Total intensity\n",
    "- Intensity density (total intensity normalized by area)\n",
    "\n",
    "These comprehensive cellular profiles enable downstream machine learning analysis to identify cell types and states."
   ]
  },
  {
   "cell_type": "code",
   "execution_count": null,
   "id": "3",
   "metadata": {
    "tags": [
     "hide-output"
    ]
   },
   "outputs": [],
   "source": [
    "import lamindb as ln\n",
    "import bionty as bt\n",
    "import pandas as pd\n",
    "\n",
    "from scportrait.pipeline.featurization import CellFeaturizer\n",
    "\n",
    "ln.track()"
   ]
  },
  {
   "cell_type": "markdown",
   "id": "4",
   "metadata": {},
   "source": [
    "We will use the single-cell image datasets we generated earlier."
   ]
  },
  {
   "cell_type": "code",
   "execution_count": null,
   "id": "5",
   "metadata": {
    "tags": [
     "hide-output"
    ]
   },
   "outputs": [],
   "source": [
    "# Get single-cell images and config\n",
    "sc_datasets = (\n",
    "    ln.Artifact.using(\"scportrait/examples\")\n",
    "    .filter(ulabels__name=\"autophagy imaging\", is_latest=True)\n",
    "    .filter(ulabels__name=\"scportrait single-cell images\")\n",
    ")\n",
    "\n",
    "config = (\n",
    "    ln.Artifact.filter(ulabels__name=\"autophagy imaging\")\n",
    "    .filter(ulabels__name=\"scportrait config\")\n",
    "    .distinct()\n",
    "    .one()\n",
    ")"
   ]
  },
  {
   "cell_type": "markdown",
   "id": "6",
   "metadata": {},
   "source": [
    "Extract cellular features from `WT` cells:"
   ]
  },
  {
   "cell_type": "code",
   "execution_count": null,
   "id": "7",
   "metadata": {
    "tags": [
     "hide-output"
    ]
   },
   "outputs": [],
   "source": [
    "# Process single-cell images with scPortrait's featurizer\n",
    "featurizer = CellFeaturizer(directory=\".\", config=config.cache(), project_location=None)\n",
    "\n",
    "\n",
    "def featurize_datasets(artifact_list) -> pd.DataFrame:\n",
    "    paths = [dataset.cache() for dataset in artifact_list]\n",
    "    dataset_lookup = {idx: cell.uid for idx, cell in enumerate(artifact_list)}\n",
    "\n",
    "    results = featurizer.process(\n",
    "        dataset_paths=paths,\n",
    "        dataset_labels=list(dataset_lookup.keys()),\n",
    "        return_results=True,\n",
    "    )\n",
    "\n",
    "    # Store original dataset uid for tracking\n",
    "    results[\"dataset\"] = results[\"label\"].map(dataset_lookup)\n",
    "    return results.drop(columns=[\"label\"])\n",
    "\n",
    "\n",
    "# Get WT cells and extract features by condition\n",
    "wt_cells_afs = sc_datasets.filter(ulabels__name=\"WT\")\n",
    "class_lookup = {\"untreated\": 0, \"14h Torin-1\": 1}\n",
    "\n",
    "# Get unique conditions\n",
    "conditions = {af.features.get_values()[\"stimulation\"] for af in wt_cells_afs}\n",
    "condition_uls = [\n",
    "    ln.ULabel.using(\"scportrait/examples\").get(name=name) for name in conditions\n",
    "]\n",
    "\n",
    "# Process each condition\n",
    "features_list = []\n",
    "for condition_ul in condition_uls:\n",
    "    cells = wt_cells_afs.filter(ulabels=condition_ul)\n",
    "    results = featurize_datasets(cells)\n",
    "    results[\"class\"] = class_lookup[condition_ul.name]\n",
    "    features_list.append(results)\n",
    "\n",
    "features = pd.concat(features_list, ignore_index=True)"
   ]
  },
  {
   "cell_type": "markdown",
   "id": "8",
   "metadata": {},
   "source": [
    "Ingest the generated features to our instance:"
   ]
  },
  {
   "cell_type": "code",
   "execution_count": null,
   "id": "9",
   "metadata": {
    "tags": [
     "hide-output"
    ]
   },
   "outputs": [],
   "source": [
    "artifact = ln.Artifact.from_to_dataframe(\n",
    "    features,\n",
    "    description=\"featurized single-cell images\",\n",
    "    key=\"featurization_results/WT.parquet\",\n",
    ").save()\n",
    "\n",
    "artifact.cell_lines.add(bt.CellLine.get(name=\"U-2 OS cell\"))\n",
    "\n",
    "artifact.features.add_values(\n",
    "    {\n",
    "        \"study\": \"autophagy imaging\",\n",
    "        \"genotype\": \"WT\",\n",
    "    }\n",
    ")"
   ]
  },
  {
   "cell_type": "markdown",
   "id": "10",
   "metadata": {},
   "source": [
    "Extract features from `KO` cells using the same approach:"
   ]
  },
  {
   "cell_type": "code",
   "execution_count": null,
   "id": "11",
   "metadata": {
    "tags": [
     "hide-output"
    ]
   },
   "outputs": [],
   "source": [
    "# Process KO cells to see if they behave differently\n",
    "ko_cells_afs = sc_datasets.filter(ulabels__name=\"EI24KO\")\n",
    "\n",
    "# Get unique conditions for KO cells\n",
    "conditions = {af.features.get_values()[\"stimulation\"] for af in ko_cells_afs}\n",
    "condition_uls = [\n",
    "    ln.ULabel.using(\"scportrait/examples\").get(name=name) for name in conditions\n",
    "]\n",
    "\n",
    "# Process each condition\n",
    "features_ko_list = []\n",
    "for condition_ul in condition_uls:\n",
    "    cells = ko_cells_afs.filter(ulabels=condition_ul)\n",
    "    results = featurize_datasets(cells)\n",
    "    results[\"class\"] = class_lookup[condition_ul.name]\n",
    "    features_ko_list.append(results)\n",
    "\n",
    "features_ko = pd.concat(features_ko_list, ignore_index=True)"
   ]
  },
  {
   "cell_type": "code",
   "execution_count": null,
   "id": "12",
   "metadata": {
    "tags": [
     "hide-output"
    ]
   },
   "outputs": [],
   "source": [
    "artifact = ln.Artifact.from_to_dataframe(\n",
    "    features_ko,\n",
    "    description=\"featurized single-cell images\",\n",
    "    key=\"featurization_results/EI24KO.parquet\",\n",
    ").save()\n",
    "\n",
    "artifact.cell_lines.add(bt.CellLine.filter(name=\"U-2 OS cell\").one())\n",
    "\n",
    "artifact.features.add_values(\n",
    "    {\n",
    "        \"study\": \"autophagy imaging\",\n",
    "        \"genotype\": \"EI24KO\",\n",
    "    }\n",
    ")"
   ]
  },
  {
   "cell_type": "code",
   "execution_count": null,
   "id": "13",
   "metadata": {},
   "outputs": [],
   "source": [
    "ln.finish()"
   ]
  }
 ],
 "metadata": {
  "jupytext": {
   "cell_metadata_filter": "-all",
   "main_language": "python",
   "notebook_metadata_filter": "-all"
  },
  "kernelspec": {
   "display_name": "py312",
   "language": "python",
   "name": "python3"
  },
  "language_info": {
   "codemirror_mode": {
    "name": "ipython",
    "version": 3
   },
   "file_extension": ".py",
   "mimetype": "text/x-python",
   "name": "python",
   "nbconvert_exporter": "python",
   "pygments_lexer": "ipython3",
   "version": "3.12.8"
  }
 },
 "nbformat": 4,
 "nbformat_minor": 5
}
