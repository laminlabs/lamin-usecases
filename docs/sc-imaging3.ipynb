{
 "cells": [
  {
   "cell_type": "markdown",
   "id": "0",
   "metadata": {},
   "source": [
    "![imaging3/4](https://img.shields.io/badge/imaging3/4-lightgrey)\n",
    "[![Jupyter Notebook](https://img.shields.io/badge/Source%20on%20GitHub-orange)](https://github.com/laminlabs/lamin-usecases/blob/main/docs/imaging3.ipynb)"
   ]
  },
  {
   "cell_type": "markdown",
   "id": "1",
   "metadata": {},
   "source": [
    "# Featurize single-cell images"
   ]
  },
  {
   "cell_type": "markdown",
   "id": "2",
   "metadata": {},
   "source": [
    "Here, we use [scPortrait](https://github.com/MannLabs/scPortrait) to extract cell features that characterize both morphological and intensity-based properties of individual cells:\n",
    "\n",
    "- Area of the masks in pixels\n",
    "- Mean intensity of the chosen channel in the regions labelled by each of the masks\n",
    "- Median intensity of the chosen channel in the regions labelled by each of the masks\n",
    "- 75% quantile of the chosen channel in the regions labelled by each of the masks  \n",
    "- 25% quantile of the chosen channel in the regions labelled by each of the masks\n",
    "- Summed intensity of the chosen channel in the regions labelled by each of the masks\n",
    "- Summed intensity of the chosen channel in the region labelled by each of the masks normalized for area\n",
    "\n",
    "These features provide a comprehensive profile for later training of machine learning models to identify cell types and states."
   ]
  },
  {
   "cell_type": "code",
   "execution_count": null,
   "id": "3",
   "metadata": {
    "tags": [
     "hide-output"
    ]
   },
   "outputs": [],
   "source": [
    "import lamindb as ln\n",
    "import bionty as bt\n",
    "import pandas as pd\n",
    "\n",
    "from scportrait.pipeline.featurization import CellFeaturizer\n",
    "\n",
    "ln.track()"
   ]
  },
  {
   "cell_type": "markdown",
   "id": "4",
   "metadata": {},
   "source": [
    "We will generate these features on the basis of the previously generated single-cell image datasets."
   ]
  },
  {
   "cell_type": "code",
   "execution_count": null,
   "id": "5",
   "metadata": {
    "tags": [
     "hide-output"
    ]
   },
   "outputs": [],
   "source": [
    "# Get single-cell images and config\n",
    "sc_datasets = (\n",
    "    ln.Artifact.using(\"scportrait/examples\")\n",
    "    .filter(ulabels__name=\"autophagy imaging\", is_latest=True)\n",
    "    .filter(ulabels__name=\"scportrait single-cell images\")\n",
    ")\n",
    "config = (\n",
    "    ln.Artifact.filter(ulabels__name=\"autophagy imaging\")\n",
    "    .filter(ulabels__name=\"scportrait config\")\n",
    "    .distinct()\n",
    "    .one()\n",
    ")"
   ]
  },
  {
   "cell_type": "code",
   "execution_count": null,
   "id": "6",
   "metadata": {
    "tags": [
     "hide-output"
    ]
   },
   "outputs": [],
   "source": [
    "# Process single-cell images with scPortrait's featurizer\n",
    "featurizer = CellFeaturizer(directory=\".\", config=config.cache(), project_location=None)\n",
    "\n",
    "\n",
    "def featurize_datasets(artifact_list) -> pd.DataFrame:\n",
    "    paths = [dataset.cache() for dataset in artifact_list]\n",
    "    dataset_lookup = {idx: cell.uid for idx, cell in enumerate(artifact_list)}\n",
    "    labels = list(dataset_lookup.keys())\n",
    "    results = featurizer.process(\n",
    "        dataset_paths=paths, dataset_labels=labels, return_results=True\n",
    "    )\n",
    "\n",
    "    # ensure we store the original dataset uid to be able to track featurization results back to their original dataset\n",
    "    results[\"dataset\"] = results[\"label\"].map(dataset_lookup)\n",
    "    del results[\"label\"]\n",
    "    return results\n",
    "\n",
    "\n",
    "# Train on wildtype (WT) cells\n",
    "wt_cells_afs = sc_datasets.filter(ulabels__name=\"WT\")\n",
    "\n",
    "# we have two different conditions which will be the two classes that our classifier should be able to tell apart\n",
    "condition_uls = [\n",
    "    ln.ULabel.using(\"scportrait/examples\").get(name=stim_name)\n",
    "    for stim_name in {af.features.get_values()[\"stimulation\"] for af in wt_cells_afs}\n",
    "]\n",
    "\n",
    "# map condition names to class labels\n",
    "class_lookup = {\"untreated\": 0, \"14h Torin-1\": 1}\n",
    "\n",
    "features = None\n",
    "for _, condition_ul in enumerate(condition_uls):\n",
    "    cells = wt_cells_afs.filter(ulabels=condition_ul)\n",
    "    results = featurize_datasets(cells)\n",
    "\n",
    "    # save condition as a class label\n",
    "    results[\"class\"] = class_lookup[condition_ul.name]\n",
    "\n",
    "    # concatenate results together\n",
    "    if features is None:\n",
    "        features = results\n",
    "    else:\n",
    "        features = pd.concat([features, results])"
   ]
  },
  {
   "cell_type": "markdown",
   "id": "7",
   "metadata": {},
   "source": [
    "Ingest the generated features to our instance:"
   ]
  },
  {
   "cell_type": "code",
   "execution_count": null,
   "id": "8",
   "metadata": {
    "tags": [
     "hide-output"
    ]
   },
   "outputs": [],
   "source": [
    "artifact = ln.Artifact.from_df(\n",
    "    features,\n",
    "    description=\"featurized single-cell images\",\n",
    "    key=\"featurization_results/WT.parquet\",\n",
    ").save()\n",
    "artifact.cell_lines.add(bt.CellLine.get(name=\"U2OS\"))\n",
    "\n",
    "artifact.features.add_values(\n",
    "    {\n",
    "        \"study\": \"autophagy imaging\",\n",
    "        \"genotype\": \"WT\",\n",
    "    }\n",
    ")"
   ]
  },
  {
   "cell_type": "markdown",
   "id": "9",
   "metadata": {},
   "source": [
    "Repeat this process for KO cells:"
   ]
  },
  {
   "cell_type": "code",
   "execution_count": null,
   "id": "10",
   "metadata": {
    "tags": [
     "hide-output"
    ]
   },
   "outputs": [],
   "source": [
    "# Process KO cells to see if they behave differently\n",
    "ko_cells_afs = sc_datasets.filter(ulabels__name=\"EI24KO\")\n",
    "\n",
    "# we have the same two conditions as before\n",
    "condition_uls = [\n",
    "    ln.ULabel.using(\"scportrait/examples\").get(name=stimulation_name)\n",
    "    for stimulation_name in {\n",
    "        af.features.get_values()[\"stimulation\"] for af in ko_cells_afs\n",
    "    }\n",
    "]\n",
    "\n",
    "features_ko = None\n",
    "for _, condition_ul in enumerate(condition_uls):\n",
    "    cells = ko_cells_afs.filter(ulabels=condition_ul)\n",
    "    results = featurize_datasets(cells)\n",
    "\n",
    "    # save condition as a class label\n",
    "    results[\"class\"] = class_lookup[condition_ul.name]\n",
    "\n",
    "    if features_ko is None:\n",
    "        features_ko = results\n",
    "    else:\n",
    "        features_ko = pd.concat([features_ko, results])"
   ]
  },
  {
   "cell_type": "code",
   "execution_count": null,
   "id": "11",
   "metadata": {
    "tags": [
     "hide-output"
    ]
   },
   "outputs": [],
   "source": [
    "artifact = ln.Artifact.from_df(\n",
    "    features_ko,\n",
    "    description=\"featurized single-cell images\",\n",
    "    key=\"featurization_results/EI24KO.parquet\",\n",
    ").save()\n",
    "artifact.cell_lines.add(bt.CellLine.filter(name=\"U2OS\").one())\n",
    "\n",
    "# annotate with required metadata\n",
    "artifact.features.add_values(\n",
    "    {\n",
    "        \"study\": \"autophagy imaging\",\n",
    "        \"genotype\": \"EI24KO\",\n",
    "    }\n",
    ")"
   ]
  },
  {
   "cell_type": "code",
   "execution_count": null,
   "id": "12",
   "metadata": {},
   "outputs": [],
   "source": [
    "ln.finish()"
   ]
  }
 ],
 "metadata": {
  "jupytext": {
   "cell_metadata_filter": "-all",
   "main_language": "python",
   "notebook_metadata_filter": "-all"
  },
  "kernelspec": {
   "display_name": "py312",
   "language": "python",
   "name": "python3"
  },
  "language_info": {
   "codemirror_mode": {
    "name": "ipython",
    "version": 3
   },
   "file_extension": ".py",
   "mimetype": "text/x-python",
   "name": "python",
   "nbconvert_exporter": "python",
   "pygments_lexer": "ipython3",
   "version": "3.12.8"
  }
 },
 "nbformat": 4,
 "nbformat_minor": 5
}
