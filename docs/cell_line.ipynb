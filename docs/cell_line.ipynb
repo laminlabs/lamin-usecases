{
 "cells": [
  {
   "cell_type": "markdown",
   "id": "0429482f",
   "metadata": {},
   "source": [
    "# CellLine"
   ]
  },
  {
   "cell_type": "markdown",
   "id": "07897a4e",
   "metadata": {},
   "source": [
    "lamindb provides access to the following public protein ontologies through [lnschema-bionty](https://github.com/laminlabs/lnschema-bionty):\n",
    "\n",
    "1. [Cell Line Ontology](https://github.com/CLO-ontology/CLO)\n",
    "\n",
    "Here we show how to access and search CellLine ontologies to standardize new data."
   ]
  },
  {
   "cell_type": "markdown",
   "id": "8a5b2986",
   "metadata": {},
   "source": [
    "## Setup"
   ]
  },
  {
   "cell_type": "code",
   "execution_count": null,
   "id": "bc4ae8bc",
   "metadata": {},
   "outputs": [],
   "source": [
    "!lamin init --storage ./test-cellline --schema bionty"
   ]
  },
  {
   "cell_type": "code",
   "execution_count": null,
   "id": "6dddf69c",
   "metadata": {},
   "outputs": [],
   "source": [
    "import lnschema_bionty as lb\n",
    "import pandas as pd"
   ]
  },
  {
   "cell_type": "markdown",
   "id": "72d4cad5",
   "metadata": {},
   "source": [
    "## PublicOntology objects"
   ]
  },
  {
   "cell_type": "markdown",
   "id": "055db193",
   "metadata": {},
   "source": [
    "Let us create a public ontology accessor with {meth}`~docs:lnschema_bionty.dev.BioRegistry.public`, which chooses a default public ontology source from {class}`~docs:lnschema_bionty.PublicSource`.\n",
    "It's a [PublicOntology](https://lamin.ai/docs/lnschema_bionty.dev.publicontology) object, which you can think about as a public registry:"
   ]
  },
  {
   "cell_type": "code",
   "execution_count": null,
   "id": "51ec6523",
   "metadata": {},
   "outputs": [],
   "source": [
    "celllines = lb.CellLine.public(organism=\"all\")\n",
    "celllines"
   ]
  },
  {
   "cell_type": "markdown",
   "id": "2be35047",
   "metadata": {},
   "source": [
    "As for registries, you can export the ontology as a `DataFrame`:"
   ]
  },
  {
   "cell_type": "code",
   "execution_count": null,
   "id": "82e84a18",
   "metadata": {},
   "outputs": [],
   "source": [
    "df = celllines.df()\n",
    "df.head()"
   ]
  },
  {
   "cell_type": "markdown",
   "id": "ecb08441",
   "metadata": {},
   "source": [
    "Unlike registries, you can also export it as a Pronto object via `public.ontology`."
   ]
  },
  {
   "cell_type": "markdown",
   "id": "bcb0cc0f",
   "metadata": {},
   "source": [
    "## Look up terms"
   ]
  },
  {
   "cell_type": "markdown",
   "id": "68bd90e1",
   "metadata": {},
   "source": [
    "As for registries, terms can be looked up with auto-complete:"
   ]
  },
  {
   "cell_type": "code",
   "execution_count": null,
   "id": "f441439c",
   "metadata": {},
   "outputs": [],
   "source": [
    "lookup = celllines.lookup()"
   ]
  },
  {
   "cell_type": "markdown",
   "id": "4ef88467",
   "metadata": {},
   "source": [
    "The `.` accessor provides normalized terms (lower case, only contains alphanumeric characters and underscores):"
   ]
  },
  {
   "cell_type": "code",
   "execution_count": null,
   "id": "c0d845b0",
   "metadata": {},
   "outputs": [],
   "source": [
    "lookup.hek293"
   ]
  },
  {
   "cell_type": "markdown",
   "id": "a0545294",
   "metadata": {},
   "source": [
    "To look up the exact original strings, convert the lookup object to dict and use the `[]` accessor:"
   ]
  },
  {
   "cell_type": "code",
   "execution_count": null,
   "id": "96849a51",
   "metadata": {},
   "outputs": [],
   "source": [
    "lookup_dict = lookup.dict()\n",
    "lookup_dict[\"HEK293\"]"
   ]
  },
  {
   "cell_type": "markdown",
   "id": "ce61eec0",
   "metadata": {},
   "source": [
    "By default, the `name` field is used to generate lookup keys. You can specify another field to look up:"
   ]
  },
  {
   "cell_type": "code",
   "execution_count": null,
   "id": "32a7c656",
   "metadata": {},
   "outputs": [],
   "source": [
    "lookup = celllines.lookup(celllines.ontology_id)"
   ]
  },
  {
   "cell_type": "code",
   "execution_count": null,
   "id": "53f30167",
   "metadata": {},
   "outputs": [],
   "source": [
    "lookup.clo_0000469"
   ]
  },
  {
   "cell_type": "markdown",
   "id": "f1758bcd",
   "metadata": {},
   "source": [
    "## Search terms"
   ]
  },
  {
   "cell_type": "markdown",
   "id": "b1068168",
   "metadata": {},
   "source": [
    "Search behaves in the same way as it does for registries:"
   ]
  },
  {
   "cell_type": "code",
   "execution_count": null,
   "id": "e7deb2ec",
   "metadata": {},
   "outputs": [],
   "source": [
    "celllines.search(\"hek293\").head(3)"
   ]
  },
  {
   "cell_type": "markdown",
   "id": "61c01041",
   "metadata": {},
   "source": [
    "By default, search also covers synonyms:"
   ]
  },
  {
   "cell_type": "code",
   "execution_count": null,
   "id": "dcadfff5",
   "metadata": {},
   "outputs": [],
   "source": [
    "celllines.search(\"Human Embryonic Kidney 293\").head(3)"
   ]
  },
  {
   "cell_type": "markdown",
   "id": "e9a877db",
   "metadata": {},
   "source": [
    "You can turn this off synonym by passing `synonyms_field=None`:"
   ]
  },
  {
   "cell_type": "code",
   "execution_count": null,
   "id": "79183fcc",
   "metadata": {},
   "outputs": [],
   "source": [
    "celllines.search(\"Human Embryonic Kidney 293\", synonyms_field=None).head(3)"
   ]
  },
  {
   "cell_type": "markdown",
   "id": "1e6cf7a0",
   "metadata": {},
   "source": [
    "Search another field (default is `.name`):"
   ]
  },
  {
   "cell_type": "code",
   "execution_count": null,
   "id": "44e3ca90",
   "metadata": {},
   "outputs": [],
   "source": [
    "celllines.search(\n",
    "    \"suspension cell line\",\n",
    "    field=celllines.definition,\n",
    ").head()"
   ]
  },
  {
   "cell_type": "markdown",
   "id": "e8c2252f",
   "metadata": {},
   "source": [
    "## Standardize CellLine identifiers"
   ]
  },
  {
   "cell_type": "markdown",
   "id": "57d7b19a",
   "metadata": {},
   "source": [
    "Let us generate a `DataFrame` that stores a number of CellLine identifiers, some of which corrupted:"
   ]
  },
  {
   "cell_type": "code",
   "execution_count": null,
   "id": "cb38d992",
   "metadata": {},
   "outputs": [],
   "source": [
    "df_orig = pd.DataFrame(\n",
    "    index=[\n",
    "        \"253D cell\"\n",
    "        \"HEK293\"\n",
    "        \"2C1H7 cell\"\n",
    "        \"283TAg cell\"\n",
    "        \"This cellline does not exist\",\n",
    "    ]\n",
    ")\n",
    "df_orig"
   ]
  },
  {
   "cell_type": "markdown",
   "id": "d8694e9b",
   "metadata": {},
   "source": [
    "We can check whether any of our values are validated against the ontology reference:"
   ]
  },
  {
   "cell_type": "code",
   "execution_count": null,
   "id": "8c8681e3",
   "metadata": {},
   "outputs": [],
   "source": [
    "validated = celllines.validate(df_orig.index, celllines.name)\n",
    "df_orig.index[~validated]"
   ]
  },
  {
   "cell_type": "markdown",
   "id": "5082603f",
   "metadata": {},
   "source": [
    "## Ontology source versions"
   ]
  },
  {
   "cell_type": "markdown",
   "id": "912f9f8d",
   "metadata": {},
   "source": [
    "For any given entity, we can choose from a number of versions:"
   ]
  },
  {
   "cell_type": "code",
   "execution_count": null,
   "id": "7f57a65c",
   "metadata": {},
   "outputs": [],
   "source": [
    "lb.PublicSource.filter(entity=\"CellLine\").df()"
   ]
  },
  {
   "cell_type": "markdown",
   "id": "9baf7d6d",
   "metadata": {},
   "source": [
    "When instantiating a Bionty object, we can choose a source or version:"
   ]
  },
  {
   "cell_type": "code",
   "execution_count": null,
   "id": "2f16e761",
   "metadata": {
    "lines_to_next_cell": 0
   },
   "outputs": [],
   "source": [
    "public_source = lb.PublicSource.filter(\n",
    "    source=\"clo\", version=\"2022-03-21\", organism=\"all\"\n",
    ").one()\n",
    "celllines= lb.CellLine.public(public_source=public_source)\n",
    "celllines"
   ]
  },
  {
   "cell_type": "markdown",
   "id": "36c502bc",
   "metadata": {},
   "source": [
    "The currently used ontologies can be displayed using:"
   ]
  },
  {
   "cell_type": "code",
   "execution_count": null,
   "id": "51b4c66a",
   "metadata": {
    "tags": [
     "hide-output"
    ]
   },
   "outputs": [],
   "source": [
    "lb.PublicSource.filter(currently_used=True).df()"
   ]
  },
  {
   "cell_type": "code",
   "execution_count": null,
   "id": "78ca17ab",
   "metadata": {
    "tags": [
     "hide-cell"
    ]
   },
   "outputs": [],
   "source": [
    "!lamin delete --force test-cellline\n",
    "!rm -r test-cellline"
   ]
  }
 ],
 "metadata": {
  "kernelspec": {
   "display_name": "lamindb",
   "language": "python",
   "name": "python3"
  }
 },
 "nbformat": 4,
 "nbformat_minor": 5
}
