{
 "cells": [
  {
   "cell_type": "markdown",
   "id": "70135d7c",
   "metadata": {},
   "source": [
    "# CellLine"
   ]
  },
  {
   "cell_type": "markdown",
   "id": "eee3f7c6",
   "metadata": {},
   "source": [
    "lamindb provides access to the following public protein ontologies through [bionty](https://lamin.ai/docs/bionty):\n",
    "\n",
    "1. [Cell Line Ontology](https://github.com/CLO-ontology/CLO)\n",
    "\n",
    "Here we show how to access and search CellLine ontologies to standardize new data."
   ]
  },
  {
   "cell_type": "code",
   "execution_count": null,
   "id": "a5e2727c",
   "metadata": {},
   "outputs": [],
   "source": [
    "import bionty as bt\n",
    "import pandas as pd"
   ]
  },
  {
   "cell_type": "markdown",
   "id": "a6552410",
   "metadata": {},
   "source": [
    "## PublicOntology objects"
   ]
  },
  {
   "cell_type": "markdown",
   "id": "b912e6ac",
   "metadata": {},
   "source": [
    "Let us create a public ontology accessor with `.public` method, which chooses a default public ontology source from {class}`~docs:bionty.PublicSource`.\n",
    "It's a [PublicOntology](https://lamin.ai/docs/bionty.dev.publicontology) object, which you can think about as a public registry:"
   ]
  },
  {
   "cell_type": "code",
   "execution_count": null,
   "id": "4bc7b8e2",
   "metadata": {},
   "outputs": [],
   "source": [
    "celllines = bt.CellLine.public(organism=\"all\")\n",
    "celllines"
   ]
  },
  {
   "cell_type": "markdown",
   "id": "e7353f9e",
   "metadata": {},
   "source": [
    "As for registries, you can export the ontology as a `DataFrame`:"
   ]
  },
  {
   "cell_type": "code",
   "execution_count": null,
   "id": "c256e1b8",
   "metadata": {},
   "outputs": [],
   "source": [
    "df = celllines.df()\n",
    "df.head()"
   ]
  },
  {
   "cell_type": "markdown",
   "id": "6ff9ebba",
   "metadata": {},
   "source": [
    "Unlike registries, you can also export it as a Pronto object via `public.ontology`."
   ]
  },
  {
   "cell_type": "markdown",
   "id": "9f9793e3",
   "metadata": {},
   "source": [
    "## Look up terms"
   ]
  },
  {
   "cell_type": "markdown",
   "id": "91f1654c",
   "metadata": {},
   "source": [
    "As for registries, terms can be looked up with auto-complete:"
   ]
  },
  {
   "cell_type": "code",
   "execution_count": null,
   "id": "be2990d4",
   "metadata": {},
   "outputs": [],
   "source": [
    "lookup = celllines.lookup()"
   ]
  },
  {
   "cell_type": "markdown",
   "id": "589c9b8d",
   "metadata": {},
   "source": [
    "The `.` accessor provides normalized terms (lower case, only contains alphanumeric characters and underscores):"
   ]
  },
  {
   "cell_type": "code",
   "execution_count": null,
   "id": "29d437ed",
   "metadata": {},
   "outputs": [],
   "source": [
    "lookup.hek293"
   ]
  },
  {
   "cell_type": "markdown",
   "id": "47433505",
   "metadata": {},
   "source": [
    "To look up the exact original strings, convert the lookup object to dict and use the `[]` accessor:"
   ]
  },
  {
   "cell_type": "code",
   "execution_count": null,
   "id": "3694a0b2",
   "metadata": {},
   "outputs": [],
   "source": [
    "lookup_dict = lookup.dict()\n",
    "lookup_dict[\"HEK293\"]"
   ]
  },
  {
   "cell_type": "markdown",
   "id": "0510a23c",
   "metadata": {},
   "source": [
    "By default, the `name` field is used to generate lookup keys. You can specify another field to look up:"
   ]
  },
  {
   "cell_type": "code",
   "execution_count": null,
   "id": "7615c9a8",
   "metadata": {},
   "outputs": [],
   "source": [
    "lookup = celllines.lookup(celllines.ontology_id)"
   ]
  },
  {
   "cell_type": "code",
   "execution_count": null,
   "id": "f0cc6a42",
   "metadata": {},
   "outputs": [],
   "source": [
    "lookup.clo_0000469"
   ]
  },
  {
   "cell_type": "markdown",
   "id": "d813902f",
   "metadata": {},
   "source": [
    "## Search terms"
   ]
  },
  {
   "cell_type": "markdown",
   "id": "5a4a3395",
   "metadata": {},
   "source": [
    "Search behaves in the same way as it does for registries:"
   ]
  },
  {
   "cell_type": "code",
   "execution_count": null,
   "id": "b17c0f3a",
   "metadata": {},
   "outputs": [],
   "source": [
    "celllines.search(\"hek293\").head(3)"
   ]
  },
  {
   "cell_type": "markdown",
   "id": "0ea360f7",
   "metadata": {},
   "source": [
    "By default, search also covers synonyms:"
   ]
  },
  {
   "cell_type": "code",
   "execution_count": null,
   "id": "6b47598f",
   "metadata": {},
   "outputs": [],
   "source": [
    "celllines.search(\"Human Embryonic Kidney 293\").head(3)"
   ]
  },
  {
   "cell_type": "markdown",
   "id": "c29f5292",
   "metadata": {},
   "source": [
    "You can turn this off synonym by passing `synonyms_field=None`:"
   ]
  },
  {
   "cell_type": "code",
   "execution_count": null,
   "id": "8eee99ee",
   "metadata": {},
   "outputs": [],
   "source": [
    "celllines.search(\"Human Embryonic Kidney 293\", synonyms_field=None).head(3)"
   ]
  },
  {
   "cell_type": "markdown",
   "id": "d96cee04",
   "metadata": {},
   "source": [
    "Search another field (default is `.name`):"
   ]
  },
  {
   "cell_type": "code",
   "execution_count": null,
   "id": "ac624c8e",
   "metadata": {},
   "outputs": [],
   "source": [
    "celllines.search(\n",
    "    \"suspension cell line\",\n",
    "    field=celllines.definition,\n",
    ").head()"
   ]
  },
  {
   "cell_type": "markdown",
   "id": "c30612ac",
   "metadata": {},
   "source": [
    "## Standardize CellLine identifiers"
   ]
  },
  {
   "cell_type": "markdown",
   "id": "a62e0a3d",
   "metadata": {},
   "source": [
    "Let us generate a `DataFrame` that stores a number of CellLine identifiers, some of which corrupted:"
   ]
  },
  {
   "cell_type": "code",
   "execution_count": null,
   "id": "64a02672",
   "metadata": {},
   "outputs": [],
   "source": [
    "df_orig = pd.DataFrame(\n",
    "    index=[\n",
    "        \"253D cell\",\n",
    "        \"HEK293\",\n",
    "        \"2C1H7 cell\",\n",
    "        \"283TAg cell\",\n",
    "        \"This cellline does not exist\",\n",
    "    ]\n",
    ")\n",
    "df_orig"
   ]
  },
  {
   "cell_type": "markdown",
   "id": "d526e485",
   "metadata": {},
   "source": [
    "We can check whether any of our values are validated against the ontology reference:"
   ]
  },
  {
   "cell_type": "code",
   "execution_count": null,
   "id": "2387c3a2",
   "metadata": {},
   "outputs": [],
   "source": [
    "validated = celllines.validate(df_orig.index, celllines.name)\n",
    "df_orig.index[~validated]"
   ]
  },
  {
   "cell_type": "markdown",
   "id": "913a9e5e",
   "metadata": {},
   "source": [
    "## Ontology source versions"
   ]
  },
  {
   "cell_type": "markdown",
   "id": "1ca101cf",
   "metadata": {},
   "source": [
    "For any given entity, we can choose from a number of versions:"
   ]
  },
  {
   "cell_type": "code",
   "execution_count": null,
   "id": "6c8d5563",
   "metadata": {},
   "outputs": [],
   "source": [
    "bt.PublicSource.filter(entity=\"CellLine\").df()"
   ]
  },
  {
   "cell_type": "markdown",
   "id": "d9d73310",
   "metadata": {},
   "source": [
    "When instantiating a Bionty object, we can choose a source or version:"
   ]
  },
  {
   "cell_type": "code",
   "execution_count": null,
   "id": "09367aa8",
   "metadata": {
    "lines_to_next_cell": 0
   },
   "outputs": [],
   "source": [
    "public_source = bt.PublicSource.filter(\n",
    "    source=\"clo\", version=\"2022-03-21\", organism=\"all\"\n",
    ").one()\n",
    "celllines= bt.CellLine.public(public_source=public_source)\n",
    "celllines"
   ]
  },
  {
   "cell_type": "markdown",
   "id": "753cd731",
   "metadata": {},
   "source": [
    "The currently used ontologies can be displayed using:"
   ]
  },
  {
   "cell_type": "code",
   "execution_count": null,
   "id": "391c3f63",
   "metadata": {
    "tags": [
     "hide-output"
    ]
   },
   "outputs": [],
   "source": [
    "bt.PublicSource.filter(currently_used=True).df()"
   ]
  }
 ],
 "metadata": {
  "kernelspec": {
   "display_name": "lamindb",
   "language": "python",
   "name": "python3"
  }
 },
 "nbformat": 4,
 "nbformat_minor": 5
}
