{
 "cells": [
  {
   "cell_type": "markdown",
   "metadata": {},
   "source": [
    "# McFarland 2020 dataset preprocessing for perturbation use case"
   ]
  },
  {
   "cell_type": "markdown",
   "metadata": {},
   "source": [
    "This notebook prepares the [McFarland et al. 2020](https://www.nature.com/articles/s41467-020-17440-w) dataset for the perturbation use case."
   ]
  },
  {
   "cell_type": "code",
   "execution_count": null,
   "metadata": {},
   "outputs": [],
   "source": [
    "!lamin load laminlabs/lamindata"
   ]
  },
  {
   "cell_type": "code",
   "execution_count": null,
   "metadata": {},
   "outputs": [],
   "source": [
    "import lamindb as ln\n",
    "import bionty as bt\n",
    "import scanpy as sc\n",
    "import anndata as ad\n",
    "import numpy as np\n",
    "\n",
    "ln.context.uid = \"13VINnFk89PE0003\"\n",
    "ln.context.track()"
   ]
  },
  {
   "cell_type": "code",
   "execution_count": null,
   "metadata": {},
   "outputs": [],
   "source": [
    "!wget -nc https://zenodo.org/record/7041849/files/McFarlandTsherniak2020.h5ad"
   ]
  },
  {
   "cell_type": "code",
   "execution_count": null,
   "metadata": {},
   "outputs": [],
   "source": [
    "adata = ad.read_h5ad(\"McFarlandTsherniak2020.h5ad\")"
   ]
  },
  {
   "cell_type": "code",
   "execution_count": null,
   "metadata": {},
   "outputs": [],
   "source": [
    "sc.pp.subsample(adata, n_obs=1000)\n",
    "adata = adata[:, np.random.choice(adata.var_names, size=2000, replace=False)]"
   ]
  },
  {
   "cell_type": "code",
   "execution_count": null,
   "metadata": {},
   "outputs": [],
   "source": [
    "categoricals = {\n",
    "    \"DepMap_ID\": bt.CellLine.ontology_id,\n",
    "    \"cell_line\": bt.CellLine.name,\n",
    "    \"disease\": bt.Disease.name,\n",
    "    \"organism\": bt.Organism.name,\n",
    "    \"perturbation_type\": ln.ULabel.name,\n",
    "    \"sex\": bt.Phenotype.name,\n",
    "    \"time\": ln.ULabel.name,\n",
    "    \"tissue_type\": ln.ULabel.name,\n",
    "}\n",
    "sources = {\n",
    "    \"var_index\": bt.Source.filter(entity=\"bionty.Gene\", version=\"release-112\", organism=\"human\").one(),\n",
    "    \"DepMap_ID\": bt.Source.filter(name=\"depmap\").one(),\n",
    "    \"cell_line\": bt.Source.filter(name=\"depmap\").one(),\n",
    "}\n",
    "\n",
    "curate = ln.Curator.from_anndata(\n",
    "    adata,\n",
    "    var_index=bt.Gene.ensembl_gene_id,\n",
    "    categoricals=categoricals,\n",
    "    organism=\"human\",\n",
    "    sources=sources,\n",
    ")\n",
    "\n",
    "curate.validate()"
   ]
  },
  {
   "cell_type": "code",
   "execution_count": null,
   "metadata": {},
   "outputs": [],
   "source": [
    "# Map mix of ensembl IDs and gene symbols in the var_index to ensembl IDs\n",
    "gene_mapper = bt.Gene.standardize(\n",
    "    adata.var_names,\n",
    "    field=\"symbol\",\n",
    "    return_field=\"ensembl_gene_id\",\n",
    "    return_mapper=True,\n",
    "    organism=\"human\",\n",
    ")\n",
    "gene_mapper = {k: v for k, v in gene_mapper.items() if v is not None}\n",
    "adata.var.index = adata.var.index.map(lambda x: gene_mapper.get(x, x))"
   ]
  },
  {
   "cell_type": "code",
   "execution_count": null,
   "metadata": {},
   "outputs": [],
   "source": [
    "curate = ln.Curator.from_anndata(\n",
    "    adata,\n",
    "    var_index=bt.Gene.ensembl_gene_id,\n",
    "    organism=\"human\",\n",
    "    sources={\"var_index\": bt.Source.filter(entity=\"bionty.Gene\", version=\"release-112\", organism=\"human\").one()}\n",
    ")\n",
    "\n",
    "curate.validate()"
   ]
  },
  {
   "cell_type": "code",
   "execution_count": null,
   "metadata": {},
   "outputs": [],
   "source": [
    "# Anything that's still left after mapping is not a valid gene that we want to keep\n",
    "adata = adata[:, ~adata.var.index.isin(curate.non_validated[\"var_index\"])].copy()\n",
    "adata.var_names = adata.var['ensembl_id']"
   ]
  },
  {
   "cell_type": "code",
   "execution_count": null,
   "metadata": {},
   "outputs": [],
   "source": [
    "adata.obs[\"disease\"] = adata.obs[\"disease\"].cat.rename_categories(\n",
    "    {\n",
    "        \"colon/colorectal cancer\": \"colorectal cancer\",\n",
    "        \"rhabdoid\": \"rhabdoid tumor\",\n",
    "        \"bladder cancer\": \"urinary bladder carcinoma\",\n",
    "        \"endometrial/uterine cancer\": \"uterine corpus cancer\",\n",
    "    }\n",
    ")\n",
    "\n",
    "adata.obs[\"cell_line\"] = bt.CellLine.public(\n",
    "    source=bt.Source.filter(name=\"depmap\").one()\n",
    ").standardize(adata.obs[\"cell_line\"], field=\"name\")\n",
    "\n",
    "adata.obs[\"cell_line\"] = adata.obs[\"cell_line\"].astype('category')\n",
    "\n",
    "adata.obs[\"perturbation\"] = adata.obs[\"perturbation\"].cat.rename_categories(\n",
    "    lambda category: category.lower()\n",
    ")\n",
    "\n",
    "adata.obs = adata.obs.rename(columns={\"DepMap_ID\": \"depmap_id\"})\n",
    "\n",
    "adata.obs = adata.obs.drop(columns=\"percent.mito\")"
   ]
  },
  {
   "cell_type": "code",
   "execution_count": null,
   "metadata": {},
   "outputs": [],
   "source": [
    "curate = ln.Curator.from_anndata(\n",
    "    adata,\n",
    "    var_index=bt.Gene.ensembl_gene_id,\n",
    "    organism=\"human\",\n",
    "    sources={\"var_index\": bt.Source.filter(entity=\"bionty.Gene\", version=\"release-112\", organism=\"human\").one()}\n",
    ")\n",
    "\n",
    "curate.validate()"
   ]
  },
  {
   "cell_type": "code",
   "execution_count": null,
   "metadata": {},
   "outputs": [],
   "source": [
    "adata = adata[:, ~adata.var.index.isin(curate.non_validated[\"var_index\"])].copy()\n",
    "adata.var_names = adata.var['ensembl_id']"
   ]
  },
  {
   "cell_type": "code",
   "execution_count": null,
   "metadata": {},
   "outputs": [],
   "source": [
    "curate = ln.Curator.from_anndata(\n",
    "    adata,\n",
    "    var_index=bt.Gene.ensembl_gene_id,\n",
    "    organism=\"human\",\n",
    "    sources={\"var_index\": bt.Source.filter(entity=\"bionty.Gene\", version=\"release-112\", organism=\"human\").one()}\n",
    ")\n",
    "\n",
    "curate.validate()"
   ]
  },
  {
   "cell_type": "code",
   "execution_count": null,
   "metadata": {},
   "outputs": [],
   "source": [
    "mcfarland_af = ln.Artifact.from_anndata(adata, description=\"McFarland 2020 preprocessed\").save()"
   ]
  },
  {
   "cell_type": "code",
   "execution_count": null,
   "metadata": {},
   "outputs": [],
   "source": [
    "ln.context.finish()"
   ]
  }
 ],
 "metadata": {
  "kernelspec": {
   "display_name": "lamindb",
   "language": "python",
   "name": "python3"
  },
  "language_info": {
   "codemirror_mode": {
    "name": "ipython",
    "version": 3
   },
   "file_extension": ".py",
   "mimetype": "text/x-python",
   "name": "python",
   "nbconvert_exporter": "python",
   "pygments_lexer": "ipython3",
   "version": "3.11.7"
  }
 },
 "nbformat": 4,
 "nbformat_minor": 2
}
